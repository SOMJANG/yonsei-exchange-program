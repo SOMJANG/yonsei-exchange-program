{
 "metadata": {
  "language_info": {
   "codemirror_mode": {
    "name": "ipython",
    "version": 3
   },
   "file_extension": ".py",
   "mimetype": "text/x-python",
   "name": "python",
   "nbconvert_exporter": "python",
   "pygments_lexer": "ipython3",
   "version": "3.8.3-final"
  },
  "orig_nbformat": 2,
  "kernelspec": {
   "name": "python38364bitnlpkorvenv03d7b81388604b8b8d7aed95a2d6b41b",
   "display_name": "Python 3.8.3 64-bit ('nlpkor': venv)"
  }
 },
 "nbformat": 4,
 "nbformat_minor": 2,
 "cells": [
  {
   "cell_type": "code",
   "execution_count": 1,
   "metadata": {},
   "outputs": [],
   "source": [
    "# 출력이 너무 길어지지 않게하기 위해 찍지 않도록 했으나 \n",
    "# 실제 학습 할 때는 아래 두 줄을 주석처리 하는 것을 권장한다.\n",
    "import warnings\n",
    "warnings.filterwarnings('ignore')"
   ]
  },
  {
   "cell_type": "code",
   "execution_count": 2,
   "metadata": {
    "tags": []
   },
   "outputs": [
    {
     "output_type": "stream",
     "name": "stdout",
     "text": "1.0.5\n1.18.5\n"
    }
   ],
   "source": [
    "import pandas as pd\n",
    "import numpy as np\n",
    "print(pd.__version__)\n",
    "print(np.__version__)"
   ]
  },
  {
   "cell_type": "code",
   "execution_count": 3,
   "metadata": {},
   "outputs": [],
   "source": [
    "# pandas 설정: 모든 row와 모든 column을 출력하게 하고, 각 column 별 출력되는 글자수는 50자 이내\n",
    "pd.set_option('display.max_rows', None, 'display.max_columns', None, 'display.max_colwidth', 50)"
   ]
  },
  {
   "cell_type": "code",
   "execution_count": 4,
   "metadata": {},
   "outputs": [
    {
     "output_type": "execute_result",
     "data": {
      "text/plain": "       대학코드                             대학명  \\\n0  AR000004        Universidad del Salvador   \n1  AU000019  Australian National University   \n2  AU000001                 Bond University   \n\n                                            gen_info  \\\n0  아르헨티나의 대다수 대학교는 한국처럼 캠퍼스가 있는 것이 아니라 도시 내에 몇개의 ...   \n1  ANU has a very big campus, but unlike Yonsei, ...   \n2  Bond대학교는 휴양지로 유명한 골드코스트에 위치해있습니다. 서퍼스 파라다이스, 브...   \n\n                                            env_info  \\\n0  대학교가 도시 여러곳에 분포하고 있으므로 각기 다르다. 하지만 남녀를 불문하고 부에...   \n1  The city center, called CIVIC, is 20min walk a...   \n2  학교 주변은 조용하고 깨끗한 평화로운 전원마을의 느낌입니다. 학교에서 5분정도 걸어...   \n\n                                           food_info  \\\n0  기숙사는 학교에서 제공하지 않고 두가지 옵션이 주어진다. 홈스테이 혹은 게스트 하우...   \n1  There are many housing options, but I chose to...   \n2  거주형태는 크게 On Campus와 Off Campus로 나뉩니다. 저는 기숙사에 ...   \n\n                                          study_info  \\\n0  아르헨티나에서의 대학 수업은 주로 오전 혹은 저녁에 있다. 대부분의 학생들이 일을하...   \n1  In my personal opinions, classes are generally...   \n2  수업은 보통 4개의 수업을 듣습니다. 저는 Chinese1, Australian p...   \n\n                                         office_info  \\\n0  EL SALVADOR대학교는 국제 교육부가 잘 되있는 학교이다. 아르헨티나 대학교들...   \n1  Overall, I did not have to ask for help much f...   \n2  교환생활 중 국제교육부와 연락할 일은 없었습니다. 교환학생을 가서 따로 국제교육부와...   \n\n                                          facil_info  \\\n0  부대시설로는 헬스장이 있다고 알고 있으나 시내와 먼 곳에 있었다. 동아리는 몇가지 ...   \n1  There were many clubs for you to join at ANU, ...   \n2  학기초에 동아리 박람회식으로 여러 동아리들의 부스가 세워집니다. 관심 있는 동아리에...   \n\n                                           mhct_info  \\\n0  딱히 컬쳐쇼크를 받을 만 한 요소는 없었던 것 같다. 하지만 처음에 언어적인 면에서...   \n1  I did have some culture shock during my first ...   \n2  특별히 culture shock이라기 보다는 정말 다양한 문화를 접하는 것 자체가 ...   \n\n                                           help_info  \\\n0  살바도르 대학교 국제처에서 비자문제나 숙소문제(홈스테이경우) 등은 해결해 주고, 특...   \n1  I was helped a lot, especially during the firs...   \n2  수업관련해서는 교수님께 질문을 해도 친절하게 알려주시고, 또 교내에 과제나 발표준비...   \n\n                                            etc_info  \n0                                                NaN  \n1  Overall, my stay in Australia has been nothing...  \n2  Bond와 그 동네를 생각하면 여유롭고 평화로웠던 분위기가 아직도 생생해요. 여기서...  ",
      "text/html": "<div>\n<style scoped>\n    .dataframe tbody tr th:only-of-type {\n        vertical-align: middle;\n    }\n\n    .dataframe tbody tr th {\n        vertical-align: top;\n    }\n\n    .dataframe thead th {\n        text-align: right;\n    }\n</style>\n<table border=\"1\" class=\"dataframe\">\n  <thead>\n    <tr style=\"text-align: right;\">\n      <th></th>\n      <th>대학코드</th>\n      <th>대학명</th>\n      <th>gen_info</th>\n      <th>env_info</th>\n      <th>food_info</th>\n      <th>study_info</th>\n      <th>office_info</th>\n      <th>facil_info</th>\n      <th>mhct_info</th>\n      <th>help_info</th>\n      <th>etc_info</th>\n    </tr>\n  </thead>\n  <tbody>\n    <tr>\n      <th>0</th>\n      <td>AR000004</td>\n      <td>Universidad del Salvador</td>\n      <td>아르헨티나의 대다수 대학교는 한국처럼 캠퍼스가 있는 것이 아니라 도시 내에 몇개의 ...</td>\n      <td>대학교가 도시 여러곳에 분포하고 있으므로 각기 다르다. 하지만 남녀를 불문하고 부에...</td>\n      <td>기숙사는 학교에서 제공하지 않고 두가지 옵션이 주어진다. 홈스테이 혹은 게스트 하우...</td>\n      <td>아르헨티나에서의 대학 수업은 주로 오전 혹은 저녁에 있다. 대부분의 학생들이 일을하...</td>\n      <td>EL SALVADOR대학교는 국제 교육부가 잘 되있는 학교이다. 아르헨티나 대학교들...</td>\n      <td>부대시설로는 헬스장이 있다고 알고 있으나 시내와 먼 곳에 있었다. 동아리는 몇가지 ...</td>\n      <td>딱히 컬쳐쇼크를 받을 만 한 요소는 없었던 것 같다. 하지만 처음에 언어적인 면에서...</td>\n      <td>살바도르 대학교 국제처에서 비자문제나 숙소문제(홈스테이경우) 등은 해결해 주고, 특...</td>\n      <td>NaN</td>\n    </tr>\n    <tr>\n      <th>1</th>\n      <td>AU000019</td>\n      <td>Australian National University</td>\n      <td>ANU has a very big campus, but unlike Yonsei, ...</td>\n      <td>The city center, called CIVIC, is 20min walk a...</td>\n      <td>There are many housing options, but I chose to...</td>\n      <td>In my personal opinions, classes are generally...</td>\n      <td>Overall, I did not have to ask for help much f...</td>\n      <td>There were many clubs for you to join at ANU, ...</td>\n      <td>I did have some culture shock during my first ...</td>\n      <td>I was helped a lot, especially during the firs...</td>\n      <td>Overall, my stay in Australia has been nothing...</td>\n    </tr>\n    <tr>\n      <th>2</th>\n      <td>AU000001</td>\n      <td>Bond University</td>\n      <td>Bond대학교는 휴양지로 유명한 골드코스트에 위치해있습니다. 서퍼스 파라다이스, 브...</td>\n      <td>학교 주변은 조용하고 깨끗한 평화로운 전원마을의 느낌입니다. 학교에서 5분정도 걸어...</td>\n      <td>거주형태는 크게 On Campus와 Off Campus로 나뉩니다. 저는 기숙사에 ...</td>\n      <td>수업은 보통 4개의 수업을 듣습니다. 저는 Chinese1, Australian p...</td>\n      <td>교환생활 중 국제교육부와 연락할 일은 없었습니다. 교환학생을 가서 따로 국제교육부와...</td>\n      <td>학기초에 동아리 박람회식으로 여러 동아리들의 부스가 세워집니다. 관심 있는 동아리에...</td>\n      <td>특별히 culture shock이라기 보다는 정말 다양한 문화를 접하는 것 자체가 ...</td>\n      <td>수업관련해서는 교수님께 질문을 해도 친절하게 알려주시고, 또 교내에 과제나 발표준비...</td>\n      <td>Bond와 그 동네를 생각하면 여유롭고 평화로웠던 분위기가 아직도 생생해요. 여기서...</td>\n    </tr>\n  </tbody>\n</table>\n</div>"
     },
     "metadata": {},
     "execution_count": 4
    }
   ],
   "source": [
    "# 위의 설정으로 간단하게 보는 df_specific\n",
    "df_specific = pd.read_csv(\"./data_wrangled/df_specific_wrangle.csv\", encoding=\"utf-8\")\n",
    "df_specific.head(3)"
   ]
  },
  {
   "cell_type": "code",
   "execution_count": 5,
   "metadata": {},
   "outputs": [
    {
     "output_type": "execute_result",
     "data": {
      "text/plain": "         대학코드                    대학명  \\\n467  US000273    Westminster College   \n468  US000274      Whitworth College   \n469  US000278  Wittenberg University   \n\n                                              gen_info  \\\n467  Westminster College는 미국 펜실베니아 주 북부에 있는 작은 마을, ...   \n468  내가 다녀온 교환대학은 Washington State 에 위치한 Whitworth ...   \n469  Wittenberg는 Ohio주의 작은 도시 Springfield에 위치해 있다. ...   \n\n                                              env_info  \\\n467  웨스트민스터가 위치한 뉴윌밍턴은 매우 작은 마을입니다. 마음만 먹으면 주말에 산책을...   \n468  Whitworth College는 Seattle에서 비행기로 40분 정도 떨어져 있...   \n469  Springfield의 downtown에는 우체국, 은행(huntington) 정도...   \n\n                                             food_info  \\\n467  제가 있던 학기에는 연세대학교에서 온 학생이 총 여학생 3명이어서 모두 같은 기숙사...   \n468  나는 Whitworth College에서 기숙사에 살았다. ISEP으로 가게 되면 ...   \n469  1,2학년과 국제학생들 (1년 이하로 있는 학생들)은 모두 기숙사에서 생활하게 된다...   \n\n                                            study_info  \\\n467  저는 한 학기 동안 5과목, 총 15학점을 들었습니다. 정치학 전공 Internat...   \n468  내가 미국에 가기 전에 가장 두려워했던 것은 바로 수업이었다. 어학연수와는 달리 교...   \n469  도서관은 Thomas library가 main이고 다른 단과대학 건물에 독서실이 있...   \n\n                                           office_info  \\\n467  웨스트민스터는 국제 학생의 수가 매우 적어서 국제교육부가 따로 있지는 않았습니다. ...   \n468  이 학교에서 내가 마음 편하게 지낼 수 있었던 것은 국제교육부 스텝들이 너무 따뜻하...   \n469  국제교류부는 Hollenbeck 건물 1층에 있는데, Joann 과 Betsy 두 ...   \n\n                                            facil_info  \\\n467  제가 가장 자주 이용했던 곳은 클럽룸입니다. 이곳은 맥켈비 센터 2층 구석에 있는 ...   \n468  기타 학교의 부대 시설로는 fitness center, music hall, soc...   \n469  Wittenberg의 가장 큰 장점. nWittenberg는 학비가 무척 비싼 학교...   \n\n                                             mhct_info  \\\n467  학교가 위치한 동네에서는 학교 학생들을 제외하면 거의 모든 주민이 백인이었습니다. ...   \n468                                                NaN   \n469  한국에서는 흔치 않은 gay, lesbian, transgender 등을 만날 수 ...   \n\n                                             help_info  \\\n467  학교 생활 중 가장 도움을 많이 받을 수 있었던 곳은 교목실의 Internation...   \n468                                                NaN   \n469  Wittenberg는 국제학생들에게 host family를 붙여준다. 비록 같이 살...   \n\n                                              etc_info  \n467  그림 같은 호수, 끝없이 넓은 하늘과 함께 따뜻한 단풍색으로 물든 웨스트민스터에서 ...  \n468  처음에 Whitworth College를 ISEP으로부터 배정 받았을 때 현실적으로...  \n469  이처럼 wittenberg는 시골에 있는 작은 학교지만 지리적인 위치로 인한 단점보...  ",
      "text/html": "<div>\n<style scoped>\n    .dataframe tbody tr th:only-of-type {\n        vertical-align: middle;\n    }\n\n    .dataframe tbody tr th {\n        vertical-align: top;\n    }\n\n    .dataframe thead th {\n        text-align: right;\n    }\n</style>\n<table border=\"1\" class=\"dataframe\">\n  <thead>\n    <tr style=\"text-align: right;\">\n      <th></th>\n      <th>대학코드</th>\n      <th>대학명</th>\n      <th>gen_info</th>\n      <th>env_info</th>\n      <th>food_info</th>\n      <th>study_info</th>\n      <th>office_info</th>\n      <th>facil_info</th>\n      <th>mhct_info</th>\n      <th>help_info</th>\n      <th>etc_info</th>\n    </tr>\n  </thead>\n  <tbody>\n    <tr>\n      <th>467</th>\n      <td>US000273</td>\n      <td>Westminster College</td>\n      <td>Westminster College는 미국 펜실베니아 주 북부에 있는 작은 마을, ...</td>\n      <td>웨스트민스터가 위치한 뉴윌밍턴은 매우 작은 마을입니다. 마음만 먹으면 주말에 산책을...</td>\n      <td>제가 있던 학기에는 연세대학교에서 온 학생이 총 여학생 3명이어서 모두 같은 기숙사...</td>\n      <td>저는 한 학기 동안 5과목, 총 15학점을 들었습니다. 정치학 전공 Internat...</td>\n      <td>웨스트민스터는 국제 학생의 수가 매우 적어서 국제교육부가 따로 있지는 않았습니다. ...</td>\n      <td>제가 가장 자주 이용했던 곳은 클럽룸입니다. 이곳은 맥켈비 센터 2층 구석에 있는 ...</td>\n      <td>학교가 위치한 동네에서는 학교 학생들을 제외하면 거의 모든 주민이 백인이었습니다. ...</td>\n      <td>학교 생활 중 가장 도움을 많이 받을 수 있었던 곳은 교목실의 Internation...</td>\n      <td>그림 같은 호수, 끝없이 넓은 하늘과 함께 따뜻한 단풍색으로 물든 웨스트민스터에서 ...</td>\n    </tr>\n    <tr>\n      <th>468</th>\n      <td>US000274</td>\n      <td>Whitworth College</td>\n      <td>내가 다녀온 교환대학은 Washington State 에 위치한 Whitworth ...</td>\n      <td>Whitworth College는 Seattle에서 비행기로 40분 정도 떨어져 있...</td>\n      <td>나는 Whitworth College에서 기숙사에 살았다. ISEP으로 가게 되면 ...</td>\n      <td>내가 미국에 가기 전에 가장 두려워했던 것은 바로 수업이었다. 어학연수와는 달리 교...</td>\n      <td>이 학교에서 내가 마음 편하게 지낼 수 있었던 것은 국제교육부 스텝들이 너무 따뜻하...</td>\n      <td>기타 학교의 부대 시설로는 fitness center, music hall, soc...</td>\n      <td>NaN</td>\n      <td>NaN</td>\n      <td>처음에 Whitworth College를 ISEP으로부터 배정 받았을 때 현실적으로...</td>\n    </tr>\n    <tr>\n      <th>469</th>\n      <td>US000278</td>\n      <td>Wittenberg University</td>\n      <td>Wittenberg는 Ohio주의 작은 도시 Springfield에 위치해 있다. ...</td>\n      <td>Springfield의 downtown에는 우체국, 은행(huntington) 정도...</td>\n      <td>1,2학년과 국제학생들 (1년 이하로 있는 학생들)은 모두 기숙사에서 생활하게 된다...</td>\n      <td>도서관은 Thomas library가 main이고 다른 단과대학 건물에 독서실이 있...</td>\n      <td>국제교류부는 Hollenbeck 건물 1층에 있는데, Joann 과 Betsy 두 ...</td>\n      <td>Wittenberg의 가장 큰 장점. nWittenberg는 학비가 무척 비싼 학교...</td>\n      <td>한국에서는 흔치 않은 gay, lesbian, transgender 등을 만날 수 ...</td>\n      <td>Wittenberg는 국제학생들에게 host family를 붙여준다. 비록 같이 살...</td>\n      <td>이처럼 wittenberg는 시골에 있는 작은 학교지만 지리적인 위치로 인한 단점보...</td>\n    </tr>\n  </tbody>\n</table>\n</div>"
     },
     "metadata": {},
     "execution_count": 5
    }
   ],
   "source": [
    "# 위의 설정으로 간단하게 보는 df_specific\n",
    "df_specific.tail(3)"
   ]
  },
  {
   "cell_type": "code",
   "execution_count": 6,
   "metadata": {},
   "outputs": [
    {
     "output_type": "execute_result",
     "data": {
      "text/plain": "Index(['대학코드', '대학명', 'gen_info', 'env_info', 'food_info', 'study_info',\n       'office_info', 'facil_info', 'mhct_info', 'help_info', 'etc_info'],\n      dtype='object')"
     },
     "metadata": {},
     "execution_count": 6
    }
   ],
   "source": [
    "df_specific.columns"
   ]
  },
  {
   "cell_type": "code",
   "execution_count": 7,
   "metadata": {},
   "outputs": [
    {
     "output_type": "execute_result",
     "data": {
      "text/plain": "(470, 11)"
     },
     "metadata": {},
     "execution_count": 7
    }
   ],
   "source": [
    "df_specific.shape"
   ]
  },
  {
   "cell_type": "code",
   "execution_count": 8,
   "metadata": {},
   "outputs": [],
   "source": [
    "# pandas 설정: 각 column 별 (혹은 한 cell에서) 출력되는 글자수 제한을 없애기\n",
    "pd.set_option('display.max_colwidth', None)"
   ]
  },
  {
   "cell_type": "code",
   "execution_count": 9,
   "metadata": {},
   "outputs": [],
   "source": [
    "column_data = \"gen_info\"\n",
    "univ_code = \"DK000003\""
   ]
  },
  {
   "cell_type": "code",
   "execution_count": 10,
   "metadata": {},
   "outputs": [],
   "source": [
    "import re\n",
    "# removing junks from the string data\n",
    "def remove_junk(str_data):\n",
    "    str_data = str_data.replace(\"\\\\\\\\n\", \"\")\n",
    "    str_data = str_data.replace(\"\\\\n\", \"\")\n",
    "    str_data = str_data.replace(\"\\n\", \"\")\n",
    "    str_data = str_data.replace(\"\\\\\", \"\")\n",
    "    str_data = str_data.replace(\"\\\\t\", \"\")\n",
    "    str_data = str_data.replace(\"NaN\", \"\")\n",
    "\n",
    "    # print(str_data) makes an error. too much of data\n",
    "    # 한글, english 빼고 전부 날리기\n",
    "    # str_data = re.sub('[^가-힣ㄱ-ㅎㅏ-ㅣa-zA-Z|0-9|.,]', ' ', str_data)\n",
    "\n",
    "    # 한글 빼고 다 날리기\n",
    "    str_data = re.sub('[^가-힣ㄱ-ㅎㅏ]', ' ', str_data)\n",
    "\n",
    "    # replace multiple spaces into single space\n",
    "    str_data = ' '.join(str_data.split())\n",
    "    return str_data"
   ]
  },
  {
   "cell_type": "code",
   "execution_count": 11,
   "metadata": {},
   "outputs": [],
   "source": [
    "def access_univ_info(dataframe, column, univ_code):\n",
    "    df_row = dataframe.loc[dataframe[\"대학코드\"] == univ_code]\n",
    "    str_univ_info = df_row[column].to_string(index=False).lstrip()\n",
    "    str_univ_info = remove_junk(str_univ_info)\n",
    "    return str_univ_info"
   ]
  },
  {
   "cell_type": "code",
   "execution_count": 12,
   "metadata": {
    "tags": []
   },
   "outputs": [
    {
     "output_type": "execute_result",
     "data": {
      "text/plain": "'코펜하겐 대학교는 자연과학캠퍼스 인문캠퍼스 등 코펜하겐 시내 곳곳에 흩어져 있습니다 저는 조경건축 수업을 듣기 위해 에 위치한 자연과학 캠퍼스도 다니고 덴마크어 수업과 미디어커뮤니케이션학과 수업을 위해 에 위치한 캠퍼스에도 다녔습니다 지하철을 타거나 자전거를 타면 캠퍼스끼리의 거리도 분 이내라서 돌아다니기 정말 좋았어요 그리고 캠퍼스 내부 디자인이 정말 깔끔하고 좋았고 이렇게 멋진 곳이라면 저절로 학교를 다니고 공부하고 싶을 것 같았습니다 코펜하겐 시내 자체는 그렇게 크지 않아서 자전거를 타거나 걸어다녀도 모든 게 범위 안에 있어서 좋았습니다 일단 건물들이 층 이하로 낮아서 탁 트인 하늘이 보이고 개인적인 취향일 수는 있지만 오래된 건물도 철거하지 않고 조금씩 고쳐서 모습을 간직하고 있는 것이 인상깊었습니다 그리고 다른 유럽 나라들을 여행할 때도 굉장히 편리했어요 유럽의 많은 나라와 직항 저가항공이 있고 시간도 한국의 일반적인 대학들과 달리 코펜하겐 대학교는 도시 곳곳에 소규모로 캠퍼스가 여러 군데 있어요 저는 학기에는 주로 사회과학대 수업이 열리는 에서 수업을 들었고 학기에는 주로 인문대 수업이 열리는 에서 수업을 들었습니다 는 도심에 있는 교통 요충지 역 근처에 있고 는 최근에 개발된 지역의 역 근처에 있어요 그리고 코펜하겐 도시 자체가 굉장히 작기 때문에 왠만한 데는 대중교통이나 자전거로 분 내에 갈 수 있는 거 같아요 공항도 역에서 분 걸리기 때문에 여행다니기에도 좋습니다 기후는 악명이 높다시피 춥고 비가 많이 내립니다 사실 겨울에도 한국에 비하면 기온이 그리 낮은 편은 아닌데 년 동안 영하로 내려가는 걸 거의 못 봤어요 여름이 지나면 해를 거의 못 보고 비도 많이 내려서 진짜 추워요 바람 저는 경제학과여서 코펜하겐 대학교 캠퍼스를 이용했는데 역 근처에 있습니다 역이 처음에는 되게 별것 아닌것 처럼 보였는데 정말 요지에 있습니다 어디든 갈 수 있고 지하철과 기차 중앙역 모두 가까운 최고의 위치에 있습니다 코펜하겐에 월 말 부터 월 중순까지 있었는데 겨울'"
     },
     "metadata": {},
     "execution_count": 12
    }
   ],
   "source": [
    "str_example = access_univ_info(df_specific, column_data, univ_code)\n",
    "str_example[:1000]"
   ]
  },
  {
   "cell_type": "code",
   "execution_count": 13,
   "metadata": {},
   "outputs": [],
   "source": [
    "# collecting all column values into one string\n",
    "def column_to_string(dataframe, column_name: str):\n",
    "    str_corpus = dataframe[column_name].to_string(index=False).lstrip()\n",
    "    str_corpus = remove_junk(str_corpus)\n",
    "    return str_corpus"
   ]
  },
  {
   "cell_type": "code",
   "execution_count": 14,
   "metadata": {
    "tags": []
   },
   "outputs": [
    {
     "output_type": "stream",
     "name": "stdout",
     "text": "글자수: 3985044\n"
    },
    {
     "output_type": "execute_result",
     "data": {
      "text/plain": "'아르헨티나의 대다수 대학교는 한국처럼 캠퍼스가 있는 것이 아니라 도시 내에 몇개의 건물이 대학교 건물이라서 수업에 맞는 건물로 수업을 들으러 가면 된다 도시의 대중교통이 꽤 잘 되어있기 때문에 출퇴근시간만 피한다면 편하게 다닐 수 있다 부에노스 아이레스는 여름에 도까지 올라가지만 건조한 편이어서 그늘아래 있거나 건물 안에 있으면 괜찮은 편이다 그래도 햇볓이 우리나라보다 강하므로 썬크림을 챙겨가는 것이 좋다 겨울에는 도 이하로 내려가는 날이 거의 없으나 바람이 불고 비 우박이 내릴 수 있으니 따뜻한 옷 몇 벌은 챙겨가는 것이 좋다 그리고 남반구에 있어 우리나라와 계절이 반대이다 는 이라는 캔버라에서 가장 중심이 되는 도심 부근에 위치하여 접근성이 좋습니다 캔버라가 시드니 멜버른에 비해 소도시라는 느낌이 강해 선호도가 낮은 듯 한데요 저 또한 퀸즐랜드가 지망이었습니다 학기를 지내며 아주 안전하고 깨끗하며 잘 만들어진 도시라는 인상을 받았습니다 행정수도라 거주하는 사람 중에 공무원이나 학교 관계자 비율이 높은 듯 하구요 따라서 생활수준이 높아 저 포함 친구들 또한 캔버라에서는 차별을 경험해본 적이 없습니다 굳이 비교하자면 송도와 흡사한 느낌이지요 다만 바다가 없기 때문에 기후는 타 도시에 비해서 건조한 편입니다 날씨는 한국에 비해 연교차가 적다는 느낌을 받았구요 호주 어디를 가든 날씨는 만족하실 거에요 연중 대부분이 야외활동 하기 좋은 날씨입니다 대학교는 상당히 넓은 편입니다 전공 수업을 듣다가 다른 단과대 건물로 이동하는게 쉽지는 않았습니다 시간표 짤 때 주의하시면 좋겠습니다 학교에서 센터까지는 그리 멀지 않습니다 걸어다니기 충분한 거리이고 밤에는 기숙사를 돌아주는 셔틀버스가 있는데 쪽에서 내리시면 쉽게 갈 수 있습니다 캔버라는 시드니와 멜버른 그 사이쯤에 있는데 시드니에서 조금 더 가깝습니다 시드니에서 시간 반 정도 버스를 타고 가야 합니다 다른 먼 지역 혹은 다른 나라로의 여행을 생각 중이시라면 시드니 쪽 대학을 추천드립니다 캔버라에도 공항이 있기는 하지만 비'"
     },
     "metadata": {},
     "execution_count": 14
    }
   ],
   "source": [
    "# collecting all column values into one string\n",
    "corpus = column_to_string(df_specific, column_data)\n",
    "print(\"글자수:\", len(corpus))\n",
    "corpus[:1000]"
   ]
  },
  {
   "cell_type": "markdown",
   "metadata": {},
   "source": [
    "## Tokenizing Sample Corpus"
   ]
  },
  {
   "cell_type": "code",
   "execution_count": 15,
   "metadata": {},
   "outputs": [],
   "source": [
    "stopwords = []"
   ]
  },
  {
   "cell_type": "code",
   "execution_count": 16,
   "metadata": {},
   "outputs": [
    {
     "output_type": "execute_result",
     "data": {
      "text/plain": "<soynlp.tokenizer._tokenizer.LTokenizer at 0x11b5dc880>"
     },
     "metadata": {},
     "execution_count": 16
    }
   ],
   "source": [
    "# https://github.com/lovit/soynlp\n",
    "from soynlp.tokenizer import RegexTokenizer, LTokenizer\n",
    "\n",
    "tokenizer = LTokenizer()\n",
    "tokenizer"
   ]
  },
  {
   "cell_type": "code",
   "execution_count": 17,
   "metadata": {},
   "outputs": [
    {
     "output_type": "execute_result",
     "data": {
      "text/plain": "['아르헨티나의', '대다수', '대학교는', '한국처럼', '캠퍼스가', '있는', '것이', '아니라', '도시', '내에']"
     },
     "metadata": {},
     "execution_count": 17
    }
   ],
   "source": [
    "tokenized_corpus = tokenizer.tokenize(corpus)\n",
    "tokenized_corpus[:10]"
   ]
  },
  {
   "cell_type": "code",
   "execution_count": 18,
   "metadata": {
    "tags": []
   },
   "outputs": [
    {
     "output_type": "stream",
     "name": "stdout",
     "text": "1002499\n"
    }
   ],
   "source": [
    "print(len(tokenized_corpus))"
   ]
  },
  {
   "cell_type": "code",
   "execution_count": 19,
   "metadata": {},
   "outputs": [],
   "source": [
    "from collections import Counter"
   ]
  },
  {
   "cell_type": "code",
   "execution_count": 70,
   "metadata": {
    "tags": []
   },
   "outputs": [
    {
     "output_type": "stream",
     "name": "stdout",
     "text": "number of counted nouns: 100474\n"
    },
    {
     "output_type": "execute_result",
     "data": {
      "text/plain": "[('있습니다', 9640),\n ('수', 9293),\n ('있는', 7638),\n ('때문에', 6284),\n ('는', 6068),\n ('많이', 5807),\n ('매우', 4400),\n ('학교', 4182),\n ('큰', 4145),\n ('분', 4012),\n ('정도', 3883),\n ('것', 3829),\n ('월', 3700),\n ('있다', 3680),\n ('시간', 3639),\n ('하지만', 3495),\n ('캠퍼스', 3344),\n ('비가', 3087),\n ('날씨가', 3008),\n ('위치하고', 2981),\n ('위치한', 2868),\n ('에', 2837),\n ('정말', 2815),\n ('그', 2780),\n ('있고', 2742),\n ('이', 2742),\n ('위치해', 2729),\n ('제가', 2716),\n ('작은', 2709),\n ('저는', 2618),\n ('한', 2604),\n ('가장', 2509),\n ('크기는', 2506),\n ('의', 2499),\n ('잘', 2457),\n ('더', 2439),\n ('거의', 2379),\n ('다른', 2299),\n ('기후는', 2293),\n ('정도로', 2273),\n ('같습니다', 2258),\n ('날씨는', 2125),\n ('있어서', 2108),\n ('미국', 2106),\n ('캠퍼스는', 2101),\n ('할', 2046),\n ('약', 2004),\n ('합니다', 1975),\n ('좋은', 1857),\n ('그리고', 1856),\n ('타고', 1840),\n ('조금', 1794),\n ('굉장히', 1794),\n ('있으며', 1784),\n ('에서', 1775),\n ('캠퍼스가', 1769),\n ('있어', 1732),\n ('때', 1720),\n ('눈이', 1658),\n ('것이', 1642),\n ('많은', 1640),\n ('갈', 1606),\n ('도시', 1593),\n ('가', 1577),\n ('자주', 1553),\n ('거리에', 1531),\n ('수업을', 1512),\n ('않습니다', 1500),\n ('라는', 1492),\n ('겨울에는', 1473),\n ('은', 1423),\n ('같은', 1391),\n ('주로', 1383),\n ('년', 1367),\n ('있는데', 1361),\n ('꽤', 1357),\n ('특히', 1326),\n ('됩니다', 1321),\n ('건물', 1311),\n ('편입니다', 1304),\n ('곳에', 1301),\n ('아주', 1293),\n ('와', 1293),\n ('건물들이', 1275),\n ('중', 1269),\n ('차로', 1259),\n ('또한', 1251),\n ('있기', 1243),\n ('있을', 1220),\n ('좋습니다', 1217),\n ('등', 1212),\n ('바로', 1181),\n ('를', 1180),\n ('볼', 1154),\n ('도', 1146),\n ('경우', 1136),\n ('다', 1132),\n ('상당히', 1128),\n ('않고', 1120),\n ('학교는', 1115),\n ('좀', 1107),\n ('두', 1105),\n ('학교의', 1103),\n ('크게', 1098),\n ('여름에는', 1070),\n ('개의', 1070),\n ('건물이', 1066),\n ('지리적', 1052),\n ('대학', 1046),\n ('해가', 1041),\n ('수도', 1039),\n ('정도의', 1037),\n ('캠퍼스의', 1032),\n ('가지고', 1016),\n ('학생들이', 999),\n ('여러', 986),\n ('너무', 977),\n ('될', 965),\n ('모두', 962),\n ('캠퍼스를', 960),\n ('학교가', 957),\n ('월부터', 948),\n ('걸어서', 937),\n ('겨울은', 937),\n ('도시에', 935),\n ('추운', 935),\n ('한국의', 928),\n ('있지만', 911),\n ('떨어진', 907),\n ('그리', 906),\n ('가까운', 903),\n ('바람이', 901),\n ('로', 901),\n ('처음', 898),\n ('모든', 897),\n ('주의', 897),\n ('비해', 891),\n ('오는', 891),\n ('대학은', 887),\n ('없습니다', 884),\n ('때는', 883),\n ('떨어져', 881),\n ('따뜻한', 880),\n ('않은', 877),\n ('훨씬', 875),\n ('것을', 872),\n ('위치는', 869),\n ('가는', 869),\n ('겨울', 866),\n ('버스를', 860),\n ('또', 852),\n ('그래서', 852),\n ('하는', 851),\n ('만큼', 850),\n ('대부분의', 850),\n ('날이', 833),\n ('항상', 830),\n ('겨울이', 829),\n ('그러나', 828),\n ('가을', 822),\n ('내내', 810),\n ('그렇게', 798),\n ('아니라', 790),\n ('버스로', 786),\n ('그래도', 780),\n ('주', 764),\n ('다만', 763),\n ('있었습니다', 761),\n ('꼭', 750),\n ('보통', 742),\n ('크지', 737),\n ('되는', 728),\n ('이라는', 723),\n ('겨울에', 716),\n ('대부분', 715),\n ('유명한', 713),\n ('보면', 712),\n ('비교적', 710),\n ('안에', 709),\n ('것은', 709),\n ('내가', 705),\n ('비슷한', 698),\n ('대학교는', 696),\n ('달리', 686),\n ('기차로', 683),\n ('일교차가', 681),\n ('없는', 680),\n ('안', 678),\n ('하고', 674),\n ('좋을', 673),\n ('옷을', 672),\n ('한국과', 668),\n ('크기', 664),\n ('한다', 664),\n ('우리', 664),\n ('캘리포니아', 662),\n ('날씨', 659),\n ('입고', 658),\n ('한국보다', 650),\n ('개', 650),\n ('기숙사', 649),\n ('월까지', 647),\n ('도시입니다', 646),\n ('수업이', 638),\n ('별로', 633),\n ('않지만', 632),\n ('중심으로', 631),\n ('물론', 630),\n ('캠퍼스로', 629),\n ('두꺼운', 628),\n ('버스', 627),\n ('미국의', 627),\n ('기온이', 622),\n ('생각보다', 620),\n ('날씨를', 620),\n ('아름다운', 619),\n ('수업', 616),\n ('학기', 614),\n ('여행을', 612),\n ('월에는', 610),\n ('월에', 608),\n ('입니다', 607),\n ('약간', 605),\n ('여름', 603),\n ('했습니다', 602),\n ('자전거를', 601),\n ('걸립니다', 601),\n ('학생', 594),\n ('위치', 585),\n ('덥고', 576),\n ('자체는', 576),\n ('봄', 575),\n ('분정도', 569),\n ('되면', 566),\n ('쉽게', 565),\n ('오고', 565),\n ('걸리는', 564),\n ('학교입니다', 563),\n ('가면', 561),\n ('많고', 560),\n ('듣는', 558),\n ('라고', 557),\n ('춥고', 555),\n ('규모가', 555),\n ('사실', 547),\n ('오히려', 544),\n ('큽니다', 541),\n ('않아서', 540),\n ('을', 540),\n ('않았습니다', 539),\n ('있다고', 539),\n ('다니는', 538),\n ('학교에서', 535),\n ('여름은', 534),\n ('연세대학교와', 533),\n ('같아요', 533),\n ('내에', 530),\n ('자체가', 530),\n ('하나', 528),\n ('우산을', 525),\n ('몇', 522),\n ('명', 520),\n ('캐나다', 520),\n ('건물은', 517),\n ('번', 515),\n ('않아', 512),\n ('시간이', 512),\n ('곳은', 511),\n ('캠퍼스에서', 511),\n ('넓은', 510),\n ('엄청', 510),\n ('것으로', 509),\n ('기억이', 506),\n ('생각하시면', 505),\n ('반', 504),\n ('학교를', 502),\n ('곳곳에', 498),\n ('춥습니다', 497),\n ('없고', 497),\n ('영하', 496),\n ('되어', 493),\n ('것입니다', 493),\n ('동안', 489),\n ('다양한', 489),\n ('제', 488),\n ('사람들이', 486),\n ('대학의', 486),\n ('및', 484),\n ('더운', 483),\n ('실제로', 481),\n ('근처에', 480),\n ('등이', 480),\n ('높은', 479),\n ('기후', 479),\n ('과', 478),\n ('도시로', 475),\n ('학교에', 474),\n ('햇빛이', 472),\n ('한국', 472),\n ('생각합니다', 471)]"
     },
     "metadata": {},
     "execution_count": 70
    }
   ],
   "source": [
    "# Mecab divided nouns list term frequency\n",
    "tokenized_corpus_counted = Counter(tokenized_corpus)\n",
    "print(\"number of counted words:\", len(tokenized_corpus_counted))\n",
    "common_words = tokenized_corpus_counted.most_common(300)\n",
    "common_words"
   ]
  },
  {
   "cell_type": "code",
   "execution_count": 71,
   "metadata": {},
   "outputs": [
    {
     "output_type": "execute_result",
     "data": {
      "text/plain": "['있습니다', '수', '있는', '때문에', '는', '많이', '매우', '학교', '큰', '분']"
     },
     "metadata": {},
     "execution_count": 71
    }
   ],
   "source": [
    "common_words_list, frequency_list = map(list, zip(*common_words))\n",
    "common_words_list[:10]"
   ]
  },
  {
   "cell_type": "code",
   "execution_count": 72,
   "metadata": {},
   "outputs": [],
   "source": [
    "column_data = \"gen_info\""
   ]
  },
  {
   "cell_type": "code",
   "execution_count": 73,
   "metadata": {},
   "outputs": [],
   "source": [
    "df_column = df_specific[column_data].fillna(\"\")"
   ]
  },
  {
   "cell_type": "code",
   "execution_count": 74,
   "metadata": {
    "tags": []
   },
   "outputs": [],
   "source": [
    "for i in common_words_list:\n",
    "    if df_column.str.contains(i).sum() < 47:\n",
    "        print(i)\n",
    "        common_words_list.remove(i)"
   ]
  },
  {
   "cell_type": "code",
   "execution_count": 75,
   "metadata": {
    "tags": []
   },
   "outputs": [
    {
     "output_type": "stream",
     "name": "stdout",
     "text": "300\n"
    },
    {
     "output_type": "execute_result",
     "data": {
      "text/plain": "['있습니다', '수', '있는', '때문에', '는', '많이', '매우', '학교', '큰', '분']"
     },
     "metadata": {},
     "execution_count": 75
    }
   ],
   "source": [
    "stopwords = common_words_list\n",
    "print(len(stopwords))\n",
    "stopwords[:10]"
   ]
  },
  {
   "cell_type": "markdown",
   "metadata": {},
   "source": [
    "## Tokenizing one column of university dataframe with soynlp"
   ]
  },
  {
   "cell_type": "code",
   "execution_count": 48,
   "metadata": {},
   "outputs": [],
   "source": [
    "column_data = \"food_info\""
   ]
  },
  {
   "cell_type": "code",
   "execution_count": 49,
   "metadata": {},
   "outputs": [],
   "source": [
    "# df_column = df_specific[df_specific[column_data].notnull()]\n",
    "df_column = df_specific[column_data].fillna(\"\")"
   ]
  },
  {
   "cell_type": "code",
   "execution_count": 50,
   "metadata": {},
   "outputs": [
    {
     "output_type": "execute_result",
     "data": {
      "text/plain": "0    기숙사는 학교에서 제공하지 않고 두가지 옵션이 주어진다. 홈스테이 혹은 게스트 하우스(혹은 학생레지던스) 홈스테이를 하는 경우 홈스테이 가족에서 아침과 저녁식사를 제공하고 점심식사는 나가서 사먹어야 한다. 가족에 따라 집에서 요리를 할 수 있는 경우가 있고 할 수 없는 경우가 있다. 그리고 홈스테이는 아르헨티나 사람들에 대해서 잘 알 수 있는 기회가 될 수 있지만 본인의 친구들 중 몇몇은 안좋은 가족들이 걸려서 집에서 불편했었다고 한다. 본인은 학생 레지던스에서 살았었다. 1인1실이 아니라 방별로 2인1실, 3인1실, 5인1실 이 있었고 화장실과 부엌은 대부분 같이 사용했다. 레지던스 별로 1인1실도 있고 개인화장실이 있는 경우도 있다. (대부분 부엌은 공동사용이다.) 본인이 있었던 곳에는 한국사람이 하나도 없고 거의 다 스페인어권 사람이어서 스페인어를 배우기에 좋았고 또 남아메리카, 중앙아메리카 여러 나라들의 사람들, 음식, 등등을 알 수 있게 되어서 정말로 뜻깊은 경험이 ...\nName: food_info, dtype: object"
     },
     "metadata": {},
     "execution_count": 50
    }
   ],
   "source": [
    "df_column.head(1)"
   ]
  },
  {
   "cell_type": "code",
   "execution_count": 51,
   "metadata": {},
   "outputs": [
    {
     "output_type": "execute_result",
     "data": {
      "text/plain": "469    1,2학년과 국제학생들 (1년 이하로 있는 학생들)은 모두 기숙사에서 생활하게 된다. 나는 1년동안 엘리베이터가 있는 11층 건물인 Tower hall에 살았다. 그 외에도 new dorm, polis house 등 총 5개의 기숙사가 있다. 거의 2인 1실이고, 방은 꽤 넓은 편이다. 침대, 책상, 옷장, 화장대가 구비되어 있고 각 층마다 RA가 있다. 기숙사마다 매주 모임 혹은 행사가 있다. (영화보기, football 보기 등) 거의 모든 학생들이 기숙사에 살거나 학교에서 소유하고 있는 아파트에 살기 때문에 친구들를 사귀기 쉽다. 나의 경우 같은 기숙사 같은 층에 사는 친구들과 친해져서 외롭지 않게 생활할 수 있었다. 덧붙여서 wittenberg 사람들은 매우 친절해서 모르는 사이라도 지나가다가 마주치면 인사하는 가족같은 분위기이다. n식사는 1,2학년 학생들의 경우 meal plan을 이용하는데 국제학생의 경우 1주일에 15meal을 사용한다. Student cent... 모든 신입생들은 학교의 기숙사에서 살아야 하며, 2학년부터는 학교의 소유로 되어있는 주변의 주택 혹은 아파트를 빌려서 살 수 있다. 두 가지 경우 모두 경비는 비슷한 듯 하지만, 기숙사에 있는 경우 여러 가지 규칙들이 있고 반드시 meal plan 을 해야하는 부담이 있기 때문에 많은 학생들이 기숙사 밖에서 사는 것을 선호한다. 하지만, 기숙사도 시설이 상당히 좋고 방도 꽤 넓어서 웬만한 학생들이 방 안에 기본적으로 달려 있는 큰 책상과 개별 침대, 큰 개인 옷장 두개씩 이외에 따로 쇼파, 텔레비젼, 오디오, 냉장고 등을 갖추어 놓고 산다. 그리고 규칙이라고 해봐야, 초를 사용하지 못한다거나 밤 9시에서 새벽 네 시 사이에는 학생 아이디를 입구의 nightguard 에게 보여주어야 한다는 정도이지, 매우 자유로운 분위기이다. 물론 기숙사 동마다 그리고 같은 기숙사 내에서도 층마다의 분위기가 조금씩 다르긴 하여서, south hall 의 경우 남학생 층은 복도에만 들어서도 퀴퀴... ISEP 프로그램은 그 학교의 기숙사비, 식비에 상관없이 ISEP으로 일정 금액을 떠나기 전에 먼저 지불한다. 사립이어서 모든 것이 비싼 Wittenberg의 경우 얼마의 금액을 ISEP으로부터 지원을 받는 셈이다. 이 학교의 1,2학년 학생들은 의무적으로 기숙사 생활을 한다. 통틀어 7개의 기숙사가 있는데 내가 머물렀던 Hanley Hall만이 여학생들만 사용하는 기숙사이고 나머지는 남녀가 함께 사용하는 co-ed이다. 물론 남녀 학생이 같은 방을 사용하는 것은 아니다. 대부분의 국제 여학생들은 Hanley에 배정을 받는데 그만큼 조용하고 깨끗한 곳이다. 모든 기숙사가 2인 1실이며 원할 경우 혼자서 사용할 수도 있다. 일단 배정을 받고 어느 정도 생활을 한 후에 Roommate와 궁합이 맞지 않으면 바꿀 수도 있다. 기본적으로 옷장, 서랍장, 책상, 침대가 갖추어져 있는데 대부분의 학생들이 TV, 비디오, 선풍기, 냉장고, 소파 등을 다 갖추어 놓고 생활한다. 나의 경우 ...\nName: food_info, dtype: object"
     },
     "metadata": {},
     "execution_count": 51
    }
   ],
   "source": [
    "df_column.tail(1)"
   ]
  },
  {
   "cell_type": "code",
   "execution_count": 52,
   "metadata": {},
   "outputs": [],
   "source": [
    "df_process = df_column.apply(remove_junk)"
   ]
  },
  {
   "cell_type": "code",
   "execution_count": 53,
   "metadata": {
    "tags": []
   },
   "outputs": [
    {
     "output_type": "stream",
     "name": "stdout",
     "text": "CPU times: user 2.1 s, sys: 19.5 ms, total: 2.11 s\nWall time: 2.12 s\n"
    }
   ],
   "source": [
    "%time df_tokens = df_process.apply(tokenizer.tokenize)"
   ]
  },
  {
   "cell_type": "code",
   "execution_count": 54,
   "metadata": {},
   "outputs": [
    {
     "output_type": "execute_result",
     "data": {
      "text/plain": "(470,)"
     },
     "metadata": {},
     "execution_count": 54
    }
   ],
   "source": [
    "df_tokens.shape"
   ]
  },
  {
   "cell_type": "code",
   "execution_count": 55,
   "metadata": {},
   "outputs": [
    {
     "output_type": "execute_result",
     "data": {
      "text/plain": "0                   [기숙사는, 학교에서, 제공하지, 않고, 두가지, 옵션이, 주어진다, 홈스테이, 혹은, 게스트, 하우스, 혹은, 학생레지던스, 홈스테이를, 하는, 경우, 홈스테이, 가족에서, 아침과, 저녁식사를, 제공하고, 점심식사는, 나가서, 사먹어야, 한다, 가족에, 따라, 집에서, 요리를, 할, 수, 있는, 경우가, 있고, 할, 수, 없는, 경우가, 있다, 그리고, 홈스테이는, 아르헨티나, 사람들에, 대해서, 잘, 알, 수, 있는, 기회가, 될, 수, 있지만, 본인의, 친구들, 중, 몇몇은, 안좋은, 가족들이, 걸려서, 집에서, 불편했었다고, 한다, 본인은, 학생, 레지던스에서, 살았었다, 인, 실이, 아니라, 방별로, 인, 실, 인, 실, 인, 실, 이, 있었고, 화장실과, 부엌은, 대부분, 같이, 사용했다, 레지던스, 별로, 인, 실도, 있고, 개인화장실이, 있는, 경우도, 있다, 대부분, 부엌은, 공동사용이다, 본인이, 있었던, 곳에는, 한국사람이, 하나도, ...]\n1    [보통, 기숙사에, 거주합니다, 쉐어하우스를, 구해서, 사는, 친구들도, 있었지만, 기숙사보다, 전혀, 저렴하지, 않고, 관리가, 잘, 안되기, 때문에, 추천드리지, 않습니다, 은, 거의, 없고, 있더라도, 비용이, 굉장히, 비쌀, 거에요, 저는, 에, 거주했는데, 제일, 저렴하고, 타, 기숙사에, 비해, 조금, 오래되었지만은, 십년, 조금, 넘은듯, 합니다, 관리가, 잘, 됩니다, 부엌도, 타, 기숙사에, 비해, 제일, 넓구요, 학년과, 교환학생, 위주로, 거주하기, 때문에, 사람, 만나기, 좋고, 이벤트도, 굉장히, 자주해요, 키친, 같이, 쓰는, 보통, 같은, 층, 학생들, 학생들과, 자주, 보기, 때문에, 친해지기, 쉽습니다, 내향적인, 성격을, 가지신, 분들껜, 포함, 기숙사, 어디든, 일상에서, 항상, 누구를, 마주쳐야, 한다는, 장단점이, 있겠지만요, 호주는, 식비가, 굉장히, 비싸서, 웬만하면, 요리해먹습니다, 는, 주방이, 넓고, 호주, 마트, 물가가, 저렴하기, ...]\nName: food_info, dtype: object"
     },
     "metadata": {},
     "execution_count": 55
    }
   ],
   "source": [
    "df_tokens[0:2]"
   ]
  },
  {
   "cell_type": "code",
   "execution_count": 56,
   "metadata": {},
   "outputs": [
    {
     "output_type": "execute_result",
     "data": {
      "text/plain": "468        [나는, 에서, 기숙사에, 살았다, 으로, 가게, 되면, 무조건, 기숙사에서, 생활해야, 하고, 에, 대한, 비용을, 가기, 전에, 미리, 내고, 가야, 한다, 이, 대학에는, 기숙사만, 개, 정도가, 된다, 그만큼, 많은, 학생들이, 함께, 기숙사에서, 생활한다, 룸메이트와, 함께, 생활했고, 같은, 에, 있는, 학생들이, 많이, 도와주고, 친하게, 지내려고, 해서, 그다지, 어려운, 점은, 없었다, 각, 기숙사마다, 나, 등이, 있어, 생활이, 힘든, 학생들을, 자주, 도와준다, 방에는, 기본적으로, 침대와, 옷장, 책상이, 있고, 그, 외에는, 자기, 자신이, 원하는, 것으로, 방을, 꾸미면, 된다, 나는, 다행히, 룸메이트가, 냉장고, 오디오, 를, 가져와서, 별다른, 불편, 없이, 생활할, 수, 있었다, 화장실과, 샤워실은, 공동으로, 되어, 있으며, 매일같이, 청소하는, 분들이, 청소를, 하기, 때문에, 매우, 청결하다, 새로]\n469    [학년과, 국제학생들, 년, 이하로, 있는, 학생들, 은, 모두, 기숙사에서, 생활하게, 된다, 나는, 년동안, 엘리베이터가, 있는, 층, 건물인, 에, 살았다, 그, 외에도, 등, 총, 개의, 기숙사가, 있다, 거의, 인, 실이고, 방은, 꽤, 넓은, 편이다, 침대, 책상, 옷장, 화장대가, 구비되어, 있고, 각, 층마다, 가, 있다, 기숙사마다, 매주, 모임, 혹은, 행사가, 있다, 영화보기, 보기, 등, 거의, 모든, 학생들이, 기숙사에, 살거나, 학교에서, 소유하고, 있는, 아파트에, 살기, 때문에, 친구들를, 사귀기, 쉽다, 나의, 경우, 같은, 기숙사, 같은, 층에, 사는, 친구들과, 친해져서, 외롭지, 않게, 생활할, 수, 있었다, 덧붙여서, 사람들은, 매우, 친절해서, 모르는, 사이라도, 지나가다가, 마주치면, 인사하는, 가족같은, 분위기이다, 식사는, 학년, 학생들의, 경우, 을, 이용하는데, 국제학생의, 경우, 주일에, ...]\nName: food_info, dtype: object"
     },
     "metadata": {},
     "execution_count": 56
    }
   ],
   "source": [
    "df_tokens[-2:]"
   ]
  },
  {
   "cell_type": "markdown",
   "metadata": {},
   "source": [
    "## Extract Keyword\n",
    "### list of common words in university review(one cell) - list of common words that can be found across rows"
   ]
  },
  {
   "cell_type": "code",
   "execution_count": 57,
   "metadata": {
    "tags": []
   },
   "outputs": [
    {
     "output_type": "stream",
     "name": "stdout",
     "text": "6803\nSan Diego State University\n"
    },
    {
     "output_type": "execute_result",
     "data": {
      "text/plain": "['교환학생이', '거주할', '수', '있는', '기숙사는', '세', '개가', '있습니다', '저는', '그']"
     },
     "metadata": {},
     "execution_count": 57
    }
   ],
   "source": [
    "# make bag of words out of one university's students' reviews\n",
    "import random\n",
    "random_int = random.randint(0,469)\n",
    "sample_univ_bow = df_tokens[random_int]\n",
    "print(len(sample_univ_bow))\n",
    "while len(sample_univ_bow) < 500:\n",
    "    random_int = random.randint(0,469)\n",
    "    sample_univ_bow = df_tokens[random_int]\n",
    "    print(len(sample_univ_bow))\n",
    "print(df_specific[\"대학명\"][random_int])\n",
    "sample_univ_bow[:10]"
   ]
  },
  {
   "cell_type": "code",
   "execution_count": null,
   "metadata": {},
   "outputs": [],
   "source": []
  },
  {
   "cell_type": "code",
   "execution_count": 58,
   "metadata": {},
   "outputs": [],
   "source": [
    "subtracted_bow_list = [item for item in sample_univ_bow if item not in stopwords]"
   ]
  },
  {
   "cell_type": "code",
   "execution_count": 59,
   "metadata": {},
   "outputs": [
    {
     "output_type": "execute_result",
     "data": {
      "text/plain": "[('기숙사에', 39),\n ('함께', 28),\n ('방을', 27),\n ('사는', 27),\n ('살았습니다', 20),\n ('기숙사에서', 20),\n ('방', 18),\n ('집을', 18),\n ('명이', 17),\n ('같이', 16),\n ('온', 15),\n ('친구들과', 14),\n ('기숙사는', 13),\n ('아파트', 13),\n ('집에서', 13),\n ('식사는', 13),\n ('기숙사를', 13),\n ('집에', 13),\n ('살았는데', 12),\n ('비싼', 11),\n ('기숙사가', 11),\n ('친구를', 11),\n ('명이서', 10),\n ('해서', 10),\n ('아파트에서', 10),\n ('거실', 9),\n ('주방', 9),\n ('화장실', 9),\n ('직접', 9),\n ('아파트에', 9),\n ('첫', 9),\n ('한달에', 9),\n ('음식을', 9),\n ('서로', 9),\n ('집', 9),\n ('학생들과', 9),\n ('장점이', 9),\n ('학기는', 9),\n ('미리', 9),\n ('살', 8),\n ('명씩', 8),\n ('그냥', 8),\n ('불', 8),\n ('인', 8),\n ('경우는', 8),\n ('장을', 8),\n ('교환학생', 8),\n ('번째', 8),\n ('룸메이트와', 8),\n ('교환학생을', 8)]"
     },
     "metadata": {},
     "execution_count": 59
    }
   ],
   "source": [
    "counted_bow_keywords = Counter(subtracted_bow_list)\n",
    "counted_bow_keywords.most_common(50)"
   ]
  },
  {
   "cell_type": "code",
   "execution_count": 60,
   "metadata": {},
   "outputs": [
    {
     "output_type": "execute_result",
     "data": {
      "text/plain": "[('교환학생이', 1), ('거주할', 2), ('수', 69), ('있는', 46), ('기숙사는', 13)]"
     },
     "metadata": {},
     "execution_count": 60
    }
   ],
   "source": [
    "counted_bow = Counter(sample_univ_bow)\n",
    "counted_bow_tuple_list = list(Counter(counted_bow).items())\n",
    "counted_bow_tuple_list[:5]"
   ]
  },
  {
   "cell_type": "code",
   "execution_count": 61,
   "metadata": {},
   "outputs": [
    {
     "output_type": "execute_result",
     "data": {
      "text/plain": "['교환학생이', '거주할', '수', '있는', '기숙사는', '세', '개가', '있습니다', '저는', '그']"
     },
     "metadata": {},
     "execution_count": 61
    }
   ],
   "source": [
    "# zipping deletes overlapping string items\n",
    "zipped_bow_words, bow_frequency_list = map(list, zip(*counted_bow_tuple_list))\n",
    "zipped_bow_words[:10]"
   ]
  },
  {
   "cell_type": "code",
   "execution_count": 62,
   "metadata": {},
   "outputs": [],
   "source": [
    "zipped_bow_words_subtracted = [item for item in zipped_bow_words if item not in stopwords]"
   ]
  },
  {
   "cell_type": "code",
   "execution_count": 63,
   "metadata": {
    "tags": []
   },
   "outputs": [
    {
     "output_type": "stream",
     "name": "stdout",
     "text": "3025\n"
    }
   ],
   "source": [
    "print(len(zipped_bow_words_subtracted))"
   ]
  },
  {
   "cell_type": "code",
   "execution_count": 76,
   "metadata": {
    "tags": []
   },
   "outputs": [
    {
     "output_type": "stream",
     "name": "stdout",
     "text": "['아껴서', '횡단보도나', '가능해', '가격으로', '필요', '생각보', '그거를', '즉시', '하다', '샤워실을', '음식점들이', '신청하였습니다', '나가고', '외국에서', '일주일', '기숙사라는', '낙후되고', '메잇이나', '구할', '않더라도', '한국유학생과', '초대를', '이득은', '못쓰면', '망설여질', '홈스테이나', '수많은', '쉴', '시설에', '자체', '선택했다', '둘이서', '신경에', '차별을', '쌀', '쓴건', '주의였기', '상점', '헬스를', '쪽', '룸메이트는', '여러가지를', '일단', '지원했었는데요', '아닌', '두고두고', '국제학생들을', '택하시는게', '어마어마했던', '음식을']\n"
    }
   ],
   "source": [
    "print(random.sample(zipped_bow_words_subtracted, 50))"
   ]
  },
  {
   "cell_type": "code",
   "execution_count": 65,
   "metadata": {},
   "outputs": [
    {
     "output_type": "execute_result",
     "data": {
      "text/plain": "'교환학생이 거주할 기숙사는 세 개가 중에서 곳에서 살았습니다 이곳이 제일 접근성이 명이서 거주를 인실 이렇게 방이 방은 워낙에 좁아서 이층 침대와 서랍으로 꽉 찹니다 책상은 거실에 나와있는 형태입니다 공부를 하거나 과제를 거실 책상에서 해야하기 이용하지 않는 사람도 주방은 주방 가전제품들은 식기들은 갖춰진게 없기 도착해서 냄비나 그릇 등을 구입하셔야 빈 하나가 이곳에는 소파와 티비를 놓을 장치가 거실을 책상들이 점령하고 이런 공간을 따로 만든 같은데 가끔 친구들 불러서 음식도 먹고 얘기하고 놀기 괜찮았습니다 그런데 아파트를 빌려서 기숙사형태로 것이라 카페테리아가 있지는 않습 아이셉으로 갔었고 기숙사에 배정을 받았었습니다 일단 우리나라 기숙사랑은 완전히 형태였어요 거기도 형태의 시설들이 있었지만 지냈던 곳 기준으로 말할게요 우리는 아파트 형식이었고 방 두개 화장실 샤워실 되있는 네명이 생활했었습니다 한방당 두명씩 따지자면 하우스메이트가 셋이고 룸메이트는 한명이라고 있겠네요 외국 친구들과 직접 생활 환경이 자연스럽게 조성되서 좋았었습니다 룸메들을 만난케이스라 성향도 비슷하고 해서 집에서 하우스파티도 많이하고 같이 시내도 놀러가고 했었어요 식사는 사먹거나 아니면 주말이나 빌 식품점 가서 장봐서 해먹었었어요 샌드위치같은 것도 파스타가 해먹기는 간단했어요 우리나라는 배달이라던가 식당 가게가 늦게까지 열고 되어있잖아요 근데 미국은 그렇지는 않구요 처음에는 적응하느라 힘들었는데 나중엔 뭐 파견 전 경험 보고서를 통해 시설이 좋다는 인상을 받지 못해서 출국 전에 살 아파트에 대해 정보를 찾아보고 계약을 미국으로 갔습니다 신식 아파트였고 첫 입주자였기 합리적인 가격으로 했고 시설 무척이나 훌륭했습니다 리조트 형식의 아파트였기 갖추어져 헬스장 수영장 바베큐장 산책로 컴퓨터실 스터디 룸 있었고 무료로 이용하였습니다 아파트에서 까지 거리였습니다 학생이 샌디에고 주립대학 학생들이였기 자체 내에서 셔틀버스를 운행하였습니다 간격으로 셔틀버스가 있었기 편리했습니다 살지 산 이유는 식사 문제 때문이었습니다 외식이나 사서 먹는 걸 좋아하지 편이라서 주방이 이곳은 원래 기숙사였는데 미국에 올때 외부로부터 관리를 시작했습니다 아파트형 기숙사로 국제학생들이 살고있고 학교도 가까이 명씩 방을 쓰는 구조이고 총 명이 살게 듣기로는 아파트가 오래되었다고 그래서인지 안해주면 바퀴벌레가 나왔습니다 룸메이트들과 청소 열심히하시기 바랍니다 첫학기에는 밀플랜 두번째학기에는 밀플랜을 취소해서 방법 아는데요 하기보다는 학교서 사먹더라도 돈으로 주고 사먹는게 신청하시면 딱히 재정적으로 이득보는 없구요 돈 아끼시려면 마트가서 요리하시는게 제일입니다 기숙사에서 생활했습니다 우리나라와 개념이 다릅니다 원래는 아파트였던 건물을 기숙사라는 이름 아래에 운영합니다 오래된 건물인데 가격은 비쌉니다 신청할때 층을 신청하세요 층간소음이 심해서 윗층에 수록 유리합니다 층간소음을 만들고 싶어서 만드는게 낡아서 그냥 발소리가 삐그덕삐그덕 소리납니다 한달에 불 인 실 이었습니다 불이라고 편해요 샌디에이고가 집세가 비싼 동네는 아니라서 외에 사설 기숙사를 선택하신다면 불에도 가능하다고 들었습니다 주변에 최근에 지어진 많습니다 왠만하면 초기에 고생하더라도 찾아보시는 거 추천드립니다 정보는 국제처에서 제공하는걸로 알고있습니다 한번 입주하면 일년간 못나가는 걸로 알고 신중하게 기 학기동안 거주했습니다 교환학생들은 신청하면 배정받는 국제학생들과 편입생들이 거주하는 기숙사인데 다들 새로운 입장이라 그런지 편이라고 있어요 매주 파티도 친구사귀기 기회입니다 집에 사는 빌라형태이고 씁니다 저도 친한 친구들은 친구들이였던 한끼는 해먹고 외식을 했던것 개인적으로 요리하는 즐기지 약속잡아서 밖에서 먹었던 먹은 편인데 그로인해 건강도 좋아지고 돈도 들고 살도 찌는 단점이 있기는 사귀면 밥약속이 생기고 하다보니 되었던 여름방학동안 인턴을 하다 와서 개월정도 했는데 교환학생으로 파견되어 무조건 묶어야 교환학생들의 경우에는직접 홈을 구하는 경우도 있던데 가셔서 구해보셔도 나쁘지 않을 거라 간편하거든요 일반 음식점이 있으나 달러의 가격대를 갖고 매일 사먹기는 부담스러우실 겁니다 저 경우는 자전거로 분거리 장을 봐서 해먹었습니다 비록 맛은 보장 못 해도 저렴하게 드실 식비 아껴서 다녀왔어요 땐 교환학생 살았는데 걸려요 둘이서 쉐어하는 형태로 썼구 일본 룸메 한명과 두명과 했어요 음식을 만들어 먹기에 편했던 나요 번째 근처의 살았어요 기숙사가 비싸서 옮겼는데 멕시칸 들과 살면서 서로 음식과 문화를 공유했어요 내 식당이나 먹거나 식료품을 사와서 먹었어요 봄학기에는 가을학기에는 캠퍼스까지 거리의 교환학생들이 처음에 들어가게 하나로 이뤄져 신청하지 않아도 되어서 학기에 신청하게 되었습니다 거실이 기숙사와 룸메이트와의 마찰도 요리도 해먹을 좋은데 단점은 멀다는 기숙사들은 위 쪽에 위치해있는 반면 밑 쪽 멀리 밤에 돌아갈 친구와 가지 않으면 무섭습니다 학기에는 나와 뒤에 하우스에 살던 집에는 살았었는데 터키 중국 독일 영국 교환학생들이나 인터네셔널 여기서 영국인 룸메이트와 지냈었는데 기숙사나 집을 알아보지 무작정 이주일 머물면서 알아봤습니다 이나 집 친구를 사귀시고 싶다면 쓰는게 사먹는 편이었고 한국마트 봐 저녁은 해먹기도 학기만 보다 학생들과 교류하기 위해서 신청했습니다 신청 시에 각각 특성을 이상의 우선순위를 부여하게 되는데 밀플랜이 순위로 신청하였습니다 아파트처럼 부엌 화장실이 사용하여 시설은 깔끔하나 기숙사비가 달에 이지만 그다지 느껴지지 학교와 동떨어져있습니다 거리 그렇지만 불리는만큼 국가에서 온 국제 살고 안에서 행사도 열리므로 친구들을 사귀고 함께 교류할 기회를 갖기에는 정도는 머무는 추천합니다 점심은 먹었습니다 카페테리아에 신청했다가 떨어져서 하우징 했구요 방에 한명 한집에 집주인이 한국인이었는데 물가 모르는 학생들 상대로 비싸게 받았다는 중간에 옮기기도 첨엔 미션밸리라는 동네에서 나름 고급스런 빌라 정거장 줬구요 나중에는 근처에서 똑같은 싼 가격 냈던 같네요 경우가 극단이라서 집세는 유틸리티 룸쉐어 적당할 처음엔 영어도 필요상 쓰게 되고 다문화경험에도 도움이 같아 쉐어를 막상 안맞고 영어 소통에는 별 유익을 못얻었구요 사람 똑같구나 몰라도 어디서나 갈등과 긴장이 노력하는 소통할 있다는 배운 아 건 학생이었습니다 따라서 등록금 기숙사비를 연세대학교에 납부였습니다 프로그램이 요구하는대로 연대 내고 년동안 중에 좋다고 말씀드릴수 기본적으로 공용으로 쓰고 쉐어합니다 사용하였지만 커뮤니티 안에는 미국학생들 뿐만 살기 친구 사귀기에는 단점이라고 뽑자면 떨어져있습니다 적응되면 멀지도 저녁늦게는 혼자 돌아가기가 부담되는것은 사실입니다 그런 학생들을 위해 에서는 이라고 학교내 셔틀버스도 밤 운행하곤 확실히 사귀기에 모여있으니까요 하지 도보로 한국인 플랫메이트들과 교환학생을 짧게 오시거나 오시더라도 첫학기는 사시는 친구사귀기에나 적응하는 데에 식사의 사용하지 않았구요 내의 음식점들은 밖보다 사먹진 컴플렉스로 뷔폐식 식사도 제공합니다 한인 마트에서 식재료를 도시락을 싸서 다녔습니다 학생들은 대학교 살거나 자취를 하는데 살았었습니다 주립대학교 안내 페이지에 가보시면 기숙사의 종류가 많아 고민이 되거나 고르기 어려우실 교환학생이나 국제학생들은 그곳에서 지냈습니다 하나의 화장실을 즉 형태였습니다 화장실은 이용하지만 각 싱크대가 있기때문에 간단한 세수는 방에서도 부엌은 없지만 전자레인지와 미니 냉장고가 요리를 해먹기에는 불편하고 냉동 레토르트 음식들을 이용하게 음식들만 아니고 워낙 식당이 다양하게 질리지 않게 돌아가면서 먹을 식당들이 아니어도 조금만 걸어나가면 식당들도 있 애초에 살기로 마음을 신청은 읽어보니 사셨던 분들도 계셔서 무턱대고 아파트나 렌트해서 살아야지 생각했었는데 구할 애를 처음부터 아닌 살려고 했기 힘들었던 사이트나 게시판 룸메이트 등등 방법을 통해서 알아봤었는데요 지금 생각해보니 아무래도 한국에 한국에서 무리였던 운좋게 사이트에서 나이 많으신 여성분을 룸메이트로 구해서 홈스테이 비슷하게 분께서 제공해 주셨기 불편함은 없었습니다 살면 포함되는게 싫어서 근처 살았지만 방법인 추천드려요 렌트비도 싸고 쓸수 장점이 그만큼 가깝지도 친구사귀기도 쉽지 않다는 점이 단점입니다 있던 두번째 학기에서 갑자기 공사를 바람에 수가 줄었지만 식사를 하실 안인 가격이 높다는 점과 입에 맞는 음식들이 많지 나중에 물리더라구요 대신에 밖으로 스시집이 부부가 운영하셔서 밥을 싶으면 거기로 가시면 한학기만 가게 고려하지 않았지만 년을 가시게 분들은 기숙사도 고려해보시는 지내던 친구의 소개로 여학생 세명과 쪽의 타운하우스에서 타운하우스는 별도로 포함된 층집으로 규모는 싱글하우스보다 작습니다 살았던 타운하우스부근은 버스정류장도 앞에 등의 상점 뿐아니라 스타벅스나 편의시설도 무척 편했습니다 통학시에 버스나 차를 이용해야 했다는 버스는 빨리 끊기는 편이어서 불편했던 점도 다른친구와 했었고 아직도 연락을 주고받으며 인연을 만들었습니다 제가살았던 사이정도에 유기농제품위주로 취급하며 상 캠퍼스와 분거리에 자동으로 지정되는거고 방하나를 거였구요 사람이 리빙룸이랑 키친 있구요 빨래는 하는거구요 기숙사보다 넓고 좋았어요 패스트 푸드를 안먹을수 있었던 이유도 키친이 음식은 해먹었거든요 파티하기에도 좋구요 미국인이었어요 정도에요 거주 형태는 대략 가지로 분류가 가능합니다 째는 둘 마지막은 한국에서의 자취 형식으로 개인이 선택한 두명의 하우스메이트와 학기는 하였으며 거주형태마다 장단점은 다양하다고 생각됩니다 경우에는 교내에 건물로의 접근이 용이하고 만날 기회가 기숙사비에 하루당 불씩 사용해야 포함되어있는데 지정된 날짜에 돈을 다음날부터는 사용할 없다는 홈스테이의 호스트와의 관계를 얼마나 만들어가느냐에 따라 평가가 나이가 많거나 엄격한 호스트의 홈스테이를 약간의 간섭 감수해야 나라의 문화와 분위기를 체험하기에는 저같은 두학기 분거리의 남쪽 접한 지역에서 명의 미국인들과 서쪽 한국유학생과 형태였고 아니었습니다 교환학생의 주변지역에서 지내거나 많이들 거주합니다 좋지 아침에는 시리얼과 과일 점심에는 기름진 사먹었고 저녁에는 해먹거나 한식당을 찾았습니다 식료품은 파는 나 구입하시면 한인마트로 한식료품은 국제학생 프랑스 인도 에스토니아 생활하였습니다 봄학기 이후에 아파트형식으로 변해버려서 룸메이트도 알아서 구해야되는 변했습니다 학기때는 학기때 사귄 옆에 붙어있는 기숙사가아닌 살아보는것도 색다른 경험이 즐거웠습니다 알던 생활하면서 만들어먹고 하면서 타지생활의 외로움을 덜 원동력이었습니다 밀플랜은 않았고 저역시 다른분들과 마찬가지로 추천하지 그때그때 사먹고싶을때만 사먹고 먹고싶은걸로 입맛에 맞춰서 해먹는게 건강에도 좋고 경제적이라고 샌디에고에도 한국인들이 살아서 콘보이라는 지역에 파견기간 일 홈스테이와 모두를 해보았습니다 우선 가격과 유무 조건이 매 바뀝니다 참고로 개강 후에 달러 낮아져서 배정된 친구들이 만족해 절차가 간단하며 배정됩니다 각국의 교환학생들과 미국인들이 살며 어울립니다 대한 받고 나눠 파티를 주말에 다닙니다 썼고 캐리어를 끌고 보러 단둘이 떠난 샌프란시스코 여행에서 서로를 깊이 이해할 스윗메이트 에게서 면에서 도움을 받았고 덕분에 즐겁게 호주에서 스윗메이트는 영어가 모국어이고 성격이 밝아서 자유롭게 놀았습니다 학기의 시작은 홈스테이였습니다 밑에 썼던 객관적으로 봐도 시끄럽고 더러운 여자친구나 딸이 있다면 아파트는 절대 보내지 않겠지만 남자가 제대로 만끽해보고자 한다면 않다고 이상희양이 지적한 하우스파티 하기 벽 부수는 파티 좋아하는 대만 스웨덴 모범생 살았는데요 심하다 싶기도 했지만 초반이라 미국친구보다는 국적의 생활하는 금방 늘고 체험하고 이해하는 데 생각해보면 재밌었고 평생 다시는 해볼 경험들 이었기에 생활하였는데요 갈아타서 가야 시간표가 맞아서 전엔 나와야 있었어요 이점만 빼곤 달러였고 방만 옮겨서 룸메랑 셰어했는데 달러였어요 원하시면 학교와의 거리와 교통편 가구배치여부 주변지역 치안 좋아하는지 조용한 환경 원하는지 부엌과 계약조건 꼼꼼하게 따져보시고 고르세요 집은 커서 금요일 밤이나 말에 파티하기가 좋았던 나네요 점심도시락을 만들어서 다녔어요 음식이 편이고 대부분이라서요 식료 마세요 여기가 경쟁률도 안치열 여기 지원했었는데요 아파트임 진짜 시설도 안좋고 나쁜 행동 하 애들 너무너무 초반에는 한달 잠을 아예 못잔다고 보시 면 맞습니다 복도는요 애들이 술먹고 토해놔서 찌릉내가 납니다 인기 이유를 알겠더라구요 도착하고나서 보니까 악명높은 아파트로 유명합니다 고쳐달라하면 기본 아파 트 애들은 파티한다고 수리공 벽까지 뚫어버리는 애들입니다 걸린 룸메이트가 질이 안좋아서 바꿔달라고 했더니 불이나 내라고 하더군요 막 화난 척을 누군들 바꾸고 바꾸는 줄 아느냐 규정을 하나도 안지킨다 너희 역시 있으면서 머물렀고 추가로 캠퍼스내 카페테리아나 카페테리아에서 해결하였다 할경우 캠퍼스내의 스타벅스도 하루 이내에서 사용가능하며 식료품등도 구입가능하다 아파트들에 배 이상 비쌌지만 교통의 편리함과 버스정류장 편리함 만족스러웠습니다 심하게는 파티가 시끄러운 참으시는 분들에게는 추천해드리고 싶지 아파트와 세탁실이 없어 가야하는 불편함도 아파트에는 개는 이고 으로 아파트도 주거 들었는데 자리가 차 입학허가서를 받는 즉시 지원서를 작성하셔야 하나인 친구들끼리는 기회도 주택 형식으로된 층의 양쪽으로 일렬로 늘어서 정원도 손질되어 쾌적한 환경이었습니다 개에 공유하는데 부엌에 냉장고와 오븐 전자레인지 갖춰져 부지런 하기만 충분히 기숙사들에 횡단보도나 주차장을 이용해 길을 건너야 밤엔 지나가는 행인이 시 여학생들은 걸어 다니지 않는게 주변 비교했을때 지리적 근접성은 달러를 내야해서 값은 편이었습니다 다음 생활했는데 만족스러운 곳이었습니다 인터네셔널이다보니 만날기회가 우선적으로 친해질 기회또한 학생들보다 많았다고 각국에서 브라질 호주 교류하고 맞춰가는 과정이 기억에 남습니다 살다보니 친구들도 만나고 식사나 것들에도 이루어졌습니다 각종 조그마한 행사들도 열어서 재미있는 기억도 달 합치면 불가까이 내야하고 문제가 생겨도 들의 느린 대처가 답답할 때도 학기부터 렌트를 한다고 하니 살아보는 보다는 사람닷컴이나 자유롭고 봅니다 거주했었는데 완전 비추입니다 비싸고 월요일부터 일요일까지 쉬지 파티의 소음에 스트레스를 받습니다 신입생 남학생들이 아파트여서 더러워서 놀랐습니다 크고 거실과 냉장고 식기세척기 형식입니다 하우스메이트들과 온캠퍼스이기에 긴 공강시간에 쉴 있었으나 세탁기조차 말이 보거나 한인마트에 반찬을 사다가 사먹었습니다 거주는 나뉘는데 일주일 가량 일찍가서 호스텔에 지내면서 구했어요 싸게는 만원에서 비싸게는 만원정도 밖에 만원 사이에 나와서 싸게 몰고다니는 학교안에 식당들은 패스트푸트이거나 드시기를 분들이 다니시더군요 초이스가 주택에서 선택하고 개인 가지느냐 공유하느냐 가구가 집인가 아닌가 여러가지를 고려할 들어가기 미리 알아보았고 거기서 이틀 구했습니다 노력을 들이느냐에 앞으로의 비용이 천차만별로 달라질 조건으로 대신 외국인 유학생들과 쉽고 수업들으러 가기 편하다는 점을 들 외국인들 로컬들과 교류하는 형태 외에도 자기 성격 운발이 작용한다고 종류의 거주하였다 국제기숙사여서 나라에서 미국인 학생들도 가을학기와 봄학기는 매달 달러로 편이었다 계약이라서 중도에 해지 없었고 해약을 해약금을 내야 부담되면 달러대가 같다 가깝고 안전하다는 봄학기까지만 기숙사였고 다음학기부터 된다고 들었다 집당 사람당 불만 내면 된다 관심이 있으면 알아보고 하면 편리할 것이다 살았고 욕실과 세면대가 분리되어 편리하다 거실도 부엌도 크다 형식이기 스스로 요리해먹을 신청을 하게 학기를 지냈고 샌디에고에 도착하자마자 가계약을 체결한 이틀을 지인과 곳을 다니며 최적의 거주환경을 알아보다가 가계약한 렌트하기로 결정했었습니다 중요한 자신이 어떠한 목적으로 외국을 나가는 것이냐가 중요한데 경우엔 최대한 의사결정을 모으고 하여서 결정하자는 주의였기 이러한 선택하였습니다 비용에 구애를 않으시다면 들어가는 결정은 아니라고 저의 가을에 달정도 어학연수를 이곳에 지냈었고 가을에는 가까운곳에서 원베드룸을 혼자도 두가지 장단점이 지내는 사람에 다르기는 최대장점은 사귈수 기회 상대적으로 높습니다 어학연수생도 많지만 대개 저희와 신분의 타국 학생입니다 신입생이나 첫해는 생활을 열려있습니다 답답하고 룸메이트를 잘못 만나면 죽고싶을만큼 혹은 죽이고 싶을만큼 괴롭습니다 강매 당하는 밀플랜으로 인해서 교내에서 억지로 먹어야 무엇보다 혼자서 자유이고 최대단점은 사귈 줄어드는 대 라는아파트형 교환학생은 두가지로 나눌 경우와 다른나라에서 경우입니다 모두가 각각의 장점을 교환학생들과친해져 미국생활을 편하게 싶거나 살고싶으신 분들 미국인학생들과 지원할 권합니다 싶으신분들은 쾌적하며 침실 개를 공유하며 욕실을 생활패턴이 맞지 고생했다는 기숙 이하 앞선 후기에서 비추다라는 글을 읽고 설마 그게 맞았습니다 실에 개당 방의 앞이라는 이점과 결합시키면 절대적인 측면에서는 나쁘진 상대적인 측면으로 엄청나게 평범한 한학기에 식비를 고려하더라도 렌트하는 비용이나 인캠퍼스 아파트먼트보다도 살아야한다는 사실은 부정적인 점입니다 하루에 쓰지 쌓이는 없어져 버리기 돈이 아깝다는 생각으로 금은 한학기동안 학교안에서 학교안에는 꽤나 메뉴가 바뀌는 고정된 식당이기에 한달정도 먹으면 늘 먹는게 정해지고 질립니다 그러고도 계정안에 남기에 그대로 포기하기에는 아깝고 과자 했었는데 썼었고 학기부터는 쉐어했었습니다 않았기 간식을 가기도 음식점은 체인점이라서 일년동안 먹기에는 질린다는 느낌을 받았기 신청하는 다른곳에서 준비해가는 편이 효율적이라고 세의 하우스에서 방렌트를 방학 동안은 쉐어 홈스테이가 만족스러웠어요 수수료 없이 매칭되는 가족과 학생을 찾을 곳이에요 다행히 운이 좋았지만 홈스테이는 복불복이란 얘기를 들어서 따져보시길 대체로 불만족이라 밀플랜도 의무이고 경쟁도 치열한 터라 지원하지도 않았고요 렌트는 구했는데 결과적으로 버렸다는 생각이 들었어요 주인도 세라 받을 알았는데 학교에선 웬만하면 드시지 마시고 찝니다 해드시는 권해요 싸려니와 친구들하고 요리하면서 카드 쇼핑하시면 신청서만 작성하면 돼 하였습니다 말씀하셨다 시피 먼저 사귀기 지원한 동기가 크지만 방배정은 아시아 사람들끼리 배정해줍니다 사귀기보다는 친하게 어울렸던 좁고 취사시설이 없으며 공동 낙후되고 화장실도 좁아 열악한 더욱이 상업적으로 대하는 같아서 안타까웠습니다 열쇠를 나두고 데스크에 문을 열어달라고 부탁을 적이 열어주는 비용으로 청구했습니다 정서상 이해하기 힘들고 불합리한 부분이라고 생각했습니다 더불어 비에 유용하지 정도를 사용 않는다 곳의 위생상태 불화로 받는다 역시도 힘든데 스트레스이다 구하면 밥인지 죽인지도 모를 심하게 차별을 받거나 된 대우도 못받게 본인의 스페인 중국인 혼혈인 아주머니의 들어갔다가 온간 인격모독을 당해야했었다 한국인이 출동하여 짐을 옮기고 마지막 얹혀살아야했다 갖춰져있고 이색음식을 좋아한다면 추천할 만하다 공유해야 욕실이 때문이다 기숙사비는 식비가 포함되어서 휴일 제외 불로 음식점 스타벅스를 이용할 하루가 지나면 소멸하기 생활하다 상당한 낭비이다 남은 쓰기 군것질거리를 사러 슈퍼에 들른다 생활한 불이었고 아침 저녁이 금액이다 첫째 집주인을 만나야 둘째 집의 위치가 버스타기에 위치여야 만족스러웠지만 집이 버스가 일찍 동네에 있었기에 꼬박꼬박 들어와야 이때문에 주최하는 파티에 어울리지 못했던 아쉽다 다운타운의 밤도 없었다 한학기는 홈 스테이 아파트라는 각기 이외에도 있는데요 개인적으로는 피에드라 델 솔 형태에 다른데요 확실한건 한국보다는 아파트의 스타디엄 헬스를 수영장이 헬스장과 수영장을 이용하다 거주하였습니다 확실하게 말씀드리고 싶은데요 마시고요 차라리 그것도 학교근처에 하시는걸 머문 실의 방이구요 옆방과 사용하는 형태지요 모 급할 아침시간에 쓴건 아니지만 낙후되어있고요 점은 음식조리가 불가능 하다는 었습니다 해먹는 성격인데요 그것이 안되니 햇반 컵라면 인스턴트 식품에 쩌들어서 지내다 왔습니다 반드시 음식 곳으로 가세요 그것을 삼아 생길 간 한국친구들과 친목을 도모하는 것에는 그거를 올 없다고 온캠퍼스 오프캠퍼스겠죠 여지껏 선택들 워스트였다고 자세히 설명해 주신 지낼 만 최악이라고 싶네요 어둡고 답답한 방에서 친구들이랑 넷이서 괜찮다고 문제는 환경에서 친구들보다 배의 낸다는 것이었습니다 비해도 배에 해당하는 기숙사비였고요 뒤늦게 나가려고 해지하는 어마어마했던 부모님들께서 걱정하시는 마음에 지내라고 하시지만 알차게 보내시려면 오프캠퍼스에 지내실 강력하게 권해드립니다 마치고 반정도 바다쪽으로 살았는 머물었습니다 후회되는 오프캠퍼스에서 살걸 그랬다는 신청했지만 값도 너무나 행정도 불친절하여 두고두고 후회했습니다 게다가 우연인지 의도적인지 모르겠으나 맺어지는 배정 받아서 바꾸느라 고생했습니다 여분의 있음에도 무슨 이유인지 모르게 바꾸어주지 한달동안 찾아가 따지고 결국 방식으로 하여 옮겼습니다 돌아와서 보니 바꾼 붙더군요 바꿔주지 고생했는데 내라니 어이가 형태여서 그나마 기숙사들 첫번째는 둘째는 셋째는 자취형식으로 이를 기준해서 경험을 바탕으로 설명하겠습니다 한학기단위로 들어 나오는데 안쓰면 축적되는것이 불을 못쓰면 나머지는 버려지게 살수 있는곳도 지정장소여서 한학기 비슷하거나 음식만 장점은 사니까 자기가 적극적이지 않더라도 몇몇 기숙사에도 형태가 에도 들은 정확한것은 정하셔야 환불하거나 바꾸기 힘듭니다 나는 앞 아파트라고 층짜리 분이면 어느 강의실이든 도착할 있었다는 점 갈때 걸어가는 무리 차가 가거나 택시를 타거나 나같은 계속 렌트했었기 요리하기도 이곳저곳을 돌아다니며 사 그리스 타이 베트남 많다 거주형태 받게 실로 하나에 공용화장실로 구성되어 들이 여기로 받는데 여긴 은근히 걸어다니기 불편합니다 중에서는 방도 취사가 가능해 원하면 해 편합니다 나오려면 본인 다음에 대리인을 구하든지 달러에 달하는 내야합니다 봤던 형편없는 곳이었어요 여기도 형식이라 넓긴 첫번째 기숙사인 생활했고 부엌이 딸려있어 먹을수 요리하는것기 귀찮다면 추천하고싶지는 않네요 편이라 묵는 망설여질 편리합니다 현지생활에 적응하기도 쉬운 같구요 분이라면 첫학기에 어느정도 적응을 홈스테이나 해보는것도 괜찮을 기숙사보다는 렌트비가 들어간다는 쯤 냅니다 계약 취소하는 게 어렵습니다 가을학기에 가신다면 머물 권하지만 입사나 체류는 피하시라고 구하시면 이하에 홈메이드 아니더라도 룸메를 구하셔서 사시거나 구입하실 거라면 괜찮은 가격의 방들 하시고 나가셔서 듯 권하지 년간 멕시코 독일출신의 멕시코인 사용했습니다 가진 친구였는데 아침일찍 나가고 오후부터 저녁까지는 듣고 밤에는 자는 반복하는 지라 있을시간이 않았었습니다 식당에서 사먹다가 한국마켓이 여기에서 쌀 반찬 사다 에는 제일마켓 한국마켓도 가을학기는 가정에서 보냈습니다 있습니다만 친구에 욕심이 단기간 주셨지만 위의 몇가지 기숙사중의 특별히 위한 시설이라고 본 취지는 명에 외국에서 명을 본격적인 문화교류가 가능하게 것이라고 들었으나 외국인인 좋았습니다 빌라들이 그룹을 이루고 발코니 샤워실을 갖춘 우리나라의 내부와 유사합니다 개이고 한방을 엘살바드로 벨라루시에서 살았었구요 신청하였으나 없어서 속해있는 살게되었습니다 저에게 주에서 해온 알 체험할 한국을 떠나기 신청했으나 양을 먹지 아끼는 겸해서 한달후 취소하고 현금이나 카드로 의무인 있으니 확인해 보세요 학교에서는 교환학생들에게 제공하고 편으로 서류가 제게 도착하질 주변에서 하숙을 집앞에서 학교까지 한번에 다니기는 했으나 시간에 꼴로 운행했기 놓치면 오래 기다려야 했었습니다 주인집에 안쓰는 몰고 통학하기도 했는데요 강의실 주차공간 찾기가 힘이 교내에는 푸드코트가 해결했습니다 한인타운으로 한국음식을 먹기도 근처에도 스시집 푸드 음식점들이 방식이 안의 방법과 얻어 방식인데요 얻으면 값이 싸다는 가까울수록 높아지기 있으신 분은 얻는 비싸지만 기본적인 살림 살이가 만나 고생하는 사람들도 봤습니다 기숙사들과는 음식에 필요한 전자레인지나 등은 걱정을 가질 필요는 우리학교 대게 곳에서도 들긴 돈이면 독방에 얻을 둘이 룸메이트끼리 친해지기 선택을 했다고 연대의 주지만 기숙사별로 다르지만 보시는 해당이 되므로 이곳으로 설명합니다 전혀 주지 요리 없었던 저로서는 왔던 누나들에게 다행이 밥도 얻어먹으며 신세를 졌습니다 시험기간에 바쁠때는 요리실력이 부족해서 주동안 아침은 귀찮아서 굶고 점심을 라면을 스테이크 봄학기에 단 학생은 의무로 살아야 모여살 강한 강점을 낡고 사귀면서 적응하는게 우선일테니 맘 미국아이와 자신들의 일만 아이들이라 제방 애들보다는 모두의 알기 가끔은 답답할때도 가족같은 느낌이 참 편하고 외로울때면 술을 마시면서 수다를 떨기도 해보고 싶어 친했던 국제학생과 구하기 시작했는데 생각보 패스트푸드점을 이용하는 좋지만 식당을 이용했습니다 일식 중식 한식 접할 커다란 한인마켓도 식료품 있었는데 이지 위해서는 걸어나와서 주차장 엘리베이터를 다리까지 로서의 이득은 시간만 맞추면 앞에서 스쿨버스를 이용하여 건물들이나 다닐 안에서도 라 들을 지정되어 작성하여 신청하셔야 있고요 쓰므로 한명은 현지 미국학생인 많은데요 명과 일본인 교환학생과 학생들의 개인주의가 철저하기도 일본친구와 가까워져서 솔직히 하우스메이트들과는 지내지 못했습니다 금액에 관계없이 원하는 선택할 국제학사인 인실용 욕실 테라스로 이루어진 빌라로 생활합니다 서로의 소개하는 국제학생들을 행사가 열리고 초나 생일에는 학생들끼리 열어 사이에서 인기가 높아 오기 인터넷에서 신청서를 출력하여 요리해서 하므로 학 거주형태는 가지가 되겠죠 교환학생들을 비롯해 원하시는 우편으로 보내오면 경험으로 미루어 보아 했는데도 자칫 늦어지게 들어가지 못하는 때문입니다 구하지 못했으나 희망하시는 소유의 기숙사지만 신청서 제반 서류들과 받으실 기억합니다 해외에서 학생들에게 이라 전화 연락망을 하숙시설을 중개해주고 신청이 늦어서 근방에서 하였고요 근방에는 수많은 하숙집들과 홈스테이집들 있으므로 양식에 선택폭이 시설에 천차만별이고 자동차를 가시지 하우스 메잇이나 주인이 택하시는게 없으면 생활하는데 불편이 이만저만이 아니기 픽업을 메이트가 하숙에 싱글룸 메잇을 통한 픽업 등으로 불편함 만족할 만한 중앙에 되지만 좀더 교환 학기당 교환학교에서 제공 정도하는 식비로 학생증 지급받는다 이익이라 하겠다 지원하는 입학허가서와 함께오는 되도록 보내서 들어갈 있기를 바란다 살아본 결과 미국친구들 뿐 세계에서 사귀기도 쉽기 건물로 되어있는데 아파트당 미국학생 명으로 이루어져있다 화장실로 매주마다 이벤트가 진행되고 교환학생끼리의 열려서 체험 동이 모여 곳으로서 있었다 들어가려면 입학 허가 원서를 받은 작성해서 보내야 생긴 채에 네 구성되었다 나의 아르헨티나 출신이었고 하우스메이트는 출신과 재학 중인 학생이었다 배려로 문화에 흥미를 이야기를 도움으로 학교생활이나 생활에 적응 우리뿐만 방들도 장보러 때나 다운타운에 때에 집으로 초대를 받기도 하였다 운 좋게 학교내에 이는 학년생들을 것들이고 마련되어 아니다 제때에 힘들기 못한다 학교밖에 거처를 정하게 일반가정에서 빌리고 숙식을 제공받는 혹시 구하거나 독립적인 사람들은 생활하기도 가구를 장만해야 해결해야 단기 유학생이나 초기 유학생들에게는 적합하지 않다 어디를 가나 패스트푸드의 천국이다 마켓에 간단히 데우거나 볶으면 요리가 있도록 만들어놓은 길거리에도 햄버거나 치킨 피자 패스트푸드점이 샌디에고에는 많았는데 부리또 타코 앤실라다스와 요리들이 유명하다 일본음식 다음으로 거취 문제에 얘기해보자 난 살다가 개월은 이사를 다녔다 불행히도 이곳 넓지 않은데 써야하고 개인용 나누어 써야 환경에 지남에 익숙해 질 것이고 있기도 나도 지낸 덕택에 지금까지도 주고받는 수반되는 다소 신경에 거슬렸다 한다는 부담감이 어쩔 필요 음식까지 사야만 정 살아보고 싶은 사람은 분을 식당에는 외국인이 동양 여러개 보이고 선에서 한끼 먹을만 했었다 시스템에 관한 모른다 윗도는 하기도 쳐박혀 것보다는 생활해보고 싶었기 선택했다 식사제공안함 두달 짜리 두달을 살았었다 싸기 봐다가 운전으로 수퍼마켓 노래방까지 점심 도시락도 싸가지고 다니고 그랬었다 룸메이트였는데 영어에는 쓴 같고 레스토랑에 한끼에'"
     },
     "metadata": {},
     "execution_count": 65
    }
   ],
   "source": [
    "\" \".join(zipped_bow_words_subtracted)"
   ]
  },
  {
   "cell_type": "code",
   "execution_count": 66,
   "metadata": {
    "tags": []
   },
   "outputs": [
    {
     "output_type": "stream",
     "name": "stdout",
     "text": "3025\n"
    }
   ],
   "source": [
    "print(len(zipped_bow_words_subtracted))"
   ]
  },
  {
   "cell_type": "code",
   "execution_count": null,
   "metadata": {},
   "outputs": [],
   "source": []
  },
  {
   "cell_type": "code",
   "execution_count": null,
   "metadata": {},
   "outputs": [],
   "source": []
  }
 ]
}