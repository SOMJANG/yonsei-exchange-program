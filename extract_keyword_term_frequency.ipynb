{
 "metadata": {
  "language_info": {
   "codemirror_mode": {
    "name": "ipython",
    "version": 3
   },
   "file_extension": ".py",
   "mimetype": "text/x-python",
   "name": "python",
   "nbconvert_exporter": "python",
   "pygments_lexer": "ipython3",
   "version": "3.8.3-final"
  },
  "orig_nbformat": 2,
  "kernelspec": {
   "name": "python38364bitnlpkorvenv03d7b81388604b8b8d7aed95a2d6b41b",
   "display_name": "Python 3.8.3 64-bit ('nlpkor': venv)"
  }
 },
 "nbformat": 4,
 "nbformat_minor": 2,
 "cells": [
  {
   "cell_type": "code",
   "execution_count": 1,
   "metadata": {},
   "outputs": [],
   "source": [
    "# 출력이 너무 길어지지 않게하기 위해 찍지 않도록 했으나 \n",
    "# 실제 학습 할 때는 아래 두 줄을 주석처리 하는 것을 권장한다.\n",
    "import warnings\n",
    "warnings.filterwarnings('ignore')"
   ]
  },
  {
   "cell_type": "code",
   "execution_count": 2,
   "metadata": {
    "tags": []
   },
   "outputs": [
    {
     "output_type": "stream",
     "name": "stdout",
     "text": "1.0.5\n1.18.5\n"
    }
   ],
   "source": [
    "import pandas as pd\n",
    "import numpy as np\n",
    "print(pd.__version__)\n",
    "print(np.__version__)"
   ]
  },
  {
   "cell_type": "code",
   "execution_count": 45,
   "metadata": {},
   "outputs": [],
   "source": [
    "# pandas 설정: 모든 row와 모든 column을 출력하게 하고, 각 column 별 출력되는 글자수는 50자 이내\n",
    "pd.set_option('display.max_rows', None, 'display.max_columns', None, 'display.max_colwidth', 50)"
   ]
  },
  {
   "cell_type": "code",
   "execution_count": 46,
   "metadata": {},
   "outputs": [
    {
     "output_type": "execute_result",
     "data": {
      "text/plain": "       대학코드                             대학명  \\\n0  AR000004        Universidad del Salvador   \n1  AU000019  Australian National University   \n\n                                            gen_info  \\\n0  아르헨티나의 대다수 대학교는 한국처럼 캠퍼스가 있는 것이 아니라 도시 내에 몇개의 ...   \n1  ANU has a very big campus, but unlike Yonsei, ...   \n\n                                            env_info  \\\n0  대학교가 도시 여러곳에 분포하고 있으므로 각기 다르다. 하지만 남녀를 불문하고 부에...   \n1  The city center, called CIVIC, is 20min walk a...   \n\n                                           food_info  \\\n0  기숙사는 학교에서 제공하지 않고 두가지 옵션이 주어진다. 홈스테이 혹은 게스트 하우...   \n1  There are many housing options, but I chose to...   \n\n                                          study_info  \\\n0  아르헨티나에서의 대학 수업은 주로 오전 혹은 저녁에 있다. 대부분의 학생들이 일을하...   \n1  In my personal opinions, classes are generally...   \n\n                                         office_info  \\\n0  EL SALVADOR대학교는 국제 교육부가 잘 되있는 학교이다. 아르헨티나 대학교들...   \n1  Overall, I did not have to ask for help much f...   \n\n                                          facil_info  \\\n0  부대시설로는 헬스장이 있다고 알고 있으나 시내와 먼 곳에 있었다. 동아리는 몇가지 ...   \n1  There were many clubs for you to join at ANU, ...   \n\n                                           mhct_info  \\\n0  딱히 컬쳐쇼크를 받을 만 한 요소는 없었던 것 같다. 하지만 처음에 언어적인 면에서...   \n1  I did have some culture shock during my first ...   \n\n                                           help_info  \\\n0  살바도르 대학교 국제처에서 비자문제나 숙소문제(홈스테이경우) 등은 해결해 주고, 특...   \n1  I was helped a lot, especially during the firs...   \n\n                                            etc_info  \n0                                                NaN  \n1  Overall, my stay in Australia has been nothing...  ",
      "text/html": "<div>\n<style scoped>\n    .dataframe tbody tr th:only-of-type {\n        vertical-align: middle;\n    }\n\n    .dataframe tbody tr th {\n        vertical-align: top;\n    }\n\n    .dataframe thead th {\n        text-align: right;\n    }\n</style>\n<table border=\"1\" class=\"dataframe\">\n  <thead>\n    <tr style=\"text-align: right;\">\n      <th></th>\n      <th>대학코드</th>\n      <th>대학명</th>\n      <th>gen_info</th>\n      <th>env_info</th>\n      <th>food_info</th>\n      <th>study_info</th>\n      <th>office_info</th>\n      <th>facil_info</th>\n      <th>mhct_info</th>\n      <th>help_info</th>\n      <th>etc_info</th>\n    </tr>\n  </thead>\n  <tbody>\n    <tr>\n      <th>0</th>\n      <td>AR000004</td>\n      <td>Universidad del Salvador</td>\n      <td>아르헨티나의 대다수 대학교는 한국처럼 캠퍼스가 있는 것이 아니라 도시 내에 몇개의 ...</td>\n      <td>대학교가 도시 여러곳에 분포하고 있으므로 각기 다르다. 하지만 남녀를 불문하고 부에...</td>\n      <td>기숙사는 학교에서 제공하지 않고 두가지 옵션이 주어진다. 홈스테이 혹은 게스트 하우...</td>\n      <td>아르헨티나에서의 대학 수업은 주로 오전 혹은 저녁에 있다. 대부분의 학생들이 일을하...</td>\n      <td>EL SALVADOR대학교는 국제 교육부가 잘 되있는 학교이다. 아르헨티나 대학교들...</td>\n      <td>부대시설로는 헬스장이 있다고 알고 있으나 시내와 먼 곳에 있었다. 동아리는 몇가지 ...</td>\n      <td>딱히 컬쳐쇼크를 받을 만 한 요소는 없었던 것 같다. 하지만 처음에 언어적인 면에서...</td>\n      <td>살바도르 대학교 국제처에서 비자문제나 숙소문제(홈스테이경우) 등은 해결해 주고, 특...</td>\n      <td>NaN</td>\n    </tr>\n    <tr>\n      <th>1</th>\n      <td>AU000019</td>\n      <td>Australian National University</td>\n      <td>ANU has a very big campus, but unlike Yonsei, ...</td>\n      <td>The city center, called CIVIC, is 20min walk a...</td>\n      <td>There are many housing options, but I chose to...</td>\n      <td>In my personal opinions, classes are generally...</td>\n      <td>Overall, I did not have to ask for help much f...</td>\n      <td>There were many clubs for you to join at ANU, ...</td>\n      <td>I did have some culture shock during my first ...</td>\n      <td>I was helped a lot, especially during the firs...</td>\n      <td>Overall, my stay in Australia has been nothing...</td>\n    </tr>\n  </tbody>\n</table>\n</div>"
     },
     "metadata": {},
     "execution_count": 46
    }
   ],
   "source": [
    "# 위의 설정으로 간단하게 보는 df_specific\n",
    "df_specific = pd.read_csv(\"./data_wrangled/df_specific_wrangle.csv\", encoding=\"utf-8\")\n",
    "df_specific.head(2)"
   ]
  },
  {
   "cell_type": "code",
   "execution_count": 47,
   "metadata": {},
   "outputs": [
    {
     "output_type": "execute_result",
     "data": {
      "text/plain": "         대학코드                    대학명  \\\n468  US000274      Whitworth College   \n469  US000278  Wittenberg University   \n\n                                              gen_info  \\\n468  내가 다녀온 교환대학은 Washington State 에 위치한 Whitworth ...   \n469  Wittenberg는 Ohio주의 작은 도시 Springfield에 위치해 있다. ...   \n\n                                              env_info  \\\n468  Whitworth College는 Seattle에서 비행기로 40분 정도 떨어져 있...   \n469  Springfield의 downtown에는 우체국, 은행(huntington) 정도...   \n\n                                             food_info  \\\n468  나는 Whitworth College에서 기숙사에 살았다. ISEP으로 가게 되면 ...   \n469  1,2학년과 국제학생들 (1년 이하로 있는 학생들)은 모두 기숙사에서 생활하게 된다...   \n\n                                            study_info  \\\n468  내가 미국에 가기 전에 가장 두려워했던 것은 바로 수업이었다. 어학연수와는 달리 교...   \n469  도서관은 Thomas library가 main이고 다른 단과대학 건물에 독서실이 있...   \n\n                                           office_info  \\\n468  이 학교에서 내가 마음 편하게 지낼 수 있었던 것은 국제교육부 스텝들이 너무 따뜻하...   \n469  국제교류부는 Hollenbeck 건물 1층에 있는데, Joann 과 Betsy 두 ...   \n\n                                            facil_info  \\\n468  기타 학교의 부대 시설로는 fitness center, music hall, soc...   \n469  Wittenberg의 가장 큰 장점. nWittenberg는 학비가 무척 비싼 학교...   \n\n                                             mhct_info  \\\n468                                                NaN   \n469  한국에서는 흔치 않은 gay, lesbian, transgender 등을 만날 수 ...   \n\n                                             help_info  \\\n468                                                NaN   \n469  Wittenberg는 국제학생들에게 host family를 붙여준다. 비록 같이 살...   \n\n                                              etc_info  \n468  처음에 Whitworth College를 ISEP으로부터 배정 받았을 때 현실적으로...  \n469  이처럼 wittenberg는 시골에 있는 작은 학교지만 지리적인 위치로 인한 단점보...  ",
      "text/html": "<div>\n<style scoped>\n    .dataframe tbody tr th:only-of-type {\n        vertical-align: middle;\n    }\n\n    .dataframe tbody tr th {\n        vertical-align: top;\n    }\n\n    .dataframe thead th {\n        text-align: right;\n    }\n</style>\n<table border=\"1\" class=\"dataframe\">\n  <thead>\n    <tr style=\"text-align: right;\">\n      <th></th>\n      <th>대학코드</th>\n      <th>대학명</th>\n      <th>gen_info</th>\n      <th>env_info</th>\n      <th>food_info</th>\n      <th>study_info</th>\n      <th>office_info</th>\n      <th>facil_info</th>\n      <th>mhct_info</th>\n      <th>help_info</th>\n      <th>etc_info</th>\n    </tr>\n  </thead>\n  <tbody>\n    <tr>\n      <th>468</th>\n      <td>US000274</td>\n      <td>Whitworth College</td>\n      <td>내가 다녀온 교환대학은 Washington State 에 위치한 Whitworth ...</td>\n      <td>Whitworth College는 Seattle에서 비행기로 40분 정도 떨어져 있...</td>\n      <td>나는 Whitworth College에서 기숙사에 살았다. ISEP으로 가게 되면 ...</td>\n      <td>내가 미국에 가기 전에 가장 두려워했던 것은 바로 수업이었다. 어학연수와는 달리 교...</td>\n      <td>이 학교에서 내가 마음 편하게 지낼 수 있었던 것은 국제교육부 스텝들이 너무 따뜻하...</td>\n      <td>기타 학교의 부대 시설로는 fitness center, music hall, soc...</td>\n      <td>NaN</td>\n      <td>NaN</td>\n      <td>처음에 Whitworth College를 ISEP으로부터 배정 받았을 때 현실적으로...</td>\n    </tr>\n    <tr>\n      <th>469</th>\n      <td>US000278</td>\n      <td>Wittenberg University</td>\n      <td>Wittenberg는 Ohio주의 작은 도시 Springfield에 위치해 있다. ...</td>\n      <td>Springfield의 downtown에는 우체국, 은행(huntington) 정도...</td>\n      <td>1,2학년과 국제학생들 (1년 이하로 있는 학생들)은 모두 기숙사에서 생활하게 된다...</td>\n      <td>도서관은 Thomas library가 main이고 다른 단과대학 건물에 독서실이 있...</td>\n      <td>국제교류부는 Hollenbeck 건물 1층에 있는데, Joann 과 Betsy 두 ...</td>\n      <td>Wittenberg의 가장 큰 장점. nWittenberg는 학비가 무척 비싼 학교...</td>\n      <td>한국에서는 흔치 않은 gay, lesbian, transgender 등을 만날 수 ...</td>\n      <td>Wittenberg는 국제학생들에게 host family를 붙여준다. 비록 같이 살...</td>\n      <td>이처럼 wittenberg는 시골에 있는 작은 학교지만 지리적인 위치로 인한 단점보...</td>\n    </tr>\n  </tbody>\n</table>\n</div>"
     },
     "metadata": {},
     "execution_count": 47
    }
   ],
   "source": [
    "# 위의 설정으로 간단하게 보는 df_specific\n",
    "df_specific.tail(2)"
   ]
  },
  {
   "cell_type": "code",
   "execution_count": 6,
   "metadata": {
    "tags": []
   },
   "outputs": [
    {
     "output_type": "stream",
     "name": "stdout",
     "text": "Index(['대학코드', '대학명', 'gen_info', 'env_info', 'food_info', 'study_info',\n       'office_info', 'facil_info', 'mhct_info', 'help_info', 'etc_info'],\n      dtype='object')\n(470, 11)\n"
    }
   ],
   "source": [
    "print(df_specific.columns)\n",
    "print(df_specific.shape)"
   ]
  },
  {
   "cell_type": "code",
   "execution_count": 48,
   "metadata": {},
   "outputs": [],
   "source": [
    "# pandas 설정: 각 column 별 (혹은 한 cell에서) 출력되는 글자수 제한을 없애기\n",
    "pd.set_option('display.max_colwidth', None)"
   ]
  },
  {
   "cell_type": "code",
   "execution_count": 8,
   "metadata": {},
   "outputs": [],
   "source": [
    "import re\n",
    "# removing junks from the string data\n",
    "def remove_junk(str_data):\n",
    "    str_data = str_data.replace(\"\\\\\\\\n\", \"\")\n",
    "    str_data = str_data.replace(\"\\\\n\", \"\")\n",
    "    str_data = str_data.replace(\"\\n\", \"\")\n",
    "    str_data = str_data.replace(\"\\\\\", \"\")\n",
    "    str_data = str_data.replace(\"\\\\t\", \"\")\n",
    "    str_data = str_data.replace(\"NaN\", \"\")\n",
    "\n",
    "    # print(str_data) makes an error. too much of data\n",
    "    # 한글, english 빼고 전부 날리기\n",
    "    # str_data = re.sub('[^가-힣ㄱ-ㅎㅏ-ㅣa-zA-Z|0-9|.,]', ' ', str_data)\n",
    "\n",
    "    # 한글 빼고 다 날리기\n",
    "    str_data = re.sub('[^가-힣ㄱ-ㅎㅏ]', ' ', str_data)\n",
    "\n",
    "    # replace multiple spaces into single space\n",
    "    str_data = ' '.join(str_data.split())\n",
    "    return str_data"
   ]
  },
  {
   "cell_type": "code",
   "execution_count": 9,
   "metadata": {},
   "outputs": [],
   "source": [
    "# accessing university info of given column (= accessing one cell)\n",
    "def access_univ_info(dataframe, column, univ_code):\n",
    "    df_row = dataframe.loc[dataframe[\"대학코드\"] == univ_code]\n",
    "    str_univ_info = df_row[column].to_string(index=False).lstrip()\n",
    "    str_univ_info = remove_junk(str_univ_info)\n",
    "    return str_univ_info"
   ]
  },
  {
   "cell_type": "code",
   "execution_count": 10,
   "metadata": {
    "tags": []
   },
   "outputs": [
    {
     "output_type": "execute_result",
     "data": {
      "text/plain": "'코펜하겐 대학교는 자연과학캠퍼스 인문캠퍼스 등 코펜하겐 시내 곳곳에 흩어져 있습니다 저는 조경건축 수업을 듣기 위해 에 위치한 자연과학 캠퍼스도 다니고 덴마크어 수업과 미디어커뮤니'"
     },
     "metadata": {},
     "execution_count": 10
    }
   ],
   "source": [
    "column_data = \"gen_info\"\n",
    "univ_code = \"DK000003\"\n",
    "str_example = access_univ_info(df_specific, column_data, univ_code)\n",
    "str_example[:100]"
   ]
  },
  {
   "cell_type": "code",
   "execution_count": 11,
   "metadata": {},
   "outputs": [],
   "source": [
    "# collecting all column values into one string\n",
    "def column_to_string(dataframe, column_name: str):\n",
    "    str_corpus = dataframe[column_name].to_string(index=False).lstrip()\n",
    "    str_corpus = remove_junk(str_corpus)\n",
    "    return str_corpus"
   ]
  },
  {
   "cell_type": "code",
   "execution_count": 12,
   "metadata": {
    "tags": []
   },
   "outputs": [
    {
     "output_type": "stream",
     "name": "stdout",
     "text": "글자수: 3985044\n"
    },
    {
     "output_type": "execute_result",
     "data": {
      "text/plain": "'아르헨티나의 대다수 대학교는 한국처럼 캠퍼스가 있는 것이 아니라 도시 내에 몇개의 건물이 대학교 건물이라서 수업에 맞는 건물로 수업을 들으러 가면 된다 도시의 대중교통이 꽤 잘 되'"
     },
     "metadata": {},
     "execution_count": 12
    }
   ],
   "source": [
    "# collecting all column values into one string\n",
    "corpus = column_to_string(df_specific, column_data)\n",
    "print(\"글자수:\", len(corpus))\n",
    "corpus[:100]"
   ]
  },
  {
   "cell_type": "code",
   "execution_count": 13,
   "metadata": {},
   "outputs": [],
   "source": [
    "info_list = ['gen_info', 'env_info', 'food_info', 'study_info', 'office_info', 'facil_info', 'mhct_info', 'help_info', 'etc_info']"
   ]
  },
  {
   "cell_type": "code",
   "execution_count": 14,
   "metadata": {
    "tags": []
   },
   "outputs": [
    {
     "output_type": "stream",
     "name": "stdout",
     "text": "gen_info 3985044\nenv_info 3316342\nfood_info 4212609\nstudy_info 3970047\noffice_info 2022400\nfacil_info 2832921\nmhct_info 2307935\nhelp_info 1582255\netc_info 2521724\n"
    }
   ],
   "source": [
    "# count how many letters are tehre for each combined columns\n",
    "for info in info_list:\n",
    "    corpus_sample = column_to_string(df_specific, info)\n",
    "    print(info, len(corpus_sample))"
   ]
  },
  {
   "cell_type": "markdown",
   "metadata": {},
   "source": [
    "## Tokenizing Sample Corpus"
   ]
  },
  {
   "cell_type": "code",
   "execution_count": 15,
   "metadata": {},
   "outputs": [],
   "source": [
    "stopwords = []"
   ]
  },
  {
   "cell_type": "code",
   "execution_count": 16,
   "metadata": {},
   "outputs": [
    {
     "output_type": "execute_result",
     "data": {
      "text/plain": "<soynlp.tokenizer._tokenizer.LTokenizer at 0x11eaf6790>"
     },
     "metadata": {},
     "execution_count": 16
    }
   ],
   "source": [
    "# https://github.com/lovit/soynlp\n",
    "from soynlp.tokenizer import RegexTokenizer, LTokenizer\n",
    "\n",
    "tokenizer = LTokenizer()\n",
    "tokenizer"
   ]
  },
  {
   "cell_type": "code",
   "execution_count": 17,
   "metadata": {
    "tags": []
   },
   "outputs": [
    {
     "output_type": "stream",
     "name": "stdout",
     "text": "글자수: 3316342\n대학교가 도시 여러곳에 분포하고 있으므로 각기 다르다 하지만 남녀를 불문하고 부에노스 아이레스에서 밤에 혼자 다니는 것은 위험하다 낮에는 대체적으로 사람들이 많이 다니므로 위험하지\n"
    }
   ],
   "source": [
    "column_data = \"env_info\"\n",
    "# collecting all column values into one string\n",
    "corpus = column_to_string(df_specific, column_data)\n",
    "print(\"글자수:\", len(corpus))\n",
    "print(corpus[:100])"
   ]
  },
  {
   "cell_type": "code",
   "execution_count": 18,
   "metadata": {
    "tags": []
   },
   "outputs": [
    {
     "output_type": "stream",
     "name": "stdout",
     "text": "number of tokenized words in a corpus are: 849199\n['대학교가', '도시', '여러곳에', '분포하고', '있으므로', '각기', '다르다', '하지만', '남녀를', '불문하고']\n"
    }
   ],
   "source": [
    "# corpus is info column converted into one string\n",
    "tokenized_corpus = tokenizer.tokenize(corpus)\n",
    "print(f\"number of tokenized words in a corpus are: {len(tokenized_corpus)}\")\n",
    "print(tokenized_corpus[:10])"
   ]
  },
  {
   "cell_type": "code",
   "execution_count": 19,
   "metadata": {},
   "outputs": [],
   "source": [
    "from collections import Counter"
   ]
  },
  {
   "cell_type": "code",
   "execution_count": 20,
   "metadata": {
    "tags": []
   },
   "outputs": [
    {
     "output_type": "stream",
     "name": "stdout",
     "text": "number of counted words: 90231\n[('수', 14856), ('있습니다', 12950), ('있는', 9087), ('학교', 7678), ('있고', 5146), ('때문에', 4994), ('분', 4895), ('있다', 4673), ('이', 4366), ('많이', 3986), ('큰', 3600), ('타고', 3595), ('있는데', 3354), ('갈', 3238), ('있어서', 3175), ('라는', 3064), ('그', 3016), ('가', 2890), ('버스를', 2778), ('정도', 2654), ('그리고', 2640), ('캠퍼스', 2553), ('바로', 2448), ('등', 2441), ('에', 2427), ('는', 2421), ('하지만', 2419), ('학교에서', 2394), ('있어', 2384), ('대학', 2379), ('매우', 2370), ('같은', 2368), ('것', 2332), ('할', 2302), ('등이', 2247), ('작은', 2159), ('가장', 2121), ('정말', 2058), ('거리에', 2052), ('주변에', 1993), ('를', 1987), ('한', 1980), ('많은', 1958), ('더', 1934), ('다', 1911), ('가면', 1899), ('잘', 1821), ('걸어서', 1755), ('자주', 1749), ('거의', 1744), ('다른', 1717), ('것이', 1712), ('좋은', 1710), ('에서', 1702), ('또한', 1694), ('주로', 1658), ('주변에는', 1623), ('저는', 1575), ('볼', 1513), ('때', 1497), ('합니다', 1494), ('와', 1485), ('조금', 1467), ('근처에', 1464), ('학생들이', 1464), ('있기', 1441), ('없습니다', 1427), ('위치해', 1392), ('가까운', 1384), ('곳에', 1383), ('필요한', 1377), ('곳이', 1346), ('있으며', 1345), ('여러', 1344), ('다양한', 1309), ('이라는', 1308), ('주변', 1308), ('또', 1304), ('좋습니다', 1265), ('의', 1264), ('같습니다', 1206), ('가는', 1205), ('특히', 1187), ('됩니다', 1187), ('한국', 1181), ('곳은', 1137), ('버스', 1136), ('위치하고', 1126), ('위치한', 1113), ('모든', 1091), ('것은', 1082), ('하는', 1076), ('도시', 1062), ('번', 1048), ('좀', 1041), ('은', 1035), ('있을', 1034), ('많습니다', 1030), ('음식점', 1023), ('굉장히', 1018), ('주변은', 1011), ('을', 997), ('모두', 995), ('차를', 983), ('나', 975), ('수도', 971), ('있지만', 970), ('많고', 969), ('살', 958), ('것도', 945), ('기숙사', 942), ('시간', 930), ('도', 926), ('차가', 925), ('나가면', 924), ('것을', 920), ('꽤', 919), ('각종', 917), ('아주', 915), ('타면', 888), ('이용할', 883), ('라고', 880), ('식당', 880), ('유명한', 879), ('않습니다', 875), ('친구들과', 873), ('에는', 861), ('분정도', 848), ('있어요', 847), ('과', 844), ('영화관', 840), ('경우', 834), ('없는', 817), ('대부분', 812), ('대형', 810), ('쉽게', 808), ('쇼핑을', 808), ('제가', 801), ('대부분의', 799), ('등을', 792), ('버스로', 781), ('하고', 778), ('몇', 765), ('파는', 756), ('두', 751), ('가서', 746), ('카페', 745), ('약', 735), ('정도로', 733), ('옆에', 730), ('마트', 726), ('시내', 721), ('크게', 719), ('될', 717), ('사실', 708), ('미국', 707), ('앞에', 704), ('곳입니다', 699), ('편입니다', 699), ('등의', 696), ('가게', 688), ('없다', 683), ('차로', 670), ('자전거를', 655), ('사람들이', 651), ('물론', 651), ('꼭', 642), ('안에', 637), ('사는', 636), ('같이', 631), ('중심으로', 626), ('은행', 621), ('로', 615), ('아니라', 610), ('하나', 610), ('장을', 603), ('버스가', 603), ('따라', 602), ('곳', 601), ('즐길', 599), ('그래도', 596), ('및', 589), ('있으니', 577), ('마트가', 576), ('조용한', 574), ('무료로', 574), ('그래서', 573), ('학교가', 572), ('했습니다', 570), ('지하철', 566), ('보통', 561), ('그러나', 560), ('내에', 560), ('레스토랑', 558), ('역', 558), ('조용하고', 551), ('너무', 548), ('개', 548), ('자체가', 546), ('좋을', 541), ('가끔', 536), ('보면', 535), ('상당히', 534), ('먹을', 533), ('때는', 533), ('별로', 528), ('중', 528), ('조금만', 527), ('서점', 525), ('떨어진', 524), ('없고', 523), ('한다', 517), ('있었습니다', 517), ('맛있는', 515), ('캠퍼스에서', 511), ('거리가', 511), ('근처에는', 504), ('않은', 499), ('대학교', 494), ('것입니다', 492), ('비교적', 491), ('많아서', 490), ('상점들이', 489), ('편리합니다', 488), ('만큼', 482), ('걸어가면', 480), ('곳에서', 480), ('구입할', 478), ('다만', 476), ('쇼핑몰', 473), ('입니다', 473), ('그리', 467), ('게', 461), ('캠퍼스는', 458), ('것이다', 457), ('않고', 454), ('전혀', 453), ('안전한', 453), ('기숙사에서', 449), ('쇼핑몰이', 448), ('쇼핑', 447), ('혼자', 444), ('도보로', 444), ('등등', 443), ('저렴한', 443), ('아름다운', 437), ('이나', 437), ('함께', 437), ('음식을', 437), ('않지만', 435), ('안', 435), ('시내에', 432), ('혹은', 426), ('다운타운', 426), ('환경은', 424), ('근처', 424), ('된다', 423), ('추천합니다', 422), ('그냥', 421), ('항상', 417), ('시', 417), ('시간을', 417), ('탈', 416), ('웬만한', 413), ('음식점들이', 412), ('않는', 411), ('있으면', 410), ('좋다', 407), ('학교를', 405), ('밖에', 402), ('구할', 402), ('학생들은', 402), ('밤에', 400), ('생활에', 397), ('있다고', 396), ('해서', 396), ('따라서', 392), ('다니는', 391), ('곳으로', 391), ('백화점', 390), ('없이', 389), ('종종', 389), ('떨어져', 388), ('이용하면', 388), ('비해', 387), ('그렇게', 386), ('모여', 384), ('곳을', 384), ('역시', 384), ('건물', 381), ('되면', 381), ('다운타운에', 380), ('곳도', 376), ('같아요', 374), ('제일', 373), ('여기서', 373), ('거리', 372), ('개의', 371), ('캠퍼스가', 370), ('옷가게', 368)]\n"
    }
   ],
   "source": [
    "tokenized_corpus_counted = Counter(tokenized_corpus)\n",
    "print(\"number of counted words:\", len(tokenized_corpus_counted))\n",
    "common_words = tokenized_corpus_counted.most_common(300)\n",
    "print(common_words)"
   ]
  },
  {
   "cell_type": "code",
   "execution_count": 21,
   "metadata": {
    "tags": []
   },
   "outputs": [
    {
     "output_type": "stream",
     "name": "stdout",
     "text": "['수', '있습니다', '있는', '학교', '있고', '때문에', '분', '있다', '이', '많이']\n"
    }
   ],
   "source": [
    "common_words_list, frequency_list = map(list, zip(*common_words))\n",
    "print(common_words_list[:10])"
   ]
  },
  {
   "cell_type": "code",
   "execution_count": 49,
   "metadata": {
    "tags": []
   },
   "outputs": [],
   "source": [
    "# removing possible significant words from common words\n",
    "def filter_stopwords():\n",
    "    stopwords_candidates = []\n",
    "\n",
    "    for info in info_list:\n",
    "        # info column series\n",
    "        df_info = df_specific[info].fillna(\"\")\n",
    "        print(df_info.shape)\n",
    "        \n",
    "        # info column converted into one string\n",
    "        corpus = column_to_string(df_specific, info)\n",
    "        tokenized_corpus = tokenizer.tokenize(corpus)\n",
    "        print(tokenized_corpus[:10])\n",
    "        print(f\"number of tokenized words in a corpus are: {len(tokenized_corpus)}\")\n",
    "\n",
    "        tokenized_corpus_counted = Counter(tokenized_corpus)\n",
    "        print(\"number of counted words:\", len(tokenized_corpus_counted))\n",
    "\n",
    "        common_words = tokenized_corpus_counted.most_common(300)\n",
    "        common_words_list, frequency_list = map(list, zip(*common_words))\n",
    "        print(common_words_list[:10])    \n",
    "\n",
    "        stopwords_candidates += common_words_list\n",
    "        print(len(stopwords_candidates))\n",
    "\n",
    "        for i in stopwords_candidates:\n",
    "            if df_info.str.contains(i).sum() < 120:\n",
    "                print(f\"{i} word not appear in less than 1/4 of universities\")\n",
    "                stopwords_candidates.remove(i)\n",
    "        \n",
    "        print(len(stopwords_candidates))\n",
    "        print(f\"{random.sample(stopwords_candidates,10)} are random stopwords candidates\")\n",
    "        \n",
    "        stopwords = stopwords_candidates\n",
    "        \n",
    "        with open(\"file.txt\", \"wt\", encoding=\"UTF8\") as output:\n",
    "            output.write(stopwords)"
   ]
  },
  {
   "cell_type": "code",
   "execution_count": 95,
   "metadata": {
    "tags": []
   },
   "outputs": [
    {
     "output_type": "execute_result",
     "data": {
      "text/plain": "['있습니다', '수', '있는', '때문에', '는', '많이', '매우', '학교', '큰', '분']"
     },
     "metadata": {},
     "execution_count": 95
    }
   ],
   "source": [
    "stopwords_file = open('stopwords_kr.txt','rt', encoding='UTF8')\n",
    "stopwords_txt = stopwords_file.read()\n",
    "stopwords_list = stopwords_txt.strip('').split(', ')\n",
    "stopwords_list[:10]"
   ]
  },
  {
   "cell_type": "markdown",
   "metadata": {},
   "source": [
    "## Tokenizing one column of university dataframe with soynlp"
   ]
  },
  {
   "cell_type": "code",
   "execution_count": 96,
   "metadata": {},
   "outputs": [],
   "source": [
    "column_data = \"food_info\"\n",
    "# df_column = df_specific[df_specific[column_data].notnull()]\n",
    "df_column = df_specific[column_data].fillna(\"\")"
   ]
  },
  {
   "cell_type": "code",
   "execution_count": 97,
   "metadata": {},
   "outputs": [
    {
     "output_type": "execute_result",
     "data": {
      "text/plain": "0    기숙사는 학교에서 제공하지 않고 두가지 옵션이 주어진다. 홈스테이 혹은 게스트 하우스(혹은 학생레지던스) 홈스테이를 하는 경우 홈스테이 가족에서 아침과 저녁식사를 제공하고 점심식사는 나가서 사먹어야 한다. 가족에 따라 집에서 요리를 할 수 있는 경우가 있고 할 수 없는 경우가 있다. 그리고 홈스테이는 아르헨티나 사람들에 대해서 잘 알 수 있는 기회가 될 수 있지만 본인의 친구들 중 몇몇은 안좋은 가족들이 걸려서 집에서 불편했었다고 한다. 본인은 학생 레지던스에서 살았었다. 1인1실이 아니라 방별로 2인1실, 3인1실, 5인1실 이 있었고 화장실과 부엌은 대부분 같이 사용했다. 레지던스 별로 1인1실도 있고 개인화장실이 있는 경우도 있다. (대부분 부엌은 공동사용이다.) 본인이 있었던 곳에는 한국사람이 하나도 없고 거의 다 스페인어권 사람이어서 스페인어를 배우기에 좋았고 또 남아메리카, 중앙아메리카 여러 나라들의 사람들, 음식, 등등을 알 수 있게 되어서 정말로 뜻깊은 경험이 ...\nName: food_info, dtype: object"
     },
     "metadata": {},
     "execution_count": 97
    }
   ],
   "source": [
    "df_column.head(1)[:100]"
   ]
  },
  {
   "cell_type": "code",
   "execution_count": 98,
   "metadata": {},
   "outputs": [
    {
     "output_type": "execute_result",
     "data": {
      "text/plain": "469    1,2학년과 국제학생들 (1년 이하로 있는 학생들)은 모두 기숙사에서 생활하게 된다. 나는 1년동안 엘리베이터가 있는 11층 건물인 Tower hall에 살았다. 그 외에도 new dorm, polis house 등 총 5개의 기숙사가 있다. 거의 2인 1실이고, 방은 꽤 넓은 편이다. 침대, 책상, 옷장, 화장대가 구비되어 있고 각 층마다 RA가 있다. 기숙사마다 매주 모임 혹은 행사가 있다. (영화보기, football 보기 등) 거의 모든 학생들이 기숙사에 살거나 학교에서 소유하고 있는 아파트에 살기 때문에 친구들를 사귀기 쉽다. 나의 경우 같은 기숙사 같은 층에 사는 친구들과 친해져서 외롭지 않게 생활할 수 있었다. 덧붙여서 wittenberg 사람들은 매우 친절해서 모르는 사이라도 지나가다가 마주치면 인사하는 가족같은 분위기이다. n식사는 1,2학년 학생들의 경우 meal plan을 이용하는데 국제학생의 경우 1주일에 15meal을 사용한다. Student cent... 모든 신입생들은 학교의 기숙사에서 살아야 하며, 2학년부터는 학교의 소유로 되어있는 주변의 주택 혹은 아파트를 빌려서 살 수 있다. 두 가지 경우 모두 경비는 비슷한 듯 하지만, 기숙사에 있는 경우 여러 가지 규칙들이 있고 반드시 meal plan 을 해야하는 부담이 있기 때문에 많은 학생들이 기숙사 밖에서 사는 것을 선호한다. 하지만, 기숙사도 시설이 상당히 좋고 방도 꽤 넓어서 웬만한 학생들이 방 안에 기본적으로 달려 있는 큰 책상과 개별 침대, 큰 개인 옷장 두개씩 이외에 따로 쇼파, 텔레비젼, 오디오, 냉장고 등을 갖추어 놓고 산다. 그리고 규칙이라고 해봐야, 초를 사용하지 못한다거나 밤 9시에서 새벽 네 시 사이에는 학생 아이디를 입구의 nightguard 에게 보여주어야 한다는 정도이지, 매우 자유로운 분위기이다. 물론 기숙사 동마다 그리고 같은 기숙사 내에서도 층마다의 분위기가 조금씩 다르긴 하여서, south hall 의 경우 남학생 층은 복도에만 들어서도 퀴퀴... ISEP 프로그램은 그 학교의 기숙사비, 식비에 상관없이 ISEP으로 일정 금액을 떠나기 전에 먼저 지불한다. 사립이어서 모든 것이 비싼 Wittenberg의 경우 얼마의 금액을 ISEP으로부터 지원을 받는 셈이다. 이 학교의 1,2학년 학생들은 의무적으로 기숙사 생활을 한다. 통틀어 7개의 기숙사가 있는데 내가 머물렀던 Hanley Hall만이 여학생들만 사용하는 기숙사이고 나머지는 남녀가 함께 사용하는 co-ed이다. 물론 남녀 학생이 같은 방을 사용하는 것은 아니다. 대부분의 국제 여학생들은 Hanley에 배정을 받는데 그만큼 조용하고 깨끗한 곳이다. 모든 기숙사가 2인 1실이며 원할 경우 혼자서 사용할 수도 있다. 일단 배정을 받고 어느 정도 생활을 한 후에 Roommate와 궁합이 맞지 않으면 바꿀 수도 있다. 기본적으로 옷장, 서랍장, 책상, 침대가 갖추어져 있는데 대부분의 학생들이 TV, 비디오, 선풍기, 냉장고, 소파 등을 다 갖추어 놓고 생활한다. 나의 경우 ...\nName: food_info, dtype: object"
     },
     "metadata": {},
     "execution_count": 98
    }
   ],
   "source": [
    "df_column.tail(1)[:100]"
   ]
  },
  {
   "cell_type": "code",
   "execution_count": 99,
   "metadata": {},
   "outputs": [],
   "source": [
    "df_process = df_column.apply(remove_junk)"
   ]
  },
  {
   "cell_type": "code",
   "execution_count": 100,
   "metadata": {
    "tags": []
   },
   "outputs": [
    {
     "output_type": "stream",
     "name": "stdout",
     "text": "CPU times: user 2.15 s, sys: 27.8 ms, total: 2.18 s\nWall time: 2.18 s\n"
    }
   ],
   "source": [
    "%time df_tokens = df_process.apply(tokenizer.tokenize)"
   ]
  },
  {
   "cell_type": "code",
   "execution_count": 101,
   "metadata": {},
   "outputs": [
    {
     "output_type": "execute_result",
     "data": {
      "text/plain": "(470,)"
     },
     "metadata": {},
     "execution_count": 101
    }
   ],
   "source": [
    "df_tokens.shape"
   ]
  },
  {
   "cell_type": "code",
   "execution_count": 102,
   "metadata": {},
   "outputs": [
    {
     "output_type": "execute_result",
     "data": {
      "text/plain": "0                   [기숙사는, 학교에서, 제공하지, 않고, 두가지, 옵션이, 주어진다, 홈스테이, 혹은, 게스트, 하우스, 혹은, 학생레지던스, 홈스테이를, 하는, 경우, 홈스테이, 가족에서, 아침과, 저녁식사를, 제공하고, 점심식사는, 나가서, 사먹어야, 한다, 가족에, 따라, 집에서, 요리를, 할, 수, 있는, 경우가, 있고, 할, 수, 없는, 경우가, 있다, 그리고, 홈스테이는, 아르헨티나, 사람들에, 대해서, 잘, 알, 수, 있는, 기회가, 될, 수, 있지만, 본인의, 친구들, 중, 몇몇은, 안좋은, 가족들이, 걸려서, 집에서, 불편했었다고, 한다, 본인은, 학생, 레지던스에서, 살았었다, 인, 실이, 아니라, 방별로, 인, 실, 인, 실, 인, 실, 이, 있었고, 화장실과, 부엌은, 대부분, 같이, 사용했다, 레지던스, 별로, 인, 실도, 있고, 개인화장실이, 있는, 경우도, 있다, 대부분, 부엌은, 공동사용이다, 본인이, 있었던, 곳에는, 한국사람이, 하나도, ...]\n1    [보통, 기숙사에, 거주합니다, 쉐어하우스를, 구해서, 사는, 친구들도, 있었지만, 기숙사보다, 전혀, 저렴하지, 않고, 관리가, 잘, 안되기, 때문에, 추천드리지, 않습니다, 은, 거의, 없고, 있더라도, 비용이, 굉장히, 비쌀, 거에요, 저는, 에, 거주했는데, 제일, 저렴하고, 타, 기숙사에, 비해, 조금, 오래되었지만은, 십년, 조금, 넘은듯, 합니다, 관리가, 잘, 됩니다, 부엌도, 타, 기숙사에, 비해, 제일, 넓구요, 학년과, 교환학생, 위주로, 거주하기, 때문에, 사람, 만나기, 좋고, 이벤트도, 굉장히, 자주해요, 키친, 같이, 쓰는, 보통, 같은, 층, 학생들, 학생들과, 자주, 보기, 때문에, 친해지기, 쉽습니다, 내향적인, 성격을, 가지신, 분들껜, 포함, 기숙사, 어디든, 일상에서, 항상, 누구를, 마주쳐야, 한다는, 장단점이, 있겠지만요, 호주는, 식비가, 굉장히, 비싸서, 웬만하면, 요리해먹습니다, 는, 주방이, 넓고, 호주, 마트, 물가가, 저렴하기, ...]\nName: food_info, dtype: object"
     },
     "metadata": {},
     "execution_count": 102
    }
   ],
   "source": [
    "df_tokens[0:2]"
   ]
  },
  {
   "cell_type": "code",
   "execution_count": 103,
   "metadata": {},
   "outputs": [
    {
     "output_type": "execute_result",
     "data": {
      "text/plain": "468        [나는, 에서, 기숙사에, 살았다, 으로, 가게, 되면, 무조건, 기숙사에서, 생활해야, 하고, 에, 대한, 비용을, 가기, 전에, 미리, 내고, 가야, 한다, 이, 대학에는, 기숙사만, 개, 정도가, 된다, 그만큼, 많은, 학생들이, 함께, 기숙사에서, 생활한다, 룸메이트와, 함께, 생활했고, 같은, 에, 있는, 학생들이, 많이, 도와주고, 친하게, 지내려고, 해서, 그다지, 어려운, 점은, 없었다, 각, 기숙사마다, 나, 등이, 있어, 생활이, 힘든, 학생들을, 자주, 도와준다, 방에는, 기본적으로, 침대와, 옷장, 책상이, 있고, 그, 외에는, 자기, 자신이, 원하는, 것으로, 방을, 꾸미면, 된다, 나는, 다행히, 룸메이트가, 냉장고, 오디오, 를, 가져와서, 별다른, 불편, 없이, 생활할, 수, 있었다, 화장실과, 샤워실은, 공동으로, 되어, 있으며, 매일같이, 청소하는, 분들이, 청소를, 하기, 때문에, 매우, 청결하다, 새로]\n469    [학년과, 국제학생들, 년, 이하로, 있는, 학생들, 은, 모두, 기숙사에서, 생활하게, 된다, 나는, 년동안, 엘리베이터가, 있는, 층, 건물인, 에, 살았다, 그, 외에도, 등, 총, 개의, 기숙사가, 있다, 거의, 인, 실이고, 방은, 꽤, 넓은, 편이다, 침대, 책상, 옷장, 화장대가, 구비되어, 있고, 각, 층마다, 가, 있다, 기숙사마다, 매주, 모임, 혹은, 행사가, 있다, 영화보기, 보기, 등, 거의, 모든, 학생들이, 기숙사에, 살거나, 학교에서, 소유하고, 있는, 아파트에, 살기, 때문에, 친구들를, 사귀기, 쉽다, 나의, 경우, 같은, 기숙사, 같은, 층에, 사는, 친구들과, 친해져서, 외롭지, 않게, 생활할, 수, 있었다, 덧붙여서, 사람들은, 매우, 친절해서, 모르는, 사이라도, 지나가다가, 마주치면, 인사하는, 가족같은, 분위기이다, 식사는, 학년, 학생들의, 경우, 을, 이용하는데, 국제학생의, 경우, 주일에, ...]\nName: food_info, dtype: object"
     },
     "metadata": {},
     "execution_count": 103
    }
   ],
   "source": [
    "df_tokens[-2:]"
   ]
  },
  {
   "cell_type": "markdown",
   "metadata": {},
   "source": [
    "## Extract Keyword\n",
    "### list of common words in university review(one cell) - list of common words that can be found across rows"
   ]
  },
  {
   "cell_type": "code",
   "execution_count": 104,
   "metadata": {
    "tags": []
   },
   "outputs": [
    {
     "output_type": "stream",
     "name": "stdout",
     "text": "45\n1047\nCornell College\n"
    },
    {
     "output_type": "execute_result",
     "data": {
      "text/plain": "['거주', '형태', '그', '밖에', '기숙사는', '남자', '전용', '기숙사인', '이', '있고']"
     },
     "metadata": {},
     "execution_count": 104
    }
   ],
   "source": [
    "# make bag of words out of one university's students' reviews\n",
    "import random\n",
    "random_int = random.randint(0,469)\n",
    "sample_univ_bow = df_tokens[random_int]\n",
    "print(len(sample_univ_bow))\n",
    "while len(sample_univ_bow) < 500:\n",
    "    random_int = random.randint(0,469)\n",
    "    sample_univ_bow = df_tokens[random_int]\n",
    "    print(len(sample_univ_bow))\n",
    "print(df_specific[\"대학명\"][random_int])\n",
    "sample_univ_bow[:10]"
   ]
  },
  {
   "cell_type": "code",
   "execution_count": 105,
   "metadata": {},
   "outputs": [],
   "source": [
    "subtracted_bow_list = [item for item in sample_univ_bow if item not in stopwords_list]"
   ]
  },
  {
   "cell_type": "code",
   "execution_count": 108,
   "metadata": {
    "tags": []
   },
   "outputs": [
    {
     "output_type": "stream",
     "name": "stdout",
     "text": "[('기숙사는', 11), ('기숙사로', 7), ('기숙사마다', 6), ('남녀', 5), ('쓰는', 5), ('전용', 4), ('여학생', 4), ('방마다', 4), ('오래된', 4), ('남자', 3), ('기숙사인', 3), ('전용의', 3), ('조용하고', 3), ('조용한', 3), ('하기', 3), ('작아서', 3), ('기숙사에서', 3), ('분위기가', 3), ('편리합니다', 3), ('원하는', 3), ('세면대가', 3), ('학교의', 3), ('보통', 3), ('방의', 3), ('건물인', 2), ('학년', 2), ('원한다면', 2), ('기숙사가', 2), ('공동', 2), ('주방이', 2), ('냄비', 2), ('등이', 2), ('필요하다', 2), ('룸메이트와', 2), ('싱크대가', 2), ('식사는', 2), ('식당에서', 2), ('기본적으로', 2), ('이용할', 2), ('인데', 2), ('음식은', 2), ('음식을', 2), ('되는데', 2), ('방에는', 2), ('침대', 2), ('전용인', 2), ('남학생', 2), ('아름다우며', 2), ('기숙사이므로', 2), ('편이고', 2), ('책상이', 2), ('식사를', 2), ('방이', 2), ('지내야', 2), ('여자', 2), ('위한', 2), ('곳이다', 2), ('않지만', 2), ('학교는', 2), ('학생은', 2), ('많다', 2), ('쓸', 2), ('즉', 2), ('국제학생은', 2), ('쓰고', 2), ('되어있습니다', 2), ('또는', 2), ('신청할', 2), ('각각', 2), ('최근에', 2), ('장점이', 2), ('크기가', 2), ('보낼', 2), ('거주', 1), ('형태', 1), ('여성', 1), ('공부', 1), ('분위기를', 1), ('앞의', 1), ('좋고', 1), ('만나고', 1), ('사교를', 1), ('중요하게', 1), ('생각하는', 1), ('사람이라면', 1), ('괜찮다', 1), ('이었던', 1), ('건물이라', 1), ('면학', 1), ('분위기', 1), ('기숙사에는', 1), ('샤워실', 1), ('화장실이', 1), ('건물', 1), ('층에는', 1), ('공동으로', 1), ('주방', 1), ('용품은', 1), ('하나도', 1), ('갖춰져', 1)]\n"
    }
   ],
   "source": [
    "counted_bow_keywords = Counter(subtracted_bow_list)\n",
    "sample_keywords = counted_bow_keywords.most_common(100)\n",
    "print(sample_keywords)"
   ]
  },
  {
   "cell_type": "code",
   "execution_count": 109,
   "metadata": {
    "tags": []
   },
   "outputs": [
    {
     "output_type": "stream",
     "name": "stdout",
     "text": "['기숙사는', '기숙사로', '기숙사마다', '남녀', '쓰는', '전용', '여학생', '방마다', '오래된', '남자', '기숙사인', '전용의', '조용하고', '조용한', '하기', '작아서', '기숙사에서', '분위기가', '편리합니다', '원하는', '세면대가', '학교의', '보통', '방의', '건물인', '학년', '원한다면', '기숙사가', '공동', '주방이', '냄비', '등이', '필요하다', '룸메이트와', '싱크대가', '식사는', '식당에서', '기본적으로', '이용할', '인데', '음식은', '음식을', '되는데', '방에는', '침대', '전용인', '남학생', '아름다우며', '기숙사이므로', '편이고', '책상이', '식사를', '방이', '지내야', '여자', '위한', '곳이다', '않지만', '학교는', '학생은', '많다', '쓸', '즉', '국제학생은', '쓰고', '되어있습니다', '또는', '신청할', '각각', '최근에', '장점이', '크기가', '보낼', '거주', '형태', '여성', '공부', '분위기를', '앞의', '좋고', '만나고', '사교를', '중요하게', '생각하는', '사람이라면', '괜찮다', '이었던', '건물이라', '면학', '분위기', '기숙사에는', '샤워실', '화장실이', '건물', '층에는', '공동으로', '주방', '용품은', '하나도', '갖춰져']\n"
    }
   ],
   "source": [
    "# zipping deletes overlapping string items\n",
    "zipped_keywords, frequency_list = map(list, zip(*sample_keywords))\n",
    "print(zipped_keywords)"
   ]
  },
  {
   "cell_type": "markdown",
   "metadata": {},
   "source": [
    "### Keywords accordign to Sentences order"
   ]
  },
  {
   "cell_type": "code",
   "execution_count": 110,
   "metadata": {
    "tags": []
   },
   "outputs": [
    {
     "output_type": "stream",
     "name": "stdout",
     "text": "[('거주', 1), ('형태', 1), ('그', 9), ('밖에', 1), ('기숙사는', 11), ('남자', 3), ('전용', 4), ('기숙사인', 3), ('이', 11), ('있고', 4), ('여성', 1), ('전용의', 3), ('그리고', 11), ('남녀', 5), ('같이', 3), ('쓰는', 5), ('건물인', 2), ('과', 5), ('학년', 2), ('있는데', 6), ('조용하고', 3), ('공부', 1), ('하는', 3), ('분위기를', 1), ('원한다면', 2), ('주로', 3), ('앞의', 1), ('세', 1), ('기숙사가', 2), ('좋고', 1), ('친구들을', 1), ('만나고', 1), ('사교를', 1), ('중요하게', 1), ('생각하는', 1), ('사람이라면', 1), ('이나', 3), ('도', 2), ('괜찮다', 1), ('가장', 8), ('조용한', 3), ('이었던', 1), ('것', 2), ('같다', 3), ('학생들이', 3), ('많은', 2), ('건물이라', 1), ('항상', 1), ('면학', 1), ('분위기', 1)]\n"
    }
   ],
   "source": [
    "counted_bow = Counter(sample_univ_bow)\n",
    "counted_bow_tuple_list = list(Counter(counted_bow).items())\n",
    "print(counted_bow_tuple_list[:50])"
   ]
  },
  {
   "cell_type": "code",
   "execution_count": 111,
   "metadata": {},
   "outputs": [
    {
     "output_type": "execute_result",
     "data": {
      "text/plain": "['거주', '형태', '그', '밖에', '기숙사는', '남자', '전용', '기숙사인', '이', '있고']"
     },
     "metadata": {},
     "execution_count": 111
    }
   ],
   "source": [
    "# zipping deletes overlapping string items\n",
    "zipped_bow_words, bow_frequency_list = map(list, zip(*counted_bow_tuple_list))\n",
    "zipped_bow_words[:10]"
   ]
  },
  {
   "cell_type": "code",
   "execution_count": 112,
   "metadata": {},
   "outputs": [],
   "source": [
    "zipped_bow_words_subtracted = [item for item in zipped_bow_words if item not in stopwords]"
   ]
  },
  {
   "cell_type": "code",
   "execution_count": 113,
   "metadata": {
    "tags": []
   },
   "outputs": [
    {
     "output_type": "stream",
     "name": "stdout",
     "text": "517\n"
    }
   ],
   "source": [
    "print(len(zipped_bow_words_subtracted))"
   ]
  },
  {
   "cell_type": "code",
   "execution_count": 114,
   "metadata": {
    "tags": []
   },
   "outputs": [
    {
     "output_type": "stream",
     "name": "stdout",
     "text": "['오리엔테이션이나', '쿼드', '필요가', '경과할수록', '제공되며', '편리합니다', '라운지가', '공부하기에는', '어드미션', '남학생', '지리적으로도', '낮에는', '시작할', '싶다는', '방마다', '되는데', '여섯', '걱정하지', '여자기숙사인', '전용의', '바꾸어', '공부', '있게', '꽉', '적절하다고', '주기를', '역사가', '해야하는', '수가', '주기도', '설명은', '요리할', '학생회관과', '장만해야', '정해져', '무료로', '빨리', '여자의', '되어있습니다', '체중이', '자세한', '도착하게', '기숙사지만', '학기가', '책상이', '지내게', '컴퓨터를', '인데', '식으로', '룸메이트가']\n"
    }
   ],
   "source": [
    "print(random.sample(zipped_bow_words_subtracted, 50))"
   ]
  },
  {
   "cell_type": "code",
   "execution_count": 118,
   "metadata": {},
   "outputs": [
    {
     "output_type": "execute_result",
     "data": {
      "text/plain": "'거주 형태 기숙사는 남자 전용 기숙사인 여성 전용의 남녀 쓰는 건물인 학년 조용하고 공부 분위기를 원한다면 앞의 기숙사가 좋고 만나고 사교를 중요하게 생각하는 사람이라면 괜찮다 조용한 이었던 건물이라 면학 분위기 기숙사에는 공동 샤워실 화장실이 건물 층에는 공동으로 주방이 주방 용품은 하나도 갖춰져 않으므로 그릇이나 냄비 등이 필요하다 정도는 준비해도 룸메이트와 트러블이 생기면 상담하고 이유가 적절하다고 판단되면 룸메이트를 바꾸어 주기도 하기 걱정할 캠퍼스가 작아서 기숙사에서 살고 기숙사마다 분위기가 독특합니다 중에서 여학생 가까이 건물이지만 방마다 싱크대가 편리합니다 식사는 학생회관과 곳의 콘서트 전시 행사들이 매주 준비되어 식당에서 제공되며 층 아래에는 간식을 사먹을 매점이 기본적으로 식이지만 본인이 원하는 일주일에 식으로 바꿀 차액 달러는 학생에게 학생카드를 지급되어 매점에서 이용할 학기가 시작할 식당에 종이가 구비되어 빨리 바꾸세요 경과할수록 지급되는 액수가 줄어들거든요 역사'"
     },
     "metadata": {},
     "execution_count": 118
    }
   ],
   "source": [
    "summary = \" \".join(zipped_bow_words_subtracted)\n",
    "summary[:500]"
   ]
  },
  {
   "cell_type": "code",
   "execution_count": 119,
   "metadata": {
    "tags": []
   },
   "outputs": [
    {
     "output_type": "stream",
     "name": "stdout",
     "text": "517\n"
    }
   ],
   "source": [
    "# word count of summary\n",
    "print(len(zipped_bow_words_subtracted))"
   ]
  },
  {
   "cell_type": "code",
   "execution_count": null,
   "metadata": {},
   "outputs": [],
   "source": []
  },
  {
   "cell_type": "code",
   "execution_count": null,
   "metadata": {},
   "outputs": [],
   "source": []
  }
 ]
}