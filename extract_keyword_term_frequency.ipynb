{
 "metadata": {
  "language_info": {
   "codemirror_mode": {
    "name": "ipython",
    "version": 3
   },
   "file_extension": ".py",
   "mimetype": "text/x-python",
   "name": "python",
   "nbconvert_exporter": "python",
   "pygments_lexer": "ipython3",
   "version": "3.8.3-final"
  },
  "orig_nbformat": 2,
  "kernelspec": {
   "name": "python38364bitnlpkorvenv03d7b81388604b8b8d7aed95a2d6b41b",
   "display_name": "Python 3.8.3 64-bit ('nlpkor': venv)"
  }
 },
 "nbformat": 4,
 "nbformat_minor": 2,
 "cells": [
  {
   "cell_type": "code",
   "execution_count": 1,
   "metadata": {},
   "outputs": [],
   "source": [
    "# 출력이 너무 길어지지 않게하기 위해 찍지 않도록 했으나 \n",
    "# 실제 학습 할 때는 아래 두 줄을 주석처리 하는 것을 권장한다.\n",
    "import warnings\n",
    "warnings.filterwarnings('ignore')"
   ]
  },
  {
   "cell_type": "code",
   "execution_count": 2,
   "metadata": {
    "tags": []
   },
   "outputs": [
    {
     "output_type": "stream",
     "name": "stdout",
     "text": "1.0.5\n1.18.5\n"
    }
   ],
   "source": [
    "import pandas as pd\n",
    "import numpy as np\n",
    "print(pd.__version__)\n",
    "print(np.__version__)"
   ]
  },
  {
   "cell_type": "code",
   "execution_count": 3,
   "metadata": {},
   "outputs": [],
   "source": [
    "# pandas 설정: 모든 row와 모든 column을 출력하게 하고, 각 column 별 출력되는 글자수는 50자 이내\n",
    "pd.set_option('display.max_rows', None, 'display.max_columns', None, 'display.max_colwidth', 50)"
   ]
  },
  {
   "cell_type": "code",
   "execution_count": 4,
   "metadata": {},
   "outputs": [
    {
     "output_type": "execute_result",
     "data": {
      "text/plain": "       대학코드                             대학명  \\\n0  AR000004        Universidad del Salvador   \n1  AU000019  Australian National University   \n2  AU000001                 Bond University   \n\n                                            gen_info  \\\n0  아르헨티나의 대다수 대학교는 한국처럼 캠퍼스가 있는 것이 아니라 도시 내에 몇개의 ...   \n1  ANU has a very big campus, but unlike Yonsei, ...   \n2  Bond대학교는 휴양지로 유명한 골드코스트에 위치해있습니다. 서퍼스 파라다이스, 브...   \n\n                                            env_info  \\\n0  대학교가 도시 여러곳에 분포하고 있으므로 각기 다르다. 하지만 남녀를 불문하고 부에...   \n1  The city center, called CIVIC, is 20min walk a...   \n2  학교 주변은 조용하고 깨끗한 평화로운 전원마을의 느낌입니다. 학교에서 5분정도 걸어...   \n\n                                           food_info  \\\n0  기숙사는 학교에서 제공하지 않고 두가지 옵션이 주어진다. 홈스테이 혹은 게스트 하우...   \n1  There are many housing options, but I chose to...   \n2  거주형태는 크게 On Campus와 Off Campus로 나뉩니다. 저는 기숙사에 ...   \n\n                                          study_info  \\\n0  아르헨티나에서의 대학 수업은 주로 오전 혹은 저녁에 있다. 대부분의 학생들이 일을하...   \n1  In my personal opinions, classes are generally...   \n2  수업은 보통 4개의 수업을 듣습니다. 저는 Chinese1, Australian p...   \n\n                                         office_info  \\\n0  EL SALVADOR대학교는 국제 교육부가 잘 되있는 학교이다. 아르헨티나 대학교들...   \n1  Overall, I did not have to ask for help much f...   \n2  교환생활 중 국제교육부와 연락할 일은 없었습니다. 교환학생을 가서 따로 국제교육부와...   \n\n                                          facil_info  \\\n0  부대시설로는 헬스장이 있다고 알고 있으나 시내와 먼 곳에 있었다. 동아리는 몇가지 ...   \n1  There were many clubs for you to join at ANU, ...   \n2  학기초에 동아리 박람회식으로 여러 동아리들의 부스가 세워집니다. 관심 있는 동아리에...   \n\n                                           mhct_info  \\\n0  딱히 컬쳐쇼크를 받을 만 한 요소는 없었던 것 같다. 하지만 처음에 언어적인 면에서...   \n1  I did have some culture shock during my first ...   \n2  특별히 culture shock이라기 보다는 정말 다양한 문화를 접하는 것 자체가 ...   \n\n                                           help_info  \\\n0  살바도르 대학교 국제처에서 비자문제나 숙소문제(홈스테이경우) 등은 해결해 주고, 특...   \n1  I was helped a lot, especially during the firs...   \n2  수업관련해서는 교수님께 질문을 해도 친절하게 알려주시고, 또 교내에 과제나 발표준비...   \n\n                                            etc_info  \n0                                                NaN  \n1  Overall, my stay in Australia has been nothing...  \n2  Bond와 그 동네를 생각하면 여유롭고 평화로웠던 분위기가 아직도 생생해요. 여기서...  ",
      "text/html": "<div>\n<style scoped>\n    .dataframe tbody tr th:only-of-type {\n        vertical-align: middle;\n    }\n\n    .dataframe tbody tr th {\n        vertical-align: top;\n    }\n\n    .dataframe thead th {\n        text-align: right;\n    }\n</style>\n<table border=\"1\" class=\"dataframe\">\n  <thead>\n    <tr style=\"text-align: right;\">\n      <th></th>\n      <th>대학코드</th>\n      <th>대학명</th>\n      <th>gen_info</th>\n      <th>env_info</th>\n      <th>food_info</th>\n      <th>study_info</th>\n      <th>office_info</th>\n      <th>facil_info</th>\n      <th>mhct_info</th>\n      <th>help_info</th>\n      <th>etc_info</th>\n    </tr>\n  </thead>\n  <tbody>\n    <tr>\n      <th>0</th>\n      <td>AR000004</td>\n      <td>Universidad del Salvador</td>\n      <td>아르헨티나의 대다수 대학교는 한국처럼 캠퍼스가 있는 것이 아니라 도시 내에 몇개의 ...</td>\n      <td>대학교가 도시 여러곳에 분포하고 있으므로 각기 다르다. 하지만 남녀를 불문하고 부에...</td>\n      <td>기숙사는 학교에서 제공하지 않고 두가지 옵션이 주어진다. 홈스테이 혹은 게스트 하우...</td>\n      <td>아르헨티나에서의 대학 수업은 주로 오전 혹은 저녁에 있다. 대부분의 학생들이 일을하...</td>\n      <td>EL SALVADOR대학교는 국제 교육부가 잘 되있는 학교이다. 아르헨티나 대학교들...</td>\n      <td>부대시설로는 헬스장이 있다고 알고 있으나 시내와 먼 곳에 있었다. 동아리는 몇가지 ...</td>\n      <td>딱히 컬쳐쇼크를 받을 만 한 요소는 없었던 것 같다. 하지만 처음에 언어적인 면에서...</td>\n      <td>살바도르 대학교 국제처에서 비자문제나 숙소문제(홈스테이경우) 등은 해결해 주고, 특...</td>\n      <td>NaN</td>\n    </tr>\n    <tr>\n      <th>1</th>\n      <td>AU000019</td>\n      <td>Australian National University</td>\n      <td>ANU has a very big campus, but unlike Yonsei, ...</td>\n      <td>The city center, called CIVIC, is 20min walk a...</td>\n      <td>There are many housing options, but I chose to...</td>\n      <td>In my personal opinions, classes are generally...</td>\n      <td>Overall, I did not have to ask for help much f...</td>\n      <td>There were many clubs for you to join at ANU, ...</td>\n      <td>I did have some culture shock during my first ...</td>\n      <td>I was helped a lot, especially during the firs...</td>\n      <td>Overall, my stay in Australia has been nothing...</td>\n    </tr>\n    <tr>\n      <th>2</th>\n      <td>AU000001</td>\n      <td>Bond University</td>\n      <td>Bond대학교는 휴양지로 유명한 골드코스트에 위치해있습니다. 서퍼스 파라다이스, 브...</td>\n      <td>학교 주변은 조용하고 깨끗한 평화로운 전원마을의 느낌입니다. 학교에서 5분정도 걸어...</td>\n      <td>거주형태는 크게 On Campus와 Off Campus로 나뉩니다. 저는 기숙사에 ...</td>\n      <td>수업은 보통 4개의 수업을 듣습니다. 저는 Chinese1, Australian p...</td>\n      <td>교환생활 중 국제교육부와 연락할 일은 없었습니다. 교환학생을 가서 따로 국제교육부와...</td>\n      <td>학기초에 동아리 박람회식으로 여러 동아리들의 부스가 세워집니다. 관심 있는 동아리에...</td>\n      <td>특별히 culture shock이라기 보다는 정말 다양한 문화를 접하는 것 자체가 ...</td>\n      <td>수업관련해서는 교수님께 질문을 해도 친절하게 알려주시고, 또 교내에 과제나 발표준비...</td>\n      <td>Bond와 그 동네를 생각하면 여유롭고 평화로웠던 분위기가 아직도 생생해요. 여기서...</td>\n    </tr>\n  </tbody>\n</table>\n</div>"
     },
     "metadata": {},
     "execution_count": 4
    }
   ],
   "source": [
    "# 위의 설정으로 간단하게 보는 df_specific\n",
    "df_specific = pd.read_csv(\"./data_wrangled/df_specific_wrangle.csv\", encoding=\"utf-8\")\n",
    "df_specific.head(3)"
   ]
  },
  {
   "cell_type": "code",
   "execution_count": 5,
   "metadata": {},
   "outputs": [
    {
     "output_type": "execute_result",
     "data": {
      "text/plain": "         대학코드                    대학명  \\\n467  US000273    Westminster College   \n468  US000274      Whitworth College   \n469  US000278  Wittenberg University   \n\n                                              gen_info  \\\n467  Westminster College는 미국 펜실베니아 주 북부에 있는 작은 마을, ...   \n468  내가 다녀온 교환대학은 Washington State 에 위치한 Whitworth ...   \n469  Wittenberg는 Ohio주의 작은 도시 Springfield에 위치해 있다. ...   \n\n                                              env_info  \\\n467  웨스트민스터가 위치한 뉴윌밍턴은 매우 작은 마을입니다. 마음만 먹으면 주말에 산책을...   \n468  Whitworth College는 Seattle에서 비행기로 40분 정도 떨어져 있...   \n469  Springfield의 downtown에는 우체국, 은행(huntington) 정도...   \n\n                                             food_info  \\\n467  제가 있던 학기에는 연세대학교에서 온 학생이 총 여학생 3명이어서 모두 같은 기숙사...   \n468  나는 Whitworth College에서 기숙사에 살았다. ISEP으로 가게 되면 ...   \n469  1,2학년과 국제학생들 (1년 이하로 있는 학생들)은 모두 기숙사에서 생활하게 된다...   \n\n                                            study_info  \\\n467  저는 한 학기 동안 5과목, 총 15학점을 들었습니다. 정치학 전공 Internat...   \n468  내가 미국에 가기 전에 가장 두려워했던 것은 바로 수업이었다. 어학연수와는 달리 교...   \n469  도서관은 Thomas library가 main이고 다른 단과대학 건물에 독서실이 있...   \n\n                                           office_info  \\\n467  웨스트민스터는 국제 학생의 수가 매우 적어서 국제교육부가 따로 있지는 않았습니다. ...   \n468  이 학교에서 내가 마음 편하게 지낼 수 있었던 것은 국제교육부 스텝들이 너무 따뜻하...   \n469  국제교류부는 Hollenbeck 건물 1층에 있는데, Joann 과 Betsy 두 ...   \n\n                                            facil_info  \\\n467  제가 가장 자주 이용했던 곳은 클럽룸입니다. 이곳은 맥켈비 센터 2층 구석에 있는 ...   \n468  기타 학교의 부대 시설로는 fitness center, music hall, soc...   \n469  Wittenberg의 가장 큰 장점. nWittenberg는 학비가 무척 비싼 학교...   \n\n                                             mhct_info  \\\n467  학교가 위치한 동네에서는 학교 학생들을 제외하면 거의 모든 주민이 백인이었습니다. ...   \n468                                                NaN   \n469  한국에서는 흔치 않은 gay, lesbian, transgender 등을 만날 수 ...   \n\n                                             help_info  \\\n467  학교 생활 중 가장 도움을 많이 받을 수 있었던 곳은 교목실의 Internation...   \n468                                                NaN   \n469  Wittenberg는 국제학생들에게 host family를 붙여준다. 비록 같이 살...   \n\n                                              etc_info  \n467  그림 같은 호수, 끝없이 넓은 하늘과 함께 따뜻한 단풍색으로 물든 웨스트민스터에서 ...  \n468  처음에 Whitworth College를 ISEP으로부터 배정 받았을 때 현실적으로...  \n469  이처럼 wittenberg는 시골에 있는 작은 학교지만 지리적인 위치로 인한 단점보...  ",
      "text/html": "<div>\n<style scoped>\n    .dataframe tbody tr th:only-of-type {\n        vertical-align: middle;\n    }\n\n    .dataframe tbody tr th {\n        vertical-align: top;\n    }\n\n    .dataframe thead th {\n        text-align: right;\n    }\n</style>\n<table border=\"1\" class=\"dataframe\">\n  <thead>\n    <tr style=\"text-align: right;\">\n      <th></th>\n      <th>대학코드</th>\n      <th>대학명</th>\n      <th>gen_info</th>\n      <th>env_info</th>\n      <th>food_info</th>\n      <th>study_info</th>\n      <th>office_info</th>\n      <th>facil_info</th>\n      <th>mhct_info</th>\n      <th>help_info</th>\n      <th>etc_info</th>\n    </tr>\n  </thead>\n  <tbody>\n    <tr>\n      <th>467</th>\n      <td>US000273</td>\n      <td>Westminster College</td>\n      <td>Westminster College는 미국 펜실베니아 주 북부에 있는 작은 마을, ...</td>\n      <td>웨스트민스터가 위치한 뉴윌밍턴은 매우 작은 마을입니다. 마음만 먹으면 주말에 산책을...</td>\n      <td>제가 있던 학기에는 연세대학교에서 온 학생이 총 여학생 3명이어서 모두 같은 기숙사...</td>\n      <td>저는 한 학기 동안 5과목, 총 15학점을 들었습니다. 정치학 전공 Internat...</td>\n      <td>웨스트민스터는 국제 학생의 수가 매우 적어서 국제교육부가 따로 있지는 않았습니다. ...</td>\n      <td>제가 가장 자주 이용했던 곳은 클럽룸입니다. 이곳은 맥켈비 센터 2층 구석에 있는 ...</td>\n      <td>학교가 위치한 동네에서는 학교 학생들을 제외하면 거의 모든 주민이 백인이었습니다. ...</td>\n      <td>학교 생활 중 가장 도움을 많이 받을 수 있었던 곳은 교목실의 Internation...</td>\n      <td>그림 같은 호수, 끝없이 넓은 하늘과 함께 따뜻한 단풍색으로 물든 웨스트민스터에서 ...</td>\n    </tr>\n    <tr>\n      <th>468</th>\n      <td>US000274</td>\n      <td>Whitworth College</td>\n      <td>내가 다녀온 교환대학은 Washington State 에 위치한 Whitworth ...</td>\n      <td>Whitworth College는 Seattle에서 비행기로 40분 정도 떨어져 있...</td>\n      <td>나는 Whitworth College에서 기숙사에 살았다. ISEP으로 가게 되면 ...</td>\n      <td>내가 미국에 가기 전에 가장 두려워했던 것은 바로 수업이었다. 어학연수와는 달리 교...</td>\n      <td>이 학교에서 내가 마음 편하게 지낼 수 있었던 것은 국제교육부 스텝들이 너무 따뜻하...</td>\n      <td>기타 학교의 부대 시설로는 fitness center, music hall, soc...</td>\n      <td>NaN</td>\n      <td>NaN</td>\n      <td>처음에 Whitworth College를 ISEP으로부터 배정 받았을 때 현실적으로...</td>\n    </tr>\n    <tr>\n      <th>469</th>\n      <td>US000278</td>\n      <td>Wittenberg University</td>\n      <td>Wittenberg는 Ohio주의 작은 도시 Springfield에 위치해 있다. ...</td>\n      <td>Springfield의 downtown에는 우체국, 은행(huntington) 정도...</td>\n      <td>1,2학년과 국제학생들 (1년 이하로 있는 학생들)은 모두 기숙사에서 생활하게 된다...</td>\n      <td>도서관은 Thomas library가 main이고 다른 단과대학 건물에 독서실이 있...</td>\n      <td>국제교류부는 Hollenbeck 건물 1층에 있는데, Joann 과 Betsy 두 ...</td>\n      <td>Wittenberg의 가장 큰 장점. nWittenberg는 학비가 무척 비싼 학교...</td>\n      <td>한국에서는 흔치 않은 gay, lesbian, transgender 등을 만날 수 ...</td>\n      <td>Wittenberg는 국제학생들에게 host family를 붙여준다. 비록 같이 살...</td>\n      <td>이처럼 wittenberg는 시골에 있는 작은 학교지만 지리적인 위치로 인한 단점보...</td>\n    </tr>\n  </tbody>\n</table>\n</div>"
     },
     "metadata": {},
     "execution_count": 5
    }
   ],
   "source": [
    "# 위의 설정으로 간단하게 보는 df_specific\n",
    "df_specific.tail(3)"
   ]
  },
  {
   "cell_type": "code",
   "execution_count": 6,
   "metadata": {},
   "outputs": [
    {
     "output_type": "execute_result",
     "data": {
      "text/plain": "Index(['대학코드', '대학명', 'gen_info', 'env_info', 'food_info', 'study_info',\n       'office_info', 'facil_info', 'mhct_info', 'help_info', 'etc_info'],\n      dtype='object')"
     },
     "metadata": {},
     "execution_count": 6
    }
   ],
   "source": [
    "df_specific.columns"
   ]
  },
  {
   "cell_type": "code",
   "execution_count": 7,
   "metadata": {},
   "outputs": [
    {
     "output_type": "execute_result",
     "data": {
      "text/plain": "(470, 11)"
     },
     "metadata": {},
     "execution_count": 7
    }
   ],
   "source": [
    "df_specific.shape"
   ]
  },
  {
   "cell_type": "code",
   "execution_count": 8,
   "metadata": {},
   "outputs": [],
   "source": [
    "# pandas 설정: 각 column 별 (혹은 한 cell에서) 출력되는 글자수 제한을 없애기\n",
    "pd.set_option('display.max_colwidth', None)"
   ]
  },
  {
   "cell_type": "code",
   "execution_count": 9,
   "metadata": {},
   "outputs": [],
   "source": [
    "column_data = \"gen_info\"\n",
    "univ_code = \"DK000003\""
   ]
  },
  {
   "cell_type": "code",
   "execution_count": 10,
   "metadata": {},
   "outputs": [],
   "source": [
    "import re\n",
    "# removing junks from the string data\n",
    "def remove_junk(str_data):\n",
    "    str_data = str_data.replace(\"\\\\\\\\n\", \"\")\n",
    "    str_data = str_data.replace(\"\\\\n\", \"\")\n",
    "    str_data = str_data.replace(\"\\n\", \"\")\n",
    "    str_data = str_data.replace(\"\\\\\", \"\")\n",
    "    str_data = str_data.replace(\"\\\\t\", \"\")\n",
    "    str_data = str_data.replace(\"NaN\", \"\")\n",
    "\n",
    "    # print(str_data) makes an error. too much of data\n",
    "    # 한글, english 빼고 전부 날리기\n",
    "    # str_data = re.sub('[^가-힣ㄱ-ㅎㅏ-ㅣa-zA-Z|0-9|.,]', ' ', str_data)\n",
    "    str_data = re.sub('[^가-힣ㄱ-ㅎㅏ]', ' ', str_data)\n",
    "\n",
    "    # replace multiple spaces into single space\n",
    "    str_data = ' '.join(str_data.split())\n",
    "    return str_data"
   ]
  },
  {
   "cell_type": "code",
   "execution_count": 11,
   "metadata": {},
   "outputs": [],
   "source": [
    "def access_univ_info(dataframe, column, univ_code):\n",
    "    df_row = dataframe.loc[dataframe[\"대학코드\"] == univ_code]\n",
    "    str_univ_info = df_row[column].to_string(index=False).lstrip()\n",
    "    str_univ_info = remove_junk(str_univ_info)\n",
    "    return str_univ_info"
   ]
  },
  {
   "cell_type": "code",
   "execution_count": 12,
   "metadata": {
    "tags": []
   },
   "outputs": [
    {
     "output_type": "execute_result",
     "data": {
      "text/plain": "'코펜하겐 대학교는 자연과학캠퍼스 인문캠퍼스 등 코펜하겐 시내 곳곳에 흩어져 있습니다 저는 조경건축 수업을 듣기 위해 에 위치한 자연과학 캠퍼스도 다니고 덴마크어 수업과 미디어커뮤니케이션학과 수업을 위해 에 위치한 캠퍼스에도 다녔습니다 지하철을 타거나 자전거를 타면 캠퍼스끼리의 거리도 분 이내라서 돌아다니기 정말 좋았어요 그리고 캠퍼스 내부 디자인이 정말 깔끔하고 좋았고 이렇게 멋진 곳이라면 저절로 학교를 다니고 공부하고 싶을 것 같았습니다 코펜하겐 시내 자체는 그렇게 크지 않아서 자전거를 타거나 걸어다녀도 모든 게 범위 안에 있어서 좋았습니다 일단 건물들이 층 이하로 낮아서 탁 트인 하늘이 보이고 개인적인 취향일 수는 있지만 오래된 건물도 철거하지 않고 조금씩 고쳐서 모습을 간직하고 있는 것이 인상깊었습니다 그리고 다른 유럽 나라들을 여행할 때도 굉장히 편리했어요 유럽의 많은 나라와 직항 저가항공이 있고 시간도 한국의 일반적인 대학들과 달리 코펜하겐 대학교는 도시 곳곳에 소규모로 캠퍼스가 여러 군데 있어요 저는 학기에는 주로 사회과학대 수업이 열리는 에서 수업을 들었고 학기에는 주로 인문대 수업이 열리는 에서 수업을 들었습니다 는 도심에 있는 교통 요충지 역 근처에 있고 는 최근에 개발된 지역의 역 근처에 있어요 그리고 코펜하겐 도시 자체가 굉장히 작기 때문에 왠만한 데는 대중교통이나 자전거로 분 내에 갈 수 있는 거 같아요 공항도 역에서 분 걸리기 때문에 여행다니기에도 좋습니다 기후는 악명이 높다시피 춥고 비가 많이 내립니다 사실 겨울에도 한국에 비하면 기온이 그리 낮은 편은 아닌데 년 동안 영하로 내려가는 걸 거의 못 봤어요 여름이 지나면 해를 거의 못 보고 비도 많이 내려서 진짜 추워요 바람 저는 경제학과여서 코펜하겐 대학교 캠퍼스를 이용했는데 역 근처에 있습니다 역이 처음에는 되게 별것 아닌것 처럼 보였는데 정말 요지에 있습니다 어디든 갈 수 있고 지하철과 기차 중앙역 모두 가까운 최고의 위치에 있습니다 코펜하겐에 월 말 부터 월 중순까지 있었는데 겨울'"
     },
     "metadata": {},
     "execution_count": 12
    }
   ],
   "source": [
    "str_example = access_univ_info(df_specific, column_data, univ_code)\n",
    "str_example[:1000]"
   ]
  },
  {
   "cell_type": "code",
   "execution_count": 13,
   "metadata": {},
   "outputs": [],
   "source": [
    "# collecting all column values into one string\n",
    "def column_to_string(dataframe, column_name: str):\n",
    "    str_corpus = dataframe[column_name].to_string(index=False).lstrip()\n",
    "    str_corpus = remove_junk(str_corpus)\n",
    "    return str_corpus"
   ]
  },
  {
   "cell_type": "code",
   "execution_count": 14,
   "metadata": {
    "tags": []
   },
   "outputs": [
    {
     "output_type": "stream",
     "name": "stdout",
     "text": "글자수: 3985044\n"
    },
    {
     "output_type": "execute_result",
     "data": {
      "text/plain": "'아르헨티나의 대다수 대학교는 한국처럼 캠퍼스가 있는 것이 아니라 도시 내에 몇개의 건물이 대학교 건물이라서 수업에 맞는 건물로 수업을 들으러 가면 된다 도시의 대중교통이 꽤 잘 되어있기 때문에 출퇴근시간만 피한다면 편하게 다닐 수 있다 부에노스 아이레스는 여름에 도까지 올라가지만 건조한 편이어서 그늘아래 있거나 건물 안에 있으면 괜찮은 편이다 그래도 햇볓이 우리나라보다 강하므로 썬크림을 챙겨가는 것이 좋다 겨울에는 도 이하로 내려가는 날이 거의 없으나 바람이 불고 비 우박이 내릴 수 있으니 따뜻한 옷 몇 벌은 챙겨가는 것이 좋다 그리고 남반구에 있어 우리나라와 계절이 반대이다 는 이라는 캔버라에서 가장 중심이 되는 도심 부근에 위치하여 접근성이 좋습니다 캔버라가 시드니 멜버른에 비해 소도시라는 느낌이 강해 선호도가 낮은 듯 한데요 저 또한 퀸즐랜드가 지망이었습니다 학기를 지내며 아주 안전하고 깨끗하며 잘 만들어진 도시라는 인상을 받았습니다 행정수도라 거주하는 사람 중에 공무원이나 학교 관계자 비율이 높은 듯 하구요 따라서 생활수준이 높아 저 포함 친구들 또한 캔버라에서는 차별을 경험해본 적이 없습니다 굳이 비교하자면 송도와 흡사한 느낌이지요 다만 바다가 없기 때문에 기후는 타 도시에 비해서 건조한 편입니다 날씨는 한국에 비해 연교차가 적다는 느낌을 받았구요 호주 어디를 가든 날씨는 만족하실 거에요 연중 대부분이 야외활동 하기 좋은 날씨입니다 대학교는 상당히 넓은 편입니다 전공 수업을 듣다가 다른 단과대 건물로 이동하는게 쉽지는 않았습니다 시간표 짤 때 주의하시면 좋겠습니다 학교에서 센터까지는 그리 멀지 않습니다 걸어다니기 충분한 거리이고 밤에는 기숙사를 돌아주는 셔틀버스가 있는데 쪽에서 내리시면 쉽게 갈 수 있습니다 캔버라는 시드니와 멜버른 그 사이쯤에 있는데 시드니에서 조금 더 가깝습니다 시드니에서 시간 반 정도 버스를 타고 가야 합니다 다른 먼 지역 혹은 다른 나라로의 여행을 생각 중이시라면 시드니 쪽 대학을 추천드립니다 캔버라에도 공항이 있기는 하지만 비'"
     },
     "metadata": {},
     "execution_count": 14
    }
   ],
   "source": [
    "# collecting all column values into one string\n",
    "corpus = column_to_string(df_specific, column_data)\n",
    "print(\"글자수:\", len(corpus))\n",
    "corpus[:1000]"
   ]
  },
  {
   "cell_type": "markdown",
   "metadata": {},
   "source": [
    "## Tokenizing Sample Corpus"
   ]
  },
  {
   "cell_type": "code",
   "execution_count": 15,
   "metadata": {},
   "outputs": [],
   "source": [
    "stopwords = []"
   ]
  },
  {
   "cell_type": "code",
   "execution_count": 16,
   "metadata": {},
   "outputs": [
    {
     "output_type": "execute_result",
     "data": {
      "text/plain": "<soynlp.tokenizer._tokenizer.LTokenizer at 0x125124b80>"
     },
     "metadata": {},
     "execution_count": 16
    }
   ],
   "source": [
    "# https://github.com/lovit/soynlp\n",
    "from soynlp.tokenizer import RegexTokenizer, LTokenizer\n",
    "\n",
    "tokenizer = LTokenizer()\n",
    "tokenizer"
   ]
  },
  {
   "cell_type": "code",
   "execution_count": 17,
   "metadata": {},
   "outputs": [
    {
     "output_type": "execute_result",
     "data": {
      "text/plain": "['아르헨티나의', '대다수', '대학교는', '한국처럼', '캠퍼스가', '있는', '것이', '아니라', '도시', '내에']"
     },
     "metadata": {},
     "execution_count": 17
    }
   ],
   "source": [
    "tokenized_corpus = tokenizer.tokenize(corpus)\n",
    "tokenized_corpus[:10]"
   ]
  },
  {
   "cell_type": "code",
   "execution_count": 18,
   "metadata": {
    "tags": []
   },
   "outputs": [
    {
     "output_type": "stream",
     "name": "stdout",
     "text": "1002499\n"
    }
   ],
   "source": [
    "print(len(tokenized_corpus))"
   ]
  },
  {
   "cell_type": "code",
   "execution_count": 19,
   "metadata": {},
   "outputs": [],
   "source": [
    "from collections import Counter"
   ]
  },
  {
   "cell_type": "code",
   "execution_count": 20,
   "metadata": {
    "tags": []
   },
   "outputs": [
    {
     "output_type": "stream",
     "name": "stdout",
     "text": "number of counted nouns: 100474\n"
    },
    {
     "output_type": "execute_result",
     "data": {
      "text/plain": "[('있습니다', 9640),\n ('수', 9293),\n ('있는', 7638),\n ('때문에', 6284),\n ('는', 6068),\n ('많이', 5807),\n ('매우', 4400),\n ('학교', 4182),\n ('큰', 4145),\n ('분', 4012),\n ('정도', 3883),\n ('것', 3829),\n ('월', 3700),\n ('있다', 3680),\n ('시간', 3639),\n ('하지만', 3495),\n ('캠퍼스', 3344),\n ('비가', 3087),\n ('날씨가', 3008),\n ('위치하고', 2981),\n ('위치한', 2868),\n ('에', 2837),\n ('정말', 2815),\n ('그', 2780),\n ('있고', 2742),\n ('이', 2742),\n ('위치해', 2729),\n ('제가', 2716),\n ('작은', 2709),\n ('저는', 2618),\n ('한', 2604),\n ('가장', 2509),\n ('크기는', 2506),\n ('의', 2499),\n ('잘', 2457),\n ('더', 2439),\n ('거의', 2379),\n ('다른', 2299),\n ('기후는', 2293),\n ('정도로', 2273),\n ('같습니다', 2258),\n ('날씨는', 2125),\n ('있어서', 2108),\n ('미국', 2106),\n ('캠퍼스는', 2101),\n ('할', 2046),\n ('약', 2004),\n ('합니다', 1975),\n ('좋은', 1857),\n ('그리고', 1856),\n ('타고', 1840),\n ('조금', 1794),\n ('굉장히', 1794),\n ('있으며', 1784),\n ('에서', 1775),\n ('캠퍼스가', 1769),\n ('있어', 1732),\n ('때', 1720),\n ('눈이', 1658),\n ('것이', 1642),\n ('많은', 1640),\n ('갈', 1606),\n ('도시', 1593),\n ('가', 1577),\n ('자주', 1553),\n ('거리에', 1531),\n ('수업을', 1512),\n ('않습니다', 1500),\n ('라는', 1492),\n ('겨울에는', 1473),\n ('은', 1423),\n ('같은', 1391),\n ('주로', 1383),\n ('년', 1367),\n ('있는데', 1361),\n ('꽤', 1357),\n ('특히', 1326),\n ('됩니다', 1321),\n ('건물', 1311),\n ('편입니다', 1304),\n ('곳에', 1301),\n ('아주', 1293),\n ('와', 1293),\n ('건물들이', 1275),\n ('중', 1269),\n ('차로', 1259),\n ('또한', 1251),\n ('있기', 1243),\n ('있을', 1220),\n ('좋습니다', 1217),\n ('등', 1212),\n ('바로', 1181),\n ('를', 1180),\n ('볼', 1154),\n ('도', 1146),\n ('경우', 1136),\n ('다', 1132),\n ('상당히', 1128),\n ('않고', 1120),\n ('학교는', 1115),\n ('좀', 1107),\n ('두', 1105),\n ('학교의', 1103),\n ('크게', 1098),\n ('여름에는', 1070),\n ('개의', 1070),\n ('건물이', 1066),\n ('지리적', 1052),\n ('대학', 1046),\n ('해가', 1041),\n ('수도', 1039),\n ('정도의', 1037),\n ('캠퍼스의', 1032),\n ('가지고', 1016),\n ('학생들이', 999),\n ('여러', 986),\n ('너무', 977),\n ('될', 965),\n ('모두', 962),\n ('캠퍼스를', 960),\n ('학교가', 957),\n ('월부터', 948),\n ('걸어서', 937),\n ('겨울은', 937),\n ('도시에', 935),\n ('추운', 935),\n ('한국의', 928),\n ('있지만', 911),\n ('떨어진', 907),\n ('그리', 906),\n ('가까운', 903),\n ('바람이', 901),\n ('로', 901),\n ('처음', 898),\n ('모든', 897),\n ('주의', 897),\n ('비해', 891),\n ('오는', 891),\n ('대학은', 887),\n ('없습니다', 884),\n ('때는', 883),\n ('떨어져', 881),\n ('따뜻한', 880),\n ('않은', 877),\n ('훨씬', 875),\n ('것을', 872),\n ('위치는', 869),\n ('가는', 869),\n ('겨울', 866),\n ('버스를', 860),\n ('또', 852),\n ('그래서', 852),\n ('하는', 851),\n ('만큼', 850),\n ('대부분의', 850),\n ('날이', 833),\n ('항상', 830),\n ('겨울이', 829),\n ('그러나', 828),\n ('가을', 822),\n ('내내', 810),\n ('그렇게', 798),\n ('아니라', 790),\n ('버스로', 786),\n ('그래도', 780),\n ('주', 764),\n ('다만', 763),\n ('있었습니다', 761),\n ('꼭', 750),\n ('보통', 742),\n ('크지', 737),\n ('되는', 728),\n ('이라는', 723),\n ('겨울에', 716),\n ('대부분', 715),\n ('유명한', 713),\n ('보면', 712),\n ('비교적', 710),\n ('안에', 709),\n ('것은', 709)]"
     },
     "metadata": {},
     "execution_count": 20
    }
   ],
   "source": [
    "# Mecab divided nouns list term frequency\n",
    "tokenized_corpus_counted = Counter(tokenized_corpus)\n",
    "print(\"number of counted nouns:\", len(tokenized_corpus_counted))\n",
    "common_words = tokenized_corpus_counted.most_common(180)\n",
    "common_words"
   ]
  },
  {
   "cell_type": "code",
   "execution_count": 21,
   "metadata": {},
   "outputs": [
    {
     "output_type": "execute_result",
     "data": {
      "text/plain": "['있습니다', '수', '있는', '때문에', '는', '많이', '매우', '학교', '큰', '분']"
     },
     "metadata": {},
     "execution_count": 21
    }
   ],
   "source": [
    "common_words_list, frequency_list = map(list, zip(*common_words))\n",
    "stopwords = common_words_list\n",
    "stopwords[:10]"
   ]
  },
  {
   "cell_type": "markdown",
   "metadata": {},
   "source": [
    "## Tokenizing one column of university dataframe with soynlp"
   ]
  },
  {
   "cell_type": "code",
   "execution_count": 22,
   "metadata": {},
   "outputs": [],
   "source": [
    "column_data = \"food_info\""
   ]
  },
  {
   "cell_type": "code",
   "execution_count": 23,
   "metadata": {},
   "outputs": [],
   "source": [
    "df_info = df_specific[['대학코드', '대학명', 'gen_info', 'env_info', 'food_info', 'study_info','office_info', 'facil_info', 'mhct_info', 'help_info', 'etc_info']]"
   ]
  },
  {
   "cell_type": "code",
   "execution_count": 24,
   "metadata": {},
   "outputs": [],
   "source": [
    "# df_column = df_specific[df_specific[column_data].notnull()]\n",
    "df_column = df_info[column_data].fillna(\"\")"
   ]
  },
  {
   "cell_type": "code",
   "execution_count": 25,
   "metadata": {},
   "outputs": [
    {
     "output_type": "execute_result",
     "data": {
      "text/plain": "0    기숙사는 학교에서 제공하지 않고 두가지 옵션이 주어진다. 홈스테이 혹은 게스트 하우스(혹은 학생레지던스) 홈스테이를 하는 경우 홈스테이 가족에서 아침과 저녁식사를 제공하고 점심식사는 나가서 사먹어야 한다. 가족에 따라 집에서 요리를 할 수 있는 경우가 있고 할 수 없는 경우가 있다. 그리고 홈스테이는 아르헨티나 사람들에 대해서 잘 알 수 있는 기회가 될 수 있지만 본인의 친구들 중 몇몇은 안좋은 가족들이 걸려서 집에서 불편했었다고 한다. 본인은 학생 레지던스에서 살았었다. 1인1실이 아니라 방별로 2인1실, 3인1실, 5인1실 이 있었고 화장실과 부엌은 대부분 같이 사용했다. 레지던스 별로 1인1실도 있고 개인화장실이 있는 경우도 있다. (대부분 부엌은 공동사용이다.) 본인이 있었던 곳에는 한국사람이 하나도 없고 거의 다 스페인어권 사람이어서 스페인어를 배우기에 좋았고 또 남아메리카, 중앙아메리카 여러 나라들의 사람들, 음식, 등등을 알 수 있게 되어서 정말로 뜻깊은 경험이 ...\nName: food_info, dtype: object"
     },
     "metadata": {},
     "execution_count": 25
    }
   ],
   "source": [
    "df_column.head(1)"
   ]
  },
  {
   "cell_type": "code",
   "execution_count": 26,
   "metadata": {},
   "outputs": [
    {
     "output_type": "execute_result",
     "data": {
      "text/plain": "469    1,2학년과 국제학생들 (1년 이하로 있는 학생들)은 모두 기숙사에서 생활하게 된다. 나는 1년동안 엘리베이터가 있는 11층 건물인 Tower hall에 살았다. 그 외에도 new dorm, polis house 등 총 5개의 기숙사가 있다. 거의 2인 1실이고, 방은 꽤 넓은 편이다. 침대, 책상, 옷장, 화장대가 구비되어 있고 각 층마다 RA가 있다. 기숙사마다 매주 모임 혹은 행사가 있다. (영화보기, football 보기 등) 거의 모든 학생들이 기숙사에 살거나 학교에서 소유하고 있는 아파트에 살기 때문에 친구들를 사귀기 쉽다. 나의 경우 같은 기숙사 같은 층에 사는 친구들과 친해져서 외롭지 않게 생활할 수 있었다. 덧붙여서 wittenberg 사람들은 매우 친절해서 모르는 사이라도 지나가다가 마주치면 인사하는 가족같은 분위기이다. n식사는 1,2학년 학생들의 경우 meal plan을 이용하는데 국제학생의 경우 1주일에 15meal을 사용한다. Student cent... 모든 신입생들은 학교의 기숙사에서 살아야 하며, 2학년부터는 학교의 소유로 되어있는 주변의 주택 혹은 아파트를 빌려서 살 수 있다. 두 가지 경우 모두 경비는 비슷한 듯 하지만, 기숙사에 있는 경우 여러 가지 규칙들이 있고 반드시 meal plan 을 해야하는 부담이 있기 때문에 많은 학생들이 기숙사 밖에서 사는 것을 선호한다. 하지만, 기숙사도 시설이 상당히 좋고 방도 꽤 넓어서 웬만한 학생들이 방 안에 기본적으로 달려 있는 큰 책상과 개별 침대, 큰 개인 옷장 두개씩 이외에 따로 쇼파, 텔레비젼, 오디오, 냉장고 등을 갖추어 놓고 산다. 그리고 규칙이라고 해봐야, 초를 사용하지 못한다거나 밤 9시에서 새벽 네 시 사이에는 학생 아이디를 입구의 nightguard 에게 보여주어야 한다는 정도이지, 매우 자유로운 분위기이다. 물론 기숙사 동마다 그리고 같은 기숙사 내에서도 층마다의 분위기가 조금씩 다르긴 하여서, south hall 의 경우 남학생 층은 복도에만 들어서도 퀴퀴... ISEP 프로그램은 그 학교의 기숙사비, 식비에 상관없이 ISEP으로 일정 금액을 떠나기 전에 먼저 지불한다. 사립이어서 모든 것이 비싼 Wittenberg의 경우 얼마의 금액을 ISEP으로부터 지원을 받는 셈이다. 이 학교의 1,2학년 학생들은 의무적으로 기숙사 생활을 한다. 통틀어 7개의 기숙사가 있는데 내가 머물렀던 Hanley Hall만이 여학생들만 사용하는 기숙사이고 나머지는 남녀가 함께 사용하는 co-ed이다. 물론 남녀 학생이 같은 방을 사용하는 것은 아니다. 대부분의 국제 여학생들은 Hanley에 배정을 받는데 그만큼 조용하고 깨끗한 곳이다. 모든 기숙사가 2인 1실이며 원할 경우 혼자서 사용할 수도 있다. 일단 배정을 받고 어느 정도 생활을 한 후에 Roommate와 궁합이 맞지 않으면 바꿀 수도 있다. 기본적으로 옷장, 서랍장, 책상, 침대가 갖추어져 있는데 대부분의 학생들이 TV, 비디오, 선풍기, 냉장고, 소파 등을 다 갖추어 놓고 생활한다. 나의 경우 ...\nName: food_info, dtype: object"
     },
     "metadata": {},
     "execution_count": 26
    }
   ],
   "source": [
    "df_column.tail(1)"
   ]
  },
  {
   "cell_type": "code",
   "execution_count": 27,
   "metadata": {},
   "outputs": [],
   "source": [
    "df_process = df_column.apply(remove_junk)"
   ]
  },
  {
   "cell_type": "code",
   "execution_count": 28,
   "metadata": {
    "tags": []
   },
   "outputs": [
    {
     "output_type": "stream",
     "name": "stdout",
     "text": "CPU times: user 2.1 s, sys: 26.9 ms, total: 2.13 s\nWall time: 2.13 s\n"
    }
   ],
   "source": [
    "%time df_tokens = df_process.apply(tokenizer.tokenize)"
   ]
  },
  {
   "cell_type": "code",
   "execution_count": 29,
   "metadata": {},
   "outputs": [
    {
     "output_type": "execute_result",
     "data": {
      "text/plain": "(470,)"
     },
     "metadata": {},
     "execution_count": 29
    }
   ],
   "source": [
    "df_tokens.shape"
   ]
  },
  {
   "cell_type": "code",
   "execution_count": 30,
   "metadata": {},
   "outputs": [
    {
     "output_type": "execute_result",
     "data": {
      "text/plain": "0                   [기숙사는, 학교에서, 제공하지, 않고, 두가지, 옵션이, 주어진다, 홈스테이, 혹은, 게스트, 하우스, 혹은, 학생레지던스, 홈스테이를, 하는, 경우, 홈스테이, 가족에서, 아침과, 저녁식사를, 제공하고, 점심식사는, 나가서, 사먹어야, 한다, 가족에, 따라, 집에서, 요리를, 할, 수, 있는, 경우가, 있고, 할, 수, 없는, 경우가, 있다, 그리고, 홈스테이는, 아르헨티나, 사람들에, 대해서, 잘, 알, 수, 있는, 기회가, 될, 수, 있지만, 본인의, 친구들, 중, 몇몇은, 안좋은, 가족들이, 걸려서, 집에서, 불편했었다고, 한다, 본인은, 학생, 레지던스에서, 살았었다, 인, 실이, 아니라, 방별로, 인, 실, 인, 실, 인, 실, 이, 있었고, 화장실과, 부엌은, 대부분, 같이, 사용했다, 레지던스, 별로, 인, 실도, 있고, 개인화장실이, 있는, 경우도, 있다, 대부분, 부엌은, 공동사용이다, 본인이, 있었던, 곳에는, 한국사람이, 하나도, ...]\n1    [보통, 기숙사에, 거주합니다, 쉐어하우스를, 구해서, 사는, 친구들도, 있었지만, 기숙사보다, 전혀, 저렴하지, 않고, 관리가, 잘, 안되기, 때문에, 추천드리지, 않습니다, 은, 거의, 없고, 있더라도, 비용이, 굉장히, 비쌀, 거에요, 저는, 에, 거주했는데, 제일, 저렴하고, 타, 기숙사에, 비해, 조금, 오래되었지만은, 십년, 조금, 넘은듯, 합니다, 관리가, 잘, 됩니다, 부엌도, 타, 기숙사에, 비해, 제일, 넓구요, 학년과, 교환학생, 위주로, 거주하기, 때문에, 사람, 만나기, 좋고, 이벤트도, 굉장히, 자주해요, 키친, 같이, 쓰는, 보통, 같은, 층, 학생들, 학생들과, 자주, 보기, 때문에, 친해지기, 쉽습니다, 내향적인, 성격을, 가지신, 분들껜, 포함, 기숙사, 어디든, 일상에서, 항상, 누구를, 마주쳐야, 한다는, 장단점이, 있겠지만요, 호주는, 식비가, 굉장히, 비싸서, 웬만하면, 요리해먹습니다, 는, 주방이, 넓고, 호주, 마트, 물가가, 저렴하기, ...]\nName: food_info, dtype: object"
     },
     "metadata": {},
     "execution_count": 30
    }
   ],
   "source": [
    "df_tokens[0:2]"
   ]
  },
  {
   "cell_type": "code",
   "execution_count": 31,
   "metadata": {},
   "outputs": [
    {
     "output_type": "execute_result",
     "data": {
      "text/plain": "468        [나는, 에서, 기숙사에, 살았다, 으로, 가게, 되면, 무조건, 기숙사에서, 생활해야, 하고, 에, 대한, 비용을, 가기, 전에, 미리, 내고, 가야, 한다, 이, 대학에는, 기숙사만, 개, 정도가, 된다, 그만큼, 많은, 학생들이, 함께, 기숙사에서, 생활한다, 룸메이트와, 함께, 생활했고, 같은, 에, 있는, 학생들이, 많이, 도와주고, 친하게, 지내려고, 해서, 그다지, 어려운, 점은, 없었다, 각, 기숙사마다, 나, 등이, 있어, 생활이, 힘든, 학생들을, 자주, 도와준다, 방에는, 기본적으로, 침대와, 옷장, 책상이, 있고, 그, 외에는, 자기, 자신이, 원하는, 것으로, 방을, 꾸미면, 된다, 나는, 다행히, 룸메이트가, 냉장고, 오디오, 를, 가져와서, 별다른, 불편, 없이, 생활할, 수, 있었다, 화장실과, 샤워실은, 공동으로, 되어, 있으며, 매일같이, 청소하는, 분들이, 청소를, 하기, 때문에, 매우, 청결하다, 새로]\n469    [학년과, 국제학생들, 년, 이하로, 있는, 학생들, 은, 모두, 기숙사에서, 생활하게, 된다, 나는, 년동안, 엘리베이터가, 있는, 층, 건물인, 에, 살았다, 그, 외에도, 등, 총, 개의, 기숙사가, 있다, 거의, 인, 실이고, 방은, 꽤, 넓은, 편이다, 침대, 책상, 옷장, 화장대가, 구비되어, 있고, 각, 층마다, 가, 있다, 기숙사마다, 매주, 모임, 혹은, 행사가, 있다, 영화보기, 보기, 등, 거의, 모든, 학생들이, 기숙사에, 살거나, 학교에서, 소유하고, 있는, 아파트에, 살기, 때문에, 친구들를, 사귀기, 쉽다, 나의, 경우, 같은, 기숙사, 같은, 층에, 사는, 친구들과, 친해져서, 외롭지, 않게, 생활할, 수, 있었다, 덧붙여서, 사람들은, 매우, 친절해서, 모르는, 사이라도, 지나가다가, 마주치면, 인사하는, 가족같은, 분위기이다, 식사는, 학년, 학생들의, 경우, 을, 이용하는데, 국제학생의, 경우, 주일에, ...]\nName: food_info, dtype: object"
     },
     "metadata": {},
     "execution_count": 31
    }
   ],
   "source": [
    "df_tokens[-2:]"
   ]
  },
  {
   "cell_type": "markdown",
   "metadata": {},
   "source": [
    "## Extract Keyword\n",
    "### list of common words in university review(one cell) - list of common words that can be found across rows"
   ]
  },
  {
   "cell_type": "code",
   "execution_count": 32,
   "metadata": {
    "tags": []
   },
   "outputs": [
    {
     "output_type": "stream",
     "name": "stdout",
     "text": "6103\nUniversity of California Santa Cruz\n"
    },
    {
     "output_type": "execute_result",
     "data": {
      "text/plain": "['유씨', '산타크루즈는', '학교의', '주요', '시설들이', '학교의', '북쪽에', '있는', '만큼', '기숙사에']"
     },
     "metadata": {},
     "execution_count": 32
    }
   ],
   "source": [
    "# make bag of words out of one university's students' reviews\n",
    "import random\n",
    "random_int = random.randint(0,469)\n",
    "sample_univ_bow = df_tokens[random_int]\n",
    "print(len(sample_univ_bow))\n",
    "while len(sample_univ_bow) < 500:\n",
    "    random_int = random.randint(0,469)\n",
    "    sample_univ_bow = df_tokens[random_int]\n",
    "    print(len(sample_univ_bow))\n",
    "print(df_specific[\"대학명\"][random_int])\n",
    "sample_univ_bow[:10]"
   ]
  },
  {
   "cell_type": "code",
   "execution_count": null,
   "metadata": {},
   "outputs": [],
   "source": []
  },
  {
   "cell_type": "code",
   "execution_count": 33,
   "metadata": {},
   "outputs": [],
   "source": [
    "subtracted_bow_list = [item for item in sample_univ_bow if item not in stopwords]"
   ]
  },
  {
   "cell_type": "code",
   "execution_count": 34,
   "metadata": {},
   "outputs": [
    {
     "output_type": "execute_result",
     "data": {
      "text/plain": "[('사는', 36),\n ('을', 36),\n ('명이', 26),\n ('기숙사에', 25),\n ('기숙사', 24),\n ('같이', 24),\n ('현지', 22),\n ('각', 20),\n ('과', 20),\n ('살았습니다', 18),\n ('마다', 18),\n ('기숙사를', 17),\n ('교환학생', 17),\n ('기숙사는', 17),\n ('학생들은', 16),\n ('기숙사가', 16),\n ('다양한', 16),\n ('방을', 16),\n ('부엌', 16),\n ('식사는', 16),\n ('살게', 15),\n ('화장실', 15),\n ('기숙사에서', 15),\n ('함께', 13),\n ('아파트', 13),\n ('위한', 12),\n ('거실', 12),\n ('경우에는', 12),\n ('공유하는', 12),\n ('직접', 12),\n ('기숙사의', 12),\n ('쿼터', 11),\n ('인실', 11),\n ('곳은', 11),\n ('비싼', 11),\n ('각각의', 11),\n ('시설이', 11),\n ('명', 11),\n ('미국인', 10),\n ('교환학생들이', 10),\n ('방은', 10),\n ('밖에서', 9),\n ('따로', 9),\n ('개', 9),\n ('방', 9),\n ('아파트에서', 9),\n ('요리를', 9),\n ('생활을', 9),\n ('교환학생들을', 9),\n ('지냈습니다', 9)]"
     },
     "metadata": {},
     "execution_count": 34
    }
   ],
   "source": [
    "counted_bow_keywords = Counter(subtracted_bow_list)\n",
    "counted_bow_keywords.most_common(50)"
   ]
  },
  {
   "cell_type": "code",
   "execution_count": 35,
   "metadata": {},
   "outputs": [
    {
     "output_type": "execute_result",
     "data": {
      "text/plain": "[('유씨', 1), ('산타크루즈는', 4), ('학교의', 4), ('주요', 1), ('시설들이', 1)]"
     },
     "metadata": {},
     "execution_count": 35
    }
   ],
   "source": [
    "counted_bow = Counter(sample_univ_bow)\n",
    "counted_bow_tuple_list = list(Counter(counted_bow).items())\n",
    "counted_bow_tuple_list[:5]"
   ]
  },
  {
   "cell_type": "code",
   "execution_count": 36,
   "metadata": {},
   "outputs": [
    {
     "output_type": "execute_result",
     "data": {
      "text/plain": "['유씨', '산타크루즈는', '학교의', '주요', '시설들이', '북쪽에', '있는', '만큼', '기숙사에', '사는']"
     },
     "metadata": {},
     "execution_count": 36
    }
   ],
   "source": [
    "# zipping deletes overlapping string items\n",
    "zipped_bow_words, bow_frequency_list = map(list, zip(*counted_bow_tuple_list))\n",
    "zipped_bow_words[:10]"
   ]
  },
  {
   "cell_type": "code",
   "execution_count": 37,
   "metadata": {},
   "outputs": [],
   "source": [
    "zipped_bow_words_subtracted = [item for item in zipped_bow_words if item not in stopwords]"
   ]
  },
  {
   "cell_type": "code",
   "execution_count": 38,
   "metadata": {
    "tags": []
   },
   "outputs": [
    {
     "output_type": "stream",
     "name": "stdout",
     "text": "2503\n"
    }
   ],
   "source": [
    "print(len(zipped_bow_words_subtracted))"
   ]
  },
  {
   "cell_type": "code",
   "execution_count": 39,
   "metadata": {},
   "outputs": [
    {
     "output_type": "execute_result",
     "data": {
      "text/plain": "['가격이',\n '정확히',\n '남녀',\n '좋겠지만',\n '아시아',\n '교류할수',\n '경험을',\n '배정이',\n '적게',\n '살았지만',\n '수준이었습니다',\n '이곳에',\n '만들',\n '연대처럼',\n '수리중이였는데',\n '들어갈',\n '샤워실은',\n '교환학생으',\n '기숙사이며',\n '여번',\n '다니시거나',\n '중심에',\n '보냈습니다',\n '개에',\n '방식을',\n '접하고',\n '좋고',\n '형태가',\n '것인',\n '위치해있다',\n '각자의',\n '개국의',\n '끝에',\n '맨',\n '것이고',\n '불구하고',\n '많다',\n '일주일은',\n '걱정이',\n '교환학생이고',\n '속해',\n '빠져나가는',\n '있습니',\n '메뉴는',\n '식사는',\n '좋았다',\n '그럼에도',\n '점은',\n '구조도',\n '쪽에']"
     },
     "metadata": {},
     "execution_count": 39
    }
   ],
   "source": [
    "random.sample(zipped_bow_words_subtracted, 50)"
   ]
  },
  {
   "cell_type": "code",
   "execution_count": 40,
   "metadata": {},
   "outputs": [
    {
     "output_type": "execute_result",
     "data": {
      "text/plain": "'유씨 산타크루즈는 주요 시설들이 북쪽에 기숙사에 사는 강의실을 가거나 시설을 이용하기에 편리합니다 통학을 학생들은 주위에 집에서 을 해서 학생들과 집을 쉐어하는 방식을 살아갑니다 기숙사비가 밖에서 보다 비싸지만 그만큼 편리하게 이용할 연대처럼 교환학생들만 따로 모여서 살 기숙사가 추천드립니다 특이하게 칼리지가 각 칼리지마다 기숙사랑 강의실이 따라서 본인 칼리지에 강의실에서 들으면 방에서 강의실까지 분컷이지만 저 멀리 칼리지의 들어야 미리미리 있어야 내세우는 테마가 과 다양성 테마로 내세워서 거기에 다양한 인종의 학생들 교환학생들은 살게 기숙사를 신청할 개 써서 지원을 하는데 곳을 적어도 결국은 들어가서 지내게 되더라구요 아무래도 국제학생들을 위한 행사도 열고 문화를 나누기 쉬운 같아 그런 미국에서 색다른 경험을 해보고자 일부러 혼성 신청했고 여자 셋 남자 셋이 함께 되었습니다 운이 좋게도 되어 넓은 공간을 있었고 거실 주방 화장실 샤워실 방 이렇게 집은 구성되어 발코니도 풀리고 나서는 발코니에서 영화도 보고 밥도 먹으며 시간을 보냈습니다 개인적으로 하우스메이트들과 이런저런 이야기하며 사이가 좋아 저희끼리 파티도 요리도 해먹고 보면서 즐겼습니다 집안 내부에 대한 자세한 정보는 나중에 기숙사 사이트에 올라와있는 동영상 링크를 참 쿼터 동안 기숙사에서 생활했으며 인실 방을 사용했습니다 생활한 곳은 아파트라서 거실이랑 주방도 여기서 간간히 밥을 해 먹기는 했지만 식당에서 먹었습니다 아파트도 가보고 그냥 기숙사에도 가봤지만 아파트에서 생활하는게 공간도 넓고 쾌적한 거 식당도 종류가 메뉴는 비슷해서 굳이 멀리까지 이유는 없었습니다 매일 나오는 메뉴도 요리를 줄 아시는 분은 아파트에 거주하면서 요리해서 드시는 걸 생활인 알아서 구해서 것인 두가지 옵션이 생활을 편한 대신 비쌉니다 기준 불 이상씩 냈었던 것으로 기억합니다 산타크루즈 동네 자체가 집값이 비싼 동네라 살더라도 가격이 되지만 학교보다는 저렴합니다 아는 친구의 정문 근처에서 인실을 불정도 내면서 지내더라구요 내 주차장 이용이 어려워 차량을 소유하는게 불가능한데 주차비가 비싸고 주차장도 멀리멀리 있어요 사실 경우에는 학교를 다니는 불편할 거주 형태는 두가지가 일반적인 주방과 거실이 교환학생 국제학생을 커뮤니티에 거주하게 되기 쉽게 썼습니다 다섯 건물로 이루어져 이고 나머지는 일반 입니다 분들도 설명해 주셨듯 교환학생과 반반씩 모여 곳이고 이벤트가 열립니다 신청을 늦게 들어가지 못 했는데 룸메를 통해 페이스북 그룹에 가입해서 행사 얻을 그치만 시간이 지나고 마음 맞는 친구들이 생기면서 인지 아닌지 별로 중요해지지 않았던 같네요 기숙사는 라고 불리는데 살았어요 구조인 같은데 아파트 개에 부엌 거실을 공유하는 형태에요 그런데 가격이면 차라리 혼자 방쓰면서 사는게 낫지 않을까 생각을 했어요 한달에 식비 제외하고 만 만원정도 나가는 솔직히 시설에 비싸다는 생각이 들었어요 편에 속한다고 하더라고요 교환학생을 기숙사라서 그런지 행사를 하긴 해요 좋아하시는 분들은 여기 사시면 좋을 같아요 근데 하우징 방법을 알았다면 살지 않았을까 아쉬움이 남아요 식사는 밀플랜을 부족할까봐 이라고 밀플랜같은 건데 직접 지정해서 단위가 아 살았습니다 기숙사의 다양합니다 저의 국제학생들과 미국인 같이 살면서 조화와 다양성을 추구하는 기숙사입니다 살았고 만족했습니다 형태였고 공용 거실과 발코니 짜리 두개가 달려있는 기본적으로 들어오는 교환학생으로 학생들에게 친절한 편이고 문화에 대해 수용적일 자신이 지원해서 형태입니다 처음에 가셔서 적응을 하는데에 들이 도움이 되어줄겁니다 생각해본적도 없지만 해변에 가까이에 살고 싶으시다면 구하시면 치시면 나 유용한 정보를 곳이 있습니 으로 나눌 자취하는 방값은 싸지만 친구를 사귀기 어렵습니다 워낙 크기 통학하는데 오래 걸립니다 교환학생들처럼 교내 일 생활했습니다 비용은 비쌌지만 중앙에 수업 간 이동이 편리했고 말 그대로 인생친구 들을 사귈 있었던 소중한 기회였습니다 우리나라에서는 만난 사람에게 무슨 과세요 묻지만 말합니다 란 본인이 소속한 말하는데 마치 해리포터의 호그와트처럼 기숙사별로 특징이 각각 다릅니다 캠퍼스에는 총 열 배정받으시면 생활 또는 밖 개인 선택하셔야 전 도착해서 봄 쿼터에는 여름 가을에는 캠퍼스에 처음에는 연고도 없다보니 구하기 힘들고 살면 친구들을 만들기도 쉽기 사시는 추천합니다 비용이 비싸기 포함해서 한쿼터당 달러 부담이 된다고 생각하시는 오프캠에 추천 드립니다 가을쿼터에 오시는 온캠에 시에 반드시 년을 살아야 하므로 겨울쿼터에 경우엔 저처럼 두쿼터를 사셔야 오프캠에도 살아보고 싶으신 미리 그룹을 통해서 구한 후에 방법도 집 사기도 많으니 온라인을 구하실 일년 이곳의 생활은 단점과 장점이 극명하게 갈립니다 우선 단점은 미국은 안에서 먹은 음식들도 편이기 자체로 듭니다 자취를 기숙사비의 반값이고 음식도 먹으면 식비도 적게 버스들이 공짜이기 교통비 걱정도 없고요 장점으로는 살기 시내에서 것보다 안전하며 가는데 편하다는 것이겠죠 룸메이트들이 영어를 씁니다 생각하기로는 어차피 년이니까 쿼터에서 쿼터만 기숙사로 신청하고 나머지를 것도 살았는데 추천하지는 한국에서 구하기가 어려워서 한학기 남은 학기에 새로 알아보자 하고 간거였는데 학교에서 호락호락하게 빼주지 재정 의료 학문적 이유 하나를 이유로 들어서 전문적인 서류가 필요합니다 예를 들어 의사소견서로 사람이 왜 없는지 어쩔 없이 곳에서 보다도 씩 냈는데 한국돈으로 하면 월세 이겠지요 얻어서 내외로 있긴 한데 방이 싱글인지 더블인지에 따라 다르겠지요 어떤 교환학생은 첫 일주일은 호스텔에서 묵으면서 알아보았다고 방법인 호스텔은 하루 만원 였던 걸로 알고 밀플랜에 내용은 경험보고서에도 자세히 나와 생략하겠습니다 되시면 신청해야 밀플랜이 식사를 하게 겁니다 만약 밖에 되신다면 도시락을 싸서 다니시거나 다이닝홀에서 구입해야 개강 후 안에는 할인 기간이라 밀 단위로 밀에 불로 구매하실 이후로는 아침식사 점심 저녁식사는 구매하셔야 하기 할인기간에 구입하여 사용하시는 게 유리합니다 거주환경에 대해서는 온다면 생활하게 만만치 않기 지역 목사님의 도움을 받아 아이들과 생활하였습니다 많지 한가한 도시이나 수요에 비에 공급이 적어 교환학생들이 신청했다가 예상 외로 레지던스홀은 부엌이 없는 기숙사형태라 무조건 선택해야 했고 결과적으로 없다는 아쉬울 때도 있었으나 다이닝홀에 언제든 가서 원하는 음식을 먹을 있다는 편하고 영양적으로도 되었던 제도에 운영되고 특색이 강해서 알아보고 운좋게 생각치 못하게 배정된 컬리지가 맘에 든 케이스였지만 그렇지 못할 경우도 때문입니다 살았던 옆에 먼저 지어진 백인 위주의 기숙사이며 위치적으로 외국인 현지 학생을 비율로 수용합니다 교환학생들을 프로그램이 동시에 어울릴 점에서 좋았습니다 세 가지 쿼터에 다이닝홀을 회 달리 카페에서도 사용이 가능합니다 한정 주말을 자유롭게 다이닝홀 살아서 했기 추가 구입은 쉽지만 낮추는 모여사는 배정받아 곳에는 물론 현지학생들도 배정됩니다 싱글룸에서 명의 온 친구들이라 행운으로 생각했습니다 아파트는 싱글룸과 스몰더블로 이루어진 아파트였는데 일주일마다 집안일을 배정해서 가끔은 같이해서 먹기도 하였습니다 되면 신청해야하는데 먹어보고 싶었기 플랜을 신청했습니다 캠퍼스에서 거주했는데 오프캠퍼스에서 안전 상 걱정이 된다면 선택이라고 생각됩니다 포함된 기숙사비이기 거주비는 비쌌습니다 형태여서 등이 마다 있었기 재미있게 지냈던 인 실을 썼으며 명이서 불편한 점이 없었다면 거짓말이겠지만 그럼에도 불구하고 룸메이트들과 추억을 후회는 필수적으로 기숙사비에 포함되어 아닌 여서 선택할 먹는 좋았기 적절한 선택이었던 친구들과 하러가거나 급할 곳곳에 카페 구하거나 경우로 대개 필수 포함이 되며 감이 선호하는 듯 보였습니다 미국을 보는 생각보다 쉽지 단점이 학교와 내에 사야 학기 번 월화수목금 무제한 이용 가능한 매일매일 편이라 사용하였습니다 음식이 뛰어나게 맛있지도 가면 살이 찌기 건강을 생각해서라도 선택하는 동부 아이비리그의 제도를 본 따 만들어졌습니다 등등 나뉘어 기숙사씩 붙어있는 형태를 접해있는 운동선수들이 아시안들이 살기로 유명합니다 속해 교환학생들과 나뉘는데 우리학교 기숙사와 유사하고 갖추고 아파트의 옵션은 싱글은 방은 혼자쓰면서 명과 불리는 소속 아파트마다 반 학생 반을 배정하기 형태가 형태이기 부엌을 식으로 그러다보니 싱글룸이 아니고 룸메이트와 지내더라도 공간등을 불편함이 결정하고 나면 가지가 매 쿼터마다 변경할수도 이용했습니다 다이닝홀은 뷔페 형식이고 하나씩 다이닝홀이 외에도 내에는 각각의 주제를 갖고 있던 로컬학생반 교환학생반이 곳입니다 지냈습니다 시설이 좋았고 숲에 둘러쌓여 아침에 깨끗한 공기로 상쾌히 시작할 수가 끝에 위치하여 외지고 언덕이 많았습니다 로컬학생들은 오픈 마인드로 교류하였고 교환학생들 역시 서로를 배려해주었습니다 에서는 로컬학생들과의 교류를 위해 이벤트를 열어주기 만들 밀플랜은 세가지 끼를 챙겨 아니여서 다소 아깝다는 느낌이 들었습니다 실제로 비쌌기 한인 교회를 알게된 집사님네 빌려서 캠퍼스보다는 다운타운에 곳이었는데 버스가 학생증이 있으면 무료이기 교통비는 들지 않았습니다 방세는 절반정도였던 놀기 힘들기 사귀는 데에는 밀카드를 사서 충전해서 썼는데 학교에 군데 식당이 뷔페여도 금방 질려서 마트에서 재료들 사와서 간단하게 해먹었습니다 생활관인 싱글아파트를 선택권이 명 명으로 저를 비롯하여 아일랜드 여자학생 명이 교환학생이고 나머진 학생이었습니다 남 여 세면대 개로 생활하기에 충분한 공간입니다 장점은 만날 적응하기에 각국의 교류할수 장점을 전부는 아니지만 학생들도 교환학생들과의 경험이 개방적이고 문화차이를 인정하는 태도를 기숙사에는 전부 대학교 학년 새내기들이 학년은 의무 없다고 보시면 거주합니다 동으로 규모는 그다지 특징은 아파트형 구조라는 것입니다 인실과 중에 하우스 메이트들과 메이트는 미국학생 구성되기 영어와 느끼고자 교환학생들에게는 최적의 학교에는 다이닝 홀이 가진 아무 다이닝홀이나 종류에는 한쿼터에 일주일 일을 무제한으로 형태 산타크루즈에는 교환학생으 마련한 교환 약간 중에서도 맨 안쪽에 멀고 학생들과의 교류가 없으며 형태라는 동양 기숙사이고 하며 최근에 기숙사라 좋기 지원하지는 않았지만 지원 했습니다 기숙상 좋았던 점은 기회가 많았다는 복도 두고 교류도 많을 뿐만 층 전체에 친해질 일반적으로 이용하는 이곳은 기숙사라기 보단 아파트입니다 즉 공유하고 제 경우는 개월동안 지망으로 지원하였지만 배정받았는데 보니 인실은 없고 인실이었습니다 아파트가 대부분이었습니다 식사와 거주비가 우리나라에 이용하였는데 이는 한쿼터 주동안 의미입니다 이외에도 주중에 식당을 일주일내내 식당에 조금이라도 하실 있거나 돈을 아끼고 살을 덜찌고 연세대의 국제학사와 비슷한 성별의 학생이 사는데 각자 싱글룸을 쓰고 부엌과 형식입니다 이런 집이 대부분이지만 트리플룸 두개로 구성된 집도 남녀가 배정받기 전에 온라인 설문조사를 고를 나라에서온 구성됩니다 저희 포함한 나라의 교환학생들과도 교류할 서로 주며 친해지고 미국의 대학생활을 경험하고 들어갈 미국학생들은 행사에 국제학사 비롯한 저와 시기에 파견된 한국 절반 현지학생 절반으로 프로그램이나 학생들이나 친절해서 필요할 때면 구할 가을학기에 파견되면 처음이기 나라 어울리기 쉽고 친해진 일년내내 친하게 지내는 경우가 많습니다 형식으로 집마다 집에 명이나 삽니다 구조는 한방씩 쓰는 명씩 사적인 공간이 개인실 해보려 귀찮아서 사용하였구 가끔 내킬때만 초반 학기는 학생들처럼 생활하였고 나머지학기들은 아파트를 옮겨서 만나고 절반은 형태로 배정이 경험하기에는 좋지만 필수이고 그에 학교건물들과 꽤나 떨어져있고 몇몇 시설에서 있긴하지만 싼 장단점이 어 좋다라고 딱 잘라 말할 수는 비용상이나 점들로 인해 어려움이 있다면 교환학생들의 산다고 만을 고집할 필요는 없을 여섯명이서 방에 세명씩 샤워실을 구조인데 첫번째 쿼터가 끝나고 나간 후에는 썼기 일은 남자들만 여섯명이 살다보니 샤워실에는 곰팡이가 피고 부엌에서는 설거지를 하지 않아 악취가 날 있었지만 결국 참다못한 청소를 되서 최악의 환경은 피할 깔끔한 나름 청결한 유지했지만 옆방 돼지 우리를 방불케하는 수준이었습니다 그럴 당사자들이나 거주하는 학생대표들에게 이야기를 듣습니다 사용했다가 늘어난 식욕과 패스트 푸드의 섭취로 불어난 몸을 두번째 쿼터부터는 사용할 아파트로 나누어지며 형태인 반으로 자원하여 살기를 지원한 학생들이기 학생들보다 이해하려고 노력하며 친절하게 대해줍니다 프랑스 화장실과 샤워실은 공동으로 이용하고 시스템입니다 신청하면 의무적으로 에는 선택하였습니다 가끔씩 여기에 배정 받지 못한 흩어져 살거나 중간에 주거 살기도 바깥에서 비쌉니다만 물정도 모르고 학교안에서 국제학생밑 어울려 그러하듯 저도 쿼터를 차를 구입하실 계획이라면 학교바깥에 나쁘지 화장실을 방의 아파트들은 없는데 인실에 세명이 살지만 살마이 빠져나가는 겨울과 봄쿼터에는 경우에도 봄쿼터에 반이 택해서 프랑스인 구조입니다 여학생들끼리 살았지만 남녀 나눠쓰는 트리플도 있는게 같고 싱글룸 개대신 트리플룸이 중에서 선택하게 되어있습니다 첫학기에는 선택해서 학교식당에서 먹었는데 다음학기 부터는 바꿔서 이때에는 테마를 정해서 꾸미고 음식들 형태와 된 세계 국에서 모여있어서 외국 배우기 좋고 교환학생에게 관심이 신청하여 친절하고 호의적입니다 일본 들과 방만 했다가 번째 변경하여 장 봐와서 해먹 말그대로 각국에서 지난 학기에는 개국의 접하고 즐길 뜻깊은 시간이었습니다 방들은 나누어져 순으로 가격도 내려갑니다 친구들 다섯명과 살다가 마지막 옮겨 두명 멕시코인 한명과 사귀고 사회성 원하신다면 보다는 이나 권장합니다 하시면 부엌도 언제든지 신청하시면 필 중심의 대학으로 특색을 및 사무실등으로 꾸며져 있구요 인접한 거주형태는 더블룸 트리플룸으로 있는데요 복도식으로 방들이 붙어있고 키친이 욕실을 공유합니다 학년들이 거주하기에 시끄럽고 활발한 분위기입니다 네개로 이루어져있거나 학기중 출입할 출입가능한 이용할수 없기에 교환학생분들처럼 쓰다 학기부터 인실로 옮겼습니다 혼자써서 편하기는 누구와 되느냐에 외로움을 느끼실 인실이라도 사람들은 다들 생활에 바빠서 않았어요 반면 불편하긴 개가 지저분해지는 약간의 불편을 감수하셔야해요 처음부터 싫으시다면 좋겠지만 왠만하면 추천드려요 맛있기는 년동안 질리기도 기름진 많기 분들과 마찬가지로 보냈어요 편이긴 만나기에 좋아요 인실이 살아요 섞여 집인 하나밖에 없었던 가셨을 외로울 있으니까 참고하세요 룸메이트에 괴로울 중에도 자리가 바꿔 주는 같았어요 사게 되어있는데 추천해드려요 안되게 되있으니까 써보시고 싶으시면 하시는 나을거에요 살았다 구성 되었고 생활하는데 본인은 국적의 별 문제없이 지냈다 쿼터는 만들어서 해결했다 국제학생들은 된다 아파트이기 샤워실이 갖추어져 비해서는 불편함은 없었으나 겨울철에 난방 좋지 춥기도 했거니와 난방을 틀면 건조하고 공기가 탁해져 기관지염으로 고생했던 기억이 난다 나의 앞에 이용했으나 부담스러워 이용해 먹었다 이용하였다 맛이 있지 않기때문에 슈퍼에서 사다가 직접해먹는 추천한다 형식으로서 살수도 사용하고 키친 것이고 한방을 나머지 지냈으며 영국에서 교환학생으로서 행사들도 많으며 반은 사귀기도 쉽습니다 많아 많고 놀 기회도 많지만 사람들을 만나는 기회들이 것이라고 생각합니다 공부 이러한 환경속에서도 어느정도만 투자할 있으리라 첫쿼터에는 늦게해서 모아둔 못하고 옆 건물인 파티를 싫어하시거나 시끄러운걸 싫어하시는 분들이게는 지원하지 마세요 그곳에서는 매주 파티가 있으니까요 이여서 두개 룸메이트 잘만나는게 제일 중요한 사람들이랑 되어서좋았어요 하나 한집에 오피스텔 생각하시면 될꺼에요 쪽에 수리중이였는데 완공되었나 모르겠네요 신청한걸로 이용가능하니까 골고루 이용해보세요 외국학생들이 현지학생과 교환학생이 절반씩 섞여서 형식의 선택한 영국인 트리플을 등은 쓰게 행사가 존재해 현지에 적응하기 좀더 쉽다고 생각되었습니다 출입이 만들어 먹고 싶다면 선택해 번만 출입하면 분위기가 조금씩 다르고 환경이나 구조도 약간씩 다르기 이를 고려하고 선택한다 필자의 한마디로 기숙사이다 절반정도와 정도가 새학기가 시작되는 월에는 열리고 이후에도 나라에 소개하고 발표하는 행사와 각종 캠핑 여행 등을 주관한다 기숙사들과는 다르게 아파트이다 명에 거주하는데 각각에 있겠지만 적극 필자를 속해있는 건물이라고 선택했는데 지리적으로 북쪽 주변에 나무밖에 없어 아름다운 산타크루즈의 등의 단점도 겉에서 보기에는 멋지지 않지만 내부 시설은 깔끔하다 필자는 네 형태이다 라틴계 일본에서 친구들이었지만 미국인들이 지저분해서 고생아닌 고생을 했다 우리는 않을 때가 늘 지저분했다 분이라면 딸려 가려면 칼리지에서 다시 아파트나 샤워 화장실들을 공용시설을 사용한다 나는 칼리지 딸린 생활했다 국제 학생들을 만들어진 로컬 학생과 반반 생활한다 중심으로 이루어지기 입장에서는 들어가 좋다고 생각한다 시설 면에서는 현재 기숙사도 몇 생겼다 계속 확장 중이라 외의 칼리지에도 새로운 생기고 오래된 칼리지라고 나쁜 아니다 이를테면 칼리지는 건물들을 지었는데 특성이 기숙사나 위치해있다 연세대 학생들끼리 만나면 반이에요 물어보는 것과 유사하게 학생들끼리는 물어보곤 한다 소속되어 학생들로 이루어져있다 문화생활을 강력 들도 개성 특성화된 프로그램들이 준비되어 교환학생들에겐 적합한 곳이다 내에서 방법이 이것 하나의 속하게 자기가 속한 이용합니다 지은 건물이라 편이 었습니다 둘의 차이점은 에서만 학년이 거주하였습니다 당 여는 요일마다 차이가 여러개 그나마 최근 거라서 낫다 많아서 만나보기에 좋다 시작전에 구입해서 밤 시까지 때나 부페식이라서 출출할 나오는데 맛있게 먹었지만 갈수록 나중에는 과일이나 샐러드를 질려도 배고프면 먹게 한국음식이 싶으면 장을 봐서 해먹거나 놀러가서 한국음식을 사먹을 저희는 정확히 말하면 퍼져있는 소규모 개씩 짝을 지어서 군데로 퍼져있어 군데중 군데에 아침은 베이컨 전형적인 아침식사가 나오고 정해진 시간에 점심과 저녁 식사의 메인 메뉴가 나옵니다 딱히 메인메뉴가 아니어도 음식들을 떠서 늦게는 밤늦게 공부하는 혹은 노는 야참시간까지 겸하여 이용하거나 지불하는 여번 주중에만 주중 주말 관리를 받는다 건물을 나뉜다 공유한다 깨끗하며 중심에 여러면에서 편하다 일반적으로는 묵으나 기숙사비용이 여력이 구해 홈스테이나 자취등의 나가 아니기 훨 씬 물가가 탓에 나가사는 비용도 저것 따져보면 않다는 알 것이다 기숙사마다 해결하였다 받고 곳의 깨끗하고 편이었고 라 아시아 학생들의 비율이 높았습니다 형태의 있었는데 특수한 아파트라 이벤트도 곳이었습니다 이곳에 배정되었으면 있었을것 아쉬웠습니다 에서의 관련 시설과 구하는 구분된다 보통은 처음은 어느 요령이 생기면 구해보는 교내에 경우와 교외에 구분되는데 방식과 방식으로 방식은 시스템이고 샤워실과 층이 시스템이다 보통의 머물게 방식이다 신청하는데 구입하게 동안에는 편리하다 한다는 규정이 많다 여학생 전용층 층에 형식이며 하루에도 보기때문에 홀에 사람들과 가격은 비하여 절약하고 싶거나 자신에게 맞지 되면서 이사를 간다 아파트형식 평범한 그룹이 시스템으로 나뉘어져 들은 가령 앞으로 잔디 운동장이 보이고 푸른 바다가 넓게 펼쳐져서 경치가 장관을 이룬다 내가 살던 들로 이루어졌습니다 각자의 학년들은 의무라서 학년들과 였습니다 역사가 컬리지라서 낡았습니다 방과 가구들이 오래되어서 불편했습니다 위치도 버스에서 내려서 올라가야 높은 지대에 찾아서 떠나서 지운 곳으로 옮긴 완공된지 얼마 안되어서 것에 만족하면서 지낼 구내식당 학교내에 이용했다 나름의 특징을 그들만의 갖는다 학년의 강의실도 수업의 층마다 그들이 관리하게 일단 상의하게 되어있다 남여가 사용하는 여자의 여자만 있기는 하다 거주했고 이용하여 강의실 실 신청할때 정할 내야 신청했지만 룸메이트가 오지 않는 이럴 혼자서 문제가 생기는 말해서 방으로 옮기는것이 어렵지 걱정하지 않아도 생활했는데 그곳은 시설도 다니기도 불편하지만 사람들이 않아서 한적하고 주변 신입생들은 하도록 함께간 사람들도 질이 무척이나 다르다 건물이었고 방음 떨어졌다 한방에 두명이 생활하며 사용하려면 침대두개 책상 붙박이장 서랍장 두개의 머물렀던 목욕 공용이었다 생긴 기숙사들은 좋았다 벽도 두껍고 문도 자동 잠김 문이고 욕실 있었다 식당 한개씩 음식은 부풰 식이었다 미국식 아침으로 달걀 감자 샐러드 시리얼 야식으로 햄버거와 피자 푸드들을 평일에는 대학들과 해야만 캠퍼스로 구성이 존재한다 국제학생관이 마련되어 존재하는데 출입 가능하다 특징적인 들면 어느곳은 멕시칸 어떤곳은 이탈리안이 나오기도 부페식으로 제공되는 식단은 한쿼터가 지나면 슬슬 질리기 시작하여 숨겨두었던 라면을 일이 잦게 되었다 학교와는 해리포터에서 그러한 형태이지요 특색도 졸업식도 다르답니다 만나기 자리들도 있고요 숲속에 있었는데요 화장실은 공용이에요 공용이라는 소리를 듣고 어떻게 그럴수가 있나 했는데요 살만해요 없을때 화장실썼고요 샤워실도 쓰긴했지만 없기 부딪힐 인용실과 인용실이 어휘향상을 인용실을 룸미랑 성격도 맞고요 부페 식이고요 짜리말고 식사권사면 하루에 몇번씩 들어가도되요 안의 이용했고 이용했기때문에 전혀 불편함을 느낄수 없었다 한인타운이 산호세와의 거리가 특별한 아니고는 맛볼 캘리포니아의 특징상 멕시코의 많았다 만족할만 흠이었다 개월 시스템이 인데 컬리지 그곳의 순위를 매겨 지원한다고 하네요 지내던 규모가 건물이었습니다 한층에 가량있어서 같은건물에서 받던 공대 건물까지는 도보로 분이 걸려서 이동하는데에는 라서 남학생과 여학생이 공유이고요 홀에는 가량의 인실까지 있던곳은 이라서 하여 먹기가 조 개월의 기간 기숙사에서만 안 이다 우리 나라에서 종합 이곳에서 불리운다 나라와 시스템을 있다고 중심되는 운영 밑에 여러가지 단과 대학이 경우이다 영국의 옥스포드와 캠브리지를 모델로 만들었다고 흔히들 연세인의 학교라고들 연세인을 관리하게에는 현실상 힘든 부분이 것이라 문제점을 해결하고자 모델이다 칼리지로 세분화시킨다면 관리하면서 전체가 유기적으로 연결되도록 시키는 머물던 기준으로 말씀드리자면 한층마다 독방과 합방이 합쳐 건물은 층까지 화장실이 남녀공용이라는게 쪼 끔 단점이라면 단점일수 며칠만 생활하다보면 적응이 되더랍니다 남자입장에서 말이죠 선택하여 거주할 방법은 하나는 우리나라의 하숙 자취 전자의 경우였기 그것에 대해서만 말을 해변이 내려다 보이는 곳도 좋게 조용하면서도 나쁘게 조금은 암울한 분위기 이기도 암울하다는 과장이고 숲 속에 곳인데 워낙에 햇빛이 강하고 날씨도 좋아서 그런대로 괜찮았다 경우와는 거주하고 등도 쓴다 깜짝 놀라는 사람도 있을텐데 이유가 좋아서인지 당황스러워서인지는 모르겠고'"
     },
     "metadata": {},
     "execution_count": 40
    }
   ],
   "source": [
    "\" \".join(zipped_bow_words_subtracted)"
   ]
  },
  {
   "cell_type": "code",
   "execution_count": 42,
   "metadata": {
    "tags": []
   },
   "outputs": [
    {
     "output_type": "stream",
     "name": "stdout",
     "text": "2503\n"
    }
   ],
   "source": [
    "print(len(zipped_bow_words_subtracted))"
   ]
  },
  {
   "cell_type": "code",
   "execution_count": null,
   "metadata": {},
   "outputs": [],
   "source": []
  },
  {
   "cell_type": "code",
   "execution_count": null,
   "metadata": {},
   "outputs": [],
   "source": []
  }
 ]
}