{
 "metadata": {
  "language_info": {
   "codemirror_mode": {
    "name": "ipython",
    "version": 3
   },
   "file_extension": ".py",
   "mimetype": "text/x-python",
   "name": "python",
   "nbconvert_exporter": "python",
   "pygments_lexer": "ipython3",
   "version": "3.8.3-final"
  },
  "orig_nbformat": 2,
  "kernelspec": {
   "name": "python38364bitnlpkorvenv03d7b81388604b8b8d7aed95a2d6b41b",
   "display_name": "Python 3.8.3 64-bit ('nlpkor': venv)"
  }
 },
 "nbformat": 4,
 "nbformat_minor": 2,
 "cells": [
  {
   "cell_type": "code",
   "execution_count": 2,
   "metadata": {},
   "outputs": [],
   "source": [
    "# 출력이 너무 길어지지 않게하기 위해 찍지 않도록 했으나 \n",
    "# 실제 학습 할 때는 아래 두 줄을 주석처리 하는 것을 권장한다.\n",
    "import warnings\n",
    "warnings.filterwarnings('ignore')"
   ]
  },
  {
   "cell_type": "code",
   "execution_count": 3,
   "metadata": {
    "tags": []
   },
   "outputs": [
    {
     "output_type": "stream",
     "name": "stdout",
     "text": "1.0.5\n1.18.5\n"
    }
   ],
   "source": [
    "import pandas as pd\n",
    "import numpy as np\n",
    "print(pd.__version__)\n",
    "print(np.__version__)"
   ]
  },
  {
   "cell_type": "code",
   "execution_count": 4,
   "metadata": {},
   "outputs": [],
   "source": [
    "# pandas 설정: 모든 row와 모든 column을 출력하게 하고, 각 column 별 출력되는 글자수는 50자 이내\n",
    "pd.set_option('display.max_rows', None, 'display.max_columns', None, 'display.max_colwidth', 50)"
   ]
  },
  {
   "cell_type": "code",
   "execution_count": 5,
   "metadata": {},
   "outputs": [
    {
     "output_type": "execute_result",
     "data": {
      "text/plain": "       대학코드                             대학명  \\\n0  AR000004        Universidad del Salvador   \n1  AU000019  Australian National University   \n2  AU000001                 Bond University   \n\n                                            gen_info  \\\n0  아르헨티나의 대다수 대학교는 한국처럼 캠퍼스가 있는 것이 아니라 도시 내에 몇개의 ...   \n1  ANU has a very big campus, but unlike Yonsei, ...   \n2  Bond대학교는 휴양지로 유명한 골드코스트에 위치해있습니다. 서퍼스 파라다이스, 브...   \n\n                                            env_info  \\\n0  대학교가 도시 여러곳에 분포하고 있으므로 각기 다르다. 하지만 남녀를 불문하고 부에...   \n1  The city center, called CIVIC, is 20min walk a...   \n2  학교 주변은 조용하고 깨끗한 평화로운 전원마을의 느낌입니다. 학교에서 5분정도 걸어...   \n\n                                           food_info  \\\n0  기숙사는 학교에서 제공하지 않고 두가지 옵션이 주어진다. 홈스테이 혹은 게스트 하우...   \n1  There are many housing options, but I chose to...   \n2  거주형태는 크게 On Campus와 Off Campus로 나뉩니다. 저는 기숙사에 ...   \n\n                                          study_info  \\\n0  아르헨티나에서의 대학 수업은 주로 오전 혹은 저녁에 있다. 대부분의 학생들이 일을하...   \n1  In my personal opinions, classes are generally...   \n2  수업은 보통 4개의 수업을 듣습니다. 저는 Chinese1, Australian p...   \n\n                                         office_info  \\\n0  EL SALVADOR대학교는 국제 교육부가 잘 되있는 학교이다. 아르헨티나 대학교들...   \n1  Overall, I did not have to ask for help much f...   \n2  교환생활 중 국제교육부와 연락할 일은 없었습니다. 교환학생을 가서 따로 국제교육부와...   \n\n                                          facil_info  \\\n0  부대시설로는 헬스장이 있다고 알고 있으나 시내와 먼 곳에 있었다. 동아리는 몇가지 ...   \n1  There were many clubs for you to join at ANU, ...   \n2  학기초에 동아리 박람회식으로 여러 동아리들의 부스가 세워집니다. 관심 있는 동아리에...   \n\n                                           mhct_info  \\\n0  딱히 컬쳐쇼크를 받을 만 한 요소는 없었던 것 같다. 하지만 처음에 언어적인 면에서...   \n1  I did have some culture shock during my first ...   \n2  특별히 culture shock이라기 보다는 정말 다양한 문화를 접하는 것 자체가 ...   \n\n                                           help_info  \\\n0  살바도르 대학교 국제처에서 비자문제나 숙소문제(홈스테이경우) 등은 해결해 주고, 특...   \n1  I was helped a lot, especially during the firs...   \n2  수업관련해서는 교수님께 질문을 해도 친절하게 알려주시고, 또 교내에 과제나 발표준비...   \n\n                                            etc_info  \n0                                                NaN  \n1  Overall, my stay in Australia has been nothing...  \n2  Bond와 그 동네를 생각하면 여유롭고 평화로웠던 분위기가 아직도 생생해요. 여기서...  ",
      "text/html": "<div>\n<style scoped>\n    .dataframe tbody tr th:only-of-type {\n        vertical-align: middle;\n    }\n\n    .dataframe tbody tr th {\n        vertical-align: top;\n    }\n\n    .dataframe thead th {\n        text-align: right;\n    }\n</style>\n<table border=\"1\" class=\"dataframe\">\n  <thead>\n    <tr style=\"text-align: right;\">\n      <th></th>\n      <th>대학코드</th>\n      <th>대학명</th>\n      <th>gen_info</th>\n      <th>env_info</th>\n      <th>food_info</th>\n      <th>study_info</th>\n      <th>office_info</th>\n      <th>facil_info</th>\n      <th>mhct_info</th>\n      <th>help_info</th>\n      <th>etc_info</th>\n    </tr>\n  </thead>\n  <tbody>\n    <tr>\n      <th>0</th>\n      <td>AR000004</td>\n      <td>Universidad del Salvador</td>\n      <td>아르헨티나의 대다수 대학교는 한국처럼 캠퍼스가 있는 것이 아니라 도시 내에 몇개의 ...</td>\n      <td>대학교가 도시 여러곳에 분포하고 있으므로 각기 다르다. 하지만 남녀를 불문하고 부에...</td>\n      <td>기숙사는 학교에서 제공하지 않고 두가지 옵션이 주어진다. 홈스테이 혹은 게스트 하우...</td>\n      <td>아르헨티나에서의 대학 수업은 주로 오전 혹은 저녁에 있다. 대부분의 학생들이 일을하...</td>\n      <td>EL SALVADOR대학교는 국제 교육부가 잘 되있는 학교이다. 아르헨티나 대학교들...</td>\n      <td>부대시설로는 헬스장이 있다고 알고 있으나 시내와 먼 곳에 있었다. 동아리는 몇가지 ...</td>\n      <td>딱히 컬쳐쇼크를 받을 만 한 요소는 없었던 것 같다. 하지만 처음에 언어적인 면에서...</td>\n      <td>살바도르 대학교 국제처에서 비자문제나 숙소문제(홈스테이경우) 등은 해결해 주고, 특...</td>\n      <td>NaN</td>\n    </tr>\n    <tr>\n      <th>1</th>\n      <td>AU000019</td>\n      <td>Australian National University</td>\n      <td>ANU has a very big campus, but unlike Yonsei, ...</td>\n      <td>The city center, called CIVIC, is 20min walk a...</td>\n      <td>There are many housing options, but I chose to...</td>\n      <td>In my personal opinions, classes are generally...</td>\n      <td>Overall, I did not have to ask for help much f...</td>\n      <td>There were many clubs for you to join at ANU, ...</td>\n      <td>I did have some culture shock during my first ...</td>\n      <td>I was helped a lot, especially during the firs...</td>\n      <td>Overall, my stay in Australia has been nothing...</td>\n    </tr>\n    <tr>\n      <th>2</th>\n      <td>AU000001</td>\n      <td>Bond University</td>\n      <td>Bond대학교는 휴양지로 유명한 골드코스트에 위치해있습니다. 서퍼스 파라다이스, 브...</td>\n      <td>학교 주변은 조용하고 깨끗한 평화로운 전원마을의 느낌입니다. 학교에서 5분정도 걸어...</td>\n      <td>거주형태는 크게 On Campus와 Off Campus로 나뉩니다. 저는 기숙사에 ...</td>\n      <td>수업은 보통 4개의 수업을 듣습니다. 저는 Chinese1, Australian p...</td>\n      <td>교환생활 중 국제교육부와 연락할 일은 없었습니다. 교환학생을 가서 따로 국제교육부와...</td>\n      <td>학기초에 동아리 박람회식으로 여러 동아리들의 부스가 세워집니다. 관심 있는 동아리에...</td>\n      <td>특별히 culture shock이라기 보다는 정말 다양한 문화를 접하는 것 자체가 ...</td>\n      <td>수업관련해서는 교수님께 질문을 해도 친절하게 알려주시고, 또 교내에 과제나 발표준비...</td>\n      <td>Bond와 그 동네를 생각하면 여유롭고 평화로웠던 분위기가 아직도 생생해요. 여기서...</td>\n    </tr>\n  </tbody>\n</table>\n</div>"
     },
     "metadata": {},
     "execution_count": 5
    }
   ],
   "source": [
    "# 위의 설정으로 간단하게 보는 df_specific\n",
    "df_specific = pd.read_csv(\"./data_wrangled/df_specific_wrangle.csv\", encoding=\"utf-8\")\n",
    "df_specific.head(3)"
   ]
  },
  {
   "cell_type": "code",
   "execution_count": 6,
   "metadata": {},
   "outputs": [
    {
     "output_type": "execute_result",
     "data": {
      "text/plain": "         대학코드                    대학명  \\\n467  US000273    Westminster College   \n468  US000274      Whitworth College   \n469  US000278  Wittenberg University   \n\n                                              gen_info  \\\n467  Westminster College는 미국 펜실베니아 주 북부에 있는 작은 마을, ...   \n468  내가 다녀온 교환대학은 Washington State 에 위치한 Whitworth ...   \n469  Wittenberg는 Ohio주의 작은 도시 Springfield에 위치해 있다. ...   \n\n                                              env_info  \\\n467  웨스트민스터가 위치한 뉴윌밍턴은 매우 작은 마을입니다. 마음만 먹으면 주말에 산책을...   \n468  Whitworth College는 Seattle에서 비행기로 40분 정도 떨어져 있...   \n469  Springfield의 downtown에는 우체국, 은행(huntington) 정도...   \n\n                                             food_info  \\\n467  제가 있던 학기에는 연세대학교에서 온 학생이 총 여학생 3명이어서 모두 같은 기숙사...   \n468  나는 Whitworth College에서 기숙사에 살았다. ISEP으로 가게 되면 ...   \n469  1,2학년과 국제학생들 (1년 이하로 있는 학생들)은 모두 기숙사에서 생활하게 된다...   \n\n                                            study_info  \\\n467  저는 한 학기 동안 5과목, 총 15학점을 들었습니다. 정치학 전공 Internat...   \n468  내가 미국에 가기 전에 가장 두려워했던 것은 바로 수업이었다. 어학연수와는 달리 교...   \n469  도서관은 Thomas library가 main이고 다른 단과대학 건물에 독서실이 있...   \n\n                                           office_info  \\\n467  웨스트민스터는 국제 학생의 수가 매우 적어서 국제교육부가 따로 있지는 않았습니다. ...   \n468  이 학교에서 내가 마음 편하게 지낼 수 있었던 것은 국제교육부 스텝들이 너무 따뜻하...   \n469  국제교류부는 Hollenbeck 건물 1층에 있는데, Joann 과 Betsy 두 ...   \n\n                                            facil_info  \\\n467  제가 가장 자주 이용했던 곳은 클럽룸입니다. 이곳은 맥켈비 센터 2층 구석에 있는 ...   \n468  기타 학교의 부대 시설로는 fitness center, music hall, soc...   \n469  Wittenberg의 가장 큰 장점. nWittenberg는 학비가 무척 비싼 학교...   \n\n                                             mhct_info  \\\n467  학교가 위치한 동네에서는 학교 학생들을 제외하면 거의 모든 주민이 백인이었습니다. ...   \n468                                                NaN   \n469  한국에서는 흔치 않은 gay, lesbian, transgender 등을 만날 수 ...   \n\n                                             help_info  \\\n467  학교 생활 중 가장 도움을 많이 받을 수 있었던 곳은 교목실의 Internation...   \n468                                                NaN   \n469  Wittenberg는 국제학생들에게 host family를 붙여준다. 비록 같이 살...   \n\n                                              etc_info  \n467  그림 같은 호수, 끝없이 넓은 하늘과 함께 따뜻한 단풍색으로 물든 웨스트민스터에서 ...  \n468  처음에 Whitworth College를 ISEP으로부터 배정 받았을 때 현실적으로...  \n469  이처럼 wittenberg는 시골에 있는 작은 학교지만 지리적인 위치로 인한 단점보...  ",
      "text/html": "<div>\n<style scoped>\n    .dataframe tbody tr th:only-of-type {\n        vertical-align: middle;\n    }\n\n    .dataframe tbody tr th {\n        vertical-align: top;\n    }\n\n    .dataframe thead th {\n        text-align: right;\n    }\n</style>\n<table border=\"1\" class=\"dataframe\">\n  <thead>\n    <tr style=\"text-align: right;\">\n      <th></th>\n      <th>대학코드</th>\n      <th>대학명</th>\n      <th>gen_info</th>\n      <th>env_info</th>\n      <th>food_info</th>\n      <th>study_info</th>\n      <th>office_info</th>\n      <th>facil_info</th>\n      <th>mhct_info</th>\n      <th>help_info</th>\n      <th>etc_info</th>\n    </tr>\n  </thead>\n  <tbody>\n    <tr>\n      <th>467</th>\n      <td>US000273</td>\n      <td>Westminster College</td>\n      <td>Westminster College는 미국 펜실베니아 주 북부에 있는 작은 마을, ...</td>\n      <td>웨스트민스터가 위치한 뉴윌밍턴은 매우 작은 마을입니다. 마음만 먹으면 주말에 산책을...</td>\n      <td>제가 있던 학기에는 연세대학교에서 온 학생이 총 여학생 3명이어서 모두 같은 기숙사...</td>\n      <td>저는 한 학기 동안 5과목, 총 15학점을 들었습니다. 정치학 전공 Internat...</td>\n      <td>웨스트민스터는 국제 학생의 수가 매우 적어서 국제교육부가 따로 있지는 않았습니다. ...</td>\n      <td>제가 가장 자주 이용했던 곳은 클럽룸입니다. 이곳은 맥켈비 센터 2층 구석에 있는 ...</td>\n      <td>학교가 위치한 동네에서는 학교 학생들을 제외하면 거의 모든 주민이 백인이었습니다. ...</td>\n      <td>학교 생활 중 가장 도움을 많이 받을 수 있었던 곳은 교목실의 Internation...</td>\n      <td>그림 같은 호수, 끝없이 넓은 하늘과 함께 따뜻한 단풍색으로 물든 웨스트민스터에서 ...</td>\n    </tr>\n    <tr>\n      <th>468</th>\n      <td>US000274</td>\n      <td>Whitworth College</td>\n      <td>내가 다녀온 교환대학은 Washington State 에 위치한 Whitworth ...</td>\n      <td>Whitworth College는 Seattle에서 비행기로 40분 정도 떨어져 있...</td>\n      <td>나는 Whitworth College에서 기숙사에 살았다. ISEP으로 가게 되면 ...</td>\n      <td>내가 미국에 가기 전에 가장 두려워했던 것은 바로 수업이었다. 어학연수와는 달리 교...</td>\n      <td>이 학교에서 내가 마음 편하게 지낼 수 있었던 것은 국제교육부 스텝들이 너무 따뜻하...</td>\n      <td>기타 학교의 부대 시설로는 fitness center, music hall, soc...</td>\n      <td>NaN</td>\n      <td>NaN</td>\n      <td>처음에 Whitworth College를 ISEP으로부터 배정 받았을 때 현실적으로...</td>\n    </tr>\n    <tr>\n      <th>469</th>\n      <td>US000278</td>\n      <td>Wittenberg University</td>\n      <td>Wittenberg는 Ohio주의 작은 도시 Springfield에 위치해 있다. ...</td>\n      <td>Springfield의 downtown에는 우체국, 은행(huntington) 정도...</td>\n      <td>1,2학년과 국제학생들 (1년 이하로 있는 학생들)은 모두 기숙사에서 생활하게 된다...</td>\n      <td>도서관은 Thomas library가 main이고 다른 단과대학 건물에 독서실이 있...</td>\n      <td>국제교류부는 Hollenbeck 건물 1층에 있는데, Joann 과 Betsy 두 ...</td>\n      <td>Wittenberg의 가장 큰 장점. nWittenberg는 학비가 무척 비싼 학교...</td>\n      <td>한국에서는 흔치 않은 gay, lesbian, transgender 등을 만날 수 ...</td>\n      <td>Wittenberg는 국제학생들에게 host family를 붙여준다. 비록 같이 살...</td>\n      <td>이처럼 wittenberg는 시골에 있는 작은 학교지만 지리적인 위치로 인한 단점보...</td>\n    </tr>\n  </tbody>\n</table>\n</div>"
     },
     "metadata": {},
     "execution_count": 6
    }
   ],
   "source": [
    "# 위의 설정으로 간단하게 보는 df_specific\n",
    "df_specific.tail(3)"
   ]
  },
  {
   "cell_type": "code",
   "execution_count": 7,
   "metadata": {},
   "outputs": [
    {
     "output_type": "execute_result",
     "data": {
      "text/plain": "(470, 11)"
     },
     "metadata": {},
     "execution_count": 7
    }
   ],
   "source": [
    "df_specific.shape"
   ]
  },
  {
   "cell_type": "code",
   "execution_count": 8,
   "metadata": {},
   "outputs": [],
   "source": [
    "# pandas 설정: 각 column 별 (혹은 한 cell에서) 출력되는 글자수 제한을 없애기\n",
    "pd.set_option('display.max_colwidth', None)"
   ]
  },
  {
   "cell_type": "code",
   "execution_count": 9,
   "metadata": {},
   "outputs": [],
   "source": [
    "column_data = \"gen_info\"\n",
    "univ_code = \"DK000003\""
   ]
  },
  {
   "cell_type": "code",
   "execution_count": 10,
   "metadata": {},
   "outputs": [],
   "source": [
    "import re\n",
    "# removing junks from the string data\n",
    "def remove_junk(str_data):\n",
    "    str_data = str_data.replace(\"\\\\\\\\n\", \"\")\n",
    "    str_data = str_data.replace(\"\\\\n\", \"\")\n",
    "    str_data = str_data.replace(\"\\n\", \"\")\n",
    "    str_data = str_data.replace(\"\\\\\", \"\")\n",
    "    str_data = str_data.replace(\"\\\\t\", \"\")\n",
    "    str_data = str_data.replace(\"NaN\", \"\")\n",
    "\n",
    "    # 한글, english 빼고 전부 날리기\n",
    "    # str_data = re.sub('[^가-힣ㄱ-ㅎㅏ-ㅣa-zA-Z|0-9|.,]', ' ', str_data)\n",
    "    str_data = re.sub('[^가-힣ㄱ-ㅎㅏ]', ' ', str_data)\n",
    "\n",
    "    # replace multiple spaces into single space\n",
    "    str_data = ' '.join(str_data.split())\n",
    "    return str_data"
   ]
  },
  {
   "cell_type": "code",
   "execution_count": 11,
   "metadata": {},
   "outputs": [],
   "source": [
    "def access_univ_info(dataframe, column, univ_code):\n",
    "    df_row = dataframe.loc[dataframe[\"대학코드\"] == univ_code]\n",
    "    str_univ_info = df_row[column].to_string(index=False).lstrip()\n",
    "    str_univ_info = remove_junk(str_univ_info)\n",
    "    return str_univ_info"
   ]
  },
  {
   "cell_type": "code",
   "execution_count": 12,
   "metadata": {},
   "outputs": [],
   "source": [
    "str_example = access_univ_info(df_specific, column_data, univ_code)"
   ]
  },
  {
   "cell_type": "code",
   "execution_count": 13,
   "metadata": {},
   "outputs": [],
   "source": [
    "# collecting all column values into one string\n",
    "def column_to_string(dataframe, column_name: str):\n",
    "    str_corpus = dataframe[column_name].to_string(index=False).lstrip()\n",
    "    str_corpus = remove_junk(str_corpus)\n",
    "    return str_corpus"
   ]
  },
  {
   "cell_type": "code",
   "execution_count": 14,
   "metadata": {
    "tags": []
   },
   "outputs": [
    {
     "output_type": "stream",
     "name": "stdout",
     "text": "글자수: 3985044\n"
    },
    {
     "output_type": "execute_result",
     "data": {
      "text/plain": "'아르헨티나의 대다수 대학교는 한국처럼 캠퍼스가 있는 것이 아니라 도시 내에 몇개의 건물이 대학교 건물이라서 수업에 맞는 건물로 수업을 들으러 가면 된다 도시의 대중교통이 꽤 잘 되어있기 때문에 출퇴근시간만 피한다면 편하게 다닐 수 있다 부에노스 아이레스는 여름에 도까지 올라가지만 건조한 편이어서 그늘아래 있거나 건물 안에 있으면 괜찮은 편이다 그래도 햇볓이 우리나라보다 강하므로 썬크림을 챙겨가는 것이 좋다 겨울에는 도 이하로 내려가는 날이 거의 없으나 바람이 불고 비 우박이 내릴 수 있으니 따뜻한 옷 몇 벌은 챙겨가는 것이 좋다 그리고 남반구에 있어 우리나라와 계절이 반대이다 는 이라는 캔버라에서 가장 중심이 되는 도심 부근에 위치하여 접근성이 좋습니다 캔버라가 시드니 멜버른에 비해 소도시라는 느낌이 강해 선호도가 낮은 듯 한데요 저 또한 퀸즐랜드가 지망이었습니다 학기를 지내며 아주 안전하고 깨끗하며 잘 만들어진 도시라는 인상을 받았습니다 행정수도라 거주하는 사람 중에 공무원이나 학교 관계자 비율이 높은 듯 하구요 따라서 생활수준이 높아 저 포함 친구들 또한 캔버라에서는 차별을 경험해본 적이 없습니다 굳이 비교하자면 송도와 흡사한 느낌이지요 다만 바다가 없기 때문에 기후는 타 도시에 비해서 건조한 편입니다 날씨는 한국에 비해 연교차가 적다는 느낌을 받았구요 호주 어디를 가든 날씨는 만족하실 거에요 연중 대부분이 야외활동 하기 좋은 날씨입니다 대학교는 상당히 넓은 편입니다 전공 수업을 듣다가 다른 단과대 건물로 이동하는게 쉽지는 않았습니다 시간표 짤 때 주의하시면 좋겠습니다 학교에서 센터까지는 그리 멀지 않습니다 걸어다니기 충분한 거리이고 밤에는 기숙사를 돌아주는 셔틀버스가 있는데 쪽에서 내리시면 쉽게 갈 수 있습니다 캔버라는 시드니와 멜버른 그 사이쯤에 있는데 시드니에서 조금 더 가깝습니다 시드니에서 시간 반 정도 버스를 타고 가야 합니다 다른 먼 지역 혹은 다른 나라로의 여행을 생각 중이시라면 시드니 쪽 대학을 추천드립니다 캔버라에도 공항이 있기는 하지만 비'"
     },
     "metadata": {},
     "execution_count": 14
    }
   ],
   "source": [
    "# collecting all column values into one string\n",
    "corpus = column_to_string(df_specific, column_data)\n",
    "print(\"글자수:\", len(corpus))\n",
    "corpus[:1000]"
   ]
  },
  {
   "cell_type": "markdown",
   "metadata": {},
   "source": [
    "## Tokenizing Sample Corpus"
   ]
  },
  {
   "cell_type": "code",
   "execution_count": 15,
   "metadata": {},
   "outputs": [],
   "source": [
    "stopwords = []"
   ]
  },
  {
   "cell_type": "code",
   "execution_count": 16,
   "metadata": {},
   "outputs": [
    {
     "output_type": "execute_result",
     "data": {
      "text/plain": "<soynlp.tokenizer._tokenizer.LTokenizer at 0x123bccee0>"
     },
     "metadata": {},
     "execution_count": 16
    }
   ],
   "source": [
    "# https://github.com/lovit/soynlp\n",
    "from soynlp.tokenizer import RegexTokenizer, LTokenizer\n",
    "\n",
    "tokenizer = LTokenizer()\n",
    "tokenizer"
   ]
  },
  {
   "cell_type": "code",
   "execution_count": 17,
   "metadata": {},
   "outputs": [
    {
     "output_type": "execute_result",
     "data": {
      "text/plain": "['아르헨티나의', '대다수', '대학교는', '한국처럼', '캠퍼스가', '있는', '것이', '아니라', '도시', '내에']"
     },
     "metadata": {},
     "execution_count": 17
    }
   ],
   "source": [
    "tokenized_corpus = tokenizer.tokenize(corpus)\n",
    "tokenized_corpus[:10]"
   ]
  },
  {
   "cell_type": "code",
   "execution_count": 18,
   "metadata": {
    "tags": []
   },
   "outputs": [
    {
     "output_type": "stream",
     "name": "stdout",
     "text": "1002499\n"
    }
   ],
   "source": [
    "print(len(tokenized_corpus))"
   ]
  },
  {
   "cell_type": "code",
   "execution_count": 19,
   "metadata": {},
   "outputs": [],
   "source": [
    "from collections import Counter"
   ]
  },
  {
   "cell_type": "code",
   "execution_count": 20,
   "metadata": {
    "tags": []
   },
   "outputs": [
    {
     "output_type": "stream",
     "name": "stdout",
     "text": "number of counted nouns: 100474\n"
    },
    {
     "output_type": "execute_result",
     "data": {
      "text/plain": "[('있습니다', 9640),\n ('수', 9293),\n ('있는', 7638),\n ('때문에', 6284),\n ('는', 6068),\n ('많이', 5807),\n ('매우', 4400),\n ('학교', 4182),\n ('큰', 4145),\n ('분', 4012),\n ('정도', 3883),\n ('것', 3829),\n ('월', 3700),\n ('있다', 3680),\n ('시간', 3639),\n ('하지만', 3495),\n ('캠퍼스', 3344),\n ('비가', 3087),\n ('날씨가', 3008),\n ('위치하고', 2981),\n ('위치한', 2868),\n ('에', 2837),\n ('정말', 2815),\n ('그', 2780),\n ('있고', 2742),\n ('이', 2742),\n ('위치해', 2729),\n ('제가', 2716),\n ('작은', 2709),\n ('저는', 2618),\n ('한', 2604),\n ('가장', 2509),\n ('크기는', 2506),\n ('의', 2499),\n ('잘', 2457),\n ('더', 2439),\n ('거의', 2379),\n ('다른', 2299),\n ('기후는', 2293),\n ('정도로', 2273),\n ('같습니다', 2258),\n ('날씨는', 2125),\n ('있어서', 2108),\n ('미국', 2106),\n ('캠퍼스는', 2101),\n ('할', 2046),\n ('약', 2004),\n ('합니다', 1975),\n ('좋은', 1857),\n ('그리고', 1856),\n ('타고', 1840),\n ('조금', 1794),\n ('굉장히', 1794),\n ('있으며', 1784),\n ('에서', 1775),\n ('캠퍼스가', 1769),\n ('있어', 1732),\n ('때', 1720),\n ('눈이', 1658),\n ('것이', 1642),\n ('많은', 1640),\n ('갈', 1606),\n ('도시', 1593),\n ('가', 1577),\n ('자주', 1553),\n ('거리에', 1531),\n ('수업을', 1512),\n ('않습니다', 1500),\n ('라는', 1492),\n ('겨울에는', 1473),\n ('은', 1423),\n ('같은', 1391),\n ('주로', 1383),\n ('년', 1367),\n ('있는데', 1361),\n ('꽤', 1357),\n ('특히', 1326),\n ('됩니다', 1321),\n ('건물', 1311),\n ('편입니다', 1304),\n ('곳에', 1301),\n ('아주', 1293),\n ('와', 1293),\n ('건물들이', 1275),\n ('중', 1269),\n ('차로', 1259),\n ('또한', 1251),\n ('있기', 1243),\n ('있을', 1220),\n ('좋습니다', 1217),\n ('등', 1212),\n ('바로', 1181),\n ('를', 1180),\n ('볼', 1154),\n ('도', 1146),\n ('경우', 1136),\n ('다', 1132),\n ('상당히', 1128),\n ('않고', 1120),\n ('학교는', 1115),\n ('좀', 1107),\n ('두', 1105),\n ('학교의', 1103),\n ('크게', 1098),\n ('여름에는', 1070),\n ('개의', 1070),\n ('건물이', 1066),\n ('지리적', 1052),\n ('대학', 1046),\n ('해가', 1041),\n ('수도', 1039),\n ('정도의', 1037),\n ('캠퍼스의', 1032),\n ('가지고', 1016),\n ('학생들이', 999),\n ('여러', 986),\n ('너무', 977),\n ('될', 965),\n ('모두', 962),\n ('캠퍼스를', 960),\n ('학교가', 957),\n ('월부터', 948),\n ('걸어서', 937),\n ('겨울은', 937),\n ('도시에', 935),\n ('추운', 935),\n ('한국의', 928),\n ('있지만', 911),\n ('떨어진', 907),\n ('그리', 906),\n ('가까운', 903),\n ('바람이', 901),\n ('로', 901),\n ('처음', 898),\n ('모든', 897),\n ('주의', 897),\n ('비해', 891),\n ('오는', 891),\n ('대학은', 887),\n ('없습니다', 884),\n ('때는', 883),\n ('떨어져', 881),\n ('따뜻한', 880),\n ('않은', 877),\n ('훨씬', 875),\n ('것을', 872),\n ('위치는', 869),\n ('가는', 869),\n ('겨울', 866),\n ('버스를', 860),\n ('또', 852),\n ('그래서', 852),\n ('하는', 851),\n ('만큼', 850),\n ('대부분의', 850),\n ('날이', 833),\n ('항상', 830),\n ('겨울이', 829),\n ('그러나', 828),\n ('가을', 822),\n ('내내', 810),\n ('그렇게', 798),\n ('아니라', 790),\n ('버스로', 786),\n ('그래도', 780),\n ('주', 764),\n ('다만', 763),\n ('있었습니다', 761),\n ('꼭', 750),\n ('보통', 742),\n ('크지', 737),\n ('되는', 728),\n ('이라는', 723),\n ('겨울에', 716),\n ('대부분', 715),\n ('유명한', 713),\n ('보면', 712),\n ('비교적', 710),\n ('안에', 709),\n ('것은', 709)]"
     },
     "metadata": {},
     "execution_count": 20
    }
   ],
   "source": [
    "# Mecab divided nouns list term frequency\n",
    "tokenized_corpus_counted = Counter(tokenized_corpus)\n",
    "print(\"number of counted nouns:\", len(tokenized_corpus_counted))\n",
    "common_words = tokenized_corpus_counted.most_common(180)\n",
    "common_words"
   ]
  },
  {
   "cell_type": "code",
   "execution_count": 21,
   "metadata": {},
   "outputs": [
    {
     "output_type": "execute_result",
     "data": {
      "text/plain": "['있습니다', '수', '있는', '때문에', '는', '많이', '매우', '학교', '큰', '분']"
     },
     "metadata": {},
     "execution_count": 21
    }
   ],
   "source": [
    "word_list, frequency_list = map(list, zip(*common_words))\n",
    "word_list[:10]"
   ]
  },
  {
   "cell_type": "code",
   "execution_count": 22,
   "metadata": {},
   "outputs": [],
   "source": [
    "stopwords = word_list"
   ]
  },
  {
   "cell_type": "markdown",
   "metadata": {},
   "source": [
    "## Tokenizing university dataframe with soynlp"
   ]
  },
  {
   "cell_type": "code",
   "execution_count": 23,
   "metadata": {},
   "outputs": [],
   "source": [
    "# df_column = df_specific[df_specific[column_data].notnull()]\n",
    "df_column = df_specific[column_data].fillna(\"\")"
   ]
  },
  {
   "cell_type": "code",
   "execution_count": 24,
   "metadata": {},
   "outputs": [
    {
     "output_type": "execute_result",
     "data": {
      "text/plain": "0    아르헨티나의 대다수 대학교는 한국처럼 캠퍼스가 있는 것이 아니라 도시 내에 몇개의 건물이 대학교 건물이라서 수업에 맞는 건물로 수업을 들으러 가면 된다. 도시의 대중교통이 꽤 잘 되어있기 때문에 출퇴근시간만 피한다면 편하게 다닐 수 있다. 부에노스 아이레스는 여름에 40도까지 올라가지만 건조한 편이어서 그늘아래 있거나 건물 안에 있으면 괜찮은 편이다. 그래도 햇볓이 우리나라보다 강하므로 썬크림을 챙겨가는 것이 좋다. 겨울에는 0도 이하로 내려가는 날이 거의 없으나 바람이 불고 비, 우박이 내릴 수 있으니 따뜻한 옷 몇 벌은 챙겨가는 것이 좋다. 그리고 남반구에 있어 우리나라와 계절이 반대이다.\nName: gen_info, dtype: object"
     },
     "metadata": {},
     "execution_count": 24
    }
   ],
   "source": [
    "df_column.head(1)"
   ]
  },
  {
   "cell_type": "code",
   "execution_count": 25,
   "metadata": {},
   "outputs": [
    {
     "output_type": "execute_result",
     "data": {
      "text/plain": "469    Wittenberg는 Ohio주의 작은 도시 Springfield에 위치해 있다. (다른 주에도 springfield가 많기 때문에 자칫 springfield로만 검색하면 엉뚱한 결과를 얻을 수도 있다.) Springfield는 오하이오의 주도 columbus에서 차로 약 45분 떨어져 있고, 오하이오의 또다른 큰 도시인 Dayton에서는 약 30-40분 가량 떨어져 있는 곳이다. 따라서 Columbus공항이나 Dayton 공항을 이용하는 것이 좋다. NewYork까지는 비행기로 1시간가량 걸리고 같은 시간대에 있어서 시차가 없다. n공항에서부터 캠퍼스까지는 택시를 타면 100불 이상 지불해야 한다고 들었다. 그러나 international 학생들이 처음 캠퍼스에 올 때는 학교에서 학생의 비행 스케줄에 맞춰 pick up을 해주기 때문에 걱정하지 않아도 된다. 또 thanksgiving 이나 가을 방학, 겨울 방학 등에는 학교에서 운행하는 무료 shuttle을 타고 공항에 ... 내가 파견된 교환학교 Wittenberg University는 미국의 동부에서도 중부와 더욱 가까운 Ohio 주의 남단에 있는 Springfield 라는 작은 도시에 있다. 주위에는 차로 한시간 반 가량 떨어진 곳에 Ohio State University 가 있는 Columbus( Ohio 의 State Capital) , 국제 공항이 있는 Dayton, Cincinati 등의 큰 도시가 있고, 그 사이로는 옥수수밭과 논이 펼쳐져 있는 곳이다. Springfield 시내로는 학교에서 걸어서 왔다갔다 할 수는 있지만, 학교에서 시내에 있는 우체국까지 왔다갔다 하는데 걸어서 최소 30분은 잡아야 할 정도이고, 아무리 작은 도시라 해도 Springfield 를 걸어 돌아다니며 일을 보는 것은 거의 불가능하기 때문에 하루에 몇 대씩 있는 버스를 이용하거나 꽤 비싼 택시 이외에는 다들 자가용을 이용한다. Springfield 는 초기 식민지 시대 이후로 독일에서 이주해 온 사람들이... Ohio는 미국 동부에 위치한 주로 구체적으로 말하면 중부와의 서쪽 경계에 있다. 서쪽으로는 Illinois, 동쪽으로는 Pennsylvania, 남서쪽으로 Kentucky, 남동쪽으로 West Virginia, 그리고 북쪽으로는 Michigan과 5대호 중의 하나인 Erie호와 접해있다. Wittenberg는 Springfield라는 작은 도시에 있는데 주변의 큰 도시로는 Columbus와 Dayton이 있으며 비행기를 이용할 때는 Dayton International Airport가 가장 가깝다. 약 20분 정도.. 인구는 metropolitan area가 150,000명(서울 373,234명)정도이다.기후는 거의 우리 나라와 비슷하다. 가장 추운 달인 1월의 평균 최고 기온은 영상1.2°(서울 영상1°),최저 기온은 영하7.8°(서울 영하7°)이며 가장 더운 달인 7월의 최고 기온은 29.4°(8월 서울 31°),최저 기온은 17.4°(8월 서울 23°)정도이다. 한국...\nName: gen_info, dtype: object"
     },
     "metadata": {},
     "execution_count": 25
    }
   ],
   "source": [
    "df_column.tail(1)"
   ]
  },
  {
   "cell_type": "code",
   "execution_count": 26,
   "metadata": {},
   "outputs": [],
   "source": [
    "df_process = df_column.apply(remove_junk)"
   ]
  },
  {
   "cell_type": "code",
   "execution_count": 27,
   "metadata": {
    "tags": []
   },
   "outputs": [
    {
     "output_type": "stream",
     "name": "stdout",
     "text": "CPU times: user 2.09 s, sys: 30.1 ms, total: 2.12 s\nWall time: 2.13 s\n"
    }
   ],
   "source": [
    "%time df_tokens = df_process.apply(tokenizer.tokenize)"
   ]
  },
  {
   "cell_type": "code",
   "execution_count": 28,
   "metadata": {},
   "outputs": [
    {
     "output_type": "execute_result",
     "data": {
      "text/plain": "(470,)"
     },
     "metadata": {},
     "execution_count": 28
    }
   ],
   "source": [
    "df_tokens.shape"
   ]
  },
  {
   "cell_type": "code",
   "execution_count": 29,
   "metadata": {},
   "outputs": [
    {
     "output_type": "execute_result",
     "data": {
      "text/plain": "0                                                                                                            [아르헨티나의, 대다수, 대학교는, 한국처럼, 캠퍼스가, 있는, 것이, 아니라, 도시, 내에, 몇개의, 건물이, 대학교, 건물이라서, 수업에, 맞는, 건물로, 수업을, 들으러, 가면, 된다, 도시의, 대중교통이, 꽤, 잘, 되어있기, 때문에, 출퇴근시간만, 피한다면, 편하게, 다닐, 수, 있다, 부에노스, 아이레스는, 여름에, 도까지, 올라가지만, 건조한, 편이어서, 그늘아래, 있거나, 건물, 안에, 있으면, 괜찮은, 편이다, 그래도, 햇볓이, 우리나라보다, 강하므로, 썬크림을, 챙겨가는, 것이, 좋다, 겨울에는, 도, 이하로, 내려가는, 날이, 거의, 없으나, 바람이, 불고, 비, 우박이, 내릴, 수, 있으니, 따뜻한, 옷, 몇, 벌은, 챙겨가는, 것이, 좋다, 그리고, 남반구에, 있어, 우리나라와, 계절이, 반대이다]\n1    [는, 이라는, 캔버라에서, 가장, 중심이, 되는, 도심, 부근에, 위치하여, 접근성이, 좋습니다, 캔버라가, 시드니, 멜버른에, 비해, 소도시라는, 느낌이, 강해, 선호도가, 낮은, 듯, 한데요, 저, 또한, 퀸즐랜드가, 지망이었습니다, 학기를, 지내며, 아주, 안전하고, 깨끗하며, 잘, 만들어진, 도시라는, 인상을, 받았습니다, 행정수도라, 거주하는, 사람, 중에, 공무원이나, 학교, 관계자, 비율이, 높은, 듯, 하구요, 따라서, 생활수준이, 높아, 저, 포함, 친구들, 또한, 캔버라에서는, 차별을, 경험해본, 적이, 없습니다, 굳이, 비교하자면, 송도와, 흡사한, 느낌이지요, 다만, 바다가, 없기, 때문에, 기후는, 타, 도시에, 비해서, 건조한, 편입니다, 날씨는, 한국에, 비해, 연교차가, 적다는, 느낌을, 받았구요, 호주, 어디를, 가든, 날씨는, 만족하실, 거에요, 연중, 대부분이, 야외활동, 하기, 좋은, 날씨입니다, 대학교는, 상당히, 넓은, 편입니다, 전공, 수업을, 듣다가, ...]\nName: gen_info, dtype: object"
     },
     "metadata": {},
     "execution_count": 29
    }
   ],
   "source": [
    "df_tokens[0:2]"
   ]
  },
  {
   "cell_type": "code",
   "execution_count": 30,
   "metadata": {},
   "outputs": [
    {
     "output_type": "execute_result",
     "data": {
      "text/plain": "468    [내가, 다녀온, 교환대학은, 에, 위치한, 라는, 곳이었다, 이, 대학이, 위치한, 도시는, 이라는, 도시인데, 에서, 비행기로, 약, 분이, 소요되는, 곳이다, 은, 에서, 번째로, 큰, 도시이다, 나는, 연세대학교에서, 교환학생을, 지원하는, 여타, 대부분의, 학생과는, 달리, 국제적인, 교환학생, 기구인, 을, 통해서, 교환을, 다녀왔다, 대부분의, 학생들은, 우리, 학교와, 직접적인, 자매결연을, 맺은, 학교로, 교환학생을, 간다, 하지만, 으로, 신청을, 하여, 가게, 되면, 선택된, 학교는, 우리학교와, 직접적인, 자매결연이, 없다, 단지, 기구와, 연결이, 되어, 있는, 학교로, 교환학생을, 가게, 된다, 으로, 교환학생을, 가면, 준비, 과정이, 더디다는, 단점이, 있지만, 학교, 선택이, 더, 다양하고, 기숙사와, 식사비용을, 미리, 다, 내고, 가기, 때문에, 자신이, 외국에서, 과소비를, 하지, 않는다면, 비용이, 절감되는, 이점도, 있다, 그리고, 나처럼]\n469                                    [는, 주의, 작은, 도시, 에, 위치해, 있다, 다른, 주에도, 가, 많기, 때문에, 자칫, 로만, 검색하면, 엉뚱한, 결과를, 얻을, 수도, 있다, 는, 오하이오의, 주도, 에서, 차로, 약, 분, 떨어져, 있고, 오하이오의, 또다른, 큰, 도시인, 에서는, 약, 분, 가량, 떨어져, 있는, 곳이다, 따라서, 공항이나, 공항을, 이용하는, 것이, 좋다, 까지는, 비행기로, 시간가량, 걸리고, 같은, 시간대에, 있어서, 시차가, 없다, 공항에서부터, 캠퍼스까지는, 택시를, 타면, 불, 이상, 지불해야, 한다고, 들었다, 그러나, 학생들이, 처음, 캠퍼스에, 올, 때는, 학교에서, 학생의, 비행, 스케줄에, 맞춰, 을, 해주기, 때문에, 걱정하지, 않아도, 된다, 또, 이나, 가을, 방학, 겨울, 방학, 등에는, 학교에서, 운행하는, 무료, 을, 타고, 공항에, 내가, 파견된, 교환학교, 는, 미국의, 동부에서도, ...]\nName: gen_info, dtype: object"
     },
     "metadata": {},
     "execution_count": 30
    }
   ],
   "source": [
    "df_tokens[-2:]"
   ]
  },
  {
   "cell_type": "markdown",
   "metadata": {},
   "source": [
    "## Extract Keyword"
   ]
  },
  {
   "cell_type": "code",
   "execution_count": 32,
   "metadata": {
    "tags": []
   },
   "outputs": [
    {
     "output_type": "stream",
     "name": "stdout",
     "text": "3934\n"
    },
    {
     "output_type": "execute_result",
     "data": {
      "text/plain": "['는', '건물', '약', '개가', '흩어져있는', '송도캠퍼스', '정도의', '작은', '대학교입니다', '비엔나']"
     },
     "metadata": {},
     "execution_count": 32
    }
   ],
   "source": [
    "import random\n",
    "random_int = random.randint(0,470)\n",
    "sample_univ_bow = df_tokens[random_int]\n",
    "print(len(sample_univ_bow))\n",
    "sample_univ_bow[:10]"
   ]
  },
  {
   "cell_type": "code",
   "execution_count": 41,
   "metadata": {},
   "outputs": [
    {
     "output_type": "execute_result",
     "data": {
      "text/plain": "[('는', 21), ('건물', 9), ('약', 4), ('개가', 1), ('흩어져있는', 1)]"
     },
     "metadata": {},
     "execution_count": 41
    }
   ],
   "source": [
    "counted_bow = Counter(sample_univ_bow)\n",
    "counted_bow_tuple_list = list(Counter(counted_bow).items())\n",
    "counted_bow_tuple_list[:5]"
   ]
  },
  {
   "cell_type": "code",
   "execution_count": 43,
   "metadata": {},
   "outputs": [
    {
     "output_type": "execute_result",
     "data": {
      "text/plain": "['는', '건물', '약', '개가', '흩어져있는', '송도캠퍼스', '정도의', '작은', '대학교입니다', '비엔나']"
     },
     "metadata": {},
     "execution_count": 43
    }
   ],
   "source": [
    "bow_word_list, bow_frequency_list = map(list, zip(*counted_bow_tuple_list))\n",
    "bow_word_list[:10]"
   ]
  },
  {
   "cell_type": "code",
   "execution_count": 44,
   "metadata": {},
   "outputs": [],
   "source": [
    "subtracted_list = [item for item in bow_word_list if item not in stopwords]"
   ]
  },
  {
   "cell_type": "code",
   "execution_count": 46,
   "metadata": {},
   "outputs": [
    {
     "output_type": "execute_result",
     "data": {
      "text/plain": "[('개가', 1),\n ('흩어져있는', 1),\n ('송도캠퍼스', 1),\n ('대학교입니다', 1),\n ('비엔나', 1),\n ('시내의', 1),\n ('대학들처럼', 1),\n ('평지에', 1),\n ('위치해있어', 1),\n ('편하게', 1),\n ('다닐', 1),\n ('호선', 1),\n ('역과', 1),\n ('역', 1),\n ('사이에', 1),\n ('접근성이', 1),\n ('구에', 1),\n ('관광지들과도', 1),\n ('멀지', 1),\n ('중앙유럽의', 1),\n ('내륙국인', 1),\n ('오스트리아는', 1),\n ('사회경제적으로', 1),\n ('서유럽으로', 1),\n ('분류되지만', 1),\n ('문화적으로는', 1),\n ('동유럽의', 1),\n ('분위기도', 1),\n ('오롯이', 1),\n ('담고있습니다', 1),\n ('여행다니고', 1),\n ('싶어서', 1),\n ('오스트리아를', 1),\n ('선택했는데', 1),\n ('비엔나의', 1),\n ('동유럽국가로', 1),\n ('여행', 1),\n ('진가를', 1),\n ('발휘했습니다', 1),\n ('국내외를', 1),\n ('연결하는', 1),\n ('철도시스템도', 1),\n ('체계적이어서', 1),\n ('기차여행하기에도', 1),\n ('이러한', 1),\n ('특성', 1),\n ('거주자들', 1),\n ('동유럽인이', 1),\n ('많으며', 1),\n ('겉으로', 1)]"
     },
     "metadata": {},
     "execution_count": 46
    }
   ],
   "source": [
    "counted_keywords = Counter(subtracted_list)\n",
    "counted_keywords.most_common(50)"
   ]
  },
  {
   "cell_type": "code",
   "execution_count": null,
   "metadata": {},
   "outputs": [],
   "source": []
  }
 ]
}