{
 "metadata": {
  "language_info": {
   "codemirror_mode": {
    "name": "ipython",
    "version": 3
   },
   "file_extension": ".py",
   "mimetype": "text/x-python",
   "name": "python",
   "nbconvert_exporter": "python",
   "pygments_lexer": "ipython3",
   "version": "3.8.1-final"
  },
  "orig_nbformat": 2,
  "kernelspec": {
   "name": "python38164bitd84bd39789ae4619b6b50c356f0457fc",
   "display_name": "Python 3.8.1 64-bit"
  }
 },
 "nbformat": 4,
 "nbformat_minor": 2,
 "cells": [
  {
   "cell_type": "code",
   "execution_count": 2,
   "metadata": {
    "tags": []
   },
   "outputs": [
    {
     "output_type": "stream",
     "name": "stdout",
     "text": "1.0.5\n1.19.0\n"
    }
   ],
   "source": [
    "import pandas as pd\n",
    "import numpy as np\n",
    "print(pd.__version__)\n",
    "print(np.__version__)\n",
    "\n",
    "# read dataframe\n",
    "df_specific = pd.read_csv(\"./data_wrangled/df_specific_wrangle.csv\", encoding=\"utf-8\")\n",
    "\n",
    "# pandas 설정: 각 column 별 (혹은 한 cell에서) 출력되는 글자수 제한을 없애기\n",
    "pd.set_option('display.max_colwidth', None)"
   ]
  },
  {
   "cell_type": "code",
   "execution_count": 3,
   "metadata": {},
   "outputs": [],
   "source": [
    "import re\n",
    "# removing junks from the string data\n",
    "def remove_junk(str_data):\n",
    "    str_data = str_data.replace(\"\\\\\\\\n\", \"\")\n",
    "    str_data = str_data.replace(\"\\\\n\", \"\")\n",
    "    str_data = str_data.replace(\"\\n\", \"\")\n",
    "    str_data = str_data.replace(\"\\\\\", \"\")\n",
    "    str_data = str_data.replace(\"\\\\t\", \"\")\n",
    "    str_data = str_data.replace(\"NaN\", \"\")\n",
    "\n",
    "    # print(str_data) makes an error. too much of data\n",
    "    # 한글, english 빼고 전부 날리기\n",
    "    # str_data = re.sub('[^가-힣ㄱ-ㅎㅏ-ㅣa-zA-Z|0-9|.,]', ' ', str_data)\n",
    "    \n",
    "    \n",
    "    str_data = re.sub('[^가-힣ㄱ-ㅎㅏ]', ' ', str_data)\n",
    "\n",
    "    # replace multiple spaces into single space\n",
    "    str_data = ' '.join(str_data.split())\n",
    "    return str_data"
   ]
  },
  {
   "cell_type": "code",
   "execution_count": 4,
   "metadata": {},
   "outputs": [],
   "source": [
    "def access_univ_info(dataframe, column, univ_code):\n",
    "    df_row = dataframe.loc[dataframe[\"대학코드\"] == univ_code]\n",
    "    str_univ_info = df_row[column].to_string(index=False).lstrip()\n",
    "    str_univ_info = remove_junk(str_univ_info)\n",
    "    return str_univ_info"
   ]
  },
  {
   "cell_type": "code",
   "execution_count": 5,
   "metadata": {},
   "outputs": [],
   "source": [
    "# collecting all column values into one string\n",
    "def column_to_string(dataframe, column_name: str):\n",
    "    str_corpus = dataframe[column_name].to_string(index=False).lstrip()\n",
    "    str_corpus = remove_junk(str_corpus)\n",
    "    return str_corpus"
   ]
  },
  {
   "cell_type": "code",
   "execution_count": 13,
   "metadata": {},
   "outputs": [],
   "source": [
    "info_list = ['gen_info', 'env_info', 'food_info', 'study_info', 'office_info', 'facil_info', 'mhct_info', 'help_info', 'etc_info']"
   ]
  },
  {
   "cell_type": "code",
   "execution_count": 34,
   "metadata": {
    "tags": []
   },
   "outputs": [
    {
     "output_type": "stream",
     "name": "stdout",
     "text": "gen_info 3985044\nenv_info 3316342\nfood_info 4212609\nstudy_info 3970047\noffice_info 2022400\nfacil_info 2832921\nmhct_info 2307935\nhelp_info 1582255\netc_info 2521724\n"
    }
   ],
   "source": [
    "for info in info_list:\n",
    "    corpus_sample = column_to_string(df_specific, info)\n",
    "    print(info, len(corpus_sample))"
   ]
  },
  {
   "cell_type": "markdown",
   "metadata": {},
   "source": [
    "## Tokenizing Sample Corpus"
   ]
  },
  {
   "cell_type": "code",
   "execution_count": 14,
   "metadata": {},
   "outputs": [
    {
     "output_type": "execute_result",
     "data": {
      "text/plain": "<soynlp.tokenizer._tokenizer.LTokenizer at 0x7fd8511e09a0>"
     },
     "metadata": {},
     "execution_count": 14
    }
   ],
   "source": [
    "# https://github.com/lovit/soynlp\n",
    "from soynlp.tokenizer import RegexTokenizer, LTokenizer\n",
    "\n",
    "tokenizer = LTokenizer()\n",
    "tokenizer"
   ]
  },
  {
   "cell_type": "code",
   "execution_count": 15,
   "metadata": {},
   "outputs": [],
   "source": [
    "from collections import Counter"
   ]
  },
  {
   "cell_type": "code",
   "execution_count": 16,
   "metadata": {},
   "outputs": [],
   "source": [
    "import random"
   ]
  },
  {
   "cell_type": "code",
   "execution_count": 17,
   "metadata": {},
   "outputs": [],
   "source": [
    "stopwords = []"
   ]
  },
  {
   "cell_type": "code",
   "execution_count": 21,
   "metadata": {
    "tags": [
     "outputPrepend"
    ]
   },
   "outputs": [
    {
     "output_type": "stream",
     "name": "stdout",
     "text": "ess than 1/4 of universities\n즐길 word not appear in less than 1/4 of universities\n헬스장 word not appear in less than 1/4 of universities\n동아리도 word not appear in less than 1/4 of universities\n추천합니다 word not appear in less than 1/4 of universities\n학교의 word not appear in less than 1/4 of universities\n프로그램을 word not appear in less than 1/4 of universities\n체육관이 word not appear in less than 1/4 of universities\n체육관 word not appear in less than 1/4 of universities\n참여할 word not appear in less than 1/4 of universities\n기회가 word not appear in less than 1/4 of universities\n스쿼시 word not appear in less than 1/4 of universities\n있어요 word not appear in less than 1/4 of universities\n교내 word not appear in less than 1/4 of universities\n수영 word not appear in less than 1/4 of universities\n등등 word not appear in less than 1/4 of universities\n가격에 word not appear in less than 1/4 of universities\n헬스 word not appear in less than 1/4 of universities\n외에도 word not appear in less than 1/4 of universities\n행사를 word not appear in less than 1/4 of universities\n좋았습니다 word not appear in less than 1/4 of universities\n사귈 word not appear in less than 1/4 of universities\n시설은 word not appear in less than 1/4 of universities\n좋다 word not appear in less than 1/4 of universities\n배드민턴 word not appear in less than 1/4 of universities\n만날 word not appear in less than 1/4 of universities\n것으로 word not appear in less than 1/4 of universities\n돈을 word not appear in less than 1/4 of universities\n동아리의 word not appear in less than 1/4 of universities\n분들은 word not appear in less than 1/4 of universities\n내면 word not appear in less than 1/4 of universities\n시설도 word not appear in less than 1/4 of universities\n있으므로 word not appear in less than 1/4 of universities\n댄스 word not appear in less than 1/4 of universities\n않아서 word not appear in less than 1/4 of universities\n활동이 word not appear in less than 1/4 of universities\n관심있는 word not appear in less than 1/4 of universities\n수업이 word not appear in less than 1/4 of universities\n관련 word not appear in less than 1/4 of universities\n층에 word not appear in less than 1/4 of universities\n이곳에서 word not appear in less than 1/4 of universities\n내고 word not appear in less than 1/4 of universities\n곳은 word not appear in less than 1/4 of universities\n싶은 word not appear in less than 1/4 of universities\n여행을 word not appear in less than 1/4 of universities\n일주일에 word not appear in less than 1/4 of universities\n열리는 word not appear in less than 1/4 of universities\n원하는 word not appear in less than 1/4 of universities\n룸메이트가 word not appear in less than 1/4 of universities\n미국의 word not appear in less than 1/4 of universities\n1448\n['점이', '친구들을', '할', '학생들을', '정말', '동아리에', '에는', '여행', '등의', '전'] are random stopwords candidates\n(470,)\n['살바도르', '대학교', '국제처에서', '비자문제나', '숙소문제', '홈스테이경우', '등은', '해결해', '주고', '특별']\nnumber of tokenized words in a corpus are: 397750\nnumber of counted words: 51782\n['수', '도움을', '있습니다', '받을', '있는', '많이', '많은', '것', '그', '때문에']\n1748\n월 word not appear in less than 1/4 of universities\n캠퍼스 word not appear in less than 1/4 of universities\n작은 word not appear in less than 1/4 of universities\n정도로 word not appear in less than 1/4 of universities\n조금 word not appear in less than 1/4 of universities\n않습니다 word not appear in less than 1/4 of universities\n상당히 word not appear in less than 1/4 of universities\n좀 word not appear in less than 1/4 of universities\n가지고 word not appear in less than 1/4 of universities\n비해 word not appear in less than 1/4 of universities\n그래서 word not appear in less than 1/4 of universities\n그러나 word not appear in less than 1/4 of universities\n내가 word not appear in less than 1/4 of universities\n별로 word not appear in less than 1/4 of universities\n않았습니다 word not appear in less than 1/4 of universities\n시간이 word not appear in less than 1/4 of universities\n캠퍼스 word not appear in less than 1/4 of universities\n등이 word not appear in less than 1/4 of universities\n조금 word not appear in less than 1/4 of universities\n좀 word not appear in less than 1/4 of universities\n않습니다 word not appear in less than 1/4 of universities\n정도로 word not appear in less than 1/4 of universities\n그래서 word not appear in less than 1/4 of universities\n그러나 word not appear in less than 1/4 of universities\n가끔 word not appear in less than 1/4 of universities\n상당히 word not appear in less than 1/4 of universities\n별로 word not appear in less than 1/4 of universities\n않고 word not appear in less than 1/4 of universities\n그냥 word not appear in less than 1/4 of universities\n시간을 word not appear in less than 1/4 of universities\n비해 word not appear in less than 1/4 of universities\n조금 word not appear in less than 1/4 of universities\n좀 word not appear in less than 1/4 of universities\n캠퍼스 word not appear in less than 1/4 of universities\n비해 word not appear in less than 1/4 of universities\n등이 word not appear in less than 1/4 of universities\n경우가 word not appear in less than 1/4 of universities\n않고 word not appear in less than 1/4 of universities\n그러나 word not appear in less than 1/4 of universities\n그래서 word not appear in less than 1/4 of universities\n않습니다 word not appear in less than 1/4 of universities\n내가 word not appear in less than 1/4 of universities\n첫 word not appear in less than 1/4 of universities\n그냥 word not appear in less than 1/4 of universities\n상당히 word not appear in less than 1/4 of universities\n가끔 word not appear in less than 1/4 of universities\n별로 word not appear in less than 1/4 of universities\n조금 word not appear in less than 1/4 of universities\n않습니다 word not appear in less than 1/4 of universities\n않고 word not appear in less than 1/4 of universities\n상당히 word not appear in less than 1/4 of universities\n그래서 word not appear in less than 1/4 of universities\n시간이 word not appear in less than 1/4 of universities\n수강신청을 word not appear in less than 1/4 of universities\n않았습니다 word not appear in less than 1/4 of universities\n그러나 word not appear in less than 1/4 of universities\n별로 word not appear in less than 1/4 of universities\n없고 word not appear in less than 1/4 of universities\n내가 word not appear in less than 1/4 of universities\n많아서 word not appear in less than 1/4 of universities\n정도로 word not appear in less than 1/4 of universities\n않은 word not appear in less than 1/4 of universities\n시간에 word not appear in less than 1/4 of universities\n처음에는 word not appear in less than 1/4 of universities\n없었습니다 word not appear in less than 1/4 of universities\n월 word not appear in less than 1/4 of universities\n시간을 word not appear in less than 1/4 of universities\n작은 word not appear in less than 1/4 of universities\n자신이 word not appear in less than 1/4 of universities\n별로 word not appear in less than 1/4 of universities\n없었습니다 word not appear in less than 1/4 of universities\n프로그램이 word not appear in less than 1/4 of universities\n딱히 word not appear in less than 1/4 of universities\n행사가 word not appear in less than 1/4 of universities\n초반에 word not appear in less than 1/4 of universities\n않았습니다 word not appear in less than 1/4 of universities\n경우가 word not appear in less than 1/4 of universities\n그러나 word not appear in less than 1/4 of universities\n않습니다 word not appear in less than 1/4 of universities\n시간을 word not appear in less than 1/4 of universities\n시간이 word not appear in less than 1/4 of universities\n상당히 word not appear in less than 1/4 of universities\n기회를 word not appear in less than 1/4 of universities\n좀 word not appear in less than 1/4 of universities\n가끔 word not appear in less than 1/4 of universities\n이용할 word not appear in less than 1/4 of universities\n동아리에 word not appear in less than 1/4 of universities\n수영장 word not appear in less than 1/4 of universities\n등이 word not appear in less than 1/4 of universities\n초에 word not appear in less than 1/4 of universities\n캠퍼스 word not appear in less than 1/4 of universities\n많습니다 word not appear in less than 1/4 of universities\n않았습니다 word not appear in less than 1/4 of universities\n사용할 word not appear in less than 1/4 of universities\n않았지만 word not appear in less than 1/4 of universities\n테니스 word not appear in less than 1/4 of universities\n작은 word not appear in less than 1/4 of universities\n프로그램이 word not appear in less than 1/4 of universities\n시설을 word not appear in less than 1/4 of universities\n농구장 word not appear in less than 1/4 of universities\n같아요 word not appear in less than 1/4 of universities\n실내 word not appear in less than 1/4 of universities\n동아리에서 word not appear in less than 1/4 of universities\n많고 word not appear in less than 1/4 of universities\n않고 word not appear in less than 1/4 of universities\n그냥 word not appear in less than 1/4 of universities\n자유롭게 word not appear in less than 1/4 of universities\n활동은 word not appear in less than 1/4 of universities\n상당히 word not appear in less than 1/4 of universities\n행사가 word not appear in less than 1/4 of universities\n가끔 word not appear in less than 1/4 of universities\n축구 word not appear in less than 1/4 of universities\n배울 word not appear in less than 1/4 of universities\n많아서 word not appear in less than 1/4 of universities\n옆에 word not appear in less than 1/4 of universities\n않은 word not appear in less than 1/4 of universities\n시간이 word not appear in less than 1/4 of universities\n없었습니다 word not appear in less than 1/4 of universities\n문화적 word not appear in less than 1/4 of universities\n오히려 word not appear in less than 1/4 of universities\n조금 word not appear in less than 1/4 of universities\n좀 word not appear in less than 1/4 of universities\n처음에는 word not appear in less than 1/4 of universities\n그냥 word not appear in less than 1/4 of universities\n충격은 word not appear in less than 1/4 of universities\n않고 word not appear in less than 1/4 of universities\n충격을 word not appear in less than 1/4 of universities\n경우가 word not appear in less than 1/4 of universities\n별로 word not appear in less than 1/4 of universities\n문화충격은 word not appear in less than 1/4 of universities\n문화가 word not appear in less than 1/4 of universities\n말을 word not appear in less than 1/4 of universities\n문을 word not appear in less than 1/4 of universities\n특별히 word not appear in less than 1/4 of universities\n생각보다 word not appear in less than 1/4 of universities\n없었다 word not appear in less than 1/4 of universities\n있다는 word not appear in less than 1/4 of universities\n않습니다 word not appear in less than 1/4 of universities\n같다 word not appear in less than 1/4 of universities\n한국과 word not appear in less than 1/4 of universities\n전혀 word not appear in less than 1/4 of universities\n술을 word not appear in less than 1/4 of universities\n시간이 word not appear in less than 1/4 of universities\n가끔 word not appear in less than 1/4 of universities\n문화를 word not appear in less than 1/4 of universities\n상당히 word not appear in less than 1/4 of universities\n정도로 word not appear in less than 1/4 of universities\n개방적인 word not appear in less than 1/4 of universities\n그러나 word not appear in less than 1/4 of universities\n없었지만 word not appear in less than 1/4 of universities\n느낀 word not appear in less than 1/4 of universities\n그렇게 word not appear in less than 1/4 of universities\n그런지 word not appear in less than 1/4 of universities\n같아요 word not appear in less than 1/4 of universities\n다들 word not appear in less than 1/4 of universities\n영어를 word not appear in less than 1/4 of universities\n입고 word not appear in less than 1/4 of universities\n많아서 word not appear in less than 1/4 of universities\n컬쳐쇼크는 word not appear in less than 1/4 of universities\n적은 word not appear in less than 1/4 of universities\n것에 word not appear in less than 1/4 of universities\n컬쳐 word not appear in less than 1/4 of universities\n달리 word not appear in less than 1/4 of universities\n종종 word not appear in less than 1/4 of universities\n문화에 word not appear in less than 1/4 of universities\n그래도 word not appear in less than 1/4 of universities\n비해 word not appear in less than 1/4 of universities\n모습을 word not appear in less than 1/4 of universities\n없을 word not appear in less than 1/4 of universities\n많았습니다 word not appear in less than 1/4 of universities\n그다지 word not appear in less than 1/4 of universities\n보다는 word not appear in less than 1/4 of universities\n사람들을 word not appear in less than 1/4 of universities\n훨씬 word not appear in less than 1/4 of universities\n생각을 word not appear in less than 1/4 of universities\n한국에서 word not appear in less than 1/4 of universities\n문화충격을 word not appear in less than 1/4 of universities\n방에 word not appear in less than 1/4 of universities\n친구가 word not appear in less than 1/4 of universities\n아닌 word not appear in less than 1/4 of universities\n없고 word not appear in less than 1/4 of universities\n느꼈습니다 word not appear in less than 1/4 of universities\n다니는 word not appear in less than 1/4 of universities\n그들의 word not appear in less than 1/4 of universities\n확실히 word not appear in less than 1/4 of universities\n굳이 word not appear in less than 1/4 of universities\n아니지만 word not appear in less than 1/4 of universities\n실제로 word not appear in less than 1/4 of universities\n이미 word not appear in less than 1/4 of universities\n있었던 word not appear in less than 1/4 of universities\n느끼지 word not appear in less than 1/4 of universities\n때도 word not appear in less than 1/4 of universities\n사람들도 word not appear in less than 1/4 of universities\n별다른 word not appear in less than 1/4 of universities\n한다는 word not appear in less than 1/4 of universities\n이러한 word not appear in less than 1/4 of universities\n미국에 word not appear in less than 1/4 of universities\n작은 word not appear in less than 1/4 of universities\n같아요 word not appear in less than 1/4 of universities\n페이스북 word not appear in less than 1/4 of universities\n상담을 word not appear in less than 1/4 of universities\n만난 word not appear in less than 1/4 of universities\n매주 word not appear in less than 1/4 of universities\n각종 word not appear in less than 1/4 of universities\n있어요 word not appear in less than 1/4 of universities\n많습니다 word not appear in less than 1/4 of universities\n친구가 word not appear in less than 1/4 of universities\n추천합니다 word not appear in less than 1/4 of universities\n프로그램을 word not appear in less than 1/4 of universities\n같다 word not appear in less than 1/4 of universities\n또는 word not appear in less than 1/4 of universities\n딱히 word not appear in less than 1/4 of universities\n받았다 word not appear in less than 1/4 of universities\n도와주는 word not appear in less than 1/4 of universities\n생겼을 word not appear in less than 1/4 of universities\n구할 word not appear in less than 1/4 of universities\n도움도 word not appear in less than 1/4 of universities\n연대 word not appear in less than 1/4 of universities\n1530\n['되는', '외국', '것이', '로', '도', '수', '집', '경우에는', '입니다', '할'] are random stopwords candidates\n(470,)\n['캔버라는', '대도시에', '비해', '사람들이', '더욱', '친절하고', '자연환경이', '아름답습니다', '밤에', '기숙사']\nnumber of tokenized words in a corpus are: 634527\nnumber of counted words: 90378\n['수', '많이', '있는', '것', '정말', '많은', '좋은', '더', '그', '때문에']\n1830\n보통 word not appear in less than 1/4 of universities\n보통 word not appear in less than 1/4 of universities\n보통 word not appear in less than 1/4 of universities\n따로 word not appear in less than 1/4 of universities\n층 word not appear in less than 1/4 of universities\n건물 word not appear in less than 1/4 of universities\n보통 word not appear in less than 1/4 of universities\n따로 word not appear in less than 1/4 of universities\n학생들의 word not appear in less than 1/4 of universities\n경우는 word not appear in less than 1/4 of universities\n편입니다 word not appear in less than 1/4 of universities\n따로 word not appear in less than 1/4 of universities\n학생들의 word not appear in less than 1/4 of universities\n건물 word not appear in less than 1/4 of universities\n보내면 word not appear in less than 1/4 of universities\n따로 word not appear in less than 1/4 of universities\n여러가지 word not appear in less than 1/4 of universities\n건물 word not appear in less than 1/4 of universities\n경우는 word not appear in less than 1/4 of universities\n보통 word not appear in less than 1/4 of universities\n도서관 word not appear in less than 1/4 of universities\n층에 word not appear in less than 1/4 of universities\n매일 word not appear in less than 1/4 of universities\n없었습니다 word not appear in less than 1/4 of universities\n사람들은 word not appear in less than 1/4 of universities\n특별한 word not appear in less than 1/4 of universities\n워낙 word not appear in less than 1/4 of universities\n없었던 word not appear in less than 1/4 of universities\n않았습니다 word not appear in less than 1/4 of universities\n받은 word not appear in less than 1/4 of universities\n모르는 word not appear in less than 1/4 of universities\n않게 word not appear in less than 1/4 of universities\n경우도 word not appear in less than 1/4 of universities\n학생들의 word not appear in less than 1/4 of universities\n놀랐습니다 word not appear in less than 1/4 of universities\n파티를 word not appear in less than 1/4 of universities\n없지만 word not appear in less than 1/4 of universities\n보통 word not appear in less than 1/4 of universities\n있었는데 word not appear in less than 1/4 of universities\n아무래도 word not appear in less than 1/4 of universities\n문제가 word not appear in less than 1/4 of universities\n받았습니다 word not appear in less than 1/4 of universities\n처음엔 word not appear in less than 1/4 of universities\n한인 word not appear in less than 1/4 of universities\n문제가 word not appear in less than 1/4 of universities\n받았습니다 word not appear in less than 1/4 of universities\n친절하게 word not appear in less than 1/4 of universities\n관련된 word not appear in less than 1/4 of universities\n문제는 word not appear in less than 1/4 of universities\n연락을 word not appear in less than 1/4 of universities\n받으실 word not appear in less than 1/4 of universities\n국제처 word not appear in less than 1/4 of universities\n생기면 word not appear in less than 1/4 of universities\n메일을 word not appear in less than 1/4 of universities\n친구들에게 word not appear in less than 1/4 of universities\n받는 word not appear in less than 1/4 of universities\n위한 word not appear in less than 1/4 of universities\n국제처에 word not appear in less than 1/4 of universities\n어려운 word not appear in less than 1/4 of universities\n교회에 word not appear in less than 1/4 of universities\n물어보면 word not appear in less than 1/4 of universities\n관한 word not appear in less than 1/4 of universities\n유학생 word not appear in less than 1/4 of universities\n필요할 word not appear in less than 1/4 of universities\n일단 word not appear in less than 1/4 of universities\n찾아가면 word not appear in less than 1/4 of universities\n교내 word not appear in less than 1/4 of universities\n도움은 word not appear in less than 1/4 of universities\n위에서 word not appear in less than 1/4 of universities\n교환학생들을 word not appear in less than 1/4 of universities\n이메일을 word not appear in less than 1/4 of universities\n문제를 word not appear in less than 1/4 of universities\n제일 word not appear in less than 1/4 of universities\n모르는 word not appear in less than 1/4 of universities\n층에 word not appear in less than 1/4 of universities\n경우는 word not appear in less than 1/4 of universities\n가시면 word not appear in less than 1/4 of universities\n줍니다 word not appear in less than 1/4 of universities\n요청하면 word not appear in less than 1/4 of universities\n문의하면 word not appear in less than 1/4 of universities\n앞서 word not appear in less than 1/4 of universities\n우선 word not appear in less than 1/4 of universities\n여러가지 word not appear in less than 1/4 of universities\n요청할 word not appear in less than 1/4 of universities\n받고 word not appear in less than 1/4 of universities\n교내에서는 word not appear in less than 1/4 of universities\n국제처에서 word not appear in less than 1/4 of universities\n연세대학교 word not appear in less than 1/4 of universities\n딱히 word not appear in less than 1/4 of universities\n도와줍니다 word not appear in less than 1/4 of universities\n학생들에게 word not appear in less than 1/4 of universities\n도움받을 word not appear in less than 1/4 of universities\n보통 word not appear in less than 1/4 of universities\n받은 word not appear in less than 1/4 of universities\n친절히 word not appear in less than 1/4 of universities\n미국에서 word not appear in less than 1/4 of universities\n1734\n['있지만', '에는', '한번', '있을', '분들은', '바로', '를', '싶다', '것은', '좋습니다'] are random stopwords candidates\n"
    }
   ],
   "source": [
    "stopwords_candidates = []\n",
    "\n",
    "for info in info_list:\n",
    "    # info column series\n",
    "    df_info = df_specific[info].fillna(\"\")\n",
    "    print(df_info.shape)\n",
    "    \n",
    "    # info column converted into one string\n",
    "    corpus = column_to_string(df_specific, info)\n",
    "    tokenized_corpus = tokenizer.tokenize(corpus)\n",
    "    print(tokenized_corpus[:10])\n",
    "    print(f\"number of tokenized words in a corpus are: {len(tokenized_corpus)}\")\n",
    "\n",
    "    tokenized_corpus_counted = Counter(tokenized_corpus)\n",
    "    print(\"number of counted words:\", len(tokenized_corpus_counted))\n",
    "\n",
    "    common_words = tokenized_corpus_counted.most_common(300)\n",
    "    common_words_list, frequency_list = map(list, zip(*common_words))\n",
    "    print(common_words_list[:10])    \n",
    "\n",
    "    stopwords_candidates += common_words_list\n",
    "    print(len(stopwords_candidates))\n",
    "\n",
    "    for i in stopwords_candidates:\n",
    "        if df_info.str.contains(i).sum() < 120:\n",
    "            print(f\"{i} word not appear in less than 1/4 of universities\")\n",
    "            stopwords_candidates.remove(i)\n",
    "    \n",
    "    print(len(stopwords_candidates))\n",
    "    print(f\"{random.sample(stopwords_candidates,10)} are random stopwords candidates\")"
   ]
  },
  {
   "cell_type": "code",
   "execution_count": 22,
   "metadata": {},
   "outputs": [],
   "source": [
    "stopwords = stopwords_candidates"
   ]
  },
  {
   "cell_type": "code",
   "execution_count": 23,
   "metadata": {},
   "outputs": [],
   "source": [
    "with open(\"file.txt\", \"wt\", encoding=\"UTF8\") as output:\n",
    "    output.write(str(stopwords))"
   ]
  },
  {
   "cell_type": "markdown",
   "metadata": {},
   "source": [
    "## Tokenizing one column of university dataframe with soynlp"
   ]
  },
  {
   "cell_type": "code",
   "execution_count": 58,
   "metadata": {
    "tags": []
   },
   "outputs": [
    {
     "output_type": "stream",
     "name": "stdout",
     "text": "CPU times: user 2.03 s, sys: 5.45 ms, total: 2.03 s\nWall time: 2.03 s\n(470,)\n"
    }
   ],
   "source": [
    "column_data = \"gen_info\"\n",
    "# df_column = df_specific[df_specific[column_data].notnull()]\n",
    "df_column = df_specific[column_data].fillna(\"\")\n",
    "df_process = df_column.apply(remove_junk)\n",
    "%time df_tokens = df_process.apply(tokenizer.tokenize)\n",
    "print(df_tokens.shape)"
   ]
  },
  {
   "cell_type": "code",
   "execution_count": 59,
   "metadata": {
    "tags": []
   },
   "outputs": [
    {
     "output_type": "stream",
     "name": "stdout",
     "text": "88\n333\n5480\nISC PARIS - School of Management\n"
    },
    {
     "output_type": "execute_result",
     "data": {
      "text/plain": "['학교는', '아주', '작습니다', '학교라기보다는', '사무실', '건물같은', '크기입니다', '그나마', '파리', '구와']"
     },
     "metadata": {},
     "execution_count": 59
    }
   ],
   "source": [
    "# make bag of words out of one university's students' reviews\n",
    "import random\n",
    "random_int = random.randint(0,469)\n",
    "sample_univ_bow = df_tokens[random_int]\n",
    "print(len(sample_univ_bow))\n",
    "while len(sample_univ_bow) < 500:\n",
    "    random_int = random.randint(0,469)\n",
    "    sample_univ_bow = df_tokens[random_int]\n",
    "    print(len(sample_univ_bow))\n",
    "print(df_specific[\"대학명\"][random_int])\n",
    "sample_univ_bow[:10]"
   ]
  },
  {
   "cell_type": "code",
   "execution_count": 69,
   "metadata": {},
   "outputs": [],
   "source": [
    "subtracted_bow_list = [item for item in sample_univ_bow if item not in stopwords]"
   ]
  },
  {
   "cell_type": "code",
   "execution_count": 72,
   "metadata": {
    "tags": []
   },
   "outputs": [
    {
     "output_type": "stream",
     "name": "stdout",
     "text": "[('파리', 89), ('건물', 35), ('파리의', 35), ('위치하고', 24), ('학교는', 22), ('날씨가', 19), ('건물로', 19), ('건물은', 19), ('크지', 19), ('비가', 17), ('개의', 16), ('파리는', 16), ('수업이', 16), ('이루어져', 15), ('버스를', 14), ('기후는', 13), ('구', 13), ('날씨는', 13), ('워낙', 13), ('크기는', 13), ('외곽에', 13), ('구에', 12), ('걸어서', 12), ('역에서', 12), ('건물이', 12), ('학교의', 12), ('경계에', 12), ('총', 12), ('작습니다', 11), ('구와', 11), ('위치해', 11), ('학교가', 11), ('자체가', 11), ('가까운', 10), ('캠퍼스가', 10), ('분정도', 10), ('수업은', 9), ('겨울에는', 9), ('위치는', 9), ('기차를', 9), ('존', 9), ('타면', 9), ('떨어져', 9), ('건물에서', 9), ('않았습니다', 9), ('빌딩', 9), ('빌딩은', 9), ('아닙니다', 8), ('캠퍼스', 8), ('거리에', 8), ('파리가', 8), ('버스', 8), ('겨울', 8), ('동아리', 8), ('정도의', 8), ('거리가', 7), ('해가', 7), ('내려서', 7), ('파리에', 7), ('프랑스', 7), ('나머지', 7), ('버스로', 7), ('규모가', 7), ('까지', 7), ('세개의', 7), ('않기', 7), ('해도', 7), ('없고', 6), ('겨울은', 6), ('시내', 6), ('호선', 6), ('있어요', 6), ('캠퍼스를', 6), ('보통', 6), ('크기가', 6), ('않지만', 6), ('구성되어', 6), ('한국보다', 6), ('맑은', 6), ('여름에는', 6), ('층', 6), ('우산을', 6), ('그나마', 5), ('기차', 5), ('봄', 5), ('버스가', 5), ('생각하면', 5), ('구의', 5), ('행정구역상', 5), ('지하철', 5), ('않았던', 5), ('날씨', 5), ('동으로', 5), ('모여', 5), ('끝', 5), ('학교입니다', 5), ('서울보다', 5), ('생각하시면', 5), ('때도', 5), ('학년', 5)]\n"
    }
   ],
   "source": [
    "counted_bow_keywords = Counter(subtracted_bow_list)\n",
    "sample_common_words = counted_bow_keywords.most_common(100)\n",
    "print(sample_common_words)"
   ]
  },
  {
   "cell_type": "code",
   "execution_count": 73,
   "metadata": {
    "tags": []
   },
   "outputs": [
    {
     "output_type": "stream",
     "name": "stdout",
     "text": "['파리', '건물', '파리의', '위치하고', '학교는', '날씨가', '건물로', '건물은', '크지', '비가', '개의', '파리는', '수업이', '이루어져', '버스를', '기후는', '구', '날씨는', '워낙', '크기는', '외곽에', '구에', '걸어서', '역에서', '건물이', '학교의', '경계에', '총', '작습니다', '구와', '위치해', '학교가', '자체가', '가까운', '캠퍼스가', '분정도', '수업은', '겨울에는', '위치는', '기차를', '존', '타면', '떨어져', '건물에서', '않았습니다', '빌딩', '빌딩은', '아닙니다', '캠퍼스', '거리에', '파리가', '버스', '겨울', '동아리', '정도의', '거리가', '해가', '내려서', '파리에', '프랑스', '나머지', '버스로', '규모가', '까지', '세개의', '않기', '해도', '없고', '겨울은', '시내', '호선', '있어요', '캠퍼스를', '보통', '크기가', '않지만', '구성되어', '한국보다', '맑은', '여름에는', '층', '우산을', '그나마', '기차', '봄', '버스가', '생각하면', '구의', '행정구역상', '지하철', '않았던', '날씨', '동으로', '모여', '끝', '학교입니다', '서울보다', '생각하시면', '때도', '학년']\n"
    }
   ],
   "source": [
    "# zipping deletes overlapping string items\n",
    "zipped_common_words, frequency_list = map(list, zip(*sample_common_words))\n",
    "print(zipped_common_words)"
   ]
  },
  {
   "cell_type": "code",
   "execution_count": null,
   "metadata": {},
   "outputs": [],
   "source": []
  },
  {
   "cell_type": "markdown",
   "metadata": {},
   "source": [
    "### Keywords accordign to Sentences order"
   ]
  },
  {
   "cell_type": "code",
   "execution_count": 62,
   "metadata": {
    "tags": []
   },
   "outputs": [
    {
     "output_type": "stream",
     "name": "stdout",
     "text": "[('학교는', 22), ('아주', 6), ('작습니다', 11), ('학교라기보다는', 3), ('사무실', 3), ('건물같은', 1), ('크기입니다', 3), ('그나마', 5), ('파리', 89), ('구와', 11), ('가까이', 3), ('있기는', 3), ('하지만', 25), ('엄밀히', 1), ('말하면', 2), ('파리지역은', 1), ('아닙니다', 8), ('파리보다', 1), ('조금', 11), ('북쪽인', 1), ('외곽지역에', 1), ('해당됩니다', 1), ('그래서', 7), ('치안이', 1), ('썩', 2), ('좋은', 7), ('편은', 2), ('저는', 10), ('학교에서', 7), ('좀', 7), ('거리가', 7), ('있는', 34), ('기차역이나', 1), ('버스정류장을', 1), ('주로', 16), ('이용했었어서', 1), ('다리밑을', 1), ('지나는데', 1), ('노숙자있고', 1), ('으스스해서', 1), ('분위기가', 3), ('쎄', 1), ('했습니다', 2), ('가까운', 10), ('기차역이', 2), ('있는데', 13), ('거기로', 1), ('통학하신다면', 1), ('큰', 13), ('문제는', 1)]\n"
    }
   ],
   "source": [
    "counted_bow = Counter(sample_univ_bow)\n",
    "counted_bow_tuple_list = list(Counter(counted_bow).items())\n",
    "print(counted_bow_tuple_list[:50])"
   ]
  },
  {
   "cell_type": "code",
   "execution_count": 63,
   "metadata": {},
   "outputs": [
    {
     "output_type": "execute_result",
     "data": {
      "text/plain": "['학교는', '아주', '작습니다', '학교라기보다는', '사무실', '건물같은', '크기입니다', '그나마', '파리', '구와']"
     },
     "metadata": {},
     "execution_count": 63
    }
   ],
   "source": [
    "# zipping deletes overlapping string items\n",
    "zipped_bow_words, bow_frequency_list = map(list, zip(*counted_bow_tuple_list))\n",
    "zipped_bow_words[:10]"
   ]
  },
  {
   "cell_type": "code",
   "execution_count": 64,
   "metadata": {},
   "outputs": [],
   "source": [
    "zipped_bow_words_subtracted = [item for item in zipped_bow_words if item not in stopwords]"
   ]
  },
  {
   "cell_type": "code",
   "execution_count": 65,
   "metadata": {
    "tags": []
   },
   "outputs": [
    {
     "output_type": "stream",
     "name": "stdout",
     "text": "2244\n"
    }
   ],
   "source": [
    "print(len(zipped_bow_words_subtracted))"
   ]
  },
  {
   "cell_type": "code",
   "execution_count": 66,
   "metadata": {
    "tags": []
   },
   "outputs": [
    {
     "output_type": "stream",
     "name": "stdout",
     "text": "['다녀왔는데', '걸어가면', '분야만', '일주일이나', '바이지만', '작고', '맞고', '졸업반', '아니므로', '날의', '날씨이며', '동네가', '다녀와서', '겨울이었습니다', '들려볼', '가까이에', '도시였다', '학원', '놓고', '힘들', '캠퍼스다', '중심지와는', '땐', '말해주신', '굴다리에', '라자르', '멀리에', '계속되어', '영미권으로', '느끼지는', '공', '외관을', '분야별로', '있다고는', '처음엔', '교내의', '호주', '가장자리에', '않는데', '조금더', '남쪽의', '월에', '동네는', '구부터', '지하철에서', '안에서', '한인마트', '몇개가', '어려움을', '어려웠습니다']\n"
    }
   ],
   "source": [
    "print(random.sample(zipped_bow_words_subtracted, 50))"
   ]
  },
  {
   "cell_type": "code",
   "execution_count": 74,
   "metadata": {},
   "outputs": [
    {
     "output_type": "execute_result",
     "data": {
      "text/plain": "'학교는 작습니다 학교라기보다는 사무실 건물같은 크기입니다 그나마 파리 구와 가까이 있기는 엄밀히 말하면 파리지역은 아닙니다 파리보다 북쪽인 외곽지역에 해당됩니다 치안이 썩 편은 거리가 기차역이나 버스정류장을 이용했었어서 다리밑을 지나는데 노숙자있고 으스스해서 분위기가 쎄 가까운 기차역이 거기로 통학하신다면 문제는 없으시겠지만 저처럼 타야하는 오후 수업은 시간표에 넣는걸 추천드리지 않아요 구에 거주하신다면 걸어서 정도일 가깝습니다 파업때는 걸어다니는 친구도 있었어요 겨울에는 해가 반에 지기 시작합니다 초에는 늦게도 떠있어서 좋았는데 막판에는 교통파업에 날씨도 어두컴컴해서 좋게 지내다 오지는 못한 정확히 옆 동네 르발루아 페레에 모르고 한복판에 숙소를 구했다가 원래 걸리는 거리를 파업 반씩 걸려서 다녔습니다 아닐 다닐만한 거리였습니다 자체는 오르막 내리막 없고 다니는 길이 좁으며 겨울은 비가 내리고 춥습니다 시내 끝자락에 위치해 구인데 붙어있는 수준입니다 호선 역에서 내려서 걸어가면 공사장 주변이고 지나야 굴다리에 노숙자들이 많아서 주변에 집을 구한 아니고 시내나 남부 유학생들은 거주합니다 살아서 지하철을 이용해야 한다면 생 라자르 선을 내리는 존이지만 학교까지 분도 걸립니다 대신 표를 낱장으로 사면 열차는 기차 개념이라서 티켓을 구매해야 해요 나비고나 이마지네 카드 사셔서 추가요금 등교하세요 엄청 작아요 건물이 개라는데 교환학생들의 개의 건물에서만 진행되고 건물들은 밥 먹으러 식당 가거나 국제처에 서류 받으러 가볼 때만 파리는 우리나라의 대학과 캠퍼스가 있지 대학들이 건물 몇개로 이루어져있죠 그렇기 광활하고 푸릇푸릇한 캠퍼스 기대하신다면 파리보다는 스위스나 호주 영미권으로 추천드려요 파리에서도 북쪽에 위치해있어요 통학을 했었고 옆에 마트가 있어요 거기서 친구들이랑 점심 사먹고 쇼핑도 그랬어요 기후는 가을학기보다는 봄학기에 좋으실 겨울에 낮이 무척 짧고 다섯시만 되어도 깜깜해져요 하늘도 칙칙해서 겨울보다는 길고 하늘이 예쁜 여름이 좋을거에요 봄 오시면 금방 월부터 날씨가 좋아져서 여름까지 쭉있으실 가을학기에 월이 지나면 겨울이 돼서 아쉬울수도 메인 하나와 도서관 건물로 이루어진 구 스튜디오가 근처에 도보로 분정도 통학하였는데 구로 버스가 지하철은 이용하기 번거로웠던 말에 파리에 도착했을 우리나라 겨울과 달리 스산하고 우중충한 겨울이었습니다 프랑스 대학들은 대학들과 다르게 몇개가 캠퍼스를 이루고있습니다 수업용 동아리방 블럭 거리에 위치합니다 학교의 위치는 구이지만 끝에 위치하고 경계 쯤에 보시면 보통 보다는 기차를 통학합니다 날씨는 월에 개강을 했는데 겨울이었기 추웠습니다 종강을 하던 쯤에는 급격히 더워져 따뜻한 날씨였습니다 바깥의 경계에 위치해있어서 시내쪽이랑은 역으로 역에 걸어가는 루트로 다녔구요 학교가 종합대학교가 그랑제꼴이다보니까 한국의 캠퍼스랑은 달라요 크기도 개가 전부인데 그마저도 수업이 진행되는 건물은 개이고 나머지 두개는 각각 도서관이랑 카페테리아 사용되는데 크기가 학생수도 크기에 맞춰진 규모라서 엄청나게 북적거리거나 정신없지는 않답니다 ㅎㅎ 시와 시의 존 파리에서 서쪽에 주변에서는 파리를 생각하면 떠오르는 대표적인 이미지를 찾아보기 힘들어요 파리가 워낙에 작기 앞에서 버스를 타면 분만에 오페라 역이나 개선문으로 경영 그랑제꼴이기 종합대학과는 시설이 강남에 해커스어학원처럼 생겼기 캠퍼스에서의 낭만같은 기대한다면 실망할지도 모릅니다 어울릴 장점이에요 걷거나 등교를 했구요 라인이 다녀서 라인으로 접근도 쉬웠습니다 크지 식당이랑 동아리방들이 개정도 총 이루어져 건물만 이용했습니다 구의 있긴 자체가 워낙 작아 돌아다니는 데 걱정하실 필요는 끝나고 오페라역 버스로 거리 한인마트 쇼핑을 남네요 갔을 때가 하필 유럽에서 이례적으로 추웠던 월이었습니다 당시 학기가 개강하기 영국 스위스를 다녀왔었는데 추웠고 방에도 라디에이터로 난방이 되어서 고생을 했던 나네요 말쯤 되니 점차 풀려서 걸으면서 여행하기 좋았던 걷기 도시라 여기저기 구경하는 재미도 쏠쏠하답니다 대학교입니다 대한민국 대학교들의 캠퍼스의 느낌은 찾아볼 학원 느낌의 외관을 분야만 다루는 대학교이기 크기는 않지만 내부 시스템은 갖추어져 위치해있고 지하철역과는 앞 버스 정류장에 여럿 다니니 참고해서 다니면 교환대학은 분야를 전문적으로 학교로 규모가 편에 속합니다 외곽과 인접한 곳이라 중심지와는 다소 행정구역상 존에 속하지만 실질적으로는 존과 존의 지하철 역은 이지만 지하철역과 사이에 통상 이용하는 더욱 편리합니다 지하철역 중에서는 편리했고 까지 한번에 시내로 나가기에 용이했습니다 교환학생들은 인근지역인 살면서 통학하는 부류와 중심지에 부류로 나뉘었습니다 대중교통을 중심까지 나가는 데에는 걸렸던 기억합니다 구성되어 우리에게 익숙한 개념으로는 학교보다는 학원에 크거나 랭킹이 뛰어난 대학은 미국이나 대학의 곳곳에 떨어져 개로 낭만은 누리지 못해도 건물에서 열리니 편한 있죠 주변 동네는 조용하고 안전한 부자 동네여서 좋았어요 땐 유난히 좋아서 월까지도 따뜻했어요 세개의 이뤄져있습니다 땅값이 비싸고 도시인 파리에선 한국이나 미국처럼 넓은 보기 힘듭니다 동과 동은 위치하지만 도보 분가량 떨어진 강의는 열리기 강의를 들으러 이리저리 뛰어다닐 염려는 안하셔도 한국보다 비는 오지만 겨울엔 덜 살짝 떨어지는 우산없이 맞아 파리의 낭만을 즐기는 방법이라고 교환대학의 실망할 약간 한국캠퍼스 분위기라고 몰이 주변에서 식사를하고 방과후에 활동을 오고 안떠서 우울하다고 도있지만 마저도 아름답습니다 언제 올지 모르기 우산은 챙겨다니는게 동네에 또는 선 그렇지만 소요되기 앞을 지나는 나라처럼 단독 건물이기 학원건물 처럼 개와 동아리실 열리고 건물에서는 드물게 열립니다 월까지 지냈는데 정도만 뜨기 월과 월을 제외하고는 쌀쌀한 날씨입니다 비도 오기 여름옷을 입은 적은 통틀어서 일정도밖에 되지 않았던 가을 겨울 날씨 그다지 동으로 건물들이 부지 모여 길가에 서 행정업무와 동아리 활동 쓰이고 이루어졌습니다 서북쪽 끝 그러니까 걸쳐져 지하철이나 통학하는데 가깝게 내릴 버스였던 있던 기간에는 좋지 않았습니다 내내 흐리고 자주와서 우중충했습니다만 날씨에 비하면 춥지는 월부터는 맑은 좋아지고 여름에는 덥지만 기본적으로 우리나라처럼 습하지 않기 견딜만합니다 사립대학교여서 그런지 캠퍼스라는 개념은 학부 가을학기가 시작할 때부터 이미 짧아지고 뜨는 날보다 날이 있는것이 떨어져있습니다 기대하고 당황스러울수도 파리에서의 교환학생생활은 학교에서의 경험이외에도 있음에 큰의미가 생각하기에 이에 중점을 맞추어 될것같습니다 가을학기였는데 따뜻하고 살기에 쾌적합니다 우리나라보다 가을비가 오긴하지만 큰문제가 되지는 연세대와 비교하면 개로만 건물들도 빌딩 빌딩에서 듣습니다 동네가 살기 가을학기 기준으로 대체적으로 좋았습니다 춥지 서북쪽에 학우들도 앞서 밝혔듯이 크기의 학교입니다 동의 인근에 밀집되어 이동 편리하며 각각의 건물도 교내의 백양관의 절반 작게 느껴졌습니다 게다가 하나의 듣게 중간중간 들지 교내처럼 캠퍼스로 구성되어있다기 주거단지와 인근 상업 단지 속 도로 딱히 실망하기도 했지만 교통 접근성 측면에서는 편하게 중심부와는 가야했습니다 서는 역으로부터는 정도의 걸렸습니다 중심부와 멀다하더라도 대도시들에 비해서는 상 연세대학교 대학이 씨앙스포만 해도 여러건물이 뿔뿔이 흩어져있구요 세개 안되지만 흩어져 파리와 외곽의 경계라고 보는게 맞겠네요 위치가 애매하다 지하철로는 걸로 아침에는 통근기차 외곽다니는 걸었구요 집에 번타고 환승하시거나 남쪽까지 내려가는 방법도 있구요 맨처음엔 밖이라 실망했는데 나중에는 딱 맞춰 앞에 쇼핑몰 생기면서 식당도 많아지고 중간중간에 쇼핑할 많아져서 좋다고 생각한 아시겠지만 이라 빌딩은 붙어 대학원 생라자르에서 버스를타고 오갈 시내가 수업이후 중심으로의 접근성도 분이내로 봄학기는 오리엔테이션을 시작으로 개강은 시작하였습니다 당시는 이상고온 현상으로 겨울임에도 불구하고 활동하기에도 문제가 없었습니다 많이오고 중순부터 화창해지는 활동하기 계속되어 도정도로 야외활동하기에 안성맞춤이었습니다 지역에 중심부인 걸리고 기차로 추위를 타는 편이라 출국할 극세사 전기 장판을 챙겨갔었습니다 프랑스는 중앙 난방과 난방으로 나뉘는데 난방의 난방비가 나오기 난방을 틀어주지 집주인들이 타시는 분들이라면 형태를 확인 하신 고르시고 난로나 전기장판등을 장만하시는 경영을 배우는 대학교라서 연세대학교와 종합 따라서 번과 들으시게 클리쉬 르발루아라는 곳인데 음산하고 무섭다는 보고서를 읽고 경계하면서 갔는데 위험하지는 다들 웬만한 거리는 이내에 지리적 여행하기에는 최적의 조건이라고 도시를 가더라도 파리로 오가는 루트는 마련되어 있다고도 중에서도 메가버스나 유로라인을 이용해 런던이나 벨기에 브뤼셀 만원도 안되는 저렴한 가격에 이동할 단점이 덥고 가을에는 선선합니다 한마디로 햇살이 내리쬘 행복하지요 우리대학에 연대 이대 기대하면 안됩니다 불릴만한 공간이 확보된 찾기 붙어있고 위치해있습니다 층 외곽을 경계짓는 순환도로상에 이루어지며 카페테리아는 빌딩에 외곽에 위치하는데 파리자체가 서울보다 작아서 시내를 다니는데에는 별 기차타고 분만 샹제리제 교통도 나쁘지 가을학기의 대체로 따뜻했습니다 월에는 좋다가 말 갑자기 특유의 회색날씨가 계속되었습니다 매일 내리기도 따뜻하긴 춥고 내려 두꺼운 옷이 필요합니다 연세대학교의 교정을 비교하신다면 실망하실 것이라 생각됩니다 경영만을 전문으로 그랑제꼴이라는 점을 감안하였을 경영대학이 하나로 작긴 개이나 만 학부생들을 위한 교실로 사용되고 관리실 동아리방으로 평소에는 많지 가장자리에 자리하고 주소는 있으나 실제로는 외곽이라고 보시는 정확할 보입니다 기차역도 통학하시는 무리가 생각되며 마치고 놀러 나가기에도 괜찮다고 존이 흔히 말하는 파리라고 생각하시면 서울에 빗대어 생각하자면 존은 일산이나 분당으로 서울크기의 분의 될만큼 작고 등등 다양하게 접근이 가능하해서 제일 추천하는 교통수단은 방향 방법인데 배차 간격도 파업이 이상 분정도이고 역까지 이고 기차역에서 강의실까지 걸으면 분에서 걸리신다고 경영대학으로 단과대학의 개념으로 크기를 상상하시면 외각에 가깝다고 외각이지만 크기여서 중심부까지 거리이다 이루어졌다 학교처럼 나름 건물을 자랑스러워하는 샘이다 일교차가 심하다 월에서 월까지는 아침 시까지 어둡고 조금씩 온다 자체의 모여서 되는데 붙어있지만 멀리에 하나당 크기밖에 도서관도 일반 강의실 하나랑 비슷해요 구하실 다니시려면 생라자르 메트로 노선과 연결된 곳으로 구하시는게 언급했던 시내와 비지니스 스쿨입니다 유럽에서는 캠퍼스에 편인데 비지니스로 특성화된 학교이기 보다 적고 프랑스에서 유명한 소르본 대학도 그닥 규모에 실망했다는 지하철역에서 버스도 멀지 시내에서 이동하기는 불편함이 메트로가 구석구석을 다니기에 안에서 이동은 예를 들어 파리에서는 지하철로 한시간 곳이든 많큼 온화한 편입니다 여름 구부터 구를 이루는 안이 이루고 캠퍼스와 개념이 학생동아리와 카페테리아가 건물이고 가시게 대부부의 시내에 아니지만 정액권 교통카드 나비고 덕분에 시내까지도 파견을 갔기 늦여름부터 겨울까지 지냈습니다 갔던 긴팔을 입어야될 잠깐동안 여름처럼 더워졌었구요 날씨와 비슷합니다 르발루와 걸쳐 전문 대학교들과 마찬가지로 도시이다 중심지까지 버스나 기차와 대중교통으로 여분이면 도착합니다 북서쪽 작으므로 끝에서 끝으로 간다고 하더라도 오래 걸리지는 저의 남쪽의 사는데 가까이에 산다면 상관이 없지만 메트로를 다음 갈아타게 기차가 버스보다 빠른 데다가 분마다 차가 있으므로 낫습니다 출구로 나오면 들어가서 차를 확인하고 거쳐 표는 회용 쓰는 펀칭하는 기계가 펀칭을 일주일이나 달 무제한으로 교통을 이용할 대학을 합쳐야 상경 경영학과 본관 작으며 유일하게 들과 카페테리아로 점심시간에 학생들로 붐비기 편이고 동아리방도 동아리에 가입되어 않다면 이루어지는 지하 층에서부터 지상 정도까지 장소가 불규칙적으로 바뀌는 많으니 층이나 인터넷으로 확인해보시는 듯 교직원 분들도 국제처 하시지 않는다면 불어밖에 사용하지 않으니 확실하셔야 강의들이 가끔 열리는 정도면 걸어가지만 사이는 소요됩니다 경영대학입니다 동아리방과 행정구역 아니랍니다 전교생의 절반이 교환학생이라고 어디든 가기가 기온은 나라보다 높은 겨울에도 영하로 드물지만 나라에 햇볕이 강하지 않아서 으슬으슬하게 추운 설명해 주셨지만 둘러싸고 외곽순환도로 격인 건너서 공식적인 도심에서 멀다면 멀다고 좁은 도시이기 느끼지는 살았는데 지하철이 가는데는 스케쥴을 집에서 나가면 출발해서 도착하기까지 분밖에 걸리지 않을 때도 학교앞 버스는 운이 좋으면 생라자르까지 밀리면 오페라까지 분이나 걸릴 배차간격이 정확하지 애용하지 지하철역은 인데 대학교에 캠퍼스다 전철역까지는 분넘게 걸어야돼서 통학의 어려움을 겪는다 정거장 되는곳에 살았지만 전철역 따지니 걸어다니는게 나아 통학했다 구할때 사는것도 좋지만 나같이 중간위치에 살면 학교도 가깝고 시내도 가깝기 때문이다 변덕스럽고 밤과 낮 기온 차이가 많이난다 오후에는 더할 나위 아름답고 밤에는 쌀쌀해지기도 비교적 뚜렷한 사계절을 요번 겨울처럼 시기에는 코트로도 부족하고 패딩을 입고 다녀야했다 변두리에 구성되어있고 하나가 개는 멀리 떨어져있지는 도시여서 중심부나 반대편에서 근처 역까지는 전철로 전철역에서 먼 학생들도 있었으나 교통은 편이 작지만 안에는 깨끗하고 대학보다는 고등학교의 느낌이 듭니다 작다고 들어서 크고 괜찮았습니다 커서 추울 코트 거 입는 사람들도 많았습니다 달이 유독 선선했다고는 옷도 챙겨가는 웬만하면 우산을 쓰니까 한국처럼 들고 다닐 으로써 채만이 학교이다 전용 교실이 졸업반 수업과 교수 사무실이 곳이다 존재하지 학원을 연상키는 모습이다 지리적으로 앞발은 외곽 순환 고속도로에 놓고 뒷발은 놓았으며 주소도 개이다 서울의 크기로 알찬 도시이며 대중교통이 발달했기 어려움은 구는 대사관과 국립고등음악학교 등이 부촌이고 돈 노년층이 공원은 구에서 공원이니 들려볼 영화 소설 속에서 묘사된 바와 잿빛 하늘과 변덕스러운 날씨로 알려져 따사로운 햇빛과 푸른 하늘을 만끽할 북서쪽인 위치한다 규모는 경영학과와 비슷하거나 조금더 연세대학교에 당연히 조그만 규모이고 학교이지만 학기동안 다니면서 작은규모의 경영학교라서 가질 네트워크적인 장점들도 발견할 서울과 비교했을 봄가을은 습하고 여름은 크다 시시때때로 가벼운 우울한 날씨일때도 많지만 날에는 자외선차단제와 썬그라스가 필수이다 여름에도 아침저녁은 쌀쌀하니 냉방이 서울처럼 빵빵하지 아우터를 챙기길 나누어져 합쳐 학관만하다고 고층으로 짓지 정도이고 몇개의 층만 빌려쓰는 형태라 학교자체는 개념 없다고 지리적인 완전 밖입니다 모기도 밤이면 선선하고 가을에도 해사 길어 활동하는데 지장이 짧아 우울합니다 대학건물만 채입니다 학생식당이 교수님들의 몇개와 강의실이 건물의 일부만 강의실입니다 크지않고 학생식당도 동아리들의 잦은 행사로 이용하지 서울로치면 외곽순환도로주변에 말그대로 놓여있습니다 정류장이 가깝지만 버스에 의존해서 통학하기에 파업도 잦고 스케줄도 들쑥날쑥합니다 타고와서 이용해서 오거나 나오는것이 시원하고 산뜻한 날씨이며 가을은 야외에서 돌아다니기 지속됩니다 나지 우중충합니다 학관만한 세동 남짓 낮아서 처음엔 찾기도 어려웠습니다 학교자체가 종합대학이 아니기 직원 교수진도 연대와 비교할 없을정도로 소규모이고 그에 규모나 교실도 적습니다 동아리방들과 어느정도 것들은 갖춰진 떠날때 즈음에 재건축 공사를 시작한 지리적으로는 외곽인 경계선 지하철과 통학할 반대편 구에서는 걸린다고 한국과 사계절이 뚜렷이 나타나는 날씨지만 여름에 습도는 낮고 태양열은 세고 옵니다 우선 번째 번째에서 학년 학생들의 열렸습니다 중심부에서는 규모의 비즈니스 페리페리끄라는 파리외곽지역과 시내지역을 가르는 도로경계에 위치해있으며 구쪽에 중심에 여행하기가 기차뿐만 저가항공사도 이용하면 편하고 빠르게 여행할 가을과 음울합니다 빛을 보기가 힘들고 회색구름 비 바람과 날의 연속입니다 이슬비가 내리기 다니지 않는데 햇빛이 없어서 실제 파리사람들은 불면증을 겪는다고 그대로 날들의 음울한 수많은 예술가들이 모이는 이유중 하나라고도 봄부터는 눈에 띄게 좋아지는데요 햇빛은 강하지만 습도가 높지 지내기에 월초에 도착했는데 난방방 힘들 하나는 선정이 되시면 소개 안내 책자를 받게 지하철에서는 절대 상대적으로 말해주신 대로 합쳐도 상대 하나도 안될만한 자치 공간이었고 이뤄졌습니다 지하와 즉 층으로 놀랐는데 층만을 사용하고 없다는 점도 놀랐습니다 개강날 흡연을 밖에서 삼삼오오 담배를 피는 모습은 놀라웠습니다 지역이지만 중심부에서 심한 특징인데 시작하는 저녁 시쯤에는 쌀쌀해진다 와서 얕은 비에는 쓰지 않거나 모자를 쓴다 우리나라와 비슷하다 구인 북서부에 도시인만큼 도심과도 겨울이었는데 온도가 낮지 않음에도 비와 눈이 체감적으로는 말까지도 덥지 쓰신 보고서마다 여러번 언급되었지만 독립적인 건물들의 작기때문에 강의실의 수를 우리학교 본관에 못 미칩니다 도로변에 띄엄띄엄 상가 건물이라 느껴지실겁니다 지하에 카페테리아와 방들이 이뤄집니다 파견되었을 사무실도 층에 전공 수업이나 건물입니다 수업마다 정해져 입구에 전광판으로 공지되기때문에 빌딩부터 들르는 사실은 경계로 앞문은 뒷문 외곽쪽에 그렇다 분이면 갈수 위치에 봄학기로 다녀와서 겨울을 보냈는데 월달부터는 오며 비슷할정도의 추위와 동반됩니다 이러한 월달까지 이어지다가 좋아집니다 월달 부터는 여름의 가까우며 밤 시정도부터 다녀오신 분들의 후기에서 작다 의견들을 접하고 갔는데도 막상 정말정말 작았습니다 왠만한 보습학원 듣는 강의실도 들어가보시면 학원강의실을 방불케 규모이구요 작겠거니 염두에 두시고 가시면 적응하는 무리는 유럽대학이 그러하듯이 있었지만 걷는 좋아해서 살았음에도 갔습니다 개선문을 지나서 걸어가는데 걸린 듯합니다 서초구보다 있다고는 도심과 차이는 방법 이용 걸어가거나 정류장에서 갑니다 번이나 번을 찾아 탑니다 다녀온 사람이면 누구나 바이지만 그중 둘은 전자는 행정실 등으로 쓰이는 후자 원칙적으로 제외한 학년의 진행되어야 부족할 진행되기도 북동쪽 끝부분 종합대학교에 나에게 실망스럽게도 아담했다 받는 실이 두개가 주된 합치면 연세대 학관 크기라고 변덕스러웠다 중순에 도착했던 월의 따쓰한 햇살속에 을씨년스러운 초겨울을 정도다 소나기도 자주내리기에 소나기는 맞고 다닌다 북쪽 지도 상으로는 있는듯 실제로 여의도 만하다고 앞의 중심가 다음으로 학교들 그랑제꼴들은 분야별로 전문화되어 있기에 크기면에서 도착한 방문했을 건물이라고는 믿기 규모였습니다 머물렀던 시기는 여름과는 변덕스럽습니다 매일같이 챙겨나녔고 나름대로의 또다른 분위기를 자그마한 사설 줍니다 심지어 도착해서 대학교가 어디인지 한참을 헤맸습니다 마주보고서 안쪽에 자리하지만 사무실들과 강의 장소이고 까페테리아와 동방들로 구성되어져 이번에 새로 생겨서 정도를 배당하는 같았습니다 안쪽으로 조금만 제법 세련된 현대식 공기는 유럽지역들에 떨어지지만 서울보다는 바람이 불어서 건조합니다 하루에도 번씩 변덕이 심하므로 사전에 챙겨서 외출하세요 여름엔 서울만큼 덥긴 끈적이지 그늘에 들어서면 시원합니다 곳곳의 가꿔진 공 대학교 배낭여행을 다녀왔는데 인상깊었던 파리였다 오기로 결심했는데 눈부시고 꽃들이 만발한 연인들이 키스를 낭만의 도시였다 몹시 추웠다 늦게 떠서 해를 않다 시작되면 사랑스러울 자리하는데 앞건물은 안이고 뒷건물은 파리시내가 아니다 멀지는 상상한 이상으로 작았다 선배의 작을 것이라고 예상했지만 이건 뭐 아파트의 상가만한 크기였다 사귀기가 쉬웠다고 서로가 서로를 가족적인 분위기였기 건물인데 프랑스식 학원같은 느낌입니다 빠리 중심지로 부터 대의 섭니다 날 어렵고 멀 거라고 지하철에서 번으로 갈아타셔도 되요 빠리의 흐린 두번씩 변하지만 다녀도 부슬비가 내리거나 그치는 대부분입니다 공기가 깨끗해서 좋고 날은 더할나위 맑아요 달랑 개를 그렇듯이 캠퍼스라기 단과 듯한 들 나가면은 샹제리제등 중심부에 도착할 중심부는 도시이고 대중 수단이 일반적으로 날씨를 생각하고 예상과는 달랐다 말씀하셨듯이 두개의 이루어져있습니다 당황했으나 유럽의 사립학교들이 우리가 생각하는것처럼 크지는 않더군요 사실상 두건물중 빠리에 있지는 내외이므로 불편은 빠리라는 있어도 얼마든지 삶을 영위 중심가와 좋아 학교앞에 버스정류장에서 생라자르역을 지나 오페라로 마들렌을 콩코드 몽빠르나스 편합니다 연결되었기 연세대학교를 다닐때 겪었던 불편함 지하철내려서 상대까지 가까운거리에 생라자르역까지 월은 시내중심까지 전부이다 학교다 문과대앞에 교수식당만한 개다 한개는 방으로 한개 진행된다고 햇빛보기가 힘들정도로 좋지않다 월까지라고 할정도로 봄에도 지속된다 학생수 경영대학 빠리를 위성도시들 하나인 본관보다 빠리는 북부의 네덜란드 독일 주변국과의 교통이 편리하다 내부의 철도 고속도로 항공망도 중심으로 되어있어 전역을 여행하기도 걸린다 더운 춥지만 변화가 겨울에서 중순까지는 흐린날이 대부분이고 계속된다고 페레르 르발로와 건물이며 분위기이다 도시가 아니므로 편이다 대략 도착 비슷하나 편이며 변덕스럽다'"
     },
     "metadata": {},
     "execution_count": 74
    }
   ],
   "source": [
    "summary = \" \".join(zipped_bow_words_subtracted)\n",
    "summary"
   ]
  },
  {
   "cell_type": "code",
   "execution_count": null,
   "metadata": {},
   "outputs": [],
   "source": [
    "summary"
   ]
  }
 ]
}