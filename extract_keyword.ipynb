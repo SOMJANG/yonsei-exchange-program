{
 "metadata": {
  "language_info": {
   "codemirror_mode": {
    "name": "ipython",
    "version": 3
   },
   "file_extension": ".py",
   "mimetype": "text/x-python",
   "name": "python",
   "nbconvert_exporter": "python",
   "pygments_lexer": "ipython3",
   "version": "3.8.3-final"
  },
  "orig_nbformat": 2,
  "kernelspec": {
   "name": "python38364bitnlpkorvenv03d7b81388604b8b8d7aed95a2d6b41b",
   "display_name": "Python 3.8.3 64-bit ('nlpkor': venv)"
  }
 },
 "nbformat": 4,
 "nbformat_minor": 2,
 "cells": [
  {
   "cell_type": "code",
   "execution_count": 1,
   "metadata": {},
   "outputs": [],
   "source": [
    "# 출력이 너무 길어지지 않게하기 위해 찍지 않도록 했으나 \n",
    "# 실제 학습 할 때는 아래 두 줄을 주석처리 하는 것을 권장한다.\n",
    "import warnings\n",
    "warnings.filterwarnings('ignore')"
   ]
  },
  {
   "cell_type": "code",
   "execution_count": 2,
   "metadata": {
    "tags": []
   },
   "outputs": [
    {
     "output_type": "stream",
     "name": "stdout",
     "text": "1.0.5\n1.18.5\n"
    }
   ],
   "source": [
    "import pandas as pd\n",
    "import numpy as np\n",
    "print(pd.__version__)\n",
    "print(np.__version__)"
   ]
  },
  {
   "cell_type": "code",
   "execution_count": 3,
   "metadata": {},
   "outputs": [],
   "source": [
    "# pandas 설정: 모든 row와 모든 column을 출력하게 하고, 각 column 별 출력되는 글자수는 50자 이내\n",
    "pd.set_option('display.max_rows', None, 'display.max_columns', None, 'display.max_colwidth', 50)"
   ]
  },
  {
   "cell_type": "code",
   "execution_count": 4,
   "metadata": {},
   "outputs": [
    {
     "output_type": "execute_result",
     "data": {
      "text/plain": "       대학코드                             대학명  \\\n0  AR000004        Universidad del Salvador   \n1  AU000019  Australian National University   \n2  AU000001                 Bond University   \n\n                                            gen_info  \\\n0  아르헨티나의 대다수 대학교는 한국처럼 캠퍼스가 있는 것이 아니라 도시 내에 몇개의 ...   \n1  ANU has a very big campus, but unlike Yonsei, ...   \n2  Bond대학교는 휴양지로 유명한 골드코스트에 위치해있습니다. 서퍼스 파라다이스, 브...   \n\n                                            env_info  \\\n0  대학교가 도시 여러곳에 분포하고 있으므로 각기 다르다. 하지만 남녀를 불문하고 부에...   \n1  The city center, called CIVIC, is 20min walk a...   \n2  학교 주변은 조용하고 깨끗한 평화로운 전원마을의 느낌입니다. 학교에서 5분정도 걸어...   \n\n                                           food_info  \\\n0  기숙사는 학교에서 제공하지 않고 두가지 옵션이 주어진다. 홈스테이 혹은 게스트 하우...   \n1  There are many housing options, but I chose to...   \n2  거주형태는 크게 On Campus와 Off Campus로 나뉩니다. 저는 기숙사에 ...   \n\n                                          study_info  \\\n0  아르헨티나에서의 대학 수업은 주로 오전 혹은 저녁에 있다. 대부분의 학생들이 일을하...   \n1  In my personal opinions, classes are generally...   \n2  수업은 보통 4개의 수업을 듣습니다. 저는 Chinese1, Australian p...   \n\n                                         office_info  \\\n0  EL SALVADOR대학교는 국제 교육부가 잘 되있는 학교이다. 아르헨티나 대학교들...   \n1  Overall, I did not have to ask for help much f...   \n2  교환생활 중 국제교육부와 연락할 일은 없었습니다. 교환학생을 가서 따로 국제교육부와...   \n\n                                          facil_info  \\\n0  부대시설로는 헬스장이 있다고 알고 있으나 시내와 먼 곳에 있었다. 동아리는 몇가지 ...   \n1  There were many clubs for you to join at ANU, ...   \n2  학기초에 동아리 박람회식으로 여러 동아리들의 부스가 세워집니다. 관심 있는 동아리에...   \n\n                                           mhct_info  \\\n0  딱히 컬쳐쇼크를 받을 만 한 요소는 없었던 것 같다. 하지만 처음에 언어적인 면에서...   \n1  I did have some culture shock during my first ...   \n2  특별히 culture shock이라기 보다는 정말 다양한 문화를 접하는 것 자체가 ...   \n\n                                           help_info  \\\n0  살바도르 대학교 국제처에서 비자문제나 숙소문제(홈스테이경우) 등은 해결해 주고, 특...   \n1  I was helped a lot, especially during the firs...   \n2  수업관련해서는 교수님께 질문을 해도 친절하게 알려주시고, 또 교내에 과제나 발표준비...   \n\n                                            etc_info  \n0                                                NaN  \n1  Overall, my stay in Australia has been nothing...  \n2  Bond와 그 동네를 생각하면 여유롭고 평화로웠던 분위기가 아직도 생생해요. 여기서...  ",
      "text/html": "<div>\n<style scoped>\n    .dataframe tbody tr th:only-of-type {\n        vertical-align: middle;\n    }\n\n    .dataframe tbody tr th {\n        vertical-align: top;\n    }\n\n    .dataframe thead th {\n        text-align: right;\n    }\n</style>\n<table border=\"1\" class=\"dataframe\">\n  <thead>\n    <tr style=\"text-align: right;\">\n      <th></th>\n      <th>대학코드</th>\n      <th>대학명</th>\n      <th>gen_info</th>\n      <th>env_info</th>\n      <th>food_info</th>\n      <th>study_info</th>\n      <th>office_info</th>\n      <th>facil_info</th>\n      <th>mhct_info</th>\n      <th>help_info</th>\n      <th>etc_info</th>\n    </tr>\n  </thead>\n  <tbody>\n    <tr>\n      <th>0</th>\n      <td>AR000004</td>\n      <td>Universidad del Salvador</td>\n      <td>아르헨티나의 대다수 대학교는 한국처럼 캠퍼스가 있는 것이 아니라 도시 내에 몇개의 ...</td>\n      <td>대학교가 도시 여러곳에 분포하고 있으므로 각기 다르다. 하지만 남녀를 불문하고 부에...</td>\n      <td>기숙사는 학교에서 제공하지 않고 두가지 옵션이 주어진다. 홈스테이 혹은 게스트 하우...</td>\n      <td>아르헨티나에서의 대학 수업은 주로 오전 혹은 저녁에 있다. 대부분의 학생들이 일을하...</td>\n      <td>EL SALVADOR대학교는 국제 교육부가 잘 되있는 학교이다. 아르헨티나 대학교들...</td>\n      <td>부대시설로는 헬스장이 있다고 알고 있으나 시내와 먼 곳에 있었다. 동아리는 몇가지 ...</td>\n      <td>딱히 컬쳐쇼크를 받을 만 한 요소는 없었던 것 같다. 하지만 처음에 언어적인 면에서...</td>\n      <td>살바도르 대학교 국제처에서 비자문제나 숙소문제(홈스테이경우) 등은 해결해 주고, 특...</td>\n      <td>NaN</td>\n    </tr>\n    <tr>\n      <th>1</th>\n      <td>AU000019</td>\n      <td>Australian National University</td>\n      <td>ANU has a very big campus, but unlike Yonsei, ...</td>\n      <td>The city center, called CIVIC, is 20min walk a...</td>\n      <td>There are many housing options, but I chose to...</td>\n      <td>In my personal opinions, classes are generally...</td>\n      <td>Overall, I did not have to ask for help much f...</td>\n      <td>There were many clubs for you to join at ANU, ...</td>\n      <td>I did have some culture shock during my first ...</td>\n      <td>I was helped a lot, especially during the firs...</td>\n      <td>Overall, my stay in Australia has been nothing...</td>\n    </tr>\n    <tr>\n      <th>2</th>\n      <td>AU000001</td>\n      <td>Bond University</td>\n      <td>Bond대학교는 휴양지로 유명한 골드코스트에 위치해있습니다. 서퍼스 파라다이스, 브...</td>\n      <td>학교 주변은 조용하고 깨끗한 평화로운 전원마을의 느낌입니다. 학교에서 5분정도 걸어...</td>\n      <td>거주형태는 크게 On Campus와 Off Campus로 나뉩니다. 저는 기숙사에 ...</td>\n      <td>수업은 보통 4개의 수업을 듣습니다. 저는 Chinese1, Australian p...</td>\n      <td>교환생활 중 국제교육부와 연락할 일은 없었습니다. 교환학생을 가서 따로 국제교육부와...</td>\n      <td>학기초에 동아리 박람회식으로 여러 동아리들의 부스가 세워집니다. 관심 있는 동아리에...</td>\n      <td>특별히 culture shock이라기 보다는 정말 다양한 문화를 접하는 것 자체가 ...</td>\n      <td>수업관련해서는 교수님께 질문을 해도 친절하게 알려주시고, 또 교내에 과제나 발표준비...</td>\n      <td>Bond와 그 동네를 생각하면 여유롭고 평화로웠던 분위기가 아직도 생생해요. 여기서...</td>\n    </tr>\n  </tbody>\n</table>\n</div>"
     },
     "metadata": {},
     "execution_count": 4
    }
   ],
   "source": [
    "# 위의 설정으로 간단하게 보는 df_specific\n",
    "df_specific = pd.read_csv(\"./data_wrangled/df_specific_wrangle.csv\", encoding=\"utf-8\")\n",
    "df_specific.head(3)"
   ]
  },
  {
   "cell_type": "code",
   "execution_count": 5,
   "metadata": {},
   "outputs": [
    {
     "output_type": "execute_result",
     "data": {
      "text/plain": "         대학코드                    대학명  \\\n467  US000273    Westminster College   \n468  US000274      Whitworth College   \n469  US000278  Wittenberg University   \n\n                                              gen_info  \\\n467  Westminster College는 미국 펜실베니아 주 북부에 있는 작은 마을, ...   \n468  내가 다녀온 교환대학은 Washington State 에 위치한 Whitworth ...   \n469  Wittenberg는 Ohio주의 작은 도시 Springfield에 위치해 있다. ...   \n\n                                              env_info  \\\n467  웨스트민스터가 위치한 뉴윌밍턴은 매우 작은 마을입니다. 마음만 먹으면 주말에 산책을...   \n468  Whitworth College는 Seattle에서 비행기로 40분 정도 떨어져 있...   \n469  Springfield의 downtown에는 우체국, 은행(huntington) 정도...   \n\n                                             food_info  \\\n467  제가 있던 학기에는 연세대학교에서 온 학생이 총 여학생 3명이어서 모두 같은 기숙사...   \n468  나는 Whitworth College에서 기숙사에 살았다. ISEP으로 가게 되면 ...   \n469  1,2학년과 국제학생들 (1년 이하로 있는 학생들)은 모두 기숙사에서 생활하게 된다...   \n\n                                            study_info  \\\n467  저는 한 학기 동안 5과목, 총 15학점을 들었습니다. 정치학 전공 Internat...   \n468  내가 미국에 가기 전에 가장 두려워했던 것은 바로 수업이었다. 어학연수와는 달리 교...   \n469  도서관은 Thomas library가 main이고 다른 단과대학 건물에 독서실이 있...   \n\n                                           office_info  \\\n467  웨스트민스터는 국제 학생의 수가 매우 적어서 국제교육부가 따로 있지는 않았습니다. ...   \n468  이 학교에서 내가 마음 편하게 지낼 수 있었던 것은 국제교육부 스텝들이 너무 따뜻하...   \n469  국제교류부는 Hollenbeck 건물 1층에 있는데, Joann 과 Betsy 두 ...   \n\n                                            facil_info  \\\n467  제가 가장 자주 이용했던 곳은 클럽룸입니다. 이곳은 맥켈비 센터 2층 구석에 있는 ...   \n468  기타 학교의 부대 시설로는 fitness center, music hall, soc...   \n469  Wittenberg의 가장 큰 장점. nWittenberg는 학비가 무척 비싼 학교...   \n\n                                             mhct_info  \\\n467  학교가 위치한 동네에서는 학교 학생들을 제외하면 거의 모든 주민이 백인이었습니다. ...   \n468                                                NaN   \n469  한국에서는 흔치 않은 gay, lesbian, transgender 등을 만날 수 ...   \n\n                                             help_info  \\\n467  학교 생활 중 가장 도움을 많이 받을 수 있었던 곳은 교목실의 Internation...   \n468                                                NaN   \n469  Wittenberg는 국제학생들에게 host family를 붙여준다. 비록 같이 살...   \n\n                                              etc_info  \n467  그림 같은 호수, 끝없이 넓은 하늘과 함께 따뜻한 단풍색으로 물든 웨스트민스터에서 ...  \n468  처음에 Whitworth College를 ISEP으로부터 배정 받았을 때 현실적으로...  \n469  이처럼 wittenberg는 시골에 있는 작은 학교지만 지리적인 위치로 인한 단점보...  ",
      "text/html": "<div>\n<style scoped>\n    .dataframe tbody tr th:only-of-type {\n        vertical-align: middle;\n    }\n\n    .dataframe tbody tr th {\n        vertical-align: top;\n    }\n\n    .dataframe thead th {\n        text-align: right;\n    }\n</style>\n<table border=\"1\" class=\"dataframe\">\n  <thead>\n    <tr style=\"text-align: right;\">\n      <th></th>\n      <th>대학코드</th>\n      <th>대학명</th>\n      <th>gen_info</th>\n      <th>env_info</th>\n      <th>food_info</th>\n      <th>study_info</th>\n      <th>office_info</th>\n      <th>facil_info</th>\n      <th>mhct_info</th>\n      <th>help_info</th>\n      <th>etc_info</th>\n    </tr>\n  </thead>\n  <tbody>\n    <tr>\n      <th>467</th>\n      <td>US000273</td>\n      <td>Westminster College</td>\n      <td>Westminster College는 미국 펜실베니아 주 북부에 있는 작은 마을, ...</td>\n      <td>웨스트민스터가 위치한 뉴윌밍턴은 매우 작은 마을입니다. 마음만 먹으면 주말에 산책을...</td>\n      <td>제가 있던 학기에는 연세대학교에서 온 학생이 총 여학생 3명이어서 모두 같은 기숙사...</td>\n      <td>저는 한 학기 동안 5과목, 총 15학점을 들었습니다. 정치학 전공 Internat...</td>\n      <td>웨스트민스터는 국제 학생의 수가 매우 적어서 국제교육부가 따로 있지는 않았습니다. ...</td>\n      <td>제가 가장 자주 이용했던 곳은 클럽룸입니다. 이곳은 맥켈비 센터 2층 구석에 있는 ...</td>\n      <td>학교가 위치한 동네에서는 학교 학생들을 제외하면 거의 모든 주민이 백인이었습니다. ...</td>\n      <td>학교 생활 중 가장 도움을 많이 받을 수 있었던 곳은 교목실의 Internation...</td>\n      <td>그림 같은 호수, 끝없이 넓은 하늘과 함께 따뜻한 단풍색으로 물든 웨스트민스터에서 ...</td>\n    </tr>\n    <tr>\n      <th>468</th>\n      <td>US000274</td>\n      <td>Whitworth College</td>\n      <td>내가 다녀온 교환대학은 Washington State 에 위치한 Whitworth ...</td>\n      <td>Whitworth College는 Seattle에서 비행기로 40분 정도 떨어져 있...</td>\n      <td>나는 Whitworth College에서 기숙사에 살았다. ISEP으로 가게 되면 ...</td>\n      <td>내가 미국에 가기 전에 가장 두려워했던 것은 바로 수업이었다. 어학연수와는 달리 교...</td>\n      <td>이 학교에서 내가 마음 편하게 지낼 수 있었던 것은 국제교육부 스텝들이 너무 따뜻하...</td>\n      <td>기타 학교의 부대 시설로는 fitness center, music hall, soc...</td>\n      <td>NaN</td>\n      <td>NaN</td>\n      <td>처음에 Whitworth College를 ISEP으로부터 배정 받았을 때 현실적으로...</td>\n    </tr>\n    <tr>\n      <th>469</th>\n      <td>US000278</td>\n      <td>Wittenberg University</td>\n      <td>Wittenberg는 Ohio주의 작은 도시 Springfield에 위치해 있다. ...</td>\n      <td>Springfield의 downtown에는 우체국, 은행(huntington) 정도...</td>\n      <td>1,2학년과 국제학생들 (1년 이하로 있는 학생들)은 모두 기숙사에서 생활하게 된다...</td>\n      <td>도서관은 Thomas library가 main이고 다른 단과대학 건물에 독서실이 있...</td>\n      <td>국제교류부는 Hollenbeck 건물 1층에 있는데, Joann 과 Betsy 두 ...</td>\n      <td>Wittenberg의 가장 큰 장점. nWittenberg는 학비가 무척 비싼 학교...</td>\n      <td>한국에서는 흔치 않은 gay, lesbian, transgender 등을 만날 수 ...</td>\n      <td>Wittenberg는 국제학생들에게 host family를 붙여준다. 비록 같이 살...</td>\n      <td>이처럼 wittenberg는 시골에 있는 작은 학교지만 지리적인 위치로 인한 단점보...</td>\n    </tr>\n  </tbody>\n</table>\n</div>"
     },
     "metadata": {},
     "execution_count": 5
    }
   ],
   "source": [
    "# 위의 설정으로 간단하게 보는 df_specific\n",
    "df_specific.tail(3)"
   ]
  },
  {
   "cell_type": "code",
   "execution_count": 6,
   "metadata": {},
   "outputs": [
    {
     "output_type": "execute_result",
     "data": {
      "text/plain": "(470, 11)"
     },
     "metadata": {},
     "execution_count": 6
    }
   ],
   "source": [
    "df_specific.shape"
   ]
  },
  {
   "cell_type": "code",
   "execution_count": 7,
   "metadata": {},
   "outputs": [],
   "source": [
    "# pandas 설정: 각 column 별 (혹은 한 cell에서) 출력되는 글자수 제한을 없애기\n",
    "pd.set_option('display.max_colwidth', None)"
   ]
  },
  {
   "cell_type": "code",
   "execution_count": 9,
   "metadata": {},
   "outputs": [],
   "source": [
    "column_data = \"gen_info\"\n",
    "univ_code = \"DK000003\""
   ]
  },
  {
   "cell_type": "code",
   "execution_count": 15,
   "metadata": {},
   "outputs": [],
   "source": [
    "import re\n",
    "# removing junks from the string data\n",
    "def remove_junk(str_data):\n",
    "    str_data = str_data.replace(\"\\\\\\\\n\", \"\")\n",
    "    str_data = str_data.replace(\"\\\\n\", \"\")\n",
    "    str_data = str_data.replace(\"\\n\", \"\")\n",
    "    str_data = str_data.replace(\"\\\\\", \"\")\n",
    "    str_data = str_data.replace(\"\\\\t\", \"\")\n",
    "    str_data = str_data.replace(\"NaN\", \"\")\n",
    "\n",
    "    # 한글, english 빼고 전부 날리기\n",
    "    # str_data = re.sub('[^가-힣ㄱ-ㅎㅏ-ㅣa-zA-Z|0-9|.,]', ' ', str_data)\n",
    "    str_data = re.sub('[^가-힣ㄱ-ㅎㅏ]', ' ', str_data)\n",
    "\n",
    "    # replace multiple spaces into single space\n",
    "    str_data = ' '.join(str_data.split())\n",
    "    return str_data"
   ]
  },
  {
   "cell_type": "code",
   "execution_count": 16,
   "metadata": {},
   "outputs": [],
   "source": [
    "def access_univ_info(dataframe, column, univ_code):\n",
    "    df_row = dataframe.loc[dataframe[\"대학코드\"] == univ_code]\n",
    "    str_univ_info = df_row[column].to_string(index=False).lstrip()\n",
    "    str_univ_info = remove_junk(str_univ_info)\n",
    "    return str_univ_info "
   ]
  },
  {
   "cell_type": "code",
   "execution_count": 17,
   "metadata": {},
   "outputs": [],
   "source": [
    "str_example = access_univ_info(df_specific, column_data, univ_code)"
   ]
  },
  {
   "cell_type": "code",
   "execution_count": 18,
   "metadata": {},
   "outputs": [],
   "source": [
    "# collecting all column values into one string\n",
    "def column_to_string(dataframe, column_name: str):\n",
    "    str_corpus = dataframe[column_name].to_string(index=False).lstrip()\n",
    "    str_corpus = remove_junk(str_corpus)\n",
    "    return str_corpus"
   ]
  },
  {
   "cell_type": "code",
   "execution_count": 19,
   "metadata": {
    "tags": []
   },
   "outputs": [
    {
     "output_type": "stream",
     "name": "stdout",
     "text": "글자수: 3985044\n"
    },
    {
     "output_type": "execute_result",
     "data": {
      "text/plain": "'아르헨티나의 대다수 대학교는 한국처럼 캠퍼스가 있는 것이 아니라 도시 내에 몇개의 건물이 대학교 건물이라서 수업에 맞는 건물로 수업을 들으러 가면 된다 도시의 대중교통이 꽤 잘 되어있기 때문에 출퇴근시간만 피한다면 편하게 다닐 수 있다 부에노스 아이레스는 여름에 도까지 올라가지만 건조한 편이어서 그늘아래 있거나 건물 안에 있으면 괜찮은 편이다 그래도 햇볓이 우리나라보다 강하므로 썬크림을 챙겨가는 것이 좋다 겨울에는 도 이하로 내려가는 날이 거의 없으나 바람이 불고 비 우박이 내릴 수 있으니 따뜻한 옷 몇 벌은 챙겨가는 것이 좋다 그리고 남반구에 있어 우리나라와 계절이 반대이다 는 이라는 캔버라에서 가장 중심이 되는 도심 부근에 위치하여 접근성이 좋습니다 캔버라가 시드니 멜버른에 비해 소도시라는 느낌이 강해 선호도가 낮은 듯 한데요 저 또한 퀸즐랜드가 지망이었습니다 학기를 지내며 아주 안전하고 깨끗하며 잘 만들어진 도시라는 인상을 받았습니다 행정수도라 거주하는 사람 중에 공무원이나 학교 관계자 비율이 높은 듯 하구요 따라서 생활수준이 높아 저 포함 친구들 또한 캔버라에서는 차별을 경험해본 적이 없습니다 굳이 비교하자면 송도와 흡사한 느낌이지요 다만 바다가 없기 때문에 기후는 타 도시에 비해서 건조한 편입니다 날씨는 한국에 비해 연교차가 적다는 느낌을 받았구요 호주 어디를 가든 날씨는 만족하실 거에요 연중 대부분이 야외활동 하기 좋은 날씨입니다 대학교는 상당히 넓은 편입니다 전공 수업을 듣다가 다른 단과대 건물로 이동하는게 쉽지는 않았습니다 시간표 짤 때 주의하시면 좋겠습니다 학교에서 센터까지는 그리 멀지 않습니다 걸어다니기 충분한 거리이고 밤에는 기숙사를 돌아주는 셔틀버스가 있는데 쪽에서 내리시면 쉽게 갈 수 있습니다 캔버라는 시드니와 멜버른 그 사이쯤에 있는데 시드니에서 조금 더 가깝습니다 시드니에서 시간 반 정도 버스를 타고 가야 합니다 다른 먼 지역 혹은 다른 나라로의 여행을 생각 중이시라면 시드니 쪽 대학을 추천드립니다 캔버라에도 공항이 있기는 하지만 비'"
     },
     "metadata": {},
     "execution_count": 19
    }
   ],
   "source": [
    "# collecting all column values into one string\n",
    "corpus = column_to_string(df_specific, column_data)\n",
    "print(\"글자수:\", len(corpus))\n",
    "corpus[:1000]"
   ]
  },
  {
   "cell_type": "code",
   "execution_count": null,
   "metadata": {},
   "outputs": [],
   "source": []
  },
  {
   "cell_type": "code",
   "execution_count": 25,
   "metadata": {},
   "outputs": [
    {
     "output_type": "execute_result",
     "data": {
      "text/plain": "['물론 술을 판매하는 곳은 다르지만..신입생, 교환학생들이 겪는 가장 큰 어려움은 교통이다',\n '대중교통은 거의 없다고 봐야 한다',\n '버스가 있긴 하지만 하루에 겨우 몇 대 정도이고 4시 이후정도에는 다니지 않는다고 했다',\n '그래서 많은 학생들이 차를 가지고 있다',\n '우유 하나를 사려고 해도 차를 타고 나가야 하는 것이다',\n '동부를 제외한 미국 대부분의 학교가 그렇다고 한다',\n '차를 타고 5분 정도만 가면 Mejier와 Walmart같은 큰 Shopping Mall이 있다',\n '생활용품이나 식품을 구입할 때 주로 이용한다',\n '그리고 옷을 사려면 가까운 Mall은 20분 정도의 거리, 큰 도시로 나간다면 40 50분을 가서 Columbus로 나간다',\n '실제로 그렇게 먼 곳은 아니지만 문제는 데려다줄...']"
     },
     "metadata": {},
     "execution_count": 25
    }
   ],
   "source": [
    "list_corpus = corpus.split(\". \")\n",
    "list_corpus[-10:]"
   ]
  },
  {
   "cell_type": "code",
   "execution_count": 50,
   "metadata": {},
   "outputs": [],
   "source": [
    "from krwordrank.word import KRWordRank\n",
    "\n",
    "min_count = 5\n",
    "max_length = 10 \n",
    "wordrank_extractor = KRWordRank(min_count=min_count, max_length=max_length)"
   ]
  },
  {
   "cell_type": "code",
   "execution_count": 51,
   "metadata": {},
   "outputs": [],
   "source": [
    "beta = 0.85    # PageRank의 decaying factor beta\n",
    "max_iter = 10\n",
    "keywords, rank, graph = wordrank_extractor.extract(list_corpus, beta, max_iter)\n"
   ]
  },
  {
   "cell_type": "code",
   "execution_count": 52,
   "metadata": {},
   "outputs": [],
   "source": [
    "stopwords = []"
   ]
  },
  {
   "cell_type": "code",
   "execution_count": 53,
   "metadata": {},
   "outputs": [],
   "source": [
    "for word, r in sorted(keywords.items(), key=lambda x:x[1], reverse=True)[:50]:\n",
    "    stopwords.append(word)"
   ]
  },
  {
   "cell_type": "code",
   "execution_count": 54,
   "metadata": {},
   "outputs": [
    {
     "output_type": "execute_result",
     "data": {
      "text/plain": "['있습니다',\n '있는',\n '학교',\n '있다',\n '많이',\n '때문에',\n '있어',\n '대학',\n '있고',\n '주변',\n '타고',\n '버스',\n '캠퍼스',\n '그리고',\n '정도',\n '매우',\n '작은',\n '같은',\n '도시',\n '가면',\n '거리에',\n 'of',\n '하지만',\n '정말',\n '쇼핑',\n '한국',\n '등이',\n '가장',\n '많은',\n '학생',\n '바로',\n '위치',\n '주로',\n '음식',\n '근처에',\n '자주',\n '곳이',\n 'the',\n '걸어서',\n '저는',\n '또한',\n '다른',\n '이용',\n '시내',\n '것이',\n '조금',\n 'and',\n '곳에',\n '좋은',\n '거의']"
     },
     "metadata": {},
     "execution_count": 54
    }
   ],
   "source": [
    "stopwords"
   ]
  },
  {
   "cell_type": "code",
   "execution_count": 57,
   "metadata": {},
   "outputs": [],
   "source": [
    "list_example = str_example.split(\". \")\n",
    "keywords, rank, graph = wordrank_extractor.extract(list_example, beta, max_iter)"
   ]
  },
  {
   "cell_type": "code",
   "execution_count": 58,
   "metadata": {
    "tags": []
   },
   "outputs": [
    {
     "output_type": "stream",
     "name": "stdout",
     "text": "있습니다:\t9.0880\n      있는:\t8.5675\n     캠퍼스:\t7.9165\n    코펜하겐:\t7.7360\n      시내:\t7.0872\n  Amager:\t4.0024\n      도시:\t3.7887\n     그리고:\t3.6745\n     때문에:\t3.6342\n      대학:\t3.3185\n      주변:\t3.3103\n      제가:\t3.2913\n      있어:\t3.1867\n      위치:\t2.9451\n      가장:\t2.7768\n Islands:\t2.7041\n     있고,:\t2.6481\n    City:\t2.6424\n      정말:\t2.6299\n  garden:\t2.6141\n      저는:\t2.5521\n      중심:\t2.4290\n      같은:\t2.4061\n     근처에:\t2.4003\n      많이:\t2.3399\n      학교:\t2.3120\n      건물:\t2.2658\n     수업을:\t2.2586\n     CSS:\t2.1397\n     the:\t2.0898\n  Campus:\t2.0238\n  Brygge:\t1.9401\n      매우:\t1.9022\n     for:\t1.8596\n     인문대:\t1.8444\n      바로:\t1.8072\n Kongens:\t1.6859\n   metro:\t1.6408\n     위에서:\t1.6385\n     자전거:\t1.6381\n      곳에:\t1.6266\n    좋습니다:\t1.6076\n      조금:\t1.5994\n      가는:\t1.5344\n      좋은:\t1.5244\nFrederiksberg:\t1.4925\n      주로:\t1.4805\n      있기:\t1.4421\n      거리:\t1.4203\n      타고:\t1.3782\n"
    }
   ],
   "source": [
    "for word, r in sorted(keywords.items(), key=lambda x:x[1], reverse=True)[:50]:\n",
    "        print('%8s:\\t%.4f' % (word, r))"
   ]
  },
  {
   "cell_type": "code",
   "execution_count": 59,
   "metadata": {},
   "outputs": [],
   "source": [
    "keywords_list = []"
   ]
  },
  {
   "cell_type": "code",
   "execution_count": 60,
   "metadata": {
    "tags": []
   },
   "outputs": [],
   "source": [
    "for word, r in sorted(keywords.items(), key=lambda x:x[1], reverse=True)[:50]:\n",
    "        keywords_list.append(word)"
   ]
  },
  {
   "cell_type": "code",
   "execution_count": 61,
   "metadata": {},
   "outputs": [
    {
     "output_type": "execute_result",
     "data": {
      "text/plain": "['코펜하겐',\n 'Amager',\n '제가',\n 'Islands',\n '있고,',\n 'City',\n 'garden',\n '중심',\n '건물',\n '수업을',\n 'CSS',\n 'Campus',\n 'Brygge',\n 'for',\n '인문대',\n 'Kongens',\n 'metro',\n '위에서',\n '자전거',\n '좋습니다',\n '가는',\n 'Frederiksberg',\n '있기',\n '거리']"
     },
     "metadata": {},
     "execution_count": 61
    }
   ],
   "source": [
    "res = [i for i in keywords_list if i not in stopwords] \n",
    "res"
   ]
  },
  {
   "cell_type": "code",
   "execution_count": null,
   "metadata": {},
   "outputs": [],
   "source": []
  },
  {
   "cell_type": "code",
   "execution_count": null,
   "metadata": {},
   "outputs": [],
   "source": []
  },
  {
   "cell_type": "markdown",
   "metadata": {},
   "source": [
    "## Tokenizing with soynlp"
   ]
  },
  {
   "cell_type": "code",
   "execution_count": 15,
   "metadata": {},
   "outputs": [
    {
     "output_type": "execute_result",
     "data": {
      "text/plain": "<soynlp.tokenizer._tokenizer.RegexTokenizer at 0x106ab91f0>"
     },
     "metadata": {},
     "execution_count": 15
    }
   ],
   "source": [
    "# https://github.com/lovit/soynlp\n",
    "from soynlp.tokenizer import RegexTokenizer\n",
    "\n",
    "tokenizer = RegexTokenizer()\n",
    "tokenizer"
   ]
  },
  {
   "cell_type": "code",
   "execution_count": 16,
   "metadata": {},
   "outputs": [
    {
     "output_type": "execute_result",
     "data": {
      "text/plain": "['대학교가', '도시', '여러곳에', '분포하고', '있으므로', '각기', '다르다', '하지만', '남녀를', '불문하고']"
     },
     "metadata": {},
     "execution_count": 16
    }
   ],
   "source": [
    "tokenized_corpus = tokenizer.tokenize(corpus)\n",
    "tokenized_corpus[:10]"
   ]
  },
  {
   "cell_type": "code",
   "execution_count": 17,
   "metadata": {
    "tags": []
   },
   "outputs": [
    {
     "output_type": "stream",
     "name": "stdout",
     "text": "969822\n"
    }
   ],
   "source": [
    "print(len(tokenized_corpus))"
   ]
  },
  {
   "cell_type": "code",
   "execution_count": 18,
   "metadata": {},
   "outputs": [],
   "source": [
    "# df_column = df_specific[df_specific[column_data].notnull()]\n",
    "df_column = df_specific[column_data].fillna(\"\")"
   ]
  },
  {
   "cell_type": "code",
   "execution_count": 19,
   "metadata": {},
   "outputs": [
    {
     "output_type": "execute_result",
     "data": {
      "text/plain": "0                                                                                                                                                                                                                                                                                                                                                                                                                                                                                                                                                                                                                                                                                                                                                                                                                                                                                                                                                                                                                                                                                                                                                                                                                                                                                                                                                                                                                                                                                                                                                                                                                                                                                                                                                                                                                                                                                                                                                                                                                                                                                                                                                                                                                                                                                                                                                                                                                                                                                                                                                                                                                                                                                                                                                                                                                                                                                                                                                                                                                                                                                                                                                                                                                                                                                                                                                                                                                                                                                                                                                                                                                                                                                                                                                                                                                                                                                                                                                                                                                                                                                                                                                                                                                                                                                                                                                                                                                                                                                                                                                                                                                                                                                                                                                                                                                                                                                                                                                                                                                                                                                                                                                                                                                                                                                                                                                                                                                                                                                                                                                                                                                                                                                                                                                                                                                                                                                                                                                                                                                                                                                                                                                                                                                                                                                                                                                                                                                                                                                                                                                                                                                                                                                                                                                                                                                                                                                                                                                                                                                                                                                                                                                                                                                                                                                                                                                                                                                                                                                                                                                                                                                                                                                                                                                                                                                                                                                                                                                                                                                                                                                                                                                                                                                                                                                                                                                                                                                                                                                                                                                                                                                                                                                                                                                                                                                                                                                                                                                                                                                                                                                                                                                                                                                 대학교가 도시 여러곳에 분포하고 있으므로 각기 다르다. 하지만 남녀를 불문하고 부에노스 아이레스에서 밤에 혼자 다니는 것은 위험하다. 낮에는 대체적으로 사람들이 많이 다니므로 위험하지 않지만 외진곳은 피하는 것이 좋다. n학교 건물 주변에 편의점이나 공원등이 곳곳이 있으므로 공강시 이용이 편리하다.\n1    The city center, called CIVIC, is 20min walk away from the campus. It's a very nice walk. The streets aren't that crowded and there are a wide range of restaurants in Civic that you can choose, ranging from Mexican, Chinese, American, etc. In Civic there are IKEA, Coles (go-to mall for grocery shopping) and other fashion stores like Cotton On, H&M, etc. Nightclub in Canberra is great, and students' night is every Thursday, not Friday or Saturday. ANU has a very nice responsible drinking cult... 캠퍼스 자체는 자연입니다. 정문에서 걸어서 10분 정도면 Centre라고 생긴지 얼마 안된 큰 쇼핑센터가 있구요. 마트, 영화관, 클럽 등 전부 가까워요. 물론 캔버라 자체가 작은 도시입니다만, 그래서 기숙사에만 거주하신다면 대중교통을 거의 이용할 필요 없다는 장점이 있습니다. 행정 수도기 때문에 웬만한 것은 다 갖추어져있기도 하구요. 또 Burley Griffin이라는 커다란 인공 호수와 아주 가까운데요. 정말 아름다운 호수입니다. 조깅, 자전거 라이딩 도로를 따라 내려가면 작은 들판이 나오는데요 거기서 보았던 노을은 평생 잊을 수 없을 듯 합니다. 대학교 주변에 센터가 있고, 그 곳에 술집과 영화관, 카페 등이 있지만 거기를 빼고는 사실 놀거리가 많지는 않습니다. 연세대 주변 환경과는 거의 반대라는 점 감안하시고 가시길 바랍니다. 자연을 좋아하시고 고요함을 즐기시는 분들께 추천드립니다. Commonwealth park라는 공원이 호수가 굉장히 크고 좋아서 추천드립니다. 정말 깨끗하고 아름다운데 사람도 많지 않아서 정말 좋습니다. Mount Ainslie라는 곳도 추천드립니다. Fenner hall에서 2-30분 걸어가면 되는데요, 나무들도 멋있고, 경치도 좋고, 무엇보다 말로만 듣던 캥거루들이 풀을 뜯고 있습니다. 캥거루들이 정말 많이 있는데 우리 같은 것도 없이 볼 수 있습니다. 너무 가까이 가지 않는 이상 공격은 하지 않습니다. Botanic garden과 Old Bus Depot Markets도 추천드립니다. 화려한 것들은 많이 없지만 최대한 열심히 찾아서 다니시길 바래요ㅎㅎ 한국 돌아오니까 그런 자연들이 너무 그... 캔버라는 사실 번화한 도시가 아닙니다. 호주의 수도이지만 정말 수도의 역할만 합니다. 시드니가 뉴욕이라면 캔버라는 워싱턴 같은 곳이죠! 학교에서 1키로정도에 캔버라 가장 중심부인 시내가 있습니다. 쇼핑몰도 있고, 한국 코인노래방도있고 (비싸지만) 음식점도 꽤나 많습니다. 하지만 별다른 놀거리는 크게 없습니다! 저는 막 화려한 밤문화를 좋아하지 않아서 만족했지만 TV에서 생각하던 유학생들의 화려한 삶을 꿈꾼다면 좀 실망하실수도있습니다. 목요일은 클럽이 무료입장입니다. 큰 쇼핑몰 말고는 별거 없습니다. 필요한건 웬만큼은 다 있습니다. ANU에서 Civic까지는 걸어서 10~15분 정도로 아주 가까우며, 대학 주변에 양식을 비롯해 여러 아시아(한국, 중국, 일본, 베트남, 말레이시아) 식당들이 위치해있습니다. 참고로 한인마트가 대학에 정말 가깝게 위치해있습니다. 캔버라 센터에서 걸어서 15분 정도로 중심에서 멀지 않은 곳에 위치해있습니다. 하지만 캔버라 자체가 매우 고요하고 한적하여 서울처럼 붐비거나 재밌는 night life를 기대할 순 없습니다. 저는 한적한 시골분위기를 좋아하시는 분이라면 캔버라 생활에 잘 적응하실 수 있다고 생각합니다. 학교에서는 조금 떨어져 있으나 버스를 타고 가면 Commonwealth park가 있는데 호수를 따라 산책하는 것을 즐겨했습니다. Braddon, Canberra central에서 주로 수업 끝나고 친구들과 식사를 하거나 쇼핑, 식료품을 사러 나갔습니다. 차가 있는 친구를 만난다면 Belconnen이나 Mitchell, Kingston을 가기도 하였는데 특별한 것은 없습니다. 캔버라에서 가장 유명한 것은 Australian War Memorial인 것 같습니다. 또한 National Arboretum, Botanic garden이나 National gallery도 시간 날 때 심심하다면 방문하실... 캔버라 중심 시내가 학교 근처에 있어요. 그런데 사실 식당이며 뭐며 별거 없어요. 캔버라 자체가 일단 큰 도시가 아니고 행정도시이기때문에, 행정건물같은 사무실이 많고 놀만한 곳이나 그런 곳은 기대하지 않는 것이 좋아요. 공부하기에는 최적의 환경입니다. 센터 말고도 시내라고 불릴 수 있는 곳들이 몇 군데 있긴 한데 나머지는 다 버스타고 다녀야하는 조금은 먼 곳에 위치해 있어요. 그러나 대형마트, 음식점, 한인마트 등등 정도는 주변에 있습니다. 학교 주변에 걸어서 한 10분? 정도에 캔버라 센터가 있는데 그 안에 생활에 필요한 대부분의 용품은 다 살 수 있습니다. 아마 캔버라에서 사람 가장 많은 곳 중에 하나일 것 같네요. 그 안에 콜스 있는데 이마트나 홈플러스 같은 엄청 큰 마트이구요 그 외에도 센터 안에 엄청 많습니다. 건물이 우리나라처럼 높게 위로 솟아 있지 않고 넓게 퍼져 있어서 걷다 보면 어느새 들어온 입구와는 아예 다른 곳으로 나와 있는 자신을 발견할 수 있습니다. 캔버라가 워낙 작은 도시여서 갈만한 것들 오밀조밀하게 다 모여 있습니다. 캔버라 센터 주변으로 식당이나 카페 다 몰려 있고요 센터 주변 살짝만 벗어나도 진짜 황량합니다. 한번은 도시 탐험한다고 여기저기 돌아다녀봤는데 별것도 없고 더럽게 춥기만 했습니다. ANU 자체가 캔버라 중심에 위치하고 있기 때문에 생활하는데는 딱히 불편함이 없었습니다.시내 중심가를 Civic이라고 부르는데, 그곳에 식당, 쇼핑몰, 도서관, 영화관 등 모든 시설들이 모여있습니다. 한인식당에 가보지는 않았지만, 한인식당도 4군데 정도 있었고, 한인마트도 civic에 kim's grocery, 학교 앞 uni pub 건물에 e-mart 라는 곳들이 있는데 그곳에서 한국음식들을 사먹고 한국으로 택배도 부칠수 있습니다. kinloch lodge에 아시안마켓이 있으나 한국음식보다는 중국이나 동남아 음식이 많았기 때문에 자주 이용하지는 않았습니다. 학교 바로옆에 Black Mountain, Griffin Lake 등이 있어서 주말에 친구들과 산책을 나가기도 하였습니다. One thing about ANU is that I always felt quite safe despite being in a completely new country. This was due to the school's strict provisions of campus safety facilities, such as an ANU distress call app, ANU Security Patrols, and most significantly the campus shuttle buses that you could call to take you from one place to another in the evenings or during the day. This not only provided easy and free transport from one spot of the campus to another, but also allows for you to stay out late... 걸어서 15분 정도 거리에 Civic이라 불리는 번화가가 있으나, 캠퍼스 근처에는 편의시설이 거의 없고 한산합니다. 주변에 녹지가 많고 Burley griffin이라는 큰 호수와 인접하고 있어 산책하기는 매우 좋습니다. 캠퍼스에서 10 - 15분 정도 걸으면 Civic이라 불리는 중심부에 닿을 수 있는데, 이곳에는 각종 행정기관 건물들과 상점들이 모여 있습니다. Civic의 중심부에는 Canberra Centre라는 쇼핑몰이 위치하고 있는데, Supabarn과 Aldi라는 슈퍼마켓이 입점해 있어 식료품 구입은 항상 이곳에서 했습니다. Civic을 제외하고는 이렇다 할 건물은 없고, 대부분이 거주지 혹은 공원 등입니다. 또한 대학 주변, 그리고 캔버라 전체에 자전거 도로가 아주 잘 정리되어 있습니다. 특히 뒤에서 또 얘기하겠지만 캠퍼스에 떨어진 기숙사에서 살았기 때문에 등교할 때도 항상 자전거를 타곤 했는데, 거의 대부분의 도로에 자전거 도로가 따로 있으며, 자전거를 타고 다니는 사람이 아주 많기 때문에 승용차 운전자들도 이에 익숙해 항상 먼저 길을 양보해 주는 등 자전거를 타기 정말 좋은 환경입니다. 위에서도 말했듯이 학교 주변에 엄청나게 큰 호수와 블랙마운틴이라는 낮지만 넓은 산과 보타닉가든이 인접해 있기 때문에 주변 환경이 아름답습니다. 또한 교정뿐만이 아니라 캔버라의 모든 건물이 낮기 때문에 탁 트여 있는 느낌을 받을 수 있습니다.캔버라는 계획도시이니만큼 자전거도로가 정말 매우 잘되어 있습니다. 자전거만 타고도 캔버라를 일주할 수 있을 정도로 정말 차도 별로 없고 자전거 도로는 잘 되어 있으며, 정말 거의 다 평지이기 때문에 자전거를 꼭 구매하시는 것을 추천합니다. 제가 ANU에서 가장 좋았던 경험이 자전거를 실컷 탈 수 있었다는 점입니다. 하지만 도둑이 꽤 많기 때문에 기숙사에 들어가기 전에는 기숙사에 정해진 자전거보관소에 꼭 넣으세요. 밖에 두면 자물쇠 끊고 가져가는 일이 종종 있습니다. 자전거는 중고로 사시는 것을 추천드립니다. ANU 페이스북 페이지 중에 하나인 플리마켓과 같은 페이지에서 싸게는 80달러에서 비싸게는 200달러로 사실 수 있습니다.또 특별 ANU입구에서 15분 거리에 civic이 있는데 나름 번화가, 중심거리입니다. 신촌에 비하면 정말 초라하기 때문에 여기가 제일 번화한 곳이라는 말을 들으며 직접 눈으로 보면 충격 받을 수 있습니다. civic의 중심 캔버라 센터에 음식 재료, 생활용품을 비롯하여 옷이나 가전제품까지 다 구비되어있습니다. 안에 음식점도 꽤 있고 이 센터를 중심으로 바깥쪽에 여러 음식점, 카페들이 몰려있으며 센터 안에 DENDY라고 하는 영화관도 있습니다. 다만 이 모든 것들이 금요일을 제외하면 5시면 거의 다 문을 닫기 때문에 아침 형 인간이 되는 것이 캔버라에선 편할 것입니다. 한국마트가 학교 앞과 civic근처로 2개가 있어서 웬만한 한국 음식들(라면, 김치, 한국산 생활용품들)을 쉽게 구할 수 있습니다. 한국음식점도 두, 세 개 있는데 가격이 많이 비쌉니다. 학교내에서도 은행이나 간단히 먹을 것은 해결할 수 있지만 주로 civic을 나갑니다. 기숙사에서 보통 20~40분 정도 걸어나가거나 자전거가 있으면 10분내외로 나갔다가 올수 있습니다. 자전거가 있으면 정말 편한데 civic에서 조금더 나가면 크게 호수가 있고 그 밑으로 간단하게 여행 다닐 만한 곳도 많이 있습니다. 캠퍼스에서 15분 정도 걸으면 Canberra Centre가 있는데 거기에 필요한 가게들은 다 있습니다. 식료품이나 생필품들을 모두 거기서 쉽게 구입할 수 있습니다. coles나 woolworths같이 유명한 슈퍼마켓들은 버스타고 한 20분정도 가야 나오는 Belconnen이란 곳에 있습니다. 그곳의 물건들이 조금 더 싸긴 하지만 차가 있지 않은 이상 ANU 대부분 학생들은 Canberra Centre을 애용합니다. 캠퍼스 주변에서 다른 동네로 가는 버스를 탈 수 있으므로 차를 빌려 타지 않아도 쉽게 갈 수 있습니다. 대부분의 장보기와 쇼핑은 캠퍼스에서 약 15~20분 정도 떨어져있는 CIVIC 센터에서 이루어집니다. 씨빅 센터 안에 각종 슈퍼와 상점이 많기 때문에 필수품은 없는게 없을 정도일 겁니다. 캔버라가 작은 도시이다 보니 주변에 먹고 놀 수 있는 시설이 많지 않습니다. 각종 bar 나 식당도 나중에 여러번 가게되어 익숙해질 정도이니... ANU가 위치한 캔버라 자체는 그리 활기찬 곳이 아닙니다. 계획도시다 보니 있을 건 다 있지만 특별히 구경할 거리는 많지 않습니다. 다만 ANU가 캔버라 중심가인 Civic에 바로 붙어 있기에 교내 기숙사에 거주한다면 생활 자체는 상당히 편리합니다. 구경거리로는 국회의사당, 박물관, 블랙마운틴 등이 있습니다. 여러가지 식당, 술집, 클럽등은 Civic에서 어렵지 않게 찾아볼수 있습니다. 하지만 월화수요일은 술집들조차 상당히 일찍 문을 닫습니다. 대도시에 비하면 썰렁하다고 할수있지만 건물 3개로 이어진 쇼핑센터가 있어 쇼핑,장보기등 생활하는데는 지장이 없습니다.학교를 끼고 큰 강가가 있어 친구들과 조깅을 나가기도하고 산책도 갈 수 있습니다.나름 놀 수 있는 환경도 있긴합니다 ..^^ ANU 캠퍼스에서 5분정도만 걸어 나가면 바로 도심으로 갈 수 있습니다. 캔버라에서 가장 번화한 곳입니다. 캔버라 센터같은 쇼핑센터에서 웬만한 물품들은 다 구할 수 있고, 주변의 깔끔한 식당들에서 식사를 할 수도 있습니다. 또 캠퍼스가 워낙 크기 때문에 캠퍼스를 따라 한참 걷다 보면 그리핀 호수도 볼 수 있습니다. 안타깝게도 캔버라는 대도시가 아니라 행정적 수도인 측면이 강하기 때문에, 대학 주변 환경은 Canberra Centre(도심)를 제외하고는 번화가가 전무하다고 해도 과언이 아닙니다. 대도시인 시드니까지는 버스로 4시간, 멜버른까지는 버스로 8시간 정도 걸리는 위치입니다. 캔버라 주위에는 아름다운 산인 Black Mountain과 인공호수인 Griffin Lake등이 있어 자연환경은 대단히 아름다운 도시입니다. 캔버라는 시드니와 달리 상당히 한적함이 느껴지는 도시입니다. 다행히 ANU는 도시 중심부인 Civic 가까이에 위치하고 있지만 Civic도 다른 대도시의 번화가와 비교하면 아담하게 느껴지는 편입니다. 두 개의 한인 마트와 번듯한 쇼핑 센터도 있어서 생활에 불편한 점은 없었지만 번잡한 도시 생활을 기대한다면 실망스럽게 느껴질 수 있습니다. 개인적으로는 어느 정도의 도시다움과 한적함을 모두 느낄 수 있어서 만족스러웠습니다.UniLodge나 Toad Hall 등의 기숙사에 거주한다면 10분이면 걸어서 쇼핑 센터에 도착할 수 있습니다. 백화점을 비롯해 푸드코트, 3달러샵, 상당히 좋은 가격대의 물건을 갖춘 ALDI 슈퍼마켓 등이 위치해 있기 때문에 호주 어느 곳보다도 편하고 저렴하게 장을 볼 수 있습니다. 그 이외의 기숙사에 거주한다면 자전거를 구입하는 것을 추천합니다. 저는 자전거를 사본 적이 없지만 교내 샵에서 구매하려면 상당히 비싸기 때문에 학기 초의 중고 제품 판매를 노려보는... 캔버라는 굉장히 조용하며, 공부하기에 좋을 수도 있고 때로는 심심할 수도 있는 곳입니다. 수도를 위해 만들어진 계획 도시답게 공공기관, 정부기관, 대학교가 거의 전부라고 할 수 있습니다. 예를 들면 Botanic Garden, National Gallery, National Library, War Memorial, 국회의사당이 있고, 따라서 관광도시라고 하기는 어렵습니다. 대신 시드니와 멜번에 비교적 가까이 위치하며 버스를 이용하여 갈 수 있어, 학생들은 주말이나 방학 동안 시드니와 멜번에 (그리 비싸지 않은 비용으로)쉽게 놀러 갔다 오곤 합니다. 캔버라라는 도시 자체 안에 Acton, Fishwick, Gangalin 등의 여러 지역이 포함되어 있는데, 다른 지역에 큰 쇼핑센터나 맛집 등이 있는 게 전부입니다. 지역간 이동은 차가 있는 친구에게 도움을 받거나 주로 버스를 이용하는데, 서울에서처럼 버스가 짧은 간격으로 많이 오지 않으니 반드시 구글에서 시간표와 위치를 확인하여... 도보로 20분 정도 거리에 Civic 이라는 번화가가 있습니다.nCivic 중심에는 Canberra Center 라는 멀티플렉스가 있고, 쇼핑이나 문화생활 등은 주로 이곳에서 하게 됩니다.nn캠퍼스 근처에 한국인 식당과 식료품점 등이 있어서, 한국음식이 그리운 분들은 이용하셔도 좋습니다. 저는 특히, E-mart 라는 한국 식료품점을 자주 찾았는데, 한국의 왠만한 소형 슈퍼마켓보다 다양한 품목들을 구비하고 있습니다. 아주머님들도 친절하시고, 가격도 호주 내 다른 마트에 비하면 저렴해서 외국인 친구들도 아주 좋아했습니다. 혹시 가게 되시면 제 안부를 꼭 전해주세요 학교 내 편의시설은 Union Court라는 학관과 같은 곳에 밀집해 있습니다. Union Court에는 각종 식당, 우체국, 미용실, 카페, Bar, 약국, 슈퍼마켓 등이 위치해 있습니다. Union Court 옆에는 간단한 진료를 받을 수 있는 교내 의료센터와, 피트니스 센터, 농구장, 풋살장, 테니스장, 축구장 등을 갖춘 체육시설이 있습니다. n 도보로 10분 정도 거리에 IGA 같은 대형슈퍼마켓과 한인식료품점들이 자리하고 있고, 그 주변에 한인식당을 포함한 여러 식당들이 있습니다. 조금 더 걸어, 도보 20분 정도 거리에는 영화관과 쇼핑몰은 갖춘 Canberra Centre가 있어 학교의 위치는 상당히 좋은 편입니다. 시드니와 멜번처럼 크고 화려하지는 않지만 학생들이 이용할 만한 젊은 분위기의 술집과 클럽도 학교주변에 3~4 군데 정도 있습니다. n 솔직히 캔버라는 대도시에 비해 심심한 편입니다. 그러나 자연이 가장 잘 보존되어 있는 지역중 하나이기 때문에 야생... 캔버라는 정말 주위가 황량합니다. 대학과 공공기관 말고는 크게 볼 거리도, 할 것도 많이 없어서 대도시의 활기와 즐길 거리를 선호하시는 분들은 많이들 심심해하십니다. 캔버라에 있는 것은 National Gallery, 국회의사당, 국립 박물관, 국립 도서관 정도가 대표적입니다만, 시드니와 멜버른에 있는 관광지들을 생각해보았을 떄 관광 명소로서는 크게 매력이 없는 곳들이라고 보여집니다. 국립 도서관의 경우 직접 가 보았으나 국립 도서관이라고 말하기 민망할 정도로 작은 규모와, 많은 곳을 오픈하지 않거나 일반인에게 공개하지 않는다는 점을 생각해 봤을때 ANU내부 도서관(ANU에는 중앙 도서관 외에도 전공 서적별로 도서들을 여러 도서관 건물에 분배해 놓았습니다)순회가 차라리 나을 것 같습니다. 다만 National Gallery에서는 가끔 굉장히 훌륭한 전시회를 하므로 홈페이지에서 체크하여 관심있는 전시가 열릴 때 가 보는 것도 좋습니다. 제가 교환학생으로 파견되었을 당시에는 툴르...\nName: env_info, dtype: object"
     },
     "metadata": {},
     "execution_count": 19
    }
   ],
   "source": [
    "df_column.head(2)"
   ]
  },
  {
   "cell_type": "code",
   "execution_count": 20,
   "metadata": {
    "tags": []
   },
   "outputs": [
    {
     "output_type": "stream",
     "name": "stdout",
     "text": "CPU times: user 4.74 s, sys: 27.6 ms, total: 4.76 s\nWall time: 4.77 s\n"
    }
   ],
   "source": [
    "%time df_tokens = df_column.apply(tokenizer.tokenize)"
   ]
  },
  {
   "cell_type": "code",
   "execution_count": 25,
   "metadata": {},
   "outputs": [
    {
     "output_type": "execute_result",
     "data": {
      "text/plain": "0                                                                                                                                                                                                                                                                                                                                                       [대학교가, 도시, 여러곳에, 분포하고, 있으므로, 각기, 다르다, ., 하지만, 남녀를, 불문하고, 부에노스, 아이레스에서, 밤에, 혼자, 다니는, 것은, 위험하다, ., 낮에는, 대체적으로, 사람들이, 많이, 다니므로, 위험하지, 않지만, 외진곳은, 피하는, 것이, 좋다, ., n, 학교, 건물, 주변에, 편의점이나, 공원등이, 곳곳이, 있으므로, 공강시, 이용이, 편리하다, .]\n1    [The, city, center, ,, called, CIVIC, ,, is, 20, min, walk, away, from, the, campus, ., It's, a, very, nice, walk, ., The, streets, aren, ', t, that, crowded, and, there, are, a, wide, range, of, restaurants, in, Civic, that, you, can, choos, e, ,, ranging, from, Mexican, ,, Chines, e, ,, American, ,, etc, ., In, Civic, there, are, IKEA, ,, Coles, (, go, -, to, mall, for, grocery, shopping, ), and, other, fas, hion, stores, like, Cotton, On, ,, H, &, M, ,, etc, ., Nightclub, in, Canberra, is, great, ,, and, students, ', night, is, every, Thurs, ...]\nName: env_info, dtype: object"
     },
     "metadata": {},
     "execution_count": 25
    }
   ],
   "source": [
    "df_tokens[0:2]"
   ]
  },
  {
   "cell_type": "code",
   "execution_count": null,
   "metadata": {},
   "outputs": [],
   "source": []
  },
  {
   "cell_type": "code",
   "execution_count": null,
   "metadata": {},
   "outputs": [],
   "source": []
  },
  {
   "cell_type": "code",
   "execution_count": 45,
   "metadata": {},
   "outputs": [],
   "source": [
    "stopwords_kr = ['하지만', '그리고', '그런데', '저는','제가',\n",
    "                '그럼', '이런', '저런', '합니다',\n",
    "                '많은', '많이', '정말', '너무'] "
   ]
  },
  {
   "cell_type": "code",
   "execution_count": 46,
   "metadata": {},
   "outputs": [],
   "source": [
    "# https://github.com/lovit/soynlp\n",
    "from soynlp.noun import LRNounExtractor"
   ]
  },
  {
   "cell_type": "code",
   "execution_count": 47,
   "metadata": {
    "tags": []
   },
   "outputs": [
    {
     "output_type": "stream",
     "name": "stdout",
     "text": "[Noun Extractor] used default noun predictor; Sejong corpus predictor\n[Noun Extractor] used noun_predictor_sejong\n[Noun Extractor] All 2398 r features was loaded\n[Noun Extractor] scanning was done (L,R) has (1244, 0) tokens\n[Noun Extractor] building L-R graph was done\n[Noun Extractor] 0 nouns are extracted\nCPU times: user 26.3 s, sys: 432 ms, total: 26.8 s\nWall time: 26.9 s\n"
    }
   ],
   "source": [
    "%%time\n",
    "noun_extractor = LRNounExtractor(verbose=True)\n",
    "noun_extractor.train(corpus)\n",
    "nouns = noun_extractor.extract()"
   ]
  },
  {
   "cell_type": "code",
   "execution_count": 49,
   "metadata": {},
   "outputs": [
    {
     "output_type": "execute_result",
     "data": {
      "text/plain": "{}"
     },
     "metadata": {},
     "execution_count": 49
    }
   ],
   "source": []
  },
  {
   "cell_type": "code",
   "execution_count": null,
   "metadata": {},
   "outputs": [],
   "source": []
  }
 ]
}