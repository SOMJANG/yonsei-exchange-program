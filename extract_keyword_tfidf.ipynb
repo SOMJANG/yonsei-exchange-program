{
 "metadata": {
  "language_info": {
   "codemirror_mode": {
    "name": "ipython",
    "version": 3
   },
   "file_extension": ".py",
   "mimetype": "text/x-python",
   "name": "python",
   "nbconvert_exporter": "python",
   "pygments_lexer": "ipython3",
   "version": "3.8.3-final"
  },
  "orig_nbformat": 2,
  "kernelspec": {
   "name": "python38364bitnlpkorvenv03d7b81388604b8b8d7aed95a2d6b41b",
   "display_name": "Python 3.8.3 64-bit ('nlpkor': venv)"
  }
 },
 "nbformat": 4,
 "nbformat_minor": 2,
 "cells": [
  {
   "cell_type": "code",
   "execution_count": 1,
   "metadata": {},
   "outputs": [],
   "source": [
    "import pandas as pd\n",
    "import numpy as np\n",
    "pd.options.mode.chained_assignment = None\n",
    "np.random.seed(0)\n",
    "\n",
    "from konlpy.tag import Okt\n",
    "twitter = Okt()\n",
    "\n",
    "from sklearn.feature_extraction.text import TfidfVectorizer, CountVectorizer\n",
    "from sklearn.metrics.pairwise import linear_kernel, cosine_similarity\n",
    "\n",
    "# tokenizer : 문장에서 색인어 추출을 위해 명사,동사,알파벳,숫자 정도의 단어만 뽑아서 normalization, stemming 처리하도록 함\n",
    "# tokenizer : 문장에서 색인어 추출을 위해 명사,동사,알파벳,숫자 정도의 단어만 뽑아서 normalization, stemming 처리하도록 함\n",
    "def tokenizer(raw, pos=[\"Noun\",\"Alpha\",\"Verb\",\"Number\"], stopword=[]):\n",
    "    return [\n",
    "        word for word, tag in twitter.pos(\n",
    "            raw, \n",
    "            norm=True,   # normalize 그랰ㅋㅋ -> 그래ㅋㅋ\n",
    "            stem=True    # stemming 바뀌나->바뀌다\n",
    "            )\n",
    "            if len(word) > 1 and tag in pos and word not in stopword\n",
    "        ]"
   ]
  },
  {
   "cell_type": "code",
   "execution_count": 2,
   "metadata": {},
   "outputs": [],
   "source": [
    "SOURCE = \"./data/univ_text_data\"\n",
    "SOURCE_ABSTRACT = \"./data/abstract\"\n",
    "SOURCE_SPECIFIC = \"./data/specific\"\n",
    "SOURCE_BERT = \"data_sentiment/abstract_bert\""
   ]
  },
  {
   "cell_type": "code",
   "execution_count": 3,
   "metadata": {},
   "outputs": [
    {
     "output_type": "execute_result",
     "data": {
      "text/plain": "                                             gen_info  \\\n26  캠퍼스가 도시 여러군데 흩어져 있지만 각 캠퍼스의 도서관이나 시설을 사용할수있어 어...   \n27  코펜하겐대학교는 코펜하겐의 유일한 종합대학입니다. 규모도 정말 크고요. 대학 캠퍼스...   \n48  코펜하겐 대학교는 캠퍼스와 도시가 구분되어 있는 미국식 학교와 달리 도시 곳곳에 대...   \n22  The university has several campuses, all of la...   \n30  코펜하겐 대학교는 많은 유럽의 대학들과 비슷하게 각 학부대학이 도시 곳곳에 흩어져 ...   \n\n                                             env_info  \\\n26  Islands Brygge 에 있는 KUA는 강이 근처에 있고 자전거로 15~20분...   \n27  저는 사회학과가 소속된 사회과학대와 영화과가 있는 인문대 캠퍼스에서 수업을 들었습니...   \n48  위에서 언급했다시피 코펜하겐 대학은 코펜하겐 시 이곳 저곳에 퍼져있습니다. 때문에 ...   \n22  An ideal location very near a major metro/trai...   \n30  저희 사회대학은 도심과 조금 떨어져있어서 주변환경에 대해 말씀드리기가 어렵네요 ㅎㅎ...   \n\n                                            food_info  \\\n26  Housing Foundation 을 통해서 찾은 집이 좀 비쌌고 겐토프트라고 코픈...   \n27  독일, 스웨덴, 노르웨이 등 말이 조금은 통하고 덴마크 가까이에 있는 국가에서 온 ...   \n48  저는 Signalhuset이라는 아파트 형태의 Flat에서 살았습니다. 집은 코펜하...   \n22  Even with the help of the university of copenh...   \n30  저는 정말 특이한 케이스로... 기숙사를 너무 늦게 신청해서 배정을 못받았습니다! ...   \n\n                                           study_info  \\\n26  도서관은 다른 대학 도서관들과 연결되어 빌릴 수 있는 책들이 아주 많았습니다. 수업...   \n27  수업을 총 30학점 들을 수 있는데, 신기한 점은 학부 수업은 대부분 한 과목에 1...   \n48  코펜하겐에서 제공하는 수업의 질은 최상이라고 감히 자부할 수 있습니다. 영어수업의 ...   \n22  Classes were conducted in English and students...   \n30  제가 있던 Film & Media는 학부대학에 영어 수업이 없어서 저는 대학원 수업...   \n\n                                          office_info  \\\n26  여러나라 곳곳에서 온 사람들 뿐만아니라 대학원생들과 수업을 할 수 있는 환경을 마련...   \n27  학생증을 찾을 때를 제외하고는 방문한 적이 없습니다. 문제가 생겨도 왠만한 용건은 ...   \n48  코펜하겐 대학의 international office는 시내 캠퍼스에 위치하고 있습...   \n22  I am not sure what is asked in this section. I...   \n30  도심에 International Office가 있는데 처음에 덴마크 도착해서 한 번...   \n\n                                           facil_info  \\\n26  저는 동아리는 아니지만 코픈하겐에서 만난 대학원생 언니 오빠들과 The Chambe...   \n27  Studenterhuset이라는 시내 중심부에 위치한 카페/바가 있는데, 이곳은 코...   \n48  동아리 정보는 모르겠습니다. 멘토 친구 말로는 있기도 하다는데, 활성화 되지 않았는...   \n22  The univerisity culture is not very strong as ...   \n30  동아리는 딱히 활성화 되어있지 않은 것 같습니다. 주변에서 동아리 든 사람을 못 봤...   \n\n                                            mhct_info  \\\n26                 전혀 없었습니다! 완전 자유롭고 여유롭고 Hygge 했습니다.   \n27                                             없었습니다.   \n48  ''다름''의 범위에서 벗어난 생활양식을 갖고 있다고 할 수는 없었기 때문에, 딱히...   \n22  I did not experience any shocks but there are ...   \n30  저는 기숙사에 살지 않아서 딱히 컬쳐쇼크는 없었습니다. 하지만 기숙사 사는 일부 친...   \n\n                                            help_info  \\\n26  저는 교환학생들을 주도하는 QA 멘토들에게서 도움을 많이 받았고 수업에 관한 문제는...   \n27  각 단과대마다 시스템이 다르지만 기본적으로 교환학생들을 위한 멘토 프로그램이 마련되...   \n48  교내에서는 멘토 프로그램이 있습니다. 하지만 실질적으로 도움이 되는 멘토를 찾기는 ...   \n22  International House in CopenhagenYour mentor/ ...   \n30  가기 전에 학교측에서 멘토와 연결을 시켜줍니다. 그 멘토가 좋은 멘토라면 생활적으로...   \n\n                                             etc_info  \n26  Acroyoga, orienteering 등 학교 밖에서 여러가지 활동들이 있어 이...  \n27  코펜하겐은 작고 조용한 도시입니다. 하지만 한 국가의 수도이니만큼 공연이나 영화제,...  \n48  제가 코펜하겐에 가있는 동안에는 다양한 국제 행사가 열려서 무척 좋았습니다. UN ...  \n22                                                NaN  \n30  여기선 이제 코펜하겐으로 떠나시는 분들이 꼭 알아두셨으면 하는 것들을 써보려고 합니...  ",
      "text/html": "<div>\n<style scoped>\n    .dataframe tbody tr th:only-of-type {\n        vertical-align: middle;\n    }\n\n    .dataframe tbody tr th {\n        vertical-align: top;\n    }\n\n    .dataframe thead th {\n        text-align: right;\n    }\n</style>\n<table border=\"1\" class=\"dataframe\">\n  <thead>\n    <tr style=\"text-align: right;\">\n      <th></th>\n      <th>gen_info</th>\n      <th>env_info</th>\n      <th>food_info</th>\n      <th>study_info</th>\n      <th>office_info</th>\n      <th>facil_info</th>\n      <th>mhct_info</th>\n      <th>help_info</th>\n      <th>etc_info</th>\n    </tr>\n  </thead>\n  <tbody>\n    <tr>\n      <th>26</th>\n      <td>캠퍼스가 도시 여러군데 흩어져 있지만 각 캠퍼스의 도서관이나 시설을 사용할수있어 어...</td>\n      <td>Islands Brygge 에 있는 KUA는 강이 근처에 있고 자전거로 15~20분...</td>\n      <td>Housing Foundation 을 통해서 찾은 집이 좀 비쌌고 겐토프트라고 코픈...</td>\n      <td>도서관은 다른 대학 도서관들과 연결되어 빌릴 수 있는 책들이 아주 많았습니다. 수업...</td>\n      <td>여러나라 곳곳에서 온 사람들 뿐만아니라 대학원생들과 수업을 할 수 있는 환경을 마련...</td>\n      <td>저는 동아리는 아니지만 코픈하겐에서 만난 대학원생 언니 오빠들과 The Chambe...</td>\n      <td>전혀 없었습니다! 완전 자유롭고 여유롭고 Hygge 했습니다.</td>\n      <td>저는 교환학생들을 주도하는 QA 멘토들에게서 도움을 많이 받았고 수업에 관한 문제는...</td>\n      <td>Acroyoga, orienteering 등 학교 밖에서 여러가지 활동들이 있어 이...</td>\n    </tr>\n    <tr>\n      <th>27</th>\n      <td>코펜하겐대학교는 코펜하겐의 유일한 종합대학입니다. 규모도 정말 크고요. 대학 캠퍼스...</td>\n      <td>저는 사회학과가 소속된 사회과학대와 영화과가 있는 인문대 캠퍼스에서 수업을 들었습니...</td>\n      <td>독일, 스웨덴, 노르웨이 등 말이 조금은 통하고 덴마크 가까이에 있는 국가에서 온 ...</td>\n      <td>수업을 총 30학점 들을 수 있는데, 신기한 점은 학부 수업은 대부분 한 과목에 1...</td>\n      <td>학생증을 찾을 때를 제외하고는 방문한 적이 없습니다. 문제가 생겨도 왠만한 용건은 ...</td>\n      <td>Studenterhuset이라는 시내 중심부에 위치한 카페/바가 있는데, 이곳은 코...</td>\n      <td>없었습니다.</td>\n      <td>각 단과대마다 시스템이 다르지만 기본적으로 교환학생들을 위한 멘토 프로그램이 마련되...</td>\n      <td>코펜하겐은 작고 조용한 도시입니다. 하지만 한 국가의 수도이니만큼 공연이나 영화제,...</td>\n    </tr>\n    <tr>\n      <th>48</th>\n      <td>코펜하겐 대학교는 캠퍼스와 도시가 구분되어 있는 미국식 학교와 달리 도시 곳곳에 대...</td>\n      <td>위에서 언급했다시피 코펜하겐 대학은 코펜하겐 시 이곳 저곳에 퍼져있습니다. 때문에 ...</td>\n      <td>저는 Signalhuset이라는 아파트 형태의 Flat에서 살았습니다. 집은 코펜하...</td>\n      <td>코펜하겐에서 제공하는 수업의 질은 최상이라고 감히 자부할 수 있습니다. 영어수업의 ...</td>\n      <td>코펜하겐 대학의 international office는 시내 캠퍼스에 위치하고 있습...</td>\n      <td>동아리 정보는 모르겠습니다. 멘토 친구 말로는 있기도 하다는데, 활성화 되지 않았는...</td>\n      <td>''다름''의 범위에서 벗어난 생활양식을 갖고 있다고 할 수는 없었기 때문에, 딱히...</td>\n      <td>교내에서는 멘토 프로그램이 있습니다. 하지만 실질적으로 도움이 되는 멘토를 찾기는 ...</td>\n      <td>제가 코펜하겐에 가있는 동안에는 다양한 국제 행사가 열려서 무척 좋았습니다. UN ...</td>\n    </tr>\n    <tr>\n      <th>22</th>\n      <td>The university has several campuses, all of la...</td>\n      <td>An ideal location very near a major metro/trai...</td>\n      <td>Even with the help of the university of copenh...</td>\n      <td>Classes were conducted in English and students...</td>\n      <td>I am not sure what is asked in this section. I...</td>\n      <td>The univerisity culture is not very strong as ...</td>\n      <td>I did not experience any shocks but there are ...</td>\n      <td>International House in CopenhagenYour mentor/ ...</td>\n      <td>NaN</td>\n    </tr>\n    <tr>\n      <th>30</th>\n      <td>코펜하겐 대학교는 많은 유럽의 대학들과 비슷하게 각 학부대학이 도시 곳곳에 흩어져 ...</td>\n      <td>저희 사회대학은 도심과 조금 떨어져있어서 주변환경에 대해 말씀드리기가 어렵네요 ㅎㅎ...</td>\n      <td>저는 정말 특이한 케이스로... 기숙사를 너무 늦게 신청해서 배정을 못받았습니다! ...</td>\n      <td>제가 있던 Film &amp; Media는 학부대학에 영어 수업이 없어서 저는 대학원 수업...</td>\n      <td>도심에 International Office가 있는데 처음에 덴마크 도착해서 한 번...</td>\n      <td>동아리는 딱히 활성화 되어있지 않은 것 같습니다. 주변에서 동아리 든 사람을 못 봤...</td>\n      <td>저는 기숙사에 살지 않아서 딱히 컬쳐쇼크는 없었습니다. 하지만 기숙사 사는 일부 친...</td>\n      <td>가기 전에 학교측에서 멘토와 연결을 시켜줍니다. 그 멘토가 좋은 멘토라면 생활적으로...</td>\n      <td>여기선 이제 코펜하겐으로 떠나시는 분들이 꼭 알아두셨으면 하는 것들을 써보려고 합니...</td>\n    </tr>\n  </tbody>\n</table>\n</div>"
     },
     "metadata": {},
     "execution_count": 3
    }
   ],
   "source": [
    "df_sample = pd.read_csv(f\"{SOURCE_SPECIFIC}/DK000003_reviews_specific.csv\", encoding=\"utf-8\")\n",
    "df_sample.sample(5)"
   ]
  },
  {
   "cell_type": "code",
   "execution_count": 10,
   "metadata": {},
   "outputs": [
    {
     "output_type": "execute_result",
     "data": {
      "text/plain": "['gen_info',\n 'env_info',\n 'food_info',\n 'study_info',\n 'office_info',\n 'facil_info',\n 'mhct_info',\n 'help_info',\n 'etc_info']"
     },
     "metadata": {},
     "execution_count": 10
    }
   ],
   "source": [
    "df_sample.columns.to_list()"
   ]
  },
  {
   "cell_type": "code",
   "execution_count": 11,
   "metadata": {
    "tags": []
   },
   "outputs": [
    {
     "output_type": "stream",
     "name": "stdout",
     "text": "3600\n"
    },
    {
     "output_type": "execute_result",
     "data": {
      "text/plain": "' 코펜하겐 대학교는 자연과학캠퍼스, 인문캠퍼스 등 코펜하겐 시내 곳곳에 흩어져 있습니... 한국의 일반적인 대학들과 달리 코펜하겐 대학교는 도시 곳곳에 소규모로 캠퍼스가 여러... 저는 경제학과여서 코펜하겐 대학교 CSS 캠퍼스를 이용했는데 Norreport 역 ... 저는 시내 중심에 있는 사회과학대학교 캠퍼스와 islands brygge 역(아마지... 코펜하겐 대학교는 일단 4개의 캠퍼스로 구성되어 있습니다. 저는 그 중에서도 언론홍... 저는 경제학과라 CSS에서 공부하였습니다. 한국이랑 다르게 캠퍼스가 단과대별로 도시... 저희 정치외교학과가 있던 캠퍼스는 CSS였는데, 코펜하겐에서 가장 번화가라고 할 수... 코펜하겐 대학교는 총 네 개의 캠퍼스로 구성되어 있습니다. 각각의 캠퍼스가 모두 분... 코펜하겐은 덴마크의 수도임에도 불구하고 굉장히 작은 도시입니다. 도시 북쪽에서 남쪽... 저는 코펜하겐 대학교 인문대에서 모든 수업을 들었는데요, 인문대는 꽤 크고 코펜하겐... 1. 교환대학의 크기와 지리적 위치코펜하겐 대학은 학부나 과에 따라 다양한 캠퍼스들... 코펜하겐 대학의 캠퍼스는 도시 곳곳에 흩어져 있는데, 저는 봄학기에는 문과대학이 위... 북유럽에서 가장 큰 학교라고 들었던것 같기도 하네요. 굉장히 많은 학과가 있고, 한... 코펜하겐 대학은 저희 학교처럼 한 곳에 모든 건물이 있는 것이 아니라 도시 곳곳에 ... 한국의 종합대학들과 달리 코펜하겐 대학교는 몇몇 단과대 단위로 캠퍼스가 나뉘어 있기... 575만 인구의 덴마크에서 59만 사람들이 살고있는 수도 코펜하겐. 북유럽 사람들은... 제가 파견된 University of Copenhagen (KU)는 학부마다 여러 ... 코펜하겐 대학은 단과대별로 캠퍼스가 나뉘어져 각기 다른 동네에 위치하고 있습니다. ... 코펜하겐 대학은 코펜하겐 시 전 지역에 캠퍼스가 학부별로 나뉘어져 있습니다. 따라서... 코펜하겐의 여름은 선선하고 날씨도 좋은 편입니다. 그러나 겨울이 되면 해가 급격히 ... The University of Copenhagen is split into fou... 코펜하겐 대학교는 총 City Campus 등등 총 5개의 캠퍼스로 나뉘어져 있습니... The university has several campuses, all of la... 정치외교학과 수업을 들을 사회과학학부 대학은 CSS로 Norreport 역에서 약 ... University of Copenhagen은 단과대 별로 캠퍼스가 나눠져 있습니다... 덴마크는 북유럽을 포함한 것으로 유럽을 봤을 때 유럽의 중심에 있다고 보아도 좋을 ... 캠퍼스가 도시 여러군데 흩어져 있지만 각 캠퍼스의 도서관이나 시설을 사용할수있어 어... 코펜하겐대학교는 코펜하겐의 유일한 종합대학입니다. 규모도 정말 크고요. 대학 캠퍼스... 코펜하겐 대학은 연세대학교처럼 한 곳에 모든 대학이 모여있지 않고, 사회대, 인문대... 덴마크의 겨울은 비와 어둠 때문에 상당히 우울합니다. 현지 사람들도 겨울이 시작되면... 코펜하겐 대학교는 많은 유럽의 대학들과 비슷하게 각 학부대학이 도시 곳곳에 흩어져 ... 덴마크는 유럽대륙과 북유럽을 연결해주는 곳에 위치해있습니다. 덴마크의 주변국가들로는... 코펜하겐 대학교는 연세대학교처럼 캠퍼스가 크지 않고  문과대학, 사회과학 대학, 이... 안녕하세요. 교환학생을 고민하신다면 저는 덴마크를 강! 추! 해드리고 싶습니다. 너... 덴마크에서 가장 오래된 종합대학입니다. 1400년대에 만들어진 역사깊은 학교였습니다... 코펜하겐 대학교가 15세기부터 있었던 대학임을 감안하면 캠퍼스가 도시 곳곳에 흩어져... 코펜하겐 대학은 유럽대륙 스칸디나비아반도에 위치한 북유럽 중 가장 남쪽나라 덴마크의... 코펜하겐 대학교는 전 도시에 크게 4개의 캠퍼스로 구성되어 있습니다. 네 곳 모두 ... 덴마크는 정말 끝도 없는 평지로 이루어져 있는 반도 모양의 나라입니다. 유럽 대륙,... University of Copenhagen (KU) 는 덴마크 수도 코펜하겐에 위... 코펜하겐 대학교는 덴마크 내에서 알아주는 학교입니다. 제가 알기로는 경제학과 등의 ... 코펜하겐 대학의 캠퍼스는 전공 분야별로 4개의 캠퍼스로 시내 곳곳에 나뉘어 있습니다... 유럽의 독특한 풍모를 느낄 수 있으면서도 생활하기에 불편하지 않을 정도로 영어 의사... 코펜하겐 대학교는 이름에서 알 수 있듯이, 덴마크 수도 코펜하겐(København)... 코펜하겐 대학교는 하나의 캠퍼스가 통합되어 있는 일반적인 한국식 학교와 달리 도시 ... 우선 캠퍼스가 여러개로 나뉘어져 있습니다. 저는 주로 사회과학 계열이 있는 CSS나... 코펜하겐 대학은 여러개의 캠퍼스로 나뉘어 있습니다. 저는 Frederiksberg에... 코펜하겐의 여름은 이때까지 내가 경험 여름의 날씨 중 가장 환상적이었다. 친구들과 ... 코펜하겐 대학교는 캠퍼스와 도시가 구분되어 있는 미국식 학교와 달리 도시 곳곳에 대... 코펜하겐은 유럽의 주변부에 있지만, 유럽 내에서의 항공편을 통한 접근성은 그리 나쁘... 제가 1년간 공부했던 university of Copenhagen의 경우 도시의 중... 코펜하겐 대학교는 캠퍼스가 도시 전체에 걸쳐서 각 단과대별로 분포되어 있는데 크게 ... 제가 수업을 들은 사회과학 대학교는 시내 중심에 있어서 접근성이 좋았습니다. 자전거... 코펜하겐 대학은 캠퍼스 형식이 아니라 도시 여러군데에 단과대가 흩어져있는 구조입니다... 우선 코펜하겐 대학교는 우리나라 학생이 익숙한 한 캠퍼스에 모든 대학들이 옹기종기 ... 코펜하겐 대학의 규모는 굉장히 크고, 캠퍼스 형식이 아니라 시내 곳곳에 단과대별로 ... 코펜하겐 대학교는 500년의 세월을 자랑하는 유구한 역사의 대학교이다.\\\\n그런만큼 ... 앞서 많은 학생들이 기술하였듯 덴마크 코펜하겐 대학은 캠퍼스 대학이 아니라 단과대학... 유럽대륙에서 스칸디나비아반도로 가는 길목에 위치한 인구 오백만의 작은 나라 덴마크,... 코펜하겐의 대학은 단과대학별로 캠퍼스가 흩어져있기 때문에 막상 학교를 다니면서는 학... 코펜하겐은 북유럽국가(노르웨이, 스웨덴, 핀란드)들 중 하나인 덴마크의 정치적, 행... 코펜하겐 대학으로 교환학생을 간다고 하면 \"아 네덜란드로 가는구나\"하는 친구들이나 ... 코펜하겐은 북유럽 스칸디나비아 국가인 덴마크의 수도입니다. 스웨덴이나 노르웨이에 비... 코펜하겐은 덴마크의 수도로 북유럽국가로의 길목 역할을 담당하는 작고 아기자기하면서도... 코펜하겐은 덴마크의 수도로 덴마크를 이루고 있는 sealand라는 섬에 위치하고 있... 코펜하겐은 덴마크의 수도이며, 비록 규모는 크지 않지만, 세계적인 국제회의 개최지로... 덴마크의 기후는 적응하기 힘들었다. 아니, 난 결국 그곳 날씨에 적응하지 못했다. ... 내가 다녀온 코펜하겐 대학은 여타의 유럽 대학과 마찬가지로 각기 학부가 분산된 형태... 건물로만 보았을 때 그리 큰 규모의 대학은 아니다. 특히 연세대학교처럼 모든 단과대... 코펜하겐 대학은 캠퍼스가 아닙니다. 왕립대학의 역사답게 각 단과대가 연구실과 독립적... 코펜하겐 대학은 500년 이상의 역사를 가진 덴마크 최고의 대학이다. 인문,경제,정... 너무 아름다운 도시다. 코펜하겐은. 자그마하고 서울에 비하면 수도라고도 할 수 없지...'"
     },
     "metadata": {},
     "execution_count": 11
    }
   ],
   "source": [
    "# https://pandas.pydata.org/pandas-docs/stable/reference/api/pandas.DataFrame.to_string.html\n",
    "str_gen_info = df_sample[\"gen_info\"].to_string(index=False)\n",
    "str_gen_info = str_gen_info.replace(\"\\n\", \"\")\n",
    "print(len(str_gen_info))\n",
    "str_gen_info"
   ]
  },
  {
   "cell_type": "code",
   "execution_count": null,
   "metadata": {},
   "outputs": [],
   "source": []
  }
 ]
}