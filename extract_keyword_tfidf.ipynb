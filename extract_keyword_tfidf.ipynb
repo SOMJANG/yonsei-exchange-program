{
 "metadata": {
  "language_info": {
   "codemirror_mode": {
    "name": "ipython",
    "version": 3
   },
   "file_extension": ".py",
   "mimetype": "text/x-python",
   "name": "python",
   "nbconvert_exporter": "python",
   "pygments_lexer": "ipython3",
   "version": "3.8.3-final"
  },
  "orig_nbformat": 2,
  "kernelspec": {
   "name": "python38364bitnlpkorvenv03d7b81388604b8b8d7aed95a2d6b41b",
   "display_name": "Python 3.8.3 64-bit ('nlpkor': venv)"
  }
 },
 "nbformat": 4,
 "nbformat_minor": 2,
 "cells": [
  {
   "cell_type": "code",
   "execution_count": 3,
   "metadata": {},
   "outputs": [],
   "source": [
    "# 출력이 너무 길어지지 않게하기 위해 찍지 않도록 했으나 \n",
    "# 실제 학습 할 때는 아래 두 줄을 주석처리 하는 것을 권장한다.\n",
    "import warnings\n",
    "warnings.filterwarnings('ignore')"
   ]
  },
  {
   "cell_type": "code",
   "execution_count": 4,
   "metadata": {
    "tags": []
   },
   "outputs": [
    {
     "output_type": "stream",
     "name": "stdout",
     "text": "1.0.5\n1.18.5\n"
    }
   ],
   "source": [
    "import pandas as pd\n",
    "import numpy as np\n",
    "print(pd.__version__)\n",
    "print(np.__version__)"
   ]
  },
  {
   "cell_type": "code",
   "execution_count": 5,
   "metadata": {},
   "outputs": [],
   "source": [
    "# pandas 설정: 모든 row와 모든 column을 출력하게 하고, 각 column 별 출력되는 글자수는 50자 이내\n",
    "pd.set_option('display.max_rows', None, 'display.max_columns', None, 'display.max_colwidth', 50)"
   ]
  },
  {
   "cell_type": "code",
   "execution_count": 7,
   "metadata": {},
   "outputs": [
    {
     "output_type": "execute_result",
     "data": {
      "text/plain": "       대학코드                             대학명  \\\n0  AR000004        Universidad del Salvador   \n1  AU000019  Australian National University   \n2  AU000001                 Bond University   \n\n                                            gen_info  \\\n0  아르헨티나의 대다수 대학교는 한국처럼 캠퍼스가 있는 것이 아니라 도시 내에 몇개의 ...   \n1  ANU has a very big campus, but unlike Yonsei, ...   \n2  Bond대학교는 휴양지로 유명한 골드코스트에 위치해있습니다. 서퍼스 파라다이스, 브...   \n\n                                            env_info  \\\n0  대학교가 도시 여러곳에 분포하고 있으므로 각기 다르다. 하지만 남녀를 불문하고 부에...   \n1  The city center, called CIVIC, is 20min walk a...   \n2  학교 주변은 조용하고 깨끗한 평화로운 전원마을의 느낌입니다. 학교에서 5분정도 걸어...   \n\n                                           food_info  \\\n0  기숙사는 학교에서 제공하지 않고 두가지 옵션이 주어진다. 홈스테이 혹은 게스트 하우...   \n1  There are many housing options, but I chose to...   \n2  거주형태는 크게 On Campus와 Off Campus로 나뉩니다. 저는 기숙사에 ...   \n\n                                          study_info  \\\n0  아르헨티나에서의 대학 수업은 주로 오전 혹은 저녁에 있다. 대부분의 학생들이 일을하...   \n1  In my personal opinions, classes are generally...   \n2  수업은 보통 4개의 수업을 듣습니다. 저는 Chinese1, Australian p...   \n\n                                         office_info  \\\n0  EL SALVADOR대학교는 국제 교육부가 잘 되있는 학교이다. 아르헨티나 대학교들...   \n1  Overall, I did not have to ask for help much f...   \n2  교환생활 중 국제교육부와 연락할 일은 없었습니다. 교환학생을 가서 따로 국제교육부와...   \n\n                                          facil_info  \\\n0  부대시설로는 헬스장이 있다고 알고 있으나 시내와 먼 곳에 있었다. 동아리는 몇가지 ...   \n1  There were many clubs for you to join at ANU, ...   \n2  학기초에 동아리 박람회식으로 여러 동아리들의 부스가 세워집니다. 관심 있는 동아리에...   \n\n                                           mhct_info  \\\n0  딱히 컬쳐쇼크를 받을 만 한 요소는 없었던 것 같다. 하지만 처음에 언어적인 면에서...   \n1  I did have some culture shock during my first ...   \n2  특별히 culture shock이라기 보다는 정말 다양한 문화를 접하는 것 자체가 ...   \n\n                                           help_info  \\\n0  살바도르 대학교 국제처에서 비자문제나 숙소문제(홈스테이경우) 등은 해결해 주고, 특...   \n1  I was helped a lot, especially during the firs...   \n2  수업관련해서는 교수님께 질문을 해도 친절하게 알려주시고, 또 교내에 과제나 발표준비...   \n\n                                            etc_info  \n0                                                NaN  \n1  Overall, my stay in Australia has been nothing...  \n2  Bond와 그 동네를 생각하면 여유롭고 평화로웠던 분위기가 아직도 생생해요. 여기서...  ",
      "text/html": "<div>\n<style scoped>\n    .dataframe tbody tr th:only-of-type {\n        vertical-align: middle;\n    }\n\n    .dataframe tbody tr th {\n        vertical-align: top;\n    }\n\n    .dataframe thead th {\n        text-align: right;\n    }\n</style>\n<table border=\"1\" class=\"dataframe\">\n  <thead>\n    <tr style=\"text-align: right;\">\n      <th></th>\n      <th>대학코드</th>\n      <th>대학명</th>\n      <th>gen_info</th>\n      <th>env_info</th>\n      <th>food_info</th>\n      <th>study_info</th>\n      <th>office_info</th>\n      <th>facil_info</th>\n      <th>mhct_info</th>\n      <th>help_info</th>\n      <th>etc_info</th>\n    </tr>\n  </thead>\n  <tbody>\n    <tr>\n      <th>0</th>\n      <td>AR000004</td>\n      <td>Universidad del Salvador</td>\n      <td>아르헨티나의 대다수 대학교는 한국처럼 캠퍼스가 있는 것이 아니라 도시 내에 몇개의 ...</td>\n      <td>대학교가 도시 여러곳에 분포하고 있으므로 각기 다르다. 하지만 남녀를 불문하고 부에...</td>\n      <td>기숙사는 학교에서 제공하지 않고 두가지 옵션이 주어진다. 홈스테이 혹은 게스트 하우...</td>\n      <td>아르헨티나에서의 대학 수업은 주로 오전 혹은 저녁에 있다. 대부분의 학생들이 일을하...</td>\n      <td>EL SALVADOR대학교는 국제 교육부가 잘 되있는 학교이다. 아르헨티나 대학교들...</td>\n      <td>부대시설로는 헬스장이 있다고 알고 있으나 시내와 먼 곳에 있었다. 동아리는 몇가지 ...</td>\n      <td>딱히 컬쳐쇼크를 받을 만 한 요소는 없었던 것 같다. 하지만 처음에 언어적인 면에서...</td>\n      <td>살바도르 대학교 국제처에서 비자문제나 숙소문제(홈스테이경우) 등은 해결해 주고, 특...</td>\n      <td>NaN</td>\n    </tr>\n    <tr>\n      <th>1</th>\n      <td>AU000019</td>\n      <td>Australian National University</td>\n      <td>ANU has a very big campus, but unlike Yonsei, ...</td>\n      <td>The city center, called CIVIC, is 20min walk a...</td>\n      <td>There are many housing options, but I chose to...</td>\n      <td>In my personal opinions, classes are generally...</td>\n      <td>Overall, I did not have to ask for help much f...</td>\n      <td>There were many clubs for you to join at ANU, ...</td>\n      <td>I did have some culture shock during my first ...</td>\n      <td>I was helped a lot, especially during the firs...</td>\n      <td>Overall, my stay in Australia has been nothing...</td>\n    </tr>\n    <tr>\n      <th>2</th>\n      <td>AU000001</td>\n      <td>Bond University</td>\n      <td>Bond대학교는 휴양지로 유명한 골드코스트에 위치해있습니다. 서퍼스 파라다이스, 브...</td>\n      <td>학교 주변은 조용하고 깨끗한 평화로운 전원마을의 느낌입니다. 학교에서 5분정도 걸어...</td>\n      <td>거주형태는 크게 On Campus와 Off Campus로 나뉩니다. 저는 기숙사에 ...</td>\n      <td>수업은 보통 4개의 수업을 듣습니다. 저는 Chinese1, Australian p...</td>\n      <td>교환생활 중 국제교육부와 연락할 일은 없었습니다. 교환학생을 가서 따로 국제교육부와...</td>\n      <td>학기초에 동아리 박람회식으로 여러 동아리들의 부스가 세워집니다. 관심 있는 동아리에...</td>\n      <td>특별히 culture shock이라기 보다는 정말 다양한 문화를 접하는 것 자체가 ...</td>\n      <td>수업관련해서는 교수님께 질문을 해도 친절하게 알려주시고, 또 교내에 과제나 발표준비...</td>\n      <td>Bond와 그 동네를 생각하면 여유롭고 평화로웠던 분위기가 아직도 생생해요. 여기서...</td>\n    </tr>\n  </tbody>\n</table>\n</div>"
     },
     "metadata": {},
     "execution_count": 7
    }
   ],
   "source": [
    "# 위의 설정으로 간단하게 보는 df_specific\n",
    "df_specific = pd.read_csv(\"./data_wrangled/df_specific_wrangle.csv\", encoding=\"utf-8\")\n",
    "df_specific.head(3)"
   ]
  },
  {
   "cell_type": "code",
   "execution_count": 8,
   "metadata": {},
   "outputs": [
    {
     "output_type": "execute_result",
     "data": {
      "text/plain": "         대학코드                    대학명  \\\n467  US000273    Westminster College   \n468  US000274      Whitworth College   \n469  US000278  Wittenberg University   \n\n                                              gen_info  \\\n467  Westminster College는 미국 펜실베니아 주 북부에 있는 작은 마을, ...   \n468  내가 다녀온 교환대학은 Washington State 에 위치한 Whitworth ...   \n469  Wittenberg는 Ohio주의 작은 도시 Springfield에 위치해 있다. ...   \n\n                                              env_info  \\\n467  웨스트민스터가 위치한 뉴윌밍턴은 매우 작은 마을입니다. 마음만 먹으면 주말에 산책을...   \n468  Whitworth College는 Seattle에서 비행기로 40분 정도 떨어져 있...   \n469  Springfield의 downtown에는 우체국, 은행(huntington) 정도...   \n\n                                             food_info  \\\n467  제가 있던 학기에는 연세대학교에서 온 학생이 총 여학생 3명이어서 모두 같은 기숙사...   \n468  나는 Whitworth College에서 기숙사에 살았다. ISEP으로 가게 되면 ...   \n469  1,2학년과 국제학생들 (1년 이하로 있는 학생들)은 모두 기숙사에서 생활하게 된다...   \n\n                                            study_info  \\\n467  저는 한 학기 동안 5과목, 총 15학점을 들었습니다. 정치학 전공 Internat...   \n468  내가 미국에 가기 전에 가장 두려워했던 것은 바로 수업이었다. 어학연수와는 달리 교...   \n469  도서관은 Thomas library가 main이고 다른 단과대학 건물에 독서실이 있...   \n\n                                           office_info  \\\n467  웨스트민스터는 국제 학생의 수가 매우 적어서 국제교육부가 따로 있지는 않았습니다. ...   \n468  이 학교에서 내가 마음 편하게 지낼 수 있었던 것은 국제교육부 스텝들이 너무 따뜻하...   \n469  국제교류부는 Hollenbeck 건물 1층에 있는데, Joann 과 Betsy 두 ...   \n\n                                            facil_info  \\\n467  제가 가장 자주 이용했던 곳은 클럽룸입니다. 이곳은 맥켈비 센터 2층 구석에 있는 ...   \n468  기타 학교의 부대 시설로는 fitness center, music hall, soc...   \n469  Wittenberg의 가장 큰 장점. nWittenberg는 학비가 무척 비싼 학교...   \n\n                                             mhct_info  \\\n467  학교가 위치한 동네에서는 학교 학생들을 제외하면 거의 모든 주민이 백인이었습니다. ...   \n468                                                NaN   \n469  한국에서는 흔치 않은 gay, lesbian, transgender 등을 만날 수 ...   \n\n                                             help_info  \\\n467  학교 생활 중 가장 도움을 많이 받을 수 있었던 곳은 교목실의 Internation...   \n468                                                NaN   \n469  Wittenberg는 국제학생들에게 host family를 붙여준다. 비록 같이 살...   \n\n                                              etc_info  \n467  그림 같은 호수, 끝없이 넓은 하늘과 함께 따뜻한 단풍색으로 물든 웨스트민스터에서 ...  \n468  처음에 Whitworth College를 ISEP으로부터 배정 받았을 때 현실적으로...  \n469  이처럼 wittenberg는 시골에 있는 작은 학교지만 지리적인 위치로 인한 단점보...  ",
      "text/html": "<div>\n<style scoped>\n    .dataframe tbody tr th:only-of-type {\n        vertical-align: middle;\n    }\n\n    .dataframe tbody tr th {\n        vertical-align: top;\n    }\n\n    .dataframe thead th {\n        text-align: right;\n    }\n</style>\n<table border=\"1\" class=\"dataframe\">\n  <thead>\n    <tr style=\"text-align: right;\">\n      <th></th>\n      <th>대학코드</th>\n      <th>대학명</th>\n      <th>gen_info</th>\n      <th>env_info</th>\n      <th>food_info</th>\n      <th>study_info</th>\n      <th>office_info</th>\n      <th>facil_info</th>\n      <th>mhct_info</th>\n      <th>help_info</th>\n      <th>etc_info</th>\n    </tr>\n  </thead>\n  <tbody>\n    <tr>\n      <th>467</th>\n      <td>US000273</td>\n      <td>Westminster College</td>\n      <td>Westminster College는 미국 펜실베니아 주 북부에 있는 작은 마을, ...</td>\n      <td>웨스트민스터가 위치한 뉴윌밍턴은 매우 작은 마을입니다. 마음만 먹으면 주말에 산책을...</td>\n      <td>제가 있던 학기에는 연세대학교에서 온 학생이 총 여학생 3명이어서 모두 같은 기숙사...</td>\n      <td>저는 한 학기 동안 5과목, 총 15학점을 들었습니다. 정치학 전공 Internat...</td>\n      <td>웨스트민스터는 국제 학생의 수가 매우 적어서 국제교육부가 따로 있지는 않았습니다. ...</td>\n      <td>제가 가장 자주 이용했던 곳은 클럽룸입니다. 이곳은 맥켈비 센터 2층 구석에 있는 ...</td>\n      <td>학교가 위치한 동네에서는 학교 학생들을 제외하면 거의 모든 주민이 백인이었습니다. ...</td>\n      <td>학교 생활 중 가장 도움을 많이 받을 수 있었던 곳은 교목실의 Internation...</td>\n      <td>그림 같은 호수, 끝없이 넓은 하늘과 함께 따뜻한 단풍색으로 물든 웨스트민스터에서 ...</td>\n    </tr>\n    <tr>\n      <th>468</th>\n      <td>US000274</td>\n      <td>Whitworth College</td>\n      <td>내가 다녀온 교환대학은 Washington State 에 위치한 Whitworth ...</td>\n      <td>Whitworth College는 Seattle에서 비행기로 40분 정도 떨어져 있...</td>\n      <td>나는 Whitworth College에서 기숙사에 살았다. ISEP으로 가게 되면 ...</td>\n      <td>내가 미국에 가기 전에 가장 두려워했던 것은 바로 수업이었다. 어학연수와는 달리 교...</td>\n      <td>이 학교에서 내가 마음 편하게 지낼 수 있었던 것은 국제교육부 스텝들이 너무 따뜻하...</td>\n      <td>기타 학교의 부대 시설로는 fitness center, music hall, soc...</td>\n      <td>NaN</td>\n      <td>NaN</td>\n      <td>처음에 Whitworth College를 ISEP으로부터 배정 받았을 때 현실적으로...</td>\n    </tr>\n    <tr>\n      <th>469</th>\n      <td>US000278</td>\n      <td>Wittenberg University</td>\n      <td>Wittenberg는 Ohio주의 작은 도시 Springfield에 위치해 있다. ...</td>\n      <td>Springfield의 downtown에는 우체국, 은행(huntington) 정도...</td>\n      <td>1,2학년과 국제학생들 (1년 이하로 있는 학생들)은 모두 기숙사에서 생활하게 된다...</td>\n      <td>도서관은 Thomas library가 main이고 다른 단과대학 건물에 독서실이 있...</td>\n      <td>국제교류부는 Hollenbeck 건물 1층에 있는데, Joann 과 Betsy 두 ...</td>\n      <td>Wittenberg의 가장 큰 장점. nWittenberg는 학비가 무척 비싼 학교...</td>\n      <td>한국에서는 흔치 않은 gay, lesbian, transgender 등을 만날 수 ...</td>\n      <td>Wittenberg는 국제학생들에게 host family를 붙여준다. 비록 같이 살...</td>\n      <td>이처럼 wittenberg는 시골에 있는 작은 학교지만 지리적인 위치로 인한 단점보...</td>\n    </tr>\n  </tbody>\n</table>\n</div>"
     },
     "metadata": {},
     "execution_count": 8
    }
   ],
   "source": [
    "# 위의 설정으로 간단하게 보는 df_specific\n",
    "df_specific.tail(3)"
   ]
  },
  {
   "cell_type": "code",
   "execution_count": 9,
   "metadata": {},
   "outputs": [
    {
     "output_type": "execute_result",
     "data": {
      "text/plain": "(470, 11)"
     },
     "metadata": {},
     "execution_count": 9
    }
   ],
   "source": [
    "df_specific.shape"
   ]
  },
  {
   "cell_type": "code",
   "execution_count": 10,
   "metadata": {},
   "outputs": [],
   "source": [
    "# pandas 설정: 각 column 별 (혹은 한 cell에서) 출력되는 글자수 제한을 없애기\n",
    "pd.set_option('display.max_colwidth', None)"
   ]
  },
  {
   "cell_type": "code",
   "execution_count": 11,
   "metadata": {},
   "outputs": [],
   "source": [
    "column_data = \"env_info\"\n",
    "univ_code = \"DK000003\""
   ]
  },
  {
   "cell_type": "code",
   "execution_count": 40,
   "metadata": {},
   "outputs": [],
   "source": [
    "import re\n",
    "# removing junks from the string data\n",
    "def remove_junk(str_data):\n",
    "    str_data = str_data.replace(\"\\\\\\\\n\", \"\")\n",
    "    str_data = str_data.replace(\"\\\\n\", \"\")\n",
    "    str_data = str_data.replace(\"\\n\", \"\")\n",
    "    str_data = str_data.replace(\"\\\\\", \"\")\n",
    "    str_data = str_data.replace(\"\\\\t\", \"\")\n",
    "    str_data = str_data.replace(\"NaN\", \"\")\n",
    "\n",
    "    # 한글, english 빼고 전부 날리기\n",
    "    str_data = re.sub('[^가-힣ㄱ-ㅎㅏ-ㅣa-zA-Z|0-9]', ' ', str_data)\n",
    "\n",
    "    # replace multiple spaces into single space\n",
    "    str_data = ' '.join(str_data.split())\n",
    "    return str_data"
   ]
  },
  {
   "cell_type": "code",
   "execution_count": 41,
   "metadata": {},
   "outputs": [],
   "source": [
    "def access_univ_info(dataframe, column, univ_code):\n",
    "    df_row = dataframe.loc[dataframe[\"대학코드\"] == univ_code]\n",
    "    str_univ_info = df_row[column].to_string(index=False).lstrip()\n",
    "    str_univ_info = remove_junk(str_univ_info)\n",
    "    return str_univ_info "
   ]
  },
  {
   "cell_type": "code",
   "execution_count": 42,
   "metadata": {},
   "outputs": [],
   "source": [
    "str_example = access_univ_info(df_specific, column_data, univ_code)"
   ]
  },
  {
   "cell_type": "code",
   "execution_count": 43,
   "metadata": {},
   "outputs": [],
   "source": [
    "# collecting all column values into one string\n",
    "def column_to_string(dataframe, column_name: str):\n",
    "    str_corpus = dataframe[column_name].to_string(index=False).lstrip()\n",
    "    str_corpus = remove_junk(str_corpus)\n",
    "    return str_corpus"
   ]
  },
  {
   "cell_type": "code",
   "execution_count": 44,
   "metadata": {
    "tags": []
   },
   "outputs": [
    {
     "output_type": "stream",
     "name": "stdout",
     "text": "글자수: 3875341\n"
    },
    {
     "output_type": "execute_result",
     "data": {
      "text/plain": "'대학교가 도시 여러곳에 분포하고 있으므로 각기 다르다 하지만 남녀를 불문하고 부에노스 아이레스에서 밤에 혼자 다니는 것은 위험하다 낮에는 대체적으로 사람들이 많이 다니므로 위험하지 않지만 외진곳은 피하는 것이 좋다 n학교 건물 주변에 편의점이나 공원등이 곳곳이 있으므로 공강시 이용이 편리하다 The city center called CIVIC is 20min walk away from the campus It s a very nice walk The streets aren t that crowded and there are a wide range of restaurants in Civic that you can choose ranging from Mexican Chinese American etc In Civic there are IKEA Coles go to mall for grocery shopping and other fashion stores like Cotton On H M etc Nightclub in Canberra is great and students night is every Thursday not Friday or Saturday ANU has a very nice responsible drinking cult 캠퍼스 자체는 자연입니다 정문에서 걸어서 10분 정도면 Centre라고 생긴지 얼마 안된 큰 쇼핑센터가 있구요 마트 영화관 클럽 등 전부 가까워요 물론 캔버라 자체가 작은 도시입니다만 그래서 기숙사에만 거주하신다면 대중교통을 거의 이용할 필요 없다는 장점이 있습니다 행정 수도기 때문에 웬만한 것은 다 갖추어져있기도 하구요 또 Burley Griffin이라는 커다란 인공 호수와 아주 가까운데요 정말 아름다운 호수입니다 조깅 자전거 라이딩 도로를 따라 내려가면 작은 들판이 나오는데요 거기서 보았던 노을은 평생 잊을 수 없을 듯 합니다 대학교 주변에 센터가 있고 그 곳에 술집과 영화관 카페 등이 있지만 거기를 빼고는 사실 놀거리가 많지는 '"
     },
     "metadata": {},
     "execution_count": 44
    }
   ],
   "source": [
    "# collecting all column values into one string\n",
    "corpus = column_to_string(df_specific, column_data)\n",
    "print(\"글자수:\", len(corpus))\n",
    "corpus[:1000]"
   ]
  },
  {
   "cell_type": "markdown",
   "metadata": {},
   "source": [
    "## Tokenizing with soynlp"
   ]
  },
  {
   "cell_type": "code",
   "execution_count": 45,
   "metadata": {},
   "outputs": [
    {
     "output_type": "execute_result",
     "data": {
      "text/plain": "<soynlp.tokenizer._tokenizer.RegexTokenizer at 0x14b259af0>"
     },
     "metadata": {},
     "execution_count": 45
    }
   ],
   "source": [
    "# https://github.com/lovit/soynlp\n",
    "from soynlp.tokenizer import RegexTokenizer\n",
    "\n",
    "tokenizer = RegexTokenizer()\n",
    "tokenizer"
   ]
  },
  {
   "cell_type": "code",
   "execution_count": 46,
   "metadata": {},
   "outputs": [
    {
     "output_type": "execute_result",
     "data": {
      "text/plain": "['대학교가', '도시', '여러곳에', '분포하고', '있으므로', '각기', '다르다', '하지만', '남녀를', '불문하고']"
     },
     "metadata": {},
     "execution_count": 46
    }
   ],
   "source": [
    "tokenized_corpus = tokenizer.tokenize(corpus)\n",
    "tokenized_corpus[:10]"
   ]
  },
  {
   "cell_type": "code",
   "execution_count": 47,
   "metadata": {
    "tags": []
   },
   "outputs": [
    {
     "output_type": "stream",
     "name": "stdout",
     "text": "969822\n"
    }
   ],
   "source": [
    "print(len(tokenized_corpus))"
   ]
  },
  {
   "cell_type": "code",
   "execution_count": 34,
   "metadata": {},
   "outputs": [
    {
     "output_type": "error",
     "ename": "AttributeError",
     "evalue": "'float' object has no attribute 'split'",
     "traceback": [
      "\u001b[0;31m---------------------------------------------------------------------------\u001b[0m",
      "\u001b[0;31mAttributeError\u001b[0m                            Traceback (most recent call last)",
      "\u001b[0;32m<ipython-input-34-84c759a21602>\u001b[0m in \u001b[0;36m<module>\u001b[0;34m\u001b[0m\n\u001b[0;32m----> 1\u001b[0;31m \u001b[0mdf_tokens\u001b[0m \u001b[0;34m=\u001b[0m \u001b[0mdf_specific\u001b[0m\u001b[0;34m[\u001b[0m\u001b[0mcolumn_data\u001b[0m\u001b[0;34m]\u001b[0m\u001b[0;34m.\u001b[0m\u001b[0mapply\u001b[0m\u001b[0;34m(\u001b[0m\u001b[0mtokenizer\u001b[0m\u001b[0;34m.\u001b[0m\u001b[0mtokenize\u001b[0m\u001b[0;34m)\u001b[0m\u001b[0;34m\u001b[0m\u001b[0;34m\u001b[0m\u001b[0m\n\u001b[0m\u001b[1;32m      2\u001b[0m \u001b[0mdf_tokens\u001b[0m\u001b[0;34m[\u001b[0m\u001b[0;34m:\u001b[0m\u001b[0;36m3\u001b[0m\u001b[0;34m]\u001b[0m\u001b[0;34m\u001b[0m\u001b[0;34m\u001b[0m\u001b[0m\n",
      "\u001b[0;32m~/.pyenv/versions/nlpkor/lib/python3.8/site-packages/pandas/core/series.py\u001b[0m in \u001b[0;36mapply\u001b[0;34m(self, func, convert_dtype, args, **kwds)\u001b[0m\n\u001b[1;32m   3846\u001b[0m             \u001b[0;32melse\u001b[0m\u001b[0;34m:\u001b[0m\u001b[0;34m\u001b[0m\u001b[0;34m\u001b[0m\u001b[0m\n\u001b[1;32m   3847\u001b[0m                 \u001b[0mvalues\u001b[0m \u001b[0;34m=\u001b[0m \u001b[0mself\u001b[0m\u001b[0;34m.\u001b[0m\u001b[0mastype\u001b[0m\u001b[0;34m(\u001b[0m\u001b[0mobject\u001b[0m\u001b[0;34m)\u001b[0m\u001b[0;34m.\u001b[0m\u001b[0mvalues\u001b[0m\u001b[0;34m\u001b[0m\u001b[0;34m\u001b[0m\u001b[0m\n\u001b[0;32m-> 3848\u001b[0;31m                 \u001b[0mmapped\u001b[0m \u001b[0;34m=\u001b[0m \u001b[0mlib\u001b[0m\u001b[0;34m.\u001b[0m\u001b[0mmap_infer\u001b[0m\u001b[0;34m(\u001b[0m\u001b[0mvalues\u001b[0m\u001b[0;34m,\u001b[0m \u001b[0mf\u001b[0m\u001b[0;34m,\u001b[0m \u001b[0mconvert\u001b[0m\u001b[0;34m=\u001b[0m\u001b[0mconvert_dtype\u001b[0m\u001b[0;34m)\u001b[0m\u001b[0;34m\u001b[0m\u001b[0;34m\u001b[0m\u001b[0m\n\u001b[0m\u001b[1;32m   3849\u001b[0m \u001b[0;34m\u001b[0m\u001b[0m\n\u001b[1;32m   3850\u001b[0m         \u001b[0;32mif\u001b[0m \u001b[0mlen\u001b[0m\u001b[0;34m(\u001b[0m\u001b[0mmapped\u001b[0m\u001b[0;34m)\u001b[0m \u001b[0;32mand\u001b[0m \u001b[0misinstance\u001b[0m\u001b[0;34m(\u001b[0m\u001b[0mmapped\u001b[0m\u001b[0;34m[\u001b[0m\u001b[0;36m0\u001b[0m\u001b[0;34m]\u001b[0m\u001b[0;34m,\u001b[0m \u001b[0mSeries\u001b[0m\u001b[0;34m)\u001b[0m\u001b[0;34m:\u001b[0m\u001b[0;34m\u001b[0m\u001b[0;34m\u001b[0m\u001b[0m\n",
      "\u001b[0;32mpandas/_libs/lib.pyx\u001b[0m in \u001b[0;36mpandas._libs.lib.map_infer\u001b[0;34m()\u001b[0m\n",
      "\u001b[0;32m~/.pyenv/versions/nlpkor/lib/python3.8/site-packages/soynlp/tokenizer/_tokenizer.py\u001b[0m in \u001b[0;36mtokenize\u001b[0;34m(self, s, debug, flatten)\u001b[0m\n\u001b[1;32m     39\u001b[0m          ['job', '.1']]\n\u001b[1;32m     40\u001b[0m         '''\n\u001b[0;32m---> 41\u001b[0;31m         \u001b[0mtokens\u001b[0m \u001b[0;34m=\u001b[0m \u001b[0;34m[\u001b[0m\u001b[0mself\u001b[0m\u001b[0;34m.\u001b[0m\u001b[0m_tokenize\u001b[0m\u001b[0;34m(\u001b[0m\u001b[0mt\u001b[0m\u001b[0;34m,\u001b[0m \u001b[0mdebug\u001b[0m\u001b[0;34m)\u001b[0m \u001b[0;32mfor\u001b[0m \u001b[0mt\u001b[0m \u001b[0;32min\u001b[0m \u001b[0ms\u001b[0m\u001b[0;34m.\u001b[0m\u001b[0msplit\u001b[0m\u001b[0;34m(\u001b[0m\u001b[0;34m)\u001b[0m\u001b[0;34m]\u001b[0m\u001b[0;34m\u001b[0m\u001b[0;34m\u001b[0m\u001b[0m\n\u001b[0m\u001b[1;32m     42\u001b[0m         \u001b[0;32mif\u001b[0m \u001b[0mflatten\u001b[0m\u001b[0;34m:\u001b[0m\u001b[0;34m\u001b[0m\u001b[0;34m\u001b[0m\u001b[0m\n\u001b[1;32m     43\u001b[0m             \u001b[0mtokens\u001b[0m \u001b[0;34m=\u001b[0m \u001b[0;34m[\u001b[0m\u001b[0msubtoken\u001b[0m \u001b[0;32mfor\u001b[0m \u001b[0mtoken\u001b[0m \u001b[0;32min\u001b[0m \u001b[0mtokens\u001b[0m \u001b[0;32mfor\u001b[0m \u001b[0msubtoken\u001b[0m \u001b[0;32min\u001b[0m \u001b[0mtoken\u001b[0m \u001b[0;32mif\u001b[0m \u001b[0msubtoken\u001b[0m\u001b[0;34m]\u001b[0m\u001b[0;34m\u001b[0m\u001b[0;34m\u001b[0m\u001b[0m\n",
      "\u001b[0;31mAttributeError\u001b[0m: 'float' object has no attribute 'split'"
     ]
    }
   ],
   "source": [
    "%time df_tokens = df_specific[column_data].apply(tokenizer.tokenize)"
   ]
  },
  {
   "cell_type": "code",
   "execution_count": 35,
   "metadata": {},
   "outputs": [
    {
     "output_type": "error",
     "ename": "NameError",
     "evalue": "name 'df_tokens' is not defined",
     "traceback": [
      "\u001b[0;31m---------------------------------------------------------------------------\u001b[0m",
      "\u001b[0;31mNameError\u001b[0m                                 Traceback (most recent call last)",
      "\u001b[0;32m<ipython-input-35-4e4babfe529d>\u001b[0m in \u001b[0;36m<module>\u001b[0;34m\u001b[0m\n\u001b[0;32m----> 1\u001b[0;31m \u001b[0mdf_tokens\u001b[0m\u001b[0;34m\u001b[0m\u001b[0;34m\u001b[0m\u001b[0m\n\u001b[0m",
      "\u001b[0;31mNameError\u001b[0m: name 'df_tokens' is not defined"
     ]
    }
   ],
   "source": [
    "df_tokens"
   ]
  },
  {
   "cell_type": "code",
   "execution_count": null,
   "metadata": {},
   "outputs": [],
   "source": []
  },
  {
   "cell_type": "code",
   "execution_count": 28,
   "metadata": {},
   "outputs": [],
   "source": [
    "stopwords_kr = ['하지만', '그리고', '그런데', '저는','제가',\n",
    "                '그럼', '이런', '저런', '합니다',\n",
    "                '많은', '많이', '정말', '너무'] "
   ]
  },
  {
   "cell_type": "code",
   "execution_count": 29,
   "metadata": {},
   "outputs": [],
   "source": [
    "# https://github.com/lovit/soynlp\n",
    "from soynlp.noun import LRNounExtractor"
   ]
  },
  {
   "cell_type": "code",
   "execution_count": 31,
   "metadata": {
    "tags": []
   },
   "outputs": [
    {
     "output_type": "stream",
     "name": "stdout",
     "text": "[Noun Extractor] used default noun predictor; Sejong corpus predictor\n[Noun Extractor] used noun_predictor_sejong\n[Noun Extractor] All 2398 r features was loaded\n[Noun Extractor] scanning was done (L,R) has (1244, 0) tokens\n[Noun Extractor] building L-R graph was done\n[Noun Extractor] 0 nouns are extracted\nCPU times: user 27.5 s, sys: 580 ms, total: 28.1 s\nWall time: 28 s\n"
    }
   ],
   "source": [
    "%%time\n",
    "noun_extractor = LRNounExtractor(verbose=True)\n",
    "noun_extractor.train(corpus)\n",
    "nouns = noun_extractor.extract()"
   ]
  },
  {
   "cell_type": "code",
   "execution_count": 33,
   "metadata": {},
   "outputs": [
    {
     "output_type": "execute_result",
     "data": {
      "text/plain": "{}"
     },
     "metadata": {},
     "execution_count": 33
    }
   ],
   "source": [
    "nouns"
   ]
  },
  {
   "cell_type": "code",
   "execution_count": null,
   "metadata": {},
   "outputs": [],
   "source": []
  }
 ]
}