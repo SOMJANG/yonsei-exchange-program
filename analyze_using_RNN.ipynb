{
 "metadata": {
  "language_info": {
   "codemirror_mode": {
    "name": "ipython",
    "version": 3
   },
   "file_extension": ".py",
   "mimetype": "text/x-python",
   "name": "python",
   "nbconvert_exporter": "python",
   "pygments_lexer": "ipython3",
   "version": "3.8.3-final"
  },
  "orig_nbformat": 2,
  "kernelspec": {
   "name": "python38364bitnlpkor2venvd6ba932570ef4af6b6af5bc7a778a398",
   "display_name": "Python 3.8.3 64-bit ('nlpkor2': venv)"
  }
 },
 "nbformat": 4,
 "nbformat_minor": 2,
 "cells": [
  {
   "cell_type": "markdown",
   "metadata": {},
   "source": [
    "## Using Keras RNN to conduct sentiment analysis on naver movie review dataset(NSMC)\n",
    "* Source: [딥 러닝을 이용한 자연어 처리 입문](https://wikidocs.net/44249)"
   ]
  },
  {
   "cell_type": "code",
   "execution_count": 1,
   "metadata": {},
   "outputs": [],
   "source": [
    "import pandas as pd\n",
    "import urllib.request\n",
    "%matplotlib inline\n",
    "import matplotlib.pyplot as plt\n",
    "import re\n",
    "from konlpy.tag import Okt\n",
    "from tensorflow.keras.preprocessing.text import Tokenizer\n",
    "import numpy as np\n",
    "from tensorflow.keras.preprocessing.sequence import pad_sequences"
   ]
  },
  {
   "cell_type": "code",
   "execution_count": 2,
   "metadata": {},
   "outputs": [
    {
     "output_type": "execute_result",
     "data": {
      "text/plain": "('ratings_test.txt', <http.client.HTTPMessage at 0x122285970>)"
     },
     "metadata": {},
     "execution_count": 2
    }
   ],
   "source": [
    "urllib.request.urlretrieve(\"https://raw.githubusercontent.com/e9t/nsmc/master/ratings_train.txt\", filename=\"ratings_train.txt\")\n",
    "urllib.request.urlretrieve(\"https://raw.githubusercontent.com/e9t/nsmc/master/ratings_test.txt\", filename=\"ratings_test.txt\")\n"
   ]
  },
  {
   "cell_type": "code",
   "execution_count": 3,
   "metadata": {},
   "outputs": [],
   "source": [
    "train_data = pd.read_table('ratings_train.txt')\n",
    "test_data = pd.read_table('ratings_test.txt')\n"
   ]
  },
  {
   "cell_type": "code",
   "execution_count": 4,
   "metadata": {
    "tags": []
   },
   "outputs": [
    {
     "output_type": "stream",
     "name": "stdout",
     "text": "훈련용 리뷰 개수 : 150000\n"
    }
   ],
   "source": [
    "print('훈련용 리뷰 개수 :',len(train_data)) # 훈련용 리뷰 개수 출력"
   ]
  },
  {
   "cell_type": "code",
   "execution_count": 5,
   "metadata": {},
   "outputs": [
    {
     "output_type": "execute_result",
     "data": {
      "text/plain": "         id                                           document  label\n0   9976970                                아 더빙.. 진짜 짜증나네요 목소리      0\n1   3819312                  흠...포스터보고 초딩영화줄....오버연기조차 가볍지 않구나      1\n2  10265843                                  너무재밓었다그래서보는것을추천한다      0\n3   9045019                      교도소 이야기구먼 ..솔직히 재미는 없다..평점 조정      0\n4   6483659  사이몬페그의 익살스런 연기가 돋보였던 영화!스파이더맨에서 늙어보이기만 했던 커스틴 ...      1",
      "text/html": "<div>\n<style scoped>\n    .dataframe tbody tr th:only-of-type {\n        vertical-align: middle;\n    }\n\n    .dataframe tbody tr th {\n        vertical-align: top;\n    }\n\n    .dataframe thead th {\n        text-align: right;\n    }\n</style>\n<table border=\"1\" class=\"dataframe\">\n  <thead>\n    <tr style=\"text-align: right;\">\n      <th></th>\n      <th>id</th>\n      <th>document</th>\n      <th>label</th>\n    </tr>\n  </thead>\n  <tbody>\n    <tr>\n      <th>0</th>\n      <td>9976970</td>\n      <td>아 더빙.. 진짜 짜증나네요 목소리</td>\n      <td>0</td>\n    </tr>\n    <tr>\n      <th>1</th>\n      <td>3819312</td>\n      <td>흠...포스터보고 초딩영화줄....오버연기조차 가볍지 않구나</td>\n      <td>1</td>\n    </tr>\n    <tr>\n      <th>2</th>\n      <td>10265843</td>\n      <td>너무재밓었다그래서보는것을추천한다</td>\n      <td>0</td>\n    </tr>\n    <tr>\n      <th>3</th>\n      <td>9045019</td>\n      <td>교도소 이야기구먼 ..솔직히 재미는 없다..평점 조정</td>\n      <td>0</td>\n    </tr>\n    <tr>\n      <th>4</th>\n      <td>6483659</td>\n      <td>사이몬페그의 익살스런 연기가 돋보였던 영화!스파이더맨에서 늙어보이기만 했던 커스틴 ...</td>\n      <td>1</td>\n    </tr>\n  </tbody>\n</table>\n</div>"
     },
     "metadata": {},
     "execution_count": 5
    }
   ],
   "source": [
    "train_data[:5] # 상위 5개 출력"
   ]
  },
  {
   "cell_type": "code",
   "execution_count": 12,
   "metadata": {
    "tags": []
   },
   "outputs": [
    {
     "output_type": "stream",
     "name": "stdout",
     "text": "테스트용 리뷰 개수 : 50000\n"
    }
   ],
   "source": [
    "print('테스트용 리뷰 개수 :',len(test_data)) # 테스트용 리뷰 개수 출력"
   ]
  },
  {
   "cell_type": "code",
   "execution_count": 13,
   "metadata": {},
   "outputs": [
    {
     "output_type": "execute_result",
     "data": {
      "text/plain": "        id                                           document  label\n0  6270596                                                굳 ㅋ      1\n1  9274899                               GDNTOPCLASSINTHECLUB      0\n2  8544678             뭐야 이 평점들은.... 나쁘진 않지만 10점 짜리는 더더욱 아니잖아      0\n3  6825595                   지루하지는 않은데 완전 막장임... 돈주고 보기에는....      0\n4  6723715  3D만 아니었어도 별 다섯 개 줬을텐데.. 왜 3D로 나와서 제 심기를 불편하게 하죠??      0",
      "text/html": "<div>\n<style scoped>\n    .dataframe tbody tr th:only-of-type {\n        vertical-align: middle;\n    }\n\n    .dataframe tbody tr th {\n        vertical-align: top;\n    }\n\n    .dataframe thead th {\n        text-align: right;\n    }\n</style>\n<table border=\"1\" class=\"dataframe\">\n  <thead>\n    <tr style=\"text-align: right;\">\n      <th></th>\n      <th>id</th>\n      <th>document</th>\n      <th>label</th>\n    </tr>\n  </thead>\n  <tbody>\n    <tr>\n      <th>0</th>\n      <td>6270596</td>\n      <td>굳 ㅋ</td>\n      <td>1</td>\n    </tr>\n    <tr>\n      <th>1</th>\n      <td>9274899</td>\n      <td>GDNTOPCLASSINTHECLUB</td>\n      <td>0</td>\n    </tr>\n    <tr>\n      <th>2</th>\n      <td>8544678</td>\n      <td>뭐야 이 평점들은.... 나쁘진 않지만 10점 짜리는 더더욱 아니잖아</td>\n      <td>0</td>\n    </tr>\n    <tr>\n      <th>3</th>\n      <td>6825595</td>\n      <td>지루하지는 않은데 완전 막장임... 돈주고 보기에는....</td>\n      <td>0</td>\n    </tr>\n    <tr>\n      <th>4</th>\n      <td>6723715</td>\n      <td>3D만 아니었어도 별 다섯 개 줬을텐데.. 왜 3D로 나와서 제 심기를 불편하게 하죠??</td>\n      <td>0</td>\n    </tr>\n  </tbody>\n</table>\n</div>"
     },
     "metadata": {},
     "execution_count": 13
    }
   ],
   "source": [
    "test_data[:5]"
   ]
  },
  {
   "cell_type": "code",
   "execution_count": 16,
   "metadata": {},
   "outputs": [
    {
     "output_type": "execute_result",
     "data": {
      "text/plain": "(146182, 2)"
     },
     "metadata": {},
     "execution_count": 16
    }
   ],
   "source": [
    "train_data['document'].nunique(), train_data['label'].nunique()"
   ]
  },
  {
   "cell_type": "code",
   "execution_count": 17,
   "metadata": {},
   "outputs": [],
   "source": [
    "train_data.drop_duplicates(subset=['document'], inplace=True) # document 열에서 중복인 내용이 있다면 중복 제거"
   ]
  },
  {
   "cell_type": "code",
   "execution_count": 18,
   "metadata": {
    "tags": []
   },
   "outputs": [
    {
     "output_type": "stream",
     "name": "stdout",
     "text": "총 샘플의 수 : 146182\n"
    }
   ],
   "source": [
    "print('총 샘플의 수 :',len(train_data))"
   ]
  },
  {
   "cell_type": "code",
   "execution_count": 19,
   "metadata": {},
   "outputs": [
    {
     "output_type": "execute_result",
     "data": {
      "text/plain": "<AxesSubplot:>"
     },
     "metadata": {},
     "execution_count": 19
    },
    {
     "output_type": "display_data",
     "data": {
      "text/plain": "<Figure size 432x288 with 1 Axes>",
      "image/svg+xml": "<?xml version=\"1.0\" encoding=\"utf-8\" standalone=\"no\"?>\n<!DOCTYPE svg PUBLIC \"-//W3C//DTD SVG 1.1//EN\"\n  \"http://www.w3.org/Graphics/SVG/1.1/DTD/svg11.dtd\">\n<!-- Created with matplotlib (https://matplotlib.org/) -->\n<svg height=\"245.2025pt\" version=\"1.1\" viewBox=\"0 0 388.0125 245.2025\" width=\"388.0125pt\" xmlns=\"http://www.w3.org/2000/svg\" xmlns:xlink=\"http://www.w3.org/1999/xlink\">\n <metadata>\n  <rdf:RDF xmlns:cc=\"http://creativecommons.org/ns#\" xmlns:dc=\"http://purl.org/dc/elements/1.1/\" xmlns:rdf=\"http://www.w3.org/1999/02/22-rdf-syntax-ns#\">\n   <cc:Work>\n    <dc:type rdf:resource=\"http://purl.org/dc/dcmitype/StillImage\"/>\n    <dc:date>2020-08-14T18:12:05.748539</dc:date>\n    <dc:format>image/svg+xml</dc:format>\n    <dc:creator>\n     <cc:Agent>\n      <dc:title>Matplotlib v3.3.1, https://matplotlib.org/</dc:title>\n     </cc:Agent>\n    </dc:creator>\n   </cc:Work>\n  </rdf:RDF>\n </metadata>\n <defs>\n  <style type=\"text/css\">*{stroke-linecap:butt;stroke-linejoin:round;}</style>\n </defs>\n <g id=\"figure_1\">\n  <g id=\"patch_1\">\n   <path d=\"M 0 245.2025 \nL 388.0125 245.2025 \nL 388.0125 0 \nL 0 0 \nz\n\" style=\"fill:none;\"/>\n  </g>\n  <g id=\"axes_1\">\n   <g id=\"patch_2\">\n    <path d=\"M 46.0125 224.64 \nL 380.8125 224.64 \nL 380.8125 7.2 \nL 46.0125 7.2 \nz\n\" style=\"fill:#ffffff;\"/>\n   </g>\n   <g id=\"patch_3\">\n    <path clip-path=\"url(#p5fc81920b8)\" d=\"M 87.8625 224.64 \nL 171.5625 224.64 \nL 171.5625 17.554286 \nL 87.8625 17.554286 \nz\n\" style=\"fill:#1f77b4;\"/>\n   </g>\n   <g id=\"patch_4\">\n    <path clip-path=\"url(#p5fc81920b8)\" d=\"M 255.2625 224.64 \nL 338.9625 224.64 \nL 338.9625 18.971714 \nL 255.2625 18.971714 \nz\n\" style=\"fill:#1f77b4;\"/>\n   </g>\n   <g id=\"matplotlib.axis_1\">\n    <g id=\"xtick_1\">\n     <g id=\"line2d_1\">\n      <defs>\n       <path d=\"M 0 0 \nL 0 3.5 \n\" id=\"mee0a296060\" style=\"stroke:#000000;stroke-width:0.8;\"/>\n      </defs>\n      <g>\n       <use style=\"stroke:#000000;stroke-width:0.8;\" x=\"129.7125\" xlink:href=\"#mee0a296060\" y=\"224.64\"/>\n      </g>\n     </g>\n     <g id=\"text_1\">\n      <!-- 0 -->\n      <g transform=\"translate(132.471875 238.0025)rotate(-90)scale(0.1 -0.1)\">\n       <defs>\n        <path d=\"M 31.78125 66.40625 \nQ 24.171875 66.40625 20.328125 58.90625 \nQ 16.5 51.421875 16.5 36.375 \nQ 16.5 21.390625 20.328125 13.890625 \nQ 24.171875 6.390625 31.78125 6.390625 \nQ 39.453125 6.390625 43.28125 13.890625 \nQ 47.125 21.390625 47.125 36.375 \nQ 47.125 51.421875 43.28125 58.90625 \nQ 39.453125 66.40625 31.78125 66.40625 \nz\nM 31.78125 74.21875 \nQ 44.046875 74.21875 50.515625 64.515625 \nQ 56.984375 54.828125 56.984375 36.375 \nQ 56.984375 17.96875 50.515625 8.265625 \nQ 44.046875 -1.421875 31.78125 -1.421875 \nQ 19.53125 -1.421875 13.0625 8.265625 \nQ 6.59375 17.96875 6.59375 36.375 \nQ 6.59375 54.828125 13.0625 64.515625 \nQ 19.53125 74.21875 31.78125 74.21875 \nz\n\" id=\"DejaVuSans-48\"/>\n       </defs>\n       <use xlink:href=\"#DejaVuSans-48\"/>\n      </g>\n     </g>\n    </g>\n    <g id=\"xtick_2\">\n     <g id=\"line2d_2\">\n      <g>\n       <use style=\"stroke:#000000;stroke-width:0.8;\" x=\"297.1125\" xlink:href=\"#mee0a296060\" y=\"224.64\"/>\n      </g>\n     </g>\n     <g id=\"text_2\">\n      <!-- 1 -->\n      <g transform=\"translate(299.871875 238.0025)rotate(-90)scale(0.1 -0.1)\">\n       <defs>\n        <path d=\"M 12.40625 8.296875 \nL 28.515625 8.296875 \nL 28.515625 63.921875 \nL 10.984375 60.40625 \nL 10.984375 69.390625 \nL 28.421875 72.90625 \nL 38.28125 72.90625 \nL 38.28125 8.296875 \nL 54.390625 8.296875 \nL 54.390625 0 \nL 12.40625 0 \nz\n\" id=\"DejaVuSans-49\"/>\n       </defs>\n       <use xlink:href=\"#DejaVuSans-49\"/>\n      </g>\n     </g>\n    </g>\n   </g>\n   <g id=\"matplotlib.axis_2\">\n    <g id=\"ytick_1\">\n     <g id=\"line2d_3\">\n      <defs>\n       <path d=\"M 0 0 \nL -3.5 0 \n\" id=\"m3f8d6a0f05\" style=\"stroke:#000000;stroke-width:0.8;\"/>\n      </defs>\n      <g>\n       <use style=\"stroke:#000000;stroke-width:0.8;\" x=\"46.0125\" xlink:href=\"#m3f8d6a0f05\" y=\"224.64\"/>\n      </g>\n     </g>\n     <g id=\"text_3\">\n      <!-- 0 -->\n      <g transform=\"translate(32.65 228.439219)scale(0.1 -0.1)\">\n       <use xlink:href=\"#DejaVuSans-48\"/>\n      </g>\n     </g>\n    </g>\n    <g id=\"ytick_2\">\n     <g id=\"line2d_4\">\n      <g>\n       <use style=\"stroke:#000000;stroke-width:0.8;\" x=\"46.0125\" xlink:href=\"#m3f8d6a0f05\" y=\"196.404376\"/>\n      </g>\n     </g>\n     <g id=\"text_4\">\n      <!-- 10000 -->\n      <g transform=\"translate(7.2 200.203595)scale(0.1 -0.1)\">\n       <use xlink:href=\"#DejaVuSans-49\"/>\n       <use x=\"63.623047\" xlink:href=\"#DejaVuSans-48\"/>\n       <use x=\"127.246094\" xlink:href=\"#DejaVuSans-48\"/>\n       <use x=\"190.869141\" xlink:href=\"#DejaVuSans-48\"/>\n       <use x=\"254.492188\" xlink:href=\"#DejaVuSans-48\"/>\n      </g>\n     </g>\n    </g>\n    <g id=\"ytick_3\">\n     <g id=\"line2d_5\">\n      <g>\n       <use style=\"stroke:#000000;stroke-width:0.8;\" x=\"46.0125\" xlink:href=\"#m3f8d6a0f05\" y=\"168.168752\"/>\n      </g>\n     </g>\n     <g id=\"text_5\">\n      <!-- 20000 -->\n      <g transform=\"translate(7.2 171.967971)scale(0.1 -0.1)\">\n       <defs>\n        <path d=\"M 19.1875 8.296875 \nL 53.609375 8.296875 \nL 53.609375 0 \nL 7.328125 0 \nL 7.328125 8.296875 \nQ 12.9375 14.109375 22.625 23.890625 \nQ 32.328125 33.6875 34.8125 36.53125 \nQ 39.546875 41.84375 41.421875 45.53125 \nQ 43.3125 49.21875 43.3125 52.78125 \nQ 43.3125 58.59375 39.234375 62.25 \nQ 35.15625 65.921875 28.609375 65.921875 \nQ 23.96875 65.921875 18.8125 64.3125 \nQ 13.671875 62.703125 7.8125 59.421875 \nL 7.8125 69.390625 \nQ 13.765625 71.78125 18.9375 73 \nQ 24.125 74.21875 28.421875 74.21875 \nQ 39.75 74.21875 46.484375 68.546875 \nQ 53.21875 62.890625 53.21875 53.421875 \nQ 53.21875 48.921875 51.53125 44.890625 \nQ 49.859375 40.875 45.40625 35.40625 \nQ 44.1875 33.984375 37.640625 27.21875 \nQ 31.109375 20.453125 19.1875 8.296875 \nz\n\" id=\"DejaVuSans-50\"/>\n       </defs>\n       <use xlink:href=\"#DejaVuSans-50\"/>\n       <use x=\"63.623047\" xlink:href=\"#DejaVuSans-48\"/>\n       <use x=\"127.246094\" xlink:href=\"#DejaVuSans-48\"/>\n       <use x=\"190.869141\" xlink:href=\"#DejaVuSans-48\"/>\n       <use x=\"254.492188\" xlink:href=\"#DejaVuSans-48\"/>\n      </g>\n     </g>\n    </g>\n    <g id=\"ytick_4\">\n     <g id=\"line2d_6\">\n      <g>\n       <use style=\"stroke:#000000;stroke-width:0.8;\" x=\"46.0125\" xlink:href=\"#m3f8d6a0f05\" y=\"139.933128\"/>\n      </g>\n     </g>\n     <g id=\"text_6\">\n      <!-- 30000 -->\n      <g transform=\"translate(7.2 143.732346)scale(0.1 -0.1)\">\n       <defs>\n        <path d=\"M 40.578125 39.3125 \nQ 47.65625 37.796875 51.625 33 \nQ 55.609375 28.21875 55.609375 21.1875 \nQ 55.609375 10.40625 48.1875 4.484375 \nQ 40.765625 -1.421875 27.09375 -1.421875 \nQ 22.515625 -1.421875 17.65625 -0.515625 \nQ 12.796875 0.390625 7.625 2.203125 \nL 7.625 11.71875 \nQ 11.71875 9.328125 16.59375 8.109375 \nQ 21.484375 6.890625 26.8125 6.890625 \nQ 36.078125 6.890625 40.9375 10.546875 \nQ 45.796875 14.203125 45.796875 21.1875 \nQ 45.796875 27.640625 41.28125 31.265625 \nQ 36.765625 34.90625 28.71875 34.90625 \nL 20.21875 34.90625 \nL 20.21875 43.015625 \nL 29.109375 43.015625 \nQ 36.375 43.015625 40.234375 45.921875 \nQ 44.09375 48.828125 44.09375 54.296875 \nQ 44.09375 59.90625 40.109375 62.90625 \nQ 36.140625 65.921875 28.71875 65.921875 \nQ 24.65625 65.921875 20.015625 65.03125 \nQ 15.375 64.15625 9.8125 62.3125 \nL 9.8125 71.09375 \nQ 15.4375 72.65625 20.34375 73.4375 \nQ 25.25 74.21875 29.59375 74.21875 \nQ 40.828125 74.21875 47.359375 69.109375 \nQ 53.90625 64.015625 53.90625 55.328125 \nQ 53.90625 49.265625 50.4375 45.09375 \nQ 46.96875 40.921875 40.578125 39.3125 \nz\n\" id=\"DejaVuSans-51\"/>\n       </defs>\n       <use xlink:href=\"#DejaVuSans-51\"/>\n       <use x=\"63.623047\" xlink:href=\"#DejaVuSans-48\"/>\n       <use x=\"127.246094\" xlink:href=\"#DejaVuSans-48\"/>\n       <use x=\"190.869141\" xlink:href=\"#DejaVuSans-48\"/>\n       <use x=\"254.492188\" xlink:href=\"#DejaVuSans-48\"/>\n      </g>\n     </g>\n    </g>\n    <g id=\"ytick_5\">\n     <g id=\"line2d_7\">\n      <g>\n       <use style=\"stroke:#000000;stroke-width:0.8;\" x=\"46.0125\" xlink:href=\"#m3f8d6a0f05\" y=\"111.697504\"/>\n      </g>\n     </g>\n     <g id=\"text_7\">\n      <!-- 40000 -->\n      <g transform=\"translate(7.2 115.496722)scale(0.1 -0.1)\">\n       <defs>\n        <path d=\"M 37.796875 64.3125 \nL 12.890625 25.390625 \nL 37.796875 25.390625 \nz\nM 35.203125 72.90625 \nL 47.609375 72.90625 \nL 47.609375 25.390625 \nL 58.015625 25.390625 \nL 58.015625 17.1875 \nL 47.609375 17.1875 \nL 47.609375 0 \nL 37.796875 0 \nL 37.796875 17.1875 \nL 4.890625 17.1875 \nL 4.890625 26.703125 \nz\n\" id=\"DejaVuSans-52\"/>\n       </defs>\n       <use xlink:href=\"#DejaVuSans-52\"/>\n       <use x=\"63.623047\" xlink:href=\"#DejaVuSans-48\"/>\n       <use x=\"127.246094\" xlink:href=\"#DejaVuSans-48\"/>\n       <use x=\"190.869141\" xlink:href=\"#DejaVuSans-48\"/>\n       <use x=\"254.492188\" xlink:href=\"#DejaVuSans-48\"/>\n      </g>\n     </g>\n    </g>\n    <g id=\"ytick_6\">\n     <g id=\"line2d_8\">\n      <g>\n       <use style=\"stroke:#000000;stroke-width:0.8;\" x=\"46.0125\" xlink:href=\"#m3f8d6a0f05\" y=\"83.461879\"/>\n      </g>\n     </g>\n     <g id=\"text_8\">\n      <!-- 50000 -->\n      <g transform=\"translate(7.2 87.261098)scale(0.1 -0.1)\">\n       <defs>\n        <path d=\"M 10.796875 72.90625 \nL 49.515625 72.90625 \nL 49.515625 64.59375 \nL 19.828125 64.59375 \nL 19.828125 46.734375 \nQ 21.96875 47.46875 24.109375 47.828125 \nQ 26.265625 48.1875 28.421875 48.1875 \nQ 40.625 48.1875 47.75 41.5 \nQ 54.890625 34.8125 54.890625 23.390625 \nQ 54.890625 11.625 47.5625 5.09375 \nQ 40.234375 -1.421875 26.90625 -1.421875 \nQ 22.3125 -1.421875 17.546875 -0.640625 \nQ 12.796875 0.140625 7.71875 1.703125 \nL 7.71875 11.625 \nQ 12.109375 9.234375 16.796875 8.0625 \nQ 21.484375 6.890625 26.703125 6.890625 \nQ 35.15625 6.890625 40.078125 11.328125 \nQ 45.015625 15.765625 45.015625 23.390625 \nQ 45.015625 31 40.078125 35.4375 \nQ 35.15625 39.890625 26.703125 39.890625 \nQ 22.75 39.890625 18.8125 39.015625 \nQ 14.890625 38.140625 10.796875 36.28125 \nz\n\" id=\"DejaVuSans-53\"/>\n       </defs>\n       <use xlink:href=\"#DejaVuSans-53\"/>\n       <use x=\"63.623047\" xlink:href=\"#DejaVuSans-48\"/>\n       <use x=\"127.246094\" xlink:href=\"#DejaVuSans-48\"/>\n       <use x=\"190.869141\" xlink:href=\"#DejaVuSans-48\"/>\n       <use x=\"254.492188\" xlink:href=\"#DejaVuSans-48\"/>\n      </g>\n     </g>\n    </g>\n    <g id=\"ytick_7\">\n     <g id=\"line2d_9\">\n      <g>\n       <use style=\"stroke:#000000;stroke-width:0.8;\" x=\"46.0125\" xlink:href=\"#m3f8d6a0f05\" y=\"55.226255\"/>\n      </g>\n     </g>\n     <g id=\"text_9\">\n      <!-- 60000 -->\n      <g transform=\"translate(7.2 59.025474)scale(0.1 -0.1)\">\n       <defs>\n        <path d=\"M 33.015625 40.375 \nQ 26.375 40.375 22.484375 35.828125 \nQ 18.609375 31.296875 18.609375 23.390625 \nQ 18.609375 15.53125 22.484375 10.953125 \nQ 26.375 6.390625 33.015625 6.390625 \nQ 39.65625 6.390625 43.53125 10.953125 \nQ 47.40625 15.53125 47.40625 23.390625 \nQ 47.40625 31.296875 43.53125 35.828125 \nQ 39.65625 40.375 33.015625 40.375 \nz\nM 52.59375 71.296875 \nL 52.59375 62.3125 \nQ 48.875 64.0625 45.09375 64.984375 \nQ 41.3125 65.921875 37.59375 65.921875 \nQ 27.828125 65.921875 22.671875 59.328125 \nQ 17.53125 52.734375 16.796875 39.40625 \nQ 19.671875 43.65625 24.015625 45.921875 \nQ 28.375 48.1875 33.59375 48.1875 \nQ 44.578125 48.1875 50.953125 41.515625 \nQ 57.328125 34.859375 57.328125 23.390625 \nQ 57.328125 12.15625 50.6875 5.359375 \nQ 44.046875 -1.421875 33.015625 -1.421875 \nQ 20.359375 -1.421875 13.671875 8.265625 \nQ 6.984375 17.96875 6.984375 36.375 \nQ 6.984375 53.65625 15.1875 63.9375 \nQ 23.390625 74.21875 37.203125 74.21875 \nQ 40.921875 74.21875 44.703125 73.484375 \nQ 48.484375 72.75 52.59375 71.296875 \nz\n\" id=\"DejaVuSans-54\"/>\n       </defs>\n       <use xlink:href=\"#DejaVuSans-54\"/>\n       <use x=\"63.623047\" xlink:href=\"#DejaVuSans-48\"/>\n       <use x=\"127.246094\" xlink:href=\"#DejaVuSans-48\"/>\n       <use x=\"190.869141\" xlink:href=\"#DejaVuSans-48\"/>\n       <use x=\"254.492188\" xlink:href=\"#DejaVuSans-48\"/>\n      </g>\n     </g>\n    </g>\n    <g id=\"ytick_8\">\n     <g id=\"line2d_10\">\n      <g>\n       <use style=\"stroke:#000000;stroke-width:0.8;\" x=\"46.0125\" xlink:href=\"#m3f8d6a0f05\" y=\"26.990631\"/>\n      </g>\n     </g>\n     <g id=\"text_10\">\n      <!-- 70000 -->\n      <g transform=\"translate(7.2 30.78985)scale(0.1 -0.1)\">\n       <defs>\n        <path d=\"M 8.203125 72.90625 \nL 55.078125 72.90625 \nL 55.078125 68.703125 \nL 28.609375 0 \nL 18.3125 0 \nL 43.21875 64.59375 \nL 8.203125 64.59375 \nz\n\" id=\"DejaVuSans-55\"/>\n       </defs>\n       <use xlink:href=\"#DejaVuSans-55\"/>\n       <use x=\"63.623047\" xlink:href=\"#DejaVuSans-48\"/>\n       <use x=\"127.246094\" xlink:href=\"#DejaVuSans-48\"/>\n       <use x=\"190.869141\" xlink:href=\"#DejaVuSans-48\"/>\n       <use x=\"254.492188\" xlink:href=\"#DejaVuSans-48\"/>\n      </g>\n     </g>\n    </g>\n   </g>\n   <g id=\"patch_5\">\n    <path d=\"M 46.0125 224.64 \nL 46.0125 7.2 \n\" style=\"fill:none;stroke:#000000;stroke-linecap:square;stroke-linejoin:miter;stroke-width:0.8;\"/>\n   </g>\n   <g id=\"patch_6\">\n    <path d=\"M 380.8125 224.64 \nL 380.8125 7.2 \n\" style=\"fill:none;stroke:#000000;stroke-linecap:square;stroke-linejoin:miter;stroke-width:0.8;\"/>\n   </g>\n   <g id=\"patch_7\">\n    <path d=\"M 46.0125 224.64 \nL 380.8125 224.64 \n\" style=\"fill:none;stroke:#000000;stroke-linecap:square;stroke-linejoin:miter;stroke-width:0.8;\"/>\n   </g>\n   <g id=\"patch_8\">\n    <path d=\"M 46.0125 7.2 \nL 380.8125 7.2 \n\" style=\"fill:none;stroke:#000000;stroke-linecap:square;stroke-linejoin:miter;stroke-width:0.8;\"/>\n   </g>\n  </g>\n </g>\n <defs>\n  <clipPath id=\"p5fc81920b8\">\n   <rect height=\"217.44\" width=\"334.8\" x=\"46.0125\" y=\"7.2\"/>\n  </clipPath>\n </defs>\n</svg>\n",
      "image/png": "[encoded data removed]"
     },
     "metadata": {
      "needs_background": "light"
     }
    }
   ],
   "source": [
    "train_data['label'].value_counts().plot(kind = 'bar')"
   ]
  },
  {
   "cell_type": "code",
   "execution_count": 20,
   "metadata": {
    "tags": []
   },
   "outputs": [
    {
     "output_type": "stream",
     "name": "stdout",
     "text": "label  count\n0      0  73342\n1      1  72840\n"
    }
   ],
   "source": [
    "print(train_data.groupby('label').size().reset_index(name = 'count'))"
   ]
  },
  {
   "cell_type": "code",
   "execution_count": 21,
   "metadata": {
    "tags": []
   },
   "outputs": [
    {
     "output_type": "stream",
     "name": "stdout",
     "text": "False\n"
    }
   ],
   "source": [
    "print(train_data.isnull().values.any())"
   ]
  },
  {
   "cell_type": "code",
   "execution_count": 22,
   "metadata": {
    "tags": []
   },
   "outputs": [
    {
     "output_type": "stream",
     "name": "stdout",
     "text": "id          0\ndocument    0\nlabel       0\ndtype: int64\n"
    }
   ],
   "source": [
    "print(train_data.isnull().sum())"
   ]
  },
  {
   "cell_type": "code",
   "execution_count": 23,
   "metadata": {},
   "outputs": [
    {
     "output_type": "execute_result",
     "data": {
      "text/plain": "Empty DataFrame\nColumns: [id, document, label]\nIndex: []",
      "text/html": "<div>\n<style scoped>\n    .dataframe tbody tr th:only-of-type {\n        vertical-align: middle;\n    }\n\n    .dataframe tbody tr th {\n        vertical-align: top;\n    }\n\n    .dataframe thead th {\n        text-align: right;\n    }\n</style>\n<table border=\"1\" class=\"dataframe\">\n  <thead>\n    <tr style=\"text-align: right;\">\n      <th></th>\n      <th>id</th>\n      <th>document</th>\n      <th>label</th>\n    </tr>\n  </thead>\n  <tbody>\n  </tbody>\n</table>\n</div>"
     },
     "metadata": {},
     "execution_count": 23
    }
   ],
   "source": [
    "train_data.loc[train_data.document.isnull()]"
   ]
  },
  {
   "cell_type": "code",
   "execution_count": 14,
   "metadata": {
    "tags": []
   },
   "outputs": [
    {
     "output_type": "stream",
     "name": "stdout",
     "text": "False\n"
    }
   ],
   "source": [
    "train_data = train_data.dropna(how = 'any') # Null 값이 존재하는 행 제거\n",
    "print(train_data.isnull().values.any()) # Null 값이 존재하는지 확인"
   ]
  },
  {
   "cell_type": "code",
   "execution_count": 24,
   "metadata": {
    "tags": []
   },
   "outputs": [
    {
     "output_type": "stream",
     "name": "stdout",
     "text": "146182\n"
    }
   ],
   "source": [
    "print(len(train_data))"
   ]
  },
  {
   "cell_type": "code",
   "execution_count": 25,
   "metadata": {},
   "outputs": [
    {
     "output_type": "execute_result",
     "data": {
      "text/plain": "         id                                           document  label\n0   9976970                                  아 더빙 진짜 짜증나네요 목소리      0\n1   3819312                         흠포스터보고 초딩영화줄오버연기조차 가볍지 않구나      1\n2  10265843                                  너무재밓었다그래서보는것을추천한다      0\n3   9045019                          교도소 이야기구먼 솔직히 재미는 없다평점 조정      0\n4   6483659  사이몬페그의 익살스런 연기가 돋보였던 영화스파이더맨에서 늙어보이기만 했던 커스틴 던...      1",
      "text/html": "<div>\n<style scoped>\n    .dataframe tbody tr th:only-of-type {\n        vertical-align: middle;\n    }\n\n    .dataframe tbody tr th {\n        vertical-align: top;\n    }\n\n    .dataframe thead th {\n        text-align: right;\n    }\n</style>\n<table border=\"1\" class=\"dataframe\">\n  <thead>\n    <tr style=\"text-align: right;\">\n      <th></th>\n      <th>id</th>\n      <th>document</th>\n      <th>label</th>\n    </tr>\n  </thead>\n  <tbody>\n    <tr>\n      <th>0</th>\n      <td>9976970</td>\n      <td>아 더빙 진짜 짜증나네요 목소리</td>\n      <td>0</td>\n    </tr>\n    <tr>\n      <th>1</th>\n      <td>3819312</td>\n      <td>흠포스터보고 초딩영화줄오버연기조차 가볍지 않구나</td>\n      <td>1</td>\n    </tr>\n    <tr>\n      <th>2</th>\n      <td>10265843</td>\n      <td>너무재밓었다그래서보는것을추천한다</td>\n      <td>0</td>\n    </tr>\n    <tr>\n      <th>3</th>\n      <td>9045019</td>\n      <td>교도소 이야기구먼 솔직히 재미는 없다평점 조정</td>\n      <td>0</td>\n    </tr>\n    <tr>\n      <th>4</th>\n      <td>6483659</td>\n      <td>사이몬페그의 익살스런 연기가 돋보였던 영화스파이더맨에서 늙어보이기만 했던 커스틴 던...</td>\n      <td>1</td>\n    </tr>\n  </tbody>\n</table>\n</div>"
     },
     "metadata": {},
     "execution_count": 25
    }
   ],
   "source": [
    "train_data['document'] = train_data['document'].str.replace(\"[^ㄱ-ㅎㅏ-ㅣ가-힣 ]\",\"\")\n",
    "# 한글과 공백을 제외하고 모두 제거\n",
    "train_data[:5]"
   ]
  },
  {
   "cell_type": "code",
   "execution_count": 26,
   "metadata": {
    "tags": []
   },
   "outputs": [
    {
     "output_type": "stream",
     "name": "stdout",
     "text": "id            0\ndocument    391\nlabel         0\ndtype: int64\n"
    }
   ],
   "source": [
    "train_data['document'].replace('', np.nan, inplace=True)\n",
    "print(train_data.isnull().sum())"
   ]
  },
  {
   "cell_type": "code",
   "execution_count": 27,
   "metadata": {},
   "outputs": [
    {
     "output_type": "execute_result",
     "data": {
      "text/plain": "           id document  label\n584   7117896      NaN      0\n593   6478189      NaN      0\n638   9364602      NaN      0\n668   1600635      NaN      0\n1559  6918082      NaN      1",
      "text/html": "<div>\n<style scoped>\n    .dataframe tbody tr th:only-of-type {\n        vertical-align: middle;\n    }\n\n    .dataframe tbody tr th {\n        vertical-align: top;\n    }\n\n    .dataframe thead th {\n        text-align: right;\n    }\n</style>\n<table border=\"1\" class=\"dataframe\">\n  <thead>\n    <tr style=\"text-align: right;\">\n      <th></th>\n      <th>id</th>\n      <th>document</th>\n      <th>label</th>\n    </tr>\n  </thead>\n  <tbody>\n    <tr>\n      <th>584</th>\n      <td>7117896</td>\n      <td>NaN</td>\n      <td>0</td>\n    </tr>\n    <tr>\n      <th>593</th>\n      <td>6478189</td>\n      <td>NaN</td>\n      <td>0</td>\n    </tr>\n    <tr>\n      <th>638</th>\n      <td>9364602</td>\n      <td>NaN</td>\n      <td>0</td>\n    </tr>\n    <tr>\n      <th>668</th>\n      <td>1600635</td>\n      <td>NaN</td>\n      <td>0</td>\n    </tr>\n    <tr>\n      <th>1559</th>\n      <td>6918082</td>\n      <td>NaN</td>\n      <td>1</td>\n    </tr>\n  </tbody>\n</table>\n</div>"
     },
     "metadata": {},
     "execution_count": 27
    }
   ],
   "source": [
    "train_data.loc[train_data.document.isnull()][:5]"
   ]
  },
  {
   "cell_type": "code",
   "execution_count": 28,
   "metadata": {
    "tags": []
   },
   "outputs": [
    {
     "output_type": "stream",
     "name": "stdout",
     "text": "145791\n"
    }
   ],
   "source": [
    "train_data = train_data.dropna(how = 'any')\n",
    "print(len(train_data))"
   ]
  },
  {
   "cell_type": "code",
   "execution_count": 29,
   "metadata": {
    "tags": []
   },
   "outputs": [
    {
     "output_type": "stream",
     "name": "stdout",
     "text": "전처리 후 테스트용 샘플의 개수 : 48995\n"
    }
   ],
   "source": [
    "test_data.drop_duplicates(subset = ['document'], inplace=True) # document 열에서 중복인 내용이 있다면 중복 제거\n",
    "test_data['document'] = test_data['document'].str.replace(\"[^ㄱ-ㅎㅏ-ㅣ가-힣 ]\",\"\") # 정규 표현식 수행\n",
    "test_data['document'].replace('', np.nan, inplace=True) # 공백은 Null 값으로 변경\n",
    "test_data = test_data.dropna(how='any') # Null 값 제거\n",
    "print('전처리 후 테스트용 샘플의 개수 :',len(test_data))"
   ]
  },
  {
   "cell_type": "code",
   "execution_count": 30,
   "metadata": {},
   "outputs": [],
   "source": [
    "stopwords = ['의','가','이','은','들','는','좀','잘','걍','과','도','를','으로','자','에','와','한','하다']"
   ]
  },
  {
   "cell_type": "code",
   "execution_count": 31,
   "metadata": {},
   "outputs": [
    {
     "output_type": "execute_result",
     "data": {
      "text/plain": "['오다', '이렇다', '것', '도', '영화', '라고', '차라리', '뮤직비디오', '를', '만들다', '게', '나다', '뻔']"
     },
     "metadata": {},
     "execution_count": 31
    }
   ],
   "source": [
    "okt = Okt()\n",
    "okt.morphs('와 이런 것도 영화라고 차라리 뮤직비디오를 만드는 게 나을 뻔', stem = True)\n"
   ]
  },
  {
   "cell_type": "code",
   "execution_count": 32,
   "metadata": {},
   "outputs": [],
   "source": [
    "X_train = []\n",
    "for sentence in train_data['document']:\n",
    "    temp_X = []\n",
    "    temp_X = okt.morphs(sentence, stem=True) # 토큰화\n",
    "    temp_X = [word for word in temp_X if not word in stopwords] # 불용어 제거\n",
    "    X_train.append(temp_X)"
   ]
  },
  {
   "cell_type": "code",
   "execution_count": 33,
   "metadata": {
    "tags": []
   },
   "outputs": [
    {
     "output_type": "stream",
     "name": "stdout",
     "text": "[['아', '더빙', '진짜', '짜증나다', '목소리'], ['흠', '포스터', '보고', '초딩', '영화', '줄', '오버', '연기', '조차', '가볍다', '않다'], ['너', '무재', '밓었', '다그', '래서', '보다', '추천', '다']]\n"
    }
   ],
   "source": [
    "print(X_train[:3])"
   ]
  },
  {
   "cell_type": "code",
   "execution_count": 34,
   "metadata": {},
   "outputs": [],
   "source": [
    "X_test = []\n",
    "for sentence in test_data['document']:\n",
    "    temp_X = []\n",
    "    temp_X = okt.morphs(sentence, stem=True) # 토큰화\n",
    "    temp_X = [word for word in temp_X if not word in stopwords] # 불용어 제거\n",
    "    X_test.append(temp_X)"
   ]
  },
  {
   "cell_type": "code",
   "execution_count": 35,
   "metadata": {},
   "outputs": [],
   "source": [
    "tokenizer = Tokenizer()\n",
    "tokenizer.fit_on_texts(X_train)"
   ]
  },
  {
   "cell_type": "code",
   "execution_count": 36,
   "metadata": {
    "tags": [
     "outputPrepend"
    ]
   },
   "outputs": [
    {
     "output_type": "stream",
     "name": "stdout",
     "text": " 42313, '점달': 42314, '재건': 42315, '얼등': 42316, '트컨': 42317, '씨나리오': 42318, '빠징꼬': 42319, '백이이': 42320, '규회': 42321, '으쓱': 42322, '파두콘': 42323, '엔별': 42324, '혔': 42325, '좀촌': 42326, '연간': 42327, '박슈': 42328, '박슈땀시': 42329, '응용': 42330, '뭐밍': 42331, '대업': 42332, '애호가': 42333, '개똥망작': 42334, '자채': 42335, '이비자': 42336, '벨라도나': 42337, '눈부심': 42338, '골든라즈베리상': 42339, 'ㅋㅋㄱㄲ': 42340, '감꿈': 42341, '포테이토': 42342, '렌코': 42343, '륄리': 42344, '뚝도': 42345, '힘그': 42346, 'ㅏㅇㅣ': 42347, '페란': 42348, '낚았': 42349, '배렸음': 42350, '브레너': 42351, '재밋었땅책두있찌': 42352, '머리모양': 42353, '쫌구렌': 42354, '교조': 42355, '외과의': 42356, '엄현경': 42357, '억하심정': 42358, '코바': 42359, '나츠': 42360, '탱탱': 42361, '존꿀잼': 42362, '베이비돌': 42363, '강츄배경': 42364, '잭더자이언트킬러': 42365, '닥돌': 42366, '소진하': 42367, '반댓말': 42368, '덕일': 42369, '인쇄': 42370, '누라리횬': 42371, '바킨': 42372, '알럽': 42373, '왈왈거림': 42374, '목포고': 42375, '목포역': 42376, '탐방': 42377, '전투복': 42378, '쨍쨍거리다': 42379, '케산철': 42380, '카코': 42381, '기계론': 42382, '엔트로피': 42383, '툴': 42384, '이슬람국': 42385, '난중일기': 42386, '한지원': 42387, '경외감': 42388, '개베': 42389, '불괘': 42390, '외케': 42391, '개정판': 42392, '씬좀': 42393, '헛헛헛': 42394, '당룡': 42395, '말나': 42396, '버스커버스커': 42397, '에츠코': 42398, '아디다스': 42399, '개흐접': 42400, '쾌활하다': 42401, '몽따': 42402, '스쿨오브락': 42403, '현암': 42404, '윙드': 42405, '후사르': 42406, '일본국철': 42407, '채무': 42408, '철도사고': 42409, '하늘아래': 42410, '거즈': 42411, '개최': 42412, '어둑어둑해지다': 42413, '됏어': 42414, '륭합니': 42415, '한지붕세가족': 42416, '료헤이': 42417, '똘빡': 42418, '대우받다': 42419, '짱째밌었오': 42420, '볼런': 42421, '좌우간': 42422, '창완형님': 42423, '포식': 42424, '쨍그랑': 42425, '름답': 42426, '껄끄럽습니': 42427, '상구': 42428, '잼게봣는뎅': 42429, '옹려': 42430, '청미': 42431, '미칀거': 42432, '썁섺꺄': 42433, '파친코': 42434, '디때': 42435, '렸는': 42436, '엊': 42437, '절수': 42438, '시간쩐': 42439, '미숭맹숭함': 42440, '흠좀무': 42441, '머저': 42442, '경성': 42443, '뫼': 42444, '병문안': 42445, '응로': 42446, '담양': 42447, '나도초능러': 42448, '반신': 42449, '끝이닼': 42450, '넿': 42451, '어찌어찌': 42452, '맘에들면': 42453, '배씬': 42454, '느꼇을듯': 42455, '할런': 42456, '디행': 42457, '아쉽드': 42458, '황금사자상': 42459, '껄그랫': 42460, '전리': 42461, '베르나': 42462, '여성호르몬': 42463, '억압받다': 42464, '찌레기': 42465, '프로파일': 42466, '애해': 42467, '귀수': 42468, '어쩡': 42469, '신장': 42470, '개업': 42471, '엄스': 42472, '포카봣는데': 42473, '포카': 42474, '욕보셨슴': 42475, '샤오': 42476, '겨눌때': 42477, '대문짝만하다': 42478, '번쌈': 42479, '의남매': 42480, '과천': 42481, '짓밟혔던': 42482, '전기의자': 42483, '얘뻐': 42484, '발화점': 42485, '못볼꼴': 42486, '비선형': 42487, '듬푹': 42488, '하긔루': 42489, '주딩': 42490, '얼늘': 42491, '인지부조화': 42492, '직지': 42493, '암것': 42494, '김유진': 42495, '큐클럭스클랜': 42496, '훼밀리마트': 42497, '은봉': 42498, '사가라': 42499, '달렷어': 42500, '뱃살': 42501, '청변': 42502, '엘빈': 42503, '벤드': 42504, '몸굴리느': 42505, '재섯슴': 42506, '진웅': 42507, '두유': 42508, '마약밀매': 42509, '겹결': 42510, '신짱구': 42511, '농축': 42512, 'ㅈㄴㅈㄴ': 42513, '넘잼게밨어요채닝': 42514, '흥행안됏': 42515, '헐랭헐랭': 42516, '개쫄딱': 42517, '건남': 42518, '매라': 42519, '기급': 42520, '성리학': 42521, '려욱': 42522, '쑤레긔': 42523, '만자': 42524, '얼룩말': 42525, '왔닼': 42526, '나음': 42527, '트래픽': 42528, '믿을늠': 42529, '허네씌부럴': 42530, '켄터키': 42531, '툭탁': 42532, '씨디': 42533, '배때': 42534, '응급': 42535, '왜앞': 42536, '것욕': 42537, '저출산': 42538, '기조': 42539, '차영화': 42540, '다생': 42541, '각햇': 42542, '칀더': 42543, '뭐거': 42544, '어려웡': 42545, '왜업': 42546, '군마': 42547, 'ㅉㅂ': 42548, '것이므': 42549, '데스크': 42550, '로마신화': 42551, '느꼐지': 42552, '리살': 42553, '음거': 42554, '섬유': 42555, '은심': 42556, '않떳는': 42557, '미술감독': 42558, '홀릭임': 42559, '김정학': 42560, '재애애애앰': 42561, '스맬난다': 42562, '원숭일': 42563, '브흐': 42564, '뿜었다그외': 42565, '뤽베쏭': 42566, '아윌': 42567, '비백': 42568, '거외': 42569, '때뭄': 42570, 'ㅁㅋㅋㅋ': 42571, '횽님': 42572, '일륜': 42573, '저러케': 42574, '레지블': 42575, '게락': 42576, '팔랑거리다': 42577, '빠염': 42578, '속었더': 42579, '지상전': 42580, '박일동': 42581, '리빙데드': 42582, '날씬하다': 42583, '홍지민': 42584, '노건평': 42585, '어쩄': 42586, '수요기획': 42587, '번질번질하다': 42588, '원주': 42589, '섹쉬해': 42590, '곰치': 42591, '무서웟다': 42592, '서영은': 42593, '꿀잼꿀잼꿀잼꿀잼': 42594, '아쿠아': 42595, '이락': 42596, '칫솔': 42597, '불모': 42598, '오경의': 42599, '더열': 42600, '가열': 42601, '낼일': 42602, '곶니': 42603, '전기문': 42604, '까불까불': 42605, '잼난': 42606, '팬이므': 42607, '메각하킬': 42608, '스타스크림': 42609, '은행가': 42610, '임재': 42611, '쿄고': 42612, '컨피덴셜': 42613, '오소': 42614, '죠으': 42615, '도청씬': 42616, '오성': 42617, '테닥존잘흐규': 42618, '헐랭': 42619, '류뚱': 42620, '솥': 42621, '쁠': 42622, '화창': 42623, '분들껜': 42624, '가불': 42625, '참회록': 42626, '가자지구': 42627, '봨': 42628, '조약': 42629, '듕궈': 42630, '변했냨': 42631, '익싸이팅': 42632, '딸역': 42633, '나태주': 42634, '중훈형님': 42635, '잘봣내': 42636, '도시정벌': 42637, '어땟는가': 42638, '켓': 42639, '크킄': 42640, '앨버트': 42641, '헤크': 42642, '윗트': 42643, '낚는것': 42644, '미치겄다': 42645, '쫑난거임': 42646, 'ㅋㅌㅋㅌ': 42647, '점준뇬': 42648, '중학생시절': 42649, '시대정신': 42650, '평덤': 42651, '비대': 42652, '재한': 42653, '아청': 42654, '왓습니다쭈욱': 42655, '크림레몬': 42656, '엘리켐퍼': 42657, '교차로': 42658, '쉣뜨쉣뜨쉐엣뜨쒯': 42659, '쉣쉣': 42660, '성대': 42661, '파기': 42662, '이센스': 42663, '자립하다': 42664, '왝': 42665, '천년호': 42666, '자귀모': 42667, '업슈': 42668, 'ㅛㅂ': 42669, '거볼돈': 42670, '엿같애': 42671, '캄파': 42672, '메부': 42673, '배웅': 42674, '후접': 42675, '꼬듯': 42676, '김연경': 42677, 'ㅈㅄ': 42678, '흡협': 42679, '대간': 42680, '놉': 42681, '무섭드': 42682, '왜욕': 42683, '무드': 42684, '서역': 42685, '견마잡이': 42686, '웰매': 42687, '년전즘': 42688, '통햐': 42689, '콩다콩': 42690, '똥발': 42691, '은월': 42692, '젤잼슴': 42693, '콩깍지': 42694, '씌여': 42695, '사우론': 42696, '기체': 42697, 'ㅋㅋㅎ': 42698, '에서만이': 42699, '명멸': 42700, '쯥': 42701, '홍의': 42702, '팀돈': 42703, '윙스': 42704, '월등': 42705, '루안': 42706, '혜진': 42707, '끼양꼬': 42708, '쀠양꼬': 42709, '삐리': 42710, '대구대': 42711, '십오분': 42712, '느껴졋습니': 42713, '스트라이잰드': 42714, '씨스타': 42715, '브루탈': 42716, '별룬거같애': 42717, '퍼클': 42718, '스터디': 42719, '심장쫄리': 42720, '단두': 42721, '꾸르뀨르': 42722, '싱가폴': 42723, '폭바범': 42724, '컬럼니스트': 42725, '소영은': 42726, '우성은': 42727, '힌데': 42728, '빠순': 42729, '법회': 42730, '매스게임': 42731, '빌라도': 42732, '불법복제': 42733, '흙속': 42734, '적정하다': 42735, '맹숭맹숭함': 42736, '디브이': 42737, '정반합': 42738, '이걸볼빠': 42739, '았습니': 42740, '스윽': 42741, 'ㅠㅠㅠㅠㅠㅠㅠㅠㅠㅠㅠㅠㅠㅠㅠㅠ': 42742, 'ㅠㅠㅠㅠㅠㅠㅠㅠㄹ': 42743, '바둥거릴테': 42744, '저떻다': 42745, '마이카': 42746, '날감': 42747, '로또복권': 42748, '벽시': 42749, '왜죽': 42750, '대현': 42751, '줸장': 42752, '중제': 42753, '세레': 42754, '모교': 42755, '넛져요강츄': 42756, '어근': 42757, '딮식스': 42758, '횔덜린': 42759, '클라이스트': 42760, '단도직입': 42761, '강납': 42762, '근데쪼매': 42763, '일직': 42764, '단펀': 42765, '가계': 42766, '빌렷던': 42767, '터프하': 42768, '윌로비': 42769, '훨잼나': 42770, '붤': 42771, '깐느영화제': 42772, '촬열': 42773, '간기남': 42774, '데쟈뷰': 42775, '겹침': 42776, '어케보': 42777, '딜리': 42778, '교육자': 42779, '미얀마': 42780, '국명': 42781, '쌘': 42782, '회포': 42783, '생맥주': 42784, '아니쟎': 42785, '김종수': 42786, '쏘루': 42787, '페러디': 42788, '내항': 42789, '친밀': 42790, '뽕거': 42791, '돌출': 42792, '슈네빠': 42793, '치수': 42794, '몰겄다': 42795, '아반떼': 42796, '색시': 42797, '뿐음': 42798, '옾위': 42799, '싱돼': 42800, '괘심': 42801, '경비행기': 42802, '개잼슴': 42803, '토레': 42804, '해경': 42805, '공민지': 42806, '앞장': 42807, '앙앙': 42808, '단악': 42809, '꼬꼭': 42810, '추입': 42811, '사츠키': 42812, '스모크': 42813, '건기': 42814, '디스턴스': 42815, '손장난': 42816, '셈암': 42817, '핏': 42818, '전조': 42819, '여행자': 42820, '가고일': 42821, '날갯질': 42822, '이게뮈': 42823, '항법': 42824, '몬테': 42825, '녀등': 42826, '좋으셧나': 42827, '준얘': 42828, '삐쭉': 42829, '번드르': 42830, '착시': 42831, '안됑': 42832, '대륙판': 42833, '재밋답니': 42834, '흠앞': 42835, '글랜': 42836, '이로하': 42837, '쨔': 42838, '응애': 42839, '얼릉얼릉': 42840, '하이파이브': 42841, '양자역학': 42842, '각트': 42843, '화풍': 42844, '아카디아': 42845, '잼날': 42846, '김창숙': 42847, '객꿀잼': 42848, '유원상': 42849, '치켜지다': 42850, '퍼부운': 42851, '이혜숙': 42852, '때즘': 42853, '초구': 42854, '지웠슴': 42855, '모아이': 42856, '스이': 42857, '최씨': 42858, '고르가': 42859, '자택': 42860, '달향': 42861, '바이오': 42862, '해저드': 42863, '블랙딜': 42864, '번더봄': 42865, '바람의화원': 42866, '묵읏다': 42867, '최준용': 42868, '무당연기': 42869, '교습': 42870, '숭인': 42871, '이길레': 42872, '키싱': 42873, '맞죵': 42874, '요흥': 42875, '유기물': 42876, '베이직': 42877, '훌러': 42878, '피어싱': 42879, '하이데거': 42880, '경험론': 42881, '박식하다': 42882, '멕뽕': 42883, '상등': 42884, '드빌': 42885, '임호': 42886, '너무넢다': 42887, '딘클': 42888, '셧다': 42889, '느꼇을꺼': 42890, '금천': 42891, '정현정': 42892, '중국요리': 42893, '정만호': 42894, '들떳': 42895, '김성경': 42896, '재부팅': 42897, '상쇄목적': 42898, '김형곤': 42899, '하고라도': 42900, '굴창': 42901, '년쨰': 42902, '열등함': 42903, '캠패': 42904, '혼잔': 42905, '포닉': 42906, '뽈렌느': 42907, '라파예트': 42908, '목마름': 42909, '서머셋': 42910, '토레스': 42911, '더컴버': 42912, '빈더': 42913, '과묵': 42914, '훜': 42915, '좀파슈': 42916, '고은별': 42917, '제세동기': 42918, '캐나다인': 42919, '문화영': 42920, '일식집': 42921, '쎄라동': 42922, '프란때문': 42923, '암치료': 42924, '윈스턴': 42925, '최진영': 42926, '방서': 42927, '깁다': 42928, '제네바': 42929, '쿵꿍': 42930, '이우': 42931, '악감': 42932, '인디안': 42933, '회문': 42934, '프로필사진': 42935, '젤젤': 42936, '회음부': 42937, '박윤': 42938, '휘향': 42939, '이재익': 42940, '박훈정': 42941, '없고비젼': 42942, '어슬렁거리다': 42943, '절영': 42944, 'ㅠㅠㅠㅜ': 42945, '아뿔싸': 42946, '여깄': 42947, '위츠니': 42948, '이상빈': 42949, '인생살이': 42950, '어떘을까': 42951, '차칸남자': 42952, '슬림': 42953, '슬랙': 42954, '때란': 42955, '어쩌겠다': 42956, '컴플라이언스': 42957, '떽떽': 42958, '터전': 42959, 'ㅠㅠㅠㄱㄱㄱ': 42960, '한음': 42961, '리쳐드': 42962, '교미': 42963, '펌하하': 42964, '적대시': 42965, '샅': 42966, '수오': 42967, '자비롭다': 42968, '뭐왜케': 42969, '더빽': 42970, '기몀비': 42971, '드보르작': 42972, '당스': 42973, '설리반': 42974, '보두앵': 42975, '왜드가': 42976, '땟음': 42977, '날좀': 42978, '로달': 42979, '오글': 42980, '비즈': 42981, '렌달': 42982, '집좀': 42983, '너무슬펏다': 42984, '소지품': 42985, '움내': 42986, '줄껀데': 42987, '무등산': 42988, '박흥숙': 42989, '창렬스러움': 42990, '경상북도': 42991, '와카': 42992, '경상남도': 42993, '원자력': 42994, '발전소': 42995, '빅쇼': 42996, '더후': 42997, '진언': 42998, '하오': 42999, '스니': 43000, '셰어': 43001, '그늠': 43002, '홍학표': 43003, '구비': 43004, '필욘없잖': 43005, '월향': 43006, '셋방': 43007, '데바': 43008, '이기술': 43009, '않을런': 43010, '나하시': 43011, '고사전': 43012, '이광기': 43013, '이진우': 43014, '김진아': 43015, '으응으빠': 43016, '츠다보믄으뜩해': 43017, '헬로우넷': 43018, '남중생': 43019, '볼돈': 43020, '막국수': 43021, '개빡나': 43022, '충븐했다': 43023, '멕시코시티': 43024, '롭좀비': 43025, '존심': 43026, '브리타니아': 43027, '둘러앉다': 43028, '에게든': 43029, '과환': 43030, '최아라': 43031, '진골': 43032, '골족': 43033, '려던': 43034, '쩌네욬': 43035, '장폴골티': 43036, '물색': 43037, '어딘지': 43038, '엣끼': 43039, '김경란': 43040, '베키역': 43041, '달턴': 43042, '남전': 43043, '홍등': 43044, '박영서': 43045, '장기하': 43046, '라스트네임': 43047, '인두': 43048, '붕어': 43049, '무가당': 43050, '한대수': 43051, '지론': 43052, '쨉씩': 43053, '카스텔리': 43054, '깐깐하다': 43055, '콧소리': 43056, '깊숙이': 43057, '그레픽점': 43058, '괴고': 43059, '역때': 43060, '무르익었': 43061, '미디어아트': 43062, '뒷마당': 43063, '분후': 43064, '제밌나': 43065, '남아공': 43066, '금수': 43067, '야오녀': 43068, '반러': 43069, '겨패': 43070, '평남': 43071, '니엄': 43072, '남주혁': 43073, '인문학자': 43074, '도작': 43075, '입장면': 43076, '임정희': 43077, '컹': 43078, '아랐는데': 43079, '뉘뮈영화': 43080, '콰아악퉤': 43081, '초팅': 43082, '용두동': 43083, '분필': 43084, '두엄': 43085, '박준하': 43086, '인싱': 43087, '쿼프': 43088, '민지아': 43089, '농아인': 43090, '업종': 43091, '이헤숙': 43092, '몽희': 43093, '몽유': 43094, '아꼇기': 43095, '바이런': 43096, '수제': 43097, '라비올리': 43098, '방향키': 43099, 'ㅋㄱㅋㅋ': 43100, '징크스': 43101, '쭈니': 43102, '체왜': 43103, '답다퉷': 43104, '윈체스터': 43105, '동위': 43106, '시무라': 43107, '완숙': 43108, '유역': 43109, '비덕': 43110, '쟄자째댖': 43111, '잼새잼': 43112, '황금어장': 43113, '완소남': 43114, '한혜숙': 43115, '일렉트라': 43116, '더셀': 43117, '못띠': 43118, '많넹나': 43119, '봣는데또재밋': 43120, '우첸롄': 43121, '혹스': 43122, '컼': 43123, '온라인게임': 43124, '뽠따': 43125, '쉬팔쉬팔쉬팔쉬': 43126, '렁찬': 43127, '리트머스': 43128, '시험지': 43129, '안올껄홈': 43130, '유트브': 43131, '우숩': 43132, '까루': 43133, '솎았단': 43134, '개떡칠': 43135, '표민수': 43136, '종방좀': 43137, '헛날': 43138, '팽브러더스': 43139, '무술가': 43140, '파상': 43141, '만춘': 43142, '황송': 43143, '굿굿굿답잡': 43144, '앰뷸런스': 43145, '복거일': 43146, '토요로드쇼': 43147, '돌프때문': 43148, '외처': 43149, '좃문': 43150, '가작': 43151, '아깝딘': 43152, '훌류': 43153, '마르크스': 43154, '쉣임이': 43155, '두산베어스': 43156, '엣헹': 43157, '읏': 43158, '텝덴스': 43159, '갸륵한데': 43160, '갯슴': 43161, '교문': 43162, '무슴': 43163, '오마에': 43164, '헝퍼펑': 43165, '피알': 43166, '색녀': 43167, '감촉': 43168, '마초맨': 43169, '용잼': 43170, '심전': 43171, '솔직담백하다': 43172, '세포생물학': 43173, '이걸봣': 43174, '관대': 43175, '그렌체몰': 43176, '이녕': 43177, '해양경찰': 43178, '쟈밌': 43179, '알고봤드': 43180, '불곰': 43181, '분식': 43182, '리스스': 43183, '보대': 43184, '꼬았': 43185, '중략': 43186, '뉴매': 43187, '봄직': 43188, '청조': 43189, '좃망': 43190, '나레이터': 43191, '불가분': 43192, '려신': 43193, '헸': 43194, '바협': 43195, '루마니아어': 43196, '나이트폴': 43197, '점머임': 43198, '옴뫄': 43199, '물구나무서기': 43200, '물구나무': 43201, '어젠': 43202, '기틀': 43203, '빼곤': 43204, '삭재': 43205, '한겅': 43206, '아카시아나무': 43207, '뭉클햇다': 43208, '예상힞': 43209, '버셜': 43210, '골렘': 43211, '뒤덥힌': 43212, '우럭': 43213, '도다리': 43214, '톱안': 43215, '봤네옄': 43216, '언뜻언뜻': 43217, '수빈': 43218, '무영': 43219, '옷발': 43220, '청년실업': 43221, '춤판': 43222, '인혜누': 43223, '암모니아': 43224, '마이사': 43225, '맹세코': 43226, '등장씬': 43227, '쿵작': 43228, '믹서': 43229, '패틴슨표': 43230, '혼숙': 43231, '몬대': 43232, '촐': 43233, '진로소주': 43234, '야산': 43235, '모딘': 43236, '심열': 43237, '능위': 43238, '억천만': 43239, '진대': 43240, 'ㅈㅈㅈ': 43241, '헤화': 43242, '캡사이신': 43243, '됭': 43244, '부통령': 43245, '애민': 43246, 'ㅌㅋㅋㅋ': 43247, '락락락': 43248, '기타연주': 43249, '어폰': 43250, '처준': 43251, '대체에너지': 43252, '교의': 43253, '음험': 43254, '뭉클뭉쿨': 43255, '수라도': 43256, '착용': 43257, '악세다': 43258, '블루칩': 43259, '죽갓': 43260, '이지유': 43261, '키메': 43262, '대단원': 43263, '꼭잼': 43264, '차유': 43265, '재밋어욤': 43266, '로빙': 43267, '타타타': 43268, '볼만했슴': 43269, '틀길레': 43270, '센다이로': 43271, 'ㄷㄷㄷㄷㄷㄷㄷㄷㄷㄷㄷㄷㄷㄷㄷㄷㄷㄷ': 43272, '질부': 43273, '몽타쥬': 43274, '거손': 43275, '번봄볼때': 43276, '킹스크로스': 43277, '메갈로돈': 43278, '예뼜': 43279, '시아버지': 43280, '펑소': 43281, '사랭해': 43282, '창밖': 43283, 'ㅋㅋㅌ': 43284, '다엽기': 43285, '해공': 43286, '감개': 43287, '무량': 43288, '이렁': 43289, '포텐터': 43290, '때진': 43291, '빵집': 43292, '피똥쌈': 43293, '만오해': 43294, '체내': 43295, '모르곘': 43296, '젝': 43297, '우렁찬': 43298, '멸하': 43299, '신인상': 43300, '촌지': 43301, '없는뎁': 43302, '참매': 43303, '남케': 43304, '함더': 43305, '겟습': 43306, '꼬앗는': 43307, '헥헥': 43308, '모파상': 43309, '플로베르': 43310, '박정환': 43311, '쪽문': 43312, '여실': 43313, '체리나무': 43314, '빙송국': 43315, '우주비행사': 43316, '장주': 43317, '요격': 43318, '읎나': 43319, '설음': 43320, '율브리너': 43321, '삼파전': 43322, '쌈마': 43323, '낙재': 43324, '형죽': 43325, '어줍찮': 43326, '탑팁': 43327, '콜록': 43328, '콜럭': 43329, '힙찔': 43330, '땟갈좋': 43331, '완전무결': 43332, '준닷': 43333, '회색도시': 43334, '피츠너': 43335, '혜윤이': 43336, '건알': 43337, '목둘': 43338, '햐햐햫': 43339, '범프': 43340, '청혼': 43341, 'ㄺ': 43342, '칭얼대다': 43343, '열강': 43344, '전입': 43345, '꼴통쇠': 43346, '드뭄': 43347, '질일': 43348, '결판': 43349, '못하겟': 43350, '래시': 43351, '칙잡해': 43352, 'ㅑㅈ': 43353, 'ㅎㄴㅁ': 43354, '조카딸': 43355, '설정떄문': 43356, '커피한잔': 43357, '만오': 43358, '꼬질꼬질': 43359, '소권괴초': 43360, '파인딩': 43361, '윈도우': 43362, '턱수염': 43363, '이뻣으': 43364, '뫘': 43365, '틀림없이': 43366, '숴워': 43367, '라쿤': 43368, '무집': 43369, '밀푀유': 43370, '청경채': 43371, '단적비연수': 43372, '고뤠왜': 43373, '로잼': 43374, 'ㄱㄱㄷ': 43375, '싖싖': 43376, '픽스': 43377, '사다꼬': 43378, '급특유': 43379, '벽장': 43380, '아꼽넹': 43381, '대량학살': 43382, '김종철': 43383, '밨었': 43384, '담대': 43385, '수애떄문': 43386, '박완규': 43387, '나짱': 43388, '처선': 43389, '유리컵': 43390, '탁자': 43391, '크로아티아': 43392, '호락호락하다': 43393, '게끝': 43394, '강두': 43395, '씬굿': 43396, '차영': 43397, '무왜': 43398, '마티유': 43399, '에쓰': 43400, '후회맙시': 43401, '베뤼굿': 43402, '옭': 43403, '김혜은': 43404, '됏엇': 43405, '경험치': 43406, '지프로': 43407, '마블코믹스': 43408, 'ㅊㅊㅊㅊ': 43409, '굴착기': 43410, '성규': 43411, '김성규': 43412, '좀아쉬웟': 43413, '지폐': 43414, '벽난로': 43415, '산초': 43416, '쟈베르역': 43417, '김효원': 43418, '낙시': 43419, '그린스크린': 43420, '시어스': 43421, '해쥬길': 43422, '근로기준법': 43423, '지하드': 43424, '밍쿠': 43425, '찌아': 43426, '함박': 43427, '자꼬': 43428, '생방왜함': 43429, '인페르노': 43430, '괴년': 43431, '매초': 43432, '논현': 43433, '현주엽': 43434, '느끼므리': 43435, '일본사': 43436, '또머임': 43437, '묵혔구': 43438, '장홍': 43439, '돈아까버': 43440, '설강': 43441, '쉐비': 43442, '호옥시': 43443, '심햇다': 43444, 'ㅋㅎㅅㅎ': 43445, '스크류바': 43446, '쌍쌍바': 43447, '배치기': 43448, '자본론': 43449, '여대': 43450, '운곽선': 43451, '돈텔파파': 43452, '페기': 43453, '응보': 43454, '샤월들': 43455, '쌍으루': 43456, '활쏘기': 43457, '밌습니': 43458, '듬니': 43459, '남근': 43460, '달링': 43461, '인스피': 43462, '빅밴드': 43463, '버무리': 43464, 'ㅛㅏㅏㅊ': 43465, '공공장소': 43466, '성인용품점': 43467, '어쩌구저쩌구': 43468, 'ㅂㅇㅂㅇ': 43469, '중효': 43470, '존잼업': 43471, '깜방가': 43472, '할러': 43473, '흑의': 43474, '감돌다': 43475, '놀이기구': 43476, '명은': 43477, '보머': 43478, '자유형': 43479, '타랑': 43480, '시부야': 43481, '드읃': 43482, '꼬미': 43483, '싱하횽': 43484, '아양': 43485, '계쏙': 43486, '반짝스타': 43487, '환빠': 43488, '역점': 43489, '수상실': 43490, '큐잭': 43491, '햇슴': 43492, '쿠데타': 43493, '캐잼': 43494, '강하나': 43495, '송은진': 43496, '코리안시리즈': 43497, '만루': 43498, '번트': 43499, 'ㅋㅇㅎㅅ': 43500, '하셧는': 43501, '머냑': 43502, '묵자': 43503, '로어셰크': 43504, '기황': 43505, '항목': 43506, '꿩': 43507, '으헝어헝': 43508, '어앙': 43509, '한떄': 43510, '베버리힐스': 43511, '셈돈': 43512, '초내': 43513, '점줄랫는데': 43514, '아서왕': 43515, '왜리렇': 43516, '튕겼어': 43517, '영국문학': 43518, '이종환': 43519, '잠구': 43520, '마쯔': 43521, '잔느': 43522, '븅들': 43523, '빽빨': 43524, '여후': 43525, '플래닛테러': 43526, '부채': 43527, '필림': 43528, '용과': 43529, '포신': 43530, '마알': 43531, '원화': 43532, '노로': 43533, '이시언': 43534, '김재현': 43535, '송재민': 43536, '송재빈': 43537, '노추': 43538, '콜로니': 43539, '연로': 43540, '살피': 43541, '공격성': 43542, '오르페오': 43543, '데니스강': 43544, '굿릿': 43545, '쩌릿쩌릿': 43546, '소모품': 43547, '빌게이츠': 43548, '스폐': 43549, '회중': 43550, '쨘나낚': 43551, '물풍선': 43552, '진쫘루': 43553, '씨걸': 43554, '홍콬영화': 43555, '라영': 43556, '돌입': 43557, '추풍낙엽': 43558, '적외선': 43559, '탐지': 43560, '허류루류': 43561, '재방봄막': 43562, '구럼비': 43563, '꿈떡': 43564, '껏읍니': 43565, '성희연': 43566, '길달': 43567, '길문': 43568, '싸잡히다': 43569, '쫀득쫀': 43570, '픈웃': 43571, '기강': 43572, '유얼': 43573, '못햇던': 43574, '어잼고만': 43575, '칸코쿠진다제': 43576, '소비자고발': 43577, '화석': 43578, '보지맙시': 43579, '권운': 43580, '빗장': 43581, '짱귱': 43582, '신필': 43583, '양우': 43584, '와룡생': 43585, '김훈': 43586, '칼의노래': 43587, '뿡뿡크크': 43588, '뒤쥐': 43589, '베리야': 43590, '해준둣꼭': 43591, '밌어': 43592, '있으느까': 43593, '이설': 43594, '위험천만': 43595, '극기': 43596, '지능범': 43597, '명망': 43598, '쥴리엣': 43599, '점줄랬는데': 43600, '이태원': 43601, '집부북': 43602, '해놈': 43603, '망처논': 43604, '조세희': 43605, '쌩뚱마져': 43606, '메비우스': 43607, '빙그르르': 43608, '진공상태': 43609, '파목': 43610, '생갓': 43611, '흘쩍': 43612, '평저': 43613, '결구': 43614, '츠츠미': 43615, '형기': 43616, '우릉': 43617, '흥순': 43618, '박완': 43619, '저먼': 43620, '아장아장': 43621, '말길': 43622, '횐': 43623, '번쾌': 43624, '블루마운틴': 43625, '안나왓': 43626, '뽀잉': 43627, '뽜이팅': 43628, '달콤새콤': 43629, '씁쓰름': 43630, '초인종': 43631, '림바': 43632, '탑차': 43633, '탑안': 43634, '오디세이아': 43635, '넌니': 43636, '승범': 43637, '청문': 43638, '사하구': 43639, '부턱': 43640, '세피아': 43641, '스릉함돠': 43642, '떙기': 43643, '귀신이산다': 43644, '조갑제': 43645, '지만원': 43646, '깜직함': 43647, '궁금궁금글구': 43648, '여자꼬셔': 43649, '삼유': 43650, '장뤽': 43651, '첨봣는데': 43652, '말임': 43653, '힌극': 43654, '이퀼리브리엄': 43655, '쿠르릉': 43656, '쾅쾅': 43657, '드네유': 43658, '던전앤드래곤': 43659, '여조': 43660, '슈프림': 43661, '졸렷음': 43662, '굿임돠': 43663, '꼴칰': 43664, '빈골': 43665, '성균관대': 43666, '몰랏네': 43667, '낚였당': 43668, '허천': 43669, '근데벡실': 43670, '때임': 43671, '봉양': 43672, '아라타': 43673, '팬시': 43674, '스포티지': 43675, '베이비페이스': 43676, '귿': 43677, '내집마련': 43678, '팬미팅': 43679, '부산하다': 43680, '페데리코': 43681, '두주니': 43682, '우무': 43683, '김창훈': 43684, '프로듀서': 43685, '요가씬': 43686, '홍성진님': 43687, '모의': 43688, '바랫다': 43689, '토스트': 43690, '국내외': 43691, 'ㅊㄹㅊㄹㅊㄹㅊㄹㅊㄹㅊㄹㅊㄹㅊㄹ': 43692, '겨누던': 43693, '메꿀': 43694, '해럴슨': 43695, '노무현정부': 43696, '하이든': 43697, '글레머': 43698, '졸잼꿀잼임': 43699, '리피아': 43700, '호그': 43701, '띁을려': 43702, '통교': 43703, '수정역': 43704, '못생겄다': 43705, '절대영도': 43706, '우훗': 43707, '스왜': 43708, '한기대': 43709, '핓빛': 43710, '데루': 43711, '겻다': 43712, '엠플런스': 43713, 'ㅋㅋㅋㅋㅋㅋㅋㅋㅋㅋㅋㅋㅋㅋㅋㅋㅋㅋㅋㅋㅋㅋㅋㅋㅋㅋㅋㅋㅋㅋㅋㅋㅋㅋㅋㅋㅋㅋㅋㅋ': 43714, '격해': 43715, '버스광고': 43716, '모꼬': 43717, '핫팩': 43718, '보슬영화': 43719, '성조기': 43720, '짅자': 43721, '호서': 43722, '쨔응태욱': 43723, '쥐기삘': 43724, '하묘': 43725, '비창': 43726, '재밓쳫': 43727, '컾컾': 43728, '헬맷': 43729, '싸움개': 43730, '빅엿빅엿': 43731, '조르쥬': 43732, '내몬': 43733, '강비': 43734, '협심증': 43735, '역광': 43736, '비젼': 43737, '흉노족': 43738, '마루이': 43739, '머싰따능': 43740, '노형욱': 43741, '윤영삼': 43742, '초코': 43743, '대병소장': 43744, '신해혁명': 43745, '차이니즈': 43746, '차후': 43747, 'ㅍㄹㄱ': 43748, '섹귀들': 43749, '찎었': 43750, '디케이드': 43751, '수간': 43752}\n"
    }
   ],
   "source": [
    "print(tokenizer.word_index)"
   ]
  },
  {
   "cell_type": "code",
   "execution_count": 37,
   "metadata": {
    "tags": []
   },
   "outputs": [
    {
     "output_type": "stream",
     "name": "stdout",
     "text": "단어 집합(vocabulary)의 크기 : 43752\n등장 빈도가 2번 이하인 희귀 단어의 수: 24337\n단어 집합에서 희귀 단어의 비율: 55.62488571950996\n전체 등장 빈도에서 희귀 단어 등장 빈도 비율: 1.8715872104872904\n"
    }
   ],
   "source": [
    "threshold = 3\n",
    "total_cnt = len(tokenizer.word_index) # 단어의 수\n",
    "rare_cnt = 0 # 등장 빈도수가 threshold보다 작은 단어의 개수를 카운트\n",
    "total_freq = 0 # 훈련 데이터의 전체 단어 빈도수 총 합\n",
    "rare_freq = 0 # 등장 빈도수가 threshold보다 작은 단어의 등장 빈도수의 총 합\n",
    "\n",
    "# 단어와 빈도수의 쌍(pair)을 key와 value로 받는다.\n",
    "for key, value in tokenizer.word_counts.items():\n",
    "    total_freq = total_freq + value\n",
    "\n",
    "    # 단어의 등장 빈도수가 threshold보다 작으면\n",
    "    if(value < threshold):\n",
    "        rare_cnt = rare_cnt + 1\n",
    "        rare_freq = rare_freq + value\n",
    "\n",
    "print('단어 집합(vocabulary)의 크기 :',total_cnt)\n",
    "print('등장 빈도가 %s번 이하인 희귀 단어의 수: %s'%(threshold - 1, rare_cnt))\n",
    "print(\"단어 집합에서 희귀 단어의 비율:\", (rare_cnt / total_cnt)*100)\n",
    "print(\"전체 등장 빈도에서 희귀 단어 등장 빈도 비율:\", (rare_freq / total_freq)*100)\n"
   ]
  },
  {
   "cell_type": "code",
   "execution_count": 38,
   "metadata": {
    "tags": []
   },
   "outputs": [
    {
     "output_type": "stream",
     "name": "stdout",
     "text": "단어 집합의 크기 : 19417\n"
    }
   ],
   "source": [
    "# 전체 단어 개수 중 빈도수 2이하인 단어 개수는 제거.\n",
    "# 0번 패딩 토큰과 1번 OOV 토큰을 고려하여 +2\n",
    "vocab_size = total_cnt - rare_cnt + 2\n",
    "print('단어 집합의 크기 :',vocab_size)\n"
   ]
  },
  {
   "cell_type": "code",
   "execution_count": 39,
   "metadata": {},
   "outputs": [],
   "source": [
    "tokenizer = Tokenizer(vocab_size, oov_token = 'OOV') \n",
    "tokenizer.fit_on_texts(X_train)\n",
    "X_train = tokenizer.texts_to_sequences(X_train)\n",
    "X_test = tokenizer.texts_to_sequences(X_test)"
   ]
  },
  {
   "cell_type": "code",
   "execution_count": 40,
   "metadata": {
    "tags": []
   },
   "outputs": [
    {
     "output_type": "stream",
     "name": "stdout",
     "text": "[[51, 455, 17, 261, 660], [934, 458, 42, 603, 2, 215, 1450, 25, 962, 676, 20], [387, 2445, 1, 2316, 5672, 3, 223, 10]]\n"
    }
   ],
   "source": [
    "print(X_train[:3])"
   ]
  },
  {
   "cell_type": "code",
   "execution_count": 41,
   "metadata": {},
   "outputs": [],
   "source": [
    "y_train = np.array(train_data['label'])\n",
    "y_test = np.array(test_data['label'])"
   ]
  },
  {
   "cell_type": "code",
   "execution_count": 42,
   "metadata": {},
   "outputs": [],
   "source": [
    "drop_train = [index for index, sentence in enumerate(X_train) if len(sentence) < 1]"
   ]
  },
  {
   "cell_type": "code",
   "execution_count": 43,
   "metadata": {
    "tags": []
   },
   "outputs": [
    {
     "output_type": "stream",
     "name": "stdout",
     "text": "145380\n145380\n"
    }
   ],
   "source": [
    "# 빈 샘플들을 제거\n",
    "X_train = np.delete(X_train, drop_train, axis=0)\n",
    "y_train = np.delete(y_train, drop_train, axis=0)\n",
    "print(len(X_train))\n",
    "print(len(y_train))"
   ]
  },
  {
   "cell_type": "code",
   "execution_count": 44,
   "metadata": {
    "tags": []
   },
   "outputs": [
    {
     "output_type": "stream",
     "name": "stdout",
     "text": "리뷰의 최대 길이 : 72\n리뷰의 평균 길이 : 11.002187371027652\n"
    },
    {
     "output_type": "display_data",
     "data": {
      "text/plain": "<Figure size 432x288 with 1 Axes>",
      "image/svg+xml": "<?xml version=\"1.0\" encoding=\"utf-8\" standalone=\"no\"?>\n<!DOCTYPE svg PUBLIC \"-//W3C//DTD SVG 1.1//EN\"\n  \"http://www.w3.org/Graphics/SVG/1.1/DTD/svg11.dtd\">\n<!-- Created with matplotlib (https://matplotlib.org/) -->\n<svg height=\"263.615613pt\" version=\"1.1\" viewBox=\"0 0 401.690625 263.615613\" width=\"401.690625pt\" xmlns=\"http://www.w3.org/2000/svg\" xmlns:xlink=\"http://www.w3.org/1999/xlink\">\n <metadata>\n  <rdf:RDF xmlns:cc=\"http://creativecommons.org/ns#\" xmlns:dc=\"http://purl.org/dc/elements/1.1/\" xmlns:rdf=\"http://www.w3.org/1999/02/22-rdf-syntax-ns#\">\n   <cc:Work>\n    <dc:type rdf:resource=\"http://purl.org/dc/dcmitype/StillImage\"/>\n    <dc:date>2020-08-14T18:21:58.998187</dc:date>\n    <dc:format>image/svg+xml</dc:format>\n    <dc:creator>\n     <cc:Agent>\n      <dc:title>Matplotlib v3.3.1, https://matplotlib.org/</dc:title>\n     </cc:Agent>\n    </dc:creator>\n   </cc:Work>\n  </rdf:RDF>\n </metadata>\n <defs>\n  <style type=\"text/css\">*{stroke-linecap:butt;stroke-linejoin:round;}</style>\n </defs>\n <g id=\"figure_1\">\n  <g id=\"patch_1\">\n   <path d=\"M 0 263.615613 \nL 401.690625 263.615613 \nL 401.690625 0 \nL 0 0 \nz\n\" style=\"fill:none;\"/>\n  </g>\n  <g id=\"axes_1\">\n   <g id=\"patch_2\">\n    <path d=\"M 59.690625 226.059363 \nL 394.490625 226.059363 \nL 394.490625 8.619363 \nL 59.690625 8.619363 \nz\n\" style=\"fill:#ffffff;\"/>\n   </g>\n   <g id=\"patch_3\">\n    <path clip-path=\"url(#pae4fdeb56a)\" d=\"M 74.908807 226.059363 \nL 80.99608 226.059363 \nL 80.99608 154.263685 \nL 74.908807 154.263685 \nz\n\" style=\"fill:#1f77b4;\"/>\n   </g>\n   <g id=\"patch_4\">\n    <path clip-path=\"url(#pae4fdeb56a)\" d=\"M 80.99608 226.059363 \nL 87.083352 226.059363 \nL 87.083352 147.983928 \nL 80.99608 147.983928 \nz\n\" style=\"fill:#1f77b4;\"/>\n   </g>\n   <g id=\"patch_5\">\n    <path clip-path=\"url(#pae4fdeb56a)\" d=\"M 87.083352 226.059363 \nL 93.170625 226.059363 \nL 93.170625 18.973649 \nL 87.083352 18.973649 \nz\n\" style=\"fill:#1f77b4;\"/>\n   </g>\n   <g id=\"patch_6\">\n    <path clip-path=\"url(#pae4fdeb56a)\" d=\"M 93.170625 226.059363 \nL 99.257898 226.059363 \nL 99.257898 121.892832 \nL 93.170625 121.892832 \nz\n\" style=\"fill:#1f77b4;\"/>\n   </g>\n   <g id=\"patch_7\">\n    <path clip-path=\"url(#pae4fdeb56a)\" d=\"M 99.257898 226.059363 \nL 105.34517 226.059363 \nL 105.34517 45.348625 \nL 99.257898 45.348625 \nz\n\" style=\"fill:#1f77b4;\"/>\n   </g>\n   <g id=\"patch_8\">\n    <path clip-path=\"url(#pae4fdeb56a)\" d=\"M 105.34517 226.059363 \nL 111.432443 226.059363 \nL 111.432443 149.626988 \nL 105.34517 149.626988 \nz\n\" style=\"fill:#1f77b4;\"/>\n   </g>\n   <g id=\"patch_9\">\n    <path clip-path=\"url(#pae4fdeb56a)\" d=\"M 111.432443 226.059363 \nL 117.519716 226.059363 \nL 117.519716 155.657274 \nL 111.432443 155.657274 \nz\n\" style=\"fill:#1f77b4;\"/>\n   </g>\n   <g id=\"patch_10\">\n    <path clip-path=\"url(#pae4fdeb56a)\" d=\"M 117.519716 226.059363 \nL 123.606989 226.059363 \nL 123.606989 109.858066 \nL 117.519716 109.858066 \nz\n\" style=\"fill:#1f77b4;\"/>\n   </g>\n   <g id=\"patch_11\">\n    <path clip-path=\"url(#pae4fdeb56a)\" d=\"M 123.606989 226.059363 \nL 129.694261 226.059363 \nL 129.694261 181.103191 \nL 123.606989 181.103191 \nz\n\" style=\"fill:#1f77b4;\"/>\n   </g>\n   <g id=\"patch_12\">\n    <path clip-path=\"url(#pae4fdeb56a)\" d=\"M 129.694261 226.059363 \nL 135.781534 226.059363 \nL 135.781534 158.117562 \nL 129.694261 158.117562 \nz\n\" style=\"fill:#1f77b4;\"/>\n   </g>\n   <g id=\"patch_13\">\n    <path clip-path=\"url(#pae4fdeb56a)\" d=\"M 135.781534 226.059363 \nL 141.868807 226.059363 \nL 141.868807 203.478048 \nL 135.781534 203.478048 \nz\n\" style=\"fill:#1f77b4;\"/>\n   </g>\n   <g id=\"patch_14\">\n    <path clip-path=\"url(#pae4fdeb56a)\" d=\"M 141.868807 226.059363 \nL 147.95608 226.059363 \nL 147.95608 191.417475 \nL 141.868807 191.417475 \nz\n\" style=\"fill:#1f77b4;\"/>\n   </g>\n   <g id=\"patch_15\">\n    <path clip-path=\"url(#pae4fdeb56a)\" d=\"M 147.95608 226.059363 \nL 154.043352 226.059363 \nL 154.043352 213.215971 \nL 147.95608 213.215971 \nz\n\" style=\"fill:#1f77b4;\"/>\n   </g>\n   <g id=\"patch_16\">\n    <path clip-path=\"url(#pae4fdeb56a)\" d=\"M 154.043352 226.059363 \nL 160.130625 226.059363 \nL 160.130625 214.540742 \nL 154.043352 214.540742 \nz\n\" style=\"fill:#1f77b4;\"/>\n   </g>\n   <g id=\"patch_17\">\n    <path clip-path=\"url(#pae4fdeb56a)\" d=\"M 160.130625 226.059363 \nL 166.217898 226.059363 \nL 166.217898 205.800698 \nL 160.130625 205.800698 \nz\n\" style=\"fill:#1f77b4;\"/>\n   </g>\n   <g id=\"patch_18\">\n    <path clip-path=\"url(#pae4fdeb56a)\" d=\"M 166.217898 226.059363 \nL 172.30517 226.059363 \nL 172.30517 216.871994 \nL 166.217898 216.871994 \nz\n\" style=\"fill:#1f77b4;\"/>\n   </g>\n   <g id=\"patch_19\">\n    <path clip-path=\"url(#pae4fdeb56a)\" d=\"M 172.30517 226.059363 \nL 178.392443 226.059363 \nL 178.392443 210.093298 \nL 172.30517 210.093298 \nz\n\" style=\"fill:#1f77b4;\"/>\n   </g>\n   <g id=\"patch_20\">\n    <path clip-path=\"url(#pae4fdeb56a)\" d=\"M 178.392443 226.059363 \nL 184.479716 226.059363 \nL 184.479716 218.953776 \nL 178.392443 218.953776 \nz\n\" style=\"fill:#1f77b4;\"/>\n   </g>\n   <g id=\"patch_21\">\n    <path clip-path=\"url(#pae4fdeb56a)\" d=\"M 184.479716 226.059363 \nL 190.566989 226.059363 \nL 190.566989 219.487125 \nL 184.479716 219.487125 \nz\n\" style=\"fill:#1f77b4;\"/>\n   </g>\n   <g id=\"patch_22\">\n    <path clip-path=\"url(#pae4fdeb56a)\" d=\"M 190.566989 226.059363 \nL 196.654261 226.059363 \nL 196.654261 213.852549 \nL 190.566989 213.852549 \nz\n\" style=\"fill:#1f77b4;\"/>\n   </g>\n   <g id=\"patch_23\">\n    <path clip-path=\"url(#pae4fdeb56a)\" d=\"M 196.654261 226.059363 \nL 202.741534 226.059363 \nL 202.741534 220.089294 \nL 196.654261 220.089294 \nz\n\" style=\"fill:#1f77b4;\"/>\n   </g>\n   <g id=\"patch_24\">\n    <path clip-path=\"url(#pae4fdeb56a)\" d=\"M 202.741534 226.059363 \nL 208.828807 226.059363 \nL 208.828807 215.512814 \nL 202.741534 215.512814 \nz\n\" style=\"fill:#1f77b4;\"/>\n   </g>\n   <g id=\"patch_25\">\n    <path clip-path=\"url(#pae4fdeb56a)\" d=\"M 208.828807 226.059363 \nL 214.91608 226.059363 \nL 214.91608 221.224811 \nL 208.828807 221.224811 \nz\n\" style=\"fill:#1f77b4;\"/>\n   </g>\n   <g id=\"patch_26\">\n    <path clip-path=\"url(#pae4fdeb56a)\" d=\"M 214.91608 226.059363 \nL 221.003352 226.059363 \nL 221.003352 216.32144 \nL 214.91608 216.32144 \nz\n\" style=\"fill:#1f77b4;\"/>\n   </g>\n   <g id=\"patch_27\">\n    <path clip-path=\"url(#pae4fdeb56a)\" d=\"M 221.003352 226.059363 \nL 227.090625 226.059363 \nL 227.090625 221.611919 \nL 221.003352 221.611919 \nz\n\" style=\"fill:#1f77b4;\"/>\n   </g>\n   <g id=\"patch_28\">\n    <path clip-path=\"url(#pae4fdeb56a)\" d=\"M 227.090625 226.059363 \nL 233.177898 226.059363 \nL 233.177898 221.250618 \nL 227.090625 221.250618 \nz\n\" style=\"fill:#1f77b4;\"/>\n   </g>\n   <g id=\"patch_29\">\n    <path clip-path=\"url(#pae4fdeb56a)\" d=\"M 233.177898 226.059363 \nL 239.26517 226.059363 \nL 239.26517 215.42679 \nL 233.177898 215.42679 \nz\n\" style=\"fill:#1f77b4;\"/>\n   </g>\n   <g id=\"patch_30\">\n    <path clip-path=\"url(#pae4fdeb56a)\" d=\"M 239.26517 226.059363 \nL 245.352443 226.059363 \nL 245.352443 221.018353 \nL 239.26517 221.018353 \nz\n\" style=\"fill:#1f77b4;\"/>\n   </g>\n   <g id=\"patch_31\">\n    <path clip-path=\"url(#pae4fdeb56a)\" d=\"M 245.352443 226.059363 \nL 251.439716 226.059363 \nL 251.439716 217.03544 \nL 245.352443 217.03544 \nz\n\" style=\"fill:#1f77b4;\"/>\n   </g>\n   <g id=\"patch_32\">\n    <path clip-path=\"url(#pae4fdeb56a)\" d=\"M 251.439716 226.059363 \nL 257.526989 226.059363 \nL 257.526989 222.635606 \nL 251.439716 222.635606 \nz\n\" style=\"fill:#1f77b4;\"/>\n   </g>\n   <g id=\"patch_33\">\n    <path clip-path=\"url(#pae4fdeb56a)\" d=\"M 257.526989 226.059363 \nL 263.614261 226.059363 \nL 263.614261 220.725872 \nL 257.526989 220.725872 \nz\n\" style=\"fill:#1f77b4;\"/>\n   </g>\n   <g id=\"patch_34\">\n    <path clip-path=\"url(#pae4fdeb56a)\" d=\"M 263.614261 226.059363 \nL 269.701534 226.059363 \nL 269.701534 224.270063 \nL 263.614261 224.270063 \nz\n\" style=\"fill:#1f77b4;\"/>\n   </g>\n   <g id=\"patch_35\">\n    <path clip-path=\"url(#pae4fdeb56a)\" d=\"M 269.701534 226.059363 \nL 275.788807 226.059363 \nL 275.788807 224.72599 \nL 269.701534 224.72599 \nz\n\" style=\"fill:#1f77b4;\"/>\n   </g>\n   <g id=\"patch_36\">\n    <path clip-path=\"url(#pae4fdeb56a)\" d=\"M 275.788807 226.059363 \nL 281.87608 226.059363 \nL 281.87608 224.596954 \nL 275.788807 224.596954 \nz\n\" style=\"fill:#1f77b4;\"/>\n   </g>\n   <g id=\"patch_37\">\n    <path clip-path=\"url(#pae4fdeb56a)\" d=\"M 281.87608 226.059363 \nL 287.963352 226.059363 \nL 287.963352 225.586231 \nL 281.87608 225.586231 \nz\n\" style=\"fill:#1f77b4;\"/>\n   </g>\n   <g id=\"patch_38\">\n    <path clip-path=\"url(#pae4fdeb56a)\" d=\"M 287.963352 226.059363 \nL 294.050625 226.059363 \nL 294.050625 225.586231 \nL 287.963352 225.586231 \nz\n\" style=\"fill:#1f77b4;\"/>\n   </g>\n   <g id=\"patch_39\">\n    <path clip-path=\"url(#pae4fdeb56a)\" d=\"M 294.050625 226.059363 \nL 300.137898 226.059363 \nL 300.137898 225.913122 \nL 294.050625 225.913122 \nz\n\" style=\"fill:#1f77b4;\"/>\n   </g>\n   <g id=\"patch_40\">\n    <path clip-path=\"url(#pae4fdeb56a)\" d=\"M 300.137898 226.059363 \nL 306.22517 226.059363 \nL 306.22517 225.964737 \nL 300.137898 225.964737 \nz\n\" style=\"fill:#1f77b4;\"/>\n   </g>\n   <g id=\"patch_41\">\n    <path clip-path=\"url(#pae4fdeb56a)\" d=\"M 306.22517 226.059363 \nL 312.312443 226.059363 \nL 312.312443 225.87011 \nL 306.22517 225.87011 \nz\n\" style=\"fill:#1f77b4;\"/>\n   </g>\n   <g id=\"patch_42\">\n    <path clip-path=\"url(#pae4fdeb56a)\" d=\"M 312.312443 226.059363 \nL 318.399716 226.059363 \nL 318.399716 226.007749 \nL 312.312443 226.007749 \nz\n\" style=\"fill:#1f77b4;\"/>\n   </g>\n   <g id=\"patch_43\">\n    <path clip-path=\"url(#pae4fdeb56a)\" d=\"M 318.399716 226.059363 \nL 324.486989 226.059363 \nL 324.486989 225.990544 \nL 318.399716 225.990544 \nz\n\" style=\"fill:#1f77b4;\"/>\n   </g>\n   <g id=\"patch_44\">\n    <path clip-path=\"url(#pae4fdeb56a)\" d=\"M 324.486989 226.059363 \nL 330.574261 226.059363 \nL 330.574261 226.050761 \nL 324.486989 226.050761 \nz\n\" style=\"fill:#1f77b4;\"/>\n   </g>\n   <g id=\"patch_45\">\n    <path clip-path=\"url(#pae4fdeb56a)\" d=\"M 330.574261 226.059363 \nL 336.661534 226.059363 \nL 336.661534 226.033556 \nL 330.574261 226.033556 \nz\n\" style=\"fill:#1f77b4;\"/>\n   </g>\n   <g id=\"patch_46\">\n    <path clip-path=\"url(#pae4fdeb56a)\" d=\"M 336.661534 226.059363 \nL 342.748807 226.059363 \nL 342.748807 226.042158 \nL 336.661534 226.042158 \nz\n\" style=\"fill:#1f77b4;\"/>\n   </g>\n   <g id=\"patch_47\">\n    <path clip-path=\"url(#pae4fdeb56a)\" d=\"M 342.748807 226.059363 \nL 348.83608 226.059363 \nL 348.83608 226.050761 \nL 342.748807 226.050761 \nz\n\" style=\"fill:#1f77b4;\"/>\n   </g>\n   <g id=\"patch_48\">\n    <path clip-path=\"url(#pae4fdeb56a)\" d=\"M 348.83608 226.059363 \nL 354.923352 226.059363 \nL 354.923352 226.059363 \nL 348.83608 226.059363 \nz\n\" style=\"fill:#1f77b4;\"/>\n   </g>\n   <g id=\"patch_49\">\n    <path clip-path=\"url(#pae4fdeb56a)\" d=\"M 354.923352 226.059363 \nL 361.010625 226.059363 \nL 361.010625 226.059363 \nL 354.923352 226.059363 \nz\n\" style=\"fill:#1f77b4;\"/>\n   </g>\n   <g id=\"patch_50\">\n    <path clip-path=\"url(#pae4fdeb56a)\" d=\"M 361.010625 226.059363 \nL 367.097898 226.059363 \nL 367.097898 226.042158 \nL 361.010625 226.042158 \nz\n\" style=\"fill:#1f77b4;\"/>\n   </g>\n   <g id=\"patch_51\">\n    <path clip-path=\"url(#pae4fdeb56a)\" d=\"M 367.097898 226.059363 \nL 373.18517 226.059363 \nL 373.18517 226.059363 \nL 367.097898 226.059363 \nz\n\" style=\"fill:#1f77b4;\"/>\n   </g>\n   <g id=\"patch_52\">\n    <path clip-path=\"url(#pae4fdeb56a)\" d=\"M 373.18517 226.059363 \nL 379.272443 226.059363 \nL 379.272443 226.050761 \nL 373.18517 226.050761 \nz\n\" style=\"fill:#1f77b4;\"/>\n   </g>\n   <g id=\"matplotlib.axis_1\">\n    <g id=\"xtick_1\">\n     <g id=\"line2d_1\">\n      <defs>\n       <path d=\"M 0 0 \nL 0 3.5 \n\" id=\"mc7bf348c04\" style=\"stroke:#000000;stroke-width:0.8;\"/>\n      </defs>\n      <g>\n       <use style=\"stroke:#000000;stroke-width:0.8;\" x=\"70.621995\" xlink:href=\"#mc7bf348c04\" y=\"226.059363\"/>\n      </g>\n     </g>\n     <g id=\"text_1\">\n      <!-- 0 -->\n      <g transform=\"translate(67.440745 240.657801)scale(0.1 -0.1)\">\n       <defs>\n        <path d=\"M 31.78125 66.40625 \nQ 24.171875 66.40625 20.328125 58.90625 \nQ 16.5 51.421875 16.5 36.375 \nQ 16.5 21.390625 20.328125 13.890625 \nQ 24.171875 6.390625 31.78125 6.390625 \nQ 39.453125 6.390625 43.28125 13.890625 \nQ 47.125 21.390625 47.125 36.375 \nQ 47.125 51.421875 43.28125 58.90625 \nQ 39.453125 66.40625 31.78125 66.40625 \nz\nM 31.78125 74.21875 \nQ 44.046875 74.21875 50.515625 64.515625 \nQ 56.984375 54.828125 56.984375 36.375 \nQ 56.984375 17.96875 50.515625 8.265625 \nQ 44.046875 -1.421875 31.78125 -1.421875 \nQ 19.53125 -1.421875 13.0625 8.265625 \nQ 6.59375 17.96875 6.59375 36.375 \nQ 6.59375 54.828125 13.0625 64.515625 \nQ 19.53125 74.21875 31.78125 74.21875 \nz\n\" id=\"DejaVuSans-48\"/>\n       </defs>\n       <use xlink:href=\"#DejaVuSans-48\"/>\n      </g>\n     </g>\n    </g>\n    <g id=\"xtick_2\">\n     <g id=\"line2d_2\">\n      <g>\n       <use style=\"stroke:#000000;stroke-width:0.8;\" x=\"113.490113\" xlink:href=\"#mc7bf348c04\" y=\"226.059363\"/>\n      </g>\n     </g>\n     <g id=\"text_2\">\n      <!-- 10 -->\n      <g transform=\"translate(107.127613 240.657801)scale(0.1 -0.1)\">\n       <defs>\n        <path d=\"M 12.40625 8.296875 \nL 28.515625 8.296875 \nL 28.515625 63.921875 \nL 10.984375 60.40625 \nL 10.984375 69.390625 \nL 28.421875 72.90625 \nL 38.28125 72.90625 \nL 38.28125 8.296875 \nL 54.390625 8.296875 \nL 54.390625 0 \nL 12.40625 0 \nz\n\" id=\"DejaVuSans-49\"/>\n       </defs>\n       <use xlink:href=\"#DejaVuSans-49\"/>\n       <use x=\"63.623047\" xlink:href=\"#DejaVuSans-48\"/>\n      </g>\n     </g>\n    </g>\n    <g id=\"xtick_3\">\n     <g id=\"line2d_3\">\n      <g>\n       <use style=\"stroke:#000000;stroke-width:0.8;\" x=\"156.358231\" xlink:href=\"#mc7bf348c04\" y=\"226.059363\"/>\n      </g>\n     </g>\n     <g id=\"text_3\">\n      <!-- 20 -->\n      <g transform=\"translate(149.995731 240.657801)scale(0.1 -0.1)\">\n       <defs>\n        <path d=\"M 19.1875 8.296875 \nL 53.609375 8.296875 \nL 53.609375 0 \nL 7.328125 0 \nL 7.328125 8.296875 \nQ 12.9375 14.109375 22.625 23.890625 \nQ 32.328125 33.6875 34.8125 36.53125 \nQ 39.546875 41.84375 41.421875 45.53125 \nQ 43.3125 49.21875 43.3125 52.78125 \nQ 43.3125 58.59375 39.234375 62.25 \nQ 35.15625 65.921875 28.609375 65.921875 \nQ 23.96875 65.921875 18.8125 64.3125 \nQ 13.671875 62.703125 7.8125 59.421875 \nL 7.8125 69.390625 \nQ 13.765625 71.78125 18.9375 73 \nQ 24.125 74.21875 28.421875 74.21875 \nQ 39.75 74.21875 46.484375 68.546875 \nQ 53.21875 62.890625 53.21875 53.421875 \nQ 53.21875 48.921875 51.53125 44.890625 \nQ 49.859375 40.875 45.40625 35.40625 \nQ 44.1875 33.984375 37.640625 27.21875 \nQ 31.109375 20.453125 19.1875 8.296875 \nz\n\" id=\"DejaVuSans-50\"/>\n       </defs>\n       <use xlink:href=\"#DejaVuSans-50\"/>\n       <use x=\"63.623047\" xlink:href=\"#DejaVuSans-48\"/>\n      </g>\n     </g>\n    </g>\n    <g id=\"xtick_4\">\n     <g id=\"line2d_4\">\n      <g>\n       <use style=\"stroke:#000000;stroke-width:0.8;\" x=\"199.226348\" xlink:href=\"#mc7bf348c04\" y=\"226.059363\"/>\n      </g>\n     </g>\n     <g id=\"text_4\">\n      <!-- 30 -->\n      <g transform=\"translate(192.863848 240.657801)scale(0.1 -0.1)\">\n       <defs>\n        <path d=\"M 40.578125 39.3125 \nQ 47.65625 37.796875 51.625 33 \nQ 55.609375 28.21875 55.609375 21.1875 \nQ 55.609375 10.40625 48.1875 4.484375 \nQ 40.765625 -1.421875 27.09375 -1.421875 \nQ 22.515625 -1.421875 17.65625 -0.515625 \nQ 12.796875 0.390625 7.625 2.203125 \nL 7.625 11.71875 \nQ 11.71875 9.328125 16.59375 8.109375 \nQ 21.484375 6.890625 26.8125 6.890625 \nQ 36.078125 6.890625 40.9375 10.546875 \nQ 45.796875 14.203125 45.796875 21.1875 \nQ 45.796875 27.640625 41.28125 31.265625 \nQ 36.765625 34.90625 28.71875 34.90625 \nL 20.21875 34.90625 \nL 20.21875 43.015625 \nL 29.109375 43.015625 \nQ 36.375 43.015625 40.234375 45.921875 \nQ 44.09375 48.828125 44.09375 54.296875 \nQ 44.09375 59.90625 40.109375 62.90625 \nQ 36.140625 65.921875 28.71875 65.921875 \nQ 24.65625 65.921875 20.015625 65.03125 \nQ 15.375 64.15625 9.8125 62.3125 \nL 9.8125 71.09375 \nQ 15.4375 72.65625 20.34375 73.4375 \nQ 25.25 74.21875 29.59375 74.21875 \nQ 40.828125 74.21875 47.359375 69.109375 \nQ 53.90625 64.015625 53.90625 55.328125 \nQ 53.90625 49.265625 50.4375 45.09375 \nQ 46.96875 40.921875 40.578125 39.3125 \nz\n\" id=\"DejaVuSans-51\"/>\n       </defs>\n       <use xlink:href=\"#DejaVuSans-51\"/>\n       <use x=\"63.623047\" xlink:href=\"#DejaVuSans-48\"/>\n      </g>\n     </g>\n    </g>\n    <g id=\"xtick_5\">\n     <g id=\"line2d_5\">\n      <g>\n       <use style=\"stroke:#000000;stroke-width:0.8;\" x=\"242.094466\" xlink:href=\"#mc7bf348c04\" y=\"226.059363\"/>\n      </g>\n     </g>\n     <g id=\"text_5\">\n      <!-- 40 -->\n      <g transform=\"translate(235.731966 240.657801)scale(0.1 -0.1)\">\n       <defs>\n        <path d=\"M 37.796875 64.3125 \nL 12.890625 25.390625 \nL 37.796875 25.390625 \nz\nM 35.203125 72.90625 \nL 47.609375 72.90625 \nL 47.609375 25.390625 \nL 58.015625 25.390625 \nL 58.015625 17.1875 \nL 47.609375 17.1875 \nL 47.609375 0 \nL 37.796875 0 \nL 37.796875 17.1875 \nL 4.890625 17.1875 \nL 4.890625 26.703125 \nz\n\" id=\"DejaVuSans-52\"/>\n       </defs>\n       <use xlink:href=\"#DejaVuSans-52\"/>\n       <use x=\"63.623047\" xlink:href=\"#DejaVuSans-48\"/>\n      </g>\n     </g>\n    </g>\n    <g id=\"xtick_6\">\n     <g id=\"line2d_6\">\n      <g>\n       <use style=\"stroke:#000000;stroke-width:0.8;\" x=\"284.962584\" xlink:href=\"#mc7bf348c04\" y=\"226.059363\"/>\n      </g>\n     </g>\n     <g id=\"text_6\">\n      <!-- 50 -->\n      <g transform=\"translate(278.600084 240.657801)scale(0.1 -0.1)\">\n       <defs>\n        <path d=\"M 10.796875 72.90625 \nL 49.515625 72.90625 \nL 49.515625 64.59375 \nL 19.828125 64.59375 \nL 19.828125 46.734375 \nQ 21.96875 47.46875 24.109375 47.828125 \nQ 26.265625 48.1875 28.421875 48.1875 \nQ 40.625 48.1875 47.75 41.5 \nQ 54.890625 34.8125 54.890625 23.390625 \nQ 54.890625 11.625 47.5625 5.09375 \nQ 40.234375 -1.421875 26.90625 -1.421875 \nQ 22.3125 -1.421875 17.546875 -0.640625 \nQ 12.796875 0.140625 7.71875 1.703125 \nL 7.71875 11.625 \nQ 12.109375 9.234375 16.796875 8.0625 \nQ 21.484375 6.890625 26.703125 6.890625 \nQ 35.15625 6.890625 40.078125 11.328125 \nQ 45.015625 15.765625 45.015625 23.390625 \nQ 45.015625 31 40.078125 35.4375 \nQ 35.15625 39.890625 26.703125 39.890625 \nQ 22.75 39.890625 18.8125 39.015625 \nQ 14.890625 38.140625 10.796875 36.28125 \nz\n\" id=\"DejaVuSans-53\"/>\n       </defs>\n       <use xlink:href=\"#DejaVuSans-53\"/>\n       <use x=\"63.623047\" xlink:href=\"#DejaVuSans-48\"/>\n      </g>\n     </g>\n    </g>\n    <g id=\"xtick_7\">\n     <g id=\"line2d_7\">\n      <g>\n       <use style=\"stroke:#000000;stroke-width:0.8;\" x=\"327.830702\" xlink:href=\"#mc7bf348c04\" y=\"226.059363\"/>\n      </g>\n     </g>\n     <g id=\"text_7\">\n      <!-- 60 -->\n      <g transform=\"translate(321.468202 240.657801)scale(0.1 -0.1)\">\n       <defs>\n        <path d=\"M 33.015625 40.375 \nQ 26.375 40.375 22.484375 35.828125 \nQ 18.609375 31.296875 18.609375 23.390625 \nQ 18.609375 15.53125 22.484375 10.953125 \nQ 26.375 6.390625 33.015625 6.390625 \nQ 39.65625 6.390625 43.53125 10.953125 \nQ 47.40625 15.53125 47.40625 23.390625 \nQ 47.40625 31.296875 43.53125 35.828125 \nQ 39.65625 40.375 33.015625 40.375 \nz\nM 52.59375 71.296875 \nL 52.59375 62.3125 \nQ 48.875 64.0625 45.09375 64.984375 \nQ 41.3125 65.921875 37.59375 65.921875 \nQ 27.828125 65.921875 22.671875 59.328125 \nQ 17.53125 52.734375 16.796875 39.40625 \nQ 19.671875 43.65625 24.015625 45.921875 \nQ 28.375 48.1875 33.59375 48.1875 \nQ 44.578125 48.1875 50.953125 41.515625 \nQ 57.328125 34.859375 57.328125 23.390625 \nQ 57.328125 12.15625 50.6875 5.359375 \nQ 44.046875 -1.421875 33.015625 -1.421875 \nQ 20.359375 -1.421875 13.671875 8.265625 \nQ 6.984375 17.96875 6.984375 36.375 \nQ 6.984375 53.65625 15.1875 63.9375 \nQ 23.390625 74.21875 37.203125 74.21875 \nQ 40.921875 74.21875 44.703125 73.484375 \nQ 48.484375 72.75 52.59375 71.296875 \nz\n\" id=\"DejaVuSans-54\"/>\n       </defs>\n       <use xlink:href=\"#DejaVuSans-54\"/>\n       <use x=\"63.623047\" xlink:href=\"#DejaVuSans-48\"/>\n      </g>\n     </g>\n    </g>\n    <g id=\"xtick_8\">\n     <g id=\"line2d_8\">\n      <g>\n       <use style=\"stroke:#000000;stroke-width:0.8;\" x=\"370.69882\" xlink:href=\"#mc7bf348c04\" y=\"226.059363\"/>\n      </g>\n     </g>\n     <g id=\"text_8\">\n      <!-- 70 -->\n      <g transform=\"translate(364.33632 240.657801)scale(0.1 -0.1)\">\n       <defs>\n        <path d=\"M 8.203125 72.90625 \nL 55.078125 72.90625 \nL 55.078125 68.703125 \nL 28.609375 0 \nL 18.3125 0 \nL 43.21875 64.59375 \nL 8.203125 64.59375 \nz\n\" id=\"DejaVuSans-55\"/>\n       </defs>\n       <use xlink:href=\"#DejaVuSans-55\"/>\n       <use x=\"63.623047\" xlink:href=\"#DejaVuSans-48\"/>\n      </g>\n     </g>\n    </g>\n    <g id=\"text_9\">\n     <!-- length of samples -->\n     <g transform=\"translate(182.371875 254.335926)scale(0.1 -0.1)\">\n      <defs>\n       <path d=\"M 9.421875 75.984375 \nL 18.40625 75.984375 \nL 18.40625 0 \nL 9.421875 0 \nz\n\" id=\"DejaVuSans-108\"/>\n       <path d=\"M 56.203125 29.59375 \nL 56.203125 25.203125 \nL 14.890625 25.203125 \nQ 15.484375 15.921875 20.484375 11.0625 \nQ 25.484375 6.203125 34.421875 6.203125 \nQ 39.59375 6.203125 44.453125 7.46875 \nQ 49.3125 8.734375 54.109375 11.28125 \nL 54.109375 2.78125 \nQ 49.265625 0.734375 44.1875 -0.34375 \nQ 39.109375 -1.421875 33.890625 -1.421875 \nQ 20.796875 -1.421875 13.15625 6.1875 \nQ 5.515625 13.8125 5.515625 26.8125 \nQ 5.515625 40.234375 12.765625 48.109375 \nQ 20.015625 56 32.328125 56 \nQ 43.359375 56 49.78125 48.890625 \nQ 56.203125 41.796875 56.203125 29.59375 \nz\nM 47.21875 32.234375 \nQ 47.125 39.59375 43.09375 43.984375 \nQ 39.0625 48.390625 32.421875 48.390625 \nQ 24.90625 48.390625 20.390625 44.140625 \nQ 15.875 39.890625 15.1875 32.171875 \nz\n\" id=\"DejaVuSans-101\"/>\n       <path d=\"M 54.890625 33.015625 \nL 54.890625 0 \nL 45.90625 0 \nL 45.90625 32.71875 \nQ 45.90625 40.484375 42.875 44.328125 \nQ 39.84375 48.1875 33.796875 48.1875 \nQ 26.515625 48.1875 22.3125 43.546875 \nQ 18.109375 38.921875 18.109375 30.90625 \nL 18.109375 0 \nL 9.078125 0 \nL 9.078125 54.6875 \nL 18.109375 54.6875 \nL 18.109375 46.1875 \nQ 21.34375 51.125 25.703125 53.5625 \nQ 30.078125 56 35.796875 56 \nQ 45.21875 56 50.046875 50.171875 \nQ 54.890625 44.34375 54.890625 33.015625 \nz\n\" id=\"DejaVuSans-110\"/>\n       <path d=\"M 45.40625 27.984375 \nQ 45.40625 37.75 41.375 43.109375 \nQ 37.359375 48.484375 30.078125 48.484375 \nQ 22.859375 48.484375 18.828125 43.109375 \nQ 14.796875 37.75 14.796875 27.984375 \nQ 14.796875 18.265625 18.828125 12.890625 \nQ 22.859375 7.515625 30.078125 7.515625 \nQ 37.359375 7.515625 41.375 12.890625 \nQ 45.40625 18.265625 45.40625 27.984375 \nz\nM 54.390625 6.78125 \nQ 54.390625 -7.171875 48.1875 -13.984375 \nQ 42 -20.796875 29.203125 -20.796875 \nQ 24.46875 -20.796875 20.265625 -20.09375 \nQ 16.0625 -19.390625 12.109375 -17.921875 \nL 12.109375 -9.1875 \nQ 16.0625 -11.328125 19.921875 -12.34375 \nQ 23.78125 -13.375 27.78125 -13.375 \nQ 36.625 -13.375 41.015625 -8.765625 \nQ 45.40625 -4.15625 45.40625 5.171875 \nL 45.40625 9.625 \nQ 42.625 4.78125 38.28125 2.390625 \nQ 33.9375 0 27.875 0 \nQ 17.828125 0 11.671875 7.65625 \nQ 5.515625 15.328125 5.515625 27.984375 \nQ 5.515625 40.671875 11.671875 48.328125 \nQ 17.828125 56 27.875 56 \nQ 33.9375 56 38.28125 53.609375 \nQ 42.625 51.21875 45.40625 46.390625 \nL 45.40625 54.6875 \nL 54.390625 54.6875 \nz\n\" id=\"DejaVuSans-103\"/>\n       <path d=\"M 18.3125 70.21875 \nL 18.3125 54.6875 \nL 36.8125 54.6875 \nL 36.8125 47.703125 \nL 18.3125 47.703125 \nL 18.3125 18.015625 \nQ 18.3125 11.328125 20.140625 9.421875 \nQ 21.96875 7.515625 27.59375 7.515625 \nL 36.8125 7.515625 \nL 36.8125 0 \nL 27.59375 0 \nQ 17.1875 0 13.234375 3.875 \nQ 9.28125 7.765625 9.28125 18.015625 \nL 9.28125 47.703125 \nL 2.6875 47.703125 \nL 2.6875 54.6875 \nL 9.28125 54.6875 \nL 9.28125 70.21875 \nz\n\" id=\"DejaVuSans-116\"/>\n       <path d=\"M 54.890625 33.015625 \nL 54.890625 0 \nL 45.90625 0 \nL 45.90625 32.71875 \nQ 45.90625 40.484375 42.875 44.328125 \nQ 39.84375 48.1875 33.796875 48.1875 \nQ 26.515625 48.1875 22.3125 43.546875 \nQ 18.109375 38.921875 18.109375 30.90625 \nL 18.109375 0 \nL 9.078125 0 \nL 9.078125 75.984375 \nL 18.109375 75.984375 \nL 18.109375 46.1875 \nQ 21.34375 51.125 25.703125 53.5625 \nQ 30.078125 56 35.796875 56 \nQ 45.21875 56 50.046875 50.171875 \nQ 54.890625 44.34375 54.890625 33.015625 \nz\n\" id=\"DejaVuSans-104\"/>\n       <path id=\"DejaVuSans-32\"/>\n       <path d=\"M 30.609375 48.390625 \nQ 23.390625 48.390625 19.1875 42.75 \nQ 14.984375 37.109375 14.984375 27.296875 \nQ 14.984375 17.484375 19.15625 11.84375 \nQ 23.34375 6.203125 30.609375 6.203125 \nQ 37.796875 6.203125 41.984375 11.859375 \nQ 46.1875 17.53125 46.1875 27.296875 \nQ 46.1875 37.015625 41.984375 42.703125 \nQ 37.796875 48.390625 30.609375 48.390625 \nz\nM 30.609375 56 \nQ 42.328125 56 49.015625 48.375 \nQ 55.71875 40.765625 55.71875 27.296875 \nQ 55.71875 13.875 49.015625 6.21875 \nQ 42.328125 -1.421875 30.609375 -1.421875 \nQ 18.84375 -1.421875 12.171875 6.21875 \nQ 5.515625 13.875 5.515625 27.296875 \nQ 5.515625 40.765625 12.171875 48.375 \nQ 18.84375 56 30.609375 56 \nz\n\" id=\"DejaVuSans-111\"/>\n       <path d=\"M 37.109375 75.984375 \nL 37.109375 68.5 \nL 28.515625 68.5 \nQ 23.6875 68.5 21.796875 66.546875 \nQ 19.921875 64.59375 19.921875 59.515625 \nL 19.921875 54.6875 \nL 34.71875 54.6875 \nL 34.71875 47.703125 \nL 19.921875 47.703125 \nL 19.921875 0 \nL 10.890625 0 \nL 10.890625 47.703125 \nL 2.296875 47.703125 \nL 2.296875 54.6875 \nL 10.890625 54.6875 \nL 10.890625 58.5 \nQ 10.890625 67.625 15.140625 71.796875 \nQ 19.390625 75.984375 28.609375 75.984375 \nz\n\" id=\"DejaVuSans-102\"/>\n       <path d=\"M 44.28125 53.078125 \nL 44.28125 44.578125 \nQ 40.484375 46.53125 36.375 47.5 \nQ 32.28125 48.484375 27.875 48.484375 \nQ 21.1875 48.484375 17.84375 46.4375 \nQ 14.5 44.390625 14.5 40.28125 \nQ 14.5 37.15625 16.890625 35.375 \nQ 19.28125 33.59375 26.515625 31.984375 \nL 29.59375 31.296875 \nQ 39.15625 29.25 43.1875 25.515625 \nQ 47.21875 21.78125 47.21875 15.09375 \nQ 47.21875 7.46875 41.1875 3.015625 \nQ 35.15625 -1.421875 24.609375 -1.421875 \nQ 20.21875 -1.421875 15.453125 -0.5625 \nQ 10.6875 0.296875 5.421875 2 \nL 5.421875 11.28125 \nQ 10.40625 8.6875 15.234375 7.390625 \nQ 20.0625 6.109375 24.8125 6.109375 \nQ 31.15625 6.109375 34.5625 8.28125 \nQ 37.984375 10.453125 37.984375 14.40625 \nQ 37.984375 18.0625 35.515625 20.015625 \nQ 33.0625 21.96875 24.703125 23.78125 \nL 21.578125 24.515625 \nQ 13.234375 26.265625 9.515625 29.90625 \nQ 5.8125 33.546875 5.8125 39.890625 \nQ 5.8125 47.609375 11.28125 51.796875 \nQ 16.75 56 26.8125 56 \nQ 31.78125 56 36.171875 55.265625 \nQ 40.578125 54.546875 44.28125 53.078125 \nz\n\" id=\"DejaVuSans-115\"/>\n       <path d=\"M 34.28125 27.484375 \nQ 23.390625 27.484375 19.1875 25 \nQ 14.984375 22.515625 14.984375 16.5 \nQ 14.984375 11.71875 18.140625 8.90625 \nQ 21.296875 6.109375 26.703125 6.109375 \nQ 34.1875 6.109375 38.703125 11.40625 \nQ 43.21875 16.703125 43.21875 25.484375 \nL 43.21875 27.484375 \nz\nM 52.203125 31.203125 \nL 52.203125 0 \nL 43.21875 0 \nL 43.21875 8.296875 \nQ 40.140625 3.328125 35.546875 0.953125 \nQ 30.953125 -1.421875 24.3125 -1.421875 \nQ 15.921875 -1.421875 10.953125 3.296875 \nQ 6 8.015625 6 15.921875 \nQ 6 25.140625 12.171875 29.828125 \nQ 18.359375 34.515625 30.609375 34.515625 \nL 43.21875 34.515625 \nL 43.21875 35.40625 \nQ 43.21875 41.609375 39.140625 45 \nQ 35.0625 48.390625 27.6875 48.390625 \nQ 23 48.390625 18.546875 47.265625 \nQ 14.109375 46.140625 10.015625 43.890625 \nL 10.015625 52.203125 \nQ 14.9375 54.109375 19.578125 55.046875 \nQ 24.21875 56 28.609375 56 \nQ 40.484375 56 46.34375 49.84375 \nQ 52.203125 43.703125 52.203125 31.203125 \nz\n\" id=\"DejaVuSans-97\"/>\n       <path d=\"M 52 44.1875 \nQ 55.375 50.25 60.0625 53.125 \nQ 64.75 56 71.09375 56 \nQ 79.640625 56 84.28125 50.015625 \nQ 88.921875 44.046875 88.921875 33.015625 \nL 88.921875 0 \nL 79.890625 0 \nL 79.890625 32.71875 \nQ 79.890625 40.578125 77.09375 44.375 \nQ 74.3125 48.1875 68.609375 48.1875 \nQ 61.625 48.1875 57.5625 43.546875 \nQ 53.515625 38.921875 53.515625 30.90625 \nL 53.515625 0 \nL 44.484375 0 \nL 44.484375 32.71875 \nQ 44.484375 40.625 41.703125 44.40625 \nQ 38.921875 48.1875 33.109375 48.1875 \nQ 26.21875 48.1875 22.15625 43.53125 \nQ 18.109375 38.875 18.109375 30.90625 \nL 18.109375 0 \nL 9.078125 0 \nL 9.078125 54.6875 \nL 18.109375 54.6875 \nL 18.109375 46.1875 \nQ 21.1875 51.21875 25.484375 53.609375 \nQ 29.78125 56 35.6875 56 \nQ 41.65625 56 45.828125 52.96875 \nQ 50 49.953125 52 44.1875 \nz\n\" id=\"DejaVuSans-109\"/>\n       <path d=\"M 18.109375 8.203125 \nL 18.109375 -20.796875 \nL 9.078125 -20.796875 \nL 9.078125 54.6875 \nL 18.109375 54.6875 \nL 18.109375 46.390625 \nQ 20.953125 51.265625 25.265625 53.625 \nQ 29.59375 56 35.59375 56 \nQ 45.5625 56 51.78125 48.09375 \nQ 58.015625 40.1875 58.015625 27.296875 \nQ 58.015625 14.40625 51.78125 6.484375 \nQ 45.5625 -1.421875 35.59375 -1.421875 \nQ 29.59375 -1.421875 25.265625 0.953125 \nQ 20.953125 3.328125 18.109375 8.203125 \nz\nM 48.6875 27.296875 \nQ 48.6875 37.203125 44.609375 42.84375 \nQ 40.53125 48.484375 33.40625 48.484375 \nQ 26.265625 48.484375 22.1875 42.84375 \nQ 18.109375 37.203125 18.109375 27.296875 \nQ 18.109375 17.390625 22.1875 11.75 \nQ 26.265625 6.109375 33.40625 6.109375 \nQ 40.53125 6.109375 44.609375 11.75 \nQ 48.6875 17.390625 48.6875 27.296875 \nz\n\" id=\"DejaVuSans-112\"/>\n      </defs>\n      <use xlink:href=\"#DejaVuSans-108\"/>\n      <use x=\"27.783203\" xlink:href=\"#DejaVuSans-101\"/>\n      <use x=\"89.306641\" xlink:href=\"#DejaVuSans-110\"/>\n      <use x=\"152.685547\" xlink:href=\"#DejaVuSans-103\"/>\n      <use x=\"216.162109\" xlink:href=\"#DejaVuSans-116\"/>\n      <use x=\"255.371094\" xlink:href=\"#DejaVuSans-104\"/>\n      <use x=\"318.75\" xlink:href=\"#DejaVuSans-32\"/>\n      <use x=\"350.537109\" xlink:href=\"#DejaVuSans-111\"/>\n      <use x=\"411.71875\" xlink:href=\"#DejaVuSans-102\"/>\n      <use x=\"446.923828\" xlink:href=\"#DejaVuSans-32\"/>\n      <use x=\"478.710938\" xlink:href=\"#DejaVuSans-115\"/>\n      <use x=\"530.810547\" xlink:href=\"#DejaVuSans-97\"/>\n      <use x=\"592.089844\" xlink:href=\"#DejaVuSans-109\"/>\n      <use x=\"689.501953\" xlink:href=\"#DejaVuSans-112\"/>\n      <use x=\"752.978516\" xlink:href=\"#DejaVuSans-108\"/>\n      <use x=\"780.761719\" xlink:href=\"#DejaVuSans-101\"/>\n      <use x=\"842.285156\" xlink:href=\"#DejaVuSans-115\"/>\n     </g>\n    </g>\n   </g>\n   <g id=\"matplotlib.axis_2\">\n    <g id=\"ytick_1\">\n     <g id=\"line2d_9\">\n      <defs>\n       <path d=\"M 0 0 \nL -3.5 0 \n\" id=\"m634a9df811\" style=\"stroke:#000000;stroke-width:0.8;\"/>\n      </defs>\n      <g>\n       <use style=\"stroke:#000000;stroke-width:0.8;\" x=\"59.690625\" xlink:href=\"#m634a9df811\" y=\"226.059363\"/>\n      </g>\n     </g>\n     <g id=\"text_10\">\n      <!-- 0 -->\n      <g transform=\"translate(46.328125 229.858582)scale(0.1 -0.1)\">\n       <use xlink:href=\"#DejaVuSans-48\"/>\n      </g>\n     </g>\n    </g>\n    <g id=\"ytick_2\">\n     <g id=\"line2d_10\">\n      <g>\n       <use style=\"stroke:#000000;stroke-width:0.8;\" x=\"59.690625\" xlink:href=\"#m634a9df811\" y=\"183.047334\"/>\n      </g>\n     </g>\n     <g id=\"text_11\">\n      <!-- 5000 -->\n      <g transform=\"translate(27.240625 186.846553)scale(0.1 -0.1)\">\n       <use xlink:href=\"#DejaVuSans-53\"/>\n       <use x=\"63.623047\" xlink:href=\"#DejaVuSans-48\"/>\n       <use x=\"127.246094\" xlink:href=\"#DejaVuSans-48\"/>\n       <use x=\"190.869141\" xlink:href=\"#DejaVuSans-48\"/>\n      </g>\n     </g>\n    </g>\n    <g id=\"ytick_3\">\n     <g id=\"line2d_11\">\n      <g>\n       <use style=\"stroke:#000000;stroke-width:0.8;\" x=\"59.690625\" xlink:href=\"#m634a9df811\" y=\"140.035305\"/>\n      </g>\n     </g>\n     <g id=\"text_12\">\n      <!-- 10000 -->\n      <g transform=\"translate(20.878125 143.834524)scale(0.1 -0.1)\">\n       <use xlink:href=\"#DejaVuSans-49\"/>\n       <use x=\"63.623047\" xlink:href=\"#DejaVuSans-48\"/>\n       <use x=\"127.246094\" xlink:href=\"#DejaVuSans-48\"/>\n       <use x=\"190.869141\" xlink:href=\"#DejaVuSans-48\"/>\n       <use x=\"254.492188\" xlink:href=\"#DejaVuSans-48\"/>\n      </g>\n     </g>\n    </g>\n    <g id=\"ytick_4\">\n     <g id=\"line2d_12\">\n      <g>\n       <use style=\"stroke:#000000;stroke-width:0.8;\" x=\"59.690625\" xlink:href=\"#m634a9df811\" y=\"97.023277\"/>\n      </g>\n     </g>\n     <g id=\"text_13\">\n      <!-- 15000 -->\n      <g transform=\"translate(20.878125 100.822495)scale(0.1 -0.1)\">\n       <use xlink:href=\"#DejaVuSans-49\"/>\n       <use x=\"63.623047\" xlink:href=\"#DejaVuSans-53\"/>\n       <use x=\"127.246094\" xlink:href=\"#DejaVuSans-48\"/>\n       <use x=\"190.869141\" xlink:href=\"#DejaVuSans-48\"/>\n       <use x=\"254.492188\" xlink:href=\"#DejaVuSans-48\"/>\n      </g>\n     </g>\n    </g>\n    <g id=\"ytick_5\">\n     <g id=\"line2d_13\">\n      <g>\n       <use style=\"stroke:#000000;stroke-width:0.8;\" x=\"59.690625\" xlink:href=\"#m634a9df811\" y=\"54.011248\"/>\n      </g>\n     </g>\n     <g id=\"text_14\">\n      <!-- 20000 -->\n      <g transform=\"translate(20.878125 57.810466)scale(0.1 -0.1)\">\n       <use xlink:href=\"#DejaVuSans-50\"/>\n       <use x=\"63.623047\" xlink:href=\"#DejaVuSans-48\"/>\n       <use x=\"127.246094\" xlink:href=\"#DejaVuSans-48\"/>\n       <use x=\"190.869141\" xlink:href=\"#DejaVuSans-48\"/>\n       <use x=\"254.492188\" xlink:href=\"#DejaVuSans-48\"/>\n      </g>\n     </g>\n    </g>\n    <g id=\"ytick_6\">\n     <g id=\"line2d_14\">\n      <g>\n       <use style=\"stroke:#000000;stroke-width:0.8;\" x=\"59.690625\" xlink:href=\"#m634a9df811\" y=\"10.999219\"/>\n      </g>\n     </g>\n     <g id=\"text_15\">\n      <!-- 25000 -->\n      <g transform=\"translate(20.878125 14.798437)scale(0.1 -0.1)\">\n       <use xlink:href=\"#DejaVuSans-50\"/>\n       <use x=\"63.623047\" xlink:href=\"#DejaVuSans-53\"/>\n       <use x=\"127.246094\" xlink:href=\"#DejaVuSans-48\"/>\n       <use x=\"190.869141\" xlink:href=\"#DejaVuSans-48\"/>\n       <use x=\"254.492188\" xlink:href=\"#DejaVuSans-48\"/>\n      </g>\n     </g>\n    </g>\n    <g id=\"text_16\">\n     <!-- number of samples -->\n     <g transform=\"translate(14.798438 165.634676)rotate(-90)scale(0.1 -0.1)\">\n      <defs>\n       <path d=\"M 8.5 21.578125 \nL 8.5 54.6875 \nL 17.484375 54.6875 \nL 17.484375 21.921875 \nQ 17.484375 14.15625 20.5 10.265625 \nQ 23.53125 6.390625 29.59375 6.390625 \nQ 36.859375 6.390625 41.078125 11.03125 \nQ 45.3125 15.671875 45.3125 23.6875 \nL 45.3125 54.6875 \nL 54.296875 54.6875 \nL 54.296875 0 \nL 45.3125 0 \nL 45.3125 8.40625 \nQ 42.046875 3.421875 37.71875 1 \nQ 33.40625 -1.421875 27.6875 -1.421875 \nQ 18.265625 -1.421875 13.375 4.4375 \nQ 8.5 10.296875 8.5 21.578125 \nz\nM 31.109375 56 \nz\n\" id=\"DejaVuSans-117\"/>\n       <path d=\"M 48.6875 27.296875 \nQ 48.6875 37.203125 44.609375 42.84375 \nQ 40.53125 48.484375 33.40625 48.484375 \nQ 26.265625 48.484375 22.1875 42.84375 \nQ 18.109375 37.203125 18.109375 27.296875 \nQ 18.109375 17.390625 22.1875 11.75 \nQ 26.265625 6.109375 33.40625 6.109375 \nQ 40.53125 6.109375 44.609375 11.75 \nQ 48.6875 17.390625 48.6875 27.296875 \nz\nM 18.109375 46.390625 \nQ 20.953125 51.265625 25.265625 53.625 \nQ 29.59375 56 35.59375 56 \nQ 45.5625 56 51.78125 48.09375 \nQ 58.015625 40.1875 58.015625 27.296875 \nQ 58.015625 14.40625 51.78125 6.484375 \nQ 45.5625 -1.421875 35.59375 -1.421875 \nQ 29.59375 -1.421875 25.265625 0.953125 \nQ 20.953125 3.328125 18.109375 8.203125 \nL 18.109375 0 \nL 9.078125 0 \nL 9.078125 75.984375 \nL 18.109375 75.984375 \nz\n\" id=\"DejaVuSans-98\"/>\n       <path d=\"M 41.109375 46.296875 \nQ 39.59375 47.171875 37.8125 47.578125 \nQ 36.03125 48 33.890625 48 \nQ 26.265625 48 22.1875 43.046875 \nQ 18.109375 38.09375 18.109375 28.8125 \nL 18.109375 0 \nL 9.078125 0 \nL 9.078125 54.6875 \nL 18.109375 54.6875 \nL 18.109375 46.1875 \nQ 20.953125 51.171875 25.484375 53.578125 \nQ 30.03125 56 36.53125 56 \nQ 37.453125 56 38.578125 55.875 \nQ 39.703125 55.765625 41.0625 55.515625 \nz\n\" id=\"DejaVuSans-114\"/>\n      </defs>\n      <use xlink:href=\"#DejaVuSans-110\"/>\n      <use x=\"63.378906\" xlink:href=\"#DejaVuSans-117\"/>\n      <use x=\"126.757812\" xlink:href=\"#DejaVuSans-109\"/>\n      <use x=\"224.169922\" xlink:href=\"#DejaVuSans-98\"/>\n      <use x=\"287.646484\" xlink:href=\"#DejaVuSans-101\"/>\n      <use x=\"349.169922\" xlink:href=\"#DejaVuSans-114\"/>\n      <use x=\"390.283203\" xlink:href=\"#DejaVuSans-32\"/>\n      <use x=\"422.070312\" xlink:href=\"#DejaVuSans-111\"/>\n      <use x=\"483.251953\" xlink:href=\"#DejaVuSans-102\"/>\n      <use x=\"518.457031\" xlink:href=\"#DejaVuSans-32\"/>\n      <use x=\"550.244141\" xlink:href=\"#DejaVuSans-115\"/>\n      <use x=\"602.34375\" xlink:href=\"#DejaVuSans-97\"/>\n      <use x=\"663.623047\" xlink:href=\"#DejaVuSans-109\"/>\n      <use x=\"761.035156\" xlink:href=\"#DejaVuSans-112\"/>\n      <use x=\"824.511719\" xlink:href=\"#DejaVuSans-108\"/>\n      <use x=\"852.294922\" xlink:href=\"#DejaVuSans-101\"/>\n      <use x=\"913.818359\" xlink:href=\"#DejaVuSans-115\"/>\n     </g>\n    </g>\n   </g>\n   <g id=\"patch_53\">\n    <path d=\"M 59.690625 226.059363 \nL 59.690625 8.619363 \n\" style=\"fill:none;stroke:#000000;stroke-linecap:square;stroke-linejoin:miter;stroke-width:0.8;\"/>\n   </g>\n   <g id=\"patch_54\">\n    <path d=\"M 394.490625 226.059363 \nL 394.490625 8.619363 \n\" style=\"fill:none;stroke:#000000;stroke-linecap:square;stroke-linejoin:miter;stroke-width:0.8;\"/>\n   </g>\n   <g id=\"patch_55\">\n    <path d=\"M 59.690625 226.059363 \nL 394.490625 226.059363 \n\" style=\"fill:none;stroke:#000000;stroke-linecap:square;stroke-linejoin:miter;stroke-width:0.8;\"/>\n   </g>\n   <g id=\"patch_56\">\n    <path d=\"M 59.690625 8.619363 \nL 394.490625 8.619363 \n\" style=\"fill:none;stroke:#000000;stroke-linecap:square;stroke-linejoin:miter;stroke-width:0.8;\"/>\n   </g>\n  </g>\n </g>\n <defs>\n  <clipPath id=\"pae4fdeb56a\">\n   <rect height=\"217.44\" width=\"334.8\" x=\"59.690625\" y=\"8.619363\"/>\n  </clipPath>\n </defs>\n</svg>\n",
      "image/png": "[encoded data removed]"
     },
     "metadata": {
      "needs_background": "light"
     }
    }
   ],
   "source": [
    "print('리뷰의 최대 길이 :',max(len(l) for l in X_train))\n",
    "print('리뷰의 평균 길이 :',sum(map(len, X_train))/len(X_train))\n",
    "plt.hist([len(s) for s in X_train], bins=50)\n",
    "plt.xlabel('length of samples')\n",
    "plt.ylabel('number of samples')\n",
    "plt.show()"
   ]
  },
  {
   "cell_type": "code",
   "execution_count": 45,
   "metadata": {},
   "outputs": [],
   "source": [
    "def below_threshold_len(max_len, nested_list):\n",
    "  cnt = 0\n",
    "  for s in nested_list:\n",
    "    if(len(s) <= max_len):\n",
    "        cnt = cnt + 1\n",
    "  print('전체 샘플 중 길이가 %s 이하인 샘플의 비율: %s'%(max_len, (cnt / len(nested_list))*100))"
   ]
  },
  {
   "cell_type": "code",
   "execution_count": 46,
   "metadata": {
    "tags": []
   },
   "outputs": [
    {
     "output_type": "stream",
     "name": "stdout",
     "text": "전체 샘플 중 길이가 100 이하인 샘플의 비율: 100.0\n"
    }
   ],
   "source": [
    "max_len = 100\n",
    "below_threshold_len(max_len, X_train)"
   ]
  },
  {
   "cell_type": "code",
   "execution_count": 47,
   "metadata": {},
   "outputs": [],
   "source": [
    "X_train = pad_sequences(X_train, maxlen = max_len)\n",
    "X_test = pad_sequences(X_test, maxlen = max_len)"
   ]
  },
  {
   "cell_type": "code",
   "execution_count": 48,
   "metadata": {},
   "outputs": [],
   "source": [
    "from tensorflow.keras.layers import Embedding, Dense, LSTM\n",
    "from tensorflow.keras.models import Sequential\n",
    "from tensorflow.keras.models import load_model\n",
    "from tensorflow.keras.callbacks import EarlyStopping, ModelCheckpoint"
   ]
  },
  {
   "cell_type": "code",
   "execution_count": 49,
   "metadata": {},
   "outputs": [],
   "source": [
    "model = Sequential()\n",
    "model.add(Embedding(vocab_size, 100))\n",
    "model.add(LSTM(128))\n",
    "model.add(Dense(1, activation='sigmoid'))"
   ]
  },
  {
   "cell_type": "code",
   "execution_count": 50,
   "metadata": {},
   "outputs": [],
   "source": [
    "es = EarlyStopping(monitor='val_loss', mode='min', verbose=1, patience=4)\n",
    "mc = ModelCheckpoint('best_model.h5', monitor='val_acc', mode='max', verbose=1, save_best_only=True)"
   ]
  },
  {
   "cell_type": "code",
   "execution_count": 51,
   "metadata": {
    "tags": []
   },
   "outputs": [
    {
     "output_type": "stream",
     "name": "stdout",
     "text": "Epoch 1/15\n1938/1939 [============================>.] - ETA: 0s - loss: 0.3941 - acc: 0.8219\nEpoch 00001: val_acc improved from -inf to 0.84541, saving model to best_model.h5\n1939/1939 [==============================] - 129s 66ms/step - loss: 0.3941 - acc: 0.8219 - val_loss: 0.3509 - val_acc: 0.8454\nEpoch 2/15\n1938/1939 [============================>.] - ETA: 0s - loss: 0.3281 - acc: 0.8570\nEpoch 00002: val_acc improved from 0.84541 to 0.85534, saving model to best_model.h5\n1939/1939 [==============================] - 134s 69ms/step - loss: 0.3281 - acc: 0.8570 - val_loss: 0.3348 - val_acc: 0.8553\nEpoch 3/15\n1938/1939 [============================>.] - ETA: 0s - loss: 0.3025 - acc: 0.8710\nEpoch 00003: val_acc improved from 0.85534 to 0.85951, saving model to best_model.h5\n1939/1939 [==============================] - 137s 71ms/step - loss: 0.3025 - acc: 0.8710 - val_loss: 0.3253 - val_acc: 0.8595\nEpoch 4/15\n1939/1939 [==============================] - ETA: 0s - loss: 0.2836 - acc: 0.8812\nEpoch 00004: val_acc did not improve from 0.85951\n1939/1939 [==============================] - 139s 72ms/step - loss: 0.2836 - acc: 0.8812 - val_loss: 0.3447 - val_acc: 0.8527\nEpoch 5/15\n1938/1939 [============================>.] - ETA: 0s - loss: 0.2679 - acc: 0.8892\nEpoch 00005: val_acc improved from 0.85951 to 0.86016, saving model to best_model.h5\n1939/1939 [==============================] - 138s 71ms/step - loss: 0.2679 - acc: 0.8892 - val_loss: 0.3302 - val_acc: 0.8602\nEpoch 6/15\n1938/1939 [============================>.] - ETA: 0s - loss: 0.2543 - acc: 0.8964\nEpoch 00006: val_acc did not improve from 0.86016\n1939/1939 [==============================] - 133s 69ms/step - loss: 0.2543 - acc: 0.8964 - val_loss: 0.3316 - val_acc: 0.8600\nEpoch 7/15\n1938/1939 [============================>.] - ETA: 0s - loss: 0.2400 - acc: 0.9034\nEpoch 00007: val_acc did not improve from 0.86016\n1939/1939 [==============================] - 134s 69ms/step - loss: 0.2400 - acc: 0.9034 - val_loss: 0.3365 - val_acc: 0.8587\nEpoch 00007: early stopping\n"
    }
   ],
   "source": [
    "model.compile(optimizer='rmsprop', loss='binary_crossentropy', metrics=['acc'])\n",
    "history = model.fit(X_train, y_train, epochs=15, callbacks=[es, mc], batch_size=60, validation_split=0.2)"
   ]
  },
  {
   "cell_type": "code",
   "execution_count": 52,
   "metadata": {
    "tags": []
   },
   "outputs": [
    {
     "output_type": "stream",
     "name": "stdout",
     "text": "1532/1532 [==============================] - 22s 14ms/step - loss: 0.3375 - acc: 0.8547\n\n 테스트 정확도: 0.8547\n"
    }
   ],
   "source": [
    "loaded_model = load_model('best_model.h5')\n",
    "print(\"\\n 테스트 정확도: %.4f\" % (loaded_model.evaluate(X_test, y_test)[1]))"
   ]
  },
  {
   "cell_type": "code",
   "execution_count": 53,
   "metadata": {},
   "outputs": [],
   "source": [
    "def sentiment_predict(new_sentence):\n",
    "  new_sentence = okt.morphs(new_sentence, stem=True) # 토큰화\n",
    "  new_sentence = [word for word in new_sentence if not word in stopwords] # 불용어 제거\n",
    "  encoded = tokenizer.texts_to_sequences([new_sentence]) # 정수 인코딩\n",
    "  pad_new = pad_sequences(encoded, maxlen = max_len) # 패딩\n",
    "  score = float(loaded_model.predict(pad_new)) # 예측\n",
    "  if(score > 0.5):\n",
    "    print(\"{:.2f}% 확률로 긍정 리뷰입니다.\\n\".format(score * 100))\n",
    "  else:\n",
    "    print(\"{:.2f}% 확률로 부정 리뷰입니다.\\n\".format((1 - score) * 100))"
   ]
  },
  {
   "cell_type": "code",
   "execution_count": 54,
   "metadata": {
    "tags": []
   },
   "outputs": [
    {
     "output_type": "stream",
     "name": "stdout",
     "text": "94.60% 확률로 긍정 리뷰입니다.\n\n98.88% 확률로 부정 리뷰입니다.\n\n99.45% 확률로 부정 리뷰입니다.\n\n99.91% 확률로 부정 리뷰입니다.\n\n89.02% 확률로 긍정 리뷰입니다.\n\n"
    }
   ],
   "source": [
    "sentiment_predict('이 영화 개꿀잼 ㅋㅋㅋ')\n",
    "sentiment_predict('감독 뭐하는 놈이냐?')\n",
    "sentiment_predict('이 영화 핵노잼 ㅠㅠ')\n",
    "sentiment_predict('이딴게 영화냐 ㅉㅉ')\n",
    "sentiment_predict('와 개쩐다 정말 세계관 최강자들의 영화다')\n"
   ]
  },
  {
   "cell_type": "markdown",
   "metadata": {},
   "source": [
    "### Utilizing it to Yonsei Exchange Reviews"
   ]
  },
  {
   "cell_type": "code",
   "execution_count": 63,
   "metadata": {},
   "outputs": [],
   "source": [
    "import os\n",
    "from os import fdopen, remove\n",
    "import glob\n",
    "from tempfile import mkstemp\n",
    "import shutil\n",
    "from shutil import move, copymode"
   ]
  },
  {
   "cell_type": "code",
   "execution_count": 64,
   "metadata": {},
   "outputs": [],
   "source": [
    "source = \"./data/univ_text_data\"\n",
    "source_abstract = \"./data/abstract\"\n",
    "source_specific = \"./data/specific\""
   ]
  },
  {
   "cell_type": "code",
   "execution_count": null,
   "metadata": {},
   "outputs": [],
   "source": []
  },
  {
   "cell_type": "code",
   "execution_count": null,
   "metadata": {},
   "outputs": [],
   "source": []
  }
 ]
}