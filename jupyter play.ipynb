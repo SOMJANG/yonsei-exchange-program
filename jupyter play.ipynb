{
 "cells": [
  {
   "cell_type": "code",
   "execution_count": 3,
   "metadata": {},
   "outputs": [
    {
     "name": "stdout",
     "output_type": "stream",
     "text": [
      "Collecting soynlp\n",
      "  Downloading https://files.pythonhosted.org/packages/7e/50/6913dc52a86a6b189419e59f9eef1b8d599cffb6f44f7bb91854165fc603/soynlp-0.0.493-py3-none-any.whl (416kB)\n",
      "Requirement already satisfied: psutil>=5.0.1 in c:\\users\\pc\\anaconda3\\lib\\site-packages (from soynlp) (5.2.2)\n",
      "Collecting scikit-learn>=0.20.0 (from soynlp)\n",
      "  Downloading https://files.pythonhosted.org/packages/76/79/60050330fe57fb59f2c53d0d11673df28c20ea9315da3652477429fc4949/scikit_learn-0.21.3-cp36-cp36m-win_amd64.whl (5.9MB)\n",
      "Requirement already satisfied: scipy>=1.1.0 in c:\\users\\pc\\anaconda3\\lib\\site-packages (from soynlp) (1.3.1)\n",
      "Requirement already satisfied: numpy>=1.12.1 in c:\\users\\pc\\anaconda3\\lib\\site-packages (from soynlp) (1.17.0)\n",
      "Requirement already satisfied: joblib>=0.11 in c:\\users\\pc\\anaconda3\\lib\\site-packages (from scikit-learn>=0.20.0->soynlp) (0.13.2)\n",
      "Installing collected packages: scikit-learn, soynlp\n",
      "  Found existing installation: scikit-learn 0.18.1\n"
     ]
    },
    {
     "name": "stderr",
     "output_type": "stream",
     "text": [
      "Error in sitecustomize; set PYTHONVERBOSE for traceback:\n",
      "AttributeError: module 'sys' has no attribute 'setdefaultencoding'\n",
      "ERROR: Cannot uninstall 'scikit-learn'. It is a distutils installed project and thus we cannot accurately determine which files belong to it which would lead to only a partial uninstall.\n",
      "WARNING: You are using pip version 19.2.3, however version 19.3.1 is available.\n",
      "You should consider upgrading via the 'python -m pip install --upgrade pip' command.\n"
     ]
    }
   ],
   "source": [
    "!pytho"
   ]
  }
 ],
 "metadata": {
  "kernelspec": {
   "display_name": "Python 3",
   "language": "python",
   "name": "python3"
  },
  "language_info": {
   "codemirror_mode": {
    "name": "ipython",
    "version": 3
   },
   "file_extension": ".py",
   "mimetype": "text/x-python",
   "name": "python",
   "nbconvert_exporter": "python",
   "pygments_lexer": "ipython3",
   "version": "3.6.1"
  }
 },
 "nbformat": 4,
 "nbformat_minor": 2
}
