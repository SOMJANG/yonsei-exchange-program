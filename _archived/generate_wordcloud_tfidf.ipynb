{
 "cells": [
  {
   "cell_type": "markdown",
   "metadata": {
    "colab_type": "text",
    "id": "view-in-github"
   },
   "source": [
    "<a href=\"https://colab.research.google.com/github/snoop2head/OIA_Text_Wrangling/blob/master/KONLPY_Wordcloud_practice.ipynb\" target=\"_parent\"><img src=\"https://colab.research.google.com/assets/colab-badge.svg\" alt=\"Open In Colab\"/></a>"
   ]
  },
  {
   "cell_type": "markdown",
   "metadata": {
    "colab_type": "text",
    "id": "-w9eFtWeNiu3"
   },
   "source": [
    "참고 출처: https://github.com/corazzon/petitionWrangling/blob/master/02-pandas-plotnine.ipynb"
   ]
  },
  {
   "cell_type": "code",
   "execution_count": 1,
   "metadata": {
    "colab": {},
    "colab_type": "code",
    "id": "fzICDB3ZM_QU"
   },
   "outputs": [],
   "source": [
    "# 출력데이터가 지저분하게 보이지 않도록 warnings을 불러왔다.\n",
    "import warnings \n",
    "warnings.filterwarnings('ignore')"
   ]
  },
  {
   "cell_type": "code",
   "execution_count": 2,
   "metadata": {
    "colab": {
     "base_uri": "https://localhost:8080/",
     "height": 50
    },
    "colab_type": "code",
    "id": "tDU9ghsHNptJ",
    "outputId": "16bb0da3-9db9-4bbb-ba3a-a46dc57ac236"
   },
   "outputs": [
    {
     "name": "stdout",
     "output_type": "stream",
     "text": [
      "1.0.5\n",
      "1.19.1\n"
     ]
    }
   ],
   "source": [
    "import pandas as pd\n",
    "from pandas.api.types import CategoricalDtype # 그래프의 값을 정렬해서 보기위해\n",
    "import numpy as np\n",
    "print(pd.__version__)\n",
    "print(np.__version__)"
   ]
  },
  {
   "cell_type": "code",
   "execution_count": 3,
   "metadata": {
    "colab": {},
    "colab_type": "code",
    "id": "uiBXxk3qNqmy"
   },
   "outputs": [],
   "source": [
    "from plotnine import *"
   ]
  },
  {
   "cell_type": "code",
   "execution_count": 4,
   "metadata": {},
   "outputs": [],
   "source": [
    "DATA_PATH = \"/Users/noopy/Yonsei_Exchange_Text_Wrangling/data/\""
   ]
  },
  {
   "cell_type": "code",
   "execution_count": 5,
   "metadata": {},
   "outputs": [],
   "source": [
    "TEXT_DATA_PATH = \"/Users/noopy/Yonsei_Exchange_Text_Wrangling/data/univ_text_data/\""
   ]
  },
  {
   "cell_type": "code",
   "execution_count": 6,
   "metadata": {},
   "outputs": [
    {
     "data": {
      "text/html": [
       "<div>\n",
       "<style scoped>\n",
       "    .dataframe tbody tr th:only-of-type {\n",
       "        vertical-align: middle;\n",
       "    }\n",
       "\n",
       "    .dataframe tbody tr th {\n",
       "        vertical-align: top;\n",
       "    }\n",
       "\n",
       "    .dataframe thead th {\n",
       "        text-align: right;\n",
       "    }\n",
       "</style>\n",
       "<table border=\"1\" class=\"dataframe\">\n",
       "  <thead>\n",
       "    <tr style=\"text-align: right;\">\n",
       "      <th></th>\n",
       "      <th>gen_info</th>\n",
       "      <th>env_info</th>\n",
       "      <th>food_info</th>\n",
       "      <th>study_info</th>\n",
       "      <th>office_info</th>\n",
       "      <th>facil_info</th>\n",
       "      <th>mhct_info</th>\n",
       "      <th>help_info</th>\n",
       "      <th>etc_info</th>\n",
       "    </tr>\n",
       "  </thead>\n",
       "  <tbody>\n",
       "    <tr>\n",
       "      <th>0</th>\n",
       "      <td>코펜하겐 대학교는 자연과학캠퍼스, 인문캠퍼스 등 코펜하겐 시내 곳곳에 흩어져 있습니...</td>\n",
       "      <td>앞서 말씀드린 것처럼 시내 곳곳에 캠퍼스가 흩어져 있어서, '학교 건물'이라는 게 ...</td>\n",
       "      <td>각 캠퍼스마다 학생 식당이 있는데 약간 뷔페식으로, 자기가 원하는 만큼 담고 무게로...</td>\n",
       "      <td>수업방식은 한국이랑 전혀 다릅니다. 우선 매 수업마다 읽어갈 자료들이 있습니다. 그...</td>\n",
       "      <td>궁금한 점이나 문제가 생겼을 때 문의하면 늦어도 3~4일 내에는 답장이 옵니다. 일...</td>\n",
       "      <td>저는 성격이 소극적인 편이라 동아리나 다른 활동을 적극적으로 참여하지는 않았습니다....</td>\n",
       "      <td>캠퍼스에 있는 화장실이 항상 남녀 구분이 되어있지는 않았습니다. 어차피 양변기이고 ...</td>\n",
       "      <td>덴마크는 페이스북 그룹, 페이지가 활성화되어 있으니까 페이스북에서 교환학생 그룹을 ...</td>\n",
       "      <td>저는 덴마크에서의 생활이 너무 만족스러워서, 추후에 다시 와서 공부를 하거나 직장을...</td>\n",
       "    </tr>\n",
       "    <tr>\n",
       "      <th>1</th>\n",
       "      <td>한국의 일반적인 대학들과 달리 코펜하겐 대학교는 도시 곳곳에 소규모로 캠퍼스가 여러...</td>\n",
       "      <td>캠퍼스에 따라 주변 환경은 다 다르겠지만, 제가 다닌 곳들 위주로 설명을 해볼께요....</td>\n",
       "      <td>저와 같은 교환학생들은 대부분 대학이랑 협연을 맺은 Housing Foundatio...</td>\n",
       "      <td>저는 봄학기 때 정치외교 수업 2개와 덴마크 문화 수업 (Danish Culture...</td>\n",
       "      <td>교환을 준비하면서 궁금한 점을 물어보려고 연락했지만, 코펜하겐에 있을 때는 연락을 ...</td>\n",
       "      <td>동아리는 안 들었지만, 학교 내에서 크게 두 개의 활동을 했어요. 첫번째로는 인문대...</td>\n",
       "      <td>우선 성과 성별에 대한 인식이 확실히 다르다는 걸 느꼈습니다. 특히 기숙사가 남녀 ...</td>\n",
       "      <td>단과대나 과별로 실시하는 멘토프로그램에 참여하시는 걸 추천해요. 페이스북 그룹을 통...</td>\n",
       "      <td>코펜하겐은 여러모로 교환학생으로 선택하기에 좋은 도시 같습니다. 환경 문제, 성평등...</td>\n",
       "    </tr>\n",
       "    <tr>\n",
       "      <th>2</th>\n",
       "      <td>저는 경제학과여서 코펜하겐 대학교 CSS 캠퍼스를 이용했는데 Norreport 역 ...</td>\n",
       "      <td>주변에 정말 힐링할것 투성입니다. 주변에 King's Garden이 있는데 개인적으...</td>\n",
       "      <td>저는 Basecamp에서 살았습니다. 기숙사비가 비쌌지만 그래도 시설은 좋았습니다....</td>\n",
       "      <td>저는 경제학과 수업 3개를 수강신청해서 들었습니다. 수강신청은 어렵지 않습니다. 교...</td>\n",
       "      <td>딱히 도움받은적도 간 적도 없습니다. 학생증 받으러 한번 가봤습니다.</td>\n",
       "      <td>학교 커피가 매우 쌉니다. 하지만 커피를 우린 물이 나옵니다. 그래도 커피가 바깥보...</td>\n",
       "      <td>개인적으로 놀랐던 거는 모든 사람들이 자전거를 탑니다. 비가 오든 날이 좋든 그냥 ...</td>\n",
       "      <td>처음에는 학교에서 인쇄도 할 줄 모르고 어리바리 했지만 아무나한테 물어보면 정말 모...</td>\n",
       "      <td>개인적으로 덴마크 정말 진심으로 추천합니다. 덴마크가 궁금하시다면 국경없는 포차 덴...</td>\n",
       "    </tr>\n",
       "    <tr>\n",
       "      <th>3</th>\n",
       "      <td>저는 시내 중심에 있는 사회과학대학교 캠퍼스와 islands brygge 역(아마지...</td>\n",
       "      <td>한국처럼 시끌벅적 도시문화는 아니지만 저로서는 친구들이랑 밥해먹고 이것저것 참여도 ...</td>\n",
       "      <td>signalhuset에 거주했는데 저는 너무너무 만족했습니다! 거의 최고의 위치라고...</td>\n",
       "      <td>danish architecture수업은 아주 흥미롭고 좋았어요. 교수님들도 좋으시...</td>\n",
       "      <td>이용해본적이 없어서 잘 모르겠습니다..</td>\n",
       "      <td>페이스북 페이지를 미리 검색해서 등록해놓으시면 여러가지 정보를 알 수 있어요. 그 ...</td>\n",
       "      <td>없었습니다.</td>\n",
       "      <td>한국 국제처나 페이스북 한인그룹에서도 질문하면 받아주시고 그래요.</td>\n",
       "      <td>제가 생각할때 교환은 인생을 바꿀수 있는 기회입니다. 이 기회를 어떻게 사용하느냐는...</td>\n",
       "    </tr>\n",
       "    <tr>\n",
       "      <th>4</th>\n",
       "      <td>코펜하겐 대학교는 일단 4개의 캠퍼스로 구성되어 있습니다. 저는 그 중에서도 언론홍...</td>\n",
       "      <td>일단 amager 캠퍼스는 코펜하겐 중심지와는 조금 거리가 있습니다. amager ...</td>\n",
       "      <td>저는 housing foundation에서 주선해준 기숙사 중에 signalhuse...</td>\n",
       "      <td>저는 수업을 2개 들었는데, 하나는 film and media에서 하는 전공과목이었...</td>\n",
       "      <td>별도로 연락을 취한 적이 거의 없습니다.</td>\n",
       "      <td>동아리는 찾아보기 힘들었던 것 같아요. 대신 매주 일정한 시간에 언어별로 모이는 그...</td>\n",
       "      <td>딱히 큰 문화 충격은 없었던 것 같아요!</td>\n",
       "      <td>어디든지 모두들 친절하게 대답해주시니 궁금한 게 있으시면 주저하지 마시고 연락해보세...</td>\n",
       "      <td>NaN</td>\n",
       "    </tr>\n",
       "  </tbody>\n",
       "</table>\n",
       "</div>"
      ],
      "text/plain": [
       "                                            gen_info  \\\n",
       "0  코펜하겐 대학교는 자연과학캠퍼스, 인문캠퍼스 등 코펜하겐 시내 곳곳에 흩어져 있습니...   \n",
       "1  한국의 일반적인 대학들과 달리 코펜하겐 대학교는 도시 곳곳에 소규모로 캠퍼스가 여러...   \n",
       "2  저는 경제학과여서 코펜하겐 대학교 CSS 캠퍼스를 이용했는데 Norreport 역 ...   \n",
       "3  저는 시내 중심에 있는 사회과학대학교 캠퍼스와 islands brygge 역(아마지...   \n",
       "4  코펜하겐 대학교는 일단 4개의 캠퍼스로 구성되어 있습니다. 저는 그 중에서도 언론홍...   \n",
       "\n",
       "                                            env_info  \\\n",
       "0  앞서 말씀드린 것처럼 시내 곳곳에 캠퍼스가 흩어져 있어서, '학교 건물'이라는 게 ...   \n",
       "1  캠퍼스에 따라 주변 환경은 다 다르겠지만, 제가 다닌 곳들 위주로 설명을 해볼께요....   \n",
       "2  주변에 정말 힐링할것 투성입니다. 주변에 King's Garden이 있는데 개인적으...   \n",
       "3  한국처럼 시끌벅적 도시문화는 아니지만 저로서는 친구들이랑 밥해먹고 이것저것 참여도 ...   \n",
       "4  일단 amager 캠퍼스는 코펜하겐 중심지와는 조금 거리가 있습니다. amager ...   \n",
       "\n",
       "                                           food_info  \\\n",
       "0  각 캠퍼스마다 학생 식당이 있는데 약간 뷔페식으로, 자기가 원하는 만큼 담고 무게로...   \n",
       "1  저와 같은 교환학생들은 대부분 대학이랑 협연을 맺은 Housing Foundatio...   \n",
       "2  저는 Basecamp에서 살았습니다. 기숙사비가 비쌌지만 그래도 시설은 좋았습니다....   \n",
       "3  signalhuset에 거주했는데 저는 너무너무 만족했습니다! 거의 최고의 위치라고...   \n",
       "4  저는 housing foundation에서 주선해준 기숙사 중에 signalhuse...   \n",
       "\n",
       "                                          study_info  \\\n",
       "0  수업방식은 한국이랑 전혀 다릅니다. 우선 매 수업마다 읽어갈 자료들이 있습니다. 그...   \n",
       "1  저는 봄학기 때 정치외교 수업 2개와 덴마크 문화 수업 (Danish Culture...   \n",
       "2  저는 경제학과 수업 3개를 수강신청해서 들었습니다. 수강신청은 어렵지 않습니다. 교...   \n",
       "3  danish architecture수업은 아주 흥미롭고 좋았어요. 교수님들도 좋으시...   \n",
       "4  저는 수업을 2개 들었는데, 하나는 film and media에서 하는 전공과목이었...   \n",
       "\n",
       "                                         office_info  \\\n",
       "0  궁금한 점이나 문제가 생겼을 때 문의하면 늦어도 3~4일 내에는 답장이 옵니다. 일...   \n",
       "1  교환을 준비하면서 궁금한 점을 물어보려고 연락했지만, 코펜하겐에 있을 때는 연락을 ...   \n",
       "2             딱히 도움받은적도 간 적도 없습니다. 학생증 받으러 한번 가봤습니다.   \n",
       "3                              이용해본적이 없어서 잘 모르겠습니다..   \n",
       "4                             별도로 연락을 취한 적이 거의 없습니다.   \n",
       "\n",
       "                                          facil_info  \\\n",
       "0  저는 성격이 소극적인 편이라 동아리나 다른 활동을 적극적으로 참여하지는 않았습니다....   \n",
       "1  동아리는 안 들었지만, 학교 내에서 크게 두 개의 활동을 했어요. 첫번째로는 인문대...   \n",
       "2  학교 커피가 매우 쌉니다. 하지만 커피를 우린 물이 나옵니다. 그래도 커피가 바깥보...   \n",
       "3  페이스북 페이지를 미리 검색해서 등록해놓으시면 여러가지 정보를 알 수 있어요. 그 ...   \n",
       "4  동아리는 찾아보기 힘들었던 것 같아요. 대신 매주 일정한 시간에 언어별로 모이는 그...   \n",
       "\n",
       "                                           mhct_info  \\\n",
       "0  캠퍼스에 있는 화장실이 항상 남녀 구분이 되어있지는 않았습니다. 어차피 양변기이고 ...   \n",
       "1  우선 성과 성별에 대한 인식이 확실히 다르다는 걸 느꼈습니다. 특히 기숙사가 남녀 ...   \n",
       "2  개인적으로 놀랐던 거는 모든 사람들이 자전거를 탑니다. 비가 오든 날이 좋든 그냥 ...   \n",
       "3                                             없었습니다.   \n",
       "4                             딱히 큰 문화 충격은 없었던 것 같아요!   \n",
       "\n",
       "                                           help_info  \\\n",
       "0  덴마크는 페이스북 그룹, 페이지가 활성화되어 있으니까 페이스북에서 교환학생 그룹을 ...   \n",
       "1  단과대나 과별로 실시하는 멘토프로그램에 참여하시는 걸 추천해요. 페이스북 그룹을 통...   \n",
       "2  처음에는 학교에서 인쇄도 할 줄 모르고 어리바리 했지만 아무나한테 물어보면 정말 모...   \n",
       "3               한국 국제처나 페이스북 한인그룹에서도 질문하면 받아주시고 그래요.   \n",
       "4  어디든지 모두들 친절하게 대답해주시니 궁금한 게 있으시면 주저하지 마시고 연락해보세...   \n",
       "\n",
       "                                            etc_info  \n",
       "0  저는 덴마크에서의 생활이 너무 만족스러워서, 추후에 다시 와서 공부를 하거나 직장을...  \n",
       "1  코펜하겐은 여러모로 교환학생으로 선택하기에 좋은 도시 같습니다. 환경 문제, 성평등...  \n",
       "2  개인적으로 덴마크 정말 진심으로 추천합니다. 덴마크가 궁금하시다면 국경없는 포차 덴...  \n",
       "3  제가 생각할때 교환은 인생을 바꿀수 있는 기회입니다. 이 기회를 어떻게 사용하느냐는...  \n",
       "4                                                NaN  "
      ]
     },
     "execution_count": 6,
     "metadata": {},
     "output_type": "execute_result"
    }
   ],
   "source": [
    "df_Univ_Copenhagen = pd.read_csv(TEXT_DATA_PATH+\"DK000003_reviews_specific.csv\")\n",
    "df_Univ_Copenhagen.head()"
   ]
  },
  {
   "cell_type": "code",
   "execution_count": 7,
   "metadata": {
    "scrolled": true
   },
   "outputs": [
    {
     "data": {
      "text/plain": [
       "Index(['gen_info', 'env_info', 'food_info', 'study_info', 'office_info',\n",
       "       'facil_info', 'mhct_info', 'help_info', 'etc_info'],\n",
       "      dtype='object')"
      ]
     },
     "execution_count": 7,
     "metadata": {},
     "output_type": "execute_result"
    }
   ],
   "source": [
    "df_Univ_Copenhagen.columns"
   ]
  },
  {
   "cell_type": "code",
   "execution_count": 8,
   "metadata": {},
   "outputs": [
    {
     "name": "stdout",
     "output_type": "stream",
     "text": [
      "<class 'pandas.core.frame.DataFrame'>\n",
      "RangeIndex: 72 entries, 0 to 71\n",
      "Data columns (total 9 columns):\n",
      " #   Column       Non-Null Count  Dtype \n",
      "---  ------       --------------  ----- \n",
      " 0   gen_info     72 non-null     object\n",
      " 1   env_info     70 non-null     object\n",
      " 2   food_info    72 non-null     object\n",
      " 3   study_info   72 non-null     object\n",
      " 4   office_info  72 non-null     object\n",
      " 5   facil_info   70 non-null     object\n",
      " 6   mhct_info    71 non-null     object\n",
      " 7   help_info    70 non-null     object\n",
      " 8   etc_info     66 non-null     object\n",
      "dtypes: object(9)\n",
      "memory usage: 5.2+ KB\n"
     ]
    }
   ],
   "source": [
    "df_Univ_Copenhagen.info()"
   ]
  },
  {
   "cell_type": "code",
   "execution_count": 9,
   "metadata": {
    "colab": {
     "base_uri": "https://localhost:8080/",
     "height": 218
    },
    "colab_type": "code",
    "id": "ZFxhrTY4OM-k",
    "outputId": "c3ec2550-a8e6-481a-b0a5-b957645e3d8b",
    "scrolled": true
   },
   "outputs": [
    {
     "data": {
      "text/plain": [
       "20    The University of Copenhagen is split into fou...\n",
       "44    코펜하겐 대학교는 하나의 캠퍼스가 통합되어 있는 일반적인 한국식 학교와 달리 도시 ...\n",
       "15    575만 인구의 덴마크에서 59만 사람들이 살고있는 수도 코펜하겐. 북유럽 사람들은...\n",
       "10    1. 교환대학의 크기와 지리적 위치코펜하겐 대학은 학부나 과에 따라 다양한 캠퍼스들...\n",
       "58    유럽대륙에서 스칸디나비아반도로 가는 길목에 위치한 인구 오백만의 작은 나라 덴마크,...\n",
       "Name: gen_info, dtype: object"
      ]
     },
     "execution_count": 9,
     "metadata": {},
     "output_type": "execute_result"
    }
   ],
   "source": [
    "basic_info_df = df_Univ_Copenhagen['gen_info']\n",
    "basic_info_df.sample(5)"
   ]
  },
  {
   "cell_type": "code",
   "execution_count": 16,
   "metadata": {},
   "outputs": [
    {
     "data": {
      "text/plain": [
       "'University of Copenhagen은 단과대 별로 캠퍼스가 나눠져 있습니다. 경제학과인 저의 경우 우리나라의 명동격이라 할 수 있는 Norreport 근처의 SAMF 캠퍼스에서 경제학과 수업을 듣고(사회대 수업이 이 곳에서 진행됩니다) Island brygge역 근처의 문과대 캠퍼스 KUA에서 culture 수업과 danish language 수업을 들었습니다.덴마크가 북유럽이긴 하지만 유럽 대륙에 붙어 있는 반도이기 때문에 유럽여행 다니기에 굉장히 편리했습니다. 스웨덴 제3의 도시 말뫼와도 연결되어 있구요. 날씨는 여름에 무조건 즐기세요. 해가 늦게 지고 덥지도 춥지도 않은 딱 좋은 날씨가 8월 말에 끝납니다. 9월이 되면 바로 추워져서 저는 가지고 갔던 여름 옷 정말 단 한번도 안 입었어요. 가자마자 코트랑 패딩 하나씩 장만했습니다. 그렇지만 이 상태가 그대로 유지되고 더 추워지지는 않아서 한국보다 추위에 고생할 일은 없습니다. 비가 부슬부슬 오는데 말그대로 부슬부슬 내려서 우산 쓰고 다닐일이 거의 없어요. 우비가 있으면 좋습니다.'"
      ]
     },
     "execution_count": 16,
     "metadata": {},
     "output_type": "execute_result"
    }
   ],
   "source": [
    "sample_index = 24\n",
    "sample_content =basic_info_df[sample_index]\n",
    "sample_content"
   ]
  },
  {
   "cell_type": "code",
   "execution_count": 13,
   "metadata": {},
   "outputs": [],
   "source": [
    "from konlpy.tag import Mecab \n",
    "mecab = Mecab() "
   ]
  },
  {
   "cell_type": "code",
   "execution_count": null,
   "metadata": {
    "colab": {},
    "colab_type": "code",
    "id": "4_jsPfj_lYvT"
   },
   "outputs": [],
   "source": [
    "def noun_bow(df):\n",
    "  bow = []\n",
    "  for element in df:\n",
    "    nouns = mecab.nouns(element)\n",
    "    print(nouns)\n",
    "    print(len(nouns))\n",
    "    bow = bow + nouns\n",
    "    print(len(bow))\n",
    "  return bow"
   ]
  },
  {
   "cell_type": "code",
   "execution_count": null,
   "metadata": {
    "colab": {},
    "colab_type": "code",
    "id": "-xb6gfP0lfGV"
   },
   "outputs": [],
   "source": [
    "import re\n",
    "def preprocessing(text):\n",
    "    # 개행문자 제거\n",
    "    text = re.sub('\\\\\\\\n', ' ', text)\n",
    "    return text"
   ]
  },
  {
   "cell_type": "code",
   "execution_count": null,
   "metadata": {
    "colab": {
     "base_uri": "https://localhost:8080/",
     "height": 50
    },
    "colab_type": "code",
    "id": "e7PnGNVVloBE",
    "outputId": "f61bf447-c6c8-4539-86df-8af84af32b12"
   },
   "outputs": [],
   "source": [
    "# %time을 찍어주면 해당 코드를 실행할 때 걸리는 시간을 출력해 줍니다\n",
    "%time sentences = df['gen_info'].apply(preprocessing)"
   ]
  },
  {
   "cell_type": "code",
   "execution_count": null,
   "metadata": {
    "colab": {
     "base_uri": "https://localhost:8080/",
     "height": 67
    },
    "colab_type": "code",
    "id": "3raJuw2vloY2",
    "outputId": "61e5e987-9dde-4fbf-ba86-70b418da1552"
   },
   "outputs": [],
   "source": [
    "# 그래프에 retina display 적용\n",
    "%config InlineBackend.figure_format = 'retina'\n",
    "\n",
    "# 나눔고딕 설치\n",
    "!apt -qq -y install fonts-nanum > /dev/null\n",
    "import matplotlib.font_manager as fm\n",
    "fontpath = '/usr/share/fonts/truetype/nanum/NanumBarunGothic.ttf'\n",
    "font = fm.FontProperties(fname=fontpath, size=9)"
   ]
  },
  {
   "cell_type": "code",
   "execution_count": null,
   "metadata": {
    "colab": {},
    "colab_type": "code",
    "id": "8IIni1qxujDs"
   },
   "outputs": [],
   "source": [
    "stopwords_kr = ['하지만', '그리고', '그런데', '저는','제가',\n",
    "                '그럼', '이런', '저런', '합니다',\n",
    "                '많은', '많이', '정말', '너무'] "
   ]
  },
  {
   "cell_type": "code",
   "execution_count": null,
   "metadata": {
    "colab": {},
    "colab_type": "code",
    "id": "0UKyS1lWl7LK"
   },
   "outputs": [],
   "source": [
    "from wordcloud import WordCloud\n",
    "import matplotlib.pyplot as plt\n",
    "%matplotlib inline\n",
    "\n",
    "def displayWordCloud(data = None, backgroundcolor = 'white', width=800, height=600 ):\n",
    "    wordcloud = WordCloud(\n",
    "                        font_path = fontpath, \n",
    "                        stopwords = stopwords_kr, \n",
    "                        background_color = backgroundcolor, \n",
    "                         width = width, height = height).generate(data)\n",
    "    plt.figure(figsize = (15 , 10))\n",
    "    plt.imshow(wordcloud)\n",
    "    plt.axis(\"off\")\n",
    "    plt.show() "
   ]
  },
  {
   "cell_type": "code",
   "execution_count": null,
   "metadata": {
    "colab": {
     "base_uri": "https://localhost:8080/",
     "height": 609
    },
    "colab_type": "code",
    "id": "-PJXcJGomC5a",
    "outputId": "53fca6b5-fd87-4841-cdbb-b7a9a9bc2c8f"
   },
   "outputs": [],
   "source": [
    "# 추출된 명사를 찍어봅니다.\n",
    "%time displayWordCloud(' '.join(bow))"
   ]
  },
  {
   "cell_type": "code",
   "execution_count": null,
   "metadata": {
    "colab": {
     "base_uri": "https://localhost:8080/",
     "height": 609
    },
    "colab_type": "code",
    "id": "6KAEzlvgmfQH",
    "outputId": "7e7de008-bf4a-4fe4-9131-f7db51541b9d"
   },
   "outputs": [],
   "source": [
    "stopwords_kr = ['코펜하겐', '캠퍼스', '덴마크', '코펜하겐 대학교', '여름','겨울','날씨','대학',\n",
    "                '때문','정도'] \n",
    "# 추출된 명사를 찍어봅니다.\n",
    "%time displayWordCloud(' '.join(bow))"
   ]
  },
  {
   "cell_type": "code",
   "execution_count": null,
   "metadata": {
    "colab": {
     "base_uri": "https://localhost:8080/",
     "height": 615
    },
    "colab_type": "code",
    "id": "OlzcOWmhwdbP",
    "outputId": "a1962c34-2e99-4a46-ecb0-b27736a0c75a"
   },
   "outputs": [],
   "source": [
    "df.tail()"
   ]
  },
  {
   "cell_type": "code",
   "execution_count": null,
   "metadata": {
    "colab": {
     "base_uri": "https://localhost:8080/",
     "height": 252
    },
    "colab_type": "code",
    "id": "lm8ifWFsxC-y",
    "outputId": "91e2465e-397c-4a37-f9a9-2eb1f8c480cb"
   },
   "outputs": [],
   "source": [
    "df.info()"
   ]
  },
  {
   "cell_type": "code",
   "execution_count": null,
   "metadata": {
    "colab": {},
    "colab_type": "code",
    "id": "5_4CYKzwZ1cf"
   },
   "outputs": [],
   "source": [
    "df = df.fillna(\"빔\")"
   ]
  },
  {
   "cell_type": "code",
   "execution_count": null,
   "metadata": {
    "colab": {
     "base_uri": "https://localhost:8080/",
     "height": 252
    },
    "colab_type": "code",
    "id": "gvd2QF-DZ3Wz",
    "outputId": "58a72d35-b1a1-4f0e-e3a4-ab96e8fa21b3"
   },
   "outputs": [],
   "source": [
    "df.info()"
   ]
  },
  {
   "cell_type": "code",
   "execution_count": null,
   "metadata": {
    "colab": {
     "base_uri": "https://localhost:8080/",
     "height": 1000
    },
    "colab_type": "code",
    "id": "wpQS_KkWxU-C",
    "outputId": "a7f6aed4-e0c6-4f1a-90cc-fa07ecf684e6"
   },
   "outputs": [],
   "source": [
    "# stopwords_kr = ['코펜하겐', '캠퍼스', '덴마크', '코펜하겐 대학교', '여름','겨울','날씨','대학',\n",
    "#                 '때문','정도', '경우','학생'] \n",
    "\n",
    "stopwords_kr = ['코펜하겐', '캠퍼스', '덴마크', '코펜하겐 대학교', '여름','겨울','날씨','대학',\n",
    "                '때문','정도', '경우','학생','교환', '학교', '문화' ,'충격', '기숙사','한국','국제','교육부'] \n",
    "\n",
    "# stopwords_kr_mhct = ['코펜하겐', '캠퍼스', '덴마크', '코펜하겐 대학교', '여름','겨울','날씨','대학',\n",
    "#                 '때문','정도', '경우','학생','교환','문화','충격',] \n",
    "\n",
    "\n",
    "\n",
    "# iterating the columns \n",
    "for col in df.columns: \n",
    "  one_column_df = df[col]\n",
    "  print(one_column_df)\n",
    "  bow = noun_bow(one_column_df)\n",
    "  # 추출된 명사를 찍어봅니다.\n",
    "  displayWordCloud(' '.join(bow))\n"
   ]
  },
  {
   "cell_type": "code",
   "execution_count": null,
   "metadata": {
    "colab": {
     "base_uri": "https://localhost:8080/",
     "height": 188
    },
    "colab_type": "code",
    "id": "Fw6Kq1iljXHf",
    "outputId": "ce6354db-db25-4fdd-888f-feff368db4de"
   },
   "outputs": [],
   "source": [
    "!pip install Counter"
   ]
  },
  {
   "cell_type": "code",
   "execution_count": null,
   "metadata": {
    "colab": {
     "base_uri": "https://localhost:8080/",
     "height": 1000
    },
    "colab_type": "code",
    "id": "l4mA50p7pKUf",
    "outputId": "a9af8612-0d56-401f-cadc-9049793ec1c4"
   },
   "outputs": [],
   "source": [
    "from collections import Counter\n",
    "counted_nouns = Counter(noun_bow(df['env_info']))\n",
    "counted_nouns"
   ]
  },
  {
   "cell_type": "code",
   "execution_count": null,
   "metadata": {
    "colab": {
     "base_uri": "https://localhost:8080/",
     "height": 1000
    },
    "colab_type": "code",
    "id": "Z4u7W1eUpjs_",
    "outputId": "7e07834b-db40-46ef-d07c-0a9521146468"
   },
   "outputs": [],
   "source": [
    "tags = counted_nouns.most_common(100)\n",
    "tags"
   ]
  },
  {
   "cell_type": "code",
   "execution_count": null,
   "metadata": {
    "colab": {
     "base_uri": "https://localhost:8080/",
     "height": 238
    },
    "colab_type": "code",
    "id": "TX1tjnmGqE7x",
    "outputId": "ce8550a3-7b08-486c-ed12-9f283edba692"
   },
   "outputs": [],
   "source": [
    "!pip install pytagcloud\n",
    "!pip install pygame\n",
    "!pip install simplejson\n",
    "import pytagcloud\n",
    "taglist = pytagcloud.make_tags(tags,maxsize=100)"
   ]
  },
  {
   "cell_type": "code",
   "execution_count": null,
   "metadata": {
    "colab": {
     "base_uri": "https://localhost:8080/",
     "height": 1000
    },
    "colab_type": "code",
    "id": "3AMRxaHvqQ0p",
    "outputId": "dd0a17e0-5667-45b6-e062-bdde917e5cc2"
   },
   "outputs": [],
   "source": [
    "tags"
   ]
  },
  {
   "cell_type": "code",
   "execution_count": null,
   "metadata": {
    "colab": {},
    "colab_type": "code",
    "id": "xXvA3ugCrFao"
   },
   "outputs": [],
   "source": []
  }
 ],
 "metadata": {
  "colab": {
   "collapsed_sections": [],
   "include_colab_link": true,
   "name": "KONLPY Wordcloud practice.ipynb",
   "provenance": []
  },
  "kernelspec": {
   "display_name": "Python 3",
   "language": "python",
   "name": "python3"
  },
  "language_info": {
   "codemirror_mode": {
    "name": "ipython",
    "version": 3
   },
   "file_extension": ".py",
   "mimetype": "text/x-python",
   "name": "python",
   "nbconvert_exporter": "python",
   "pygments_lexer": "ipython3",
   "version": "3.8.3"
  }
 },
 "nbformat": 4,
 "nbformat_minor": 1
}
