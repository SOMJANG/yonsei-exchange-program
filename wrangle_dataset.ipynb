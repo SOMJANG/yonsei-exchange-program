{
 "metadata": {
  "language_info": {
   "codemirror_mode": {
    "name": "ipython",
    "version": 3
   },
   "file_extension": ".py",
   "mimetype": "text/x-python",
   "name": "python",
   "nbconvert_exporter": "python",
   "pygments_lexer": "ipython3",
   "version": "3.8.1-final"
  },
  "orig_nbformat": 2,
  "kernelspec": {
   "name": "python38164bitd84bd39789ae4619b6b50c356f0457fc",
   "display_name": "Python 3.8.1 64-bit"
  }
 },
 "nbformat": 4,
 "nbformat_minor": 2,
 "cells": [
  {
   "cell_type": "code",
   "execution_count": 17,
   "metadata": {},
   "outputs": [],
   "source": [
    "UNIV_COLUMNS = ['대학코드', '국가', '대학명', '파견구분', '협정형태', 'VISIT_NO', \"BERT_SUM\", \"RNN_SUM\", 'href']\n",
    "ABSTRACT_REVIEWS_COLUMNS = ['대학코드', '제목', '학과', '과정', '년도', 'BERT_SCORE', 'RNN_SCORE', 'href']\n",
    "SPECIFIC_COLUMNS = [\"대학코드\", \"대학명\", \"국가\", \"파견구분\", \"협정형태\", \"학과\", \"제목\", \"과정\", \"년도\", \"college_link\", \"review_link\",  \"gen_info\",\"env_info\",\"food_info\",\"study_info\",\"office_info\" \"facil_info\",\"mhct_info\",\"help_info\",\"etc_info\", \"BERT_SCORE\", \"RNN_SCORE\"]"
   ]
  },
  {
   "cell_type": "code",
   "execution_count": 3,
   "metadata": {},
   "outputs": [],
   "source": [
    "import os\n",
    "from os import fdopen, remove\n",
    "import glob\n",
    "from tempfile import mkstemp\n",
    "import shutil\n",
    "from shutil import move, copymode\n",
    "\n",
    "import pandas as pd\n",
    "import numpy as np"
   ]
  },
  {
   "cell_type": "code",
   "execution_count": 4,
   "metadata": {},
   "outputs": [],
   "source": [
    "# define path for sentiment labeled dataset\n",
    "# abstract: 짧은 후기 제목만 있는 텍스트 데이터셋\n",
    "# specific: 문단으로 구성된 텍스트 데이터셋\n",
    "\n",
    "abstract_sentiment = \"./data_sentiment/abstract\"\n",
    "specific_sentiment = \"./data_sentiment/specific\""
   ]
  },
  {
   "cell_type": "code",
   "execution_count": 5,
   "metadata": {},
   "outputs": [
    {
     "output_type": "execute_result",
     "data": {
      "text/plain": "['./data_sentiment/abstract/NL000006_review_abstract_sentiment.csv',\n './data_sentiment/abstract/FI000014_review_abstract_sentiment.csv',\n './data_sentiment/abstract/US000183_review_abstract_sentiment.csv',\n './data_sentiment/abstract/US000109_review_abstract_sentiment.csv',\n './data_sentiment/abstract/CA000002_review_abstract_sentiment.csv']"
     },
     "metadata": {},
     "execution_count": 5
    }
   ],
   "source": [
    "# fetch all yonsei exchange review text datasets for each foreign universities\n",
    "abstract_yonsei_reviews = glob.glob(f\"{abstract_sentiment}/*.csv\")\n",
    "abstract_yonsei_reviews[:5]"
   ]
  },
  {
   "cell_type": "code",
   "execution_count": 6,
   "metadata": {
    "tags": []
   },
   "outputs": [
    {
     "output_type": "stream",
     "name": "stdout",
     "text": "AU000016_review_abstract_sentiment\nAU000016\n"
    },
    {
     "output_type": "execute_result",
     "data": {
      "text/plain": "    Unnamed: 0  No                                    제목  \\\n3            3  44                           시드니에서의 한 학기   \n21          21  26                         내 인생의 못 잊을 1년   \n15          15  32                   잊지 못할 UTS 교환학생 한 학기   \n0            0  47  Warm, Welcoming, and Stimulating UTS   \n13          13  34                      내 인생 최고의 Holiday   \n\n                      학과  과정         년도  \\\n3                 응용통계학과  학부       2013   \n21                영어영문학과  학부  2006-2007   \n15                  사회학과  학부       2008   \n0   UIC, TAD (IID & CDM)  학부       2018   \n13                주거환경학과  학부       2008   \n\n                                             href  BERT_SCORE  RNN_SCORE  \n3    /partner/expReport.asp?id=6898&page=1&bgbn=R           1   0.719899  \n21   /partner/expReport.asp?id=2723&page=3&bgbn=R           0   0.742134  \n15   /partner/expReport.asp?id=3234&page=2&bgbn=R           0   0.834257  \n0   /partner/expReport.asp?id=14839&page=1&bgbn=R           0   0.516349  \n13   /partner/expReport.asp?id=3499&page=2&bgbn=R           1   0.932632  ",
      "text/html": "<div>\n<style scoped>\n    .dataframe tbody tr th:only-of-type {\n        vertical-align: middle;\n    }\n\n    .dataframe tbody tr th {\n        vertical-align: top;\n    }\n\n    .dataframe thead th {\n        text-align: right;\n    }\n</style>\n<table border=\"1\" class=\"dataframe\">\n  <thead>\n    <tr style=\"text-align: right;\">\n      <th></th>\n      <th>Unnamed: 0</th>\n      <th>No</th>\n      <th>제목</th>\n      <th>학과</th>\n      <th>과정</th>\n      <th>년도</th>\n      <th>href</th>\n      <th>BERT_SCORE</th>\n      <th>RNN_SCORE</th>\n    </tr>\n  </thead>\n  <tbody>\n    <tr>\n      <th>3</th>\n      <td>3</td>\n      <td>44</td>\n      <td>시드니에서의 한 학기</td>\n      <td>응용통계학과</td>\n      <td>학부</td>\n      <td>2013</td>\n      <td>/partner/expReport.asp?id=6898&amp;page=1&amp;bgbn=R</td>\n      <td>1</td>\n      <td>0.719899</td>\n    </tr>\n    <tr>\n      <th>21</th>\n      <td>21</td>\n      <td>26</td>\n      <td>내 인생의 못 잊을 1년</td>\n      <td>영어영문학과</td>\n      <td>학부</td>\n      <td>2006-2007</td>\n      <td>/partner/expReport.asp?id=2723&amp;page=3&amp;bgbn=R</td>\n      <td>0</td>\n      <td>0.742134</td>\n    </tr>\n    <tr>\n      <th>15</th>\n      <td>15</td>\n      <td>32</td>\n      <td>잊지 못할 UTS 교환학생 한 학기</td>\n      <td>사회학과</td>\n      <td>학부</td>\n      <td>2008</td>\n      <td>/partner/expReport.asp?id=3234&amp;page=2&amp;bgbn=R</td>\n      <td>0</td>\n      <td>0.834257</td>\n    </tr>\n    <tr>\n      <th>0</th>\n      <td>0</td>\n      <td>47</td>\n      <td>Warm, Welcoming, and Stimulating UTS</td>\n      <td>UIC, TAD (IID &amp; CDM)</td>\n      <td>학부</td>\n      <td>2018</td>\n      <td>/partner/expReport.asp?id=14839&amp;page=1&amp;bgbn=R</td>\n      <td>0</td>\n      <td>0.516349</td>\n    </tr>\n    <tr>\n      <th>13</th>\n      <td>13</td>\n      <td>34</td>\n      <td>내 인생 최고의 Holiday</td>\n      <td>주거환경학과</td>\n      <td>학부</td>\n      <td>2008</td>\n      <td>/partner/expReport.asp?id=3499&amp;page=2&amp;bgbn=R</td>\n      <td>1</td>\n      <td>0.932632</td>\n    </tr>\n  </tbody>\n</table>\n</div>"
     },
     "metadata": {},
     "execution_count": 6
    }
   ],
   "source": [
    "# look at sample dataset\n",
    "sample_file = abstract_yonsei_reviews[70]\n",
    "file_name = sample_file.split(\"/\")[-1]\n",
    "file_name_without_ext = file_name.split(\".\")[0]\n",
    "print(file_name_without_ext)\n",
    "univ_code = file_name_without_ext.split(\"_\")[0]\n",
    "print(univ_code)\n",
    "df_abstract = pd.read_csv(sample_file, encoding=\"utf-8\")\n",
    "df_abstract.sample(5)"
   ]
  },
  {
   "cell_type": "code",
   "execution_count": 7,
   "metadata": {},
   "outputs": [
    {
     "output_type": "execute_result",
     "data": {
      "text/plain": "       대학코드                                    제목                    학과  과정  \\\n0  AU000016  Warm, Welcoming, and Stimulating UTS  UIC, TAD (IID & CDM)  학부   \n1  AU000016                        다시 돌아가고 싶은 UTS                  의공학부  학부   \n2  AU000016                        행복했던 시드니에서 한학기                 기계공학과  학부   \n3  AU000016                           시드니에서의 한 학기                응용통계학과  학부   \n4  AU000016                             시드니에서의 1년                  경영학과  학부   \n\n          년도  BERT_SCORE  RNN_SCORE  \\\n0       2018           0   0.516349   \n1       2017           1   0.913062   \n2       2016           1   0.772298   \n3       2013           1   0.719899   \n4  2012-2013           0   0.719899   \n\n                                            href  \n0  /partner/expReport.asp?id=14839&page=1&bgbn=R  \n1  /partner/expReport.asp?id=14400&page=1&bgbn=R  \n2  /partner/expReport.asp?id=13591&page=1&bgbn=R  \n3   /partner/expReport.asp?id=6898&page=1&bgbn=R  \n4   /partner/expReport.asp?id=6422&page=1&bgbn=R  ",
      "text/html": "<div>\n<style scoped>\n    .dataframe tbody tr th:only-of-type {\n        vertical-align: middle;\n    }\n\n    .dataframe tbody tr th {\n        vertical-align: top;\n    }\n\n    .dataframe thead th {\n        text-align: right;\n    }\n</style>\n<table border=\"1\" class=\"dataframe\">\n  <thead>\n    <tr style=\"text-align: right;\">\n      <th></th>\n      <th>대학코드</th>\n      <th>제목</th>\n      <th>학과</th>\n      <th>과정</th>\n      <th>년도</th>\n      <th>BERT_SCORE</th>\n      <th>RNN_SCORE</th>\n      <th>href</th>\n    </tr>\n  </thead>\n  <tbody>\n    <tr>\n      <th>0</th>\n      <td>AU000016</td>\n      <td>Warm, Welcoming, and Stimulating UTS</td>\n      <td>UIC, TAD (IID &amp; CDM)</td>\n      <td>학부</td>\n      <td>2018</td>\n      <td>0</td>\n      <td>0.516349</td>\n      <td>/partner/expReport.asp?id=14839&amp;page=1&amp;bgbn=R</td>\n    </tr>\n    <tr>\n      <th>1</th>\n      <td>AU000016</td>\n      <td>다시 돌아가고 싶은 UTS</td>\n      <td>의공학부</td>\n      <td>학부</td>\n      <td>2017</td>\n      <td>1</td>\n      <td>0.913062</td>\n      <td>/partner/expReport.asp?id=14400&amp;page=1&amp;bgbn=R</td>\n    </tr>\n    <tr>\n      <th>2</th>\n      <td>AU000016</td>\n      <td>행복했던 시드니에서 한학기</td>\n      <td>기계공학과</td>\n      <td>학부</td>\n      <td>2016</td>\n      <td>1</td>\n      <td>0.772298</td>\n      <td>/partner/expReport.asp?id=13591&amp;page=1&amp;bgbn=R</td>\n    </tr>\n    <tr>\n      <th>3</th>\n      <td>AU000016</td>\n      <td>시드니에서의 한 학기</td>\n      <td>응용통계학과</td>\n      <td>학부</td>\n      <td>2013</td>\n      <td>1</td>\n      <td>0.719899</td>\n      <td>/partner/expReport.asp?id=6898&amp;page=1&amp;bgbn=R</td>\n    </tr>\n    <tr>\n      <th>4</th>\n      <td>AU000016</td>\n      <td>시드니에서의 1년</td>\n      <td>경영학과</td>\n      <td>학부</td>\n      <td>2012-2013</td>\n      <td>0</td>\n      <td>0.719899</td>\n      <td>/partner/expReport.asp?id=6422&amp;page=1&amp;bgbn=R</td>\n    </tr>\n  </tbody>\n</table>\n</div>"
     },
     "metadata": {},
     "execution_count": 7
    }
   ],
   "source": [
    "df_abstract_review = df_abstract[[\"제목\", \"학과\", \"과정\", \"년도\", \"BERT_SCORE\", \"RNN_SCORE\", \"href\"]]\n",
    "df_abstract_review[\"대학코드\"] = univ_code\n",
    "_abstract_review = df_abstract[[\"제목\", \"학과\", \"과정\", \"년도\", \"BERT_SCORE\", \"RNN_SCORE\", \"href\"]]\n",
    "df_abstract_review[\"대학코드\"] = univ_code\n",
    "df_abstract_review = df_abstract_review[[\"대학코드\",\"제목\", \"학과\", \"과정\", \"년도\", \"BERT_SCORE\", \"RNN_SCORE\", \"href\"]]\n",
    "df_abstract_review.head()"
   ]
  },
  {
   "cell_type": "code",
   "execution_count": 15,
   "metadata": {},
   "outputs": [
    {
     "output_type": "execute_result",
     "data": {
      "text/plain": "['대학코드', '제목', '학과', '과정', '년도', 'BERT_SCORE', 'RNN_SCORE', 'href']"
     },
     "metadata": {},
     "execution_count": 15
    }
   ],
   "source": [
    "df_abstract_review.columns.to_list()"
   ]
  },
  {
   "cell_type": "code",
   "execution_count": 13,
   "metadata": {},
   "outputs": [],
   "source": [
    "def make_abstract_review_df(file_path):\n",
    "    df_abstract = pd.read_csv(file_path, encoding=\"utf-8\")\n",
    "    df_abstract_review = df_abstract[[\"제목\", \"학과\", \"과정\", \"년도\", \"BERT_SCORE\", \"RNN_SCORE\", \"href\"]]\n",
    "    df_abstract_review[\"대학코드\"] = univ_code\n",
    "    _abstract_review = df_abstract[[\"제목\", \"학과\", \"과정\", \"년도\", \"BERT_SCORE\", \"RNN_SCORE\", \"href\"]]\n",
    "    df_abstract_review[\"대학코드\"] = univ_code\n",
    "    df_abstract_review = df_abstract_review[[\"대학코드\",\"제목\", \"학과\", \"과정\", \"년도\", \"BERT_SCORE\", \"RNN_SCORE\", \"href\"]]\n",
    "    return df_abstract_review"
   ]
  },
  {
   "cell_type": "code",
   "execution_count": null,
   "metadata": {},
   "outputs": [],
   "source": []
  },
  {
   "cell_type": "code",
   "execution_count": 9,
   "metadata": {},
   "outputs": [
    {
     "output_type": "execute_result",
     "data": {
      "text/plain": "     level_0  index   No                     대학명              국가  파견구분  협정형태  \\\n62        62     15   16    University of Regina          CANADA   NaN  ISEP   \n398      398      5    6  London Business School  UNITED KINGDOM  교환학생   NaN   \n685      685    249  250    University of Oregon   UNITED STATES  교환학생  교환대학   \n479      479     43   44     CSU Channel Islands   UNITED STATES  교환학생  교환대학   \n232      232      4    5     Doshisha University           JAPAN   NaN  교환대학   \n\n                                             href visitation  \n62   /partner/expReport.asp?ucode=CA000021&bgbn=A     Exists  \n398  /partner/expReport.asp?ucode=GB000001&bgbn=A     Exists  \n685  /partner/expReport.asp?ucode=US000143&bgbn=A     Exists  \n479  /partner/expReport.asp?ucode=US000023&bgbn=A       None  \n232  /partner/expReport.asp?ucode=JP000005&bgbn=A     Exists  ",
      "text/html": "<div>\n<style scoped>\n    .dataframe tbody tr th:only-of-type {\n        vertical-align: middle;\n    }\n\n    .dataframe tbody tr th {\n        vertical-align: top;\n    }\n\n    .dataframe thead th {\n        text-align: right;\n    }\n</style>\n<table border=\"1\" class=\"dataframe\">\n  <thead>\n    <tr style=\"text-align: right;\">\n      <th></th>\n      <th>level_0</th>\n      <th>index</th>\n      <th>No</th>\n      <th>대학명</th>\n      <th>국가</th>\n      <th>파견구분</th>\n      <th>협정형태</th>\n      <th>href</th>\n      <th>visitation</th>\n    </tr>\n  </thead>\n  <tbody>\n    <tr>\n      <th>62</th>\n      <td>62</td>\n      <td>15</td>\n      <td>16</td>\n      <td>University of Regina</td>\n      <td>CANADA</td>\n      <td>NaN</td>\n      <td>ISEP</td>\n      <td>/partner/expReport.asp?ucode=CA000021&amp;bgbn=A</td>\n      <td>Exists</td>\n    </tr>\n    <tr>\n      <th>398</th>\n      <td>398</td>\n      <td>5</td>\n      <td>6</td>\n      <td>London Business School</td>\n      <td>UNITED KINGDOM</td>\n      <td>교환학생</td>\n      <td>NaN</td>\n      <td>/partner/expReport.asp?ucode=GB000001&amp;bgbn=A</td>\n      <td>Exists</td>\n    </tr>\n    <tr>\n      <th>685</th>\n      <td>685</td>\n      <td>249</td>\n      <td>250</td>\n      <td>University of Oregon</td>\n      <td>UNITED STATES</td>\n      <td>교환학생</td>\n      <td>교환대학</td>\n      <td>/partner/expReport.asp?ucode=US000143&amp;bgbn=A</td>\n      <td>Exists</td>\n    </tr>\n    <tr>\n      <th>479</th>\n      <td>479</td>\n      <td>43</td>\n      <td>44</td>\n      <td>CSU Channel Islands</td>\n      <td>UNITED STATES</td>\n      <td>교환학생</td>\n      <td>교환대학</td>\n      <td>/partner/expReport.asp?ucode=US000023&amp;bgbn=A</td>\n      <td>None</td>\n    </tr>\n    <tr>\n      <th>232</th>\n      <td>232</td>\n      <td>4</td>\n      <td>5</td>\n      <td>Doshisha University</td>\n      <td>JAPAN</td>\n      <td>NaN</td>\n      <td>교환대학</td>\n      <td>/partner/expReport.asp?ucode=JP000005&amp;bgbn=A</td>\n      <td>Exists</td>\n    </tr>\n  </tbody>\n</table>\n</div>"
     },
     "metadata": {},
     "execution_count": 9
    }
   ],
   "source": [
    "df_univ = pd.read_csv(\"./data/univ_db_full.csv\", encoding=\"utf-8\")\n",
    "df_univ.sample(5)"
   ]
  },
  {
   "cell_type": "code",
   "execution_count": 10,
   "metadata": {},
   "outputs": [],
   "source": [
    "series_query = df_univ[\"href\"].str.split(\"=\", expand=True)[1]\n",
    "series_univ_code = series_query.str.split(\"&\", expand=True)[0]\n",
    "df_univ[\"대학코드\"] = series_univ_code"
   ]
  },
  {
   "cell_type": "code",
   "execution_count": 11,
   "metadata": {},
   "outputs": [
    {
     "output_type": "execute_result",
     "data": {
      "text/plain": "   level_0  index  No                              대학명           국가  파견구분  \\\n0        0      0   1                 Kabul University  AFGHANISTAN  교환학생   \n1        1      0   1          Universidad Blas Pascal    ARGENTINA  교환학생   \n2        2      1   2  Universidad Catolica de Cordoba    ARGENTINA  교환학생   \n3        3      2   3           Universidad de Palermo    ARGENTINA  교환학생   \n4        4      3   4         Universidad del Salvador    ARGENTINA  교환학생   \n\n   협정형태                                          href visitation      대학코드  \n0  교환대학  /partner/expReport.asp?ucode=AF000001&bgbn=A       None  AF000001  \n1  ISEP  /partner/expReport.asp?ucode=AR000001&bgbn=A       None  AR000001  \n2  ISEP  /partner/expReport.asp?ucode=AR000002&bgbn=A       None  AR000002  \n3  ISEP  /partner/expReport.asp?ucode=AR000003&bgbn=A       None  AR000003  \n4  ISEP  /partner/expReport.asp?ucode=AR000004&bgbn=A     Exists  AR000004  ",
      "text/html": "<div>\n<style scoped>\n    .dataframe tbody tr th:only-of-type {\n        vertical-align: middle;\n    }\n\n    .dataframe tbody tr th {\n        vertical-align: top;\n    }\n\n    .dataframe thead th {\n        text-align: right;\n    }\n</style>\n<table border=\"1\" class=\"dataframe\">\n  <thead>\n    <tr style=\"text-align: right;\">\n      <th></th>\n      <th>level_0</th>\n      <th>index</th>\n      <th>No</th>\n      <th>대학명</th>\n      <th>국가</th>\n      <th>파견구분</th>\n      <th>협정형태</th>\n      <th>href</th>\n      <th>visitation</th>\n      <th>대학코드</th>\n    </tr>\n  </thead>\n  <tbody>\n    <tr>\n      <th>0</th>\n      <td>0</td>\n      <td>0</td>\n      <td>1</td>\n      <td>Kabul University</td>\n      <td>AFGHANISTAN</td>\n      <td>교환학생</td>\n      <td>교환대학</td>\n      <td>/partner/expReport.asp?ucode=AF000001&amp;bgbn=A</td>\n      <td>None</td>\n      <td>AF000001</td>\n    </tr>\n    <tr>\n      <th>1</th>\n      <td>1</td>\n      <td>0</td>\n      <td>1</td>\n      <td>Universidad Blas Pascal</td>\n      <td>ARGENTINA</td>\n      <td>교환학생</td>\n      <td>ISEP</td>\n      <td>/partner/expReport.asp?ucode=AR000001&amp;bgbn=A</td>\n      <td>None</td>\n      <td>AR000001</td>\n    </tr>\n    <tr>\n      <th>2</th>\n      <td>2</td>\n      <td>1</td>\n      <td>2</td>\n      <td>Universidad Catolica de Cordoba</td>\n      <td>ARGENTINA</td>\n      <td>교환학생</td>\n      <td>ISEP</td>\n      <td>/partner/expReport.asp?ucode=AR000002&amp;bgbn=A</td>\n      <td>None</td>\n      <td>AR000002</td>\n    </tr>\n    <tr>\n      <th>3</th>\n      <td>3</td>\n      <td>2</td>\n      <td>3</td>\n      <td>Universidad de Palermo</td>\n      <td>ARGENTINA</td>\n      <td>교환학생</td>\n      <td>ISEP</td>\n      <td>/partner/expReport.asp?ucode=AR000003&amp;bgbn=A</td>\n      <td>None</td>\n      <td>AR000003</td>\n    </tr>\n    <tr>\n      <th>4</th>\n      <td>4</td>\n      <td>3</td>\n      <td>4</td>\n      <td>Universidad del Salvador</td>\n      <td>ARGENTINA</td>\n      <td>교환학생</td>\n      <td>ISEP</td>\n      <td>/partner/expReport.asp?ucode=AR000004&amp;bgbn=A</td>\n      <td>Exists</td>\n      <td>AR000004</td>\n    </tr>\n  </tbody>\n</table>\n</div>"
     },
     "metadata": {},
     "execution_count": 11
    }
   ],
   "source": [
    "df_univ.head()"
   ]
  },
  {
   "cell_type": "code",
   "execution_count": 12,
   "metadata": {},
   "outputs": [
    {
     "output_type": "execute_result",
     "data": {
      "text/plain": "       대학코드           국가                              대학명  파견구분  협정형태  \\\n0  AF000001  AFGHANISTAN                 Kabul University  교환학생  교환대학   \n1  AR000001    ARGENTINA          Universidad Blas Pascal  교환학생  ISEP   \n2  AR000002    ARGENTINA  Universidad Catolica de Cordoba  교환학생  ISEP   \n3  AR000003    ARGENTINA           Universidad de Palermo  교환학생  ISEP   \n4  AR000004    ARGENTINA         Universidad del Salvador  교환학생  ISEP   \n\n  visitation                                          href  \n0       None  /partner/expReport.asp?ucode=AF000001&bgbn=A  \n1       None  /partner/expReport.asp?ucode=AR000001&bgbn=A  \n2       None  /partner/expReport.asp?ucode=AR000002&bgbn=A  \n3       None  /partner/expReport.asp?ucode=AR000003&bgbn=A  \n4     Exists  /partner/expReport.asp?ucode=AR000004&bgbn=A  ",
      "text/html": "<div>\n<style scoped>\n    .dataframe tbody tr th:only-of-type {\n        vertical-align: middle;\n    }\n\n    .dataframe tbody tr th {\n        vertical-align: top;\n    }\n\n    .dataframe thead th {\n        text-align: right;\n    }\n</style>\n<table border=\"1\" class=\"dataframe\">\n  <thead>\n    <tr style=\"text-align: right;\">\n      <th></th>\n      <th>대학코드</th>\n      <th>국가</th>\n      <th>대학명</th>\n      <th>파견구분</th>\n      <th>협정형태</th>\n      <th>visitation</th>\n      <th>href</th>\n    </tr>\n  </thead>\n  <tbody>\n    <tr>\n      <th>0</th>\n      <td>AF000001</td>\n      <td>AFGHANISTAN</td>\n      <td>Kabul University</td>\n      <td>교환학생</td>\n      <td>교환대학</td>\n      <td>None</td>\n      <td>/partner/expReport.asp?ucode=AF000001&amp;bgbn=A</td>\n    </tr>\n    <tr>\n      <th>1</th>\n      <td>AR000001</td>\n      <td>ARGENTINA</td>\n      <td>Universidad Blas Pascal</td>\n      <td>교환학생</td>\n      <td>ISEP</td>\n      <td>None</td>\n      <td>/partner/expReport.asp?ucode=AR000001&amp;bgbn=A</td>\n    </tr>\n    <tr>\n      <th>2</th>\n      <td>AR000002</td>\n      <td>ARGENTINA</td>\n      <td>Universidad Catolica de Cordoba</td>\n      <td>교환학생</td>\n      <td>ISEP</td>\n      <td>None</td>\n      <td>/partner/expReport.asp?ucode=AR000002&amp;bgbn=A</td>\n    </tr>\n    <tr>\n      <th>3</th>\n      <td>AR000003</td>\n      <td>ARGENTINA</td>\n      <td>Universidad de Palermo</td>\n      <td>교환학생</td>\n      <td>ISEP</td>\n      <td>None</td>\n      <td>/partner/expReport.asp?ucode=AR000003&amp;bgbn=A</td>\n    </tr>\n    <tr>\n      <th>4</th>\n      <td>AR000004</td>\n      <td>ARGENTINA</td>\n      <td>Universidad del Salvador</td>\n      <td>교환학생</td>\n      <td>ISEP</td>\n      <td>Exists</td>\n      <td>/partner/expReport.asp?ucode=AR000004&amp;bgbn=A</td>\n    </tr>\n  </tbody>\n</table>\n</div>"
     },
     "metadata": {},
     "execution_count": 12
    }
   ],
   "source": [
    "df = df_univ[[\"대학코드\", \"국가\", \"대학명\", \"파견구분\", \"협정형태\", \"visitation\", \"href\"]]\n",
    "df.head()"
   ]
  },
  {
   "cell_type": "code",
   "execution_count": 16,
   "metadata": {},
   "outputs": [
    {
     "output_type": "execute_result",
     "data": {
      "text/plain": "['대학코드', '국가', '대학명', '파견구분', '협정형태', 'visitation', 'href']"
     },
     "metadata": {},
     "execution_count": 16
    }
   ],
   "source": [
    "df.columns.to_list()"
   ]
  },
  {
   "cell_type": "code",
   "execution_count": 14,
   "metadata": {},
   "outputs": [],
   "source": [
    "def make_univ_list_df():\n",
    "    df_univ = pd.read_csv(\"./data/univ_db_full.csv\", encoding=\"utf-8\")\n",
    "    series_query = df_univ[\"href\"].str.split(\"=\", expand=True)[1]\n",
    "    series_univ_code = series_query.str.split(\"&\", expand=True)[0]\n",
    "    df_univ[\"대학코드\"] = series_univ_code\n",
    "    df = df_univ[[\"대학코드\", \"국가\", \"대학명\", \"파견구분\", \"협정형태\", \"visitation\", \"href\"]]\n",
    "    return df"
   ]
  },
  {
   "cell_type": "code",
   "execution_count": null,
   "metadata": {},
   "outputs": [],
   "source": []
  }
 ]
}