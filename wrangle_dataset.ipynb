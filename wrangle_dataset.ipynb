{
 "metadata": {
  "language_info": {
   "codemirror_mode": {
    "name": "ipython",
    "version": 3
   },
   "file_extension": ".py",
   "mimetype": "text/x-python",
   "name": "python",
   "nbconvert_exporter": "python",
   "pygments_lexer": "ipython3",
   "version": "3.8.1-final"
  },
  "orig_nbformat": 2,
  "kernelspec": {
   "name": "python38164bitd84bd39789ae4619b6b50c356f0457fc",
   "display_name": "Python 3.8.1 64-bit"
  }
 },
 "nbformat": 4,
 "nbformat_minor": 2,
 "cells": [
  {
   "cell_type": "code",
   "execution_count": 2,
   "metadata": {},
   "outputs": [],
   "source": [
    "UNIV_COLUMNS = ['대학코드', '국가', '대학명', '파견구분', '협정형태', 'NUM_VISITS', \"BERT_SUM\", \"RNN_SUM\", 'href']\n",
    "ABSTRACT_REVIEWS_COLUMNS = ['대학코드', '제목', '학과', '과정', '년도', 'BERT_SCORE', 'RNN_SCORE', 'href']\n",
    "SPECIFIC_COLUMNS = [\"대학코드\", \"대학명\", \"국가\", \"파견구분\", \"협정형태\", \"학과\", \"제목\", \"과정\", \"년도\", \"college_link\", \"review_link\",  \"gen_info\",\"env_info\",\"food_info\",\"study_info\",\"office_info\" \"facil_info\",\"mhct_info\",\"help_info\",\"etc_info\", \"BERT_SCORE\", \"RNN_SCORE\"]"
   ]
  },
  {
   "cell_type": "code",
   "execution_count": 3,
   "metadata": {},
   "outputs": [],
   "source": [
    "# import all modules\n",
    "import os\n",
    "from os import fdopen, remove\n",
    "import glob\n",
    "from tempfile import mkstemp\n",
    "import shutil\n",
    "from shutil import move, copymode\n",
    "\n",
    "import pandas as pd\n",
    "import numpy as np"
   ]
  },
  {
   "cell_type": "markdown",
   "metadata": {},
   "source": [
    "## wrangle abstract review dataset"
   ]
  },
  {
   "cell_type": "code",
   "execution_count": 4,
   "metadata": {},
   "outputs": [],
   "source": [
    "# define path for sentiment labeled dataset\n",
    "# abstract: 짧은 후기 제목만 있는 텍스트 데이터셋\n",
    "# specific: 문단으로 구성된 텍스트 데이터셋\n",
    "\n",
    "abstract_sentiment = \"./data_sentiment/abstract\"\n",
    "specific_sentiment = \"./data_sentiment/specific\""
   ]
  },
  {
   "cell_type": "code",
   "execution_count": 5,
   "metadata": {},
   "outputs": [
    {
     "output_type": "execute_result",
     "data": {
      "text/plain": "['./data_sentiment/abstract/730     _review_abstract_sentiment.csv',\n './data_sentiment/abstract/AR000004_review_abstract_sentiment.csv',\n './data_sentiment/abstract/AT000001_review_abstract_sentiment.csv',\n './data_sentiment/abstract/AT000002_review_abstract_sentiment.csv',\n './data_sentiment/abstract/AT000003_review_abstract_sentiment.csv']"
     },
     "metadata": {},
     "execution_count": 5
    }
   ],
   "source": [
    "# fetch all yonsei exchange review text datasets for each foreign universities\n",
    "abstract_yonsei_reviews = glob.glob(f\"{abstract_sentiment}/*.csv\")\n",
    "abstract_yonsei_reviews.sort()\n",
    "abstract_yonsei_reviews[:5]"
   ]
  },
  {
   "cell_type": "code",
   "execution_count": 6,
   "metadata": {
    "tags": []
   },
   "outputs": [
    {
     "output_type": "stream",
     "name": "stdout",
     "text": "CN000022_review_abstract_sentiment\nCN000022\n"
    },
    {
     "output_type": "execute_result",
     "data": {
      "text/plain": "    Unnamed: 0  No                  제목      학과  과정    년도  \\\n8            8  10         북경대학교 경험보고서   아시아학부  학부  2017   \n11          11   7          북경대학교 교환생활  중어중문학과  학부  2016   \n15          15   3               북경대학교  정치외교학과  학부  2014   \n9            9   9          북경대학교 교환학생  중어중문학과  학부  2017   \n4            4  14  북경대학교에서의 한 학기 교환생활    경영학과  학부  2018   \n\n                                             href  BERT_SCORE  RNN_SCORE  \n8   /partner/expReport.asp?id=14387&page=1&bgbn=R           1   0.775683  \n11  /partner/expReport.asp?id=13586&page=2&bgbn=R           0   0.602057  \n15   /partner/expReport.asp?id=7298&page=2&bgbn=R           1   0.659739  \n9   /partner/expReport.asp?id=14304&page=1&bgbn=R           0   0.664221  \n4   /partner/expReport.asp?id=15209&page=1&bgbn=R           1   0.697339  ",
      "text/html": "<div>\n<style scoped>\n    .dataframe tbody tr th:only-of-type {\n        vertical-align: middle;\n    }\n\n    .dataframe tbody tr th {\n        vertical-align: top;\n    }\n\n    .dataframe thead th {\n        text-align: right;\n    }\n</style>\n<table border=\"1\" class=\"dataframe\">\n  <thead>\n    <tr style=\"text-align: right;\">\n      <th></th>\n      <th>Unnamed: 0</th>\n      <th>No</th>\n      <th>제목</th>\n      <th>학과</th>\n      <th>과정</th>\n      <th>년도</th>\n      <th>href</th>\n      <th>BERT_SCORE</th>\n      <th>RNN_SCORE</th>\n    </tr>\n  </thead>\n  <tbody>\n    <tr>\n      <th>8</th>\n      <td>8</td>\n      <td>10</td>\n      <td>북경대학교 경험보고서</td>\n      <td>아시아학부</td>\n      <td>학부</td>\n      <td>2017</td>\n      <td>/partner/expReport.asp?id=14387&amp;page=1&amp;bgbn=R</td>\n      <td>1</td>\n      <td>0.775683</td>\n    </tr>\n    <tr>\n      <th>11</th>\n      <td>11</td>\n      <td>7</td>\n      <td>북경대학교 교환생활</td>\n      <td>중어중문학과</td>\n      <td>학부</td>\n      <td>2016</td>\n      <td>/partner/expReport.asp?id=13586&amp;page=2&amp;bgbn=R</td>\n      <td>0</td>\n      <td>0.602057</td>\n    </tr>\n    <tr>\n      <th>15</th>\n      <td>15</td>\n      <td>3</td>\n      <td>북경대학교</td>\n      <td>정치외교학과</td>\n      <td>학부</td>\n      <td>2014</td>\n      <td>/partner/expReport.asp?id=7298&amp;page=2&amp;bgbn=R</td>\n      <td>1</td>\n      <td>0.659739</td>\n    </tr>\n    <tr>\n      <th>9</th>\n      <td>9</td>\n      <td>9</td>\n      <td>북경대학교 교환학생</td>\n      <td>중어중문학과</td>\n      <td>학부</td>\n      <td>2017</td>\n      <td>/partner/expReport.asp?id=14304&amp;page=1&amp;bgbn=R</td>\n      <td>0</td>\n      <td>0.664221</td>\n    </tr>\n    <tr>\n      <th>4</th>\n      <td>4</td>\n      <td>14</td>\n      <td>북경대학교에서의 한 학기 교환생활</td>\n      <td>경영학과</td>\n      <td>학부</td>\n      <td>2018</td>\n      <td>/partner/expReport.asp?id=15209&amp;page=1&amp;bgbn=R</td>\n      <td>1</td>\n      <td>0.697339</td>\n    </tr>\n  </tbody>\n</table>\n</div>"
     },
     "metadata": {},
     "execution_count": 6
    }
   ],
   "source": [
    "# get sample dataset\n",
    "sample_file = abstract_yonsei_reviews[70]\n",
    "\n",
    "# extract file name\n",
    "file_name = sample_file.split(\"/\")[-1]\n",
    "file_name_without_ext = file_name.split(\".\")[0]\n",
    "print(file_name_without_ext)\n",
    "\n",
    "# extract university code\n",
    "univ_code_sample = file_name_without_ext.split(\"_\")[0]\n",
    "print(univ_code_sample)\n",
    "\n",
    "# read sample dataset\n",
    "df_abstract = pd.read_csv(sample_file, encoding=\"utf-8\")\n",
    "df_abstract.sample(5)"
   ]
  },
  {
   "cell_type": "code",
   "execution_count": 7,
   "metadata": {},
   "outputs": [
    {
     "output_type": "execute_result",
     "data": {
      "text/plain": "       대학코드                    제목        학과  과정    년도  BERT_SCORE  RNN_SCORE  \\\n0  CN000022  PKU Exchange Program  언더우드국제대학  학부  2019           0   0.515649   \n1  CN000022             베이징대 교환생활    중어중문학과  학부  2019           0   0.484792   \n2  CN000022            북경대학교 교환학생    정치외교학과  학부  2019           0   0.664221   \n3  CN000022            북경대학교 교환생활    중어중문학과  학부  2018           0   0.602057   \n4  CN000022    북경대학교에서의 한 학기 교환생활      경영학과  학부  2018           1   0.697339   \n\n                                            href  \n0  /partner/expReport.asp?id=16451&page=1&bgbn=R  \n1  /partner/expReport.asp?id=16194&page=1&bgbn=R  \n2  /partner/expReport.asp?id=15979&page=1&bgbn=R  \n3  /partner/expReport.asp?id=15513&page=1&bgbn=R  \n4  /partner/expReport.asp?id=15209&page=1&bgbn=R  ",
      "text/html": "<div>\n<style scoped>\n    .dataframe tbody tr th:only-of-type {\n        vertical-align: middle;\n    }\n\n    .dataframe tbody tr th {\n        vertical-align: top;\n    }\n\n    .dataframe thead th {\n        text-align: right;\n    }\n</style>\n<table border=\"1\" class=\"dataframe\">\n  <thead>\n    <tr style=\"text-align: right;\">\n      <th></th>\n      <th>대학코드</th>\n      <th>제목</th>\n      <th>학과</th>\n      <th>과정</th>\n      <th>년도</th>\n      <th>BERT_SCORE</th>\n      <th>RNN_SCORE</th>\n      <th>href</th>\n    </tr>\n  </thead>\n  <tbody>\n    <tr>\n      <th>0</th>\n      <td>CN000022</td>\n      <td>PKU Exchange Program</td>\n      <td>언더우드국제대학</td>\n      <td>학부</td>\n      <td>2019</td>\n      <td>0</td>\n      <td>0.515649</td>\n      <td>/partner/expReport.asp?id=16451&amp;page=1&amp;bgbn=R</td>\n    </tr>\n    <tr>\n      <th>1</th>\n      <td>CN000022</td>\n      <td>베이징대 교환생활</td>\n      <td>중어중문학과</td>\n      <td>학부</td>\n      <td>2019</td>\n      <td>0</td>\n      <td>0.484792</td>\n      <td>/partner/expReport.asp?id=16194&amp;page=1&amp;bgbn=R</td>\n    </tr>\n    <tr>\n      <th>2</th>\n      <td>CN000022</td>\n      <td>북경대학교 교환학생</td>\n      <td>정치외교학과</td>\n      <td>학부</td>\n      <td>2019</td>\n      <td>0</td>\n      <td>0.664221</td>\n      <td>/partner/expReport.asp?id=15979&amp;page=1&amp;bgbn=R</td>\n    </tr>\n    <tr>\n      <th>3</th>\n      <td>CN000022</td>\n      <td>북경대학교 교환생활</td>\n      <td>중어중문학과</td>\n      <td>학부</td>\n      <td>2018</td>\n      <td>0</td>\n      <td>0.602057</td>\n      <td>/partner/expReport.asp?id=15513&amp;page=1&amp;bgbn=R</td>\n    </tr>\n    <tr>\n      <th>4</th>\n      <td>CN000022</td>\n      <td>북경대학교에서의 한 학기 교환생활</td>\n      <td>경영학과</td>\n      <td>학부</td>\n      <td>2018</td>\n      <td>1</td>\n      <td>0.697339</td>\n      <td>/partner/expReport.asp?id=15209&amp;page=1&amp;bgbn=R</td>\n    </tr>\n  </tbody>\n</table>\n</div>"
     },
     "metadata": {},
     "execution_count": 7
    }
   ],
   "source": [
    "df_abstract_review = df_abstract[[\"제목\", \"학과\", \"과정\", \"년도\", \"BERT_SCORE\", \"RNN_SCORE\", \"href\"]]\n",
    "df_abstract_review[\"대학코드\"] = univ_code_sample\n",
    "_abstract_review = df_abstract[[\"제목\", \"학과\", \"과정\", \"년도\", \"BERT_SCORE\", \"RNN_SCORE\", \"href\"]]\n",
    "df_abstract_review[\"대학코드\"] = univ_code_sample\n",
    "df_abstract_review = df_abstract_review[[\"대학코드\",\"제목\", \"학과\", \"과정\", \"년도\", \"BERT_SCORE\", \"RNN_SCORE\", \"href\"]]\n",
    "df_abstract_review.head()"
   ]
  },
  {
   "cell_type": "code",
   "execution_count": 8,
   "metadata": {},
   "outputs": [
    {
     "output_type": "execute_result",
     "data": {
      "text/plain": "['대학코드', '제목', '학과', '과정', '년도', 'BERT_SCORE', 'RNN_SCORE', 'href']"
     },
     "metadata": {},
     "execution_count": 8
    }
   ],
   "source": [
    "df_abstract_review.columns.to_list()"
   ]
  },
  {
   "cell_type": "code",
   "execution_count": 9,
   "metadata": {},
   "outputs": [],
   "source": [
    "def make_abstract_review_df(UNIV_CODE):\n",
    "    file_path = f\"./data_sentiment/abstract/{UNIV_CODE}_review_abstract_sentiment.csv\"\n",
    "    df_abstract = pd.read_csv(file_path, encoding=\"utf-8\")\n",
    "    df_abstract_review = df_abstract[[\"제목\", \"학과\", \"과정\", \"년도\", \"BERT_SCORE\", \"RNN_SCORE\", \"href\"]]\n",
    "    df_abstract_review[\"대학코드\"] = UNIV_CODE\n",
    "    _abstract_review = df_abstract[[\"제목\", \"학과\", \"과정\", \"년도\", \"BERT_SCORE\", \"RNN_SCORE\", \"href\"]]\n",
    "    df_abstract_review[\"대학코드\"] = UNIV_CODE\n",
    "    df_abstract_review = df_abstract_review[[\"대학코드\",\"제목\", \"학과\", \"과정\", \"년도\", \"BERT_SCORE\", \"RNN_SCORE\", \"href\"]]\n",
    "    return df_abstract_review"
   ]
  },
  {
   "cell_type": "code",
   "execution_count": 10,
   "metadata": {},
   "outputs": [
    {
     "output_type": "execute_result",
     "data": {
      "text/plain": "       대학코드                            제목        학과  과정         년도  \\\n0  DK000003                       1년의 휘게!      건축학과  학부  2018-2019   \n1  DK000003                     1년의 Hygge      국제학과  학부       2019   \n2  DK000003         코펜하겐 대학교에서의 한 학기! 최고!      경제학과  학부       2019   \n3  DK000003              인생에서 가장 행복했던 1년!      심리학과  학부       2019   \n4  DK000003  코펜하겐대학교 교환 가세요ㅠㅠㅠㅠ 고민하지 마세요!  언론홍보영상학부  학부       2019   \n\n   BERT_SCORE  RNN_SCORE                                           href  \n0           1   0.414879  /partner/expReport.asp?id=16597&page=1&bgbn=R  \n1           1   0.523097  /partner/expReport.asp?id=16079&page=1&bgbn=R  \n2           1   0.931257  /partner/expReport.asp?id=16028&page=1&bgbn=R  \n3           1   0.967065  /partner/expReport.asp?id=15938&page=1&bgbn=R  \n4           0   0.651389  /partner/expReport.asp?id=15829&page=1&bgbn=R  ",
      "text/html": "<div>\n<style scoped>\n    .dataframe tbody tr th:only-of-type {\n        vertical-align: middle;\n    }\n\n    .dataframe tbody tr th {\n        vertical-align: top;\n    }\n\n    .dataframe thead th {\n        text-align: right;\n    }\n</style>\n<table border=\"1\" class=\"dataframe\">\n  <thead>\n    <tr style=\"text-align: right;\">\n      <th></th>\n      <th>대학코드</th>\n      <th>제목</th>\n      <th>학과</th>\n      <th>과정</th>\n      <th>년도</th>\n      <th>BERT_SCORE</th>\n      <th>RNN_SCORE</th>\n      <th>href</th>\n    </tr>\n  </thead>\n  <tbody>\n    <tr>\n      <th>0</th>\n      <td>DK000003</td>\n      <td>1년의 휘게!</td>\n      <td>건축학과</td>\n      <td>학부</td>\n      <td>2018-2019</td>\n      <td>1</td>\n      <td>0.414879</td>\n      <td>/partner/expReport.asp?id=16597&amp;page=1&amp;bgbn=R</td>\n    </tr>\n    <tr>\n      <th>1</th>\n      <td>DK000003</td>\n      <td>1년의 Hygge</td>\n      <td>국제학과</td>\n      <td>학부</td>\n      <td>2019</td>\n      <td>1</td>\n      <td>0.523097</td>\n      <td>/partner/expReport.asp?id=16079&amp;page=1&amp;bgbn=R</td>\n    </tr>\n    <tr>\n      <th>2</th>\n      <td>DK000003</td>\n      <td>코펜하겐 대학교에서의 한 학기! 최고!</td>\n      <td>경제학과</td>\n      <td>학부</td>\n      <td>2019</td>\n      <td>1</td>\n      <td>0.931257</td>\n      <td>/partner/expReport.asp?id=16028&amp;page=1&amp;bgbn=R</td>\n    </tr>\n    <tr>\n      <th>3</th>\n      <td>DK000003</td>\n      <td>인생에서 가장 행복했던 1년!</td>\n      <td>심리학과</td>\n      <td>학부</td>\n      <td>2019</td>\n      <td>1</td>\n      <td>0.967065</td>\n      <td>/partner/expReport.asp?id=15938&amp;page=1&amp;bgbn=R</td>\n    </tr>\n    <tr>\n      <th>4</th>\n      <td>DK000003</td>\n      <td>코펜하겐대학교 교환 가세요ㅠㅠㅠㅠ 고민하지 마세요!</td>\n      <td>언론홍보영상학부</td>\n      <td>학부</td>\n      <td>2019</td>\n      <td>0</td>\n      <td>0.651389</td>\n      <td>/partner/expReport.asp?id=15829&amp;page=1&amp;bgbn=R</td>\n    </tr>\n  </tbody>\n</table>\n</div>"
     },
     "metadata": {},
     "execution_count": 10
    }
   ],
   "source": [
    "df1 = make_abstract_review_df(\"DK000003\")\n",
    "df1.head()"
   ]
  },
  {
   "cell_type": "code",
   "execution_count": 11,
   "metadata": {},
   "outputs": [
    {
     "output_type": "execute_result",
     "data": {
      "text/plain": "       대학코드             제목        학과  과정    년도  BERT_SCORE  RNN_SCORE  \\\n0  CN000016           홍콩대,       UIC  학부  2018           0   0.523097   \n1  CN000016       홍콩대 교환학생  언더우드국제학부  학부  2019           0   0.523097   \n2  CN000016  홍콩대학교에서의 한 학기    응용통계학과  학부  2019           1   0.744596   \n3  CN000016    홍콩대학교 교환 후기    언더우드학과  학부  2019           0   0.640901   \n4  CN000016   홍콩대학교에서의 한학기    불어불문학과  학부  2019           1   0.744596   \n\n                                            href  \n0  /partner/expReport.asp?id=16495&page=1&bgbn=R  \n1  /partner/expReport.asp?id=16326&page=1&bgbn=R  \n2  /partner/expReport.asp?id=15804&page=1&bgbn=R  \n3  /partner/expReport.asp?id=15751&page=1&bgbn=R  \n4  /partner/expReport.asp?id=15710&page=1&bgbn=R  ",
      "text/html": "<div>\n<style scoped>\n    .dataframe tbody tr th:only-of-type {\n        vertical-align: middle;\n    }\n\n    .dataframe tbody tr th {\n        vertical-align: top;\n    }\n\n    .dataframe thead th {\n        text-align: right;\n    }\n</style>\n<table border=\"1\" class=\"dataframe\">\n  <thead>\n    <tr style=\"text-align: right;\">\n      <th></th>\n      <th>대학코드</th>\n      <th>제목</th>\n      <th>학과</th>\n      <th>과정</th>\n      <th>년도</th>\n      <th>BERT_SCORE</th>\n      <th>RNN_SCORE</th>\n      <th>href</th>\n    </tr>\n  </thead>\n  <tbody>\n    <tr>\n      <th>0</th>\n      <td>CN000016</td>\n      <td>홍콩대,</td>\n      <td>UIC</td>\n      <td>학부</td>\n      <td>2018</td>\n      <td>0</td>\n      <td>0.523097</td>\n      <td>/partner/expReport.asp?id=16495&amp;page=1&amp;bgbn=R</td>\n    </tr>\n    <tr>\n      <th>1</th>\n      <td>CN000016</td>\n      <td>홍콩대 교환학생</td>\n      <td>언더우드국제학부</td>\n      <td>학부</td>\n      <td>2019</td>\n      <td>0</td>\n      <td>0.523097</td>\n      <td>/partner/expReport.asp?id=16326&amp;page=1&amp;bgbn=R</td>\n    </tr>\n    <tr>\n      <th>2</th>\n      <td>CN000016</td>\n      <td>홍콩대학교에서의 한 학기</td>\n      <td>응용통계학과</td>\n      <td>학부</td>\n      <td>2019</td>\n      <td>1</td>\n      <td>0.744596</td>\n      <td>/partner/expReport.asp?id=15804&amp;page=1&amp;bgbn=R</td>\n    </tr>\n    <tr>\n      <th>3</th>\n      <td>CN000016</td>\n      <td>홍콩대학교 교환 후기</td>\n      <td>언더우드학과</td>\n      <td>학부</td>\n      <td>2019</td>\n      <td>0</td>\n      <td>0.640901</td>\n      <td>/partner/expReport.asp?id=15751&amp;page=1&amp;bgbn=R</td>\n    </tr>\n    <tr>\n      <th>4</th>\n      <td>CN000016</td>\n      <td>홍콩대학교에서의 한학기</td>\n      <td>불어불문학과</td>\n      <td>학부</td>\n      <td>2019</td>\n      <td>1</td>\n      <td>0.744596</td>\n      <td>/partner/expReport.asp?id=15710&amp;page=1&amp;bgbn=R</td>\n    </tr>\n  </tbody>\n</table>\n</div>"
     },
     "metadata": {},
     "execution_count": 11
    }
   ],
   "source": [
    "df2 = make_abstract_review_df(\"CN000016\")\n",
    "df2.head()"
   ]
  },
  {
   "cell_type": "code",
   "execution_count": 12,
   "metadata": {},
   "outputs": [
    {
     "output_type": "execute_result",
     "data": {
      "text/plain": "        대학코드                                             제목  \\\n60  DK000003                 university of copenhagen - 전옥희   \n10  CN000016                         나의 리틀 포레스트, 홍콩에서의 교환생활   \n30  DK000003                               고생한만큼 즐거웠던 코펜하겐!   \n29  CN000016  A World-Class University in Asia's World City   \n38  DK000003                        코펜하겐, 언제가는 꼭 돌아가고 싶은 그곳   \n\n                                 학과  과정         년도  BERT_SCORE  RNN_SCORE  \\\n60                             의공학부  학부  2006-2007           1   0.631811   \n10                         아시아/정치외교  학부       2018           0   0.725982   \n30                           신문방송학과  학부       2011           1   0.920942   \n29  Underwood International College  학부  2014-2015           1   0.524887   \n38                         언더우드국제대학  학부  2010-2011           1   0.894196   \n\n                                             href  \n60   /partner/expReport.asp?id=2616&page=7&bgbn=R  \n10  /partner/expReport.asp?id=14731&page=2&bgbn=R  \n30   /partner/expReport.asp?id=6650&page=4&bgbn=R  \n29  /partner/expReport.asp?id=12238&page=3&bgbn=R  \n38   /partner/expReport.asp?id=5203&page=4&bgbn=R  ",
      "text/html": "<div>\n<style scoped>\n    .dataframe tbody tr th:only-of-type {\n        vertical-align: middle;\n    }\n\n    .dataframe tbody tr th {\n        vertical-align: top;\n    }\n\n    .dataframe thead th {\n        text-align: right;\n    }\n</style>\n<table border=\"1\" class=\"dataframe\">\n  <thead>\n    <tr style=\"text-align: right;\">\n      <th></th>\n      <th>대학코드</th>\n      <th>제목</th>\n      <th>학과</th>\n      <th>과정</th>\n      <th>년도</th>\n      <th>BERT_SCORE</th>\n      <th>RNN_SCORE</th>\n      <th>href</th>\n    </tr>\n  </thead>\n  <tbody>\n    <tr>\n      <th>60</th>\n      <td>DK000003</td>\n      <td>university of copenhagen - 전옥희</td>\n      <td>의공학부</td>\n      <td>학부</td>\n      <td>2006-2007</td>\n      <td>1</td>\n      <td>0.631811</td>\n      <td>/partner/expReport.asp?id=2616&amp;page=7&amp;bgbn=R</td>\n    </tr>\n    <tr>\n      <th>10</th>\n      <td>CN000016</td>\n      <td>나의 리틀 포레스트, 홍콩에서의 교환생활</td>\n      <td>아시아/정치외교</td>\n      <td>학부</td>\n      <td>2018</td>\n      <td>0</td>\n      <td>0.725982</td>\n      <td>/partner/expReport.asp?id=14731&amp;page=2&amp;bgbn=R</td>\n    </tr>\n    <tr>\n      <th>30</th>\n      <td>DK000003</td>\n      <td>고생한만큼 즐거웠던 코펜하겐!</td>\n      <td>신문방송학과</td>\n      <td>학부</td>\n      <td>2011</td>\n      <td>1</td>\n      <td>0.920942</td>\n      <td>/partner/expReport.asp?id=6650&amp;page=4&amp;bgbn=R</td>\n    </tr>\n    <tr>\n      <th>29</th>\n      <td>CN000016</td>\n      <td>A World-Class University in Asia's World City</td>\n      <td>Underwood International College</td>\n      <td>학부</td>\n      <td>2014-2015</td>\n      <td>1</td>\n      <td>0.524887</td>\n      <td>/partner/expReport.asp?id=12238&amp;page=3&amp;bgbn=R</td>\n    </tr>\n    <tr>\n      <th>38</th>\n      <td>DK000003</td>\n      <td>코펜하겐, 언제가는 꼭 돌아가고 싶은 그곳</td>\n      <td>언더우드국제대학</td>\n      <td>학부</td>\n      <td>2010-2011</td>\n      <td>1</td>\n      <td>0.894196</td>\n      <td>/partner/expReport.asp?id=5203&amp;page=4&amp;bgbn=R</td>\n    </tr>\n  </tbody>\n</table>\n</div>"
     },
     "metadata": {},
     "execution_count": 12
    }
   ],
   "source": [
    "df_concat = pd.concat([df1,df2])\n",
    "df_concat.sample(5)"
   ]
  },
  {
   "cell_type": "code",
   "execution_count": 13,
   "metadata": {
    "tags": []
   },
   "outputs": [
    {
     "output_type": "stream",
     "name": "stdout",
     "text": "470\n"
    },
    {
     "output_type": "execute_result",
     "data": {
      "text/plain": "[       대학코드                제목               학과  과정    년도  BERT_SCORE  \\\n 0  730       리투아니아에서 행복했던 4개월  사회복지학과/언론홍보영상학부  학부  2019           1   \n \n    RNN_SCORE                                           href  \n 0   0.752021  /partner/expReport.asp?id=16663&page=1&bgbn=R  ,\n        대학코드                    제목    학과  과정      년도  BERT_SCORE  RNN_SCORE  \\\n 0  AR000004  아르헨티나 교환학생(어학연수프로그램)  건축학과  학부  2013-1           0    0.39967   \n \n                                            href  \n 0  /partner/expReport.asp?id=6947&page=1&bgbn=R  ,\n         대학코드                                        제목        학과  과정  \\\n 0   AT000001                       쿠프슈타인에서 노후 50년 땡겨쓰기      경영학과  학부   \n 1   AT000001                           평화로운 쿠프에서의 한 학기        경제  학부   \n 2   AT000001                   소중한 경험, 잊지 못할 기억, 쿠프슈타인   언론홍보영상학  학부   \n 3   AT000001                        언제나 마음속의 고향인 쿠프슈타인    중어중문학과  학부   \n 4   AT000001                    자연이 아름다운 쿠프슈타인에서의 한 학기    정치외교학과  학부   \n 5   AT000001                       여유로웠던 쿠프슈타인에서의 한 학기      행정학과  학부   \n 6   AT000001                             쿠프슈타인에서의 한 학기      경제학부  학부   \n 7   AT000001                     여유롭고 소중했던 쿠프슈타인에서의 시간      경제학부  학부   \n 8   AT000001                            마냥 아름다웠던 쿠프슈타인  언론홍보영상학부  학부   \n 9   AT000001      교환생활이 벌써 끝났다는게 믿기지 않아요. 다시 돌아가고 싶네요.    정치외교학과  학부   \n 10  AT000001                                유럽에서의 한 학기      경제학과  학부   \n 11  AT000001               한 여름밤의 꿈 같았던, 오스트리아에서의 한 학기      경제학부  학부   \n 12  AT000001                                 여유로웠던 한학기      경제학과  학부   \n 13  AT000001                              언제나 아련한 교환생활     응용통계학  학부   \n 14  AT000001                    포근한 추억이 된 쿠프슈타인에서의 한학기      경영학과  학부   \n 15  AT000001                             Kufstein에서의 삶      경영학과  학부   \n 16  AT000001                   대학생활 중 최고의 선택이었던 쿠프슈타인!    영어영문학과  학부   \n 17  AT000001           대학 생활 중 최고의 선택이었던 쿠프슈타인에서의 한 학기      경제학과  학부   \n 18  AT000001                            쿠프에서의 즐거웠던 5개월      경영학과  학부   \n 19  AT000001                특별한 모멘텀이 되어줬던 쿠프슈타인에서의 6개월      경제학과  학부   \n 20  AT000001                              쿠프슈타인에서의 한학기      정치외교  학부   \n 21  AT000001                                 쿠프에서의 한학기      경영학과  학부   \n 22  AT000001                            너무나 행복했던 쿠프슈타인      행정학과  학부   \n 23  AT000001                           쿠프슈타인에서의 느긋한 한때      행정학과  학부   \n 24  AT000001                     최고의 경험. 쿠프슈타인에서의 한학기.      경제학과  학부   \n 25  AT000001                     자연이 아름다운 쿠프슈타인에서의 한학기      경영학과  학부   \n 26  AT000001                            노을이 아름다운 그 곳..    사회복지학과  학부   \n 27  AT000001                   그리울 수 밖에 없는 곳, Kufstein      심리학과  학부   \n 28  AT000001               삶의 활력소가 되어준 Kufstein에서의 한학기      경영학과  학부   \n 29  AT000001                             kufstein에서의1년      경영학과  학부   \n 30  AT000001                       알프스의 향기가 있는 아름다운 곳.      경영학과  학부   \n 31  AT000001                           2009년 겨울의 쿠프슈타인      경영대학  학부   \n 32  AT000001                          알프스에서의 꿈같던 유럽생활~      경영학과  학부   \n 33  AT000001             평생 잊을 수 없는 추억을 만든 곳, Kufstein      경영학과  학부   \n 34  AT000001                           마음의 고향 Kufstein      경제학과  학부   \n 35  AT000001                  잊지못할 Kufstein에서의 교환학생 경험      경영학과  학부   \n 36  AT000001          평생 안고 갈 추억들을 쌓아 준 Kufstein에서의 1년      경영학과  학부   \n 37  AT000001                         FHS Kustein에서의 겨울      경영학과  학부   \n 38  AT000001               Keiser 산맥 으로 둘러 쌓인 Kufstein      경영학과  학부   \n 39  AT000001  Life in kufstein, Tirol, Austria, Europe      경영학과  학부   \n \n            년도  BERT_SCORE  RNN_SCORE  \\\n 0   2017-2018           0   0.416185   \n 1   2017ㅡ2018           1   0.816743   \n 2        2017           1   0.854657   \n 3        2017           1   0.834800   \n 4        2017           1   0.870668   \n 5        2017           1   0.816663   \n 6        2016           1   0.731432   \n 7        2016           1   0.852968   \n 8        2016           1   0.892930   \n 9        2016           1   0.946470   \n 10       2015           1   0.674954   \n 11       2016           1   0.804807   \n 12       2015           1   0.742174   \n 13       2014           1   0.904622   \n 14       2015           1   0.886201   \n 15       2014           1   0.871341   \n 16       2014           1   0.945168   \n 17       2014           1   0.936024   \n 18       2014           1   0.862567   \n 19  2013-2014           1   0.841384   \n 20  2013-2014           1   0.731432   \n 21       2013           1   0.731432   \n 22       2013           1   0.959038   \n 23       2012           1   0.575551   \n 24       2012           1   0.949966   \n 25  2011-2012           1   0.870668   \n 26       2011           1   0.926623   \n 27       2011           1   0.810447   \n 28  2010-2011           1   0.922544   \n 29       2010           0   0.731432   \n 30       2010           1   0.918543   \n 31       2009           1   0.684230   \n 32       2009           1   0.761829   \n 33       2008           1   0.970384   \n 34       2008           1   0.647233   \n 35       2006           0   0.910061   \n 36  2005-2006           1   0.718975   \n 37       2006           1   0.730913   \n 38  2005-2006           0   0.273242   \n 39       2006           1   0.521203   \n \n                                              href  \n 0   /partner/expReport.asp?id=15098&page=1&bgbn=R  \n 1   /partner/expReport.asp?id=14709&page=1&bgbn=R  \n 2   /partner/expReport.asp?id=14264&page=1&bgbn=R  \n 3   /partner/expReport.asp?id=14181&page=1&bgbn=R  \n 4   /partner/expReport.asp?id=14102&page=1&bgbn=R  \n 5   /partner/expReport.asp?id=14094&page=1&bgbn=R  \n 6   /partner/expReport.asp?id=13866&page=1&bgbn=R  \n 7   /partner/expReport.asp?id=13822&page=1&bgbn=R  \n 8   /partner/expReport.asp?id=13366&page=1&bgbn=R  \n 9   /partner/expReport.asp?id=13270&page=1&bgbn=R  \n 10  /partner/expReport.asp?id=13188&page=2&bgbn=R  \n 11  /partner/expReport.asp?id=13130&page=2&bgbn=R  \n 12  /partner/expReport.asp?id=12755&page=2&bgbn=R  \n 13  /partner/expReport.asp?id=12367&page=2&bgbn=R  \n 14  /partner/expReport.asp?id=12331&page=2&bgbn=R  \n 15  /partner/expReport.asp?id=10776&page=2&bgbn=R  \n 16  /partner/expReport.asp?id=10680&page=2&bgbn=R  \n 17   /partner/expReport.asp?id=7452&page=2&bgbn=R  \n 18   /partner/expReport.asp?id=7391&page=2&bgbn=R  \n 19   /partner/expReport.asp?id=6991&page=2&bgbn=R  \n 20   /partner/expReport.asp?id=6942&page=3&bgbn=R  \n 21   /partner/expReport.asp?id=6939&page=3&bgbn=R  \n 22   /partner/expReport.asp?id=6680&page=3&bgbn=R  \n 23   /partner/expReport.asp?id=6274&page=3&bgbn=R  \n 24   /partner/expReport.asp?id=6153&page=3&bgbn=R  \n 25   /partner/expReport.asp?id=5645&page=3&bgbn=R  \n 26   /partner/expReport.asp?id=5204&page=3&bgbn=R  \n 27   /partner/expReport.asp?id=5125&page=3&bgbn=R  \n 28   /partner/expReport.asp?id=4787&page=3&bgbn=R  \n 29   /partner/expReport.asp?id=4704&page=3&bgbn=R  \n 30   /partner/expReport.asp?id=4480&page=4&bgbn=R  \n 31   /partner/expReport.asp?id=4479&page=4&bgbn=R  \n 32   /partner/expReport.asp?id=4285&page=4&bgbn=R  \n 33   /partner/expReport.asp?id=3683&page=4&bgbn=R  \n 34   /partner/expReport.asp?id=3424&page=4&bgbn=R  \n 35   /partner/expReport.asp?id=2811&page=4&bgbn=R  \n 36   /partner/expReport.asp?id=2401&page=4&bgbn=R  \n 37   /partner/expReport.asp?id=2344&page=4&bgbn=R  \n 38   /partner/expReport.asp?id=2284&page=4&bgbn=R  \n 39   /partner/expReport.asp?id=2168&page=4&bgbn=R  ]"
     },
     "metadata": {},
     "execution_count": 13
    }
   ],
   "source": [
    "# listing up dataframes to concat\n",
    "list_df = []\n",
    "for csv_file in abstract_yonsei_reviews:\n",
    "    # extract file name\n",
    "    file_name = csv_file.split(\"/\")[-1]\n",
    "    file_name_without_ext = file_name.split(\".\")[0]\n",
    "\n",
    "    # extract university code\n",
    "    univ_code = file_name_without_ext.split(\"_\")[0]\n",
    "\n",
    "    df_temp = make_abstract_review_df(univ_code)\n",
    "    list_df.append(df_temp)\n",
    "\n",
    "print(len(list_df))\n",
    "list_df[:3]"
   ]
  },
  {
   "cell_type": "code",
   "execution_count": 14,
   "metadata": {
    "tags": []
   },
   "outputs": [
    {
     "output_type": "stream",
     "name": "stdout",
     "text": "11183\n"
    },
    {
     "output_type": "execute_result",
     "data": {
      "text/plain": "       대학코드                       제목               학과  과정         년도  \\\n0  730              리투아니아에서 행복했던 4개월  사회복지학과/언론홍보영상학부  학부       2019   \n0  AR000004     아르헨티나 교환학생(어학연수프로그램)             건축학과  학부     2013-1   \n0  AT000001      쿠프슈타인에서 노후 50년 땡겨쓰기             경영학과  학부  2017-2018   \n1  AT000001          평화로운 쿠프에서의 한 학기               경제  학부  2017ㅡ2018   \n2  AT000001  소중한 경험, 잊지 못할 기억, 쿠프슈타인          언론홍보영상학  학부       2017   \n3  AT000001       언제나 마음속의 고향인 쿠프슈타인           중어중문학과  학부       2017   \n4  AT000001   자연이 아름다운 쿠프슈타인에서의 한 학기           정치외교학과  학부       2017   \n5  AT000001      여유로웠던 쿠프슈타인에서의 한 학기             행정학과  학부       2017   \n6  AT000001            쿠프슈타인에서의 한 학기             경제학부  학부       2016   \n7  AT000001    여유롭고 소중했던 쿠프슈타인에서의 시간             경제학부  학부       2016   \n\n   BERT_SCORE  RNN_SCORE                                           href  \n0           1   0.752021  /partner/expReport.asp?id=16663&page=1&bgbn=R  \n0           0   0.399670   /partner/expReport.asp?id=6947&page=1&bgbn=R  \n0           0   0.416185  /partner/expReport.asp?id=15098&page=1&bgbn=R  \n1           1   0.816743  /partner/expReport.asp?id=14709&page=1&bgbn=R  \n2           1   0.854657  /partner/expReport.asp?id=14264&page=1&bgbn=R  \n3           1   0.834800  /partner/expReport.asp?id=14181&page=1&bgbn=R  \n4           1   0.870668  /partner/expReport.asp?id=14102&page=1&bgbn=R  \n5           1   0.816663  /partner/expReport.asp?id=14094&page=1&bgbn=R  \n6           1   0.731432  /partner/expReport.asp?id=13866&page=1&bgbn=R  \n7           1   0.852968  /partner/expReport.asp?id=13822&page=1&bgbn=R  ",
      "text/html": "<div>\n<style scoped>\n    .dataframe tbody tr th:only-of-type {\n        vertical-align: middle;\n    }\n\n    .dataframe tbody tr th {\n        vertical-align: top;\n    }\n\n    .dataframe thead th {\n        text-align: right;\n    }\n</style>\n<table border=\"1\" class=\"dataframe\">\n  <thead>\n    <tr style=\"text-align: right;\">\n      <th></th>\n      <th>대학코드</th>\n      <th>제목</th>\n      <th>학과</th>\n      <th>과정</th>\n      <th>년도</th>\n      <th>BERT_SCORE</th>\n      <th>RNN_SCORE</th>\n      <th>href</th>\n    </tr>\n  </thead>\n  <tbody>\n    <tr>\n      <th>0</th>\n      <td>730</td>\n      <td>리투아니아에서 행복했던 4개월</td>\n      <td>사회복지학과/언론홍보영상학부</td>\n      <td>학부</td>\n      <td>2019</td>\n      <td>1</td>\n      <td>0.752021</td>\n      <td>/partner/expReport.asp?id=16663&amp;page=1&amp;bgbn=R</td>\n    </tr>\n    <tr>\n      <th>0</th>\n      <td>AR000004</td>\n      <td>아르헨티나 교환학생(어학연수프로그램)</td>\n      <td>건축학과</td>\n      <td>학부</td>\n      <td>2013-1</td>\n      <td>0</td>\n      <td>0.399670</td>\n      <td>/partner/expReport.asp?id=6947&amp;page=1&amp;bgbn=R</td>\n    </tr>\n    <tr>\n      <th>0</th>\n      <td>AT000001</td>\n      <td>쿠프슈타인에서 노후 50년 땡겨쓰기</td>\n      <td>경영학과</td>\n      <td>학부</td>\n      <td>2017-2018</td>\n      <td>0</td>\n      <td>0.416185</td>\n      <td>/partner/expReport.asp?id=15098&amp;page=1&amp;bgbn=R</td>\n    </tr>\n    <tr>\n      <th>1</th>\n      <td>AT000001</td>\n      <td>평화로운 쿠프에서의 한 학기</td>\n      <td>경제</td>\n      <td>학부</td>\n      <td>2017ㅡ2018</td>\n      <td>1</td>\n      <td>0.816743</td>\n      <td>/partner/expReport.asp?id=14709&amp;page=1&amp;bgbn=R</td>\n    </tr>\n    <tr>\n      <th>2</th>\n      <td>AT000001</td>\n      <td>소중한 경험, 잊지 못할 기억, 쿠프슈타인</td>\n      <td>언론홍보영상학</td>\n      <td>학부</td>\n      <td>2017</td>\n      <td>1</td>\n      <td>0.854657</td>\n      <td>/partner/expReport.asp?id=14264&amp;page=1&amp;bgbn=R</td>\n    </tr>\n    <tr>\n      <th>3</th>\n      <td>AT000001</td>\n      <td>언제나 마음속의 고향인 쿠프슈타인</td>\n      <td>중어중문학과</td>\n      <td>학부</td>\n      <td>2017</td>\n      <td>1</td>\n      <td>0.834800</td>\n      <td>/partner/expReport.asp?id=14181&amp;page=1&amp;bgbn=R</td>\n    </tr>\n    <tr>\n      <th>4</th>\n      <td>AT000001</td>\n      <td>자연이 아름다운 쿠프슈타인에서의 한 학기</td>\n      <td>정치외교학과</td>\n      <td>학부</td>\n      <td>2017</td>\n      <td>1</td>\n      <td>0.870668</td>\n      <td>/partner/expReport.asp?id=14102&amp;page=1&amp;bgbn=R</td>\n    </tr>\n    <tr>\n      <th>5</th>\n      <td>AT000001</td>\n      <td>여유로웠던 쿠프슈타인에서의 한 학기</td>\n      <td>행정학과</td>\n      <td>학부</td>\n      <td>2017</td>\n      <td>1</td>\n      <td>0.816663</td>\n      <td>/partner/expReport.asp?id=14094&amp;page=1&amp;bgbn=R</td>\n    </tr>\n    <tr>\n      <th>6</th>\n      <td>AT000001</td>\n      <td>쿠프슈타인에서의 한 학기</td>\n      <td>경제학부</td>\n      <td>학부</td>\n      <td>2016</td>\n      <td>1</td>\n      <td>0.731432</td>\n      <td>/partner/expReport.asp?id=13866&amp;page=1&amp;bgbn=R</td>\n    </tr>\n    <tr>\n      <th>7</th>\n      <td>AT000001</td>\n      <td>여유롭고 소중했던 쿠프슈타인에서의 시간</td>\n      <td>경제학부</td>\n      <td>학부</td>\n      <td>2016</td>\n      <td>1</td>\n      <td>0.852968</td>\n      <td>/partner/expReport.asp?id=13822&amp;page=1&amp;bgbn=R</td>\n    </tr>\n  </tbody>\n</table>\n</div>"
     },
     "metadata": {},
     "execution_count": 14
    }
   ],
   "source": [
    "# concat dataframe\n",
    "df_abstract_wrangle = pd.concat(list_df)\n",
    "print(len(df_abstract_wrangle.index))\n",
    "df_abstract_wrangle.head(10)"
   ]
  },
  {
   "cell_type": "code",
   "execution_count": 15,
   "metadata": {
    "tags": []
   },
   "outputs": [
    {
     "output_type": "stream",
     "name": "stdout",
     "text": "11183\n"
    }
   ],
   "source": [
    "# check for duplicate rows\n",
    "df_abstract_wrangle = df_abstract_wrangle.drop_duplicates()\n",
    "print(len(df_abstract_wrangle.index))"
   ]
  },
  {
   "cell_type": "code",
   "execution_count": 16,
   "metadata": {},
   "outputs": [],
   "source": [
    "# export wrangled df abstract concat dataframe\n",
    "df_abstract_wrangle.to_csv(\"./data_wrangled/df_abstract_wrangle.csv\",encoding=\"utf-8\", index=False)"
   ]
  },
  {
   "cell_type": "markdown",
   "metadata": {},
   "source": [
    "## Wrangle University Dataframe"
   ]
  },
  {
   "cell_type": "code",
   "execution_count": 17,
   "metadata": {},
   "outputs": [],
   "source": [
    "def yield_BERT_SUM(UNIV_CODE):\n",
    "    file_path = f\"./data_sentiment/abstract/{UNIV_CODE}_review_abstract_sentiment.csv\"\n",
    "    dataframe_input = pd.read_csv(file_path, encoding=\"utf-8\")\n",
    "    bert_sum = dataframe_input[\"BERT_SCORE\"].sum()\n",
    "    return bert_sum"
   ]
  },
  {
   "cell_type": "code",
   "execution_count": 18,
   "metadata": {},
   "outputs": [],
   "source": [
    "def yield_RNN_SUM(UNIV_CODE):\n",
    "    file_path = f\"./data_sentiment/abstract/{UNIV_CODE}_review_abstract_sentiment.csv\"\n",
    "    dataframe_input = pd.read_csv(file_path, encoding=\"utf-8\")\n",
    "    rnn_sum = dataframe_input[\"RNN_SCORE\"].sum()\n",
    "    return rnn_sum"
   ]
  },
  {
   "cell_type": "code",
   "execution_count": 19,
   "metadata": {},
   "outputs": [],
   "source": [
    "def yield_no_of_students(UNIV_CODE):\n",
    "    dataframe_input = make_abstract_review_df(UNIV_CODE)\n",
    "    no_of_students = len(dataframe_input.index)\n",
    "    return no_of_students"
   ]
  },
  {
   "cell_type": "code",
   "execution_count": 20,
   "metadata": {
    "tags": []
   },
   "outputs": [
    {
     "output_type": "stream",
     "name": "stdout",
     "text": "65\n49.14911192655563\n"
    }
   ],
   "source": [
    "# University of Copenhagen Satisfaction Level\n",
    "print(yield_BERT_SUM(\"DK000003\"))\n",
    "print(yield_RNN_SUM(\"DK000003\"))"
   ]
  },
  {
   "cell_type": "code",
   "execution_count": 21,
   "metadata": {
    "tags": []
   },
   "outputs": [
    {
     "output_type": "stream",
     "name": "stdout",
     "text": "41\n43.059615552425385\n"
    }
   ],
   "source": [
    "# University of Hongkong Satisfaction Level\n",
    "print(yield_BERT_SUM(\"CN000016\"))\n",
    "print(yield_RNN_SUM(\"CN000016\"))"
   ]
  },
  {
   "cell_type": "code",
   "execution_count": 22,
   "metadata": {},
   "outputs": [
    {
     "output_type": "execute_result",
     "data": {
      "text/plain": "     level_0  index  No                          대학명             국가  파견구분  \\\n483      483     47  48                   CSU Fresno  UNITED STATES  교환학생   \n220      220      4   5            Luiss Guido Carli          ITALY  교환학생   \n494      494     58  59        CUNY - Baruch College  UNITED STATES  교환학생   \n143      143     19  20  Universite de Franche-Comte         FRANCE  교환학생   \n474      474     38  39    Columbus State University  UNITED STATES  교환학생   \n\n     협정형태                                          href visitation  \n483  교환대학  /partner/expReport.asp?ucode=US000026&bgbn=A     Exists  \n220  교환대학  /partner/expReport.asp?ucode=IT000008&bgbn=A     Exists  \n494  교환대학  /partner/expReport.asp?ucode=US000046&bgbn=A     Exists  \n143  ISEP  /partner/expReport.asp?ucode=FR000014&bgbn=A     Exists  \n474  ISEP  /partner/expReport.asp?ucode=US000054&bgbn=A       None  ",
      "text/html": "<div>\n<style scoped>\n    .dataframe tbody tr th:only-of-type {\n        vertical-align: middle;\n    }\n\n    .dataframe tbody tr th {\n        vertical-align: top;\n    }\n\n    .dataframe thead th {\n        text-align: right;\n    }\n</style>\n<table border=\"1\" class=\"dataframe\">\n  <thead>\n    <tr style=\"text-align: right;\">\n      <th></th>\n      <th>level_0</th>\n      <th>index</th>\n      <th>No</th>\n      <th>대학명</th>\n      <th>국가</th>\n      <th>파견구분</th>\n      <th>협정형태</th>\n      <th>href</th>\n      <th>visitation</th>\n    </tr>\n  </thead>\n  <tbody>\n    <tr>\n      <th>483</th>\n      <td>483</td>\n      <td>47</td>\n      <td>48</td>\n      <td>CSU Fresno</td>\n      <td>UNITED STATES</td>\n      <td>교환학생</td>\n      <td>교환대학</td>\n      <td>/partner/expReport.asp?ucode=US000026&amp;bgbn=A</td>\n      <td>Exists</td>\n    </tr>\n    <tr>\n      <th>220</th>\n      <td>220</td>\n      <td>4</td>\n      <td>5</td>\n      <td>Luiss Guido Carli</td>\n      <td>ITALY</td>\n      <td>교환학생</td>\n      <td>교환대학</td>\n      <td>/partner/expReport.asp?ucode=IT000008&amp;bgbn=A</td>\n      <td>Exists</td>\n    </tr>\n    <tr>\n      <th>494</th>\n      <td>494</td>\n      <td>58</td>\n      <td>59</td>\n      <td>CUNY - Baruch College</td>\n      <td>UNITED STATES</td>\n      <td>교환학생</td>\n      <td>교환대학</td>\n      <td>/partner/expReport.asp?ucode=US000046&amp;bgbn=A</td>\n      <td>Exists</td>\n    </tr>\n    <tr>\n      <th>143</th>\n      <td>143</td>\n      <td>19</td>\n      <td>20</td>\n      <td>Universite de Franche-Comte</td>\n      <td>FRANCE</td>\n      <td>교환학생</td>\n      <td>ISEP</td>\n      <td>/partner/expReport.asp?ucode=FR000014&amp;bgbn=A</td>\n      <td>Exists</td>\n    </tr>\n    <tr>\n      <th>474</th>\n      <td>474</td>\n      <td>38</td>\n      <td>39</td>\n      <td>Columbus State University</td>\n      <td>UNITED STATES</td>\n      <td>교환학생</td>\n      <td>ISEP</td>\n      <td>/partner/expReport.asp?ucode=US000054&amp;bgbn=A</td>\n      <td>None</td>\n    </tr>\n  </tbody>\n</table>\n</div>"
     },
     "metadata": {},
     "execution_count": 22
    }
   ],
   "source": [
    "# read university dataframe\n",
    "df_univ = pd.read_csv(\"./data/univ_db_full.csv\", encoding=\"utf-8\")\n",
    "df_univ.sample(5)"
   ]
  },
  {
   "cell_type": "code",
   "execution_count": 23,
   "metadata": {},
   "outputs": [
    {
     "output_type": "execute_result",
     "data": {
      "text/plain": "   level_0  index  No                              대학명           국가  파견구분  \\\n0        0      0   1                 Kabul University  AFGHANISTAN  교환학생   \n1        1      0   1          Universidad Blas Pascal    ARGENTINA  교환학생   \n2        2      1   2  Universidad Catolica de Cordoba    ARGENTINA  교환학생   \n3        3      2   3           Universidad de Palermo    ARGENTINA  교환학생   \n4        4      3   4         Universidad del Salvador    ARGENTINA  교환학생   \n\n   협정형태                                          href visitation      대학코드  \n0  교환대학  /partner/expReport.asp?ucode=AF000001&bgbn=A       None  AF000001  \n1  ISEP  /partner/expReport.asp?ucode=AR000001&bgbn=A       None  AR000001  \n2  ISEP  /partner/expReport.asp?ucode=AR000002&bgbn=A       None  AR000002  \n3  ISEP  /partner/expReport.asp?ucode=AR000003&bgbn=A       None  AR000003  \n4  ISEP  /partner/expReport.asp?ucode=AR000004&bgbn=A     Exists  AR000004  ",
      "text/html": "<div>\n<style scoped>\n    .dataframe tbody tr th:only-of-type {\n        vertical-align: middle;\n    }\n\n    .dataframe tbody tr th {\n        vertical-align: top;\n    }\n\n    .dataframe thead th {\n        text-align: right;\n    }\n</style>\n<table border=\"1\" class=\"dataframe\">\n  <thead>\n    <tr style=\"text-align: right;\">\n      <th></th>\n      <th>level_0</th>\n      <th>index</th>\n      <th>No</th>\n      <th>대학명</th>\n      <th>국가</th>\n      <th>파견구분</th>\n      <th>협정형태</th>\n      <th>href</th>\n      <th>visitation</th>\n      <th>대학코드</th>\n    </tr>\n  </thead>\n  <tbody>\n    <tr>\n      <th>0</th>\n      <td>0</td>\n      <td>0</td>\n      <td>1</td>\n      <td>Kabul University</td>\n      <td>AFGHANISTAN</td>\n      <td>교환학생</td>\n      <td>교환대학</td>\n      <td>/partner/expReport.asp?ucode=AF000001&amp;bgbn=A</td>\n      <td>None</td>\n      <td>AF000001</td>\n    </tr>\n    <tr>\n      <th>1</th>\n      <td>1</td>\n      <td>0</td>\n      <td>1</td>\n      <td>Universidad Blas Pascal</td>\n      <td>ARGENTINA</td>\n      <td>교환학생</td>\n      <td>ISEP</td>\n      <td>/partner/expReport.asp?ucode=AR000001&amp;bgbn=A</td>\n      <td>None</td>\n      <td>AR000001</td>\n    </tr>\n    <tr>\n      <th>2</th>\n      <td>2</td>\n      <td>1</td>\n      <td>2</td>\n      <td>Universidad Catolica de Cordoba</td>\n      <td>ARGENTINA</td>\n      <td>교환학생</td>\n      <td>ISEP</td>\n      <td>/partner/expReport.asp?ucode=AR000002&amp;bgbn=A</td>\n      <td>None</td>\n      <td>AR000002</td>\n    </tr>\n    <tr>\n      <th>3</th>\n      <td>3</td>\n      <td>2</td>\n      <td>3</td>\n      <td>Universidad de Palermo</td>\n      <td>ARGENTINA</td>\n      <td>교환학생</td>\n      <td>ISEP</td>\n      <td>/partner/expReport.asp?ucode=AR000003&amp;bgbn=A</td>\n      <td>None</td>\n      <td>AR000003</td>\n    </tr>\n    <tr>\n      <th>4</th>\n      <td>4</td>\n      <td>3</td>\n      <td>4</td>\n      <td>Universidad del Salvador</td>\n      <td>ARGENTINA</td>\n      <td>교환학생</td>\n      <td>ISEP</td>\n      <td>/partner/expReport.asp?ucode=AR000004&amp;bgbn=A</td>\n      <td>Exists</td>\n      <td>AR000004</td>\n    </tr>\n  </tbody>\n</table>\n</div>"
     },
     "metadata": {},
     "execution_count": 23
    }
   ],
   "source": [
    "# make column for university code\n",
    "series_query = df_univ[\"href\"].str.split(\"=\", expand=True)[1]\n",
    "series_univ_code = series_query.str.split(\"&\", expand=True)[0]\n",
    "df_univ[\"대학코드\"] = series_univ_code\n",
    "df_univ.head()"
   ]
  },
  {
   "cell_type": "code",
   "execution_count": 24,
   "metadata": {},
   "outputs": [
    {
     "output_type": "execute_result",
     "data": {
      "text/plain": "       대학코드           국가                              대학명  파견구분      협정형태  \\\n0  AF000001  AFGHANISTAN                 Kabul University  교환학생      교환대학   \n1  AR000001    ARGENTINA          Universidad Blas Pascal  교환학생      ISEP   \n2  AR000002    ARGENTINA  Universidad Catolica de Cordoba  교환학생      ISEP   \n3  AR000003    ARGENTINA           Universidad de Palermo  교환학생      ISEP   \n4  AR000004    ARGENTINA         Universidad del Salvador  교환학생      ISEP   \n5  AR000005    ARGENTINA       University of Buenos Aires  교환학생      교환대학   \n6  AU000019    AUSTRALIA   Australian National University  교환학생      교환대학   \n7  AU000001    AUSTRALIA                  Bond University  교환학생      교환대학   \n8  AU000002    AUSTRALIA                Curtin University  교환학생  교환대학ISEP   \n9  AU000003    AUSTRALIA  Curtin University of Technology  교환학생       NaN   \n\n  visitation                                          href  \n0       None  /partner/expReport.asp?ucode=AF000001&bgbn=A  \n1       None  /partner/expReport.asp?ucode=AR000001&bgbn=A  \n2       None  /partner/expReport.asp?ucode=AR000002&bgbn=A  \n3       None  /partner/expReport.asp?ucode=AR000003&bgbn=A  \n4     Exists  /partner/expReport.asp?ucode=AR000004&bgbn=A  \n5       None  /partner/expReport.asp?ucode=AR000005&bgbn=A  \n6     Exists  /partner/expReport.asp?ucode=AU000019&bgbn=A  \n7     Exists  /partner/expReport.asp?ucode=AU000001&bgbn=A  \n8     Exists  /partner/expReport.asp?ucode=AU000002&bgbn=A  \n9     Exists  /partner/expReport.asp?ucode=AU000003&bgbn=A  ",
      "text/html": "<div>\n<style scoped>\n    .dataframe tbody tr th:only-of-type {\n        vertical-align: middle;\n    }\n\n    .dataframe tbody tr th {\n        vertical-align: top;\n    }\n\n    .dataframe thead th {\n        text-align: right;\n    }\n</style>\n<table border=\"1\" class=\"dataframe\">\n  <thead>\n    <tr style=\"text-align: right;\">\n      <th></th>\n      <th>대학코드</th>\n      <th>국가</th>\n      <th>대학명</th>\n      <th>파견구분</th>\n      <th>협정형태</th>\n      <th>visitation</th>\n      <th>href</th>\n    </tr>\n  </thead>\n  <tbody>\n    <tr>\n      <th>0</th>\n      <td>AF000001</td>\n      <td>AFGHANISTAN</td>\n      <td>Kabul University</td>\n      <td>교환학생</td>\n      <td>교환대학</td>\n      <td>None</td>\n      <td>/partner/expReport.asp?ucode=AF000001&amp;bgbn=A</td>\n    </tr>\n    <tr>\n      <th>1</th>\n      <td>AR000001</td>\n      <td>ARGENTINA</td>\n      <td>Universidad Blas Pascal</td>\n      <td>교환학생</td>\n      <td>ISEP</td>\n      <td>None</td>\n      <td>/partner/expReport.asp?ucode=AR000001&amp;bgbn=A</td>\n    </tr>\n    <tr>\n      <th>2</th>\n      <td>AR000002</td>\n      <td>ARGENTINA</td>\n      <td>Universidad Catolica de Cordoba</td>\n      <td>교환학생</td>\n      <td>ISEP</td>\n      <td>None</td>\n      <td>/partner/expReport.asp?ucode=AR000002&amp;bgbn=A</td>\n    </tr>\n    <tr>\n      <th>3</th>\n      <td>AR000003</td>\n      <td>ARGENTINA</td>\n      <td>Universidad de Palermo</td>\n      <td>교환학생</td>\n      <td>ISEP</td>\n      <td>None</td>\n      <td>/partner/expReport.asp?ucode=AR000003&amp;bgbn=A</td>\n    </tr>\n    <tr>\n      <th>4</th>\n      <td>AR000004</td>\n      <td>ARGENTINA</td>\n      <td>Universidad del Salvador</td>\n      <td>교환학생</td>\n      <td>ISEP</td>\n      <td>Exists</td>\n      <td>/partner/expReport.asp?ucode=AR000004&amp;bgbn=A</td>\n    </tr>\n    <tr>\n      <th>5</th>\n      <td>AR000005</td>\n      <td>ARGENTINA</td>\n      <td>University of Buenos Aires</td>\n      <td>교환학생</td>\n      <td>교환대학</td>\n      <td>None</td>\n      <td>/partner/expReport.asp?ucode=AR000005&amp;bgbn=A</td>\n    </tr>\n    <tr>\n      <th>6</th>\n      <td>AU000019</td>\n      <td>AUSTRALIA</td>\n      <td>Australian National University</td>\n      <td>교환학생</td>\n      <td>교환대학</td>\n      <td>Exists</td>\n      <td>/partner/expReport.asp?ucode=AU000019&amp;bgbn=A</td>\n    </tr>\n    <tr>\n      <th>7</th>\n      <td>AU000001</td>\n      <td>AUSTRALIA</td>\n      <td>Bond University</td>\n      <td>교환학생</td>\n      <td>교환대학</td>\n      <td>Exists</td>\n      <td>/partner/expReport.asp?ucode=AU000001&amp;bgbn=A</td>\n    </tr>\n    <tr>\n      <th>8</th>\n      <td>AU000002</td>\n      <td>AUSTRALIA</td>\n      <td>Curtin University</td>\n      <td>교환학생</td>\n      <td>교환대학ISEP</td>\n      <td>Exists</td>\n      <td>/partner/expReport.asp?ucode=AU000002&amp;bgbn=A</td>\n    </tr>\n    <tr>\n      <th>9</th>\n      <td>AU000003</td>\n      <td>AUSTRALIA</td>\n      <td>Curtin University of Technology</td>\n      <td>교환학생</td>\n      <td>NaN</td>\n      <td>Exists</td>\n      <td>/partner/expReport.asp?ucode=AU000003&amp;bgbn=A</td>\n    </tr>\n  </tbody>\n</table>\n</div>"
     },
     "metadata": {},
     "execution_count": 24
    }
   ],
   "source": [
    "# reorder columns, delete unnecessary columns\n",
    "df = df_univ[[\"대학코드\", \"국가\", \"대학명\", \"파견구분\", \"협정형태\", \"visitation\", \"href\"]]\n",
    "df.head(10)"
   ]
  },
  {
   "cell_type": "code",
   "execution_count": 25,
   "metadata": {},
   "outputs": [
    {
     "output_type": "execute_result",
     "data": {
      "text/plain": "       대학코드         국가                              대학명  파견구분      협정형태  \\\n4  AR000004  ARGENTINA         Universidad del Salvador  교환학생      ISEP   \n6  AU000019  AUSTRALIA   Australian National University  교환학생      교환대학   \n7  AU000001  AUSTRALIA                  Bond University  교환학생      교환대학   \n8  AU000002  AUSTRALIA                Curtin University  교환학생  교환대학ISEP   \n9  AU000003  AUSTRALIA  Curtin University of Technology  교환학생       NaN   \n\n  visitation                                          href  \n4     Exists  /partner/expReport.asp?ucode=AR000004&bgbn=A  \n6     Exists  /partner/expReport.asp?ucode=AU000019&bgbn=A  \n7     Exists  /partner/expReport.asp?ucode=AU000001&bgbn=A  \n8     Exists  /partner/expReport.asp?ucode=AU000002&bgbn=A  \n9     Exists  /partner/expReport.asp?ucode=AU000003&bgbn=A  ",
      "text/html": "<div>\n<style scoped>\n    .dataframe tbody tr th:only-of-type {\n        vertical-align: middle;\n    }\n\n    .dataframe tbody tr th {\n        vertical-align: top;\n    }\n\n    .dataframe thead th {\n        text-align: right;\n    }\n</style>\n<table border=\"1\" class=\"dataframe\">\n  <thead>\n    <tr style=\"text-align: right;\">\n      <th></th>\n      <th>대학코드</th>\n      <th>국가</th>\n      <th>대학명</th>\n      <th>파견구분</th>\n      <th>협정형태</th>\n      <th>visitation</th>\n      <th>href</th>\n    </tr>\n  </thead>\n  <tbody>\n    <tr>\n      <th>4</th>\n      <td>AR000004</td>\n      <td>ARGENTINA</td>\n      <td>Universidad del Salvador</td>\n      <td>교환학생</td>\n      <td>ISEP</td>\n      <td>Exists</td>\n      <td>/partner/expReport.asp?ucode=AR000004&amp;bgbn=A</td>\n    </tr>\n    <tr>\n      <th>6</th>\n      <td>AU000019</td>\n      <td>AUSTRALIA</td>\n      <td>Australian National University</td>\n      <td>교환학생</td>\n      <td>교환대학</td>\n      <td>Exists</td>\n      <td>/partner/expReport.asp?ucode=AU000019&amp;bgbn=A</td>\n    </tr>\n    <tr>\n      <th>7</th>\n      <td>AU000001</td>\n      <td>AUSTRALIA</td>\n      <td>Bond University</td>\n      <td>교환학생</td>\n      <td>교환대학</td>\n      <td>Exists</td>\n      <td>/partner/expReport.asp?ucode=AU000001&amp;bgbn=A</td>\n    </tr>\n    <tr>\n      <th>8</th>\n      <td>AU000002</td>\n      <td>AUSTRALIA</td>\n      <td>Curtin University</td>\n      <td>교환학생</td>\n      <td>교환대학ISEP</td>\n      <td>Exists</td>\n      <td>/partner/expReport.asp?ucode=AU000002&amp;bgbn=A</td>\n    </tr>\n    <tr>\n      <th>9</th>\n      <td>AU000003</td>\n      <td>AUSTRALIA</td>\n      <td>Curtin University of Technology</td>\n      <td>교환학생</td>\n      <td>NaN</td>\n      <td>Exists</td>\n      <td>/partner/expReport.asp?ucode=AU000003&amp;bgbn=A</td>\n    </tr>\n  </tbody>\n</table>\n</div>"
     },
     "metadata": {},
     "execution_count": 25
    }
   ],
   "source": [
    "# sort out unvisited universities\n",
    "df_ever_been = df.loc[df['visitation'] == \"Exists\"]\n",
    "df_ever_been.head()"
   ]
  },
  {
   "cell_type": "code",
   "execution_count": 26,
   "metadata": {},
   "outputs": [
    {
     "output_type": "execute_result",
     "data": {
      "text/plain": "(470, 7)"
     },
     "metadata": {},
     "execution_count": 26
    }
   ],
   "source": [
    "# number of visited universities in Yonsei history\n",
    "df_ever_been.shape"
   ]
  },
  {
   "cell_type": "code",
   "execution_count": 27,
   "metadata": {},
   "outputs": [],
   "source": [
    "# wrangle university dataframe\n",
    "def make_univ_df():\n",
    "    # read university dataset csv file\n",
    "    df_univ = pd.read_csv(\"./data/univ_db_full.csv\", encoding=\"utf-8\")\n",
    "\n",
    "    # get university code\n",
    "    series_query = df_univ[\"href\"].str.split(\"=\", expand=True)[1]\n",
    "    series_univ_code = series_query.str.split(\"&\", expand=True)[0]\n",
    "    df_univ[\"대학코드\"] = series_univ_code\n",
    "    \n",
    "    # Making column values for BERT_SUM, RNN_SUM, STUDENT_NO\n",
    "    list_bert_sum = []\n",
    "    list_rnn_sum = []\n",
    "    list_student_no = []\n",
    "    \n",
    "    # iterrating over rows of university datframe\n",
    "    for index, row in df_univ.iterrows():\n",
    "\n",
    "        # if university is not ever visited, input NaN values\n",
    "        if row[\"visitation\"] == \"None\":\n",
    "            list_bert_sum.append(np.NaN)\n",
    "            list_rnn_sum.append(np.NaN)\n",
    "            list_student_no.append(np.NaN)\n",
    "\n",
    "        # if university is visited, input BERT_SCORE, RNN_SCORE's sum and input number of visitations\n",
    "        if row[\"visitation\"] == \"Exists\":\n",
    "            list_bert_sum.append(yield_BERT_SUM(row[\"대학코드\"]))\n",
    "            list_rnn_sum.append(yield_RNN_SUM(row[\"대학코드\"]))\n",
    "            list_student_no.append(yield_no_of_students(row[\"대학코드\"]))\n",
    "    \n",
    "    # Make Columns\n",
    "    df_univ[\"BERT_SUM\"] = list_bert_sum\n",
    "    df_univ[\"RNN_SUM\"] = list_rnn_sum\n",
    "    df_univ[\"NUM_VISITS\"] = list_student_no\n",
    "    \n",
    "    # Select and order columns\n",
    "    df = df_univ[[\"대학코드\", \"국가\", \"대학명\", \"파견구분\", \"협정형태\", \"NUM_VISITS\", \"BERT_SUM\", \"RNN_SUM\", \"href\"]]\n",
    "    return df"
   ]
  },
  {
   "cell_type": "code",
   "execution_count": 28,
   "metadata": {},
   "outputs": [],
   "source": [
    "df_univ_wrangled = make_univ_df()"
   ]
  },
  {
   "cell_type": "code",
   "execution_count": 29,
   "metadata": {
    "tags": []
   },
   "outputs": [
    {
     "output_type": "stream",
     "name": "stdout",
     "text": "(745, 9)\n"
    },
    {
     "output_type": "execute_result",
     "data": {
      "text/plain": "       대학코드           국가                              대학명  파견구분      협정형태  \\\n0  AF000001  AFGHANISTAN                 Kabul University  교환학생      교환대학   \n1  AR000001    ARGENTINA          Universidad Blas Pascal  교환학생      ISEP   \n2  AR000002    ARGENTINA  Universidad Catolica de Cordoba  교환학생      ISEP   \n3  AR000003    ARGENTINA           Universidad de Palermo  교환학생      ISEP   \n4  AR000004    ARGENTINA         Universidad del Salvador  교환학생      ISEP   \n5  AR000005    ARGENTINA       University of Buenos Aires  교환학생      교환대학   \n6  AU000019    AUSTRALIA   Australian National University  교환학생      교환대학   \n7  AU000001    AUSTRALIA                  Bond University  교환학생      교환대학   \n8  AU000002    AUSTRALIA                Curtin University  교환학생  교환대학ISEP   \n9  AU000003    AUSTRALIA  Curtin University of Technology  교환학생       NaN   \n\n   NUM_VISITS  BERT_SUM    RNN_SUM  \\\n0         NaN       NaN        NaN   \n1         NaN       NaN        NaN   \n2         NaN       NaN        NaN   \n3         NaN       NaN        NaN   \n4         1.0       0.0   0.399670   \n5         NaN       NaN        NaN   \n6        27.0      17.0  17.952732   \n7        19.0      16.0  13.359809   \n8         7.0       5.0   4.657787   \n9        16.0      14.0   9.696670   \n\n                                           href  \n0  /partner/expReport.asp?ucode=AF000001&bgbn=A  \n1  /partner/expReport.asp?ucode=AR000001&bgbn=A  \n2  /partner/expReport.asp?ucode=AR000002&bgbn=A  \n3  /partner/expReport.asp?ucode=AR000003&bgbn=A  \n4  /partner/expReport.asp?ucode=AR000004&bgbn=A  \n5  /partner/expReport.asp?ucode=AR000005&bgbn=A  \n6  /partner/expReport.asp?ucode=AU000019&bgbn=A  \n7  /partner/expReport.asp?ucode=AU000001&bgbn=A  \n8  /partner/expReport.asp?ucode=AU000002&bgbn=A  \n9  /partner/expReport.asp?ucode=AU000003&bgbn=A  ",
      "text/html": "<div>\n<style scoped>\n    .dataframe tbody tr th:only-of-type {\n        vertical-align: middle;\n    }\n\n    .dataframe tbody tr th {\n        vertical-align: top;\n    }\n\n    .dataframe thead th {\n        text-align: right;\n    }\n</style>\n<table border=\"1\" class=\"dataframe\">\n  <thead>\n    <tr style=\"text-align: right;\">\n      <th></th>\n      <th>대학코드</th>\n      <th>국가</th>\n      <th>대학명</th>\n      <th>파견구분</th>\n      <th>협정형태</th>\n      <th>NUM_VISITS</th>\n      <th>BERT_SUM</th>\n      <th>RNN_SUM</th>\n      <th>href</th>\n    </tr>\n  </thead>\n  <tbody>\n    <tr>\n      <th>0</th>\n      <td>AF000001</td>\n      <td>AFGHANISTAN</td>\n      <td>Kabul University</td>\n      <td>교환학생</td>\n      <td>교환대학</td>\n      <td>NaN</td>\n      <td>NaN</td>\n      <td>NaN</td>\n      <td>/partner/expReport.asp?ucode=AF000001&amp;bgbn=A</td>\n    </tr>\n    <tr>\n      <th>1</th>\n      <td>AR000001</td>\n      <td>ARGENTINA</td>\n      <td>Universidad Blas Pascal</td>\n      <td>교환학생</td>\n      <td>ISEP</td>\n      <td>NaN</td>\n      <td>NaN</td>\n      <td>NaN</td>\n      <td>/partner/expReport.asp?ucode=AR000001&amp;bgbn=A</td>\n    </tr>\n    <tr>\n      <th>2</th>\n      <td>AR000002</td>\n      <td>ARGENTINA</td>\n      <td>Universidad Catolica de Cordoba</td>\n      <td>교환학생</td>\n      <td>ISEP</td>\n      <td>NaN</td>\n      <td>NaN</td>\n      <td>NaN</td>\n      <td>/partner/expReport.asp?ucode=AR000002&amp;bgbn=A</td>\n    </tr>\n    <tr>\n      <th>3</th>\n      <td>AR000003</td>\n      <td>ARGENTINA</td>\n      <td>Universidad de Palermo</td>\n      <td>교환학생</td>\n      <td>ISEP</td>\n      <td>NaN</td>\n      <td>NaN</td>\n      <td>NaN</td>\n      <td>/partner/expReport.asp?ucode=AR000003&amp;bgbn=A</td>\n    </tr>\n    <tr>\n      <th>4</th>\n      <td>AR000004</td>\n      <td>ARGENTINA</td>\n      <td>Universidad del Salvador</td>\n      <td>교환학생</td>\n      <td>ISEP</td>\n      <td>1.0</td>\n      <td>0.0</td>\n      <td>0.399670</td>\n      <td>/partner/expReport.asp?ucode=AR000004&amp;bgbn=A</td>\n    </tr>\n    <tr>\n      <th>5</th>\n      <td>AR000005</td>\n      <td>ARGENTINA</td>\n      <td>University of Buenos Aires</td>\n      <td>교환학생</td>\n      <td>교환대학</td>\n      <td>NaN</td>\n      <td>NaN</td>\n      <td>NaN</td>\n      <td>/partner/expReport.asp?ucode=AR000005&amp;bgbn=A</td>\n    </tr>\n    <tr>\n      <th>6</th>\n      <td>AU000019</td>\n      <td>AUSTRALIA</td>\n      <td>Australian National University</td>\n      <td>교환학생</td>\n      <td>교환대학</td>\n      <td>27.0</td>\n      <td>17.0</td>\n      <td>17.952732</td>\n      <td>/partner/expReport.asp?ucode=AU000019&amp;bgbn=A</td>\n    </tr>\n    <tr>\n      <th>7</th>\n      <td>AU000001</td>\n      <td>AUSTRALIA</td>\n      <td>Bond University</td>\n      <td>교환학생</td>\n      <td>교환대학</td>\n      <td>19.0</td>\n      <td>16.0</td>\n      <td>13.359809</td>\n      <td>/partner/expReport.asp?ucode=AU000001&amp;bgbn=A</td>\n    </tr>\n    <tr>\n      <th>8</th>\n      <td>AU000002</td>\n      <td>AUSTRALIA</td>\n      <td>Curtin University</td>\n      <td>교환학생</td>\n      <td>교환대학ISEP</td>\n      <td>7.0</td>\n      <td>5.0</td>\n      <td>4.657787</td>\n      <td>/partner/expReport.asp?ucode=AU000002&amp;bgbn=A</td>\n    </tr>\n    <tr>\n      <th>9</th>\n      <td>AU000003</td>\n      <td>AUSTRALIA</td>\n      <td>Curtin University of Technology</td>\n      <td>교환학생</td>\n      <td>NaN</td>\n      <td>16.0</td>\n      <td>14.0</td>\n      <td>9.696670</td>\n      <td>/partner/expReport.asp?ucode=AU000003&amp;bgbn=A</td>\n    </tr>\n  </tbody>\n</table>\n</div>"
     },
     "metadata": {},
     "execution_count": 29
    }
   ],
   "source": [
    "print(df_univ_wrangled.shape)\n",
    "df_univ_wrangled.head(10)"
   ]
  },
  {
   "cell_type": "code",
   "execution_count": 30,
   "metadata": {},
   "outputs": [
    {
     "output_type": "execute_result",
     "data": {
      "text/plain": "Index(['대학코드', '국가', '대학명', '파견구분', '협정형태', 'NUM_VISITS', 'BERT_SUM',\n       'RNN_SUM', 'href'],\n      dtype='object')"
     },
     "metadata": {},
     "execution_count": 30
    }
   ],
   "source": [
    "df_univ_wrangled.columns"
   ]
  },
  {
   "cell_type": "code",
   "execution_count": 31,
   "metadata": {},
   "outputs": [
    {
     "output_type": "execute_result",
     "data": {
      "text/plain": "(745, 9)"
     },
     "metadata": {},
     "execution_count": 31
    }
   ],
   "source": [
    "df_univ_wrangled.shape"
   ]
  },
  {
   "cell_type": "code",
   "execution_count": 32,
   "metadata": {},
   "outputs": [
    {
     "output_type": "execute_result",
     "data": {
      "text/plain": "(745, 9)"
     },
     "metadata": {},
     "execution_count": 32
    }
   ],
   "source": [
    "# check for duplicate rows\n",
    "df_univ_wrangled = df_univ_wrangled.drop_duplicates()\n",
    "df_univ_wrangled.shape"
   ]
  },
  {
   "cell_type": "code",
   "execution_count": 33,
   "metadata": {},
   "outputs": [],
   "source": [
    "# export wrangled df abstract concat dataframe\n",
    "df_univ_wrangled.to_csv(\"./data_wrangled/df_univ_wrangled.csv\",encoding=\"utf-8\", index=False)"
   ]
  },
  {
   "cell_type": "markdown",
   "metadata": {},
   "source": [
    "## Sort universities according to BERT and RNN average score"
   ]
  },
  {
   "cell_type": "code",
   "execution_count": 34,
   "metadata": {},
   "outputs": [],
   "source": [
    "# GET BERT and RNN average\n",
    "df_univ_wrangled[\"BERT_AVG\"] = df_univ_wrangled[\"BERT_SUM\"] / df_univ_wrangled[\"NUM_VISITS\"]\n",
    "df_univ_wrangled[\"RNN_AVG\"] = df_univ_wrangled[\"RNN_SUM\"] / df_univ_wrangled[\"NUM_VISITS\"]"
   ]
  },
  {
   "cell_type": "code",
   "execution_count": 35,
   "metadata": {},
   "outputs": [
    {
     "output_type": "execute_result",
     "data": {
      "text/plain": "         대학코드              국가                                            대학명  \\\n545  US000102   UNITED STATES                            Marshall University   \n401  GB000003  UNITED KINGDOM                              Napier University   \n171  DE000007         GERMANY               Leuphana University of Lunerburg   \n509  US000068   UNITED STATES                     Fort Hays State University   \n400  GB000002  UNITED KINGDOM                           Middlesex University   \n..        ...             ...                                            ...   \n740  VN000001         VIETNAM         National Economics University of Hanoi   \n741  VN000003         VIETNAM             Vietnam National University, Hanoi   \n742  VN000005         VIETNAM  Vietnam National University, Ho Chi Minh City   \n743  VN000006         VIETNAM                                 Vin University   \n744  ZW000001        ZIMBABWE                         University of Zimbabwe   \n\n            파견구분  협정형태  NUM_VISITS  BERT_SUM   RNN_SUM  \\\n545         교환학생  ISEP         1.0       1.0  0.663917   \n401         교환학생  ISEP         1.0       1.0  0.846949   \n171         교환학생  USAC         1.0       1.0  0.773299   \n509         교환학생  ISEP         1.0       1.0  0.513952   \n400  방문학생SAP(정규)   SAF         1.0       1.0  0.731432   \n..           ...   ...         ...       ...       ...   \n740         교환학생   NaN         NaN       NaN       NaN   \n741         교환학생  교환대학         NaN       NaN       NaN   \n742          NaN  교환대학         NaN       NaN       NaN   \n743          NaN  교환대학         NaN       NaN       NaN   \n744         교환학생  교환대학         NaN       NaN       NaN   \n\n                                             href  BERT_AVG   RNN_AVG  \n545  /partner/expReport.asp?ucode=US000102&bgbn=A       1.0  0.663917  \n401  /partner/expReport.asp?ucode=GB000003&bgbn=A       1.0  0.846949  \n171  /partner/expReport.asp?ucode=DE000007&bgbn=A       1.0  0.773299  \n509  /partner/expReport.asp?ucode=US000068&bgbn=A       1.0  0.513952  \n400  /partner/expReport.asp?ucode=GB000002&bgbn=A       1.0  0.731432  \n..                                            ...       ...       ...  \n740  /partner/expReport.asp?ucode=VN000001&bgbn=A       NaN       NaN  \n741  /partner/expReport.asp?ucode=VN000003&bgbn=A       NaN       NaN  \n742  /partner/expReport.asp?ucode=VN000005&bgbn=A       NaN       NaN  \n743  /partner/expReport.asp?ucode=VN000006&bgbn=A       NaN       NaN  \n744  /partner/expReport.asp?ucode=ZW000001&bgbn=A       NaN       NaN  \n\n[745 rows x 11 columns]",
      "text/html": "<div>\n<style scoped>\n    .dataframe tbody tr th:only-of-type {\n        vertical-align: middle;\n    }\n\n    .dataframe tbody tr th {\n        vertical-align: top;\n    }\n\n    .dataframe thead th {\n        text-align: right;\n    }\n</style>\n<table border=\"1\" class=\"dataframe\">\n  <thead>\n    <tr style=\"text-align: right;\">\n      <th></th>\n      <th>대학코드</th>\n      <th>국가</th>\n      <th>대학명</th>\n      <th>파견구분</th>\n      <th>협정형태</th>\n      <th>NUM_VISITS</th>\n      <th>BERT_SUM</th>\n      <th>RNN_SUM</th>\n      <th>href</th>\n      <th>BERT_AVG</th>\n      <th>RNN_AVG</th>\n    </tr>\n  </thead>\n  <tbody>\n    <tr>\n      <th>545</th>\n      <td>US000102</td>\n      <td>UNITED STATES</td>\n      <td>Marshall University</td>\n      <td>교환학생</td>\n      <td>ISEP</td>\n      <td>1.0</td>\n      <td>1.0</td>\n      <td>0.663917</td>\n      <td>/partner/expReport.asp?ucode=US000102&amp;bgbn=A</td>\n      <td>1.0</td>\n      <td>0.663917</td>\n    </tr>\n    <tr>\n      <th>401</th>\n      <td>GB000003</td>\n      <td>UNITED KINGDOM</td>\n      <td>Napier University</td>\n      <td>교환학생</td>\n      <td>ISEP</td>\n      <td>1.0</td>\n      <td>1.0</td>\n      <td>0.846949</td>\n      <td>/partner/expReport.asp?ucode=GB000003&amp;bgbn=A</td>\n      <td>1.0</td>\n      <td>0.846949</td>\n    </tr>\n    <tr>\n      <th>171</th>\n      <td>DE000007</td>\n      <td>GERMANY</td>\n      <td>Leuphana University of Lunerburg</td>\n      <td>교환학생</td>\n      <td>USAC</td>\n      <td>1.0</td>\n      <td>1.0</td>\n      <td>0.773299</td>\n      <td>/partner/expReport.asp?ucode=DE000007&amp;bgbn=A</td>\n      <td>1.0</td>\n      <td>0.773299</td>\n    </tr>\n    <tr>\n      <th>509</th>\n      <td>US000068</td>\n      <td>UNITED STATES</td>\n      <td>Fort Hays State University</td>\n      <td>교환학생</td>\n      <td>ISEP</td>\n      <td>1.0</td>\n      <td>1.0</td>\n      <td>0.513952</td>\n      <td>/partner/expReport.asp?ucode=US000068&amp;bgbn=A</td>\n      <td>1.0</td>\n      <td>0.513952</td>\n    </tr>\n    <tr>\n      <th>400</th>\n      <td>GB000002</td>\n      <td>UNITED KINGDOM</td>\n      <td>Middlesex University</td>\n      <td>방문학생SAP(정규)</td>\n      <td>SAF</td>\n      <td>1.0</td>\n      <td>1.0</td>\n      <td>0.731432</td>\n      <td>/partner/expReport.asp?ucode=GB000002&amp;bgbn=A</td>\n      <td>1.0</td>\n      <td>0.731432</td>\n    </tr>\n    <tr>\n      <th>...</th>\n      <td>...</td>\n      <td>...</td>\n      <td>...</td>\n      <td>...</td>\n      <td>...</td>\n      <td>...</td>\n      <td>...</td>\n      <td>...</td>\n      <td>...</td>\n      <td>...</td>\n      <td>...</td>\n    </tr>\n    <tr>\n      <th>740</th>\n      <td>VN000001</td>\n      <td>VIETNAM</td>\n      <td>National Economics University of Hanoi</td>\n      <td>교환학생</td>\n      <td>NaN</td>\n      <td>NaN</td>\n      <td>NaN</td>\n      <td>NaN</td>\n      <td>/partner/expReport.asp?ucode=VN000001&amp;bgbn=A</td>\n      <td>NaN</td>\n      <td>NaN</td>\n    </tr>\n    <tr>\n      <th>741</th>\n      <td>VN000003</td>\n      <td>VIETNAM</td>\n      <td>Vietnam National University, Hanoi</td>\n      <td>교환학생</td>\n      <td>교환대학</td>\n      <td>NaN</td>\n      <td>NaN</td>\n      <td>NaN</td>\n      <td>/partner/expReport.asp?ucode=VN000003&amp;bgbn=A</td>\n      <td>NaN</td>\n      <td>NaN</td>\n    </tr>\n    <tr>\n      <th>742</th>\n      <td>VN000005</td>\n      <td>VIETNAM</td>\n      <td>Vietnam National University, Ho Chi Minh City</td>\n      <td>NaN</td>\n      <td>교환대학</td>\n      <td>NaN</td>\n      <td>NaN</td>\n      <td>NaN</td>\n      <td>/partner/expReport.asp?ucode=VN000005&amp;bgbn=A</td>\n      <td>NaN</td>\n      <td>NaN</td>\n    </tr>\n    <tr>\n      <th>743</th>\n      <td>VN000006</td>\n      <td>VIETNAM</td>\n      <td>Vin University</td>\n      <td>NaN</td>\n      <td>교환대학</td>\n      <td>NaN</td>\n      <td>NaN</td>\n      <td>NaN</td>\n      <td>/partner/expReport.asp?ucode=VN000006&amp;bgbn=A</td>\n      <td>NaN</td>\n      <td>NaN</td>\n    </tr>\n    <tr>\n      <th>744</th>\n      <td>ZW000001</td>\n      <td>ZIMBABWE</td>\n      <td>University of Zimbabwe</td>\n      <td>교환학생</td>\n      <td>교환대학</td>\n      <td>NaN</td>\n      <td>NaN</td>\n      <td>NaN</td>\n      <td>/partner/expReport.asp?ucode=ZW000001&amp;bgbn=A</td>\n      <td>NaN</td>\n      <td>NaN</td>\n    </tr>\n  </tbody>\n</table>\n<p>745 rows × 11 columns</p>\n</div>"
     },
     "metadata": {},
     "execution_count": 35
    }
   ],
   "source": [
    "df_univ_wrangled\n",
    "df_univ_wrangled.sort_values([\"BERT_AVG\"], ascending=False)"
   ]
  },
  {
   "cell_type": "code",
   "execution_count": 61,
   "metadata": {
    "tags": []
   },
   "outputs": [
    {
     "output_type": "stream",
     "name": "stdout",
     "text": "(308, 11)\n"
    },
    {
     "output_type": "execute_result",
     "data": {
      "text/plain": "        대학코드         국가                              대학명  파견구분          협정형태  \\\n6   AU000019  AUSTRALIA   Australian National University  교환학생          교환대학   \n7   AU000001  AUSTRALIA                  Bond University  교환학생          교환대학   \n8   AU000002  AUSTRALIA                Curtin University  교환학생      교환대학ISEP   \n9   AU000003  AUSTRALIA  Curtin University of Technology  교환학생           NaN   \n10  AU000004  AUSTRALIA                Deakin University  교환학생  교환대학ISEPUSAC   \n\n    NUM_VISITS  BERT_SUM    RNN_SUM  \\\n6         27.0      17.0  17.952732   \n7         19.0      16.0  13.359809   \n8          7.0       5.0   4.657787   \n9         16.0      14.0   9.696670   \n10        24.0      18.0  17.425120   \n\n                                            href  BERT_AVG   RNN_AVG  \n6   /partner/expReport.asp?ucode=AU000019&bgbn=A  0.629630  0.664916  \n7   /partner/expReport.asp?ucode=AU000001&bgbn=A  0.842105  0.703148  \n8   /partner/expReport.asp?ucode=AU000002&bgbn=A  0.714286  0.665398  \n9   /partner/expReport.asp?ucode=AU000003&bgbn=A  0.875000  0.606042  \n10  /partner/expReport.asp?ucode=AU000004&bgbn=A  0.750000  0.726047  ",
      "text/html": "<div>\n<style scoped>\n    .dataframe tbody tr th:only-of-type {\n        vertical-align: middle;\n    }\n\n    .dataframe tbody tr th {\n        vertical-align: top;\n    }\n\n    .dataframe thead th {\n        text-align: right;\n    }\n</style>\n<table border=\"1\" class=\"dataframe\">\n  <thead>\n    <tr style=\"text-align: right;\">\n      <th></th>\n      <th>대학코드</th>\n      <th>국가</th>\n      <th>대학명</th>\n      <th>파견구분</th>\n      <th>협정형태</th>\n      <th>NUM_VISITS</th>\n      <th>BERT_SUM</th>\n      <th>RNN_SUM</th>\n      <th>href</th>\n      <th>BERT_AVG</th>\n      <th>RNN_AVG</th>\n    </tr>\n  </thead>\n  <tbody>\n    <tr>\n      <th>6</th>\n      <td>AU000019</td>\n      <td>AUSTRALIA</td>\n      <td>Australian National University</td>\n      <td>교환학생</td>\n      <td>교환대학</td>\n      <td>27.0</td>\n      <td>17.0</td>\n      <td>17.952732</td>\n      <td>/partner/expReport.asp?ucode=AU000019&amp;bgbn=A</td>\n      <td>0.629630</td>\n      <td>0.664916</td>\n    </tr>\n    <tr>\n      <th>7</th>\n      <td>AU000001</td>\n      <td>AUSTRALIA</td>\n      <td>Bond University</td>\n      <td>교환학생</td>\n      <td>교환대학</td>\n      <td>19.0</td>\n      <td>16.0</td>\n      <td>13.359809</td>\n      <td>/partner/expReport.asp?ucode=AU000001&amp;bgbn=A</td>\n      <td>0.842105</td>\n      <td>0.703148</td>\n    </tr>\n    <tr>\n      <th>8</th>\n      <td>AU000002</td>\n      <td>AUSTRALIA</td>\n      <td>Curtin University</td>\n      <td>교환학생</td>\n      <td>교환대학ISEP</td>\n      <td>7.0</td>\n      <td>5.0</td>\n      <td>4.657787</td>\n      <td>/partner/expReport.asp?ucode=AU000002&amp;bgbn=A</td>\n      <td>0.714286</td>\n      <td>0.665398</td>\n    </tr>\n    <tr>\n      <th>9</th>\n      <td>AU000003</td>\n      <td>AUSTRALIA</td>\n      <td>Curtin University of Technology</td>\n      <td>교환학생</td>\n      <td>NaN</td>\n      <td>16.0</td>\n      <td>14.0</td>\n      <td>9.696670</td>\n      <td>/partner/expReport.asp?ucode=AU000003&amp;bgbn=A</td>\n      <td>0.875000</td>\n      <td>0.606042</td>\n    </tr>\n    <tr>\n      <th>10</th>\n      <td>AU000004</td>\n      <td>AUSTRALIA</td>\n      <td>Deakin University</td>\n      <td>교환학생</td>\n      <td>교환대학ISEPUSAC</td>\n      <td>24.0</td>\n      <td>18.0</td>\n      <td>17.425120</td>\n      <td>/partner/expReport.asp?ucode=AU000004&amp;bgbn=A</td>\n      <td>0.750000</td>\n      <td>0.726047</td>\n    </tr>\n  </tbody>\n</table>\n</div>"
     },
     "metadata": {},
     "execution_count": 61
    }
   ],
   "source": [
    "# Looking at cases with enough number of visits\n",
    "NUMBER_OF_VISITS = 5\n",
    "df_enough_visits = df_univ_wrangled.loc[df_univ_wrangled['NUM_VISITS'] >= NUMBER_OF_VISITS]\n",
    "print(df_enough_visits.shape)\n",
    "df_enough_visits.head()"
   ]
  },
  {
   "cell_type": "code",
   "execution_count": 65,
   "metadata": {},
   "outputs": [
    {
     "output_type": "execute_result",
     "data": {
      "text/plain": "     index      대학코드              국가  \\\n0      415  GB000010  UNITED KINGDOM   \n1      475  US000055   UNITED STATES   \n2      221  IT000003           ITALY   \n3      246  JP000017           JAPAN   \n4      284  MX000004          MEXICO   \n..     ...       ...             ...   \n303    172  DE000008         GERMANY   \n304    408  GB000039  UNITED KINGDOM   \n305     82  CN000007           CHINA   \n306    383  TW000005          TAIWAN   \n307    354  ES000017           SPAIN   \n\n                                                   대학명             파견구분  \\\n0                              University of Edinburgh  교환학생방문학생SAP(정규)   \n1                                      Cornell College             교환학생   \n2                 Universita Cattolica del Sacro Cuore             교환학생   \n3                                  Nagasaki University             교환학생   \n4    Instituto Tecnologico y de Estudios Superiores...             교환학생   \n..                                                 ...              ...   \n303             Ludwig-Maximilians-Universitat Munchen             교환학생   \n304                           University of Birmingham              NaN   \n305                                 Nanjing University             교환학생   \n306  National Taiwan University, College of Management             교환학생   \n307                  Universitat Autonoma de Barcelona             교환학생   \n\n         협정형태  NUM_VISITS  BERT_SUM    RNN_SUM  \\\n0     교환대학SAF         7.0       7.0   5.607286   \n1        교환대학        10.0      10.0   5.366041   \n2        ISEP         6.0       6.0   3.092777   \n3        교환대학         7.0       7.0   4.619841   \n4    교환대학ISEP         7.0       7.0   5.665700   \n..        ...         ...       ...        ...   \n303      교환대학        31.0      13.0  21.730792   \n304  교환대학ISEP         5.0       2.0   2.948399   \n305      교환대학        10.0       4.0   6.720541   \n306      교환대학         6.0       2.0   3.883967   \n307      교환대학         7.0       0.0   4.854875   \n\n                                             href  BERT_AVG   RNN_AVG  \n0    /partner/expReport.asp?ucode=GB000010&bgbn=A  1.000000  0.801041  \n1    /partner/expReport.asp?ucode=US000055&bgbn=A  1.000000  0.536604  \n2    /partner/expReport.asp?ucode=IT000003&bgbn=A  1.000000  0.515463  \n3    /partner/expReport.asp?ucode=JP000017&bgbn=A  1.000000  0.659977  \n4    /partner/expReport.asp?ucode=MX000004&bgbn=A  1.000000  0.809386  \n..                                            ...       ...       ...  \n303  /partner/expReport.asp?ucode=DE000008&bgbn=A  0.419355  0.700993  \n304  /partner/expReport.asp?ucode=GB000039&bgbn=A  0.400000  0.589680  \n305  /partner/expReport.asp?ucode=CN000007&bgbn=A  0.400000  0.672054  \n306  /partner/expReport.asp?ucode=TW000005&bgbn=A  0.333333  0.647328  \n307  /partner/expReport.asp?ucode=ES000017&bgbn=A  0.000000  0.693554  \n\n[308 rows x 12 columns]",
      "text/html": "<div>\n<style scoped>\n    .dataframe tbody tr th:only-of-type {\n        vertical-align: middle;\n    }\n\n    .dataframe tbody tr th {\n        vertical-align: top;\n    }\n\n    .dataframe thead th {\n        text-align: right;\n    }\n</style>\n<table border=\"1\" class=\"dataframe\">\n  <thead>\n    <tr style=\"text-align: right;\">\n      <th></th>\n      <th>index</th>\n      <th>대학코드</th>\n      <th>국가</th>\n      <th>대학명</th>\n      <th>파견구분</th>\n      <th>협정형태</th>\n      <th>NUM_VISITS</th>\n      <th>BERT_SUM</th>\n      <th>RNN_SUM</th>\n      <th>href</th>\n      <th>BERT_AVG</th>\n      <th>RNN_AVG</th>\n    </tr>\n  </thead>\n  <tbody>\n    <tr>\n      <th>0</th>\n      <td>415</td>\n      <td>GB000010</td>\n      <td>UNITED KINGDOM</td>\n      <td>University of Edinburgh</td>\n      <td>교환학생방문학생SAP(정규)</td>\n      <td>교환대학SAF</td>\n      <td>7.0</td>\n      <td>7.0</td>\n      <td>5.607286</td>\n      <td>/partner/expReport.asp?ucode=GB000010&amp;bgbn=A</td>\n      <td>1.000000</td>\n      <td>0.801041</td>\n    </tr>\n    <tr>\n      <th>1</th>\n      <td>475</td>\n      <td>US000055</td>\n      <td>UNITED STATES</td>\n      <td>Cornell College</td>\n      <td>교환학생</td>\n      <td>교환대학</td>\n      <td>10.0</td>\n      <td>10.0</td>\n      <td>5.366041</td>\n      <td>/partner/expReport.asp?ucode=US000055&amp;bgbn=A</td>\n      <td>1.000000</td>\n      <td>0.536604</td>\n    </tr>\n    <tr>\n      <th>2</th>\n      <td>221</td>\n      <td>IT000003</td>\n      <td>ITALY</td>\n      <td>Universita Cattolica del Sacro Cuore</td>\n      <td>교환학생</td>\n      <td>ISEP</td>\n      <td>6.0</td>\n      <td>6.0</td>\n      <td>3.092777</td>\n      <td>/partner/expReport.asp?ucode=IT000003&amp;bgbn=A</td>\n      <td>1.000000</td>\n      <td>0.515463</td>\n    </tr>\n    <tr>\n      <th>3</th>\n      <td>246</td>\n      <td>JP000017</td>\n      <td>JAPAN</td>\n      <td>Nagasaki University</td>\n      <td>교환학생</td>\n      <td>교환대학</td>\n      <td>7.0</td>\n      <td>7.0</td>\n      <td>4.619841</td>\n      <td>/partner/expReport.asp?ucode=JP000017&amp;bgbn=A</td>\n      <td>1.000000</td>\n      <td>0.659977</td>\n    </tr>\n    <tr>\n      <th>4</th>\n      <td>284</td>\n      <td>MX000004</td>\n      <td>MEXICO</td>\n      <td>Instituto Tecnologico y de Estudios Superiores...</td>\n      <td>교환학생</td>\n      <td>교환대학ISEP</td>\n      <td>7.0</td>\n      <td>7.0</td>\n      <td>5.665700</td>\n      <td>/partner/expReport.asp?ucode=MX000004&amp;bgbn=A</td>\n      <td>1.000000</td>\n      <td>0.809386</td>\n    </tr>\n    <tr>\n      <th>...</th>\n      <td>...</td>\n      <td>...</td>\n      <td>...</td>\n      <td>...</td>\n      <td>...</td>\n      <td>...</td>\n      <td>...</td>\n      <td>...</td>\n      <td>...</td>\n      <td>...</td>\n      <td>...</td>\n      <td>...</td>\n    </tr>\n    <tr>\n      <th>303</th>\n      <td>172</td>\n      <td>DE000008</td>\n      <td>GERMANY</td>\n      <td>Ludwig-Maximilians-Universitat Munchen</td>\n      <td>교환학생</td>\n      <td>교환대학</td>\n      <td>31.0</td>\n      <td>13.0</td>\n      <td>21.730792</td>\n      <td>/partner/expReport.asp?ucode=DE000008&amp;bgbn=A</td>\n      <td>0.419355</td>\n      <td>0.700993</td>\n    </tr>\n    <tr>\n      <th>304</th>\n      <td>408</td>\n      <td>GB000039</td>\n      <td>UNITED KINGDOM</td>\n      <td>University of Birmingham</td>\n      <td>NaN</td>\n      <td>교환대학ISEP</td>\n      <td>5.0</td>\n      <td>2.0</td>\n      <td>2.948399</td>\n      <td>/partner/expReport.asp?ucode=GB000039&amp;bgbn=A</td>\n      <td>0.400000</td>\n      <td>0.589680</td>\n    </tr>\n    <tr>\n      <th>305</th>\n      <td>82</td>\n      <td>CN000007</td>\n      <td>CHINA</td>\n      <td>Nanjing University</td>\n      <td>교환학생</td>\n      <td>교환대학</td>\n      <td>10.0</td>\n      <td>4.0</td>\n      <td>6.720541</td>\n      <td>/partner/expReport.asp?ucode=CN000007&amp;bgbn=A</td>\n      <td>0.400000</td>\n      <td>0.672054</td>\n    </tr>\n    <tr>\n      <th>306</th>\n      <td>383</td>\n      <td>TW000005</td>\n      <td>TAIWAN</td>\n      <td>National Taiwan University, College of Management</td>\n      <td>교환학생</td>\n      <td>교환대학</td>\n      <td>6.0</td>\n      <td>2.0</td>\n      <td>3.883967</td>\n      <td>/partner/expReport.asp?ucode=TW000005&amp;bgbn=A</td>\n      <td>0.333333</td>\n      <td>0.647328</td>\n    </tr>\n    <tr>\n      <th>307</th>\n      <td>354</td>\n      <td>ES000017</td>\n      <td>SPAIN</td>\n      <td>Universitat Autonoma de Barcelona</td>\n      <td>교환학생</td>\n      <td>교환대학</td>\n      <td>7.0</td>\n      <td>0.0</td>\n      <td>4.854875</td>\n      <td>/partner/expReport.asp?ucode=ES000017&amp;bgbn=A</td>\n      <td>0.000000</td>\n      <td>0.693554</td>\n    </tr>\n  </tbody>\n</table>\n<p>308 rows × 12 columns</p>\n</div>"
     },
     "metadata": {},
     "execution_count": 65
    }
   ],
   "source": [
    "df_enough_visits_sort = df_enough_visits.sort_values(by=[\"BERT_AVG\"], ascending=False)\n",
    "df_enough_visits_sort.reset_index()"
   ]
  },
  {
   "cell_type": "markdown",
   "metadata": {},
   "source": [
    "## Sort according to BERT and RNN average score combined"
   ]
  },
  {
   "cell_type": "code",
   "execution_count": 67,
   "metadata": {},
   "outputs": [
    {
     "output_type": "execute_result",
     "data": {
      "text/plain": "         대학코드             국가                                            대학명  \\\n506  US000065  UNITED STATES                               Elmhurst College   \n54   CA000008         CANADA                     Thompson Rivers University   \n117  FI000005        FINLAND                        The University of Turku   \n578  US000133  UNITED STATES     Northwestern State University of Louisiana   \n493  US000033  UNITED STATES                                 CSU Stanislaus   \n..        ...            ...                                            ...   \n740  VN000001        VIETNAM         National Economics University of Hanoi   \n741  VN000003        VIETNAM             Vietnam National University, Hanoi   \n742  VN000005        VIETNAM  Vietnam National University, Ho Chi Minh City   \n743  VN000006        VIETNAM                                 Vin University   \n744  ZW000001       ZIMBABWE                         University of Zimbabwe   \n\n     파견구분  협정형태  NUM_VISITS  BERT_SUM   RNN_SUM  \\\n506  교환학생  ISEP         1.0       1.0  0.988630   \n54   교환학생  ISEP         1.0       1.0  0.950352   \n117  교환학생  ISEP         1.0       1.0  0.948164   \n578  교환학생  ISEP         1.0       1.0  0.945189   \n493  교환학생  교환대학         1.0       1.0  0.943452   \n..    ...   ...         ...       ...       ...   \n740  교환학생   NaN         NaN       NaN       NaN   \n741  교환학생  교환대학         NaN       NaN       NaN   \n742   NaN  교환대학         NaN       NaN       NaN   \n743   NaN  교환대학         NaN       NaN       NaN   \n744  교환학생  교환대학         NaN       NaN       NaN   \n\n                                             href  BERT_AVG   RNN_AVG  \\\n506  /partner/expReport.asp?ucode=US000065&bgbn=A       1.0  0.988630   \n54   /partner/expReport.asp?ucode=CA000008&bgbn=A       1.0  0.950352   \n117  /partner/expReport.asp?ucode=FI000005&bgbn=A       1.0  0.948164   \n578  /partner/expReport.asp?ucode=US000133&bgbn=A       1.0  0.945189   \n493  /partner/expReport.asp?ucode=US000033&bgbn=A       1.0  0.943452   \n..                                            ...       ...       ...   \n740  /partner/expReport.asp?ucode=VN000001&bgbn=A       NaN       NaN   \n741  /partner/expReport.asp?ucode=VN000003&bgbn=A       NaN       NaN   \n742  /partner/expReport.asp?ucode=VN000005&bgbn=A       NaN       NaN   \n743  /partner/expReport.asp?ucode=VN000006&bgbn=A       NaN       NaN   \n744  /partner/expReport.asp?ucode=ZW000001&bgbn=A       NaN       NaN   \n\n     BERT_PLUS_RNN_SCORE  \n506             1.988630  \n54              1.950352  \n117             1.948164  \n578             1.945189  \n493             1.943452  \n..                   ...  \n740                  NaN  \n741                  NaN  \n742                  NaN  \n743                  NaN  \n744                  NaN  \n\n[745 rows x 12 columns]",
      "text/html": "<div>\n<style scoped>\n    .dataframe tbody tr th:only-of-type {\n        vertical-align: middle;\n    }\n\n    .dataframe tbody tr th {\n        vertical-align: top;\n    }\n\n    .dataframe thead th {\n        text-align: right;\n    }\n</style>\n<table border=\"1\" class=\"dataframe\">\n  <thead>\n    <tr style=\"text-align: right;\">\n      <th></th>\n      <th>대학코드</th>\n      <th>국가</th>\n      <th>대학명</th>\n      <th>파견구분</th>\n      <th>협정형태</th>\n      <th>NUM_VISITS</th>\n      <th>BERT_SUM</th>\n      <th>RNN_SUM</th>\n      <th>href</th>\n      <th>BERT_AVG</th>\n      <th>RNN_AVG</th>\n      <th>BERT_PLUS_RNN_SCORE</th>\n    </tr>\n  </thead>\n  <tbody>\n    <tr>\n      <th>506</th>\n      <td>US000065</td>\n      <td>UNITED STATES</td>\n      <td>Elmhurst College</td>\n      <td>교환학생</td>\n      <td>ISEP</td>\n      <td>1.0</td>\n      <td>1.0</td>\n      <td>0.988630</td>\n      <td>/partner/expReport.asp?ucode=US000065&amp;bgbn=A</td>\n      <td>1.0</td>\n      <td>0.988630</td>\n      <td>1.988630</td>\n    </tr>\n    <tr>\n      <th>54</th>\n      <td>CA000008</td>\n      <td>CANADA</td>\n      <td>Thompson Rivers University</td>\n      <td>교환학생</td>\n      <td>ISEP</td>\n      <td>1.0</td>\n      <td>1.0</td>\n      <td>0.950352</td>\n      <td>/partner/expReport.asp?ucode=CA000008&amp;bgbn=A</td>\n      <td>1.0</td>\n      <td>0.950352</td>\n      <td>1.950352</td>\n    </tr>\n    <tr>\n      <th>117</th>\n      <td>FI000005</td>\n      <td>FINLAND</td>\n      <td>The University of Turku</td>\n      <td>교환학생</td>\n      <td>ISEP</td>\n      <td>1.0</td>\n      <td>1.0</td>\n      <td>0.948164</td>\n      <td>/partner/expReport.asp?ucode=FI000005&amp;bgbn=A</td>\n      <td>1.0</td>\n      <td>0.948164</td>\n      <td>1.948164</td>\n    </tr>\n    <tr>\n      <th>578</th>\n      <td>US000133</td>\n      <td>UNITED STATES</td>\n      <td>Northwestern State University of Louisiana</td>\n      <td>교환학생</td>\n      <td>ISEP</td>\n      <td>1.0</td>\n      <td>1.0</td>\n      <td>0.945189</td>\n      <td>/partner/expReport.asp?ucode=US000133&amp;bgbn=A</td>\n      <td>1.0</td>\n      <td>0.945189</td>\n      <td>1.945189</td>\n    </tr>\n    <tr>\n      <th>493</th>\n      <td>US000033</td>\n      <td>UNITED STATES</td>\n      <td>CSU Stanislaus</td>\n      <td>교환학생</td>\n      <td>교환대학</td>\n      <td>1.0</td>\n      <td>1.0</td>\n      <td>0.943452</td>\n      <td>/partner/expReport.asp?ucode=US000033&amp;bgbn=A</td>\n      <td>1.0</td>\n      <td>0.943452</td>\n      <td>1.943452</td>\n    </tr>\n    <tr>\n      <th>...</th>\n      <td>...</td>\n      <td>...</td>\n      <td>...</td>\n      <td>...</td>\n      <td>...</td>\n      <td>...</td>\n      <td>...</td>\n      <td>...</td>\n      <td>...</td>\n      <td>...</td>\n      <td>...</td>\n      <td>...</td>\n    </tr>\n    <tr>\n      <th>740</th>\n      <td>VN000001</td>\n      <td>VIETNAM</td>\n      <td>National Economics University of Hanoi</td>\n      <td>교환학생</td>\n      <td>NaN</td>\n      <td>NaN</td>\n      <td>NaN</td>\n      <td>NaN</td>\n      <td>/partner/expReport.asp?ucode=VN000001&amp;bgbn=A</td>\n      <td>NaN</td>\n      <td>NaN</td>\n      <td>NaN</td>\n    </tr>\n    <tr>\n      <th>741</th>\n      <td>VN000003</td>\n      <td>VIETNAM</td>\n      <td>Vietnam National University, Hanoi</td>\n      <td>교환학생</td>\n      <td>교환대학</td>\n      <td>NaN</td>\n      <td>NaN</td>\n      <td>NaN</td>\n      <td>/partner/expReport.asp?ucode=VN000003&amp;bgbn=A</td>\n      <td>NaN</td>\n      <td>NaN</td>\n      <td>NaN</td>\n    </tr>\n    <tr>\n      <th>742</th>\n      <td>VN000005</td>\n      <td>VIETNAM</td>\n      <td>Vietnam National University, Ho Chi Minh City</td>\n      <td>NaN</td>\n      <td>교환대학</td>\n      <td>NaN</td>\n      <td>NaN</td>\n      <td>NaN</td>\n      <td>/partner/expReport.asp?ucode=VN000005&amp;bgbn=A</td>\n      <td>NaN</td>\n      <td>NaN</td>\n      <td>NaN</td>\n    </tr>\n    <tr>\n      <th>743</th>\n      <td>VN000006</td>\n      <td>VIETNAM</td>\n      <td>Vin University</td>\n      <td>NaN</td>\n      <td>교환대학</td>\n      <td>NaN</td>\n      <td>NaN</td>\n      <td>NaN</td>\n      <td>/partner/expReport.asp?ucode=VN000006&amp;bgbn=A</td>\n      <td>NaN</td>\n      <td>NaN</td>\n      <td>NaN</td>\n    </tr>\n    <tr>\n      <th>744</th>\n      <td>ZW000001</td>\n      <td>ZIMBABWE</td>\n      <td>University of Zimbabwe</td>\n      <td>교환학생</td>\n      <td>교환대학</td>\n      <td>NaN</td>\n      <td>NaN</td>\n      <td>NaN</td>\n      <td>/partner/expReport.asp?ucode=ZW000001&amp;bgbn=A</td>\n      <td>NaN</td>\n      <td>NaN</td>\n      <td>NaN</td>\n    </tr>\n  </tbody>\n</table>\n<p>745 rows × 12 columns</p>\n</div>"
     },
     "metadata": {},
     "execution_count": 67
    }
   ],
   "source": [
    "# GET BERT and RNN average\n",
    "df_univ_wrangled[\"BERT_PLUS_RNN_SCORE\"] = df_univ_wrangled[\"BERT_AVG\"] + df_univ_wrangled[\"RNN_AVG\"]\n",
    "df_univ_wrangled.sort_values([\"BERT_PLUS_RNN_SCORE\"], ascending=False)"
   ]
  },
  {
   "cell_type": "code",
   "execution_count": 68,
   "metadata": {
    "tags": []
   },
   "outputs": [
    {
     "output_type": "stream",
     "name": "stdout",
     "text": "(308, 12)\n"
    },
    {
     "output_type": "execute_result",
     "data": {
      "text/plain": "        대학코드         국가                              대학명  파견구분          협정형태  \\\n6   AU000019  AUSTRALIA   Australian National University  교환학생          교환대학   \n7   AU000001  AUSTRALIA                  Bond University  교환학생          교환대학   \n8   AU000002  AUSTRALIA                Curtin University  교환학생      교환대학ISEP   \n9   AU000003  AUSTRALIA  Curtin University of Technology  교환학생           NaN   \n10  AU000004  AUSTRALIA                Deakin University  교환학생  교환대학ISEPUSAC   \n\n    NUM_VISITS  BERT_SUM    RNN_SUM  \\\n6         27.0      17.0  17.952732   \n7         19.0      16.0  13.359809   \n8          7.0       5.0   4.657787   \n9         16.0      14.0   9.696670   \n10        24.0      18.0  17.425120   \n\n                                            href  BERT_AVG   RNN_AVG  \\\n6   /partner/expReport.asp?ucode=AU000019&bgbn=A  0.629630  0.664916   \n7   /partner/expReport.asp?ucode=AU000001&bgbn=A  0.842105  0.703148   \n8   /partner/expReport.asp?ucode=AU000002&bgbn=A  0.714286  0.665398   \n9   /partner/expReport.asp?ucode=AU000003&bgbn=A  0.875000  0.606042   \n10  /partner/expReport.asp?ucode=AU000004&bgbn=A  0.750000  0.726047   \n\n    BERT_PLUS_RNN_SCORE  \n6              1.294546  \n7              1.545253  \n8              1.379684  \n9              1.481042  \n10             1.476047  ",
      "text/html": "<div>\n<style scoped>\n    .dataframe tbody tr th:only-of-type {\n        vertical-align: middle;\n    }\n\n    .dataframe tbody tr th {\n        vertical-align: top;\n    }\n\n    .dataframe thead th {\n        text-align: right;\n    }\n</style>\n<table border=\"1\" class=\"dataframe\">\n  <thead>\n    <tr style=\"text-align: right;\">\n      <th></th>\n      <th>대학코드</th>\n      <th>국가</th>\n      <th>대학명</th>\n      <th>파견구분</th>\n      <th>협정형태</th>\n      <th>NUM_VISITS</th>\n      <th>BERT_SUM</th>\n      <th>RNN_SUM</th>\n      <th>href</th>\n      <th>BERT_AVG</th>\n      <th>RNN_AVG</th>\n      <th>BERT_PLUS_RNN_SCORE</th>\n    </tr>\n  </thead>\n  <tbody>\n    <tr>\n      <th>6</th>\n      <td>AU000019</td>\n      <td>AUSTRALIA</td>\n      <td>Australian National University</td>\n      <td>교환학생</td>\n      <td>교환대학</td>\n      <td>27.0</td>\n      <td>17.0</td>\n      <td>17.952732</td>\n      <td>/partner/expReport.asp?ucode=AU000019&amp;bgbn=A</td>\n      <td>0.629630</td>\n      <td>0.664916</td>\n      <td>1.294546</td>\n    </tr>\n    <tr>\n      <th>7</th>\n      <td>AU000001</td>\n      <td>AUSTRALIA</td>\n      <td>Bond University</td>\n      <td>교환학생</td>\n      <td>교환대학</td>\n      <td>19.0</td>\n      <td>16.0</td>\n      <td>13.359809</td>\n      <td>/partner/expReport.asp?ucode=AU000001&amp;bgbn=A</td>\n      <td>0.842105</td>\n      <td>0.703148</td>\n      <td>1.545253</td>\n    </tr>\n    <tr>\n      <th>8</th>\n      <td>AU000002</td>\n      <td>AUSTRALIA</td>\n      <td>Curtin University</td>\n      <td>교환학생</td>\n      <td>교환대학ISEP</td>\n      <td>7.0</td>\n      <td>5.0</td>\n      <td>4.657787</td>\n      <td>/partner/expReport.asp?ucode=AU000002&amp;bgbn=A</td>\n      <td>0.714286</td>\n      <td>0.665398</td>\n      <td>1.379684</td>\n    </tr>\n    <tr>\n      <th>9</th>\n      <td>AU000003</td>\n      <td>AUSTRALIA</td>\n      <td>Curtin University of Technology</td>\n      <td>교환학생</td>\n      <td>NaN</td>\n      <td>16.0</td>\n      <td>14.0</td>\n      <td>9.696670</td>\n      <td>/partner/expReport.asp?ucode=AU000003&amp;bgbn=A</td>\n      <td>0.875000</td>\n      <td>0.606042</td>\n      <td>1.481042</td>\n    </tr>\n    <tr>\n      <th>10</th>\n      <td>AU000004</td>\n      <td>AUSTRALIA</td>\n      <td>Deakin University</td>\n      <td>교환학생</td>\n      <td>교환대학ISEPUSAC</td>\n      <td>24.0</td>\n      <td>18.0</td>\n      <td>17.425120</td>\n      <td>/partner/expReport.asp?ucode=AU000004&amp;bgbn=A</td>\n      <td>0.750000</td>\n      <td>0.726047</td>\n      <td>1.476047</td>\n    </tr>\n  </tbody>\n</table>\n</div>"
     },
     "metadata": {},
     "execution_count": 68
    }
   ],
   "source": [
    "# Looking at cases with enough number of visits\n",
    "NUMBER_OF_VISITS = 5\n",
    "df_enough_visits = df_univ_wrangled.loc[df_univ_wrangled['NUM_VISITS'] >= NUMBER_OF_VISITS]\n",
    "print(df_enough_visits.shape)\n",
    "df_enough_visits.head()"
   ]
  },
  {
   "cell_type": "code",
   "execution_count": 71,
   "metadata": {},
   "outputs": [
    {
     "output_type": "execute_result",
     "data": {
      "text/plain": "    index      대학코드              국가  \\\n0     376  CH000004     SWITZERLAND   \n1     284  MX000004          MEXICO   \n2     415  GB000010  UNITED KINGDOM   \n3     361  SE000003          SWEDEN   \n4     264  JP000033           JAPAN   \n5     547  US000104   UNITED STATES   \n6     521  US000079   UNITED STATES   \n7      27  AT000001         AUSTRIA   \n8     731  US000273   UNITED STATES   \n9      87  CN000010           CHINA   \n10     49  CA000003          CANADA   \n11    480  US000022   UNITED STATES   \n12    168  DE000017         GERMANY   \n13    369  SE000011          SWEDEN   \n14    667  US000214   UNITED STATES   \n\n                                                  대학명             파견구분  \\\n0                              University of Lausanne             교환학생   \n1   Instituto Tecnologico y de Estudios Superiores...             교환학생   \n2                             University of Edinburgh  교환학생방문학생SAP(정규)   \n3                             Kristianstad University             교환학생   \n4                                 University of Tokyo             교환학생   \n5                                   Maryville College             교환학생   \n6                      Hobart & William Smith College             교환학생   \n7    FH Kufstein Tirol University of Applied Sciences             교환학생   \n8                                 Westminster College             교환학생   \n9                                 Shandong University             교환학생   \n10                               Dalhousie University             교환학생   \n11                                          CSU Chico             교환학생   \n12                     Humboldt-Universitat zu Berlin             교환학생   \n13                           University of Gothenburg             교환학생   \n14                                University of Miami             교환학생   \n\n        협정형태  NUM_VISITS  BERT_SUM    RNN_SUM  \\\n0   교환대학ISEP         8.0       8.0   6.659102   \n1   교환대학ISEP         7.0       7.0   5.665700   \n2    교환대학SAF         7.0       7.0   5.607286   \n3       교환대학        49.0      47.0  39.341540   \n4       교환대학        10.0       9.0   8.218766   \n5       교환대학        28.0      27.0  21.112275   \n6       교환대학        28.0      26.0  21.590119   \n7       교환대학        40.0      36.0  31.848505   \n8       교환대학        23.0      21.0  17.890283   \n9       교환대학         8.0       7.0   6.468337   \n10      교환대학         6.0       6.0   4.088647   \n11      교환대학        21.0      19.0  16.284026   \n12      교환대학        28.0      27.0  19.999718   \n13      교환대학        28.0      27.0  19.829802   \n14      교환대학        12.0      11.0   9.031297   \n\n                                            href  BERT_AVG   RNN_AVG  \\\n0   /partner/expReport.asp?ucode=CH000004&bgbn=A  1.000000  0.832388   \n1   /partner/expReport.asp?ucode=MX000004&bgbn=A  1.000000  0.809386   \n2   /partner/expReport.asp?ucode=GB000010&bgbn=A  1.000000  0.801041   \n3   /partner/expReport.asp?ucode=SE000003&bgbn=A  0.959184  0.802889   \n4   /partner/expReport.asp?ucode=JP000033&bgbn=A  0.900000  0.821877   \n5   /partner/expReport.asp?ucode=US000104&bgbn=A  0.964286  0.754010   \n6   /partner/expReport.asp?ucode=US000079&bgbn=A  0.928571  0.771076   \n7   /partner/expReport.asp?ucode=AT000001&bgbn=A  0.900000  0.796213   \n8   /partner/expReport.asp?ucode=US000273&bgbn=A  0.913043  0.777838   \n9   /partner/expReport.asp?ucode=CN000010&bgbn=A  0.875000  0.808542   \n10  /partner/expReport.asp?ucode=CA000003&bgbn=A  1.000000  0.681441   \n11  /partner/expReport.asp?ucode=US000022&bgbn=A  0.904762  0.775430   \n12  /partner/expReport.asp?ucode=DE000017&bgbn=A  0.964286  0.714276   \n13  /partner/expReport.asp?ucode=SE000011&bgbn=A  0.964286  0.708207   \n14  /partner/expReport.asp?ucode=US000214&bgbn=A  0.916667  0.752608   \n\n    BERT_PLUS_RNN_SCORE  \n0              1.832388  \n1              1.809386  \n2              1.801041  \n3              1.762072  \n4              1.721877  \n5              1.718296  \n6              1.699647  \n7              1.696213  \n8              1.690882  \n9              1.683542  \n10             1.681441  \n11             1.680192  \n12             1.678561  \n13             1.672493  \n14             1.669275  ",
      "text/html": "<div>\n<style scoped>\n    .dataframe tbody tr th:only-of-type {\n        vertical-align: middle;\n    }\n\n    .dataframe tbody tr th {\n        vertical-align: top;\n    }\n\n    .dataframe thead th {\n        text-align: right;\n    }\n</style>\n<table border=\"1\" class=\"dataframe\">\n  <thead>\n    <tr style=\"text-align: right;\">\n      <th></th>\n      <th>index</th>\n      <th>대학코드</th>\n      <th>국가</th>\n      <th>대학명</th>\n      <th>파견구분</th>\n      <th>협정형태</th>\n      <th>NUM_VISITS</th>\n      <th>BERT_SUM</th>\n      <th>RNN_SUM</th>\n      <th>href</th>\n      <th>BERT_AVG</th>\n      <th>RNN_AVG</th>\n      <th>BERT_PLUS_RNN_SCORE</th>\n    </tr>\n  </thead>\n  <tbody>\n    <tr>\n      <th>0</th>\n      <td>376</td>\n      <td>CH000004</td>\n      <td>SWITZERLAND</td>\n      <td>University of Lausanne</td>\n      <td>교환학생</td>\n      <td>교환대학ISEP</td>\n      <td>8.0</td>\n      <td>8.0</td>\n      <td>6.659102</td>\n      <td>/partner/expReport.asp?ucode=CH000004&amp;bgbn=A</td>\n      <td>1.000000</td>\n      <td>0.832388</td>\n      <td>1.832388</td>\n    </tr>\n    <tr>\n      <th>1</th>\n      <td>284</td>\n      <td>MX000004</td>\n      <td>MEXICO</td>\n      <td>Instituto Tecnologico y de Estudios Superiores...</td>\n      <td>교환학생</td>\n      <td>교환대학ISEP</td>\n      <td>7.0</td>\n      <td>7.0</td>\n      <td>5.665700</td>\n      <td>/partner/expReport.asp?ucode=MX000004&amp;bgbn=A</td>\n      <td>1.000000</td>\n      <td>0.809386</td>\n      <td>1.809386</td>\n    </tr>\n    <tr>\n      <th>2</th>\n      <td>415</td>\n      <td>GB000010</td>\n      <td>UNITED KINGDOM</td>\n      <td>University of Edinburgh</td>\n      <td>교환학생방문학생SAP(정규)</td>\n      <td>교환대학SAF</td>\n      <td>7.0</td>\n      <td>7.0</td>\n      <td>5.607286</td>\n      <td>/partner/expReport.asp?ucode=GB000010&amp;bgbn=A</td>\n      <td>1.000000</td>\n      <td>0.801041</td>\n      <td>1.801041</td>\n    </tr>\n    <tr>\n      <th>3</th>\n      <td>361</td>\n      <td>SE000003</td>\n      <td>SWEDEN</td>\n      <td>Kristianstad University</td>\n      <td>교환학생</td>\n      <td>교환대학</td>\n      <td>49.0</td>\n      <td>47.0</td>\n      <td>39.341540</td>\n      <td>/partner/expReport.asp?ucode=SE000003&amp;bgbn=A</td>\n      <td>0.959184</td>\n      <td>0.802889</td>\n      <td>1.762072</td>\n    </tr>\n    <tr>\n      <th>4</th>\n      <td>264</td>\n      <td>JP000033</td>\n      <td>JAPAN</td>\n      <td>University of Tokyo</td>\n      <td>교환학생</td>\n      <td>교환대학</td>\n      <td>10.0</td>\n      <td>9.0</td>\n      <td>8.218766</td>\n      <td>/partner/expReport.asp?ucode=JP000033&amp;bgbn=A</td>\n      <td>0.900000</td>\n      <td>0.821877</td>\n      <td>1.721877</td>\n    </tr>\n    <tr>\n      <th>5</th>\n      <td>547</td>\n      <td>US000104</td>\n      <td>UNITED STATES</td>\n      <td>Maryville College</td>\n      <td>교환학생</td>\n      <td>교환대학</td>\n      <td>28.0</td>\n      <td>27.0</td>\n      <td>21.112275</td>\n      <td>/partner/expReport.asp?ucode=US000104&amp;bgbn=A</td>\n      <td>0.964286</td>\n      <td>0.754010</td>\n      <td>1.718296</td>\n    </tr>\n    <tr>\n      <th>6</th>\n      <td>521</td>\n      <td>US000079</td>\n      <td>UNITED STATES</td>\n      <td>Hobart &amp; William Smith College</td>\n      <td>교환학생</td>\n      <td>교환대학</td>\n      <td>28.0</td>\n      <td>26.0</td>\n      <td>21.590119</td>\n      <td>/partner/expReport.asp?ucode=US000079&amp;bgbn=A</td>\n      <td>0.928571</td>\n      <td>0.771076</td>\n      <td>1.699647</td>\n    </tr>\n    <tr>\n      <th>7</th>\n      <td>27</td>\n      <td>AT000001</td>\n      <td>AUSTRIA</td>\n      <td>FH Kufstein Tirol University of Applied Sciences</td>\n      <td>교환학생</td>\n      <td>교환대학</td>\n      <td>40.0</td>\n      <td>36.0</td>\n      <td>31.848505</td>\n      <td>/partner/expReport.asp?ucode=AT000001&amp;bgbn=A</td>\n      <td>0.900000</td>\n      <td>0.796213</td>\n      <td>1.696213</td>\n    </tr>\n    <tr>\n      <th>8</th>\n      <td>731</td>\n      <td>US000273</td>\n      <td>UNITED STATES</td>\n      <td>Westminster College</td>\n      <td>교환학생</td>\n      <td>교환대학</td>\n      <td>23.0</td>\n      <td>21.0</td>\n      <td>17.890283</td>\n      <td>/partner/expReport.asp?ucode=US000273&amp;bgbn=A</td>\n      <td>0.913043</td>\n      <td>0.777838</td>\n      <td>1.690882</td>\n    </tr>\n    <tr>\n      <th>9</th>\n      <td>87</td>\n      <td>CN000010</td>\n      <td>CHINA</td>\n      <td>Shandong University</td>\n      <td>교환학생</td>\n      <td>교환대학</td>\n      <td>8.0</td>\n      <td>7.0</td>\n      <td>6.468337</td>\n      <td>/partner/expReport.asp?ucode=CN000010&amp;bgbn=A</td>\n      <td>0.875000</td>\n      <td>0.808542</td>\n      <td>1.683542</td>\n    </tr>\n    <tr>\n      <th>10</th>\n      <td>49</td>\n      <td>CA000003</td>\n      <td>CANADA</td>\n      <td>Dalhousie University</td>\n      <td>교환학생</td>\n      <td>교환대학</td>\n      <td>6.0</td>\n      <td>6.0</td>\n      <td>4.088647</td>\n      <td>/partner/expReport.asp?ucode=CA000003&amp;bgbn=A</td>\n      <td>1.000000</td>\n      <td>0.681441</td>\n      <td>1.681441</td>\n    </tr>\n    <tr>\n      <th>11</th>\n      <td>480</td>\n      <td>US000022</td>\n      <td>UNITED STATES</td>\n      <td>CSU Chico</td>\n      <td>교환학생</td>\n      <td>교환대학</td>\n      <td>21.0</td>\n      <td>19.0</td>\n      <td>16.284026</td>\n      <td>/partner/expReport.asp?ucode=US000022&amp;bgbn=A</td>\n      <td>0.904762</td>\n      <td>0.775430</td>\n      <td>1.680192</td>\n    </tr>\n    <tr>\n      <th>12</th>\n      <td>168</td>\n      <td>DE000017</td>\n      <td>GERMANY</td>\n      <td>Humboldt-Universitat zu Berlin</td>\n      <td>교환학생</td>\n      <td>교환대학</td>\n      <td>28.0</td>\n      <td>27.0</td>\n      <td>19.999718</td>\n      <td>/partner/expReport.asp?ucode=DE000017&amp;bgbn=A</td>\n      <td>0.964286</td>\n      <td>0.714276</td>\n      <td>1.678561</td>\n    </tr>\n    <tr>\n      <th>13</th>\n      <td>369</td>\n      <td>SE000011</td>\n      <td>SWEDEN</td>\n      <td>University of Gothenburg</td>\n      <td>교환학생</td>\n      <td>교환대학</td>\n      <td>28.0</td>\n      <td>27.0</td>\n      <td>19.829802</td>\n      <td>/partner/expReport.asp?ucode=SE000011&amp;bgbn=A</td>\n      <td>0.964286</td>\n      <td>0.708207</td>\n      <td>1.672493</td>\n    </tr>\n    <tr>\n      <th>14</th>\n      <td>667</td>\n      <td>US000214</td>\n      <td>UNITED STATES</td>\n      <td>University of Miami</td>\n      <td>교환학생</td>\n      <td>교환대학</td>\n      <td>12.0</td>\n      <td>11.0</td>\n      <td>9.031297</td>\n      <td>/partner/expReport.asp?ucode=US000214&amp;bgbn=A</td>\n      <td>0.916667</td>\n      <td>0.752608</td>\n      <td>1.669275</td>\n    </tr>\n  </tbody>\n</table>\n</div>"
     },
     "metadata": {},
     "execution_count": 71
    }
   ],
   "source": [
    "df_enough_visits_sort = df_enough_visits.sort_values(by=[\"BERT_PLUS_RNN_SCORE\"], ascending=False)\n",
    "df_ranking = df_enough_visits_sort.reset_index()\n",
    "df_ranking.head(15)"
   ]
  },
  {
   "cell_type": "code",
   "execution_count": 72,
   "metadata": {},
   "outputs": [
    {
     "output_type": "execute_result",
     "data": {
      "text/plain": "     index      대학코드                  국가  \\\n293    220  IT000008               ITALY   \n294    628  US000179       UNITED STATES   \n295    334  RU000002  RUSSIAN FEDERATION   \n296    404  GB000033      UNITED KINGDOM   \n297    486  US000021       UNITED STATES   \n298    126  FR000004              FRANCE   \n299    172  DE000008             GERMANY   \n300    187  CN000004           HONG KONG   \n301    257  JP000026               JAPAN   \n302     82  CN000007               CHINA   \n303    300  NL000013         NETHERLANDS   \n304     94  CN000015               CHINA   \n305    408  GB000039      UNITED KINGDOM   \n306    383  TW000005              TAIWAN   \n307    354  ES000017               SPAIN   \n\n                                                   대학명  파견구분      협정형태  \\\n293                                  Luiss Guido Carli  교환학생      교환대학   \n294            Thunderbird School of Global Management  교환학생      교환대학   \n295                            Moscow State University  교환학생      교환대학   \n296                         SOAS, University of London  교환학생      교환대학   \n297                                    CSU Los Angeles  교환학생      교환대학   \n298  Ecole Superieure des Sciences Economiques et C...  교환학생      교환대학   \n299             Ludwig-Maximilians-Universitat Munchen  교환학생      교환대학   \n300                   Hong Kong Polytechnic University  교환학생      교환대학   \n301                                  Sophia University  교환학생      교환대학   \n302                                 Nanjing University  교환학생      교환대학   \n303                       Amsterdam University College  교환학생       NaN   \n304                                Tsinghua University  교환학생      교환대학   \n305                           University of Birmingham   NaN  교환대학ISEP   \n306  National Taiwan University, College of Management  교환학생      교환대학   \n307                  Universitat Autonoma de Barcelona  교환학생      교환대학   \n\n     NUM_VISITS  BERT_SUM    RNN_SUM  \\\n293        20.0      10.0  13.335463   \n294         8.0       5.0   4.247788   \n295        29.0      14.0  19.249699   \n296         9.0       4.0   6.251262   \n297         8.0       4.0   5.026329   \n298         7.0       3.0   4.874636   \n299        31.0      13.0  21.730792   \n300        53.0      23.0  36.354918   \n301         7.0       3.0   4.519462   \n302        10.0       4.0   6.720541   \n303        17.0       8.0  10.136701   \n304         9.0       4.0   5.523812   \n305         5.0       2.0   2.948399   \n306         6.0       2.0   3.883967   \n307         7.0       0.0   4.854875   \n\n                                             href  BERT_AVG   RNN_AVG  \\\n293  /partner/expReport.asp?ucode=IT000008&bgbn=A  0.500000  0.666773   \n294  /partner/expReport.asp?ucode=US000179&bgbn=A  0.625000  0.530974   \n295  /partner/expReport.asp?ucode=RU000002&bgbn=A  0.482759  0.663783   \n296  /partner/expReport.asp?ucode=GB000033&bgbn=A  0.444444  0.694585   \n297  /partner/expReport.asp?ucode=US000021&bgbn=A  0.500000  0.628291   \n298  /partner/expReport.asp?ucode=FR000004&bgbn=A  0.428571  0.696377   \n299  /partner/expReport.asp?ucode=DE000008&bgbn=A  0.419355  0.700993   \n300  /partner/expReport.asp?ucode=CN000004&bgbn=A  0.433962  0.685942   \n301  /partner/expReport.asp?ucode=JP000026&bgbn=A  0.428571  0.645637   \n302  /partner/expReport.asp?ucode=CN000007&bgbn=A  0.400000  0.672054   \n303  /partner/expReport.asp?ucode=NL000013&bgbn=A  0.470588  0.596277   \n304  /partner/expReport.asp?ucode=CN000015&bgbn=A  0.444444  0.613757   \n305  /partner/expReport.asp?ucode=GB000039&bgbn=A  0.400000  0.589680   \n306  /partner/expReport.asp?ucode=TW000005&bgbn=A  0.333333  0.647328   \n307  /partner/expReport.asp?ucode=ES000017&bgbn=A  0.000000  0.693554   \n\n     BERT_PLUS_RNN_SCORE  \n293             1.166773  \n294             1.155974  \n295             1.146541  \n296             1.139029  \n297             1.128291  \n298             1.124948  \n299             1.120348  \n300             1.119904  \n301             1.074209  \n302             1.072054  \n303             1.066865  \n304             1.058201  \n305             0.989680  \n306             0.980661  \n307             0.693554  ",
      "text/html": "<div>\n<style scoped>\n    .dataframe tbody tr th:only-of-type {\n        vertical-align: middle;\n    }\n\n    .dataframe tbody tr th {\n        vertical-align: top;\n    }\n\n    .dataframe thead th {\n        text-align: right;\n    }\n</style>\n<table border=\"1\" class=\"dataframe\">\n  <thead>\n    <tr style=\"text-align: right;\">\n      <th></th>\n      <th>index</th>\n      <th>대학코드</th>\n      <th>국가</th>\n      <th>대학명</th>\n      <th>파견구분</th>\n      <th>협정형태</th>\n      <th>NUM_VISITS</th>\n      <th>BERT_SUM</th>\n      <th>RNN_SUM</th>\n      <th>href</th>\n      <th>BERT_AVG</th>\n      <th>RNN_AVG</th>\n      <th>BERT_PLUS_RNN_SCORE</th>\n    </tr>\n  </thead>\n  <tbody>\n    <tr>\n      <th>293</th>\n      <td>220</td>\n      <td>IT000008</td>\n      <td>ITALY</td>\n      <td>Luiss Guido Carli</td>\n      <td>교환학생</td>\n      <td>교환대학</td>\n      <td>20.0</td>\n      <td>10.0</td>\n      <td>13.335463</td>\n      <td>/partner/expReport.asp?ucode=IT000008&amp;bgbn=A</td>\n      <td>0.500000</td>\n      <td>0.666773</td>\n      <td>1.166773</td>\n    </tr>\n    <tr>\n      <th>294</th>\n      <td>628</td>\n      <td>US000179</td>\n      <td>UNITED STATES</td>\n      <td>Thunderbird School of Global Management</td>\n      <td>교환학생</td>\n      <td>교환대학</td>\n      <td>8.0</td>\n      <td>5.0</td>\n      <td>4.247788</td>\n      <td>/partner/expReport.asp?ucode=US000179&amp;bgbn=A</td>\n      <td>0.625000</td>\n      <td>0.530974</td>\n      <td>1.155974</td>\n    </tr>\n    <tr>\n      <th>295</th>\n      <td>334</td>\n      <td>RU000002</td>\n      <td>RUSSIAN FEDERATION</td>\n      <td>Moscow State University</td>\n      <td>교환학생</td>\n      <td>교환대학</td>\n      <td>29.0</td>\n      <td>14.0</td>\n      <td>19.249699</td>\n      <td>/partner/expReport.asp?ucode=RU000002&amp;bgbn=A</td>\n      <td>0.482759</td>\n      <td>0.663783</td>\n      <td>1.146541</td>\n    </tr>\n    <tr>\n      <th>296</th>\n      <td>404</td>\n      <td>GB000033</td>\n      <td>UNITED KINGDOM</td>\n      <td>SOAS, University of London</td>\n      <td>교환학생</td>\n      <td>교환대학</td>\n      <td>9.0</td>\n      <td>4.0</td>\n      <td>6.251262</td>\n      <td>/partner/expReport.asp?ucode=GB000033&amp;bgbn=A</td>\n      <td>0.444444</td>\n      <td>0.694585</td>\n      <td>1.139029</td>\n    </tr>\n    <tr>\n      <th>297</th>\n      <td>486</td>\n      <td>US000021</td>\n      <td>UNITED STATES</td>\n      <td>CSU Los Angeles</td>\n      <td>교환학생</td>\n      <td>교환대학</td>\n      <td>8.0</td>\n      <td>4.0</td>\n      <td>5.026329</td>\n      <td>/partner/expReport.asp?ucode=US000021&amp;bgbn=A</td>\n      <td>0.500000</td>\n      <td>0.628291</td>\n      <td>1.128291</td>\n    </tr>\n    <tr>\n      <th>298</th>\n      <td>126</td>\n      <td>FR000004</td>\n      <td>FRANCE</td>\n      <td>Ecole Superieure des Sciences Economiques et C...</td>\n      <td>교환학생</td>\n      <td>교환대학</td>\n      <td>7.0</td>\n      <td>3.0</td>\n      <td>4.874636</td>\n      <td>/partner/expReport.asp?ucode=FR000004&amp;bgbn=A</td>\n      <td>0.428571</td>\n      <td>0.696377</td>\n      <td>1.124948</td>\n    </tr>\n    <tr>\n      <th>299</th>\n      <td>172</td>\n      <td>DE000008</td>\n      <td>GERMANY</td>\n      <td>Ludwig-Maximilians-Universitat Munchen</td>\n      <td>교환학생</td>\n      <td>교환대학</td>\n      <td>31.0</td>\n      <td>13.0</td>\n      <td>21.730792</td>\n      <td>/partner/expReport.asp?ucode=DE000008&amp;bgbn=A</td>\n      <td>0.419355</td>\n      <td>0.700993</td>\n      <td>1.120348</td>\n    </tr>\n    <tr>\n      <th>300</th>\n      <td>187</td>\n      <td>CN000004</td>\n      <td>HONG KONG</td>\n      <td>Hong Kong Polytechnic University</td>\n      <td>교환학생</td>\n      <td>교환대학</td>\n      <td>53.0</td>\n      <td>23.0</td>\n      <td>36.354918</td>\n      <td>/partner/expReport.asp?ucode=CN000004&amp;bgbn=A</td>\n      <td>0.433962</td>\n      <td>0.685942</td>\n      <td>1.119904</td>\n    </tr>\n    <tr>\n      <th>301</th>\n      <td>257</td>\n      <td>JP000026</td>\n      <td>JAPAN</td>\n      <td>Sophia University</td>\n      <td>교환학생</td>\n      <td>교환대학</td>\n      <td>7.0</td>\n      <td>3.0</td>\n      <td>4.519462</td>\n      <td>/partner/expReport.asp?ucode=JP000026&amp;bgbn=A</td>\n      <td>0.428571</td>\n      <td>0.645637</td>\n      <td>1.074209</td>\n    </tr>\n    <tr>\n      <th>302</th>\n      <td>82</td>\n      <td>CN000007</td>\n      <td>CHINA</td>\n      <td>Nanjing University</td>\n      <td>교환학생</td>\n      <td>교환대학</td>\n      <td>10.0</td>\n      <td>4.0</td>\n      <td>6.720541</td>\n      <td>/partner/expReport.asp?ucode=CN000007&amp;bgbn=A</td>\n      <td>0.400000</td>\n      <td>0.672054</td>\n      <td>1.072054</td>\n    </tr>\n    <tr>\n      <th>303</th>\n      <td>300</td>\n      <td>NL000013</td>\n      <td>NETHERLANDS</td>\n      <td>Amsterdam University College</td>\n      <td>교환학생</td>\n      <td>NaN</td>\n      <td>17.0</td>\n      <td>8.0</td>\n      <td>10.136701</td>\n      <td>/partner/expReport.asp?ucode=NL000013&amp;bgbn=A</td>\n      <td>0.470588</td>\n      <td>0.596277</td>\n      <td>1.066865</td>\n    </tr>\n    <tr>\n      <th>304</th>\n      <td>94</td>\n      <td>CN000015</td>\n      <td>CHINA</td>\n      <td>Tsinghua University</td>\n      <td>교환학생</td>\n      <td>교환대학</td>\n      <td>9.0</td>\n      <td>4.0</td>\n      <td>5.523812</td>\n      <td>/partner/expReport.asp?ucode=CN000015&amp;bgbn=A</td>\n      <td>0.444444</td>\n      <td>0.613757</td>\n      <td>1.058201</td>\n    </tr>\n    <tr>\n      <th>305</th>\n      <td>408</td>\n      <td>GB000039</td>\n      <td>UNITED KINGDOM</td>\n      <td>University of Birmingham</td>\n      <td>NaN</td>\n      <td>교환대학ISEP</td>\n      <td>5.0</td>\n      <td>2.0</td>\n      <td>2.948399</td>\n      <td>/partner/expReport.asp?ucode=GB000039&amp;bgbn=A</td>\n      <td>0.400000</td>\n      <td>0.589680</td>\n      <td>0.989680</td>\n    </tr>\n    <tr>\n      <th>306</th>\n      <td>383</td>\n      <td>TW000005</td>\n      <td>TAIWAN</td>\n      <td>National Taiwan University, College of Management</td>\n      <td>교환학생</td>\n      <td>교환대학</td>\n      <td>6.0</td>\n      <td>2.0</td>\n      <td>3.883967</td>\n      <td>/partner/expReport.asp?ucode=TW000005&amp;bgbn=A</td>\n      <td>0.333333</td>\n      <td>0.647328</td>\n      <td>0.980661</td>\n    </tr>\n    <tr>\n      <th>307</th>\n      <td>354</td>\n      <td>ES000017</td>\n      <td>SPAIN</td>\n      <td>Universitat Autonoma de Barcelona</td>\n      <td>교환학생</td>\n      <td>교환대학</td>\n      <td>7.0</td>\n      <td>0.0</td>\n      <td>4.854875</td>\n      <td>/partner/expReport.asp?ucode=ES000017&amp;bgbn=A</td>\n      <td>0.000000</td>\n      <td>0.693554</td>\n      <td>0.693554</td>\n    </tr>\n  </tbody>\n</table>\n</div>"
     },
     "metadata": {},
     "execution_count": 72
    }
   ],
   "source": [
    "df_ranking.tail(15)"
   ]
  },
  {
   "cell_type": "code",
   "execution_count": 73,
   "metadata": {},
   "outputs": [],
   "source": [
    "df_ranking.to_csv(\"./data_wrangled/df_ranking.csv\",encoding=\"utf-8\", index=False)"
   ]
  },
  {
   "cell_type": "code",
   "execution_count": null,
   "metadata": {},
   "outputs": [],
   "source": []
  }
 ]
}