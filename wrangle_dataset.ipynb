{
 "metadata": {
  "language_info": {
   "codemirror_mode": {
    "name": "ipython",
    "version": 3
   },
   "file_extension": ".py",
   "mimetype": "text/x-python",
   "name": "python",
   "nbconvert_exporter": "python",
   "pygments_lexer": "ipython3",
   "version": "3.8.1-final"
  },
  "orig_nbformat": 2,
  "kernelspec": {
   "name": "python38164bitd84bd39789ae4619b6b50c356f0457fc",
   "display_name": "Python 3.8.1 64-bit"
  }
 },
 "nbformat": 4,
 "nbformat_minor": 2,
 "cells": [
  {
   "cell_type": "code",
   "execution_count": 95,
   "metadata": {},
   "outputs": [],
   "source": [
    "UNIV_COLUMNS = ['대학코드', '국가', '대학명', '파견구분', '협정형태', 'NUM_VISITS', \"BERT_SUM\", \"RNN_SUM\", 'href']\n",
    "ABSTRACT_REVIEWS_COLUMNS = ['대학코드', '제목', '학과', '과정', '년도', 'BERT_SCORE', 'RNN_SCORE', 'href']\n",
    "SPECIFIC_COLUMNS = [\"대학코드\", \"대학명\", \"국가\", \"파견구분\", \"협정형태\", \"학과\", \"제목\", \"과정\", \"년도\", \"college_link\", \"review_link\",  \"gen_info\",\"env_info\",\"food_info\",\"study_info\",\"office_info\" \"facil_info\",\"mhct_info\",\"help_info\",\"etc_info\", \"BERT_SCORE\", \"RNN_SCORE\"]"
   ]
  },
  {
   "cell_type": "code",
   "execution_count": 96,
   "metadata": {},
   "outputs": [],
   "source": [
    "# import all modules\n",
    "import os\n",
    "from os import fdopen, remove\n",
    "import glob\n",
    "from tempfile import mkstemp\n",
    "import shutil\n",
    "from shutil import move, copymode\n",
    "\n",
    "import pandas as pd\n",
    "import numpy as np"
   ]
  },
  {
   "cell_type": "markdown",
   "metadata": {},
   "source": [
    "## wrangle abstract review dataset"
   ]
  },
  {
   "cell_type": "code",
   "execution_count": 97,
   "metadata": {},
   "outputs": [],
   "source": [
    "# define path for sentiment labeled dataset\n",
    "# abstract: 짧은 후기 제목만 있는 텍스트 데이터셋\n",
    "# specific: 문단으로 구성된 텍스트 데이터셋\n",
    "\n",
    "abstract_sentiment = \"./data_sentiment/abstract\"\n",
    "specific_sentiment = \"./data_sentiment/specific\""
   ]
  },
  {
   "cell_type": "code",
   "execution_count": 98,
   "metadata": {},
   "outputs": [
    {
     "output_type": "execute_result",
     "data": {
      "text/plain": "['./data_sentiment/abstract/730     _review_abstract_sentiment.csv',\n './data_sentiment/abstract/AR000004_review_abstract_sentiment.csv',\n './data_sentiment/abstract/AT000001_review_abstract_sentiment.csv',\n './data_sentiment/abstract/AT000002_review_abstract_sentiment.csv',\n './data_sentiment/abstract/AT000003_review_abstract_sentiment.csv']"
     },
     "metadata": {},
     "execution_count": 98
    }
   ],
   "source": [
    "# fetch all yonsei exchange review text datasets for each foreign universities\n",
    "abstract_yonsei_reviews = glob.glob(f\"{abstract_sentiment}/*.csv\")\n",
    "abstract_yonsei_reviews.sort()\n",
    "abstract_yonsei_reviews[:5]"
   ]
  },
  {
   "cell_type": "code",
   "execution_count": 99,
   "metadata": {
    "tags": []
   },
   "outputs": [
    {
     "output_type": "stream",
     "name": "stdout",
     "text": "CN000022_review_abstract_sentiment\nCN000022\n"
    },
    {
     "output_type": "execute_result",
     "data": {
      "text/plain": "    Unnamed: 0  No                    제목        학과  과정    년도  \\\n3            3  15            북경대학교 교환생활    중어중문학과  학부  2018   \n0            0  18  PKU Exchange Program  언더우드국제대학  학부  2019   \n10          10   8              북경대 교환생활       사학과  학부  2016   \n7            7  11    가을학기 북경대학교 교환학생 파견    정치외교학과  학부  2017   \n8            8  10           북경대학교 경험보고서     아시아학부  학부  2017   \n\n                                             href  BERT_SCORE  RNN_SCORE  \n3   /partner/expReport.asp?id=15513&page=1&bgbn=R           0   0.602057  \n0   /partner/expReport.asp?id=16451&page=1&bgbn=R           0   0.515649  \n10  /partner/expReport.asp?id=13623&page=2&bgbn=R           0   0.484792  \n7   /partner/expReport.asp?id=14422&page=1&bgbn=R           1   0.800448  \n8   /partner/expReport.asp?id=14387&page=1&bgbn=R           1   0.775683  ",
      "text/html": "<div>\n<style scoped>\n    .dataframe tbody tr th:only-of-type {\n        vertical-align: middle;\n    }\n\n    .dataframe tbody tr th {\n        vertical-align: top;\n    }\n\n    .dataframe thead th {\n        text-align: right;\n    }\n</style>\n<table border=\"1\" class=\"dataframe\">\n  <thead>\n    <tr style=\"text-align: right;\">\n      <th></th>\n      <th>Unnamed: 0</th>\n      <th>No</th>\n      <th>제목</th>\n      <th>학과</th>\n      <th>과정</th>\n      <th>년도</th>\n      <th>href</th>\n      <th>BERT_SCORE</th>\n      <th>RNN_SCORE</th>\n    </tr>\n  </thead>\n  <tbody>\n    <tr>\n      <th>3</th>\n      <td>3</td>\n      <td>15</td>\n      <td>북경대학교 교환생활</td>\n      <td>중어중문학과</td>\n      <td>학부</td>\n      <td>2018</td>\n      <td>/partner/expReport.asp?id=15513&amp;page=1&amp;bgbn=R</td>\n      <td>0</td>\n      <td>0.602057</td>\n    </tr>\n    <tr>\n      <th>0</th>\n      <td>0</td>\n      <td>18</td>\n      <td>PKU Exchange Program</td>\n      <td>언더우드국제대학</td>\n      <td>학부</td>\n      <td>2019</td>\n      <td>/partner/expReport.asp?id=16451&amp;page=1&amp;bgbn=R</td>\n      <td>0</td>\n      <td>0.515649</td>\n    </tr>\n    <tr>\n      <th>10</th>\n      <td>10</td>\n      <td>8</td>\n      <td>북경대 교환생활</td>\n      <td>사학과</td>\n      <td>학부</td>\n      <td>2016</td>\n      <td>/partner/expReport.asp?id=13623&amp;page=2&amp;bgbn=R</td>\n      <td>0</td>\n      <td>0.484792</td>\n    </tr>\n    <tr>\n      <th>7</th>\n      <td>7</td>\n      <td>11</td>\n      <td>가을학기 북경대학교 교환학생 파견</td>\n      <td>정치외교학과</td>\n      <td>학부</td>\n      <td>2017</td>\n      <td>/partner/expReport.asp?id=14422&amp;page=1&amp;bgbn=R</td>\n      <td>1</td>\n      <td>0.800448</td>\n    </tr>\n    <tr>\n      <th>8</th>\n      <td>8</td>\n      <td>10</td>\n      <td>북경대학교 경험보고서</td>\n      <td>아시아학부</td>\n      <td>학부</td>\n      <td>2017</td>\n      <td>/partner/expReport.asp?id=14387&amp;page=1&amp;bgbn=R</td>\n      <td>1</td>\n      <td>0.775683</td>\n    </tr>\n  </tbody>\n</table>\n</div>"
     },
     "metadata": {},
     "execution_count": 99
    }
   ],
   "source": [
    "# get sample dataset\n",
    "sample_file = abstract_yonsei_reviews[70]\n",
    "\n",
    "# extract file name\n",
    "file_name = sample_file.split(\"/\")[-1]\n",
    "file_name_without_ext = file_name.split(\".\")[0]\n",
    "print(file_name_without_ext)\n",
    "\n",
    "# extract university code\n",
    "univ_code_sample = file_name_without_ext.split(\"_\")[0]\n",
    "print(univ_code_sample)\n",
    "\n",
    "# read sample dataset\n",
    "df_abstract = pd.read_csv(sample_file, encoding=\"utf-8\")\n",
    "df_abstract.sample(5)"
   ]
  },
  {
   "cell_type": "code",
   "execution_count": 103,
   "metadata": {},
   "outputs": [
    {
     "output_type": "execute_result",
     "data": {
      "text/plain": "       대학코드                    제목        학과  과정    년도  BERT_SCORE  RNN_SCORE  \\\n0  CN000022  PKU Exchange Program  언더우드국제대학  학부  2019           0   0.515649   \n1  CN000022             베이징대 교환생활    중어중문학과  학부  2019           0   0.484792   \n2  CN000022            북경대학교 교환학생    정치외교학과  학부  2019           0   0.664221   \n3  CN000022            북경대학교 교환생활    중어중문학과  학부  2018           0   0.602057   \n4  CN000022    북경대학교에서의 한 학기 교환생활      경영학과  학부  2018           1   0.697339   \n\n                                            href  \n0  /partner/expReport.asp?id=16451&page=1&bgbn=R  \n1  /partner/expReport.asp?id=16194&page=1&bgbn=R  \n2  /partner/expReport.asp?id=15979&page=1&bgbn=R  \n3  /partner/expReport.asp?id=15513&page=1&bgbn=R  \n4  /partner/expReport.asp?id=15209&page=1&bgbn=R  ",
      "text/html": "<div>\n<style scoped>\n    .dataframe tbody tr th:only-of-type {\n        vertical-align: middle;\n    }\n\n    .dataframe tbody tr th {\n        vertical-align: top;\n    }\n\n    .dataframe thead th {\n        text-align: right;\n    }\n</style>\n<table border=\"1\" class=\"dataframe\">\n  <thead>\n    <tr style=\"text-align: right;\">\n      <th></th>\n      <th>대학코드</th>\n      <th>제목</th>\n      <th>학과</th>\n      <th>과정</th>\n      <th>년도</th>\n      <th>BERT_SCORE</th>\n      <th>RNN_SCORE</th>\n      <th>href</th>\n    </tr>\n  </thead>\n  <tbody>\n    <tr>\n      <th>0</th>\n      <td>CN000022</td>\n      <td>PKU Exchange Program</td>\n      <td>언더우드국제대학</td>\n      <td>학부</td>\n      <td>2019</td>\n      <td>0</td>\n      <td>0.515649</td>\n      <td>/partner/expReport.asp?id=16451&amp;page=1&amp;bgbn=R</td>\n    </tr>\n    <tr>\n      <th>1</th>\n      <td>CN000022</td>\n      <td>베이징대 교환생활</td>\n      <td>중어중문학과</td>\n      <td>학부</td>\n      <td>2019</td>\n      <td>0</td>\n      <td>0.484792</td>\n      <td>/partner/expReport.asp?id=16194&amp;page=1&amp;bgbn=R</td>\n    </tr>\n    <tr>\n      <th>2</th>\n      <td>CN000022</td>\n      <td>북경대학교 교환학생</td>\n      <td>정치외교학과</td>\n      <td>학부</td>\n      <td>2019</td>\n      <td>0</td>\n      <td>0.664221</td>\n      <td>/partner/expReport.asp?id=15979&amp;page=1&amp;bgbn=R</td>\n    </tr>\n    <tr>\n      <th>3</th>\n      <td>CN000022</td>\n      <td>북경대학교 교환생활</td>\n      <td>중어중문학과</td>\n      <td>학부</td>\n      <td>2018</td>\n      <td>0</td>\n      <td>0.602057</td>\n      <td>/partner/expReport.asp?id=15513&amp;page=1&amp;bgbn=R</td>\n    </tr>\n    <tr>\n      <th>4</th>\n      <td>CN000022</td>\n      <td>북경대학교에서의 한 학기 교환생활</td>\n      <td>경영학과</td>\n      <td>학부</td>\n      <td>2018</td>\n      <td>1</td>\n      <td>0.697339</td>\n      <td>/partner/expReport.asp?id=15209&amp;page=1&amp;bgbn=R</td>\n    </tr>\n  </tbody>\n</table>\n</div>"
     },
     "metadata": {},
     "execution_count": 103
    }
   ],
   "source": [
    "df_abstract_review = df_abstract[[\"제목\", \"학과\", \"과정\", \"년도\", \"BERT_SCORE\", \"RNN_SCORE\", \"href\"]]\n",
    "df_abstract_review[\"대학코드\"] = univ_code_sample\n",
    "_abstract_review = df_abstract[[\"제목\", \"학과\", \"과정\", \"년도\", \"BERT_SCORE\", \"RNN_SCORE\", \"href\"]]\n",
    "df_abstract_review[\"대학코드\"] = univ_code_sample\n",
    "df_abstract_review = df_abstract_review[[\"대학코드\",\"제목\", \"학과\", \"과정\", \"년도\", \"BERT_SCORE\", \"RNN_SCORE\", \"href\"]]\n",
    "df_abstract_review.head()"
   ]
  },
  {
   "cell_type": "code",
   "execution_count": 104,
   "metadata": {},
   "outputs": [
    {
     "output_type": "execute_result",
     "data": {
      "text/plain": "['대학코드', '제목', '학과', '과정', '년도', 'BERT_SCORE', 'RNN_SCORE', 'href']"
     },
     "metadata": {},
     "execution_count": 104
    }
   ],
   "source": [
    "df_abstract_review.columns.to_list()"
   ]
  },
  {
   "cell_type": "code",
   "execution_count": 105,
   "metadata": {},
   "outputs": [],
   "source": [
    "def make_abstract_review_df(UNIV_CODE):\n",
    "    file_path = f\"./data_sentiment/abstract/{UNIV_CODE}_review_abstract_sentiment.csv\"\n",
    "    df_abstract = pd.read_csv(file_path, encoding=\"utf-8\")\n",
    "    df_abstract_review = df_abstract[[\"제목\", \"학과\", \"과정\", \"년도\", \"BERT_SCORE\", \"RNN_SCORE\", \"href\"]]\n",
    "    df_abstract_review[\"대학코드\"] = UNIV_CODE\n",
    "    _abstract_review = df_abstract[[\"제목\", \"학과\", \"과정\", \"년도\", \"BERT_SCORE\", \"RNN_SCORE\", \"href\"]]\n",
    "    df_abstract_review[\"대학코드\"] = UNIV_CODE\n",
    "    df_abstract_review = df_abstract_review[[\"대학코드\",\"제목\", \"학과\", \"과정\", \"년도\", \"BERT_SCORE\", \"RNN_SCORE\", \"href\"]]\n",
    "    return df_abstract_review"
   ]
  },
  {
   "cell_type": "code",
   "execution_count": 106,
   "metadata": {},
   "outputs": [
    {
     "output_type": "execute_result",
     "data": {
      "text/plain": "       대학코드                            제목        학과  과정         년도  \\\n0  DK000003                       1년의 휘게!      건축학과  학부  2018-2019   \n1  DK000003                     1년의 Hygge      국제학과  학부       2019   \n2  DK000003         코펜하겐 대학교에서의 한 학기! 최고!      경제학과  학부       2019   \n3  DK000003              인생에서 가장 행복했던 1년!      심리학과  학부       2019   \n4  DK000003  코펜하겐대학교 교환 가세요ㅠㅠㅠㅠ 고민하지 마세요!  언론홍보영상학부  학부       2019   \n\n   BERT_SCORE  RNN_SCORE                                           href  \n0           1   0.414879  /partner/expReport.asp?id=16597&page=1&bgbn=R  \n1           1   0.523097  /partner/expReport.asp?id=16079&page=1&bgbn=R  \n2           1   0.931257  /partner/expReport.asp?id=16028&page=1&bgbn=R  \n3           1   0.967065  /partner/expReport.asp?id=15938&page=1&bgbn=R  \n4           0   0.651389  /partner/expReport.asp?id=15829&page=1&bgbn=R  ",
      "text/html": "<div>\n<style scoped>\n    .dataframe tbody tr th:only-of-type {\n        vertical-align: middle;\n    }\n\n    .dataframe tbody tr th {\n        vertical-align: top;\n    }\n\n    .dataframe thead th {\n        text-align: right;\n    }\n</style>\n<table border=\"1\" class=\"dataframe\">\n  <thead>\n    <tr style=\"text-align: right;\">\n      <th></th>\n      <th>대학코드</th>\n      <th>제목</th>\n      <th>학과</th>\n      <th>과정</th>\n      <th>년도</th>\n      <th>BERT_SCORE</th>\n      <th>RNN_SCORE</th>\n      <th>href</th>\n    </tr>\n  </thead>\n  <tbody>\n    <tr>\n      <th>0</th>\n      <td>DK000003</td>\n      <td>1년의 휘게!</td>\n      <td>건축학과</td>\n      <td>학부</td>\n      <td>2018-2019</td>\n      <td>1</td>\n      <td>0.414879</td>\n      <td>/partner/expReport.asp?id=16597&amp;page=1&amp;bgbn=R</td>\n    </tr>\n    <tr>\n      <th>1</th>\n      <td>DK000003</td>\n      <td>1년의 Hygge</td>\n      <td>국제학과</td>\n      <td>학부</td>\n      <td>2019</td>\n      <td>1</td>\n      <td>0.523097</td>\n      <td>/partner/expReport.asp?id=16079&amp;page=1&amp;bgbn=R</td>\n    </tr>\n    <tr>\n      <th>2</th>\n      <td>DK000003</td>\n      <td>코펜하겐 대학교에서의 한 학기! 최고!</td>\n      <td>경제학과</td>\n      <td>학부</td>\n      <td>2019</td>\n      <td>1</td>\n      <td>0.931257</td>\n      <td>/partner/expReport.asp?id=16028&amp;page=1&amp;bgbn=R</td>\n    </tr>\n    <tr>\n      <th>3</th>\n      <td>DK000003</td>\n      <td>인생에서 가장 행복했던 1년!</td>\n      <td>심리학과</td>\n      <td>학부</td>\n      <td>2019</td>\n      <td>1</td>\n      <td>0.967065</td>\n      <td>/partner/expReport.asp?id=15938&amp;page=1&amp;bgbn=R</td>\n    </tr>\n    <tr>\n      <th>4</th>\n      <td>DK000003</td>\n      <td>코펜하겐대학교 교환 가세요ㅠㅠㅠㅠ 고민하지 마세요!</td>\n      <td>언론홍보영상학부</td>\n      <td>학부</td>\n      <td>2019</td>\n      <td>0</td>\n      <td>0.651389</td>\n      <td>/partner/expReport.asp?id=15829&amp;page=1&amp;bgbn=R</td>\n    </tr>\n  </tbody>\n</table>\n</div>"
     },
     "metadata": {},
     "execution_count": 106
    }
   ],
   "source": [
    "df1 = make_abstract_review_df(\"DK000003\")\n",
    "df1.head()"
   ]
  },
  {
   "cell_type": "code",
   "execution_count": 107,
   "metadata": {},
   "outputs": [
    {
     "output_type": "execute_result",
     "data": {
      "text/plain": "       대학코드             제목        학과  과정    년도  BERT_SCORE  RNN_SCORE  \\\n0  CN000016           홍콩대,       UIC  학부  2018           0   0.523097   \n1  CN000016       홍콩대 교환학생  언더우드국제학부  학부  2019           0   0.523097   \n2  CN000016  홍콩대학교에서의 한 학기    응용통계학과  학부  2019           1   0.744596   \n3  CN000016    홍콩대학교 교환 후기    언더우드학과  학부  2019           0   0.640901   \n4  CN000016   홍콩대학교에서의 한학기    불어불문학과  학부  2019           1   0.744596   \n\n                                            href  \n0  /partner/expReport.asp?id=16495&page=1&bgbn=R  \n1  /partner/expReport.asp?id=16326&page=1&bgbn=R  \n2  /partner/expReport.asp?id=15804&page=1&bgbn=R  \n3  /partner/expReport.asp?id=15751&page=1&bgbn=R  \n4  /partner/expReport.asp?id=15710&page=1&bgbn=R  ",
      "text/html": "<div>\n<style scoped>\n    .dataframe tbody tr th:only-of-type {\n        vertical-align: middle;\n    }\n\n    .dataframe tbody tr th {\n        vertical-align: top;\n    }\n\n    .dataframe thead th {\n        text-align: right;\n    }\n</style>\n<table border=\"1\" class=\"dataframe\">\n  <thead>\n    <tr style=\"text-align: right;\">\n      <th></th>\n      <th>대학코드</th>\n      <th>제목</th>\n      <th>학과</th>\n      <th>과정</th>\n      <th>년도</th>\n      <th>BERT_SCORE</th>\n      <th>RNN_SCORE</th>\n      <th>href</th>\n    </tr>\n  </thead>\n  <tbody>\n    <tr>\n      <th>0</th>\n      <td>CN000016</td>\n      <td>홍콩대,</td>\n      <td>UIC</td>\n      <td>학부</td>\n      <td>2018</td>\n      <td>0</td>\n      <td>0.523097</td>\n      <td>/partner/expReport.asp?id=16495&amp;page=1&amp;bgbn=R</td>\n    </tr>\n    <tr>\n      <th>1</th>\n      <td>CN000016</td>\n      <td>홍콩대 교환학생</td>\n      <td>언더우드국제학부</td>\n      <td>학부</td>\n      <td>2019</td>\n      <td>0</td>\n      <td>0.523097</td>\n      <td>/partner/expReport.asp?id=16326&amp;page=1&amp;bgbn=R</td>\n    </tr>\n    <tr>\n      <th>2</th>\n      <td>CN000016</td>\n      <td>홍콩대학교에서의 한 학기</td>\n      <td>응용통계학과</td>\n      <td>학부</td>\n      <td>2019</td>\n      <td>1</td>\n      <td>0.744596</td>\n      <td>/partner/expReport.asp?id=15804&amp;page=1&amp;bgbn=R</td>\n    </tr>\n    <tr>\n      <th>3</th>\n      <td>CN000016</td>\n      <td>홍콩대학교 교환 후기</td>\n      <td>언더우드학과</td>\n      <td>학부</td>\n      <td>2019</td>\n      <td>0</td>\n      <td>0.640901</td>\n      <td>/partner/expReport.asp?id=15751&amp;page=1&amp;bgbn=R</td>\n    </tr>\n    <tr>\n      <th>4</th>\n      <td>CN000016</td>\n      <td>홍콩대학교에서의 한학기</td>\n      <td>불어불문학과</td>\n      <td>학부</td>\n      <td>2019</td>\n      <td>1</td>\n      <td>0.744596</td>\n      <td>/partner/expReport.asp?id=15710&amp;page=1&amp;bgbn=R</td>\n    </tr>\n  </tbody>\n</table>\n</div>"
     },
     "metadata": {},
     "execution_count": 107
    }
   ],
   "source": [
    "df2 = make_abstract_review_df(\"CN000016\")\n",
    "df2.head()"
   ]
  },
  {
   "cell_type": "code",
   "execution_count": 108,
   "metadata": {},
   "outputs": [
    {
     "output_type": "execute_result",
     "data": {
      "text/plain": "        대학코드                          제목          학과  과정         년도  \\\n36  DK000003                    신 맛 코펜하겐  언론홍보영상/사회학  학부       2009   \n0   CN000016                        홍콩대,         UIC  학부       2018   \n27  CN000016              홍콩에서의 잊지못할 경험!      국어국문학과  학부       2015   \n30  DK000003            고생한만큼 즐거웠던 코펜하겐!      신문방송학과  학부       2011   \n33  DK000003  사랑스런 코펜하겐!!!!!!!!!!!!!!!!!        경제학과  학부  2011-2012   \n\n    BERT_SCORE  RNN_SCORE                                           href  \n36           1   0.497112   /partner/expReport.asp?id=5327&page=4&bgbn=R  \n0            0   0.523097  /partner/expReport.asp?id=16495&page=1&bgbn=R  \n27           1   0.959675  /partner/expReport.asp?id=12344&page=3&bgbn=R  \n30           1   0.920942   /partner/expReport.asp?id=6650&page=4&bgbn=R  \n33           1   0.947517   /partner/expReport.asp?id=5733&page=4&bgbn=R  ",
      "text/html": "<div>\n<style scoped>\n    .dataframe tbody tr th:only-of-type {\n        vertical-align: middle;\n    }\n\n    .dataframe tbody tr th {\n        vertical-align: top;\n    }\n\n    .dataframe thead th {\n        text-align: right;\n    }\n</style>\n<table border=\"1\" class=\"dataframe\">\n  <thead>\n    <tr style=\"text-align: right;\">\n      <th></th>\n      <th>대학코드</th>\n      <th>제목</th>\n      <th>학과</th>\n      <th>과정</th>\n      <th>년도</th>\n      <th>BERT_SCORE</th>\n      <th>RNN_SCORE</th>\n      <th>href</th>\n    </tr>\n  </thead>\n  <tbody>\n    <tr>\n      <th>36</th>\n      <td>DK000003</td>\n      <td>신 맛 코펜하겐</td>\n      <td>언론홍보영상/사회학</td>\n      <td>학부</td>\n      <td>2009</td>\n      <td>1</td>\n      <td>0.497112</td>\n      <td>/partner/expReport.asp?id=5327&amp;page=4&amp;bgbn=R</td>\n    </tr>\n    <tr>\n      <th>0</th>\n      <td>CN000016</td>\n      <td>홍콩대,</td>\n      <td>UIC</td>\n      <td>학부</td>\n      <td>2018</td>\n      <td>0</td>\n      <td>0.523097</td>\n      <td>/partner/expReport.asp?id=16495&amp;page=1&amp;bgbn=R</td>\n    </tr>\n    <tr>\n      <th>27</th>\n      <td>CN000016</td>\n      <td>홍콩에서의 잊지못할 경험!</td>\n      <td>국어국문학과</td>\n      <td>학부</td>\n      <td>2015</td>\n      <td>1</td>\n      <td>0.959675</td>\n      <td>/partner/expReport.asp?id=12344&amp;page=3&amp;bgbn=R</td>\n    </tr>\n    <tr>\n      <th>30</th>\n      <td>DK000003</td>\n      <td>고생한만큼 즐거웠던 코펜하겐!</td>\n      <td>신문방송학과</td>\n      <td>학부</td>\n      <td>2011</td>\n      <td>1</td>\n      <td>0.920942</td>\n      <td>/partner/expReport.asp?id=6650&amp;page=4&amp;bgbn=R</td>\n    </tr>\n    <tr>\n      <th>33</th>\n      <td>DK000003</td>\n      <td>사랑스런 코펜하겐!!!!!!!!!!!!!!!!!</td>\n      <td>경제학과</td>\n      <td>학부</td>\n      <td>2011-2012</td>\n      <td>1</td>\n      <td>0.947517</td>\n      <td>/partner/expReport.asp?id=5733&amp;page=4&amp;bgbn=R</td>\n    </tr>\n  </tbody>\n</table>\n</div>"
     },
     "metadata": {},
     "execution_count": 108
    }
   ],
   "source": [
    "df_concat = pd.concat([df1,df2])\n",
    "df_concat.sample(5)"
   ]
  },
  {
   "cell_type": "code",
   "execution_count": 110,
   "metadata": {
    "tags": []
   },
   "outputs": [
    {
     "output_type": "stream",
     "name": "stdout",
     "text": "470\n"
    },
    {
     "output_type": "execute_result",
     "data": {
      "text/plain": "[       대학코드                제목               학과  과정    년도  BERT_SCORE  \\\n 0  730       리투아니아에서 행복했던 4개월  사회복지학과/언론홍보영상학부  학부  2019           1   \n \n    RNN_SCORE                                           href  \n 0   0.752021  /partner/expReport.asp?id=16663&page=1&bgbn=R  ,\n        대학코드                    제목    학과  과정      년도  BERT_SCORE  RNN_SCORE  \\\n 0  AR000004  아르헨티나 교환학생(어학연수프로그램)  건축학과  학부  2013-1           0    0.39967   \n \n                                            href  \n 0  /partner/expReport.asp?id=6947&page=1&bgbn=R  ,\n         대학코드                                        제목        학과  과정  \\\n 0   AT000001                       쿠프슈타인에서 노후 50년 땡겨쓰기      경영학과  학부   \n 1   AT000001                           평화로운 쿠프에서의 한 학기        경제  학부   \n 2   AT000001                   소중한 경험, 잊지 못할 기억, 쿠프슈타인   언론홍보영상학  학부   \n 3   AT000001                        언제나 마음속의 고향인 쿠프슈타인    중어중문학과  학부   \n 4   AT000001                    자연이 아름다운 쿠프슈타인에서의 한 학기    정치외교학과  학부   \n 5   AT000001                       여유로웠던 쿠프슈타인에서의 한 학기      행정학과  학부   \n 6   AT000001                             쿠프슈타인에서의 한 학기      경제학부  학부   \n 7   AT000001                     여유롭고 소중했던 쿠프슈타인에서의 시간      경제학부  학부   \n 8   AT000001                            마냥 아름다웠던 쿠프슈타인  언론홍보영상학부  학부   \n 9   AT000001      교환생활이 벌써 끝났다는게 믿기지 않아요. 다시 돌아가고 싶네요.    정치외교학과  학부   \n 10  AT000001                                유럽에서의 한 학기      경제학과  학부   \n 11  AT000001               한 여름밤의 꿈 같았던, 오스트리아에서의 한 학기      경제학부  학부   \n 12  AT000001                                 여유로웠던 한학기      경제학과  학부   \n 13  AT000001                              언제나 아련한 교환생활     응용통계학  학부   \n 14  AT000001                    포근한 추억이 된 쿠프슈타인에서의 한학기      경영학과  학부   \n 15  AT000001                             Kufstein에서의 삶      경영학과  학부   \n 16  AT000001                   대학생활 중 최고의 선택이었던 쿠프슈타인!    영어영문학과  학부   \n 17  AT000001           대학 생활 중 최고의 선택이었던 쿠프슈타인에서의 한 학기      경제학과  학부   \n 18  AT000001                            쿠프에서의 즐거웠던 5개월      경영학과  학부   \n 19  AT000001                특별한 모멘텀이 되어줬던 쿠프슈타인에서의 6개월      경제학과  학부   \n 20  AT000001                              쿠프슈타인에서의 한학기      정치외교  학부   \n 21  AT000001                                 쿠프에서의 한학기      경영학과  학부   \n 22  AT000001                            너무나 행복했던 쿠프슈타인      행정학과  학부   \n 23  AT000001                           쿠프슈타인에서의 느긋한 한때      행정학과  학부   \n 24  AT000001                     최고의 경험. 쿠프슈타인에서의 한학기.      경제학과  학부   \n 25  AT000001                     자연이 아름다운 쿠프슈타인에서의 한학기      경영학과  학부   \n 26  AT000001                            노을이 아름다운 그 곳..    사회복지학과  학부   \n 27  AT000001                   그리울 수 밖에 없는 곳, Kufstein      심리학과  학부   \n 28  AT000001               삶의 활력소가 되어준 Kufstein에서의 한학기      경영학과  학부   \n 29  AT000001                             kufstein에서의1년      경영학과  학부   \n 30  AT000001                       알프스의 향기가 있는 아름다운 곳.      경영학과  학부   \n 31  AT000001                           2009년 겨울의 쿠프슈타인      경영대학  학부   \n 32  AT000001                          알프스에서의 꿈같던 유럽생활~      경영학과  학부   \n 33  AT000001             평생 잊을 수 없는 추억을 만든 곳, Kufstein      경영학과  학부   \n 34  AT000001                           마음의 고향 Kufstein      경제학과  학부   \n 35  AT000001                  잊지못할 Kufstein에서의 교환학생 경험      경영학과  학부   \n 36  AT000001          평생 안고 갈 추억들을 쌓아 준 Kufstein에서의 1년      경영학과  학부   \n 37  AT000001                         FHS Kustein에서의 겨울      경영학과  학부   \n 38  AT000001               Keiser 산맥 으로 둘러 쌓인 Kufstein      경영학과  학부   \n 39  AT000001  Life in kufstein, Tirol, Austria, Europe      경영학과  학부   \n \n            년도  BERT_SCORE  RNN_SCORE  \\\n 0   2017-2018           0   0.416185   \n 1   2017ㅡ2018           1   0.816743   \n 2        2017           1   0.854657   \n 3        2017           1   0.834800   \n 4        2017           1   0.870668   \n 5        2017           1   0.816663   \n 6        2016           1   0.731432   \n 7        2016           1   0.852968   \n 8        2016           1   0.892930   \n 9        2016           1   0.946470   \n 10       2015           1   0.674954   \n 11       2016           1   0.804807   \n 12       2015           1   0.742174   \n 13       2014           1   0.904622   \n 14       2015           1   0.886201   \n 15       2014           1   0.871341   \n 16       2014           1   0.945168   \n 17       2014           1   0.936024   \n 18       2014           1   0.862567   \n 19  2013-2014           1   0.841384   \n 20  2013-2014           1   0.731432   \n 21       2013           1   0.731432   \n 22       2013           1   0.959038   \n 23       2012           1   0.575551   \n 24       2012           1   0.949966   \n 25  2011-2012           1   0.870668   \n 26       2011           1   0.926623   \n 27       2011           1   0.810447   \n 28  2010-2011           1   0.922544   \n 29       2010           0   0.731432   \n 30       2010           1   0.918543   \n 31       2009           1   0.684230   \n 32       2009           1   0.761829   \n 33       2008           1   0.970384   \n 34       2008           1   0.647233   \n 35       2006           0   0.910061   \n 36  2005-2006           1   0.718975   \n 37       2006           1   0.730913   \n 38  2005-2006           0   0.273242   \n 39       2006           1   0.521203   \n \n                                              href  \n 0   /partner/expReport.asp?id=15098&page=1&bgbn=R  \n 1   /partner/expReport.asp?id=14709&page=1&bgbn=R  \n 2   /partner/expReport.asp?id=14264&page=1&bgbn=R  \n 3   /partner/expReport.asp?id=14181&page=1&bgbn=R  \n 4   /partner/expReport.asp?id=14102&page=1&bgbn=R  \n 5   /partner/expReport.asp?id=14094&page=1&bgbn=R  \n 6   /partner/expReport.asp?id=13866&page=1&bgbn=R  \n 7   /partner/expReport.asp?id=13822&page=1&bgbn=R  \n 8   /partner/expReport.asp?id=13366&page=1&bgbn=R  \n 9   /partner/expReport.asp?id=13270&page=1&bgbn=R  \n 10  /partner/expReport.asp?id=13188&page=2&bgbn=R  \n 11  /partner/expReport.asp?id=13130&page=2&bgbn=R  \n 12  /partner/expReport.asp?id=12755&page=2&bgbn=R  \n 13  /partner/expReport.asp?id=12367&page=2&bgbn=R  \n 14  /partner/expReport.asp?id=12331&page=2&bgbn=R  \n 15  /partner/expReport.asp?id=10776&page=2&bgbn=R  \n 16  /partner/expReport.asp?id=10680&page=2&bgbn=R  \n 17   /partner/expReport.asp?id=7452&page=2&bgbn=R  \n 18   /partner/expReport.asp?id=7391&page=2&bgbn=R  \n 19   /partner/expReport.asp?id=6991&page=2&bgbn=R  \n 20   /partner/expReport.asp?id=6942&page=3&bgbn=R  \n 21   /partner/expReport.asp?id=6939&page=3&bgbn=R  \n 22   /partner/expReport.asp?id=6680&page=3&bgbn=R  \n 23   /partner/expReport.asp?id=6274&page=3&bgbn=R  \n 24   /partner/expReport.asp?id=6153&page=3&bgbn=R  \n 25   /partner/expReport.asp?id=5645&page=3&bgbn=R  \n 26   /partner/expReport.asp?id=5204&page=3&bgbn=R  \n 27   /partner/expReport.asp?id=5125&page=3&bgbn=R  \n 28   /partner/expReport.asp?id=4787&page=3&bgbn=R  \n 29   /partner/expReport.asp?id=4704&page=3&bgbn=R  \n 30   /partner/expReport.asp?id=4480&page=4&bgbn=R  \n 31   /partner/expReport.asp?id=4479&page=4&bgbn=R  \n 32   /partner/expReport.asp?id=4285&page=4&bgbn=R  \n 33   /partner/expReport.asp?id=3683&page=4&bgbn=R  \n 34   /partner/expReport.asp?id=3424&page=4&bgbn=R  \n 35   /partner/expReport.asp?id=2811&page=4&bgbn=R  \n 36   /partner/expReport.asp?id=2401&page=4&bgbn=R  \n 37   /partner/expReport.asp?id=2344&page=4&bgbn=R  \n 38   /partner/expReport.asp?id=2284&page=4&bgbn=R  \n 39   /partner/expReport.asp?id=2168&page=4&bgbn=R  ]"
     },
     "metadata": {},
     "execution_count": 110
    }
   ],
   "source": [
    "# listing up dataframes to concat\n",
    "list_df = []\n",
    "for csv_file in abstract_yonsei_reviews:\n",
    "    # extract file name\n",
    "    file_name = csv_file.split(\"/\")[-1]\n",
    "    file_name_without_ext = file_name.split(\".\")[0]\n",
    "\n",
    "    # extract university code\n",
    "    univ_code = file_name_without_ext.split(\"_\")[0]\n",
    "\n",
    "    df_temp = make_abstract_review_df(univ_code)\n",
    "    list_df.append(df_temp)\n",
    "\n",
    "print(len(list_df))\n",
    "list_df[:3]"
   ]
  },
  {
   "cell_type": "code",
   "execution_count": 112,
   "metadata": {
    "tags": []
   },
   "outputs": [
    {
     "output_type": "stream",
     "name": "stdout",
     "text": "11183\n"
    },
    {
     "output_type": "execute_result",
     "data": {
      "text/plain": "       대학코드                       제목               학과  과정         년도  \\\n0  730              리투아니아에서 행복했던 4개월  사회복지학과/언론홍보영상학부  학부       2019   \n0  AR000004     아르헨티나 교환학생(어학연수프로그램)             건축학과  학부     2013-1   \n0  AT000001      쿠프슈타인에서 노후 50년 땡겨쓰기             경영학과  학부  2017-2018   \n1  AT000001          평화로운 쿠프에서의 한 학기               경제  학부  2017ㅡ2018   \n2  AT000001  소중한 경험, 잊지 못할 기억, 쿠프슈타인          언론홍보영상학  학부       2017   \n3  AT000001       언제나 마음속의 고향인 쿠프슈타인           중어중문학과  학부       2017   \n4  AT000001   자연이 아름다운 쿠프슈타인에서의 한 학기           정치외교학과  학부       2017   \n5  AT000001      여유로웠던 쿠프슈타인에서의 한 학기             행정학과  학부       2017   \n6  AT000001            쿠프슈타인에서의 한 학기             경제학부  학부       2016   \n7  AT000001    여유롭고 소중했던 쿠프슈타인에서의 시간             경제학부  학부       2016   \n\n   BERT_SCORE  RNN_SCORE                                           href  \n0           1   0.752021  /partner/expReport.asp?id=16663&page=1&bgbn=R  \n0           0   0.399670   /partner/expReport.asp?id=6947&page=1&bgbn=R  \n0           0   0.416185  /partner/expReport.asp?id=15098&page=1&bgbn=R  \n1           1   0.816743  /partner/expReport.asp?id=14709&page=1&bgbn=R  \n2           1   0.854657  /partner/expReport.asp?id=14264&page=1&bgbn=R  \n3           1   0.834800  /partner/expReport.asp?id=14181&page=1&bgbn=R  \n4           1   0.870668  /partner/expReport.asp?id=14102&page=1&bgbn=R  \n5           1   0.816663  /partner/expReport.asp?id=14094&page=1&bgbn=R  \n6           1   0.731432  /partner/expReport.asp?id=13866&page=1&bgbn=R  \n7           1   0.852968  /partner/expReport.asp?id=13822&page=1&bgbn=R  ",
      "text/html": "<div>\n<style scoped>\n    .dataframe tbody tr th:only-of-type {\n        vertical-align: middle;\n    }\n\n    .dataframe tbody tr th {\n        vertical-align: top;\n    }\n\n    .dataframe thead th {\n        text-align: right;\n    }\n</style>\n<table border=\"1\" class=\"dataframe\">\n  <thead>\n    <tr style=\"text-align: right;\">\n      <th></th>\n      <th>대학코드</th>\n      <th>제목</th>\n      <th>학과</th>\n      <th>과정</th>\n      <th>년도</th>\n      <th>BERT_SCORE</th>\n      <th>RNN_SCORE</th>\n      <th>href</th>\n    </tr>\n  </thead>\n  <tbody>\n    <tr>\n      <th>0</th>\n      <td>730</td>\n      <td>리투아니아에서 행복했던 4개월</td>\n      <td>사회복지학과/언론홍보영상학부</td>\n      <td>학부</td>\n      <td>2019</td>\n      <td>1</td>\n      <td>0.752021</td>\n      <td>/partner/expReport.asp?id=16663&amp;page=1&amp;bgbn=R</td>\n    </tr>\n    <tr>\n      <th>0</th>\n      <td>AR000004</td>\n      <td>아르헨티나 교환학생(어학연수프로그램)</td>\n      <td>건축학과</td>\n      <td>학부</td>\n      <td>2013-1</td>\n      <td>0</td>\n      <td>0.399670</td>\n      <td>/partner/expReport.asp?id=6947&amp;page=1&amp;bgbn=R</td>\n    </tr>\n    <tr>\n      <th>0</th>\n      <td>AT000001</td>\n      <td>쿠프슈타인에서 노후 50년 땡겨쓰기</td>\n      <td>경영학과</td>\n      <td>학부</td>\n      <td>2017-2018</td>\n      <td>0</td>\n      <td>0.416185</td>\n      <td>/partner/expReport.asp?id=15098&amp;page=1&amp;bgbn=R</td>\n    </tr>\n    <tr>\n      <th>1</th>\n      <td>AT000001</td>\n      <td>평화로운 쿠프에서의 한 학기</td>\n      <td>경제</td>\n      <td>학부</td>\n      <td>2017ㅡ2018</td>\n      <td>1</td>\n      <td>0.816743</td>\n      <td>/partner/expReport.asp?id=14709&amp;page=1&amp;bgbn=R</td>\n    </tr>\n    <tr>\n      <th>2</th>\n      <td>AT000001</td>\n      <td>소중한 경험, 잊지 못할 기억, 쿠프슈타인</td>\n      <td>언론홍보영상학</td>\n      <td>학부</td>\n      <td>2017</td>\n      <td>1</td>\n      <td>0.854657</td>\n      <td>/partner/expReport.asp?id=14264&amp;page=1&amp;bgbn=R</td>\n    </tr>\n    <tr>\n      <th>3</th>\n      <td>AT000001</td>\n      <td>언제나 마음속의 고향인 쿠프슈타인</td>\n      <td>중어중문학과</td>\n      <td>학부</td>\n      <td>2017</td>\n      <td>1</td>\n      <td>0.834800</td>\n      <td>/partner/expReport.asp?id=14181&amp;page=1&amp;bgbn=R</td>\n    </tr>\n    <tr>\n      <th>4</th>\n      <td>AT000001</td>\n      <td>자연이 아름다운 쿠프슈타인에서의 한 학기</td>\n      <td>정치외교학과</td>\n      <td>학부</td>\n      <td>2017</td>\n      <td>1</td>\n      <td>0.870668</td>\n      <td>/partner/expReport.asp?id=14102&amp;page=1&amp;bgbn=R</td>\n    </tr>\n    <tr>\n      <th>5</th>\n      <td>AT000001</td>\n      <td>여유로웠던 쿠프슈타인에서의 한 학기</td>\n      <td>행정학과</td>\n      <td>학부</td>\n      <td>2017</td>\n      <td>1</td>\n      <td>0.816663</td>\n      <td>/partner/expReport.asp?id=14094&amp;page=1&amp;bgbn=R</td>\n    </tr>\n    <tr>\n      <th>6</th>\n      <td>AT000001</td>\n      <td>쿠프슈타인에서의 한 학기</td>\n      <td>경제학부</td>\n      <td>학부</td>\n      <td>2016</td>\n      <td>1</td>\n      <td>0.731432</td>\n      <td>/partner/expReport.asp?id=13866&amp;page=1&amp;bgbn=R</td>\n    </tr>\n    <tr>\n      <th>7</th>\n      <td>AT000001</td>\n      <td>여유롭고 소중했던 쿠프슈타인에서의 시간</td>\n      <td>경제학부</td>\n      <td>학부</td>\n      <td>2016</td>\n      <td>1</td>\n      <td>0.852968</td>\n      <td>/partner/expReport.asp?id=13822&amp;page=1&amp;bgbn=R</td>\n    </tr>\n  </tbody>\n</table>\n</div>"
     },
     "metadata": {},
     "execution_count": 112
    }
   ],
   "source": [
    "# concat dataframe\n",
    "df_abstract_wrangle = pd.concat(list_df)\n",
    "print(len(df_abstract_wrangle.index))\n",
    "df_abstract_wrangle.head(10)"
   ]
  },
  {
   "cell_type": "code",
   "execution_count": 114,
   "metadata": {
    "tags": []
   },
   "outputs": [
    {
     "output_type": "stream",
     "name": "stdout",
     "text": "11183\n"
    }
   ],
   "source": [
    "# check for duplicate rows\n",
    "df_abstract_wrangle = df_abstract_wrangle.drop_duplicates()\n",
    "print(len(df_abstract_wrangle.index))"
   ]
  },
  {
   "cell_type": "code",
   "execution_count": 113,
   "metadata": {},
   "outputs": [],
   "source": [
    "# export wrangled df abstract concat dataframe\n",
    "df_abstract_wrangle.to_csv(\"./data_wrangled/df_abstract_wrangle.csv\",encoding=\"utf-8\", index=False)"
   ]
  },
  {
   "cell_type": "markdown",
   "metadata": {},
   "source": [
    "## Wrangle University Dataframe"
   ]
  },
  {
   "cell_type": "code",
   "execution_count": 37,
   "metadata": {},
   "outputs": [],
   "source": [
    "def yield_BERT_SUM(UNIV_CODE):\n",
    "    file_path = f\"./data_sentiment/abstract/{UNIV_CODE}_review_abstract_sentiment.csv\"\n",
    "    dataframe_input = pd.read_csv(file_path, encoding=\"utf-8\")\n",
    "    bert_sum = dataframe_input[\"BERT_SCORE\"].sum()\n",
    "    return bert_sum"
   ]
  },
  {
   "cell_type": "code",
   "execution_count": 41,
   "metadata": {},
   "outputs": [],
   "source": [
    "def yield_RNN_SUM(UNIV_CODE):\n",
    "    file_path = f\"./data_sentiment/abstract/{UNIV_CODE}_review_abstract_sentiment.csv\"\n",
    "    dataframe_input = pd.read_csv(file_path, encoding=\"utf-8\")\n",
    "    rnn_sum = dataframe_input[\"RNN_SCORE\"].sum()\n",
    "    return rnn_sum"
   ]
  },
  {
   "cell_type": "code",
   "execution_count": 43,
   "metadata": {},
   "outputs": [],
   "source": [
    "def yield_no_of_students(UNIV_CODE):\n",
    "    dataframe_input = make_abstract_review_df(UNIV_CODE)\n",
    "    no_of_students = len(dataframe_input.index)\n",
    "    return no_of_students"
   ]
  },
  {
   "cell_type": "code",
   "execution_count": 83,
   "metadata": {
    "tags": []
   },
   "outputs": [
    {
     "output_type": "stream",
     "name": "stdout",
     "text": "65\n49.14911192655563\n"
    }
   ],
   "source": [
    "# University of Copenhagen Satisfaction Level\n",
    "print(yield_BERT_SUM(\"DK000003\"))\n",
    "print(yield_RNN_SUM(\"DK000003\"))"
   ]
  },
  {
   "cell_type": "code",
   "execution_count": 84,
   "metadata": {
    "tags": []
   },
   "outputs": [
    {
     "output_type": "stream",
     "name": "stdout",
     "text": "41\n43.059615552425385\n"
    }
   ],
   "source": [
    "# University of Hongkong Satisfaction Level\n",
    "print(yield_BERT_SUM(\"CN000016\"))\n",
    "print(yield_RNN_SUM(\"CN000016\"))"
   ]
  },
  {
   "cell_type": "code",
   "execution_count": 85,
   "metadata": {},
   "outputs": [
    {
     "output_type": "execute_result",
     "data": {
      "text/plain": "     level_0  index   No                            대학명              국가  \\\n498      498     62   63                Drew University   UNITED STATES   \n96        96     22   23               Wuhan University           CHINA   \n88        88     14   15  Shanghai Jiao Tong University           CHINA   \n574      574    138  139        Northeastern University   UNITED STATES   \n423      423     30   31           University of Oxford  UNITED KINGDOM   \n\n            파견구분         협정형태                                          href  \\\n498         교환학생         교환대학  /partner/expReport.asp?ucode=US000059&bgbn=A   \n96          교환학생         교환대학  /partner/expReport.asp?ucode=CN000017&bgbn=A   \n88          교환학생         교환대학  /partner/expReport.asp?ucode=CN000011&bgbn=A   \n574         교환학생         교환대학  /partner/expReport.asp?ucode=US000302&bgbn=A   \n423  방문학생SAP(정규)  교환대학ISEPSAF  /partner/expReport.asp?ucode=GB000015&bgbn=A   \n\n    visitation  \n498       None  \n96      Exists  \n88        None  \n574       None  \n423       None  ",
      "text/html": "<div>\n<style scoped>\n    .dataframe tbody tr th:only-of-type {\n        vertical-align: middle;\n    }\n\n    .dataframe tbody tr th {\n        vertical-align: top;\n    }\n\n    .dataframe thead th {\n        text-align: right;\n    }\n</style>\n<table border=\"1\" class=\"dataframe\">\n  <thead>\n    <tr style=\"text-align: right;\">\n      <th></th>\n      <th>level_0</th>\n      <th>index</th>\n      <th>No</th>\n      <th>대학명</th>\n      <th>국가</th>\n      <th>파견구분</th>\n      <th>협정형태</th>\n      <th>href</th>\n      <th>visitation</th>\n    </tr>\n  </thead>\n  <tbody>\n    <tr>\n      <th>498</th>\n      <td>498</td>\n      <td>62</td>\n      <td>63</td>\n      <td>Drew University</td>\n      <td>UNITED STATES</td>\n      <td>교환학생</td>\n      <td>교환대학</td>\n      <td>/partner/expReport.asp?ucode=US000059&amp;bgbn=A</td>\n      <td>None</td>\n    </tr>\n    <tr>\n      <th>96</th>\n      <td>96</td>\n      <td>22</td>\n      <td>23</td>\n      <td>Wuhan University</td>\n      <td>CHINA</td>\n      <td>교환학생</td>\n      <td>교환대학</td>\n      <td>/partner/expReport.asp?ucode=CN000017&amp;bgbn=A</td>\n      <td>Exists</td>\n    </tr>\n    <tr>\n      <th>88</th>\n      <td>88</td>\n      <td>14</td>\n      <td>15</td>\n      <td>Shanghai Jiao Tong University</td>\n      <td>CHINA</td>\n      <td>교환학생</td>\n      <td>교환대학</td>\n      <td>/partner/expReport.asp?ucode=CN000011&amp;bgbn=A</td>\n      <td>None</td>\n    </tr>\n    <tr>\n      <th>574</th>\n      <td>574</td>\n      <td>138</td>\n      <td>139</td>\n      <td>Northeastern University</td>\n      <td>UNITED STATES</td>\n      <td>교환학생</td>\n      <td>교환대학</td>\n      <td>/partner/expReport.asp?ucode=US000302&amp;bgbn=A</td>\n      <td>None</td>\n    </tr>\n    <tr>\n      <th>423</th>\n      <td>423</td>\n      <td>30</td>\n      <td>31</td>\n      <td>University of Oxford</td>\n      <td>UNITED KINGDOM</td>\n      <td>방문학생SAP(정규)</td>\n      <td>교환대학ISEPSAF</td>\n      <td>/partner/expReport.asp?ucode=GB000015&amp;bgbn=A</td>\n      <td>None</td>\n    </tr>\n  </tbody>\n</table>\n</div>"
     },
     "metadata": {},
     "execution_count": 85
    }
   ],
   "source": [
    "# read university dataframe\n",
    "df_univ = pd.read_csv(\"./data/univ_db_full.csv\", encoding=\"utf-8\")\n",
    "df_univ.sample(5)"
   ]
  },
  {
   "cell_type": "code",
   "execution_count": 86,
   "metadata": {},
   "outputs": [
    {
     "output_type": "execute_result",
     "data": {
      "text/plain": "   level_0  index  No                              대학명           국가  파견구분  \\\n0        0      0   1                 Kabul University  AFGHANISTAN  교환학생   \n1        1      0   1          Universidad Blas Pascal    ARGENTINA  교환학생   \n2        2      1   2  Universidad Catolica de Cordoba    ARGENTINA  교환학생   \n3        3      2   3           Universidad de Palermo    ARGENTINA  교환학생   \n4        4      3   4         Universidad del Salvador    ARGENTINA  교환학생   \n\n   협정형태                                          href visitation      대학코드  \n0  교환대학  /partner/expReport.asp?ucode=AF000001&bgbn=A       None  AF000001  \n1  ISEP  /partner/expReport.asp?ucode=AR000001&bgbn=A       None  AR000001  \n2  ISEP  /partner/expReport.asp?ucode=AR000002&bgbn=A       None  AR000002  \n3  ISEP  /partner/expReport.asp?ucode=AR000003&bgbn=A       None  AR000003  \n4  ISEP  /partner/expReport.asp?ucode=AR000004&bgbn=A     Exists  AR000004  ",
      "text/html": "<div>\n<style scoped>\n    .dataframe tbody tr th:only-of-type {\n        vertical-align: middle;\n    }\n\n    .dataframe tbody tr th {\n        vertical-align: top;\n    }\n\n    .dataframe thead th {\n        text-align: right;\n    }\n</style>\n<table border=\"1\" class=\"dataframe\">\n  <thead>\n    <tr style=\"text-align: right;\">\n      <th></th>\n      <th>level_0</th>\n      <th>index</th>\n      <th>No</th>\n      <th>대학명</th>\n      <th>국가</th>\n      <th>파견구분</th>\n      <th>협정형태</th>\n      <th>href</th>\n      <th>visitation</th>\n      <th>대학코드</th>\n    </tr>\n  </thead>\n  <tbody>\n    <tr>\n      <th>0</th>\n      <td>0</td>\n      <td>0</td>\n      <td>1</td>\n      <td>Kabul University</td>\n      <td>AFGHANISTAN</td>\n      <td>교환학생</td>\n      <td>교환대학</td>\n      <td>/partner/expReport.asp?ucode=AF000001&amp;bgbn=A</td>\n      <td>None</td>\n      <td>AF000001</td>\n    </tr>\n    <tr>\n      <th>1</th>\n      <td>1</td>\n      <td>0</td>\n      <td>1</td>\n      <td>Universidad Blas Pascal</td>\n      <td>ARGENTINA</td>\n      <td>교환학생</td>\n      <td>ISEP</td>\n      <td>/partner/expReport.asp?ucode=AR000001&amp;bgbn=A</td>\n      <td>None</td>\n      <td>AR000001</td>\n    </tr>\n    <tr>\n      <th>2</th>\n      <td>2</td>\n      <td>1</td>\n      <td>2</td>\n      <td>Universidad Catolica de Cordoba</td>\n      <td>ARGENTINA</td>\n      <td>교환학생</td>\n      <td>ISEP</td>\n      <td>/partner/expReport.asp?ucode=AR000002&amp;bgbn=A</td>\n      <td>None</td>\n      <td>AR000002</td>\n    </tr>\n    <tr>\n      <th>3</th>\n      <td>3</td>\n      <td>2</td>\n      <td>3</td>\n      <td>Universidad de Palermo</td>\n      <td>ARGENTINA</td>\n      <td>교환학생</td>\n      <td>ISEP</td>\n      <td>/partner/expReport.asp?ucode=AR000003&amp;bgbn=A</td>\n      <td>None</td>\n      <td>AR000003</td>\n    </tr>\n    <tr>\n      <th>4</th>\n      <td>4</td>\n      <td>3</td>\n      <td>4</td>\n      <td>Universidad del Salvador</td>\n      <td>ARGENTINA</td>\n      <td>교환학생</td>\n      <td>ISEP</td>\n      <td>/partner/expReport.asp?ucode=AR000004&amp;bgbn=A</td>\n      <td>Exists</td>\n      <td>AR000004</td>\n    </tr>\n  </tbody>\n</table>\n</div>"
     },
     "metadata": {},
     "execution_count": 86
    }
   ],
   "source": [
    "# make column for university code\n",
    "series_query = df_univ[\"href\"].str.split(\"=\", expand=True)[1]\n",
    "series_univ_code = series_query.str.split(\"&\", expand=True)[0]\n",
    "df_univ[\"대학코드\"] = series_univ_code\n",
    "df_univ.head()"
   ]
  },
  {
   "cell_type": "code",
   "execution_count": 62,
   "metadata": {},
   "outputs": [
    {
     "output_type": "execute_result",
     "data": {
      "text/plain": "       대학코드           국가                              대학명  파견구분      협정형태  \\\n0  AF000001  AFGHANISTAN                 Kabul University  교환학생      교환대학   \n1  AR000001    ARGENTINA          Universidad Blas Pascal  교환학생      ISEP   \n2  AR000002    ARGENTINA  Universidad Catolica de Cordoba  교환학생      ISEP   \n3  AR000003    ARGENTINA           Universidad de Palermo  교환학생      ISEP   \n4  AR000004    ARGENTINA         Universidad del Salvador  교환학생      ISEP   \n5  AR000005    ARGENTINA       University of Buenos Aires  교환학생      교환대학   \n6  AU000019    AUSTRALIA   Australian National University  교환학생      교환대학   \n7  AU000001    AUSTRALIA                  Bond University  교환학생      교환대학   \n8  AU000002    AUSTRALIA                Curtin University  교환학생  교환대학ISEP   \n9  AU000003    AUSTRALIA  Curtin University of Technology  교환학생       NaN   \n\n  visitation                                          href  \n0       None  /partner/expReport.asp?ucode=AF000001&bgbn=A  \n1       None  /partner/expReport.asp?ucode=AR000001&bgbn=A  \n2       None  /partner/expReport.asp?ucode=AR000002&bgbn=A  \n3       None  /partner/expReport.asp?ucode=AR000003&bgbn=A  \n4     Exists  /partner/expReport.asp?ucode=AR000004&bgbn=A  \n5       None  /partner/expReport.asp?ucode=AR000005&bgbn=A  \n6     Exists  /partner/expReport.asp?ucode=AU000019&bgbn=A  \n7     Exists  /partner/expReport.asp?ucode=AU000001&bgbn=A  \n8     Exists  /partner/expReport.asp?ucode=AU000002&bgbn=A  \n9     Exists  /partner/expReport.asp?ucode=AU000003&bgbn=A  ",
      "text/html": "<div>\n<style scoped>\n    .dataframe tbody tr th:only-of-type {\n        vertical-align: middle;\n    }\n\n    .dataframe tbody tr th {\n        vertical-align: top;\n    }\n\n    .dataframe thead th {\n        text-align: right;\n    }\n</style>\n<table border=\"1\" class=\"dataframe\">\n  <thead>\n    <tr style=\"text-align: right;\">\n      <th></th>\n      <th>대학코드</th>\n      <th>국가</th>\n      <th>대학명</th>\n      <th>파견구분</th>\n      <th>협정형태</th>\n      <th>visitation</th>\n      <th>href</th>\n    </tr>\n  </thead>\n  <tbody>\n    <tr>\n      <th>0</th>\n      <td>AF000001</td>\n      <td>AFGHANISTAN</td>\n      <td>Kabul University</td>\n      <td>교환학생</td>\n      <td>교환대학</td>\n      <td>None</td>\n      <td>/partner/expReport.asp?ucode=AF000001&amp;bgbn=A</td>\n    </tr>\n    <tr>\n      <th>1</th>\n      <td>AR000001</td>\n      <td>ARGENTINA</td>\n      <td>Universidad Blas Pascal</td>\n      <td>교환학생</td>\n      <td>ISEP</td>\n      <td>None</td>\n      <td>/partner/expReport.asp?ucode=AR000001&amp;bgbn=A</td>\n    </tr>\n    <tr>\n      <th>2</th>\n      <td>AR000002</td>\n      <td>ARGENTINA</td>\n      <td>Universidad Catolica de Cordoba</td>\n      <td>교환학생</td>\n      <td>ISEP</td>\n      <td>None</td>\n      <td>/partner/expReport.asp?ucode=AR000002&amp;bgbn=A</td>\n    </tr>\n    <tr>\n      <th>3</th>\n      <td>AR000003</td>\n      <td>ARGENTINA</td>\n      <td>Universidad de Palermo</td>\n      <td>교환학생</td>\n      <td>ISEP</td>\n      <td>None</td>\n      <td>/partner/expReport.asp?ucode=AR000003&amp;bgbn=A</td>\n    </tr>\n    <tr>\n      <th>4</th>\n      <td>AR000004</td>\n      <td>ARGENTINA</td>\n      <td>Universidad del Salvador</td>\n      <td>교환학생</td>\n      <td>ISEP</td>\n      <td>Exists</td>\n      <td>/partner/expReport.asp?ucode=AR000004&amp;bgbn=A</td>\n    </tr>\n    <tr>\n      <th>5</th>\n      <td>AR000005</td>\n      <td>ARGENTINA</td>\n      <td>University of Buenos Aires</td>\n      <td>교환학생</td>\n      <td>교환대학</td>\n      <td>None</td>\n      <td>/partner/expReport.asp?ucode=AR000005&amp;bgbn=A</td>\n    </tr>\n    <tr>\n      <th>6</th>\n      <td>AU000019</td>\n      <td>AUSTRALIA</td>\n      <td>Australian National University</td>\n      <td>교환학생</td>\n      <td>교환대학</td>\n      <td>Exists</td>\n      <td>/partner/expReport.asp?ucode=AU000019&amp;bgbn=A</td>\n    </tr>\n    <tr>\n      <th>7</th>\n      <td>AU000001</td>\n      <td>AUSTRALIA</td>\n      <td>Bond University</td>\n      <td>교환학생</td>\n      <td>교환대학</td>\n      <td>Exists</td>\n      <td>/partner/expReport.asp?ucode=AU000001&amp;bgbn=A</td>\n    </tr>\n    <tr>\n      <th>8</th>\n      <td>AU000002</td>\n      <td>AUSTRALIA</td>\n      <td>Curtin University</td>\n      <td>교환학생</td>\n      <td>교환대학ISEP</td>\n      <td>Exists</td>\n      <td>/partner/expReport.asp?ucode=AU000002&amp;bgbn=A</td>\n    </tr>\n    <tr>\n      <th>9</th>\n      <td>AU000003</td>\n      <td>AUSTRALIA</td>\n      <td>Curtin University of Technology</td>\n      <td>교환학생</td>\n      <td>NaN</td>\n      <td>Exists</td>\n      <td>/partner/expReport.asp?ucode=AU000003&amp;bgbn=A</td>\n    </tr>\n  </tbody>\n</table>\n</div>"
     },
     "metadata": {},
     "execution_count": 62
    }
   ],
   "source": [
    "# reorder columns, delete unnecessary columns\n",
    "df = df_univ[[\"대학코드\", \"국가\", \"대학명\", \"파견구분\", \"협정형태\", \"visitation\", \"href\"]]\n",
    "df.head(10)"
   ]
  },
  {
   "cell_type": "code",
   "execution_count": 34,
   "metadata": {},
   "outputs": [
    {
     "output_type": "execute_result",
     "data": {
      "text/plain": "       대학코드         국가                              대학명  파견구분      협정형태  \\\n4  AR000004  ARGENTINA         Universidad del Salvador  교환학생      ISEP   \n6  AU000019  AUSTRALIA   Australian National University  교환학생      교환대학   \n7  AU000001  AUSTRALIA                  Bond University  교환학생      교환대학   \n8  AU000002  AUSTRALIA                Curtin University  교환학생  교환대학ISEP   \n9  AU000003  AUSTRALIA  Curtin University of Technology  교환학생       NaN   \n\n  visitation                                          href  \n4     Exists  /partner/expReport.asp?ucode=AR000004&bgbn=A  \n6     Exists  /partner/expReport.asp?ucode=AU000019&bgbn=A  \n7     Exists  /partner/expReport.asp?ucode=AU000001&bgbn=A  \n8     Exists  /partner/expReport.asp?ucode=AU000002&bgbn=A  \n9     Exists  /partner/expReport.asp?ucode=AU000003&bgbn=A  ",
      "text/html": "<div>\n<style scoped>\n    .dataframe tbody tr th:only-of-type {\n        vertical-align: middle;\n    }\n\n    .dataframe tbody tr th {\n        vertical-align: top;\n    }\n\n    .dataframe thead th {\n        text-align: right;\n    }\n</style>\n<table border=\"1\" class=\"dataframe\">\n  <thead>\n    <tr style=\"text-align: right;\">\n      <th></th>\n      <th>대학코드</th>\n      <th>국가</th>\n      <th>대학명</th>\n      <th>파견구분</th>\n      <th>협정형태</th>\n      <th>visitation</th>\n      <th>href</th>\n    </tr>\n  </thead>\n  <tbody>\n    <tr>\n      <th>4</th>\n      <td>AR000004</td>\n      <td>ARGENTINA</td>\n      <td>Universidad del Salvador</td>\n      <td>교환학생</td>\n      <td>ISEP</td>\n      <td>Exists</td>\n      <td>/partner/expReport.asp?ucode=AR000004&amp;bgbn=A</td>\n    </tr>\n    <tr>\n      <th>6</th>\n      <td>AU000019</td>\n      <td>AUSTRALIA</td>\n      <td>Australian National University</td>\n      <td>교환학생</td>\n      <td>교환대학</td>\n      <td>Exists</td>\n      <td>/partner/expReport.asp?ucode=AU000019&amp;bgbn=A</td>\n    </tr>\n    <tr>\n      <th>7</th>\n      <td>AU000001</td>\n      <td>AUSTRALIA</td>\n      <td>Bond University</td>\n      <td>교환학생</td>\n      <td>교환대학</td>\n      <td>Exists</td>\n      <td>/partner/expReport.asp?ucode=AU000001&amp;bgbn=A</td>\n    </tr>\n    <tr>\n      <th>8</th>\n      <td>AU000002</td>\n      <td>AUSTRALIA</td>\n      <td>Curtin University</td>\n      <td>교환학생</td>\n      <td>교환대학ISEP</td>\n      <td>Exists</td>\n      <td>/partner/expReport.asp?ucode=AU000002&amp;bgbn=A</td>\n    </tr>\n    <tr>\n      <th>9</th>\n      <td>AU000003</td>\n      <td>AUSTRALIA</td>\n      <td>Curtin University of Technology</td>\n      <td>교환학생</td>\n      <td>NaN</td>\n      <td>Exists</td>\n      <td>/partner/expReport.asp?ucode=AU000003&amp;bgbn=A</td>\n    </tr>\n  </tbody>\n</table>\n</div>"
     },
     "metadata": {},
     "execution_count": 34
    }
   ],
   "source": [
    "# sort out unvisited universities\n",
    "df_ever_been = df.loc[df['visitation'] == \"Exists\"]\n",
    "df_ever_been.head()"
   ]
  },
  {
   "cell_type": "code",
   "execution_count": 68,
   "metadata": {},
   "outputs": [
    {
     "output_type": "execute_result",
     "data": {
      "text/plain": "(470, 7)"
     },
     "metadata": {},
     "execution_count": 68
    }
   ],
   "source": [
    "# number of visited universities in Yonsei history\n",
    "df_ever_been.shape"
   ]
  },
  {
   "cell_type": "code",
   "execution_count": 76,
   "metadata": {},
   "outputs": [],
   "source": [
    "# wrangle university dataframe\n",
    "def make_univ_df():\n",
    "    # read university dataset csv file\n",
    "    df_univ = pd.read_csv(\"./data/univ_db_full.csv\", encoding=\"utf-8\")\n",
    "\n",
    "    # get university code\n",
    "    series_query = df_univ[\"href\"].str.split(\"=\", expand=True)[1]\n",
    "    series_univ_code = series_query.str.split(\"&\", expand=True)[0]\n",
    "    df_univ[\"대학코드\"] = series_univ_code\n",
    "    \n",
    "    # Making column values for BERT_SUM, RNN_SUM, STUDENT_NO\n",
    "    list_bert_sum = []\n",
    "    list_rnn_sum = []\n",
    "    list_student_no = []\n",
    "    \n",
    "    # iterrating over rows of university datframe\n",
    "    for index, row in df_univ.iterrows():\n",
    "\n",
    "        # if university is not ever visited, input NaN values\n",
    "        if row[\"visitation\"] == \"None\":\n",
    "            list_bert_sum.append(np.NaN)\n",
    "            list_rnn_sum.append(np.NaN)\n",
    "            list_student_no.append(np.NaN)\n",
    "\n",
    "        # if university is visited, input BERT_SCORE, RNN_SCORE's sum and input number of visitations\n",
    "        if row[\"visitation\"] == \"Exists\":\n",
    "            list_bert_sum.append(yield_BERT_SUM(row[\"대학코드\"]))\n",
    "            list_rnn_sum.append(yield_RNN_SUM(row[\"대학코드\"]))\n",
    "            list_student_no.append(yield_no_of_students(row[\"대학코드\"]))\n",
    "    \n",
    "    # Make Columns\n",
    "    df_univ[\"BERT_SUM\"] = list_bert_sum\n",
    "    df_univ[\"RNN_SUM\"] = list_rnn_sum\n",
    "    df_univ[\"NUM_VISITS\"] = list_student_no\n",
    "    \n",
    "    # Select and order columns\n",
    "    df = df_univ[[\"대학코드\", \"국가\", \"대학명\", \"파견구분\", \"협정형태\", \"NUM_VISITS\", \"BERT_SUM\", \"RNN_SUM\", \"href\"]]\n",
    "    return df"
   ]
  },
  {
   "cell_type": "code",
   "execution_count": 77,
   "metadata": {},
   "outputs": [],
   "source": [
    "df_univ_wrangled = make_univ_df()"
   ]
  },
  {
   "cell_type": "code",
   "execution_count": 81,
   "metadata": {
    "tags": []
   },
   "outputs": [
    {
     "output_type": "stream",
     "name": "stdout",
     "text": "(745, 9)\n"
    },
    {
     "output_type": "execute_result",
     "data": {
      "text/plain": "       대학코드           국가                              대학명  파견구분      협정형태  \\\n0  AF000001  AFGHANISTAN                 Kabul University  교환학생      교환대학   \n1  AR000001    ARGENTINA          Universidad Blas Pascal  교환학생      ISEP   \n2  AR000002    ARGENTINA  Universidad Catolica de Cordoba  교환학생      ISEP   \n3  AR000003    ARGENTINA           Universidad de Palermo  교환학생      ISEP   \n4  AR000004    ARGENTINA         Universidad del Salvador  교환학생      ISEP   \n5  AR000005    ARGENTINA       University of Buenos Aires  교환학생      교환대학   \n6  AU000019    AUSTRALIA   Australian National University  교환학생      교환대학   \n7  AU000001    AUSTRALIA                  Bond University  교환학생      교환대학   \n8  AU000002    AUSTRALIA                Curtin University  교환학생  교환대학ISEP   \n9  AU000003    AUSTRALIA  Curtin University of Technology  교환학생       NaN   \n\n   NUM_VISITS  BERT_SUM    RNN_SUM  \\\n0         NaN       NaN        NaN   \n1         NaN       NaN        NaN   \n2         NaN       NaN        NaN   \n3         NaN       NaN        NaN   \n4         1.0       0.0   0.399670   \n5         NaN       NaN        NaN   \n6        27.0      17.0  17.952732   \n7        19.0      16.0  13.359809   \n8         7.0       5.0   4.657787   \n9        16.0      14.0   9.696670   \n\n                                           href  \n0  /partner/expReport.asp?ucode=AF000001&bgbn=A  \n1  /partner/expReport.asp?ucode=AR000001&bgbn=A  \n2  /partner/expReport.asp?ucode=AR000002&bgbn=A  \n3  /partner/expReport.asp?ucode=AR000003&bgbn=A  \n4  /partner/expReport.asp?ucode=AR000004&bgbn=A  \n5  /partner/expReport.asp?ucode=AR000005&bgbn=A  \n6  /partner/expReport.asp?ucode=AU000019&bgbn=A  \n7  /partner/expReport.asp?ucode=AU000001&bgbn=A  \n8  /partner/expReport.asp?ucode=AU000002&bgbn=A  \n9  /partner/expReport.asp?ucode=AU000003&bgbn=A  ",
      "text/html": "<div>\n<style scoped>\n    .dataframe tbody tr th:only-of-type {\n        vertical-align: middle;\n    }\n\n    .dataframe tbody tr th {\n        vertical-align: top;\n    }\n\n    .dataframe thead th {\n        text-align: right;\n    }\n</style>\n<table border=\"1\" class=\"dataframe\">\n  <thead>\n    <tr style=\"text-align: right;\">\n      <th></th>\n      <th>대학코드</th>\n      <th>국가</th>\n      <th>대학명</th>\n      <th>파견구분</th>\n      <th>협정형태</th>\n      <th>NUM_VISITS</th>\n      <th>BERT_SUM</th>\n      <th>RNN_SUM</th>\n      <th>href</th>\n    </tr>\n  </thead>\n  <tbody>\n    <tr>\n      <th>0</th>\n      <td>AF000001</td>\n      <td>AFGHANISTAN</td>\n      <td>Kabul University</td>\n      <td>교환학생</td>\n      <td>교환대학</td>\n      <td>NaN</td>\n      <td>NaN</td>\n      <td>NaN</td>\n      <td>/partner/expReport.asp?ucode=AF000001&amp;bgbn=A</td>\n    </tr>\n    <tr>\n      <th>1</th>\n      <td>AR000001</td>\n      <td>ARGENTINA</td>\n      <td>Universidad Blas Pascal</td>\n      <td>교환학생</td>\n      <td>ISEP</td>\n      <td>NaN</td>\n      <td>NaN</td>\n      <td>NaN</td>\n      <td>/partner/expReport.asp?ucode=AR000001&amp;bgbn=A</td>\n    </tr>\n    <tr>\n      <th>2</th>\n      <td>AR000002</td>\n      <td>ARGENTINA</td>\n      <td>Universidad Catolica de Cordoba</td>\n      <td>교환학생</td>\n      <td>ISEP</td>\n      <td>NaN</td>\n      <td>NaN</td>\n      <td>NaN</td>\n      <td>/partner/expReport.asp?ucode=AR000002&amp;bgbn=A</td>\n    </tr>\n    <tr>\n      <th>3</th>\n      <td>AR000003</td>\n      <td>ARGENTINA</td>\n      <td>Universidad de Palermo</td>\n      <td>교환학생</td>\n      <td>ISEP</td>\n      <td>NaN</td>\n      <td>NaN</td>\n      <td>NaN</td>\n      <td>/partner/expReport.asp?ucode=AR000003&amp;bgbn=A</td>\n    </tr>\n    <tr>\n      <th>4</th>\n      <td>AR000004</td>\n      <td>ARGENTINA</td>\n      <td>Universidad del Salvador</td>\n      <td>교환학생</td>\n      <td>ISEP</td>\n      <td>1.0</td>\n      <td>0.0</td>\n      <td>0.399670</td>\n      <td>/partner/expReport.asp?ucode=AR000004&amp;bgbn=A</td>\n    </tr>\n    <tr>\n      <th>5</th>\n      <td>AR000005</td>\n      <td>ARGENTINA</td>\n      <td>University of Buenos Aires</td>\n      <td>교환학생</td>\n      <td>교환대학</td>\n      <td>NaN</td>\n      <td>NaN</td>\n      <td>NaN</td>\n      <td>/partner/expReport.asp?ucode=AR000005&amp;bgbn=A</td>\n    </tr>\n    <tr>\n      <th>6</th>\n      <td>AU000019</td>\n      <td>AUSTRALIA</td>\n      <td>Australian National University</td>\n      <td>교환학생</td>\n      <td>교환대학</td>\n      <td>27.0</td>\n      <td>17.0</td>\n      <td>17.952732</td>\n      <td>/partner/expReport.asp?ucode=AU000019&amp;bgbn=A</td>\n    </tr>\n    <tr>\n      <th>7</th>\n      <td>AU000001</td>\n      <td>AUSTRALIA</td>\n      <td>Bond University</td>\n      <td>교환학생</td>\n      <td>교환대학</td>\n      <td>19.0</td>\n      <td>16.0</td>\n      <td>13.359809</td>\n      <td>/partner/expReport.asp?ucode=AU000001&amp;bgbn=A</td>\n    </tr>\n    <tr>\n      <th>8</th>\n      <td>AU000002</td>\n      <td>AUSTRALIA</td>\n      <td>Curtin University</td>\n      <td>교환학생</td>\n      <td>교환대학ISEP</td>\n      <td>7.0</td>\n      <td>5.0</td>\n      <td>4.657787</td>\n      <td>/partner/expReport.asp?ucode=AU000002&amp;bgbn=A</td>\n    </tr>\n    <tr>\n      <th>9</th>\n      <td>AU000003</td>\n      <td>AUSTRALIA</td>\n      <td>Curtin University of Technology</td>\n      <td>교환학생</td>\n      <td>NaN</td>\n      <td>16.0</td>\n      <td>14.0</td>\n      <td>9.696670</td>\n      <td>/partner/expReport.asp?ucode=AU000003&amp;bgbn=A</td>\n    </tr>\n  </tbody>\n</table>\n</div>"
     },
     "metadata": {},
     "execution_count": 81
    }
   ],
   "source": [
    "print(df_univ_wrangled.shape)\n",
    "df_univ_wrangled.head(10)"
   ]
  },
  {
   "cell_type": "code",
   "execution_count": 79,
   "metadata": {},
   "outputs": [
    {
     "output_type": "execute_result",
     "data": {
      "text/plain": "Index(['대학코드', '국가', '대학명', '파견구분', '협정형태', 'NUM_VISITS', 'BERT_SUM',\n       'RNN_SUM', 'href'],\n      dtype='object')"
     },
     "metadata": {},
     "execution_count": 79
    }
   ],
   "source": [
    "df_univ_wrangled.columns"
   ]
  },
  {
   "cell_type": "code",
   "execution_count": 115,
   "metadata": {},
   "outputs": [
    {
     "output_type": "execute_result",
     "data": {
      "text/plain": "(745, 9)"
     },
     "metadata": {},
     "execution_count": 115
    }
   ],
   "source": [
    "df_univ_wrangled.shape"
   ]
  },
  {
   "cell_type": "code",
   "execution_count": 116,
   "metadata": {},
   "outputs": [
    {
     "output_type": "execute_result",
     "data": {
      "text/plain": "(745, 9)"
     },
     "metadata": {},
     "execution_count": 116
    }
   ],
   "source": [
    "# check for duplicate rows\n",
    "df_univ_wrangled = df_univ_wrangled.drop_duplicates()\n",
    "df_univ_wrangled.shape"
   ]
  },
  {
   "cell_type": "code",
   "execution_count": 117,
   "metadata": {},
   "outputs": [],
   "source": [
    "# export wrangled df abstract concat dataframe\n",
    "df_univ_wrangled.to_csv(\"./data_wrangled/df_univ_wrangled.csv\",encoding=\"utf-8\", index=False)"
   ]
  }
 ]
}