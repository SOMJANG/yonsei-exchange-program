{
 "metadata": {
  "language_info": {
   "codemirror_mode": {
    "name": "ipython",
    "version": 3
   },
   "file_extension": ".py",
   "mimetype": "text/x-python",
   "name": "python",
   "nbconvert_exporter": "python",
   "pygments_lexer": "ipython3",
   "version": "3.8.1-final"
  },
  "orig_nbformat": 2,
  "kernelspec": {
   "name": "python38164bitd84bd39789ae4619b6b50c356f0457fc",
   "display_name": "Python 3.8.1 64-bit"
  }
 },
 "nbformat": 4,
 "nbformat_minor": 2,
 "cells": [
  {
   "cell_type": "code",
   "execution_count": 2,
   "metadata": {},
   "outputs": [],
   "source": [
    "UNIV_COLUMNS = ['대학코드', '국가', '대학명', '파견구분', '협정형태', 'VISIT_NO', \"BERT_SUM\", \"RNN_SUM\", 'href']\n",
    "ABSTRACT_REVIEWS_COLUMNS = ['대학코드', '제목', '학과', '과정', '년도', 'BERT_SCORE', 'RNN_SCORE', 'href']\n",
    "SPECIFIC_COLUMNS = [\"대학코드\", \"대학명\", \"국가\", \"파견구분\", \"협정형태\", \"학과\", \"제목\", \"과정\", \"년도\", \"college_link\", \"review_link\",  \"gen_info\",\"env_info\",\"food_info\",\"study_info\",\"office_info\" \"facil_info\",\"mhct_info\",\"help_info\",\"etc_info\", \"BERT_SCORE\", \"RNN_SCORE\"]"
   ]
  },
  {
   "cell_type": "code",
   "execution_count": 3,
   "metadata": {},
   "outputs": [],
   "source": [
    "import os\n",
    "from os import fdopen, remove\n",
    "import glob\n",
    "from tempfile import mkstemp\n",
    "import shutil\n",
    "from shutil import move, copymode\n",
    "\n",
    "import pandas as pd\n",
    "import numpy as np"
   ]
  },
  {
   "cell_type": "code",
   "execution_count": 4,
   "metadata": {},
   "outputs": [],
   "source": [
    "# define path for sentiment labeled dataset\n",
    "# abstract: 짧은 후기 제목만 있는 텍스트 데이터셋\n",
    "# specific: 문단으로 구성된 텍스트 데이터셋\n",
    "\n",
    "abstract_sentiment = \"./data_sentiment/abstract\"\n",
    "specific_sentiment = \"./data_sentiment/specific\""
   ]
  },
  {
   "cell_type": "code",
   "execution_count": 5,
   "metadata": {},
   "outputs": [
    {
     "output_type": "execute_result",
     "data": {
      "text/plain": "['./data_sentiment/abstract/NL000006_review_abstract_sentiment.csv',\n './data_sentiment/abstract/FI000014_review_abstract_sentiment.csv',\n './data_sentiment/abstract/US000183_review_abstract_sentiment.csv',\n './data_sentiment/abstract/US000109_review_abstract_sentiment.csv',\n './data_sentiment/abstract/CA000002_review_abstract_sentiment.csv']"
     },
     "metadata": {},
     "execution_count": 5
    }
   ],
   "source": [
    "# fetch all yonsei exchange review text datasets for each foreign universities\n",
    "abstract_yonsei_reviews = glob.glob(f\"{abstract_sentiment}/*.csv\")\n",
    "abstract_yonsei_reviews[:5]"
   ]
  },
  {
   "cell_type": "code",
   "execution_count": 6,
   "metadata": {
    "tags": []
   },
   "outputs": [
    {
     "output_type": "stream",
     "name": "stdout",
     "text": "AU000016_review_abstract_sentiment\nAU000016\n"
    },
    {
     "output_type": "execute_result",
     "data": {
      "text/plain": "    Unnamed: 0  No                                    제목  \\\n33          33  14                          너무나도 그리운 시드니   \n0            0  47  Warm, Welcoming, and Stimulating UTS   \n43          43   4      University of Technology, Sydney   \n38          38   9      University of Technology, Sydney   \n37          37  10      University of Technology, Sydney   \n\n                      학과  과정    년도  \\\n33                의용전자공학  학부  2005   \n0   UIC, TAD (IID & CDM)  학부  2018   \n43                신문방송학과  학부  2002   \n38               기계전자공학부  학부  2005   \n37               기계전자공학부  학부  2005   \n\n                                             href  BERT_SCORE  RNN_SCORE  \n33   /partner/expReport.asp?id=1854&page=4&bgbn=R           1   0.753160  \n0   /partner/expReport.asp?id=14839&page=1&bgbn=R           0   0.516349  \n43    /partner/expReport.asp?id=716&page=5&bgbn=R           1   0.512270  \n38   /partner/expReport.asp?id=1695&page=4&bgbn=R           1   0.512270  \n37   /partner/expReport.asp?id=1732&page=4&bgbn=R           1   0.512270  ",
      "text/html": "<div>\n<style scoped>\n    .dataframe tbody tr th:only-of-type {\n        vertical-align: middle;\n    }\n\n    .dataframe tbody tr th {\n        vertical-align: top;\n    }\n\n    .dataframe thead th {\n        text-align: right;\n    }\n</style>\n<table border=\"1\" class=\"dataframe\">\n  <thead>\n    <tr style=\"text-align: right;\">\n      <th></th>\n      <th>Unnamed: 0</th>\n      <th>No</th>\n      <th>제목</th>\n      <th>학과</th>\n      <th>과정</th>\n      <th>년도</th>\n      <th>href</th>\n      <th>BERT_SCORE</th>\n      <th>RNN_SCORE</th>\n    </tr>\n  </thead>\n  <tbody>\n    <tr>\n      <th>33</th>\n      <td>33</td>\n      <td>14</td>\n      <td>너무나도 그리운 시드니</td>\n      <td>의용전자공학</td>\n      <td>학부</td>\n      <td>2005</td>\n      <td>/partner/expReport.asp?id=1854&amp;page=4&amp;bgbn=R</td>\n      <td>1</td>\n      <td>0.753160</td>\n    </tr>\n    <tr>\n      <th>0</th>\n      <td>0</td>\n      <td>47</td>\n      <td>Warm, Welcoming, and Stimulating UTS</td>\n      <td>UIC, TAD (IID &amp; CDM)</td>\n      <td>학부</td>\n      <td>2018</td>\n      <td>/partner/expReport.asp?id=14839&amp;page=1&amp;bgbn=R</td>\n      <td>0</td>\n      <td>0.516349</td>\n    </tr>\n    <tr>\n      <th>43</th>\n      <td>43</td>\n      <td>4</td>\n      <td>University of Technology, Sydney</td>\n      <td>신문방송학과</td>\n      <td>학부</td>\n      <td>2002</td>\n      <td>/partner/expReport.asp?id=716&amp;page=5&amp;bgbn=R</td>\n      <td>1</td>\n      <td>0.512270</td>\n    </tr>\n    <tr>\n      <th>38</th>\n      <td>38</td>\n      <td>9</td>\n      <td>University of Technology, Sydney</td>\n      <td>기계전자공학부</td>\n      <td>학부</td>\n      <td>2005</td>\n      <td>/partner/expReport.asp?id=1695&amp;page=4&amp;bgbn=R</td>\n      <td>1</td>\n      <td>0.512270</td>\n    </tr>\n    <tr>\n      <th>37</th>\n      <td>37</td>\n      <td>10</td>\n      <td>University of Technology, Sydney</td>\n      <td>기계전자공학부</td>\n      <td>학부</td>\n      <td>2005</td>\n      <td>/partner/expReport.asp?id=1732&amp;page=4&amp;bgbn=R</td>\n      <td>1</td>\n      <td>0.512270</td>\n    </tr>\n  </tbody>\n</table>\n</div>"
     },
     "metadata": {},
     "execution_count": 6
    }
   ],
   "source": [
    "# look at sample dataset\n",
    "sample_file = abstract_yonsei_reviews[70]\n",
    "file_name = sample_file.split(\"/\")[-1]\n",
    "file_name_without_ext = file_name.split(\".\")[0]\n",
    "print(file_name_without_ext)\n",
    "univ_code = file_name_without_ext.split(\"_\")[0]\n",
    "print(univ_code)\n",
    "df_abstract = pd.read_csv(sample_file, encoding=\"utf-8\")\n",
    "df_abstract.sample(5)"
   ]
  },
  {
   "cell_type": "code",
   "execution_count": 7,
   "metadata": {},
   "outputs": [
    {
     "output_type": "execute_result",
     "data": {
      "text/plain": "       대학코드                                    제목                    학과  과정  \\\n0  AU000016  Warm, Welcoming, and Stimulating UTS  UIC, TAD (IID & CDM)  학부   \n1  AU000016                        다시 돌아가고 싶은 UTS                  의공학부  학부   \n2  AU000016                        행복했던 시드니에서 한학기                 기계공학과  학부   \n3  AU000016                           시드니에서의 한 학기                응용통계학과  학부   \n4  AU000016                             시드니에서의 1년                  경영학과  학부   \n\n          년도  BERT_SCORE  RNN_SCORE  \\\n0       2018           0   0.516349   \n1       2017           1   0.913062   \n2       2016           1   0.772298   \n3       2013           1   0.719899   \n4  2012-2013           0   0.719899   \n\n                                            href  \n0  /partner/expReport.asp?id=14839&page=1&bgbn=R  \n1  /partner/expReport.asp?id=14400&page=1&bgbn=R  \n2  /partner/expReport.asp?id=13591&page=1&bgbn=R  \n3   /partner/expReport.asp?id=6898&page=1&bgbn=R  \n4   /partner/expReport.asp?id=6422&page=1&bgbn=R  ",
      "text/html": "<div>\n<style scoped>\n    .dataframe tbody tr th:only-of-type {\n        vertical-align: middle;\n    }\n\n    .dataframe tbody tr th {\n        vertical-align: top;\n    }\n\n    .dataframe thead th {\n        text-align: right;\n    }\n</style>\n<table border=\"1\" class=\"dataframe\">\n  <thead>\n    <tr style=\"text-align: right;\">\n      <th></th>\n      <th>대학코드</th>\n      <th>제목</th>\n      <th>학과</th>\n      <th>과정</th>\n      <th>년도</th>\n      <th>BERT_SCORE</th>\n      <th>RNN_SCORE</th>\n      <th>href</th>\n    </tr>\n  </thead>\n  <tbody>\n    <tr>\n      <th>0</th>\n      <td>AU000016</td>\n      <td>Warm, Welcoming, and Stimulating UTS</td>\n      <td>UIC, TAD (IID &amp; CDM)</td>\n      <td>학부</td>\n      <td>2018</td>\n      <td>0</td>\n      <td>0.516349</td>\n      <td>/partner/expReport.asp?id=14839&amp;page=1&amp;bgbn=R</td>\n    </tr>\n    <tr>\n      <th>1</th>\n      <td>AU000016</td>\n      <td>다시 돌아가고 싶은 UTS</td>\n      <td>의공학부</td>\n      <td>학부</td>\n      <td>2017</td>\n      <td>1</td>\n      <td>0.913062</td>\n      <td>/partner/expReport.asp?id=14400&amp;page=1&amp;bgbn=R</td>\n    </tr>\n    <tr>\n      <th>2</th>\n      <td>AU000016</td>\n      <td>행복했던 시드니에서 한학기</td>\n      <td>기계공학과</td>\n      <td>학부</td>\n      <td>2016</td>\n      <td>1</td>\n      <td>0.772298</td>\n      <td>/partner/expReport.asp?id=13591&amp;page=1&amp;bgbn=R</td>\n    </tr>\n    <tr>\n      <th>3</th>\n      <td>AU000016</td>\n      <td>시드니에서의 한 학기</td>\n      <td>응용통계학과</td>\n      <td>학부</td>\n      <td>2013</td>\n      <td>1</td>\n      <td>0.719899</td>\n      <td>/partner/expReport.asp?id=6898&amp;page=1&amp;bgbn=R</td>\n    </tr>\n    <tr>\n      <th>4</th>\n      <td>AU000016</td>\n      <td>시드니에서의 1년</td>\n      <td>경영학과</td>\n      <td>학부</td>\n      <td>2012-2013</td>\n      <td>0</td>\n      <td>0.719899</td>\n      <td>/partner/expReport.asp?id=6422&amp;page=1&amp;bgbn=R</td>\n    </tr>\n  </tbody>\n</table>\n</div>"
     },
     "metadata": {},
     "execution_count": 7
    }
   ],
   "source": [
    "df_abstract_review = df_abstract[[\"제목\", \"학과\", \"과정\", \"년도\", \"BERT_SCORE\", \"RNN_SCORE\", \"href\"]]\n",
    "df_abstract_review[\"대학코드\"] = univ_code\n",
    "_abstract_review = df_abstract[[\"제목\", \"학과\", \"과정\", \"년도\", \"BERT_SCORE\", \"RNN_SCORE\", \"href\"]]\n",
    "df_abstract_review[\"대학코드\"] = univ_code\n",
    "df_abstract_review = df_abstract_review[[\"대학코드\",\"제목\", \"학과\", \"과정\", \"년도\", \"BERT_SCORE\", \"RNN_SCORE\", \"href\"]]\n",
    "df_abstract_review.head()"
   ]
  },
  {
   "cell_type": "code",
   "execution_count": 8,
   "metadata": {},
   "outputs": [
    {
     "output_type": "execute_result",
     "data": {
      "text/plain": "['대학코드', '제목', '학과', '과정', '년도', 'BERT_SCORE', 'RNN_SCORE', 'href']"
     },
     "metadata": {},
     "execution_count": 8
    }
   ],
   "source": [
    "df_abstract_review.columns.to_list()"
   ]
  },
  {
   "cell_type": "code",
   "execution_count": 23,
   "metadata": {},
   "outputs": [],
   "source": [
    "def make_abstract_review_df(UNIV_CODE):\n",
    "    file_path = f\"./data_sentiment/abstract/{UNIV_CODE}_review_abstract_sentiment.csv\"\n",
    "    df_abstract = pd.read_csv(file_path, encoding=\"utf-8\")\n",
    "    df_abstract_review = df_abstract[[\"제목\", \"학과\", \"과정\", \"년도\", \"BERT_SCORE\", \"RNN_SCORE\", \"href\"]]\n",
    "    df_abstract_review[\"대학코드\"] = univ_code\n",
    "    _abstract_review = df_abstract[[\"제목\", \"학과\", \"과정\", \"년도\", \"BERT_SCORE\", \"RNN_SCORE\", \"href\"]]\n",
    "    df_abstract_review[\"대학코드\"] = univ_code\n",
    "    df_abstract_review = df_abstract_review[[\"대학코드\",\"제목\", \"학과\", \"과정\", \"년도\", \"BERT_SCORE\", \"RNN_SCORE\", \"href\"]]\n",
    "    return df_abstract_review"
   ]
  },
  {
   "cell_type": "code",
   "execution_count": 37,
   "metadata": {},
   "outputs": [],
   "source": [
    "def yield_BERT_SUM(UNIV_CODE):\n",
    "    file_path = f\"./data_sentiment/abstract/{UNIV_CODE}_review_abstract_sentiment.csv\"\n",
    "    dataframe_input = pd.read_csv(file_path, encoding=\"utf-8\")\n",
    "    bert_sum = dataframe_input[\"BERT_SCORE\"].sum()\n",
    "    return bert_sum"
   ]
  },
  {
   "cell_type": "code",
   "execution_count": 41,
   "metadata": {},
   "outputs": [],
   "source": [
    "def yield_RNN_SUM(UNIV_CODE):\n",
    "    file_path = f\"./data_sentiment/abstract/{UNIV_CODE}_review_abstract_sentiment.csv\"\n",
    "    dataframe_input = pd.read_csv(file_path, encoding=\"utf-8\")\n",
    "    rnn_sum = dataframe_input[\"RNN_SCORE\"].sum()\n",
    "    return rnn_sum"
   ]
  },
  {
   "cell_type": "code",
   "execution_count": 43,
   "metadata": {},
   "outputs": [],
   "source": [
    "def yield_no_of_students(UNIV_CODE):\n",
    "    dataframe_input = make_abstract_review_df(UNIV_CODE)\n",
    "    no_of_students = len(dataframe_input.index)\n",
    "    return no_of_students"
   ]
  },
  {
   "cell_type": "code",
   "execution_count": 25,
   "metadata": {
    "tags": []
   },
   "outputs": [
    {
     "output_type": "stream",
     "name": "stdout",
     "text": "65\n49.14911192655563\n"
    }
   ],
   "source": [
    "print(yield_BERT_SUM(\"DK000003\"))\n",
    "print(yield_RNN_SUM(\"DK000003\"))"
   ]
  },
  {
   "cell_type": "code",
   "execution_count": 27,
   "metadata": {
    "tags": []
   },
   "outputs": [
    {
     "output_type": "stream",
     "name": "stdout",
     "text": "41\n43.059615552425385\n"
    }
   ],
   "source": [
    "print(yield_BERT_SUM(\"CN000016\"))\n",
    "print(yield_RNN_SUM(\"CN000016\"))"
   ]
  },
  {
   "cell_type": "code",
   "execution_count": null,
   "metadata": {},
   "outputs": [],
   "source": []
  },
  {
   "cell_type": "code",
   "execution_count": 10,
   "metadata": {},
   "outputs": [
    {
     "output_type": "execute_result",
     "data": {
      "text/plain": "     level_0  index   No                                          대학명  \\\n145      145     21   22  Universite de Lille III (Charles de Gaulle)   \n314      314     14   15                         University of Leiden   \n3          3      2    3                       Universidad de Palermo   \n388      388      1    2                           Rangsit University   \n684      684    248  249                     University of Notre Dame   \n\n                국가  파견구분      협정형태  \\\n145         FRANCE  교환학생      ISEP   \n314    NETHERLANDS  교환학생  교환대학ISEP   \n3        ARGENTINA  교환학생      ISEP   \n388       THAILAND  교환학생      USAC   \n684  UNITED STATES  교환학생      교환대학   \n\n                                             href visitation  \n145  /partner/expReport.asp?ucode=FR000016&bgbn=A     Exists  \n314  /partner/expReport.asp?ucode=NL000009&bgbn=A     Exists  \n3    /partner/expReport.asp?ucode=AR000003&bgbn=A       None  \n388  /partner/expReport.asp?ucode=TH000002&bgbn=A     Exists  \n684  /partner/expReport.asp?ucode=US000287&bgbn=A     Exists  ",
      "text/html": "<div>\n<style scoped>\n    .dataframe tbody tr th:only-of-type {\n        vertical-align: middle;\n    }\n\n    .dataframe tbody tr th {\n        vertical-align: top;\n    }\n\n    .dataframe thead th {\n        text-align: right;\n    }\n</style>\n<table border=\"1\" class=\"dataframe\">\n  <thead>\n    <tr style=\"text-align: right;\">\n      <th></th>\n      <th>level_0</th>\n      <th>index</th>\n      <th>No</th>\n      <th>대학명</th>\n      <th>국가</th>\n      <th>파견구분</th>\n      <th>협정형태</th>\n      <th>href</th>\n      <th>visitation</th>\n    </tr>\n  </thead>\n  <tbody>\n    <tr>\n      <th>145</th>\n      <td>145</td>\n      <td>21</td>\n      <td>22</td>\n      <td>Universite de Lille III (Charles de Gaulle)</td>\n      <td>FRANCE</td>\n      <td>교환학생</td>\n      <td>ISEP</td>\n      <td>/partner/expReport.asp?ucode=FR000016&amp;bgbn=A</td>\n      <td>Exists</td>\n    </tr>\n    <tr>\n      <th>314</th>\n      <td>314</td>\n      <td>14</td>\n      <td>15</td>\n      <td>University of Leiden</td>\n      <td>NETHERLANDS</td>\n      <td>교환학생</td>\n      <td>교환대학ISEP</td>\n      <td>/partner/expReport.asp?ucode=NL000009&amp;bgbn=A</td>\n      <td>Exists</td>\n    </tr>\n    <tr>\n      <th>3</th>\n      <td>3</td>\n      <td>2</td>\n      <td>3</td>\n      <td>Universidad de Palermo</td>\n      <td>ARGENTINA</td>\n      <td>교환학생</td>\n      <td>ISEP</td>\n      <td>/partner/expReport.asp?ucode=AR000003&amp;bgbn=A</td>\n      <td>None</td>\n    </tr>\n    <tr>\n      <th>388</th>\n      <td>388</td>\n      <td>1</td>\n      <td>2</td>\n      <td>Rangsit University</td>\n      <td>THAILAND</td>\n      <td>교환학생</td>\n      <td>USAC</td>\n      <td>/partner/expReport.asp?ucode=TH000002&amp;bgbn=A</td>\n      <td>Exists</td>\n    </tr>\n    <tr>\n      <th>684</th>\n      <td>684</td>\n      <td>248</td>\n      <td>249</td>\n      <td>University of Notre Dame</td>\n      <td>UNITED STATES</td>\n      <td>교환학생</td>\n      <td>교환대학</td>\n      <td>/partner/expReport.asp?ucode=US000287&amp;bgbn=A</td>\n      <td>Exists</td>\n    </tr>\n  </tbody>\n</table>\n</div>"
     },
     "metadata": {},
     "execution_count": 10
    }
   ],
   "source": [
    "df_univ = pd.read_csv(\"./data/univ_db_full.csv\", encoding=\"utf-8\")\n",
    "df_univ.sample(5)"
   ]
  },
  {
   "cell_type": "code",
   "execution_count": 11,
   "metadata": {},
   "outputs": [],
   "source": [
    "series_query = df_univ[\"href\"].str.split(\"=\", expand=True)[1]\n",
    "series_univ_code = series_query.str.split(\"&\", expand=True)[0]\n",
    "df_univ[\"대학코드\"] = series_univ_code"
   ]
  },
  {
   "cell_type": "code",
   "execution_count": 12,
   "metadata": {},
   "outputs": [
    {
     "output_type": "execute_result",
     "data": {
      "text/plain": "   level_0  index  No                              대학명           국가  파견구분  \\\n0        0      0   1                 Kabul University  AFGHANISTAN  교환학생   \n1        1      0   1          Universidad Blas Pascal    ARGENTINA  교환학생   \n2        2      1   2  Universidad Catolica de Cordoba    ARGENTINA  교환학생   \n3        3      2   3           Universidad de Palermo    ARGENTINA  교환학생   \n4        4      3   4         Universidad del Salvador    ARGENTINA  교환학생   \n\n   협정형태                                          href visitation      대학코드  \n0  교환대학  /partner/expReport.asp?ucode=AF000001&bgbn=A       None  AF000001  \n1  ISEP  /partner/expReport.asp?ucode=AR000001&bgbn=A       None  AR000001  \n2  ISEP  /partner/expReport.asp?ucode=AR000002&bgbn=A       None  AR000002  \n3  ISEP  /partner/expReport.asp?ucode=AR000003&bgbn=A       None  AR000003  \n4  ISEP  /partner/expReport.asp?ucode=AR000004&bgbn=A     Exists  AR000004  ",
      "text/html": "<div>\n<style scoped>\n    .dataframe tbody tr th:only-of-type {\n        vertical-align: middle;\n    }\n\n    .dataframe tbody tr th {\n        vertical-align: top;\n    }\n\n    .dataframe thead th {\n        text-align: right;\n    }\n</style>\n<table border=\"1\" class=\"dataframe\">\n  <thead>\n    <tr style=\"text-align: right;\">\n      <th></th>\n      <th>level_0</th>\n      <th>index</th>\n      <th>No</th>\n      <th>대학명</th>\n      <th>국가</th>\n      <th>파견구분</th>\n      <th>협정형태</th>\n      <th>href</th>\n      <th>visitation</th>\n      <th>대학코드</th>\n    </tr>\n  </thead>\n  <tbody>\n    <tr>\n      <th>0</th>\n      <td>0</td>\n      <td>0</td>\n      <td>1</td>\n      <td>Kabul University</td>\n      <td>AFGHANISTAN</td>\n      <td>교환학생</td>\n      <td>교환대학</td>\n      <td>/partner/expReport.asp?ucode=AF000001&amp;bgbn=A</td>\n      <td>None</td>\n      <td>AF000001</td>\n    </tr>\n    <tr>\n      <th>1</th>\n      <td>1</td>\n      <td>0</td>\n      <td>1</td>\n      <td>Universidad Blas Pascal</td>\n      <td>ARGENTINA</td>\n      <td>교환학생</td>\n      <td>ISEP</td>\n      <td>/partner/expReport.asp?ucode=AR000001&amp;bgbn=A</td>\n      <td>None</td>\n      <td>AR000001</td>\n    </tr>\n    <tr>\n      <th>2</th>\n      <td>2</td>\n      <td>1</td>\n      <td>2</td>\n      <td>Universidad Catolica de Cordoba</td>\n      <td>ARGENTINA</td>\n      <td>교환학생</td>\n      <td>ISEP</td>\n      <td>/partner/expReport.asp?ucode=AR000002&amp;bgbn=A</td>\n      <td>None</td>\n      <td>AR000002</td>\n    </tr>\n    <tr>\n      <th>3</th>\n      <td>3</td>\n      <td>2</td>\n      <td>3</td>\n      <td>Universidad de Palermo</td>\n      <td>ARGENTINA</td>\n      <td>교환학생</td>\n      <td>ISEP</td>\n      <td>/partner/expReport.asp?ucode=AR000003&amp;bgbn=A</td>\n      <td>None</td>\n      <td>AR000003</td>\n    </tr>\n    <tr>\n      <th>4</th>\n      <td>4</td>\n      <td>3</td>\n      <td>4</td>\n      <td>Universidad del Salvador</td>\n      <td>ARGENTINA</td>\n      <td>교환학생</td>\n      <td>ISEP</td>\n      <td>/partner/expReport.asp?ucode=AR000004&amp;bgbn=A</td>\n      <td>Exists</td>\n      <td>AR000004</td>\n    </tr>\n  </tbody>\n</table>\n</div>"
     },
     "metadata": {},
     "execution_count": 12
    }
   ],
   "source": [
    "df_univ.head()"
   ]
  },
  {
   "cell_type": "code",
   "execution_count": 62,
   "metadata": {},
   "outputs": [
    {
     "output_type": "execute_result",
     "data": {
      "text/plain": "       대학코드           국가                              대학명  파견구분      협정형태  \\\n0  AF000001  AFGHANISTAN                 Kabul University  교환학생      교환대학   \n1  AR000001    ARGENTINA          Universidad Blas Pascal  교환학생      ISEP   \n2  AR000002    ARGENTINA  Universidad Catolica de Cordoba  교환학생      ISEP   \n3  AR000003    ARGENTINA           Universidad de Palermo  교환학생      ISEP   \n4  AR000004    ARGENTINA         Universidad del Salvador  교환학생      ISEP   \n5  AR000005    ARGENTINA       University of Buenos Aires  교환학생      교환대학   \n6  AU000019    AUSTRALIA   Australian National University  교환학생      교환대학   \n7  AU000001    AUSTRALIA                  Bond University  교환학생      교환대학   \n8  AU000002    AUSTRALIA                Curtin University  교환학생  교환대학ISEP   \n9  AU000003    AUSTRALIA  Curtin University of Technology  교환학생       NaN   \n\n  visitation                                          href  \n0       None  /partner/expReport.asp?ucode=AF000001&bgbn=A  \n1       None  /partner/expReport.asp?ucode=AR000001&bgbn=A  \n2       None  /partner/expReport.asp?ucode=AR000002&bgbn=A  \n3       None  /partner/expReport.asp?ucode=AR000003&bgbn=A  \n4     Exists  /partner/expReport.asp?ucode=AR000004&bgbn=A  \n5       None  /partner/expReport.asp?ucode=AR000005&bgbn=A  \n6     Exists  /partner/expReport.asp?ucode=AU000019&bgbn=A  \n7     Exists  /partner/expReport.asp?ucode=AU000001&bgbn=A  \n8     Exists  /partner/expReport.asp?ucode=AU000002&bgbn=A  \n9     Exists  /partner/expReport.asp?ucode=AU000003&bgbn=A  ",
      "text/html": "<div>\n<style scoped>\n    .dataframe tbody tr th:only-of-type {\n        vertical-align: middle;\n    }\n\n    .dataframe tbody tr th {\n        vertical-align: top;\n    }\n\n    .dataframe thead th {\n        text-align: right;\n    }\n</style>\n<table border=\"1\" class=\"dataframe\">\n  <thead>\n    <tr style=\"text-align: right;\">\n      <th></th>\n      <th>대학코드</th>\n      <th>국가</th>\n      <th>대학명</th>\n      <th>파견구분</th>\n      <th>협정형태</th>\n      <th>visitation</th>\n      <th>href</th>\n    </tr>\n  </thead>\n  <tbody>\n    <tr>\n      <th>0</th>\n      <td>AF000001</td>\n      <td>AFGHANISTAN</td>\n      <td>Kabul University</td>\n      <td>교환학생</td>\n      <td>교환대학</td>\n      <td>None</td>\n      <td>/partner/expReport.asp?ucode=AF000001&amp;bgbn=A</td>\n    </tr>\n    <tr>\n      <th>1</th>\n      <td>AR000001</td>\n      <td>ARGENTINA</td>\n      <td>Universidad Blas Pascal</td>\n      <td>교환학생</td>\n      <td>ISEP</td>\n      <td>None</td>\n      <td>/partner/expReport.asp?ucode=AR000001&amp;bgbn=A</td>\n    </tr>\n    <tr>\n      <th>2</th>\n      <td>AR000002</td>\n      <td>ARGENTINA</td>\n      <td>Universidad Catolica de Cordoba</td>\n      <td>교환학생</td>\n      <td>ISEP</td>\n      <td>None</td>\n      <td>/partner/expReport.asp?ucode=AR000002&amp;bgbn=A</td>\n    </tr>\n    <tr>\n      <th>3</th>\n      <td>AR000003</td>\n      <td>ARGENTINA</td>\n      <td>Universidad de Palermo</td>\n      <td>교환학생</td>\n      <td>ISEP</td>\n      <td>None</td>\n      <td>/partner/expReport.asp?ucode=AR000003&amp;bgbn=A</td>\n    </tr>\n    <tr>\n      <th>4</th>\n      <td>AR000004</td>\n      <td>ARGENTINA</td>\n      <td>Universidad del Salvador</td>\n      <td>교환학생</td>\n      <td>ISEP</td>\n      <td>Exists</td>\n      <td>/partner/expReport.asp?ucode=AR000004&amp;bgbn=A</td>\n    </tr>\n    <tr>\n      <th>5</th>\n      <td>AR000005</td>\n      <td>ARGENTINA</td>\n      <td>University of Buenos Aires</td>\n      <td>교환학생</td>\n      <td>교환대학</td>\n      <td>None</td>\n      <td>/partner/expReport.asp?ucode=AR000005&amp;bgbn=A</td>\n    </tr>\n    <tr>\n      <th>6</th>\n      <td>AU000019</td>\n      <td>AUSTRALIA</td>\n      <td>Australian National University</td>\n      <td>교환학생</td>\n      <td>교환대학</td>\n      <td>Exists</td>\n      <td>/partner/expReport.asp?ucode=AU000019&amp;bgbn=A</td>\n    </tr>\n    <tr>\n      <th>7</th>\n      <td>AU000001</td>\n      <td>AUSTRALIA</td>\n      <td>Bond University</td>\n      <td>교환학생</td>\n      <td>교환대학</td>\n      <td>Exists</td>\n      <td>/partner/expReport.asp?ucode=AU000001&amp;bgbn=A</td>\n    </tr>\n    <tr>\n      <th>8</th>\n      <td>AU000002</td>\n      <td>AUSTRALIA</td>\n      <td>Curtin University</td>\n      <td>교환학생</td>\n      <td>교환대학ISEP</td>\n      <td>Exists</td>\n      <td>/partner/expReport.asp?ucode=AU000002&amp;bgbn=A</td>\n    </tr>\n    <tr>\n      <th>9</th>\n      <td>AU000003</td>\n      <td>AUSTRALIA</td>\n      <td>Curtin University of Technology</td>\n      <td>교환학생</td>\n      <td>NaN</td>\n      <td>Exists</td>\n      <td>/partner/expReport.asp?ucode=AU000003&amp;bgbn=A</td>\n    </tr>\n  </tbody>\n</table>\n</div>"
     },
     "metadata": {},
     "execution_count": 62
    }
   ],
   "source": [
    "df = df_univ[[\"대학코드\", \"국가\", \"대학명\", \"파견구분\", \"협정형태\", \"visitation\", \"href\"]]\n",
    "df.head(10)"
   ]
  },
  {
   "cell_type": "code",
   "execution_count": 34,
   "metadata": {},
   "outputs": [
    {
     "output_type": "execute_result",
     "data": {
      "text/plain": "       대학코드         국가                              대학명  파견구분      협정형태  \\\n4  AR000004  ARGENTINA         Universidad del Salvador  교환학생      ISEP   \n6  AU000019  AUSTRALIA   Australian National University  교환학생      교환대학   \n7  AU000001  AUSTRALIA                  Bond University  교환학생      교환대학   \n8  AU000002  AUSTRALIA                Curtin University  교환학생  교환대학ISEP   \n9  AU000003  AUSTRALIA  Curtin University of Technology  교환학생       NaN   \n\n  visitation                                          href  \n4     Exists  /partner/expReport.asp?ucode=AR000004&bgbn=A  \n6     Exists  /partner/expReport.asp?ucode=AU000019&bgbn=A  \n7     Exists  /partner/expReport.asp?ucode=AU000001&bgbn=A  \n8     Exists  /partner/expReport.asp?ucode=AU000002&bgbn=A  \n9     Exists  /partner/expReport.asp?ucode=AU000003&bgbn=A  ",
      "text/html": "<div>\n<style scoped>\n    .dataframe tbody tr th:only-of-type {\n        vertical-align: middle;\n    }\n\n    .dataframe tbody tr th {\n        vertical-align: top;\n    }\n\n    .dataframe thead th {\n        text-align: right;\n    }\n</style>\n<table border=\"1\" class=\"dataframe\">\n  <thead>\n    <tr style=\"text-align: right;\">\n      <th></th>\n      <th>대학코드</th>\n      <th>국가</th>\n      <th>대학명</th>\n      <th>파견구분</th>\n      <th>협정형태</th>\n      <th>visitation</th>\n      <th>href</th>\n    </tr>\n  </thead>\n  <tbody>\n    <tr>\n      <th>4</th>\n      <td>AR000004</td>\n      <td>ARGENTINA</td>\n      <td>Universidad del Salvador</td>\n      <td>교환학생</td>\n      <td>ISEP</td>\n      <td>Exists</td>\n      <td>/partner/expReport.asp?ucode=AR000004&amp;bgbn=A</td>\n    </tr>\n    <tr>\n      <th>6</th>\n      <td>AU000019</td>\n      <td>AUSTRALIA</td>\n      <td>Australian National University</td>\n      <td>교환학생</td>\n      <td>교환대학</td>\n      <td>Exists</td>\n      <td>/partner/expReport.asp?ucode=AU000019&amp;bgbn=A</td>\n    </tr>\n    <tr>\n      <th>7</th>\n      <td>AU000001</td>\n      <td>AUSTRALIA</td>\n      <td>Bond University</td>\n      <td>교환학생</td>\n      <td>교환대학</td>\n      <td>Exists</td>\n      <td>/partner/expReport.asp?ucode=AU000001&amp;bgbn=A</td>\n    </tr>\n    <tr>\n      <th>8</th>\n      <td>AU000002</td>\n      <td>AUSTRALIA</td>\n      <td>Curtin University</td>\n      <td>교환학생</td>\n      <td>교환대학ISEP</td>\n      <td>Exists</td>\n      <td>/partner/expReport.asp?ucode=AU000002&amp;bgbn=A</td>\n    </tr>\n    <tr>\n      <th>9</th>\n      <td>AU000003</td>\n      <td>AUSTRALIA</td>\n      <td>Curtin University of Technology</td>\n      <td>교환학생</td>\n      <td>NaN</td>\n      <td>Exists</td>\n      <td>/partner/expReport.asp?ucode=AU000003&amp;bgbn=A</td>\n    </tr>\n  </tbody>\n</table>\n</div>"
     },
     "metadata": {},
     "execution_count": 34
    }
   ],
   "source": [
    "df_ever_been = df.loc[df['visitation'] == \"Exists\"]\n",
    "df_ever_been.head()"
   ]
  },
  {
   "cell_type": "code",
   "execution_count": null,
   "metadata": {},
   "outputs": [],
   "source": [
    "for index, row in df_ever_been.iterrows():\n",
    "    print(row[\"대학명\"], yield_BERT_SUM(row[\"대학코드\"]), yield_RNN_SUM(row[\"대학코드\"]), yield_no_of_students(row[\"대학코드\"]))"
   ]
  },
  {
   "cell_type": "code",
   "execution_count": 14,
   "metadata": {},
   "outputs": [
    {
     "output_type": "execute_result",
     "data": {
      "text/plain": "['대학코드', '국가', '대학명', '파견구분', '협정형태', 'visitation', 'href']"
     },
     "metadata": {},
     "execution_count": 14
    }
   ],
   "source": [
    "df.columns.to_list()"
   ]
  },
  {
   "cell_type": "code",
   "execution_count": 59,
   "metadata": {},
   "outputs": [],
   "source": [
    "def make_univ_df():\n",
    "    # read university dataset csv file\n",
    "    df_univ = pd.read_csv(\"./data/univ_db_full.csv\", encoding=\"utf-8\")\n",
    "\n",
    "    # get unive~rsity code\n",
    "    series_query = df_univ[\"href\"].str.split(\"=\", expand=True)[1]\n",
    "    series_univ_code = series_query.str.split(\"&\", expand=True)[0]\n",
    "    df_univ[\"대학코드\"] = series_univ_code\n",
    "    \n",
    "    # Making column values for BERT_SUM, RNN_SUM, STUDENT_NO\n",
    "    list_bert_sum = []\n",
    "    list_rnn_sum = []\n",
    "    list_student_no = []\n",
    "    \n",
    "    for index, row in df_univ.iterrows():\n",
    "        if row[\"visitation\"] == \"None\":\n",
    "            list_bert_sum.append(np.NaN)\n",
    "            list_rnn_sum.append(np.NaN)\n",
    "            list_student_no.append(np.NaN)\n",
    "\n",
    "        if row[\"visitation\"] == \"Exists\":\n",
    "            list_bert_sum.append(yield_BERT_SUM(row[\"대학코드\"]))\n",
    "            list_rnn_sum.append(yield_RNN_SUM(row[\"대학코드\"]))\n",
    "            list_student_no.append(yield_no_of_students(row[\"대학코드\"]))\n",
    "    \n",
    "    df_univ[\"BERT_SUM\"] = list_bert_sum\n",
    "    df_univ[\"RNN_SUM\"] = list_rnn_sum\n",
    "    df_univ[\"STUDENT_NO\"] = list_student_no\n",
    "    \n",
    "    df = df_univ[[\"대학코드\", \"국가\", \"대학명\", \"파견구분\", \"협정형태\", \"STUDENT_NO\", \"BERT_SUM\", \"RNN_SUM\", \"href\"]]\n",
    "    return df"
   ]
  },
  {
   "cell_type": "code",
   "execution_count": 61,
   "metadata": {},
   "outputs": [
    {
     "output_type": "execute_result",
     "data": {
      "text/plain": "       대학코드           국가                              대학명  파견구분      협정형태  \\\n0  AF000001  AFGHANISTAN                 Kabul University  교환학생      교환대학   \n1  AR000001    ARGENTINA          Universidad Blas Pascal  교환학생      ISEP   \n2  AR000002    ARGENTINA  Universidad Catolica de Cordoba  교환학생      ISEP   \n3  AR000003    ARGENTINA           Universidad de Palermo  교환학생      ISEP   \n4  AR000004    ARGENTINA         Universidad del Salvador  교환학생      ISEP   \n5  AR000005    ARGENTINA       University of Buenos Aires  교환학생      교환대학   \n6  AU000019    AUSTRALIA   Australian National University  교환학생      교환대학   \n7  AU000001    AUSTRALIA                  Bond University  교환학생      교환대학   \n8  AU000002    AUSTRALIA                Curtin University  교환학생  교환대학ISEP   \n9  AU000003    AUSTRALIA  Curtin University of Technology  교환학생       NaN   \n\n   STUDENT_NO  BERT_SUM    RNN_SUM  \\\n0         NaN       NaN        NaN   \n1         NaN       NaN        NaN   \n2         NaN       NaN        NaN   \n3         NaN       NaN        NaN   \n4         1.0       0.0   0.399670   \n5         NaN       NaN        NaN   \n6        27.0      17.0  17.952732   \n7        19.0      16.0  13.359809   \n8         7.0       5.0   4.657787   \n9        16.0      14.0   9.696670   \n\n                                           href  \n0  /partner/expReport.asp?ucode=AF000001&bgbn=A  \n1  /partner/expReport.asp?ucode=AR000001&bgbn=A  \n2  /partner/expReport.asp?ucode=AR000002&bgbn=A  \n3  /partner/expReport.asp?ucode=AR000003&bgbn=A  \n4  /partner/expReport.asp?ucode=AR000004&bgbn=A  \n5  /partner/expReport.asp?ucode=AR000005&bgbn=A  \n6  /partner/expReport.asp?ucode=AU000019&bgbn=A  \n7  /partner/expReport.asp?ucode=AU000001&bgbn=A  \n8  /partner/expReport.asp?ucode=AU000002&bgbn=A  \n9  /partner/expReport.asp?ucode=AU000003&bgbn=A  ",
      "text/html": "<div>\n<style scoped>\n    .dataframe tbody tr th:only-of-type {\n        vertical-align: middle;\n    }\n\n    .dataframe tbody tr th {\n        vertical-align: top;\n    }\n\n    .dataframe thead th {\n        text-align: right;\n    }\n</style>\n<table border=\"1\" class=\"dataframe\">\n  <thead>\n    <tr style=\"text-align: right;\">\n      <th></th>\n      <th>대학코드</th>\n      <th>국가</th>\n      <th>대학명</th>\n      <th>파견구분</th>\n      <th>협정형태</th>\n      <th>STUDENT_NO</th>\n      <th>BERT_SUM</th>\n      <th>RNN_SUM</th>\n      <th>href</th>\n    </tr>\n  </thead>\n  <tbody>\n    <tr>\n      <th>0</th>\n      <td>AF000001</td>\n      <td>AFGHANISTAN</td>\n      <td>Kabul University</td>\n      <td>교환학생</td>\n      <td>교환대학</td>\n      <td>NaN</td>\n      <td>NaN</td>\n      <td>NaN</td>\n      <td>/partner/expReport.asp?ucode=AF000001&amp;bgbn=A</td>\n    </tr>\n    <tr>\n      <th>1</th>\n      <td>AR000001</td>\n      <td>ARGENTINA</td>\n      <td>Universidad Blas Pascal</td>\n      <td>교환학생</td>\n      <td>ISEP</td>\n      <td>NaN</td>\n      <td>NaN</td>\n      <td>NaN</td>\n      <td>/partner/expReport.asp?ucode=AR000001&amp;bgbn=A</td>\n    </tr>\n    <tr>\n      <th>2</th>\n      <td>AR000002</td>\n      <td>ARGENTINA</td>\n      <td>Universidad Catolica de Cordoba</td>\n      <td>교환학생</td>\n      <td>ISEP</td>\n      <td>NaN</td>\n      <td>NaN</td>\n      <td>NaN</td>\n      <td>/partner/expReport.asp?ucode=AR000002&amp;bgbn=A</td>\n    </tr>\n    <tr>\n      <th>3</th>\n      <td>AR000003</td>\n      <td>ARGENTINA</td>\n      <td>Universidad de Palermo</td>\n      <td>교환학생</td>\n      <td>ISEP</td>\n      <td>NaN</td>\n      <td>NaN</td>\n      <td>NaN</td>\n      <td>/partner/expReport.asp?ucode=AR000003&amp;bgbn=A</td>\n    </tr>\n    <tr>\n      <th>4</th>\n      <td>AR000004</td>\n      <td>ARGENTINA</td>\n      <td>Universidad del Salvador</td>\n      <td>교환학생</td>\n      <td>ISEP</td>\n      <td>1.0</td>\n      <td>0.0</td>\n      <td>0.399670</td>\n      <td>/partner/expReport.asp?ucode=AR000004&amp;bgbn=A</td>\n    </tr>\n    <tr>\n      <th>5</th>\n      <td>AR000005</td>\n      <td>ARGENTINA</td>\n      <td>University of Buenos Aires</td>\n      <td>교환학생</td>\n      <td>교환대학</td>\n      <td>NaN</td>\n      <td>NaN</td>\n      <td>NaN</td>\n      <td>/partner/expReport.asp?ucode=AR000005&amp;bgbn=A</td>\n    </tr>\n    <tr>\n      <th>6</th>\n      <td>AU000019</td>\n      <td>AUSTRALIA</td>\n      <td>Australian National University</td>\n      <td>교환학생</td>\n      <td>교환대학</td>\n      <td>27.0</td>\n      <td>17.0</td>\n      <td>17.952732</td>\n      <td>/partner/expReport.asp?ucode=AU000019&amp;bgbn=A</td>\n    </tr>\n    <tr>\n      <th>7</th>\n      <td>AU000001</td>\n      <td>AUSTRALIA</td>\n      <td>Bond University</td>\n      <td>교환학생</td>\n      <td>교환대학</td>\n      <td>19.0</td>\n      <td>16.0</td>\n      <td>13.359809</td>\n      <td>/partner/expReport.asp?ucode=AU000001&amp;bgbn=A</td>\n    </tr>\n    <tr>\n      <th>8</th>\n      <td>AU000002</td>\n      <td>AUSTRALIA</td>\n      <td>Curtin University</td>\n      <td>교환학생</td>\n      <td>교환대학ISEP</td>\n      <td>7.0</td>\n      <td>5.0</td>\n      <td>4.657787</td>\n      <td>/partner/expReport.asp?ucode=AU000002&amp;bgbn=A</td>\n    </tr>\n    <tr>\n      <th>9</th>\n      <td>AU000003</td>\n      <td>AUSTRALIA</td>\n      <td>Curtin University of Technology</td>\n      <td>교환학생</td>\n      <td>NaN</td>\n      <td>16.0</td>\n      <td>14.0</td>\n      <td>9.696670</td>\n      <td>/partner/expReport.asp?ucode=AU000003&amp;bgbn=A</td>\n    </tr>\n  </tbody>\n</table>\n</div>"
     },
     "metadata": {},
     "execution_count": 61
    }
   ],
   "source": [
    "make_univ_df().head(10)"
   ]
  },
  {
   "cell_type": "code",
   "execution_count": null,
   "metadata": {},
   "outputs": [],
   "source": []
  }
 ]
}