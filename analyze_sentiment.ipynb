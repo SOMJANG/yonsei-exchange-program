{
 "metadata": {
  "language_info": {
   "codemirror_mode": {
    "name": "ipython",
    "version": 3
   },
   "file_extension": ".py",
   "mimetype": "text/x-python",
   "name": "python",
   "nbconvert_exporter": "python",
   "pygments_lexer": "ipython3",
   "version": "3.8.3-final"
  },
  "orig_nbformat": 2,
  "kernelspec": {
   "name": "python38364bitnlpkorvenv03d7b81388604b8b8d7aed95a2d6b41b",
   "display_name": "Python 3.8.3 64-bit ('nlpkor': venv)"
  }
 },
 "nbformat": 4,
 "nbformat_minor": 2,
 "cells": [
  {
   "cell_type": "code",
   "execution_count": 1,
   "metadata": {
    "tags": []
   },
   "outputs": [
    {
     "output_type": "stream",
     "name": "stdout",
     "text": "fatal: destination path 'KoBERT-nsmc' already exists and is not an empty directory.\n"
    }
   ],
   "source": [
    "!git clone https://github.com/monologg/KoBERT-nsmc"
   ]
  },
  {
   "cell_type": "code",
   "execution_count": 4,
   "metadata": {},
   "outputs": [],
   "source": [
    "KOBERT_PATH = \"./KoBERT-nsmc\""
   ]
  },
  {
   "cell_type": "code",
   "execution_count": 6,
   "metadata": {
    "tags": []
   },
   "outputs": [
    {
     "output_type": "stream",
     "name": "stderr",
     "text": "Downloading: 100%|██████████| 426/426 [00:00<00:00, 139kB/s]\nDownloading: 100%|██████████| 369M/369M [01:05<00:00, 5.63MB/s]\n"
    }
   ],
   "source": [
    "from transformers import BertModel\n",
    "from KoBERT_nsmc.tokenization_kobert import KoBertTokenizer\n",
    "\n",
    "model = BertModel.from_pretrained('monologg/kobert')\n",
    "tokenizer = KoBertTokenizer.from_pretrained('monologg/kobert')"
   ]
  },
  {
   "cell_type": "code",
   "execution_count": 8,
   "metadata": {},
   "outputs": [
    {
     "output_type": "execute_result",
     "data": {
      "text/plain": "<KoBERT_nsmc.tokenization_kobert.KoBertTokenizer at 0x14dee4400>"
     },
     "metadata": {},
     "execution_count": 8
    }
   ],
   "source": [
    "tokenizer"
   ]
  },
  {
   "cell_type": "code",
   "execution_count": null,
   "metadata": {},
   "outputs": [],
   "source": []
  }
 ]
}