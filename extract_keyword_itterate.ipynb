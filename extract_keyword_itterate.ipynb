{
 "metadata": {
  "language_info": {
   "codemirror_mode": {
    "name": "ipython",
    "version": 3
   },
   "file_extension": ".py",
   "mimetype": "text/x-python",
   "name": "python",
   "nbconvert_exporter": "python",
   "pygments_lexer": "ipython3",
   "version": "3.8.3-final"
  },
  "orig_nbformat": 2,
  "kernelspec": {
   "name": "python38364bitnlpkor2venvd6ba932570ef4af6b6af5bc7a778a398",
   "display_name": "Python 3.8.3 64-bit ('nlpkor2': venv)"
  }
 },
 "nbformat": 4,
 "nbformat_minor": 2,
 "cells": [
  {
   "cell_type": "code",
   "execution_count": 1,
   "metadata": {},
   "outputs": [],
   "source": [
    "MECAB_PATH = \"./univ_wordclouds_mecab\"\n",
    "OKT_PATH = \"./univ_wordclouds_okt\""
   ]
  },
  {
   "cell_type": "code",
   "execution_count": 2,
   "metadata": {
    "tags": []
   },
   "outputs": [
    {
     "output_type": "stream",
     "name": "stdout",
     "text": "1.1.0\n1.18.5\n"
    }
   ],
   "source": [
    "import pandas as pd\n",
    "import numpy as np\n",
    "print(pd.__version__)\n",
    "print(np.__version__)"
   ]
  },
  {
   "cell_type": "code",
   "execution_count": 3,
   "metadata": {},
   "outputs": [
    {
     "output_type": "execute_result",
     "data": {
      "text/plain": "       대학코드                             대학명  \\\n0  AR000004        Universidad del Salvador   \n1  AU000019  Australian National University   \n\n                                            gen_info  \\\n0  아르헨티나의 대다수 대학교는 한국처럼 캠퍼스가 있는 것이 아니라 도시 내에 몇개의 ...   \n1  ANU has a very big campus, but unlike Yonsei, ...   \n\n                                            env_info  \\\n0  대학교가 도시 여러곳에 분포하고 있으므로 각기 다르다. 하지만 남녀를 불문하고 부에...   \n1  The city center, called CIVIC, is 20min walk a...   \n\n                                           food_info  \\\n0  기숙사는 학교에서 제공하지 않고 두가지 옵션이 주어진다. 홈스테이 혹은 게스트 하우...   \n1  There are many housing options, but I chose to...   \n\n                                          study_info  \\\n0  아르헨티나에서의 대학 수업은 주로 오전 혹은 저녁에 있다. 대부분의 학생들이 일을하...   \n1  In my personal opinions, classes are generally...   \n\n                                         office_info  \\\n0  EL SALVADOR대학교는 국제 교육부가 잘 되있는 학교이다. 아르헨티나 대학교들...   \n1  Overall, I did not have to ask for help much f...   \n\n                                          facil_info  \\\n0  부대시설로는 헬스장이 있다고 알고 있으나 시내와 먼 곳에 있었다. 동아리는 몇가지 ...   \n1  There were many clubs for you to join at ANU, ...   \n\n                                           mhct_info  \\\n0  딱히 컬쳐쇼크를 받을 만 한 요소는 없었던 것 같다. 하지만 처음에 언어적인 면에서...   \n1  I did have some culture shock during my first ...   \n\n                                           help_info  \\\n0  살바도르 대학교 국제처에서 비자문제나 숙소문제(홈스테이경우) 등은 해결해 주고, 특...   \n1  I was helped a lot, especially during the firs...   \n\n                                            etc_info  \n0                                                NaN  \n1  Overall, my stay in Australia has been nothing...  ",
      "text/html": "<div>\n<style scoped>\n    .dataframe tbody tr th:only-of-type {\n        vertical-align: middle;\n    }\n\n    .dataframe tbody tr th {\n        vertical-align: top;\n    }\n\n    .dataframe thead th {\n        text-align: right;\n    }\n</style>\n<table border=\"1\" class=\"dataframe\">\n  <thead>\n    <tr style=\"text-align: right;\">\n      <th></th>\n      <th>대학코드</th>\n      <th>대학명</th>\n      <th>gen_info</th>\n      <th>env_info</th>\n      <th>food_info</th>\n      <th>study_info</th>\n      <th>office_info</th>\n      <th>facil_info</th>\n      <th>mhct_info</th>\n      <th>help_info</th>\n      <th>etc_info</th>\n    </tr>\n  </thead>\n  <tbody>\n    <tr>\n      <th>0</th>\n      <td>AR000004</td>\n      <td>Universidad del Salvador</td>\n      <td>아르헨티나의 대다수 대학교는 한국처럼 캠퍼스가 있는 것이 아니라 도시 내에 몇개의 ...</td>\n      <td>대학교가 도시 여러곳에 분포하고 있으므로 각기 다르다. 하지만 남녀를 불문하고 부에...</td>\n      <td>기숙사는 학교에서 제공하지 않고 두가지 옵션이 주어진다. 홈스테이 혹은 게스트 하우...</td>\n      <td>아르헨티나에서의 대학 수업은 주로 오전 혹은 저녁에 있다. 대부분의 학생들이 일을하...</td>\n      <td>EL SALVADOR대학교는 국제 교육부가 잘 되있는 학교이다. 아르헨티나 대학교들...</td>\n      <td>부대시설로는 헬스장이 있다고 알고 있으나 시내와 먼 곳에 있었다. 동아리는 몇가지 ...</td>\n      <td>딱히 컬쳐쇼크를 받을 만 한 요소는 없었던 것 같다. 하지만 처음에 언어적인 면에서...</td>\n      <td>살바도르 대학교 국제처에서 비자문제나 숙소문제(홈스테이경우) 등은 해결해 주고, 특...</td>\n      <td>NaN</td>\n    </tr>\n    <tr>\n      <th>1</th>\n      <td>AU000019</td>\n      <td>Australian National University</td>\n      <td>ANU has a very big campus, but unlike Yonsei, ...</td>\n      <td>The city center, called CIVIC, is 20min walk a...</td>\n      <td>There are many housing options, but I chose to...</td>\n      <td>In my personal opinions, classes are generally...</td>\n      <td>Overall, I did not have to ask for help much f...</td>\n      <td>There were many clubs for you to join at ANU, ...</td>\n      <td>I did have some culture shock during my first ...</td>\n      <td>I was helped a lot, especially during the firs...</td>\n      <td>Overall, my stay in Australia has been nothing...</td>\n    </tr>\n  </tbody>\n</table>\n</div>"
     },
     "metadata": {},
     "execution_count": 3
    }
   ],
   "source": [
    "# pandas 설정: 모든 row와 모든 column을 출력하게 하고, 각 column 별 출력되는 글자수는 50자 이내\n",
    "pd.set_option('display.max_rows', None, 'display.max_columns', None, 'display.max_colwidth', 50)\n",
    "\n",
    "# 위의 설정으로 간단하게 보는 df_specific\n",
    "df_specific = pd.read_csv(\"./data_wrangled/df_specific_wrangle.csv\", encoding=\"utf-8\")\n",
    "df_specific.head(2)"
   ]
  },
  {
   "cell_type": "code",
   "execution_count": 4,
   "metadata": {},
   "outputs": [],
   "source": [
    "# pandas 설정: 각 column 별 (혹은 한 cell에서) 출력되는 글자수 제한을 없애기\n",
    "pd.set_option('display.max_colwidth', None)"
   ]
  },
  {
   "cell_type": "code",
   "execution_count": 5,
   "metadata": {},
   "outputs": [],
   "source": [
    "import re\n",
    "# removing junks from the string data\n",
    "def remove_junk(str_data):\n",
    "    str_data = str_data.replace(\"\\\\\\\\n\", \"\")\n",
    "    str_data = str_data.replace(\"\\\\n\", \"\")\n",
    "    str_data = str_data.replace(\"\\n\", \"\")\n",
    "    str_data = str_data.replace(\"\\\\\", \"\")\n",
    "    str_data = str_data.replace(\"\\\\t\", \"\")\n",
    "    str_data = str_data.replace(\"NaN\", \"\")\n",
    "\n",
    "    # print(str_data) makes an error. too much of data\n",
    "    # 한글, english 빼고 전부 날리기\n",
    "    # str_data = re.sub('[^가-힣ㄱ-ㅎㅏ-ㅣa-zA-Z|0-9|.,]', ' ', str_data)\n",
    "\n",
    "    # 한글 빼고 다 날리기\n",
    "    str_data = re.sub('[^가-힣ㄱ-ㅎㅏ]', ' ', str_data)\n",
    "\n",
    "    # replace multiple spaces into single space\n",
    "    str_data = ' '.join(str_data.split())\n",
    "    return str_data\n",
    "\n",
    "# accessing university info of given column (= accessing one cell)\n",
    "def access_univ_info(dataframe, column, univ_code):\n",
    "    df_row = dataframe.loc[dataframe[\"대학코드\"] == univ_code]\n",
    "    str_univ_info = df_row[column].to_string(index=False).lstrip()\n",
    "    str_univ_info = remove_junk(str_univ_info)\n",
    "    return str_univ_info"
   ]
  },
  {
   "cell_type": "code",
   "execution_count": 6,
   "metadata": {},
   "outputs": [],
   "source": [
    "info_list = ['gen_info', 'env_info', 'food_info', 'study_info', 'office_info', 'facil_info', 'mhct_info', 'help_info', 'etc_info']"
   ]
  },
  {
   "cell_type": "code",
   "execution_count": 7,
   "metadata": {},
   "outputs": [
    {
     "output_type": "execute_result",
     "data": {
      "text/plain": "<soynlp.tokenizer._tokenizer.LTokenizer at 0x1122a34c0>"
     },
     "metadata": {},
     "execution_count": 7
    }
   ],
   "source": [
    "# https://github.com/lovit/soynlp\n",
    "from soynlp.tokenizer import RegexTokenizer, LTokenizer\n",
    "from collections import Counter\n",
    "\n",
    "tokenizer = LTokenizer()\n",
    "tokenizer"
   ]
  },
  {
   "cell_type": "code",
   "execution_count": 8,
   "metadata": {
    "tags": []
   },
   "outputs": [
    {
     "output_type": "stream",
     "name": "stdout",
     "text": "total 1969 number of stopwords available\n['있습니다', '수', '있는'] ['한국', '전체', '학부', '크기']\n"
    }
   ],
   "source": [
    "# read stopwords genarated from filter_stopwords() function\n",
    "stopwords_file = open('stopwords_kr.txt','rt', encoding='UTF8')\n",
    "stopwords_txt = stopwords_file.read()\n",
    "stopwords_list = stopwords_txt.strip('').split(', ')\n",
    "\n",
    "# get human selected stopwords\n",
    "stopwords_nogada_file = open('stopwords_nogada.txt','rt', encoding='UTF8')\n",
    "stopwords_nogada_txt = stopwords_nogada_file.read()\n",
    "stopwords_nogada = stopwords_nogada_txt.strip('').split(', ')\n",
    "stopwords_list = stopwords_list + stopwords_nogada\n",
    "print(f\"total {len(stopwords_list)} number of stopwords available\")\n",
    "print(stopwords_list[:3], stopwords_list[-4:])"
   ]
  },
  {
   "cell_type": "code",
   "execution_count": 9,
   "metadata": {},
   "outputs": [],
   "source": [
    "def throw_corpus(df_specific, column_data: str, stopwords:list, univ_no: int):\n",
    "    # get column data\n",
    "    df_column = df_specific[column_data].fillna(\"\")\n",
    "\n",
    "    # preprocess all values in column data\n",
    "    df_process = df_column.apply(remove_junk)\n",
    "    \n",
    "    # apply predefined soynlp tokenizer\n",
    "    df_tokens = df_process.apply(tokenizer.tokenize)\n",
    "    # print(df_tokens[-2:])\n",
    "\n",
    "    univ_bow = df_tokens[univ_no]\n",
    "    univ_name = df_specific[\"대학명\"][univ_no]\n",
    "    word_count = len(univ_bow)\n",
    "    if word_count < 500:\n",
    "        print(f\"{univ_name}'s {column_data} has not enough words: {word_count}\")\n",
    "        return False\n",
    "\n",
    "    elif word_count >= 500:\n",
    "        print(f\"{univ_name}'s {column_data} section has {word_count} words'\")\n",
    "        subtracted_bow_list = [item for item in univ_bow if item not in stopwords_list]\n",
    "        counted_bow_keywords = Counter(subtracted_bow_list)\n",
    "        counted_bow_tuple_list = list(Counter(counted_bow_keywords).items())\n",
    "        zipped_bow_words, bow_frequency_list = map(list, zip(*counted_bow_tuple_list)) \n",
    "        corpus = \" \".join(zipped_bow_words)\n",
    "        print(corpus[:100])\n",
    "        return corpus    "
   ]
  },
  {
   "cell_type": "code",
   "execution_count": 10,
   "metadata": {},
   "outputs": [],
   "source": [
    "# 그래프에 retina display 적용\n",
    "%config InlineBackend.figure_format = 'retina'\n",
    "\n",
    "# 워드클라우드를 위한 나눔고딕 경로 설정\n",
    "import matplotlib.font_manager as fm\n",
    "fontpath = './font/NanumBarunGothic.ttf'\n",
    "font = fm.FontProperties(fname=fontpath, size=9)"
   ]
  },
  {
   "cell_type": "code",
   "execution_count": 11,
   "metadata": {},
   "outputs": [],
   "source": [
    "from wordcloud import WordCloud\n",
    "import matplotlib.pyplot as plt\n",
    "%matplotlib inline\n",
    "\n",
    "backgroundcolor = \"white\"\n",
    "width=800\n",
    "height=600\n",
    "wordcloud = WordCloud(font_path = fontpath,\n",
    "                        # stopwords = STOPWORDS, \n",
    "                        background_color = backgroundcolor, \n",
    "                        max_words= 50,\n",
    "                        max_font_size= 300,\n",
    "                        width = width, \n",
    "                        height = height)"
   ]
  },
  {
   "cell_type": "code",
   "execution_count": 12,
   "metadata": {},
   "outputs": [],
   "source": [
    "# tokenizing sentences into nouns, verbs, etc\n",
    "from konlpy.tag import Mecab\n",
    "\n",
    "def generate_wordcloud_mecab(df_specific, column_data: str, stopwords_list: list,  corpus: str, univ_no: int, wordcloud):\n",
    "    mecab_tokenizer = Mecab()\n",
    "\n",
    "    # tokenization for mecab: http://openuiz.blogspot.com/2016/07/mecab-ko-dic.html\n",
    "    mecab_pos = [\"NNG\", \"NNP\", \"VV\", \"VA\", \"MAG\"]\n",
    "\n",
    "    mecab_keywords = [\n",
    "            word\n",
    "            for word, tag in mecab_tokenizer.pos(corpus, flatten=True)\n",
    "            if len(word) > 1 and tag in mecab_pos and word not in stopwords_list\n",
    "        ]\n",
    "    \n",
    "    univ_name = df_specific[\"대학명\"][univ_no]\n",
    "    print(univ_name)\n",
    "    print(f\"number of keywords: {len(mecab_keywords)}\")\n",
    "    print(mecab_keywords[:10])\n",
    "\n",
    "    # 빈도수 별로 단어를 크게 표시한다\n",
    "    str_keywords = ' '.join(mecab_keywords)\n",
    "    mecab_wordcloud = wordcloud.generate(str_keywords)\n",
    "    # plt.figure(figsize = (15 , 10))\n",
    "    # plt.imshow(wordcloud)\n",
    "    # plt.axis(\"off\")\n",
    "    # plt.show() \n",
    "\n",
    "    # save wordcloud png as file\n",
    "    college_code = df_specific[\"대학코드\"][univ_no]\n",
    "    wordcloud.to_file(f\"{MECAB_PATH}/{column_data}/{college_code}_{column_data}_mecab.png\")\n",
    "\n"
   ]
  },
  {
   "cell_type": "code",
   "execution_count": 13,
   "metadata": {},
   "outputs": [],
   "source": [
    "# tokenizing sentences into nouns, verbs, etc\n",
    "from konlpy.tag import Okt\n",
    "\n",
    "def okt_kor_tokenizer(raw, stopwords):\n",
    "    okt_tokenizer = Okt()\n",
    "    # position arguments(or position tags): 내가 뽑아내고 싶은 형태소들\n",
    "    twitter_pos = [\"Noun\", \"Alpha\", \"Verb\", \"Number\", \"Adverb\"]\n",
    "    twitter_list = [\n",
    "        word\n",
    "        # normalize 그랰ㅋㅋ -> 그래ㅋㅋ  # stemming 바뀌나->바뀌다\n",
    "        for word, tag in okt_tokenizer.pos(raw, norm=True, stem=True)\n",
    "        if len(word) > 1 and tag in twitter_pos and word not in stopwords\n",
    "    ]\n",
    "    return twitter_list\n",
    "\n",
    "\n",
    "def generate_wordcloud_okt(df_specific, column_data: str, stopwords_list: list,  corpus: str, univ_no: int, wordcloud):\n",
    "    \n",
    "    okt_words = okt_kor_tokenizer(corpus, stopwords_list)\n",
    "    okt_words = [item.replace('추다', '춥다') for item in okt_words]\n",
    "    okt_words_counted = Counter(okt_words)\n",
    "    print(\"number of counted words:\", len(okt_words_counted))\n",
    "    \n",
    "    univ_name = df_specific[\"대학명\"][univ_no]\n",
    "    print(univ_name)\n",
    "    print(f\"number of keywords: {len(okt_words_counted)}\")\n",
    "\n",
    "    # 빈도수 별로 단어를 크게 표시한다\n",
    "    wordcloud.generate_from_frequencies(frequencies = okt_words_counted) # mecab으로 추출한 명사로 워드클라우드를 그린다.\n",
    "    # plt.figure(figsize = (15 , 10))\n",
    "    # plt.imshow(wordcloud)\n",
    "    # plt.axis(\"off\")\n",
    "    # plt.show() \n",
    "\n",
    "    # save wordcloud png as file\n",
    "    college_code = df_specific[\"대학코드\"][univ_no]\n",
    "    wordcloud.to_file(f\"{OKT_PATH}/{column_data}/{college_code}_{column_data}_okt.png\")"
   ]
  },
  {
   "cell_type": "code",
   "execution_count": 14,
   "metadata": {},
   "outputs": [],
   "source": [
    "column_data = \"env_info\"\n",
    "sample_univ_no = 206"
   ]
  },
  {
   "cell_type": "code",
   "execution_count": 15,
   "metadata": {
    "tags": []
   },
   "outputs": [
    {
     "output_type": "stream",
     "name": "stdout",
     "text": "Public University of Navarre's env_info section has 2050 words'\n앞서 말씀드렸듯이 내에는 카페테리아랑 도서관 스포츠센터가 존재하며 스포츠센터 시설은 되어있는 편입니다 테니스 신청하였는데 학생들에게는 스포츠 수업이나 시설 이용료가 싼 가격에 제공\n"
    }
   ],
   "source": [
    "sample_corpus = throw_corpus(df_specific, column_data , stopwords_list, univ_no = sample_univ_no)"
   ]
  },
  {
   "cell_type": "code",
   "execution_count": 16,
   "metadata": {
    "tags": []
   },
   "outputs": [
    {
     "output_type": "stream",
     "name": "stdout",
     "text": "Public University of Navarre\nnumber of keywords: 699\n['앞서', '카페테리아', '도서관', '스포츠센터', '존재', '스포츠센터', '시설', '테니스', '신청', '스포츠']\n"
    }
   ],
   "source": [
    "generate_wordcloud_mecab(df_specific, column_data , stopwords_list, sample_corpus, sample_univ_no, wordcloud)"
   ]
  },
  {
   "cell_type": "code",
   "execution_count": 17,
   "metadata": {
    "tags": []
   },
   "outputs": [
    {
     "output_type": "stream",
     "name": "stdout",
     "text": "number of counted words: 493\nPublic University of Navarre\nnumber of keywords: 493\n"
    }
   ],
   "source": [
    "generate_wordcloud_okt(df_specific, column_data , stopwords_list, sample_corpus, sample_univ_no, wordcloud)"
   ]
  },
  {
   "cell_type": "code",
   "execution_count": 18,
   "metadata": {},
   "outputs": [],
   "source": [
    "no_wordcloud_gen_info = []\n",
    "no_wordcloud_env_info = []\n",
    "no_wordcloud_food_info = []\n",
    "no_wordcloud_study_info = []"
   ]
  },
  {
   "cell_type": "code",
   "execution_count": 19,
   "metadata": {
    "tags": [
     "outputPrepend"
    ]
   },
   "outputs": [
    {
     "output_type": "stream",
     "name": "stdout",
     "text": "bama\nnumber of keywords: 534\n['동쪽', '조지', '서쪽', '미시시피', '플로리다', '면적', '대한민국', '자랑', '버밍엄', '몽고메리']\nnumber of counted words: 439\nUniversity of Alabama\nnumber of keywords: 439\nUniversity of Arkansas's gen_info has not enough words: 102\nUniversity of California Berkeley's gen_info section has 31853 words'\n연대와 크기가 비슷하다고 말씀하시는 많은데 체감 상 연대보다 넓게 느껴졌습니다 수업인데도 멀리 떨어져 건물에서 많아서 캠퍼스를 걸어 다녔습니다 날씨는 춥습니다 햇빛은 강해도 바람이\nUniversity of California Berkeley\nnumber of keywords: 4932\n['체감', '멀리', '햇빛', '바람', '하루', '종일', '반팔', '후드', '야상', '종류']\nnumber of counted words: 2281\nUniversity of California Berkeley\nnumber of keywords: 2281\nUniversity of California Davis's gen_info section has 13815 words'\n크기가 넓어서 자전거 다녀야했어요 처음엔 헤맸는데 지리가 금방 익숙해져서 괜찮았어요 캘리포니아 날씨가 따뜻하다고 했는데 데이비스는 북부 캘리포니아라 겨울에 쌀쌀했어요 면적은 넓지만\nUniversity of California Davis\nnumber of keywords: 2580\n['자전거', '지리', '금방', '괜찮', '캘리포니아', '데이비스', '북부', '캘리포니아', '겨울', '면적']\nnumber of counted words: 1388\nUniversity of California Davis\nnumber of keywords: 1388\nUniversity of California Irvine's gen_info section has 28354 words'\n교환대학의 크기는 크지는 않았습니다 교내 사이즈만 치면 사이즈 보다는 였던 지리적위치로는 와는 분에서 거리이며 샌 디에이고 까지는 한시간 반정도 걸리는 이번에 코로나 다녀오지 못했\nUniversity of California Irvine\nnumber of keywords: 4952\n['교내', '사이즈', '사이즈', '지리', '거리', '걸리', '이번', '다녀오', '버스', '작년']\nnumber of counted words: 2327\nUniversity of California Irvine\nnumber of keywords: 2327\nUniversity of California Los Angeles's gen_info section has 25476 words'\n따뜻하여 월에도 후드티 긴 바지만 입어도 지낼 월까지는 무척 더웠어요 산불이 나서 실제 하루 휴교한 적도 캠퍼스가 편이지만 먼 문과 건물까지 기숙사에서 걸리므로 통학하는 불편한 크\nUniversity of California Los Angeles\nnumber of keywords: 4682\n['후드', '무척', '산불', '실제', '하루', '휴교', '걸리', '통학', '불편', '외국어']\nnumber of counted words: 2291\nUniversity of California Los Angeles\nnumber of keywords: 2291\nUniversity of California Merced's gen_info section has 726 words'\n학교는 송도 배 정도입니다 빠르게 확장하고 토지가 많아서 나중에는 커질 여름은 덥습니다 건조해서 날씨입니다 전까지 비가 왔습니다 겨울은 두꺼운 후디 하나면 충분합니다 짐에 패딩은 \nUniversity of California Merced\nnumber of keywords: 188\n['송도', '빠르', '확장', '토지', '나중', '여름', '건조', '겨울', '패딩', '겨울']\nnumber of counted words: 191\nUniversity of California Merced\nnumber of keywords: 191\nUniversity of California Riverside's gen_info section has 5271 words'\n크기는 연대만하다고 많이들 말씀해주셨는데 학교가 백양로처럼 쫙 뻗어있는 구조가 빌딩인 빌딩을 기준으로 방사형으로 구조라서 체감상 넓다고 느껴졌습니다 기숙사에서 살았는데도 아침에 듣\nUniversity of California Riverside\nnumber of keywords: 1266\n['백양로', '구조', '빌딩', '빌딩', '기준', '방사형', '구조', '체감', '아침', '빌딩']\nnumber of counted words: 853\nUniversity of California Riverside\nnumber of keywords: 853\nUniversity of California San Diego's gen_info section has 23169 words'\n체감상 캠퍼스는 연세대학교보다 교내에서 자전거 스케이트보드 전동킥보드 다니는 셔틀도 존재합니다 가을쿼터에는 살아 걸어다니는 문제를 느끼지 못했지만 겨울쿼터에는 오프캠퍼스에서 자취방\nUniversity of California San Diego\nnumber of keywords: 4200\n['체감', '교내', '자전거', '스케이트보드', '전동', '다니', '셔틀', '존재', '가을', '쿼터']\nnumber of counted words: 2059\nUniversity of California San Diego\nnumber of keywords: 2059\nUniversity of California Santa Barbara's gen_info section has 27032 words'\n햇빛 아래 파도치는 모래사장과 휴양지 이미지의 캘리포니아는 이곳을 말한다 유씨 곳도 이렇게 대학인 척 비치 리조트는 아닐 납작하고 볕이 잘드는데 신촌거리 대신 바다가 느낌이다 공항\nUniversity of California Santa Barbara\nnumber of keywords: 4222\n['햇빛', '아래', '파도치', '모래사장', '휴양지', '이미지', '캘리포니아', '이렇게', '비치', '리조트']\nnumber of counted words: 2075\nUniversity of California Santa Barbara\nnumber of keywords: 2075\nUniversity of California Santa Cruz's gen_info section has 6210 words'\n유씨 산타크루즈의 크기는 큽니다 연세대학교에서는 대우관에서 공학관까지 마음만 먹고 빨리 걸으면 아슬아슬하게 도착할 산타크루즈는 끝과 끝에 강의실까지 갈려면 정도는 걸리는 그래서인지\nUniversity of California Santa Cruz\nnumber of keywords: 1343\n['산타크루즈', '우관', '공학', '마음', '빨리', '아슬아슬', '도착', '산타크루즈', '강의실', '걸리']\nnumber of counted words: 900\nUniversity of California Santa Cruz\nnumber of keywords: 900\nUniversity of Chicago's gen_info section has 815 words'\n시카고 대학은 대 도시인 시카고의 남부에 학교로 남부 위치하고 캠퍼스가 없기는 주변이 도심이 주택단지라 사실상 학교만 시카고는 미국에서도 춥고 바람이 부는 곳으로 유명한 도시로 실\nUniversity of Chicago\nnumber of keywords: 268\n['시카고', '시카고', '남부', '남부', '주변', '도심', '주택', '단지', '사실상', '시카고']\nnumber of counted words: 225\nUniversity of Chicago\nnumber of keywords: 225\nUniversity of Connecticut's gen_info section has 3130 words'\n전부 합치면 연세대학교보다 크지만 생활반경은 충분히 작을 강의건물 헬스장 가까이에 위치해있어요 지리적 동부 코네티컷주의 있어요 친구들한테는 뉴욕과 보스턴 중간 어디쯤이라고 설명했어\nUniversity of Connecticut\nnumber of keywords: 734\n['전부', '합치', '반경', '충분히', '강의', '헬스', '가까이', '지리', '동부', '코네티컷주']\nnumber of counted words: 568\nUniversity of Connecticut\nnumber of keywords: 568\nUniversity of Georgia's gen_info section has 7366 words'\n연대의 배 크기를 자랑하는 거대한 캠퍼스를 밑에서 설명하겠지만 교환학생들이 거주하게 교내 교양 문과대 경영대 수업들이 이루어지는 북쪽과 정문까지는 걸어서 내외라고 생각하시면 버스가\nUniversity of Georgia\nnumber of keywords: 1599\n['자랑', '거대', '설명', '거주', '교내', '교양', '경영', '이루어지', '북쪽', '정문']\nnumber of counted words: 1110\nUniversity of Georgia\nnumber of keywords: 1110\nUniversity of Guam's gen_info has not enough words: 179\nUniversity of Hawaii at Manoa's gen_info section has 7076 words'\n마노아에 연세대학교와 비슷하다고 느껴질 정도의 규모를 초록색이 무성한 자연을 학교입니다 나뉘어져 쪽에는 운동수업을 듣게 쇼핑센터나 와이키키 중심가에 위치하지는 않았지만 내로 버스와\nUniversity of Hawaii at Manoa\nnumber of keywords: 1605\n['노아', '규모', '초록색', '자연', '나뉘', '운동', '쇼핑', '센터', '와이키키', '중심가']\nnumber of counted words: 995\nUniversity of Hawaii at Manoa\nnumber of keywords: 995\nUniversity of Illinois at Urbana-Champaign's gen_info section has 10939 words'\n일리노이 주의 어바나 샴페인 도시에 걸쳐 자리하고 샴바나 시카고에서 버스로 정도의 거리에 떨어져 샴페인에도 공항이 규모가 워낙 작다보니 대개 시카고 오해어 공항을 이용하게 때마다 \nUniversity of Illinois at Urbana-Champaign\nnumber of keywords: 2120\n['일리노이', '바나', '샴페인', '자리', '바나', '시카고', '버스', '거리', '샴페인', '공항']\nnumber of counted words: 1301\nUniversity of Illinois at Urbana-Champaign\nnumber of keywords: 1301\nUniversity of Iowa's gen_info section has 553 words'\n자체는 드넓은 땅을 가진 미국의 대학인지라 강을 끼고 자리잡고 강 한쪽 편에 건물들이 학생이 다니는 꽤나 편의 대학교인 지리적으로는 시카고 근처의 북동부 지역이며 기후는 봄 내내 \nUniversity of Iowa\nnumber of keywords: 157\n['자체', '드넓', '자리', '한쪽', '다니', '편의', '지리', '시카고', '근처', '북동부']\nnumber of counted words: 164\nUniversity of Iowa\nnumber of keywords: 164\nUniversity of Kentucky's gen_info has not enough words: 390\nUniversity of Maryland at College Park's gen_info section has 6610 words'\n보고서가 공통적으로 말하지만 넓습니다 안으로 버스 노선도 운행 것만 봐도 있죠 안에서 보통은 듣는 교실이 몰려있어서 타지는 않았지만 급할 집에서 올 타기도 셔틀 노선들을 파악해 두\nUniversity of Maryland at College Park\nnumber of keywords: 1477\n['보고서', '공통', '버스', '노선도', '운행', '보통', '교실', '타지', '셔틀', '노선']\nnumber of counted words: 979\nUniversity of Maryland at College Park\nnumber of keywords: 979\nUniversity of Massachusetts Amherst's gen_info section has 5696 words'\n메사추세츠 주립대학교 앰허스트 캠퍼스로 규모가 종합 공립대학교입니다 예체능 분야부터 의대 간호대 수의대 등등 종류의 단과대학이 존재합니다 대학원이 내에서 손꼽힐 유명한 학교입니다 \nUniversity of Massachusetts Amherst\nnumber of keywords: 1299\n['메사', '추세', '주립', '허스트', '규모', '종합', '공립', '예체능', '의대', '호대']\nnumber of counted words: 840\nUniversity of Massachusetts Amherst\nnumber of keywords: 840\nUniversity of Massachusetts Lowell's gen_info has not enough words: 228\nUniversity of Memphis's gen_info has not enough words: 115\nUniversity of Miami's gen_info section has 1147 words'\n연세대학교와 비슷한 정도의 캠퍼스지만 대학교들에 비해서는 편입니다 덕분에 캠퍼스를 걸어서 돌아다니는데 마이애미는 미국의 최남단에 플로리다 내에서도 아래쪽에 보시면 주들보다도 남미와\nUniversity of Miami\nnumber of keywords: 336\n['덕분', '돌아다니', '마이애미', '최남단', '플로리다', '아래쪽', '거주', '분위기', '풍기', '매일']\nnumber of counted words: 286\nUniversity of Miami\nnumber of keywords: 286\nUniversity of Michigan's gen_info section has 3467 words'\n월부터 시작하는 봄 학기간 미시간 대학교로 다녀오게 코로나로 인해 봄방학 이후로는 강의가 온라인으로 전환되어서 학기의 반만 진행하고 한국으로 돌아올 없어 아쉬움이 남지만 대학교를 \nUniversity of Michigan\nnumber of keywords: 829\n['시작', '다녀오', '코로나', '방학', '강의', '온라인', '전환', '진행', '아쉬움', '고려']\nnumber of counted words: 685\nUniversity of Michigan\nnumber of keywords: 685\nUniversity of Minnesota Morris's gen_info section has 3111 words'\n미네소타 주립대학군을 구성하는 하나입니다 공항이 지역 차로 세시간 거리에 모리스라는 마을에 캠퍼스의 크기는 편으로 송도에 국제캠퍼스와 비슷한 정도인 수는 명인 미국의 중북부 캐나다\nUniversity of Minnesota Morris\nnumber of keywords: 744\n['미네소타', '주립', '구성', '공항', '지역', '거리', '모리스', '마을', '송도', '명인']\nnumber of counted words: 589\nUniversity of Minnesota Morris\nnumber of keywords: 589\nUniversity of Minnesota Twin Cities's gen_info section has 1340 words'\n중부에 위치해 시카고에서 버스로 거리에 떨어져 봄학기를 다녔고 종료 미네소타의 여름을 보내고 왔습니다 경험했던 추위는 그곳에서도 유래없는 추위였는데 북극보다 추웠습니다 그때의 남극\nUniversity of Minnesota Twin Cities\nnumber of keywords: 366\n['중부', '시카고', '버스', '거리', '종료', '미네소타', '여름', '보내', '추위', '유래']\nnumber of counted words: 322\nUniversity of Minnesota Twin Cities\nnumber of keywords: 322\nUniversity of Mississippi's gen_info has not enough words: 65\nUniversity of Montana's gen_info has not enough words: 130\nUniversity of Nebraska at Kearney's gen_info has not enough words: 70\nUniversity of Nebraska, Lincoln's gen_info has not enough words: 389\nUniversity of North Carolina at Asheville's gen_info section has 977 words'\n캠퍼스의 크기는 연세대보다는 편입니다 가시게 된다면 거주하게 되실텐데 기숙사에서 출발하여 건물은 안으로 걸어가실 과는 다소 거리가 버스를 이용하시거나 우버로 나가게 되실 무료 이용\nUniversity of North Carolina at Asheville\nnumber of keywords: 287\n['거주', '출발', '걸어가', '다소', '거리', '버스', '이용', '우버', '나가', '무료']\nnumber of counted words: 280\nUniversity of North Carolina at Asheville\nnumber of keywords: 280\nUniversity of North Carolina at Chapel Hill's gen_info section has 5347 words'\n부지가 넓지만 다행히 강의실들은 붙어있어서 쉬는 분이면 충분히 강의동 사이 이동이 가능합니다 기숙사들은 강의실들과 멀리 떨어져 경우도 강의실과 제일 가까운 살아서 강의실까지 걸리지\nUniversity of North Carolina at Chapel Hill\nnumber of keywords: 1223\n['부지', '다행히', '강의실', '충분히', '강의', '사이', '이동', '가능', '강의실', '멀리']\nnumber of counted words: 808\nUniversity of North Carolina at Chapel Hill\nnumber of keywords: 808\nUniversity of North Carolina at Greensboro's gen_info section has 4164 words'\n주에서 번째로 주립대학교 미국의 동남부에 위치해 웬만한 동부 도시들 워싱턴 뉴욕 보스턴 애틀랜타 올랜도 마이애미 등등 내용은 곧 언급할게요 비행기로 한두시간이면 시간과 체력이 받쳐\nUniversity of North Carolina at Greensboro\nnumber of keywords: 919\n['주립', '남부', '동부', '워싱턴', '뉴욕', '보스턴', '애틀랜타', '올랜도', '마이애미', '내용']\nnumber of counted words: 642\nUniversity of North Carolina at Greensboro\nnumber of keywords: 642\nUniversity of North Carolina at Pembroke's gen_info has not enough words: 90\nUniversity of North Carolina at Wilmington's gen_info has not enough words: 121\nUniversity of North Dakota's gen_info has not enough words: 128\nUniversity of Northern Colorado's gen_info section has 959 words'\n크기는 대략 연세대학교와 비슷합니다 캠퍼스가 나누어져 캠퍼스는 오래된 건물이 많지만 고풍스러운 분위기가 감돌아 보기에도 멋있습니다 콜로라도주에 도시에 위치하고 도시는 기준으로 생겨\nUniversity of Northern Colorado\nnumber of keywords: 276\n['대략', '나누', '오래', '고풍', '분위기', '감돌', '멋있', '콜로라도주', '기준', '뉴욕']\nnumber of counted words: 251\nUniversity of Northern Colorado\nnumber of keywords: 251\nUniversity of Notre Dame's gen_info has not enough words: 152\nUniversity of Oregon's gen_info section has 4841 words'\n서부의 워싱턴 주와 캘리포니아 사이에 대학교입니다 까지는 차로 가량 걸리며 비행기로 정도면 서부 여행하기에는 지리적 조건을 가졌습니다 크기는 캠퍼스보다 다소 수준입니다 상대적으로 \nUniversity of Oregon\nnumber of keywords: 1048\n['서부', '워싱턴', '캘리포니아', '사이', '가량', '걸리', '비행기', '서부', '지리', '조건']\nnumber of counted words: 768\nUniversity of Oregon\nnumber of keywords: 768\nUniversity of Pennsylvania's gen_info section has 3216 words'\n적당히 넓은 흩어져 건물들 유펜이 크진 않지만 대학의 경계선이 모호하고 특정 건물들은 기숙사에서 멀게 느껴질 가령 갔던 정치경제관은 주변이 일반 상가였고 경영관은 사거리에 자리잡아\nUniversity of Pennsylvania\nnumber of keywords: 782\n['적당히', '경계선', '특정', '가령', '정치', '경제관', '주변', '일반', '상가', '경영']\nnumber of counted words: 567\nUniversity of Pennsylvania\nnumber of keywords: 567\nUniversity of Pittsburgh's gen_info section has 2021 words'\n준공립대학교로 캠퍼스가 연세대학교처럼 구역이 정해져 도시내에 건물들이 흩어져있는 방식입니다 먼 건물끼리의 거리는 공대에서 대우관 거리정도 길이 언덕이라는 점도 비슷하네요 피츠버그라\nUniversity of Pittsburgh\nnumber of keywords: 498\n['공립', '구역', '방식', '거리', '공대', '우관', '거리', '언덕', '피츠버그', '인구']\nnumber of counted words: 380\nUniversity of Pittsburgh\nnumber of keywords: 380\nUniversity of Richmond's gen_info section has 2429 words'\n버지니아의 리치몬드에 정도의 전교생을 보유하고 백인의 비중이 높은 학교입니다 전교생의 크기가 크지 서로가 서로를 분위기를 동부의 중위도 쯤이지만 날씨가 제법 쌀쌀합니다 월까지는 겉\nUniversity of Richmond\nnumber of keywords: 653\n['버지니아', '리치몬드', '전교생', '보유', '백인', '비중', '전교생', '분위기', '동부', '중위도']\nnumber of counted words: 507\nUniversity of Richmond\nnumber of keywords: 507\nUniversity of South Carolina-Columbia's gen_info has not enough words: 214\nUniversity of South Florida's gen_info section has 6023 words'\n캠퍼스는 컸습니다 다녔지만 듣는 빼고는 길을 몰라 지도 없이는 다닐 수가 없었습니다 식당 마트 호수 우체국 살았으면 밖을 나갈 같았습니다 캠퍼스가 아름다워 산책하기 좋고 하늘이 푸\nUniversity of South Florida\nnumber of keywords: 1388\n['식당', '마트', '호수', '우체국', '산책', '하늘', '푸르', '서쪽', '교외', '자취방']\nnumber of counted words: 910\nUniversity of South Florida\nnumber of keywords: 910\nUniversity of Southern Indiana's gen_info has not enough words: 187\nUniversity of Tennessee Knoxville's gen_info section has 1602 words'\n동남부에 주에 한인들이 거주하는 와는 정도의 거리라 미국의 광활함에 익숙해진다면 동부를 버스로 여행하기 나름 괜찮은 위치입니다 테네시의 기후가 한국하고 비슷하다고 들어서 선택했었는\nUniversity of Tennessee Knoxville\nnumber of keywords: 430\n['남부', '한인', '거주', '거리', '동부', '버스', '괜찮', '테네시', '기후', '선택']\nnumber of counted words: 377\nUniversity of Tennessee Knoxville\nnumber of keywords: 377\nUniversity of Texas at Arlington's gen_info section has 5581 words'\n크기는 신촌캠이랑 같은데 평지여서 돌아다니기는 편했어요 참고로 미국은 만 세부터 술 있는거 고려하시고요 글에서도 확인 가능하듯이 변화가 장난 없어요 월에는 늦은 여름과 초 겨울의 \nUniversity of Texas at Arlington\nnumber of keywords: 1293\n['신촌', '평지', '돌아다니', '참고', '고려', '확인', '가능', '변화', '장난', '여름']\nnumber of counted words: 870\nUniversity of Texas at Arlington\nnumber of keywords: 870\nUniversity of Texas at Austin's gen_info has not enough words: 356\nUniversity of the Pacific's gen_info has not enough words: 107\nUniversity of Utah's gen_info section has 3692 words'\n솔트레이크시티에 학교입니다 월에 도착했는데 월은 눈이 옵니다 눈을 되게 좋아했었는데 유타에서 하도 봐서 이제는 질릴 정도입니다 눈폭풍이 와서 하루 수업이 취소되기도 학교가 고지대에\nUniversity of Utah\nnumber of keywords: 1000\n['솔트레이크시티', '도착', '되게', '유타', '하도', '이제', '폭풍', '하루', '취소', '고지대']\nnumber of counted words: 710\nUniversity of Utah\nnumber of keywords: 710\nUniversity of Vermont's gen_info section has 1265 words'\n버몬트의 위치성 동부 중에서도 북부이기에 분명히 춥습니다 단풍놀이 못지 않게 스키가 유명할 추운 지역이니 준비를 단단히 하시길 패딩이나 후리스 때때로 기모 레깅스가 충분하다고 추위\nUniversity of Vermont\nnumber of keywords: 389\n['버몬트', '동부', '북부', '분명히', '단풍', '놀이', '스키', '유명', '지역', '준비']\nnumber of counted words: 319\nUniversity of Vermont\nnumber of keywords: 319\nUniversity of Washington's gen_info section has 15758 words'\n유덥이 연대보다 크기는 크지만 연대는 긴 모양인 반면 유덥은 둥근 모양이고 시내버스가 다니기 돌아다니기는 편리합니다 미국의 북서부 지역인 워싱턴주 시애틀에 위치해 시애틀 시내까지 \nUniversity of Washington\nnumber of keywords: 2998\n['모양', '반면', '모양', '시내버스', '다니', '돌아다니', '편리', '북서부', '지역', '워싱턴주']\nnumber of counted words: 1725\nUniversity of Washington\nnumber of keywords: 1725\nUniversity of Wisconsin-Madison's gen_info section has 5562 words'\n대학교의 규모는 편입니다 대학교들과 다르게 정문과 후문이 없어서 안과 밖을 경계지을 없기 때문입니다 부르는데 지역은 대학교와 어우러져 지리적 기후 이곳은 호수 개를 끼고 춥습니다 \nUniversity of Wisconsin-Madison\nnumber of keywords: 1266\n['규모', '다르', '정문', '후문', '계지', '부르', '지역', '지리', '기후', '호수']\nnumber of counted words: 898\nUniversity of Wisconsin-Madison\nnumber of keywords: 898\nUniversity of Wyoming's gen_info has not enough words: 348\nUpper Iowa University's gen_info has not enough words: 70\nUtah State University's gen_info has not enough words: 97\nVirginia Commonwealth University's gen_info has not enough words: 206\nVirginia Polytechnich Institute and State University's gen_info section has 530 words'\n캠퍼스는 크고 중앙에 잔디밭인 중심으로 한쪽엔 한쪽은 나뉘어져 캠퍼스가 시골마을이며 주변에 타운이다 주변이 온통 산이라 하이킹을 좋아하면 주말에 하이킹 나가기 괜찮다 클럽도 가까운\nVirginia Polytechnich Institute and State University\nnumber of keywords: 146\n['중앙', '잔디밭', '중심', '한쪽', '한쪽', '나뉘', '시골', '마을', '주변', '타운']\nnumber of counted words: 155\nVirginia Polytechnich Institute and State University\nnumber of keywords: 155\nWashington and Jefferson College's gen_info section has 887 words'\n워싱턴 앤 제퍼슨 칼리지는 펜실베니아 서부에 피츠버그에서 떨어진 카운티에 시골 동네인데 아기자기하기보다는 러스트 벨트가 지나가는 지역이라 주변 상권이 죽어있어요 을씨년스럽기도 친구\nWashington and Jefferson College\nnumber of keywords: 249\n['워싱턴', '제퍼슨', '칼리지', '실베', '니아', '서부', '피츠버그', '카운티', '시골', '동네']\nnumber of counted words: 224\nWashington and Jefferson College\nnumber of keywords: 224\nWashington College's gen_info section has 1612 words'\n근처의 메릴랜드 조그만 마을인 위치해 미국이 땅이 원체 넓기 체스터타운의 위치는 디씨와 비교적 가까이 동부의 메인 도시들과 접근성이 좋아서 하는데에 위치라고 생각됩니다 차로 한시간\nWashington College\nnumber of keywords: 422\n['근처', '메릴랜드', '마을', '원체', '체스터', '타운', '비교', '가까이', '동부', '접근성']\nnumber of counted words: 357\nWashington College\nnumber of keywords: 357\nWashington State University's gen_info has not enough words: 399\nWashington University in St. Louis's gen_info section has 2259 words'\n대학은 주에 도시에 겪은 한적하고 조용한 편이라고 생각되는 군데 돌아다닌 편은 아니지만 만일 교환학생의 목적이 미국의 도시생활 여가 등등을 체험하고자 하시는 도시적인 지역을 방문하\nWashington University in St. Louis\nnumber of keywords: 591\n['만일', '목적', '여가', '체험', '지역', '방문', '추천', '면담', '이해', '방문']\nnumber of counted words: 516\nWashington University in St. Louis\nnumber of keywords: 516\nWesley College's gen_info has not enough words: 118\nWest Virginia Wesleyan College's gen_info has not enough words: 306\nWestern Carolina University's gen_info has not enough words: 58\nWestern Kentucky University's gen_info section has 1581 words'\n크기는 연세대보다 작다고 느껴졌다 대체로 평지였지만 공학이나 이과 계열 듣는 강의실은 언덕 위에 딱히 높은 언덕은 아니라서 어렵지 않았다 셔틀도 편이다 한국보다 여름이 길었다 있던\nWestern Kentucky University\nnumber of keywords: 368\n['대체로', '평지', '공학', '이과', '계열', '강의실', '언덕', '딱히', '언덕', '어렵']\nnumber of counted words: 330\nWestern Kentucky University\nnumber of keywords: 330\nWestern Washington University's gen_info section has 1860 words'\n보통 웨스턴이라고 부르는 학교는 북서부 워싱턴 주에 위치하고 남쪽으로는 시애틀 북쪽으로는 캐나다 밴쿠버가 맞닿아 차를 몰거나 버스를 쉽습니다 기후는 흐리거나 비가 옵니다 생활하는 \nWestern Washington University\nnumber of keywords: 482\n['보통', '웨스턴', '부르', '북서부', '워싱턴', '남쪽', '시애틀', '북쪽', '캐나다', '밴쿠버']\nnumber of counted words: 410\nWestern Washington University\nnumber of keywords: 410\nWestminster College's gen_info section has 2183 words'\n펜실베니아 북부에 마을 위치해있는 규모가 학교입니다 전교생이 정도가 학교이며 자체도 편은 아니었습니다 캠퍼스도 작고 듣는 적었기 익숙한 얼굴도 생기곤 마주치게 자연스럽게 이야기도 \nWestminster College\nnumber of keywords: 547\n['실베', '니아', '북부', '마을', '규모', '전교', '자체', '얼굴', '생기', '마주치']\nnumber of counted words: 417\nWestminster College\nnumber of keywords: 417\nWhitworth College's gen_info has not enough words: 100\nWittenberg University's gen_info has not enough words: 272\n['AR000004', 'AU000002', 'AU000010', 'AU000014', 'AT000002', 'BE000003', 'BE000002', 'CA000008', 'CA000009', 'CA000010', 'CA000021', 'CA000019', 'CN000021', 'CN000012', 'CN000019', 'CR000002', 'DK000005', 'FI000001', 'FI000005', 'FI000011', 'FI000012', 'FR000008', 'FR000014', 'FR000017', 'FR000020', 'FR000025', 'FR000029', 'FR000030', 'FR000033', 'DE000004', 'DE000005', 'DE000007', 'DE000013', 'DE000014', 'ID000001', 'IE000003', 'IT000009', 'IT000010', 'IT000011', 'JP000001', 'JP000009', 'JP000010', 'JP000016', 'JP000017', 'JP000018', 'JP000036', 'JP000020', 'JP000026', 'JP000028', 'JP000032', 'JP000035', 'KZ000002', '730     ', 'MX000009', 'MX000014', 'MN000001', 'NL000015', 'NL000009', 'PH000002', 'PH000001', 'PL000001', 'SG000004', 'ES000018', 'ES000006', 'ES000008', 'ES000010', 'ES000011', 'ES000012', 'ES000013', 'SE000002', 'SE000004', 'SE000012', 'CH000001', 'CH000006', 'TW000001', 'TW000009', 'TW000005', 'TW000007', 'TH000002', 'TR000001', 'GB000027', 'GB000031', 'GB000037', 'GB000001', 'GB000028', 'GB000002', 'GB000003', 'GB000004', 'GB000038', 'GB000030', 'GB000007', 'GB000008', 'GB000014', 'GB000016', 'GB000020', 'US000002', 'US000303', 'US000004', 'US000011', 'US000282', 'US000018', 'US000029', 'US000301', 'US000043', 'US000044', 'US000047', 'US000048', 'US000293', 'US000049', 'US000050', 'US000053', 'US000056', 'US000024', 'US000025', 'US000026', 'US000036', 'US000032', 'US000033', 'US000057', 'US000400', 'US000063', 'US000064', 'US000065', 'US000068', 'US000075', 'US000082', 'US000084', 'US000088', 'US000093', 'US000097', 'US000099', 'US000100', 'US000102', 'US000106', 'US000112', 'US000113', 'US000120', 'US000124', 'US000126', 'US000129', 'US000281', 'US000133', 'US000134', 'US000157', 'US000161', 'US000162', 'US000165', 'US000166', 'US000167', 'US000280', 'US000183', 'US000187', 'US000203', 'US000210', 'US000286', 'US000213', 'US000218', 'US000219', 'US000220', 'US000221', 'US000226', 'US000227', 'US000228', 'US000287', 'US000236', 'US000238', 'US000243', 'US000245', 'US000254', 'US000292', 'US000255', 'US000258', 'US000263', 'US000265', 'US000267', 'US000268', 'US000274', 'US000278']\n"
    }
   ],
   "source": [
    "column_data = \"gen_info\"\n",
    "\n",
    "for i in range(470):\n",
    "    corpus = throw_corpus(df_specific, column_data , stopwords_list, univ_no = i)\n",
    "    if corpus is False:\n",
    "        college_code = df_specific[\"대학코드\"][i]\n",
    "        no_wordcloud_gen_info.append(college_code)\n",
    "        pass\n",
    "    else:\n",
    "        generate_wordcloud_mecab(df_specific, column_data , stopwords_list, corpus, i, wordcloud)\n",
    "        generate_wordcloud_okt(df_specific, column_data , stopwords_list, corpus, i, wordcloud)\n",
    "\n",
    "print(no_wordcloud_gen_info)"
   ]
  },
  {
   "cell_type": "markdown",
   "metadata": {},
   "source": [
    "### lack of gen_info\n",
    "['AR000004', 'AU000002', 'AU000010', 'AU000014', 'AT000002', 'BE000003', 'BE000002', 'CA000008', 'CA000009', 'CA000010', 'CA000021', 'CA000019', 'CN000021', 'CN000012', 'CN000019', 'CR000002', 'DK000005', 'FI000001', 'FI000005', 'FI000011', 'FI000012', 'FR000008', 'FR000014', 'FR000017', 'FR000020', 'FR000025', 'FR000029', 'FR000030', 'FR000033', 'DE000004', 'DE000005', 'DE000007', 'DE000013', 'DE000014', 'ID000001', 'IE000003', 'IT000009', 'IT000010', 'IT000011', 'JP000001', 'JP000009', 'JP000010', 'JP000016', 'JP000017', 'JP000018', 'JP000036', 'JP000020', 'JP000026', 'JP000028', 'JP000032', 'JP000035', 'KZ000002', '730     ', 'MX000009', 'MX000014', 'MN000001', 'NL000015', 'NL000009', 'PH000002', 'PH000001', 'PL000001', 'SG000004', 'ES000018', 'ES000006', 'ES000008', 'ES000010', 'ES000011', 'ES000012', 'ES000013', 'SE000002', 'SE000004', 'SE000012', 'CH000001', 'CH000006', 'TW000001', 'TW000009', 'TW000005', 'TW000007', 'TH000002', 'TR000001', 'GB000027', 'GB000031', 'GB000037', 'GB000001', 'GB000028', 'GB000002', 'GB000003', 'GB000004', 'GB000038', 'GB000030', 'GB000007', 'GB000008', 'GB000014', 'GB000016', 'GB000020', 'US000002', 'US000303', 'US000004', 'US000011', 'US000282', 'US000018', 'US000029', 'US000301', 'US000043', 'US000044', 'US000047', 'US000048', 'US000293', 'US000049', 'US000050', 'US000053', 'US000056', 'US000024', 'US000025', 'US000026', 'US000036', 'US000032', 'US000033', 'US000057', 'US000400', 'US000063', 'US000064', 'US000065', 'US000068', 'US000075', 'US000082', 'US000084', 'US000088', 'US000093', 'US000097', 'US000099', 'US000100', 'US000102', 'US000106', 'US000112', 'US000113', 'US000120', 'US000124', 'US000126', 'US000129', 'US000281', 'US000133', 'US000134', 'US000157', 'US000161', 'US000162', 'US000165', 'US000166', 'US000167', 'US000280', 'US000183', 'US000187', 'US000203', 'US000210', 'US000286', 'US000213', 'US000218', 'US000219', 'US000220', 'US000221', 'US000226', 'US000227', 'US000228', 'US000287', 'US000236', 'US000238', 'US000243', 'US000245', 'US000254', 'US000292', 'US000255', 'US000258', 'US000263', 'US000265', 'US000267', 'US000268', 'US000274', 'US000278']\n"
   ]
  },
  {
   "cell_type": "code",
   "execution_count": 20,
   "metadata": {
    "tags": [
     "outputPrepend"
    ]
   },
   "outputs": [
    {
     "output_type": "stream",
     "name": "stdout",
     "text": " 레스토랑도 레스토랑에서 브런치나 스테이크 강\nUniversity of Alabama\nnumber of keywords: 510\n['주변', '산책', '산책', '조깅', '선셋', '예쁘', '산책', '따라가', '로컬', '푸드']\nnumber of counted words: 396\nUniversity of Alabama\nnumber of keywords: 396\nUniversity of Arkansas's env_info has not enough words: 106\nUniversity of California Berkeley's env_info section has 29443 words'\n주변에는 대학가답게 식당 카페 옷가게 등이 조금만 나가면 서점 영화관도 정도씩 대마초 냄새는 거리를 다니든 났던 같은데 담배 냄새랑 다르게 끝까지 적응이 됐습니다 길거리에서는 흔하\nUniversity of California Berkeley\nnumber of keywords: 5489\n['주변', '대학가', '식당', '카페', '가게', '나가', '서점', '영화', '관도', '대마초']\nnumber of counted words: 2599\nUniversity of California Berkeley\nnumber of keywords: 2599\nUniversity of California Davis's env_info section has 12011 words'\n다운타운에 맛있는 음식점들 많아요 농장이나 축사 같은게 심심할 산책하기 캠퍼스타운이라 치안도 좋아서 밤에 돌아다녀도 그다지 무섭진 않았던 데이비스 주변 세크라멘토나 우드랜드에서 무\nUniversity of California Davis\nnumber of keywords: 2744\n['다운타운', '맛있', '음식점', '농장', '축사', '산책', '타운', '치안', '그다지', '무섭']\nnumber of counted words: 1490\nUniversity of California Davis\nnumber of keywords: 1490\nUniversity of California Irvine's env_info section has 25466 words'\n주변에는 여러가지 마트와 음식점들이 국제학사인 살았기 알버슨 식료품가게가 근처에 위치하여있어서 애용하였습니다 만약에 스스로 조리를 해먹는데 식료품 가게를 이용하는 추천하지만 학생증\nUniversity of California Irvine\nnumber of keywords: 4873\n['주변', '마트', '음식점', '학사', '버슨', '식료품', '가게', '근처', '애용', '스스로']\nnumber of counted words: 2310\nUniversity of California Irvine\nnumber of keywords: 2310\nUniversity of California Los Angeles's env_info section has 22603 words'\n엘에이가 넓은 도시이고 다운타운의 치안이 좋지 않음을 감안하면 웨스트우드는 밤 늦게까지 돌아다니기 홈리스가 동양인 홀로 다니기에는 무리가 참고 보통 우버를 이동하는 편이고 근처에는\nUniversity of California Los Angeles\nnumber of keywords: 4615\n['엘에이', '다운타운', '치안', '감안', '웨스트우드', '돌아다니', '홈리스', '동양인', '홀로', '다니']\nnumber of counted words: 2211\nUniversity of California Los Angeles\nnumber of keywords: 2211\nUniversity of California Merced's env_info section has 532 words'\n걸어서 분이면 호수가 하나가 나옵니다 캠핑장도 부두에 걸터 앉아서 밤에 별 구경 마트나 시내로 나가라면 셔틀버스로 가야합니다 공항이 공항에서 편을 이용하면 입국할 편합니다 주변에는\nUniversity of California Merced\nnumber of keywords: 165\n['호수', '핑장', '부두', '걸터', '구경', '마트', '시내', '나가', '셔틀버스', '공항']\nnumber of counted words: 145\nUniversity of California Merced\nnumber of keywords: 145\nUniversity of California Riverside's env_info section has 4674 words'\n주변 환경 대도시들에 비해서는 화려한 시설은 기대하시지 그런데 친구들에게 라이드 태워달라고 거리에 흩어져있는 숨겨진 맛집 볼링장 아이스 스케이트장 탈출 게임장 쇼핑센터 찾아다니는 \nUniversity of California Riverside\nnumber of keywords: 1099\n['주변', '환경', '시설', '기대', '친구', '라이드', '거리', '맛집', '볼링장', '아이스']\nnumber of counted words: 738\nUniversity of California Riverside\nnumber of keywords: 738\nUniversity of California San Diego's env_info section has 21601 words'\n은퇴하기 위라는 이야기가 있을만큼 여유롭고 평화로운 도시입니다 노는 좋아하는 친구들에게는 재미가 없다고 느껴질수도 차를 나가면 아시안 푸드가 거리도 특색있는 버블티집도 유명한 맛집\nUniversity of California San Diego\nnumber of keywords: 4082\n['은퇴', '이야기', '여유', '평화', '친구', '재미', '나가', '아시안', '푸드', '거리']\nnumber of counted words: 1931\nUniversity of California San Diego\nnumber of keywords: 1931\nUniversity of California Santa Barbara's env_info section has 24402 words'\n다들 송도같다고 송도 에버랜드같이 생긴 귀여운 수준의 산타바바라 다운타운이 버스 거리에 있으나학교 근처 지역 사실상 학생들만 타운이다 새벽 시고 집에 걸어갔는데 그정도로 동네 만만\nUniversity of California Santa Barbara\nnumber of keywords: 4414\n['송도', '에버랜드', '수준', '산타', '바바라', '다운타운', '버스', '거리', '근처', '지역']\nnumber of counted words: 2031\nUniversity of California Santa Barbara\nnumber of keywords: 2031\nUniversity of California Santa Cruz's env_info section has 5459 words'\n앞에서 말했다시피 학교가 숲 지어진 느낌이고 산타크루즈가 도시여서 신촌역 주위처럼 번화가가 산타크루즈 주민들이 놀러가는 산타크루즈의 시내처럼 길 양 옆에 가게들과 음식점이 쭉 이어\nUniversity of California Santa Cruz\nnumber of keywords: 1309\n['느낌', '산타크루즈', '신촌역', '주위', '번화가', '산타크루즈', '주민', '놀러가', '산타크루즈', '시내']\nnumber of counted words: 794\nUniversity of California Santa Cruz\nnumber of keywords: 794\nUniversity of Chicago's env_info section has 754 words'\n시카고 남부에 곳으로 주변 환경이 좋지는 범죄율이 높은 곳이기도 치안에 각별히 유의해야할 필요가 낮에는 문제없이 돌아다닐 환경이며 밤에도 근처는 안전한 편이라고 생각됩니다 가기전에\nUniversity of Chicago\nnumber of keywords: 292\n['시카고', '남부', '주변', '환경', '범죄', '치안', '각별히', '유의', '필요', '환경']\nnumber of counted words: 255\nUniversity of Chicago\nnumber of keywords: 255\nUniversity of Connecticut's env_info section has 2959 words'\n숲과 호수 자연친화적인 곳이었어요 송도보다도 별거없지만 캠퍼스타운과 비슷한 그곳에 음식점 식료품점 올리브영과 비슷 등이 있어요 쪽에도 상점 개정도 캠퍼스에서 걸어서 떨어진 캠퍼스타\nUniversity of Connecticut\nnumber of keywords: 837\n['호수', '자연', '친화', '송도', '별거', '타운', '음식점', '식료품', '올리브', '영과']\nnumber of counted words: 600\nUniversity of Connecticut\nnumber of keywords: 600\nUniversity of Georgia's env_info section has 6733 words'\n위에서도 언급했듯이 정문 근처에 음식점들과 카페 바들이 위치하고 근처라 그나마 안전하긴 특성상 밤에는 매우매우 어둡고 낮에도 술에 취해 거리를 거니는 간간이 보이기 조심하셔야 교내\nUniversity of Georgia\nnumber of keywords: 1599\n['언급', '정문', '근처', '음식점', '카페', '근처', '그나마', '전하', '특성', '어둡']\nnumber of counted words: 1027\nUniversity of Georgia\nnumber of keywords: 1027\nUniversity of Guam's env_info has not enough words: 117\nUniversity of Hawaii at Manoa's env_info section has 5884 words'\n대표적인 여름 휴양지 곳으로 꼽히는 하와이는 자연환경을 보유하고 하이킹을 수많은 스팟들 해양스포츠를 해변이 하와이 생활의 장점이자 특징으로 뽑아볼 새해에는 다이아몬드헤드에 올라 해\nUniversity of Hawaii at Manoa\nnumber of keywords: 1570\n['대표', '여름', '휴양지', '꼽히', '하와이', '자연환경', '보유', '하이킹', '수많', '스팟']\nnumber of counted words: 943\nUniversity of Hawaii at Manoa\nnumber of keywords: 943\nUniversity of Illinois at Urbana-Champaign's env_info section has 9617 words'\n근처 중심가로는 샴페인 다운타운 서쪽 어바나 동쪽 버스를 북쪽으로 마켓 플레이스 대형몰 메이시스 백화점 타겟 월마트 대형마트 쇼핑센터와 영화관 등이 남쪽으로 사보이 지역이 나옵니다\nUniversity of Illinois at Urbana-Champaign\nnumber of keywords: 2204\n['근처', '중심가', '샴페인', '다운타운', '서쪽', '바나', '동쪽', '버스', '북쪽', '마켓']\nnumber of counted words: 1261\nUniversity of Illinois at Urbana-Champaign\nnumber of keywords: 1261\nUniversity of Iowa's env_info has not enough words: 309\nUniversity of Kentucky's env_info has not enough words: 203\nUniversity of Maryland at College Park's env_info section has 5268 words'\n온갖 음식점들과 등이 클럽과 비슷한 들이 여기에 모여있습니다 루트원에서 쪽으로 둘러서 한식을 파는 곳도 공차도 곳의 식료품이 쌉니다 뒤 골목이 주변과는 다르게 주택들이 모여있는 이\nUniversity of Maryland at College Park\nnumber of keywords: 1383\n['음식점', '클럽', '루트', '한식', '공차', '식료품', '골목', '주변', '다르', '주택']\nnumber of counted words: 926\nUniversity of Maryland at College Park\nnumber of keywords: 926\nUniversity of Massachusetts Amherst's env_info section has 4946 words'\n마트 식료품점 포함 대형마트는 식료품점은 캠퍼스에서 가깝고 나머지는 버스를 위에서 말한 이동하면 되는데 유매스 학생증만 보여주면 무료 이기 개의 규모가 대형마트 급입니다 도착했을 \nUniversity of Massachusetts Amherst\nnumber of keywords: 1174\n['마트', '식료품', '포함', '대형', '마트', '식료품', '가깝', '나머지', '버스', '이동']\nnumber of counted words: 728\nUniversity of Massachusetts Amherst\nnumber of keywords: 728\nUniversity of Massachusetts Lowell's env_info has not enough words: 299\nUniversity of Memphis's env_info has not enough words: 120\nUniversity of Miami's env_info section has 1143 words'\n편의점과 약국이 결합된듯한 스토어가 근처에 운영을 편리합니다 학교와 가까운 거리에 슈퍼도 비싸지만 유기농 식자재와 음식을 파는 등이 걸어가기에는 멀어서 아마 아니면 택시 카풀 서비\nUniversity of Miami\nnumber of keywords: 379\n['편의점', '약국', '결합', '스토어', '근처', '운영', '편리', '거리', '슈퍼', '비싸']\nnumber of counted words: 292\nUniversity of Miami\nnumber of keywords: 292\nUniversity of Michigan's env_info section has 2860 words'\n근처에 걸어서 카페 음식점 등이 제법 불편을 겪지 않았습니다 놀 지나가면서 본 영화관과 술집 정도가 다였던 슈퍼나 매장을 싶다면 버스나 우버 이용해서 나가야만 물건이 있으시다면 매\nUniversity of Michigan\nnumber of keywords: 791\n['근처', '카페', '음식점', '제법', '불편', '영화관', '술집', '슈퍼', '매장', '버스']\nnumber of counted words: 561\nUniversity of Michigan\nnumber of keywords: 561\nUniversity of Minnesota Morris's env_info section has 2866 words'\n모리스는 규모가 마을입니다 마을 한가운데를 가로지르는 길을 한쪽에서 쪽 끝까지 걸어가려면 분이면 충분할 작습니다 크기는 작지만 즐기기에 시설들은 많았습니다 마트 식당 영화관 은행이\nUniversity of Minnesota Morris\nnumber of keywords: 823\n['모리스', '규모', '마을', '마을', '가운데', '가로지르', '한쪽', '걸어가', '즐기', '시설']\nnumber of counted words: 613\nUniversity of Minnesota Morris\nnumber of keywords: 613\nUniversity of Minnesota Twin Cities's env_info section has 1200 words'\n학교가 서울과 비교하기는 어렵겠지만 도시입니다 주변에 이거 무료여서 좋았어요 근처인 만 요금이 무료예요 무료라도 소지해야합니다 다녀서 자가용이 없어도 다니고 놀러다니는데 지장이 나\nUniversity of Minnesota Twin Cities\nnumber of keywords: 417\n['비교', '어렵', '주변', '무료', '근처', '요금', '무료', '무료', '소지', '자가용']\nnumber of counted words: 347\nUniversity of Minnesota Twin Cities\nnumber of keywords: 347\nUniversity of Mississippi's env_info has not enough words: 44\nUniversity of Montana's env_info has not enough words: 180\nUniversity of Nebraska at Kearney's env_info has not enough words: 76\nUniversity of Nebraska, Lincoln's env_info has not enough words: 389\nUniversity of North Carolina at Asheville's env_info section has 935 words'\n시골이다 주변에 거리는 편이고 우버나 버스 캠퍼스내에 한국의 쏘카처럼 공유렌트카가 이용하여 다운타운을 가거나 월마트에 쇼핑을 즐겼습니다 간혹 볼링장에도 갔던 있네요 날이 공유 렌트\nUniversity of North Carolina at Asheville\nnumber of keywords: 270\n['시골', '주변', '거리', '우버', '버스', '공유', '렌트카', '이용', '다운타운', '월마트']\nnumber of counted words: 236\nUniversity of North Carolina at Asheville\nnumber of keywords: 236\nUniversity of North Carolina at Chapel Hill's env_info section has 5690 words'\n이곳 나름 자랑스럽게 생각하는 번화가가 인데 밥을 먹거나 간단한 생필품을 사러 수시로 가게 캠퍼스의 중심이자 식당인 부르는 이곳부터 걸어가면 걸립니다 기숙사부터 프랭클린 스트릿에 \nUniversity of North Carolina at Chapel Hill\nnumber of keywords: 1411\n['자랑', '번화가', '생필품', '수시로', '가게', '중심', '식당', '부르', '걸어가', '프랭클린']\nnumber of counted words: 890\nUniversity of North Carolina at Chapel Hill\nnumber of keywords: 890\nUniversity of North Carolina at Greensboro's env_info section has 4167 words'\n앞에서 말했듯이 차가 없으면 활동의 제약이 기숙사에서 걸어서 거리에 치폴레 인섬니아 쿠키 스무디킹 식당이 몰려있는 거리가 실제로는 위험해보여서 한번도 걸어가지는 못했습니다 차로 분\nUniversity of North Carolina at Greensboro\nnumber of keywords: 976\n['활동', '제약', '거리', '폴레', '섬니', '쿠키', '스무디', '식당', '거리', '실제로']\nnumber of counted words: 620\nUniversity of North Carolina at Greensboro\nnumber of keywords: 620\nUniversity of North Carolina at Pembroke's env_info has not enough words: 88\nUniversity of North Carolina at Wilmington's env_info has not enough words: 75\nUniversity of North Dakota's env_info has not enough words: 0\nUniversity of Northern Colorado's env_info section has 732 words'\n대학주변에는 큰공원이 주택가로 구성되어 대학에서 조금만 나가면 그릴리 시의 중심지가 나오는데 그곳에는 여러종류의 레스토랑이 술집과 책방 비디오가게 등등이 월마트 킹슈퍼 등등 슈퍼가\nUniversity of Northern Colorado\nnumber of keywords: 203\n['주변', '공원', '주택가', '구성', '나가', '그릴리', '중심지', '종류', '레스토랑', '술집']\nnumber of counted words: 200\nUniversity of Northern Colorado\nnumber of keywords: 200\nUniversity of Notre Dame's env_info has not enough words: 268\nUniversity of Oregon's env_info section has 4560 words'\n위에도 언급했다시피 정문으로부터 주요 편의 시설이 분포해있습니다 연세대학교에 편이며 종류도 다양하지는 걸어나가면 마지막 찾아내서 만히 아쉬웠습니다 학생증을 제시하면 시내 버스가 공\nUniversity of Oregon\nnumber of keywords: 1123\n['언급', '정문', '주요', '편의', '시설', '분포', '종류', '다양', '마지막', '찾아내']\nnumber of counted words: 765\nUniversity of Oregon\nnumber of keywords: 765\nUniversity of Pennsylvania's env_info section has 2939 words'\n안전한 대학가 적당한 주의가 필라델피아 미국이 전반적으로 한국이 생각하는 안전함과는 거리가 이슈는 웬만한 대도시는 피해갈 안전 교육을 제공하는데 위험 지역을 알려줍니다 연락처도 알\nUniversity of Pennsylvania\nnumber of keywords: 828\n['대학가', '주의', '필라델피아', '전반', '안전', '거리', '이슈', '안전', '교육', '제공']\nnumber of counted words: 567\nUniversity of Pennsylvania\nnumber of keywords: 567\nUniversity of Pittsburgh's env_info section has 1470 words'\n피츠버그 내에서 지역에 위치해 도시내에서 안전한 구역이고 근처에 대학교가 위한 시설과 상권이 번화가라고 까지는 버스로 분정도 걸리고 버스비는 학생증이 공짜기 좋았습니다 서울에서 번\nUniversity of Pittsburgh\nnumber of keywords: 462\n['피츠버그', '지역', '안전', '구역', '근처', '시설', '상권', '번화가', '버스', '분정']\nnumber of counted words: 321\nUniversity of Pittsburgh\nnumber of keywords: 321\nUniversity of Richmond's env_info section has 2318 words'\n캠퍼스가 다이기 근처의 다운타운이 존재하나 번화하지 우버를 밤에 밖을 나가기도 상점이 시면 영업을 종료하여 금요일 밤 정도를 빼고는 나가지 낮에 운영하는 셔틀을 다운타운을 있으나 \nUniversity of Richmond\nnumber of keywords: 675\n['근처', '다운타운', '존재', '우버', '나가', '상점', '영업', '종료', '금요일', '운영']\nnumber of counted words: 485\nUniversity of Richmond\nnumber of keywords: 485\nUniversity of South Carolina-Columbia's env_info has not enough words: 220\nUniversity of South Florida's env_info section has 5327 words'\n셔틀을 타고도 부쉬가든이라는 테마파크가 있었는데 크고 엄청난 놀이기구들이 많았습니다 동물들 구경하는 재미도 가보시길 추천드려요 차로 거리에는 올랜도 유니버셜스튜디오와 디즈니월드가 \nUniversity of South Florida\nnumber of keywords: 1342\n['셔틀', '부쉬', '가든', '테마파크', '놀이', '기구', '동물', '구경', '재미', '추천']\nnumber of counted words: 809\nUniversity of South Florida\nnumber of keywords: 809\nUniversity of Southern Indiana's env_info has not enough words: 148\nUniversity of Tennessee Knoxville's env_info section has 1526 words'\n파견되신 년도 파견자시던데 후기와 겪은 비교해보면 대학가가 변한 번째로는 도보 거리에 생겨 차가 없어도 생필품들을 쇼핑하기 좋아졌습니다 근처에 이기 위에 언급한 마트들보다는 배가량\nUniversity of Tennessee Knoxville\nnumber of keywords: 434\n['자시', '후기', '비교', '대학가', '변한', '도보', '거리', '생필품', '쇼핑', '근처']\nnumber of counted words: 357\nUniversity of Tennessee Knoxville\nnumber of keywords: 357\nUniversity of Texas at Arlington's env_info section has 5318 words'\n월마트 가깝고 주변 식당 괜찮아요 단점은 교통수단이 하나도 없어서 차 친구가 놀 없으면 우버비로 돈 깨져요 주변에 볼링장있는데 좋고 아이스 스케이트 장 이것도 좋았어요 놀이공원도 \nUniversity of Texas at Arlington\nnumber of keywords: 1451\n['월마트', '가깝', '주변', '식당', '괜찮', '단점', '교통수단', '친구', '우버', '주변']\nnumber of counted words: 890\nUniversity of Texas at Arlington\nnumber of keywords: 890\nUniversity of Texas at Austin's env_info has not enough words: 391\nUniversity of the Pacific's env_info has not enough words: 96\nUniversity of Utah's env_info section has 3418 words'\n트랙스를 역을 가는게 아마 여러분들이 가실 루트가 역에는 트레이더스 조 마켓 장을 곳들이 이중에서 저렴한 이용했습니다 어플을 다운받아서 멤버쉽을 가입하면 적립 할인 받으실 하시는 \nUniversity of Utah\nnumber of keywords: 1024\n['트랙스', '아마', '루트', '레이더스', '마켓', '이용', '다운', '멤버', '가입', '적립']\nnumber of counted words: 720\nUniversity of Utah\nnumber of keywords: 720\nUniversity of Vermont's env_info section has 1201 words'\n벌링턴 대학도시여서 분위기가 학교의 입지가 편이기에 다운타운까지 분이면 밀플랜이 필요 없겠지만 그로서리도 가깝습니다 다운타운이나 유몰 쇼핑센터 타겟 갔어요 일상적으로 쇼핑 다니기도\nUniversity of Vermont\nnumber of keywords: 391\n['벌링턴', '분위기', '입지', '다운타운', '플랜', '필요', '로서리', '가깝', '다운타운', '쇼핑']\nnumber of counted words: 321\nUniversity of Vermont\nnumber of keywords: 321\nUniversity of Washington's env_info section has 13299 words'\n유덥의 서쪽에는 식당가가 북쪽에는 유빌리지라는 가게와 음식점이 모여있습니다 아시아 음식을 파는 레스토랑들이 한인마트 순두부찌개 떡볶이 불고기 음식점들도 많아서 음식이 생각나면 먹으\nUniversity of Washington\nnumber of keywords: 2946\n['서쪽', '식당가', '북쪽', '빌리지', '가게', '음식점', '아시아', '음식', '레스토랑', '한인']\nnumber of counted words: 1576\nUniversity of Washington\nnumber of keywords: 1576\nUniversity of Wisconsin-Madison's env_info section has 4737 words'\n가깝기 주변에서 음식점 카페 술집이 주변은 마켓을 가기에도 음식을 사 먹기에도 놀기에도 곳이므로 집을 이쪽으로 구하는 강력히 추천드립니다 목요일과 토요일마다 나와 놀기 시끄러울 수\nUniversity of Wisconsin-Madison\nnumber of keywords: 1298\n['가깝', '주변', '음식점', '카페', '술집', '주변', '마켓', '음식', '구하', '강력히']\nnumber of counted words: 873\nUniversity of Wisconsin-Madison\nnumber of keywords: 873\nUniversity of Wyoming's env_info has not enough words: 353\nUpper Iowa University's env_info has not enough words: 83\nUtah State University's env_info has not enough words: 101\nVirginia Commonwealth University's env_info has not enough words: 183\nVirginia Polytechnich Institute and State University's env_info section has 584 words'\n앞에서 말햇듯이 주변에 공항도 차나 버스로 나가야 있는데다가 비행기표가 비싸서 비행기로 하기도 힘들다 할게 사람도 도시생활이 좋으면 지루할 학생이 캠퍼스에 갇혀 없기 학생들끼리 자\nVirginia Polytechnich Institute and State University\nnumber of keywords: 199\n['주변', '공항', '버스', '나가', '비행기', '비싸', '비행기', '힘들', '자체', '즐기']\nnumber of counted words: 185\nVirginia Polytechnich Institute and State University\nnumber of keywords: 185\nWashington and Jefferson College's env_info section has 1027 words'\n차가 없으면 이동하기 힘듭니다 그나마 다운타운인 피츠버그는 토요일마다 운영하는 셔틀로 걸렸습니다 우버를 이용하면 편도 달러 나왔습니다 근처 식료품점으로는 월마트가 있어요 그곳에 각\nWashington and Jefferson College\nnumber of keywords: 342\n['이동', '그나마', '다운타운', '피츠버그', '토요일', '운영', '셔틀', '우버', '이용', '편도']\nnumber of counted words: 263\nWashington and Jefferson College\nnumber of keywords: 263\nWashington College's env_info section has 1831 words'\n앞에 드럭스토어와 우체국 귀국 짐부칠 현대해운본사로 이곳을 보냈어요 레스토랑 스시나 이탈리안 영화관 카페 추천 등이 그마저도 도보로 가기에는 멀리 위치해 밤길은 무서울 시설을 이용\nWashington College\nnumber of keywords: 578\n['럭스', '토어', '우체국', '귀국', '현대', '해운', '본사', '레스토랑', '이탈리안', '영화관']\nnumber of counted words: 451\nWashington College\nnumber of keywords: 451\nWashington State University's env_info has not enough words: 412\nWashington University in St. Louis's env_info section has 2384 words'\n주변에는 음식점들 볼링장 카페 등등 찾아보려면 있겠지만 돌아다니는 편이 아니라서 확실히 소개드리긴 어려울 음식점들은 괜찮은 곳도 기대는 안하시는 한국음식점은 없어 보여요 비빔밥 메\nWashington University in St. Louis\nnumber of keywords: 684\n['주변', '음식점', '볼링장', '카페', '찾아보', '돌아다니', '확실히', '소개', '드리', '음식점']\nnumber of counted words: 521\nWashington University in St. Louis\nnumber of keywords: 521\nWesley College's env_info has not enough words: 125\nWest Virginia Wesleyan College's env_info has not enough words: 193\nWestern Carolina University's env_info has not enough words: 30\nWestern Kentucky University's env_info section has 1693 words'\n주변 도보로 반경 내에는 딱히 것들이 없었다 맥도날드나 마켓의 도보 걸리고 월마트나 크로거 타겟의 셔틀을 마트를 셔틀은 평일 오후 주말 이후에 이용할 다운타운에도 카페 우체국 음식\nWestern Kentucky University\nnumber of keywords: 483\n['주변', '도보', '반경', '딱히', '맥도날드', '마켓', '도보', '걸리', '월마트', '크로거']\nnumber of counted words: 359\nWestern Kentucky University\nnumber of keywords: 359\nWestern Washington University's env_info section has 1605 words'\n학교가 벨링헴 도시의 구성원은 웨스턴 대부분이고 바다와 마주하고 전망이 집들이 늘어서 나이 드신 살고 계시는 동네입니다 주변 등으로 나눌 지역에 버스노선이 발달되어 다운타운이나 몰\nWestern Washington University\nnumber of keywords: 489\n['벨링', '구성원', '웨스턴', '바다', '마주', '전망', '집들이', '나이', '동네', '주변']\nnumber of counted words: 388\nWestern Washington University\nnumber of keywords: 388\nWestminster College's env_info section has 2323 words'\n웨스트민스터가 뉴윌밍턴은 마을입니다 마음만 먹으면 주말에 산책을 하며 동네 곳곳을 둘러볼 정도였습니다 다니는 제외하고 마을주민들의 대부분이 백인이었습니다 아시아인이 없어서 그런지 \nWestminster College\nnumber of keywords: 657\n['웨스트민스터', '윌밍턴', '마을', '마음', '주말', '산책', '동네', '곳곳', '다니', '제외']\nnumber of counted words: 487\nWestminster College\nnumber of keywords: 487\nWhitworth College's env_info has not enough words: 116\nWittenberg University's env_info has not enough words: 333\n['AR000004', 'AU000002', 'AU000010', 'AU000014', 'AT000002', 'AT000003', 'BE000003', 'BE000002', 'CA000008', 'CA000009', 'CA000010', 'CA000021', 'CA000017', 'CA000019', 'CN000021', 'CN000012', 'CN000019', 'CR000002', 'DK000005', 'DK000002', 'FI000001', 'FI000005', 'FI000011', 'FI000012', 'FR000004', 'FR000007', 'FR000008', 'FR000012', 'FR000014', 'FR000016', 'FR000017', 'FR000020', 'FR000025', 'FR000029', 'FR000030', 'FR000033', 'DE000004', 'DE000005', 'DE000007', 'DE000013', 'DE000014', 'ID000001', 'IE000003', 'IT000009', 'IT000010', 'IT000011', 'JP000001', 'JP000009', 'JP000010', 'JP000016', 'JP000017', 'JP000018', 'JP000036', 'JP000020', 'JP000026', 'JP000028', 'JP000029', 'JP000032', 'JP000035', 'KZ000002', '730     ', 'MX000004', 'MX000009', 'MX000014', 'MN000001', 'NL000014', 'NL000015', 'NL000009', 'NL000011', 'PH000002', 'PH000001', 'PL000001', 'SG000004', 'ES000018', 'ES000006', 'ES000008', 'ES000010', 'ES000011', 'ES000012', 'ES000013', 'SE000002', 'SE000004', 'SE000012', 'CH000001', 'CH000006', 'TW000001', 'TW000002', 'TW000009', 'TW000005', 'TW000007', 'TH000002', 'TH000003', 'TR000002', 'TR000001', 'GB000027', 'GB000031', 'GB000037', 'GB000001', 'GB000028', 'GB000002', 'GB000003', 'GB000004', 'GB000038', 'GB000039', 'GB000030', 'GB000007', 'GB000008', 'GB000011', 'GB000014', 'GB000016', 'GB000020', 'US000001', 'US000002', 'US000303', 'US000004', 'US000011', 'US000282', 'US000018', 'US000029', 'US000301', 'US000043', 'US000044', 'US000045', 'US000047', 'US000048', 'US000293', 'US000049', 'US000050', 'US000053', 'US000056', 'US000024', 'US000025', 'US000026', 'US000021', 'US000036', 'US000032', 'US000033', 'US000057', 'US000400', 'US000063', 'US000064', 'US000065', 'US000068', 'US000075', 'US000082', 'US000084', 'US000088', 'US000093', 'US000097', 'US000099', 'US000100', 'US000102', 'US000106', 'US000112', 'US000113', 'US000120', 'US000124', 'US000126', 'US000129', 'US000281', 'US000133', 'US000134', 'US000157', 'US000161', 'US000162', 'US000165', 'US000166', 'US000167', 'US000280', 'US000183', 'US000187', 'US000203', 'US000208', 'US000210', 'US000286', 'US000213', 'US000218', 'US000219', 'US000220', 'US000221', 'US000226', 'US000227', 'US000228', 'US000287', 'US000236', 'US000238', 'US000243', 'US000245', 'US000254', 'US000292', 'US000255', 'US000258', 'US000263', 'US000265', 'US000267', 'US000268', 'US000274', 'US000278']\n"
    }
   ],
   "source": [
    "column_data = \"env_info\"\n",
    "\n",
    "for i in range(470):\n",
    "    corpus = throw_corpus(df_specific, column_data , stopwords_list, univ_no = i)\n",
    "    if corpus is False:\n",
    "        college_code = df_specific[\"대학코드\"][i]\n",
    "        no_wordcloud_env_info.append(college_code)\n",
    "        pass\n",
    "    else:\n",
    "        generate_wordcloud_mecab(df_specific, column_data , stopwords_list, corpus, i, wordcloud)\n",
    "        generate_wordcloud_okt(df_specific, column_data , stopwords_list, corpus, i, wordcloud)\n",
    "\n",
    "print(no_wordcloud_env_info)"
   ]
  },
  {
   "cell_type": "markdown",
   "metadata": {},
   "source": [
    "['AR000004', 'AU000002', 'AU000010', 'AU000014', 'AT000002', 'AT000003', 'BE000003', 'BE000002', 'CA000008', 'CA000009', 'CA000010', 'CA000021', 'CA000017', 'CA000019', 'CN000021', 'CN000012', 'CN000019', 'CR000002', 'DK000005', 'DK000002', 'FI000001', 'FI000005', 'FI000011', 'FI000012', 'FR000004', 'FR000007', 'FR000008', 'FR000012', 'FR000014', 'FR000016', 'FR000017', 'FR000020', 'FR000025', 'FR000029', 'FR000030', 'FR000033', 'DE000004', 'DE000005', 'DE000007', 'DE000013', 'DE000014', 'ID000001', 'IE000003', 'IT000009', 'IT000010', 'IT000011', 'JP000001', 'JP000009', 'JP000010', 'JP000016', 'JP000017', 'JP000018', 'JP000036', 'JP000020', 'JP000026', 'JP000028', 'JP000029', 'JP000032', 'JP000035', 'KZ000002', '730     ', 'MX000004', 'MX000009', 'MX000014', 'MN000001', 'NL000014', 'NL000015', 'NL000009', 'NL000011', 'PH000002', 'PH000001', 'PL000001', 'SG000004', 'ES000018', 'ES000006', 'ES000008', 'ES000010', 'ES000011', 'ES000012', 'ES000013', 'SE000002', 'SE000004', 'SE000012', 'CH000001', 'CH000006', 'TW000001', 'TW000002', 'TW000009', 'TW000005', 'TW000007', 'TH000002', 'TH000003', 'TR000002', 'TR000001', 'GB000027', 'GB000031', 'GB000037', 'GB000001', 'GB000028', 'GB000002', 'GB000003', 'GB000004', 'GB000038', 'GB000039', 'GB000030', 'GB000007', 'GB000008', 'GB000011', 'GB000014', 'GB000016', 'GB000020', 'US000001', 'US000002', 'US000303', 'US000004', 'US000011', 'US000282', 'US000018', 'US000029', 'US000301', 'US000043', 'US000044', 'US000045', 'US000047', 'US000048', 'US000293', 'US000049', 'US000050', 'US000053', 'US000056', 'US000024', 'US000025', 'US000026', 'US000021', 'US000036', 'US000032', 'US000033', 'US000057', 'US000400', 'US000063', 'US000064', 'US000065', 'US000068', 'US000075', 'US000082', 'US000084', 'US000088', 'US000093', 'US000097', 'US000099', 'US000100', 'US000102', 'US000106', 'US000112', 'US000113', 'US000120', 'US000124', 'US000126', 'US000129', 'US000281', 'US000133', 'US000134', 'US000157', 'US000161', 'US000162', 'US000165', 'US000166', 'US000167', 'US000280', 'US000183', 'US000187', 'US000203', 'US000208', 'US000210', 'US000286', 'US000213', 'US000218', 'US000219', 'US000220', 'US000221', 'US000226', 'US000227', 'US000228', 'US000287', 'US000236', 'US000238', 'US000243', 'US000245', 'US000254', 'US000292', 'US000255', 'US000258', 'US000263', 'US000265', 'US000267', 'US000268', 'US000274', 'US000278']"
   ]
  },
  {
   "cell_type": "code",
   "execution_count": null,
   "metadata": {},
   "outputs": [],
   "source": [
    "# 주변, 시내, 이기, 시설, 이용, 거리, 음식점, 가다, 나가다, 마트, 레스토랑, 지역\n",
    "# 걸다 -> 걷다"
   ]
  }
 ]
}