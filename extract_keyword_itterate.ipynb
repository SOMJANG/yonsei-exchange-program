{
 "metadata": {
  "language_info": {
   "codemirror_mode": {
    "name": "ipython",
    "version": 3
   },
   "file_extension": ".py",
   "mimetype": "text/x-python",
   "name": "python",
   "nbconvert_exporter": "python",
   "pygments_lexer": "ipython3",
   "version": "3.8.3-final"
  },
  "orig_nbformat": 2,
  "kernelspec": {
   "name": "python38364bitnlpkor2venvd6ba932570ef4af6b6af5bc7a778a398",
   "display_name": "Python 3.8.3 64-bit ('nlpkor2': venv)"
  }
 },
 "nbformat": 4,
 "nbformat_minor": 2,
 "cells": [
  {
   "cell_type": "code",
   "execution_count": 1,
   "metadata": {},
   "outputs": [],
   "source": [
    "MECAB_PATH = \"./univ_wordclouds_mecab\"\n",
    "OKT_PATH = \"./univ_wordclouds_okt\""
   ]
  },
  {
   "cell_type": "code",
   "execution_count": 2,
   "metadata": {
    "tags": []
   },
   "outputs": [
    {
     "output_type": "stream",
     "name": "stdout",
     "text": "1.1.0\n1.18.5\n"
    }
   ],
   "source": [
    "import pandas as pd\n",
    "import numpy as np\n",
    "print(pd.__version__)\n",
    "print(np.__version__)"
   ]
  },
  {
   "cell_type": "code",
   "execution_count": 3,
   "metadata": {},
   "outputs": [
    {
     "output_type": "execute_result",
     "data": {
      "text/plain": "       대학코드                             대학명  \\\n0  AR000004        Universidad del Salvador   \n1  AU000019  Australian National University   \n\n                                            gen_info  \\\n0  아르헨티나의 대다수 대학교는 한국처럼 캠퍼스가 있는 것이 아니라 도시 내에 몇개의 ...   \n1  ANU has a very big campus, but unlike Yonsei, ...   \n\n                                            env_info  \\\n0  대학교가 도시 여러곳에 분포하고 있으므로 각기 다르다. 하지만 남녀를 불문하고 부에...   \n1  The city center, called CIVIC, is 20min walk a...   \n\n                                           food_info  \\\n0  기숙사는 학교에서 제공하지 않고 두가지 옵션이 주어진다. 홈스테이 혹은 게스트 하우...   \n1  There are many housing options, but I chose to...   \n\n                                          study_info  \\\n0  아르헨티나에서의 대학 수업은 주로 오전 혹은 저녁에 있다. 대부분의 학생들이 일을하...   \n1  In my personal opinions, classes are generally...   \n\n                                         office_info  \\\n0  EL SALVADOR대학교는 국제 교육부가 잘 되있는 학교이다. 아르헨티나 대학교들...   \n1  Overall, I did not have to ask for help much f...   \n\n                                          facil_info  \\\n0  부대시설로는 헬스장이 있다고 알고 있으나 시내와 먼 곳에 있었다. 동아리는 몇가지 ...   \n1  There were many clubs for you to join at ANU, ...   \n\n                                           mhct_info  \\\n0  딱히 컬쳐쇼크를 받을 만 한 요소는 없었던 것 같다. 하지만 처음에 언어적인 면에서...   \n1  I did have some culture shock during my first ...   \n\n                                           help_info  \\\n0  살바도르 대학교 국제처에서 비자문제나 숙소문제(홈스테이경우) 등은 해결해 주고, 특...   \n1  I was helped a lot, especially during the firs...   \n\n                                            etc_info  \n0                                                NaN  \n1  Overall, my stay in Australia has been nothing...  ",
      "text/html": "<div>\n<style scoped>\n    .dataframe tbody tr th:only-of-type {\n        vertical-align: middle;\n    }\n\n    .dataframe tbody tr th {\n        vertical-align: top;\n    }\n\n    .dataframe thead th {\n        text-align: right;\n    }\n</style>\n<table border=\"1\" class=\"dataframe\">\n  <thead>\n    <tr style=\"text-align: right;\">\n      <th></th>\n      <th>대학코드</th>\n      <th>대학명</th>\n      <th>gen_info</th>\n      <th>env_info</th>\n      <th>food_info</th>\n      <th>study_info</th>\n      <th>office_info</th>\n      <th>facil_info</th>\n      <th>mhct_info</th>\n      <th>help_info</th>\n      <th>etc_info</th>\n    </tr>\n  </thead>\n  <tbody>\n    <tr>\n      <th>0</th>\n      <td>AR000004</td>\n      <td>Universidad del Salvador</td>\n      <td>아르헨티나의 대다수 대학교는 한국처럼 캠퍼스가 있는 것이 아니라 도시 내에 몇개의 ...</td>\n      <td>대학교가 도시 여러곳에 분포하고 있으므로 각기 다르다. 하지만 남녀를 불문하고 부에...</td>\n      <td>기숙사는 학교에서 제공하지 않고 두가지 옵션이 주어진다. 홈스테이 혹은 게스트 하우...</td>\n      <td>아르헨티나에서의 대학 수업은 주로 오전 혹은 저녁에 있다. 대부분의 학생들이 일을하...</td>\n      <td>EL SALVADOR대학교는 국제 교육부가 잘 되있는 학교이다. 아르헨티나 대학교들...</td>\n      <td>부대시설로는 헬스장이 있다고 알고 있으나 시내와 먼 곳에 있었다. 동아리는 몇가지 ...</td>\n      <td>딱히 컬쳐쇼크를 받을 만 한 요소는 없었던 것 같다. 하지만 처음에 언어적인 면에서...</td>\n      <td>살바도르 대학교 국제처에서 비자문제나 숙소문제(홈스테이경우) 등은 해결해 주고, 특...</td>\n      <td>NaN</td>\n    </tr>\n    <tr>\n      <th>1</th>\n      <td>AU000019</td>\n      <td>Australian National University</td>\n      <td>ANU has a very big campus, but unlike Yonsei, ...</td>\n      <td>The city center, called CIVIC, is 20min walk a...</td>\n      <td>There are many housing options, but I chose to...</td>\n      <td>In my personal opinions, classes are generally...</td>\n      <td>Overall, I did not have to ask for help much f...</td>\n      <td>There were many clubs for you to join at ANU, ...</td>\n      <td>I did have some culture shock during my first ...</td>\n      <td>I was helped a lot, especially during the firs...</td>\n      <td>Overall, my stay in Australia has been nothing...</td>\n    </tr>\n  </tbody>\n</table>\n</div>"
     },
     "metadata": {},
     "execution_count": 3
    }
   ],
   "source": [
    "# pandas 설정: 모든 row와 모든 column을 출력하게 하고, 각 column 별 출력되는 글자수는 50자 이내\n",
    "pd.set_option('display.max_rows', None, 'display.max_columns', None, 'display.max_colwidth', 50)\n",
    "\n",
    "# 위의 설정으로 간단하게 보는 df_specific\n",
    "df_specific = pd.read_csv(\"./data_wrangled/df_specific_wrangle.csv\", encoding=\"utf-8\")\n",
    "df_specific.head(2)"
   ]
  },
  {
   "cell_type": "code",
   "execution_count": 4,
   "metadata": {},
   "outputs": [],
   "source": [
    "# pandas 설정: 각 column 별 (혹은 한 cell에서) 출력되는 글자수 제한을 없애기\n",
    "pd.set_option('display.max_colwidth', None)"
   ]
  },
  {
   "cell_type": "code",
   "execution_count": 5,
   "metadata": {},
   "outputs": [],
   "source": [
    "import re\n",
    "# removing junks from the string data\n",
    "def remove_junk(str_data):\n",
    "    str_data = str_data.replace(\"\\\\\\\\n\", \"\")\n",
    "    str_data = str_data.replace(\"\\\\n\", \"\")\n",
    "    str_data = str_data.replace(\"\\n\", \"\")\n",
    "    str_data = str_data.replace(\"\\\\\", \"\")\n",
    "    str_data = str_data.replace(\"\\\\t\", \"\")\n",
    "    str_data = str_data.replace(\"NaN\", \"\")\n",
    "\n",
    "    # print(str_data) makes an error. too much of data\n",
    "    # 한글, english 빼고 전부 날리기\n",
    "    # str_data = re.sub('[^가-힣ㄱ-ㅎㅏ-ㅣa-zA-Z|0-9|.,]', ' ', str_data)\n",
    "\n",
    "    # 한글 빼고 다 날리기\n",
    "    str_data = re.sub('[^가-힣ㄱ-ㅎㅏ]', ' ', str_data)\n",
    "\n",
    "    # replace multiple spaces into single space\n",
    "    str_data = ' '.join(str_data.split())\n",
    "    return str_data\n",
    "\n",
    "# accessing university info of given column (= accessing one cell)\n",
    "def access_univ_info(dataframe, column, univ_code):\n",
    "    df_row = dataframe.loc[dataframe[\"대학코드\"] == univ_code]\n",
    "    str_univ_info = df_row[column].to_string(index=False).lstrip()\n",
    "    str_univ_info = remove_junk(str_univ_info)\n",
    "    return str_univ_info"
   ]
  },
  {
   "cell_type": "code",
   "execution_count": 6,
   "metadata": {},
   "outputs": [],
   "source": [
    "info_list = ['gen_info', 'env_info', 'food_info', 'study_info', 'office_info', 'facil_info', 'mhct_info', 'help_info', 'etc_info']"
   ]
  },
  {
   "cell_type": "code",
   "execution_count": 7,
   "metadata": {},
   "outputs": [
    {
     "output_type": "execute_result",
     "data": {
      "text/plain": "<soynlp.tokenizer._tokenizer.LTokenizer at 0x1122a34c0>"
     },
     "metadata": {},
     "execution_count": 7
    }
   ],
   "source": [
    "# https://github.com/lovit/soynlp\n",
    "from soynlp.tokenizer import RegexTokenizer, LTokenizer\n",
    "from collections import Counter\n",
    "\n",
    "tokenizer = LTokenizer()\n",
    "tokenizer"
   ]
  },
  {
   "cell_type": "code",
   "execution_count": 26,
   "metadata": {
    "tags": []
   },
   "outputs": [
    {
     "output_type": "stream",
     "name": "stdout",
     "text": "total 1983 number of stopwords available\n['있습니다', '수', '있는'] ['레스토랑', '지역', '식당', '다니다']\n"
    }
   ],
   "source": [
    "# read stopwords genarated from filter_stopwords() function\n",
    "stopwords_file = open('stopwords_kr.txt','rt', encoding='UTF8')\n",
    "stopwords_txt = stopwords_file.read()\n",
    "stopwords_list = stopwords_txt.strip('').split(', ')\n",
    "\n",
    "# get human selected stopwords\n",
    "stopwords_nogada_file = open('stopwords_nogada.txt','rt', encoding='UTF8')\n",
    "stopwords_nogada_txt = stopwords_nogada_file.read()\n",
    "stopwords_nogada = stopwords_nogada_txt.strip('').split(', ')\n",
    "stopwords_list = stopwords_list + stopwords_nogada\n",
    "print(f\"total {len(stopwords_list)} number of stopwords available\")\n",
    "print(stopwords_list[:3], stopwords_list[-4:])"
   ]
  },
  {
   "cell_type": "code",
   "execution_count": 9,
   "metadata": {},
   "outputs": [],
   "source": [
    "def throw_corpus(df_specific, column_data: str, stopwords:list, univ_no: int):\n",
    "    # get column data\n",
    "    df_column = df_specific[column_data].fillna(\"\")\n",
    "\n",
    "    # preprocess all values in column data\n",
    "    df_process = df_column.apply(remove_junk)\n",
    "    \n",
    "    # apply predefined soynlp tokenizer\n",
    "    df_tokens = df_process.apply(tokenizer.tokenize)\n",
    "    # print(df_tokens[-2:])\n",
    "\n",
    "    univ_bow = df_tokens[univ_no]\n",
    "    univ_name = df_specific[\"대학명\"][univ_no]\n",
    "    word_count = len(univ_bow)\n",
    "    if word_count < 500:\n",
    "        print(f\"{univ_name}'s {column_data} has not enough words: {word_count}\")\n",
    "        return False\n",
    "\n",
    "    elif word_count >= 500:\n",
    "        print(f\"{univ_name}'s {column_data} section has {word_count} words'\")\n",
    "        subtracted_bow_list = [item for item in univ_bow if item not in stopwords_list]\n",
    "        counted_bow_keywords = Counter(subtracted_bow_list)\n",
    "        counted_bow_tuple_list = list(Counter(counted_bow_keywords).items())\n",
    "        zipped_bow_words, bow_frequency_list = map(list, zip(*counted_bow_tuple_list)) \n",
    "        corpus = \" \".join(zipped_bow_words)\n",
    "        print(corpus[:100])\n",
    "        return corpus    "
   ]
  },
  {
   "cell_type": "code",
   "execution_count": 10,
   "metadata": {},
   "outputs": [],
   "source": [
    "# 그래프에 retina display 적용\n",
    "%config InlineBackend.figure_format = 'retina'\n",
    "\n",
    "# 워드클라우드를 위한 나눔고딕 경로 설정\n",
    "import matplotlib.font_manager as fm\n",
    "fontpath = './font/NanumBarunGothic.ttf'\n",
    "font = fm.FontProperties(fname=fontpath, size=9)"
   ]
  },
  {
   "cell_type": "code",
   "execution_count": 11,
   "metadata": {},
   "outputs": [],
   "source": [
    "from wordcloud import WordCloud\n",
    "import matplotlib.pyplot as plt\n",
    "%matplotlib inline\n",
    "\n",
    "backgroundcolor = \"white\"\n",
    "width=800\n",
    "height=600\n",
    "wordcloud = WordCloud(font_path = fontpath,\n",
    "                        # stopwords = STOPWORDS, \n",
    "                        background_color = backgroundcolor, \n",
    "                        max_words= 50,\n",
    "                        max_font_size= 300,\n",
    "                        width = width, \n",
    "                        height = height)"
   ]
  },
  {
   "cell_type": "code",
   "execution_count": 12,
   "metadata": {},
   "outputs": [],
   "source": [
    "# tokenizing sentences into nouns, verbs, etc\n",
    "from konlpy.tag import Mecab\n",
    "\n",
    "def generate_wordcloud_mecab(df_specific, column_data: str, stopwords_list: list,  corpus: str, univ_no: int, wordcloud):\n",
    "    mecab_tokenizer = Mecab()\n",
    "\n",
    "    # tokenization for mecab: http://openuiz.blogspot.com/2016/07/mecab-ko-dic.html\n",
    "    mecab_pos = [\"NNG\", \"NNP\", \"VV\", \"VA\", \"MAG\"]\n",
    "\n",
    "    mecab_keywords = [\n",
    "            word\n",
    "            for word, tag in mecab_tokenizer.pos(corpus, flatten=True)\n",
    "            if len(word) > 1 and tag in mecab_pos and word not in stopwords_list\n",
    "        ]\n",
    "    \n",
    "    univ_name = df_specific[\"대학명\"][univ_no]\n",
    "    print(univ_name)\n",
    "    print(f\"number of keywords: {len(mecab_keywords)}\")\n",
    "    print(mecab_keywords[:10])\n",
    "\n",
    "    # 빈도수 별로 단어를 크게 표시한다\n",
    "    str_keywords = ' '.join(mecab_keywords)\n",
    "    mecab_wordcloud = wordcloud.generate(str_keywords)\n",
    "    # plt.figure(figsize = (15 , 10))\n",
    "    # plt.imshow(wordcloud)\n",
    "    # plt.axis(\"off\")\n",
    "    # plt.show() \n",
    "\n",
    "    # save wordcloud png as file\n",
    "    college_code = df_specific[\"대학코드\"][univ_no]\n",
    "    wordcloud.to_file(f\"{MECAB_PATH}/{column_data}/{college_code}_{column_data}_mecab.png\")\n",
    "\n"
   ]
  },
  {
   "cell_type": "code",
   "execution_count": 21,
   "metadata": {},
   "outputs": [],
   "source": [
    "# tokenizing sentences into nouns, verbs, etc\n",
    "from konlpy.tag import Okt\n",
    "\n",
    "def okt_kor_tokenizer(raw, stopwords):\n",
    "    okt_tokenizer = Okt()\n",
    "    # position arguments(or position tags): 내가 뽑아내고 싶은 형태소들\n",
    "    twitter_pos = [\"Noun\", \"Alpha\", \"Verb\", \"Number\", \"Adverb\"]\n",
    "    twitter_list = [\n",
    "        word\n",
    "        # normalize 그랰ㅋㅋ -> 그래ㅋㅋ  # stemming 바뀌나->바뀌다\n",
    "        for word, tag in okt_tokenizer.pos(raw, norm=True, stem=True)\n",
    "        if len(word) > 1 and tag in twitter_pos and word not in stopwords\n",
    "    ]\n",
    "    return twitter_list\n",
    "\n",
    "\n",
    "def generate_wordcloud_okt(df_specific, column_data: str, stopwords_list: list,  corpus: str, univ_no: int, wordcloud):\n",
    "    \n",
    "    okt_words = okt_kor_tokenizer(corpus, stopwords_list)\n",
    "    okt_words = [item.replace('추다', '춥다') for item in okt_words]\n",
    "    okt_words = [item.replace('걸다', '걷다') for item in okt_words]\n",
    "    okt_words_counted = Counter(okt_words)\n",
    "    print(\"number of counted words:\", len(okt_words_counted))\n",
    "    \n",
    "    univ_name = df_specific[\"대학명\"][univ_no]\n",
    "    print(univ_name)\n",
    "    print(f\"number of keywords: {len(okt_words_counted)}\")\n",
    "\n",
    "    # 빈도수 별로 단어를 크게 표시한다\n",
    "    wordcloud.generate_from_frequencies(frequencies = okt_words_counted) # mecab으로 추출한 명사로 워드클라우드를 그린다.\n",
    "    # plt.figure(figsize = (15 , 10))\n",
    "    # plt.imshow(wordcloud)\n",
    "    # plt.axis(\"off\")\n",
    "    # plt.show() \n",
    "\n",
    "    # save wordcloud png as file\n",
    "    college_code = df_specific[\"대학코드\"][univ_no]\n",
    "    wordcloud.to_file(f\"{OKT_PATH}/{column_data}/{college_code}_{column_data}_okt.png\")"
   ]
  },
  {
   "cell_type": "code",
   "execution_count": 14,
   "metadata": {},
   "outputs": [],
   "source": [
    "column_data = \"env_info\"\n",
    "sample_univ_no = 206"
   ]
  },
  {
   "cell_type": "code",
   "execution_count": 15,
   "metadata": {
    "tags": []
   },
   "outputs": [
    {
     "output_type": "stream",
     "name": "stdout",
     "text": "Public University of Navarre's env_info section has 2050 words'\n앞서 말씀드렸듯이 내에는 카페테리아랑 도서관 스포츠센터가 존재하며 스포츠센터 시설은 되어있는 편입니다 테니스 신청하였는데 학생들에게는 스포츠 수업이나 시설 이용료가 싼 가격에 제공\n"
    }
   ],
   "source": [
    "sample_corpus = throw_corpus(df_specific, column_data , stopwords_list, univ_no = sample_univ_no)"
   ]
  },
  {
   "cell_type": "code",
   "execution_count": 16,
   "metadata": {
    "tags": []
   },
   "outputs": [
    {
     "output_type": "stream",
     "name": "stdout",
     "text": "Public University of Navarre\nnumber of keywords: 699\n['앞서', '카페테리아', '도서관', '스포츠센터', '존재', '스포츠센터', '시설', '테니스', '신청', '스포츠']\n"
    }
   ],
   "source": [
    "generate_wordcloud_mecab(df_specific, column_data , stopwords_list, sample_corpus, sample_univ_no, wordcloud)"
   ]
  },
  {
   "cell_type": "code",
   "execution_count": 17,
   "metadata": {
    "tags": []
   },
   "outputs": [
    {
     "output_type": "stream",
     "name": "stdout",
     "text": "number of counted words: 493\nPublic University of Navarre\nnumber of keywords: 493\n"
    }
   ],
   "source": [
    "generate_wordcloud_okt(df_specific, column_data , stopwords_list, sample_corpus, sample_univ_no, wordcloud)"
   ]
  },
  {
   "cell_type": "code",
   "execution_count": 18,
   "metadata": {},
   "outputs": [],
   "source": [
    "no_wordcloud_gen_info = []\n",
    "no_wordcloud_env_info = []\n",
    "no_wordcloud_food_info = []\n",
    "no_wordcloud_study_info = []"
   ]
  },
  {
   "cell_type": "code",
   "execution_count": 19,
   "metadata": {
    "tags": [
     "outputPrepend"
    ]
   },
   "outputs": [
    {
     "output_type": "stream",
     "name": "stdout",
     "text": "bama\nnumber of keywords: 534\n['동쪽', '조지', '서쪽', '미시시피', '플로리다', '면적', '대한민국', '자랑', '버밍엄', '몽고메리']\nnumber of counted words: 439\nUniversity of Alabama\nnumber of keywords: 439\nUniversity of Arkansas's gen_info has not enough words: 102\nUniversity of California Berkeley's gen_info section has 31853 words'\n연대와 크기가 비슷하다고 말씀하시는 많은데 체감 상 연대보다 넓게 느껴졌습니다 수업인데도 멀리 떨어져 건물에서 많아서 캠퍼스를 걸어 다녔습니다 날씨는 춥습니다 햇빛은 강해도 바람이\nUniversity of California Berkeley\nnumber of keywords: 4932\n['체감', '멀리', '햇빛', '바람', '하루', '종일', '반팔', '후드', '야상', '종류']\nnumber of counted words: 2281\nUniversity of California Berkeley\nnumber of keywords: 2281\nUniversity of California Davis's gen_info section has 13815 words'\n크기가 넓어서 자전거 다녀야했어요 처음엔 헤맸는데 지리가 금방 익숙해져서 괜찮았어요 캘리포니아 날씨가 따뜻하다고 했는데 데이비스는 북부 캘리포니아라 겨울에 쌀쌀했어요 면적은 넓지만\nUniversity of California Davis\nnumber of keywords: 2580\n['자전거', '지리', '금방', '괜찮', '캘리포니아', '데이비스', '북부', '캘리포니아', '겨울', '면적']\nnumber of counted words: 1388\nUniversity of California Davis\nnumber of keywords: 1388\nUniversity of California Irvine's gen_info section has 28354 words'\n교환대학의 크기는 크지는 않았습니다 교내 사이즈만 치면 사이즈 보다는 였던 지리적위치로는 와는 분에서 거리이며 샌 디에이고 까지는 한시간 반정도 걸리는 이번에 코로나 다녀오지 못했\nUniversity of California Irvine\nnumber of keywords: 4952\n['교내', '사이즈', '사이즈', '지리', '거리', '걸리', '이번', '다녀오', '버스', '작년']\nnumber of counted words: 2327\nUniversity of California Irvine\nnumber of keywords: 2327\nUniversity of California Los Angeles's gen_info section has 25476 words'\n따뜻하여 월에도 후드티 긴 바지만 입어도 지낼 월까지는 무척 더웠어요 산불이 나서 실제 하루 휴교한 적도 캠퍼스가 편이지만 먼 문과 건물까지 기숙사에서 걸리므로 통학하는 불편한 크\nUniversity of California Los Angeles\nnumber of keywords: 4682\n['후드', '무척', '산불', '실제', '하루', '휴교', '걸리', '통학', '불편', '외국어']\nnumber of counted words: 2291\nUniversity of California Los Angeles\nnumber of keywords: 2291\nUniversity of California Merced's gen_info section has 726 words'\n학교는 송도 배 정도입니다 빠르게 확장하고 토지가 많아서 나중에는 커질 여름은 덥습니다 건조해서 날씨입니다 전까지 비가 왔습니다 겨울은 두꺼운 후디 하나면 충분합니다 짐에 패딩은 \nUniversity of California Merced\nnumber of keywords: 188\n['송도', '빠르', '확장', '토지', '나중', '여름', '건조', '겨울', '패딩', '겨울']\nnumber of counted words: 191\nUniversity of California Merced\nnumber of keywords: 191\nUniversity of California Riverside's gen_info section has 5271 words'\n크기는 연대만하다고 많이들 말씀해주셨는데 학교가 백양로처럼 쫙 뻗어있는 구조가 빌딩인 빌딩을 기준으로 방사형으로 구조라서 체감상 넓다고 느껴졌습니다 기숙사에서 살았는데도 아침에 듣\nUniversity of California Riverside\nnumber of keywords: 1266\n['백양로', '구조', '빌딩', '빌딩', '기준', '방사형', '구조', '체감', '아침', '빌딩']\nnumber of counted words: 853\nUniversity of California Riverside\nnumber of keywords: 853\nUniversity of California San Diego's gen_info section has 23169 words'\n체감상 캠퍼스는 연세대학교보다 교내에서 자전거 스케이트보드 전동킥보드 다니는 셔틀도 존재합니다 가을쿼터에는 살아 걸어다니는 문제를 느끼지 못했지만 겨울쿼터에는 오프캠퍼스에서 자취방\nUniversity of California San Diego\nnumber of keywords: 4200\n['체감', '교내', '자전거', '스케이트보드', '전동', '다니', '셔틀', '존재', '가을', '쿼터']\nnumber of counted words: 2059\nUniversity of California San Diego\nnumber of keywords: 2059\nUniversity of California Santa Barbara's gen_info section has 27032 words'\n햇빛 아래 파도치는 모래사장과 휴양지 이미지의 캘리포니아는 이곳을 말한다 유씨 곳도 이렇게 대학인 척 비치 리조트는 아닐 납작하고 볕이 잘드는데 신촌거리 대신 바다가 느낌이다 공항\nUniversity of California Santa Barbara\nnumber of keywords: 4222\n['햇빛', '아래', '파도치', '모래사장', '휴양지', '이미지', '캘리포니아', '이렇게', '비치', '리조트']\nnumber of counted words: 2075\nUniversity of California Santa Barbara\nnumber of keywords: 2075\nUniversity of California Santa Cruz's gen_info section has 6210 words'\n유씨 산타크루즈의 크기는 큽니다 연세대학교에서는 대우관에서 공학관까지 마음만 먹고 빨리 걸으면 아슬아슬하게 도착할 산타크루즈는 끝과 끝에 강의실까지 갈려면 정도는 걸리는 그래서인지\nUniversity of California Santa Cruz\nnumber of keywords: 1343\n['산타크루즈', '우관', '공학', '마음', '빨리', '아슬아슬', '도착', '산타크루즈', '강의실', '걸리']\nnumber of counted words: 900\nUniversity of California Santa Cruz\nnumber of keywords: 900\nUniversity of Chicago's gen_info section has 815 words'\n시카고 대학은 대 도시인 시카고의 남부에 학교로 남부 위치하고 캠퍼스가 없기는 주변이 도심이 주택단지라 사실상 학교만 시카고는 미국에서도 춥고 바람이 부는 곳으로 유명한 도시로 실\nUniversity of Chicago\nnumber of keywords: 268\n['시카고', '시카고', '남부', '남부', '주변', '도심', '주택', '단지', '사실상', '시카고']\nnumber of counted words: 225\nUniversity of Chicago\nnumber of keywords: 225\nUniversity of Connecticut's gen_info section has 3130 words'\n전부 합치면 연세대학교보다 크지만 생활반경은 충분히 작을 강의건물 헬스장 가까이에 위치해있어요 지리적 동부 코네티컷주의 있어요 친구들한테는 뉴욕과 보스턴 중간 어디쯤이라고 설명했어\nUniversity of Connecticut\nnumber of keywords: 734\n['전부', '합치', '반경', '충분히', '강의', '헬스', '가까이', '지리', '동부', '코네티컷주']\nnumber of counted words: 568\nUniversity of Connecticut\nnumber of keywords: 568\nUniversity of Georgia's gen_info section has 7366 words'\n연대의 배 크기를 자랑하는 거대한 캠퍼스를 밑에서 설명하겠지만 교환학생들이 거주하게 교내 교양 문과대 경영대 수업들이 이루어지는 북쪽과 정문까지는 걸어서 내외라고 생각하시면 버스가\nUniversity of Georgia\nnumber of keywords: 1599\n['자랑', '거대', '설명', '거주', '교내', '교양', '경영', '이루어지', '북쪽', '정문']\nnumber of counted words: 1110\nUniversity of Georgia\nnumber of keywords: 1110\nUniversity of Guam's gen_info has not enough words: 179\nUniversity of Hawaii at Manoa's gen_info section has 7076 words'\n마노아에 연세대학교와 비슷하다고 느껴질 정도의 규모를 초록색이 무성한 자연을 학교입니다 나뉘어져 쪽에는 운동수업을 듣게 쇼핑센터나 와이키키 중심가에 위치하지는 않았지만 내로 버스와\nUniversity of Hawaii at Manoa\nnumber of keywords: 1605\n['노아', '규모', '초록색', '자연', '나뉘', '운동', '쇼핑', '센터', '와이키키', '중심가']\nnumber of counted words: 995\nUniversity of Hawaii at Manoa\nnumber of keywords: 995\nUniversity of Illinois at Urbana-Champaign's gen_info section has 10939 words'\n일리노이 주의 어바나 샴페인 도시에 걸쳐 자리하고 샴바나 시카고에서 버스로 정도의 거리에 떨어져 샴페인에도 공항이 규모가 워낙 작다보니 대개 시카고 오해어 공항을 이용하게 때마다 \nUniversity of Illinois at Urbana-Champaign\nnumber of keywords: 2120\n['일리노이', '바나', '샴페인', '자리', '바나', '시카고', '버스', '거리', '샴페인', '공항']\nnumber of counted words: 1301\nUniversity of Illinois at Urbana-Champaign\nnumber of keywords: 1301\nUniversity of Iowa's gen_info section has 553 words'\n자체는 드넓은 땅을 가진 미국의 대학인지라 강을 끼고 자리잡고 강 한쪽 편에 건물들이 학생이 다니는 꽤나 편의 대학교인 지리적으로는 시카고 근처의 북동부 지역이며 기후는 봄 내내 \nUniversity of Iowa\nnumber of keywords: 157\n['자체', '드넓', '자리', '한쪽', '다니', '편의', '지리', '시카고', '근처', '북동부']\nnumber of counted words: 164\nUniversity of Iowa\nnumber of keywords: 164\nUniversity of Kentucky's gen_info has not enough words: 390\nUniversity of Maryland at College Park's gen_info section has 6610 words'\n보고서가 공통적으로 말하지만 넓습니다 안으로 버스 노선도 운행 것만 봐도 있죠 안에서 보통은 듣는 교실이 몰려있어서 타지는 않았지만 급할 집에서 올 타기도 셔틀 노선들을 파악해 두\nUniversity of Maryland at College Park\nnumber of keywords: 1477\n['보고서', '공통', '버스', '노선도', '운행', '보통', '교실', '타지', '셔틀', '노선']\nnumber of counted words: 979\nUniversity of Maryland at College Park\nnumber of keywords: 979\nUniversity of Massachusetts Amherst's gen_info section has 5696 words'\n메사추세츠 주립대학교 앰허스트 캠퍼스로 규모가 종합 공립대학교입니다 예체능 분야부터 의대 간호대 수의대 등등 종류의 단과대학이 존재합니다 대학원이 내에서 손꼽힐 유명한 학교입니다 \nUniversity of Massachusetts Amherst\nnumber of keywords: 1299\n['메사', '추세', '주립', '허스트', '규모', '종합', '공립', '예체능', '의대', '호대']\nnumber of counted words: 840\nUniversity of Massachusetts Amherst\nnumber of keywords: 840\nUniversity of Massachusetts Lowell's gen_info has not enough words: 228\nUniversity of Memphis's gen_info has not enough words: 115\nUniversity of Miami's gen_info section has 1147 words'\n연세대학교와 비슷한 정도의 캠퍼스지만 대학교들에 비해서는 편입니다 덕분에 캠퍼스를 걸어서 돌아다니는데 마이애미는 미국의 최남단에 플로리다 내에서도 아래쪽에 보시면 주들보다도 남미와\nUniversity of Miami\nnumber of keywords: 336\n['덕분', '돌아다니', '마이애미', '최남단', '플로리다', '아래쪽', '거주', '분위기', '풍기', '매일']\nnumber of counted words: 286\nUniversity of Miami\nnumber of keywords: 286\nUniversity of Michigan's gen_info section has 3467 words'\n월부터 시작하는 봄 학기간 미시간 대학교로 다녀오게 코로나로 인해 봄방학 이후로는 강의가 온라인으로 전환되어서 학기의 반만 진행하고 한국으로 돌아올 없어 아쉬움이 남지만 대학교를 \nUniversity of Michigan\nnumber of keywords: 829\n['시작', '다녀오', '코로나', '방학', '강의', '온라인', '전환', '진행', '아쉬움', '고려']\nnumber of counted words: 685\nUniversity of Michigan\nnumber of keywords: 685\nUniversity of Minnesota Morris's gen_info section has 3111 words'\n미네소타 주립대학군을 구성하는 하나입니다 공항이 지역 차로 세시간 거리에 모리스라는 마을에 캠퍼스의 크기는 편으로 송도에 국제캠퍼스와 비슷한 정도인 수는 명인 미국의 중북부 캐나다\nUniversity of Minnesota Morris\nnumber of keywords: 744\n['미네소타', '주립', '구성', '공항', '지역', '거리', '모리스', '마을', '송도', '명인']\nnumber of counted words: 589\nUniversity of Minnesota Morris\nnumber of keywords: 589\nUniversity of Minnesota Twin Cities's gen_info section has 1340 words'\n중부에 위치해 시카고에서 버스로 거리에 떨어져 봄학기를 다녔고 종료 미네소타의 여름을 보내고 왔습니다 경험했던 추위는 그곳에서도 유래없는 추위였는데 북극보다 추웠습니다 그때의 남극\nUniversity of Minnesota Twin Cities\nnumber of keywords: 366\n['중부', '시카고', '버스', '거리', '종료', '미네소타', '여름', '보내', '추위', '유래']\nnumber of counted words: 322\nUniversity of Minnesota Twin Cities\nnumber of keywords: 322\nUniversity of Mississippi's gen_info has not enough words: 65\nUniversity of Montana's gen_info has not enough words: 130\nUniversity of Nebraska at Kearney's gen_info has not enough words: 70\nUniversity of Nebraska, Lincoln's gen_info has not enough words: 389\nUniversity of North Carolina at Asheville's gen_info section has 977 words'\n캠퍼스의 크기는 연세대보다는 편입니다 가시게 된다면 거주하게 되실텐데 기숙사에서 출발하여 건물은 안으로 걸어가실 과는 다소 거리가 버스를 이용하시거나 우버로 나가게 되실 무료 이용\nUniversity of North Carolina at Asheville\nnumber of keywords: 287\n['거주', '출발', '걸어가', '다소', '거리', '버스', '이용', '우버', '나가', '무료']\nnumber of counted words: 280\nUniversity of North Carolina at Asheville\nnumber of keywords: 280\nUniversity of North Carolina at Chapel Hill's gen_info section has 5347 words'\n부지가 넓지만 다행히 강의실들은 붙어있어서 쉬는 분이면 충분히 강의동 사이 이동이 가능합니다 기숙사들은 강의실들과 멀리 떨어져 경우도 강의실과 제일 가까운 살아서 강의실까지 걸리지\nUniversity of North Carolina at Chapel Hill\nnumber of keywords: 1223\n['부지', '다행히', '강의실', '충분히', '강의', '사이', '이동', '가능', '강의실', '멀리']\nnumber of counted words: 808\nUniversity of North Carolina at Chapel Hill\nnumber of keywords: 808\nUniversity of North Carolina at Greensboro's gen_info section has 4164 words'\n주에서 번째로 주립대학교 미국의 동남부에 위치해 웬만한 동부 도시들 워싱턴 뉴욕 보스턴 애틀랜타 올랜도 마이애미 등등 내용은 곧 언급할게요 비행기로 한두시간이면 시간과 체력이 받쳐\nUniversity of North Carolina at Greensboro\nnumber of keywords: 919\n['주립', '남부', '동부', '워싱턴', '뉴욕', '보스턴', '애틀랜타', '올랜도', '마이애미', '내용']\nnumber of counted words: 642\nUniversity of North Carolina at Greensboro\nnumber of keywords: 642\nUniversity of North Carolina at Pembroke's gen_info has not enough words: 90\nUniversity of North Carolina at Wilmington's gen_info has not enough words: 121\nUniversity of North Dakota's gen_info has not enough words: 128\nUniversity of Northern Colorado's gen_info section has 959 words'\n크기는 대략 연세대학교와 비슷합니다 캠퍼스가 나누어져 캠퍼스는 오래된 건물이 많지만 고풍스러운 분위기가 감돌아 보기에도 멋있습니다 콜로라도주에 도시에 위치하고 도시는 기준으로 생겨\nUniversity of Northern Colorado\nnumber of keywords: 276\n['대략', '나누', '오래', '고풍', '분위기', '감돌', '멋있', '콜로라도주', '기준', '뉴욕']\nnumber of counted words: 251\nUniversity of Northern Colorado\nnumber of keywords: 251\nUniversity of Notre Dame's gen_info has not enough words: 152\nUniversity of Oregon's gen_info section has 4841 words'\n서부의 워싱턴 주와 캘리포니아 사이에 대학교입니다 까지는 차로 가량 걸리며 비행기로 정도면 서부 여행하기에는 지리적 조건을 가졌습니다 크기는 캠퍼스보다 다소 수준입니다 상대적으로 \nUniversity of Oregon\nnumber of keywords: 1048\n['서부', '워싱턴', '캘리포니아', '사이', '가량', '걸리', '비행기', '서부', '지리', '조건']\nnumber of counted words: 768\nUniversity of Oregon\nnumber of keywords: 768\nUniversity of Pennsylvania's gen_info section has 3216 words'\n적당히 넓은 흩어져 건물들 유펜이 크진 않지만 대학의 경계선이 모호하고 특정 건물들은 기숙사에서 멀게 느껴질 가령 갔던 정치경제관은 주변이 일반 상가였고 경영관은 사거리에 자리잡아\nUniversity of Pennsylvania\nnumber of keywords: 782\n['적당히', '경계선', '특정', '가령', '정치', '경제관', '주변', '일반', '상가', '경영']\nnumber of counted words: 567\nUniversity of Pennsylvania\nnumber of keywords: 567\nUniversity of Pittsburgh's gen_info section has 2021 words'\n준공립대학교로 캠퍼스가 연세대학교처럼 구역이 정해져 도시내에 건물들이 흩어져있는 방식입니다 먼 건물끼리의 거리는 공대에서 대우관 거리정도 길이 언덕이라는 점도 비슷하네요 피츠버그라\nUniversity of Pittsburgh\nnumber of keywords: 498\n['공립', '구역', '방식', '거리', '공대', '우관', '거리', '언덕', '피츠버그', '인구']\nnumber of counted words: 380\nUniversity of Pittsburgh\nnumber of keywords: 380\nUniversity of Richmond's gen_info section has 2429 words'\n버지니아의 리치몬드에 정도의 전교생을 보유하고 백인의 비중이 높은 학교입니다 전교생의 크기가 크지 서로가 서로를 분위기를 동부의 중위도 쯤이지만 날씨가 제법 쌀쌀합니다 월까지는 겉\nUniversity of Richmond\nnumber of keywords: 653\n['버지니아', '리치몬드', '전교생', '보유', '백인', '비중', '전교생', '분위기', '동부', '중위도']\nnumber of counted words: 507\nUniversity of Richmond\nnumber of keywords: 507\nUniversity of South Carolina-Columbia's gen_info has not enough words: 214\nUniversity of South Florida's gen_info section has 6023 words'\n캠퍼스는 컸습니다 다녔지만 듣는 빼고는 길을 몰라 지도 없이는 다닐 수가 없었습니다 식당 마트 호수 우체국 살았으면 밖을 나갈 같았습니다 캠퍼스가 아름다워 산책하기 좋고 하늘이 푸\nUniversity of South Florida\nnumber of keywords: 1388\n['식당', '마트', '호수', '우체국', '산책', '하늘', '푸르', '서쪽', '교외', '자취방']\nnumber of counted words: 910\nUniversity of South Florida\nnumber of keywords: 910\nUniversity of Southern Indiana's gen_info has not enough words: 187\nUniversity of Tennessee Knoxville's gen_info section has 1602 words'\n동남부에 주에 한인들이 거주하는 와는 정도의 거리라 미국의 광활함에 익숙해진다면 동부를 버스로 여행하기 나름 괜찮은 위치입니다 테네시의 기후가 한국하고 비슷하다고 들어서 선택했었는\nUniversity of Tennessee Knoxville\nnumber of keywords: 430\n['남부', '한인', '거주', '거리', '동부', '버스', '괜찮', '테네시', '기후', '선택']\nnumber of counted words: 377\nUniversity of Tennessee Knoxville\nnumber of keywords: 377\nUniversity of Texas at Arlington's gen_info section has 5581 words'\n크기는 신촌캠이랑 같은데 평지여서 돌아다니기는 편했어요 참고로 미국은 만 세부터 술 있는거 고려하시고요 글에서도 확인 가능하듯이 변화가 장난 없어요 월에는 늦은 여름과 초 겨울의 \nUniversity of Texas at Arlington\nnumber of keywords: 1293\n['신촌', '평지', '돌아다니', '참고', '고려', '확인', '가능', '변화', '장난', '여름']\nnumber of counted words: 870\nUniversity of Texas at Arlington\nnumber of keywords: 870\nUniversity of Texas at Austin's gen_info has not enough words: 356\nUniversity of the Pacific's gen_info has not enough words: 107\nUniversity of Utah's gen_info section has 3692 words'\n솔트레이크시티에 학교입니다 월에 도착했는데 월은 눈이 옵니다 눈을 되게 좋아했었는데 유타에서 하도 봐서 이제는 질릴 정도입니다 눈폭풍이 와서 하루 수업이 취소되기도 학교가 고지대에\nUniversity of Utah\nnumber of keywords: 1000\n['솔트레이크시티', '도착', '되게', '유타', '하도', '이제', '폭풍', '하루', '취소', '고지대']\nnumber of counted words: 710\nUniversity of Utah\nnumber of keywords: 710\nUniversity of Vermont's gen_info section has 1265 words'\n버몬트의 위치성 동부 중에서도 북부이기에 분명히 춥습니다 단풍놀이 못지 않게 스키가 유명할 추운 지역이니 준비를 단단히 하시길 패딩이나 후리스 때때로 기모 레깅스가 충분하다고 추위\nUniversity of Vermont\nnumber of keywords: 389\n['버몬트', '동부', '북부', '분명히', '단풍', '놀이', '스키', '유명', '지역', '준비']\nnumber of counted words: 319\nUniversity of Vermont\nnumber of keywords: 319\nUniversity of Washington's gen_info section has 15758 words'\n유덥이 연대보다 크기는 크지만 연대는 긴 모양인 반면 유덥은 둥근 모양이고 시내버스가 다니기 돌아다니기는 편리합니다 미국의 북서부 지역인 워싱턴주 시애틀에 위치해 시애틀 시내까지 \nUniversity of Washington\nnumber of keywords: 2998\n['모양', '반면', '모양', '시내버스', '다니', '돌아다니', '편리', '북서부', '지역', '워싱턴주']\nnumber of counted words: 1725\nUniversity of Washington\nnumber of keywords: 1725\nUniversity of Wisconsin-Madison's gen_info section has 5562 words'\n대학교의 규모는 편입니다 대학교들과 다르게 정문과 후문이 없어서 안과 밖을 경계지을 없기 때문입니다 부르는데 지역은 대학교와 어우러져 지리적 기후 이곳은 호수 개를 끼고 춥습니다 \nUniversity of Wisconsin-Madison\nnumber of keywords: 1266\n['규모', '다르', '정문', '후문', '계지', '부르', '지역', '지리', '기후', '호수']\nnumber of counted words: 898\nUniversity of Wisconsin-Madison\nnumber of keywords: 898\nUniversity of Wyoming's gen_info has not enough words: 348\nUpper Iowa University's gen_info has not enough words: 70\nUtah State University's gen_info has not enough words: 97\nVirginia Commonwealth University's gen_info has not enough words: 206\nVirginia Polytechnich Institute and State University's gen_info section has 530 words'\n캠퍼스는 크고 중앙에 잔디밭인 중심으로 한쪽엔 한쪽은 나뉘어져 캠퍼스가 시골마을이며 주변에 타운이다 주변이 온통 산이라 하이킹을 좋아하면 주말에 하이킹 나가기 괜찮다 클럽도 가까운\nVirginia Polytechnich Institute and State University\nnumber of keywords: 146\n['중앙', '잔디밭', '중심', '한쪽', '한쪽', '나뉘', '시골', '마을', '주변', '타운']\nnumber of counted words: 155\nVirginia Polytechnich Institute and State University\nnumber of keywords: 155\nWashington and Jefferson College's gen_info section has 887 words'\n워싱턴 앤 제퍼슨 칼리지는 펜실베니아 서부에 피츠버그에서 떨어진 카운티에 시골 동네인데 아기자기하기보다는 러스트 벨트가 지나가는 지역이라 주변 상권이 죽어있어요 을씨년스럽기도 친구\nWashington and Jefferson College\nnumber of keywords: 249\n['워싱턴', '제퍼슨', '칼리지', '실베', '니아', '서부', '피츠버그', '카운티', '시골', '동네']\nnumber of counted words: 224\nWashington and Jefferson College\nnumber of keywords: 224\nWashington College's gen_info section has 1612 words'\n근처의 메릴랜드 조그만 마을인 위치해 미국이 땅이 원체 넓기 체스터타운의 위치는 디씨와 비교적 가까이 동부의 메인 도시들과 접근성이 좋아서 하는데에 위치라고 생각됩니다 차로 한시간\nWashington College\nnumber of keywords: 422\n['근처', '메릴랜드', '마을', '원체', '체스터', '타운', '비교', '가까이', '동부', '접근성']\nnumber of counted words: 357\nWashington College\nnumber of keywords: 357\nWashington State University's gen_info has not enough words: 399\nWashington University in St. Louis's gen_info section has 2259 words'\n대학은 주에 도시에 겪은 한적하고 조용한 편이라고 생각되는 군데 돌아다닌 편은 아니지만 만일 교환학생의 목적이 미국의 도시생활 여가 등등을 체험하고자 하시는 도시적인 지역을 방문하\nWashington University in St. Louis\nnumber of keywords: 591\n['만일', '목적', '여가', '체험', '지역', '방문', '추천', '면담', '이해', '방문']\nnumber of counted words: 516\nWashington University in St. Louis\nnumber of keywords: 516\nWesley College's gen_info has not enough words: 118\nWest Virginia Wesleyan College's gen_info has not enough words: 306\nWestern Carolina University's gen_info has not enough words: 58\nWestern Kentucky University's gen_info section has 1581 words'\n크기는 연세대보다 작다고 느껴졌다 대체로 평지였지만 공학이나 이과 계열 듣는 강의실은 언덕 위에 딱히 높은 언덕은 아니라서 어렵지 않았다 셔틀도 편이다 한국보다 여름이 길었다 있던\nWestern Kentucky University\nnumber of keywords: 368\n['대체로', '평지', '공학', '이과', '계열', '강의실', '언덕', '딱히', '언덕', '어렵']\nnumber of counted words: 330\nWestern Kentucky University\nnumber of keywords: 330\nWestern Washington University's gen_info section has 1860 words'\n보통 웨스턴이라고 부르는 학교는 북서부 워싱턴 주에 위치하고 남쪽으로는 시애틀 북쪽으로는 캐나다 밴쿠버가 맞닿아 차를 몰거나 버스를 쉽습니다 기후는 흐리거나 비가 옵니다 생활하는 \nWestern Washington University\nnumber of keywords: 482\n['보통', '웨스턴', '부르', '북서부', '워싱턴', '남쪽', '시애틀', '북쪽', '캐나다', '밴쿠버']\nnumber of counted words: 410\nWestern Washington University\nnumber of keywords: 410\nWestminster College's gen_info section has 2183 words'\n펜실베니아 북부에 마을 위치해있는 규모가 학교입니다 전교생이 정도가 학교이며 자체도 편은 아니었습니다 캠퍼스도 작고 듣는 적었기 익숙한 얼굴도 생기곤 마주치게 자연스럽게 이야기도 \nWestminster College\nnumber of keywords: 547\n['실베', '니아', '북부', '마을', '규모', '전교', '자체', '얼굴', '생기', '마주치']\nnumber of counted words: 417\nWestminster College\nnumber of keywords: 417\nWhitworth College's gen_info has not enough words: 100\nWittenberg University's gen_info has not enough words: 272\n['AR000004', 'AU000002', 'AU000010', 'AU000014', 'AT000002', 'BE000003', 'BE000002', 'CA000008', 'CA000009', 'CA000010', 'CA000021', 'CA000019', 'CN000021', 'CN000012', 'CN000019', 'CR000002', 'DK000005', 'FI000001', 'FI000005', 'FI000011', 'FI000012', 'FR000008', 'FR000014', 'FR000017', 'FR000020', 'FR000025', 'FR000029', 'FR000030', 'FR000033', 'DE000004', 'DE000005', 'DE000007', 'DE000013', 'DE000014', 'ID000001', 'IE000003', 'IT000009', 'IT000010', 'IT000011', 'JP000001', 'JP000009', 'JP000010', 'JP000016', 'JP000017', 'JP000018', 'JP000036', 'JP000020', 'JP000026', 'JP000028', 'JP000032', 'JP000035', 'KZ000002', '730     ', 'MX000009', 'MX000014', 'MN000001', 'NL000015', 'NL000009', 'PH000002', 'PH000001', 'PL000001', 'SG000004', 'ES000018', 'ES000006', 'ES000008', 'ES000010', 'ES000011', 'ES000012', 'ES000013', 'SE000002', 'SE000004', 'SE000012', 'CH000001', 'CH000006', 'TW000001', 'TW000009', 'TW000005', 'TW000007', 'TH000002', 'TR000001', 'GB000027', 'GB000031', 'GB000037', 'GB000001', 'GB000028', 'GB000002', 'GB000003', 'GB000004', 'GB000038', 'GB000030', 'GB000007', 'GB000008', 'GB000014', 'GB000016', 'GB000020', 'US000002', 'US000303', 'US000004', 'US000011', 'US000282', 'US000018', 'US000029', 'US000301', 'US000043', 'US000044', 'US000047', 'US000048', 'US000293', 'US000049', 'US000050', 'US000053', 'US000056', 'US000024', 'US000025', 'US000026', 'US000036', 'US000032', 'US000033', 'US000057', 'US000400', 'US000063', 'US000064', 'US000065', 'US000068', 'US000075', 'US000082', 'US000084', 'US000088', 'US000093', 'US000097', 'US000099', 'US000100', 'US000102', 'US000106', 'US000112', 'US000113', 'US000120', 'US000124', 'US000126', 'US000129', 'US000281', 'US000133', 'US000134', 'US000157', 'US000161', 'US000162', 'US000165', 'US000166', 'US000167', 'US000280', 'US000183', 'US000187', 'US000203', 'US000210', 'US000286', 'US000213', 'US000218', 'US000219', 'US000220', 'US000221', 'US000226', 'US000227', 'US000228', 'US000287', 'US000236', 'US000238', 'US000243', 'US000245', 'US000254', 'US000292', 'US000255', 'US000258', 'US000263', 'US000265', 'US000267', 'US000268', 'US000274', 'US000278']\n"
    }
   ],
   "source": [
    "column_data = \"gen_info\"\n",
    "\n",
    "for i in range(470):\n",
    "    corpus = throw_corpus(df_specific, column_data , stopwords_list, univ_no = i)\n",
    "    if corpus is False:\n",
    "        college_code = df_specific[\"대학코드\"][i]\n",
    "        no_wordcloud_gen_info.append(college_code)\n",
    "        pass\n",
    "    else:\n",
    "        generate_wordcloud_mecab(df_specific, column_data , stopwords_list, corpus, i, wordcloud)\n",
    "        generate_wordcloud_okt(df_specific, column_data , stopwords_list, corpus, i, wordcloud)\n",
    "\n",
    "print(no_wordcloud_gen_info)"
   ]
  },
  {
   "cell_type": "markdown",
   "metadata": {},
   "source": [
    "### lack of gen_info\n",
    "['AR000004', 'AU000002', 'AU000010', 'AU000014', 'AT000002', 'BE000003', 'BE000002', 'CA000008', 'CA000009', 'CA000010', 'CA000021', 'CA000019', 'CN000021', 'CN000012', 'CN000019', 'CR000002', 'DK000005', 'FI000001', 'FI000005', 'FI000011', 'FI000012', 'FR000008', 'FR000014', 'FR000017', 'FR000020', 'FR000025', 'FR000029', 'FR000030', 'FR000033', 'DE000004', 'DE000005', 'DE000007', 'DE000013', 'DE000014', 'ID000001', 'IE000003', 'IT000009', 'IT000010', 'IT000011', 'JP000001', 'JP000009', 'JP000010', 'JP000016', 'JP000017', 'JP000018', 'JP000036', 'JP000020', 'JP000026', 'JP000028', 'JP000032', 'JP000035', 'KZ000002', '730     ', 'MX000009', 'MX000014', 'MN000001', 'NL000015', 'NL000009', 'PH000002', 'PH000001', 'PL000001', 'SG000004', 'ES000018', 'ES000006', 'ES000008', 'ES000010', 'ES000011', 'ES000012', 'ES000013', 'SE000002', 'SE000004', 'SE000012', 'CH000001', 'CH000006', 'TW000001', 'TW000009', 'TW000005', 'TW000007', 'TH000002', 'TR000001', 'GB000027', 'GB000031', 'GB000037', 'GB000001', 'GB000028', 'GB000002', 'GB000003', 'GB000004', 'GB000038', 'GB000030', 'GB000007', 'GB000008', 'GB000014', 'GB000016', 'GB000020', 'US000002', 'US000303', 'US000004', 'US000011', 'US000282', 'US000018', 'US000029', 'US000301', 'US000043', 'US000044', 'US000047', 'US000048', 'US000293', 'US000049', 'US000050', 'US000053', 'US000056', 'US000024', 'US000025', 'US000026', 'US000036', 'US000032', 'US000033', 'US000057', 'US000400', 'US000063', 'US000064', 'US000065', 'US000068', 'US000075', 'US000082', 'US000084', 'US000088', 'US000093', 'US000097', 'US000099', 'US000100', 'US000102', 'US000106', 'US000112', 'US000113', 'US000120', 'US000124', 'US000126', 'US000129', 'US000281', 'US000133', 'US000134', 'US000157', 'US000161', 'US000162', 'US000165', 'US000166', 'US000167', 'US000280', 'US000183', 'US000187', 'US000203', 'US000210', 'US000286', 'US000213', 'US000218', 'US000219', 'US000220', 'US000221', 'US000226', 'US000227', 'US000228', 'US000287', 'US000236', 'US000238', 'US000243', 'US000245', 'US000254', 'US000292', 'US000255', 'US000258', 'US000263', 'US000265', 'US000267', 'US000268', 'US000274', 'US000278']\n"
   ]
  },
  {
   "cell_type": "code",
   "execution_count": 25,
   "metadata": {
    "tags": []
   },
   "outputs": [
    {
     "output_type": "stream",
     "name": "stdout",
     "text": "Universidad del Salvador's env_info has not enough words: 38\nAustralian National University's env_info section has 1732 words'\n자체는 자연입니다 정문에서 걸어서 정도면 생긴지 얼마 안된 쇼핑센터가 있구요 영화관 클럽 전부 가까워요 캔버라 자체가 도시입니다만 기숙사에만 거주하신다면 대중교통을 이용할 필요 없\nAustralian National University\nnumber of keywords: 471\n['자체', '자연', '정문', '얼마', '쇼핑', '센터', '영화관', '클럽', '전부', '캔버라']\nnumber of counted words: 371\nAustralian National University\nnumber of keywords: 371\nBond University's env_info section has 1739 words'\n주변은 조용하고 깨끗한 평화로운 전원마을의 느낌입니다 분정도 걸어나가면 병원 약국 이용할 괜찮은 식당들이 밖에서 밥을 먹을 땐 보통 이곳에서 먹었습니다 호수를 주변으로 산책로도 예\nBond University\nnumber of keywords: 492\n['평화', '전원', '마을', '느낌', '분정', '병원', '약국', '괜찮', '보통', '호수']\nnumber of counted words: 347\nBond University\nnumber of keywords: 347\nCurtin University's env_info has not enough words: 482\nCurtin University of Technology's env_info section has 1013 words'\n커튼 주변에는 제외하고 별다른 커튼이 벤틀리는 존과 존 사이에 교통 요금이 들지는 공항에서도 거리이고 시티까지도 분이면 대중교통이 발달해 있지 않기 대중교통을 이용한다면 배로 걸립\nCurtin University of Technology\nnumber of keywords: 274\n['커튼', '제외', '커튼', '벤틀리', '사이', '교통', '요금', '공항', '시티', '대중교통']\nnumber of counted words: 230\nCurtin University of Technology\nnumber of keywords: 230\nDeakin University's env_info section has 1877 words'\n디킨대학교 주변에는 뭐가 없지만 장을 보러 나가실 박스힐 스테이션으로 편하실 거에요 랑 많이들 이용하십니다 편의시설과 가까웠다 걸어서 이내의 거리에 떨어져있어 과의 접근성이 좋고 \nDeakin University\nnumber of keywords: 526\n['디킨', '박스', '스테이션', '편하', '편의', '이내', '접근성', '마치', '공항', '이동']\nnumber of counted words: 371\nDeakin University\nnumber of keywords: 371\nLa Trobe University's env_info section has 1773 words'\n캠퍼스가 교외에 시내로 가려면 신촌에서 강남가는 체감 거리로 트램을 타야 놀기 시내까지 나가지 않아도 지점인 브런즈윅이나 그린스버러에서 괜찮은 레스토랑이나 펍을 방문해볼 캠퍼스에서\nLa Trobe University\nnumber of keywords: 525\n['교외', '신촌', '강남', '체감', '트램', '나가', '지점', '브런즈윅', '린스', '버러']\nnumber of counted words: 419\nLa Trobe University\nnumber of keywords: 419\nMonash University's env_info section has 3384 words'\n주변은 외곽 거주지역으로 이루어져있고 여행이나 쇼핑은 대중교통을 이용하여 버스를 타면 근처에 숙소를 정하셨다면 트레인을 시티로 오래걸리지는 외곽에 위치해서 불편한 점도 시티보다 쾌\nMonash University\nnumber of keywords: 767\n['외곽', '거주지', '쇼핑', '대중교통', '버스', '근처', '숙소', '정하', '트레인', '시티']\nnumber of counted words: 590\nMonash University\nnumber of keywords: 590\nMurdoch University's env_info section has 643 words'\n매주 수요일마다 불리는 도보 분거리인 대형마트 열린다 제외하곤 술집이라든지 식당이라든지 유흥을 장소는 얼마 주변으로 단독 주택들이 즐비해 노후를 보내러 많다 대중교통으로 시내까지 \nMurdoch University\nnumber of keywords: 211\n['매주', '수요일', '불리', '도보', '대형', '제외', '술집', '유흥', '장소', '얼마']\nnumber of counted words: 197\nMurdoch University\nnumber of keywords: 197\nSwinburne University of Technology's env_info has not enough words: 329\nUniversity of Adelaide's env_info section has 821 words'\n애들레이드는 대비 인구가 적기 한적한 느낌이 들고 여유롭습니다 시티 중간에 공원들이 조성되어 토렌스 강이 애들레이드 뒤에 위치해있어서 날씨가 강가에 앉아서 휴식을 취하기도 남호주 \nUniversity of Adelaide\nnumber of keywords: 271\n['애들레이드', '대비', '인구', '느낌', '여유', '시티', '중간', '공원', '조성', '토렌스']\nnumber of counted words: 250\nUniversity of Adelaide\nnumber of keywords: 250\nUniversity of New South Wales's env_info section has 3055 words'\n대학교에서 가까웠던 곳들은 이었습니다 마트들이 근처에 로컬 식당과 카페들이 할인을 영화관이 추천드립니다 걸어서 갔던 였습니다 걸어가면 마트가 카페 쇼핑몰 등이 해변이 여유롭게 보내\nUniversity of New South Wales\nnumber of keywords: 822\n['근처', '로컬', '카페', '할인', '영화관', '추천', '걸어가', '카페', '쇼핑몰', '해변']\nnumber of counted words: 570\nUniversity of New South Wales\nnumber of keywords: 570\nUniversity of Queensland's env_info section has 4215 words'\n주변에는 놀 많지는 곳곳에 카페와 식당이 많으니 식사 걱정은 안하셔도 놀기 위해서는 아니면 가곤해요 브리즈번은 워홀러분들도 거주하셔서 한국식당도 많아요 술집도 한인마트도 추천해드리\nUniversity of Queensland\nnumber of keywords: 1049\n['곳곳', '카페', '식사', '걱정', '브리즈번', '홀러', '거주', '술집', '한인', '추천']\nnumber of counted words: 704\nUniversity of Queensland\nnumber of keywords: 704\nUniversity of Southern Queensland's env_info has not enough words: 121\nUniversity of Sydney's env_info section has 3758 words'\n번화가들의 중심에 자리잡고 해도 과언이 아닙니다 가까이 맛집과 쇼핑몰이 몰려 쪽이 나옵니다 특히나 말부터 시드니에 개설되어 쪽까지 편리하게 이동 가능합니다 그랬지만 도심을 좋아하고\nUniversity of Sydney\nnumber of keywords: 1004\n['번화가', '중심', '자리', '과언', '가까이', '맛집', '쇼핑몰', '시드니', '개설', '편리']\nnumber of counted words: 730\nUniversity of Sydney\nnumber of keywords: 730\nUniversity of Technology, Sydney's env_info section has 3382 words'\n바로옆 대형 식품마트 생활용품마트부터 유명 브랜드 매장이 메인빌딩인 맞은편에 다이소가 그곳을 애용했었습니다 그밖에도 주변에 은행 편의점 식당등 갖춰져 시내에 위치해있기 교통시설 편\nUniversity of Technology, Sydney\nnumber of keywords: 926\n['대형', '식품', '용품', '유명', '브랜드', '매장', '빌딩', '맞은편', '다이소', '애용']\nnumber of counted words: 646\nUniversity of Technology, Sydney\nnumber of keywords: 646\nFH Kufstein Tirol University of Applied Sciences's env_info section has 3280 words'\n학교는 작지만 쿠프슈타인이라는 마을의 중심부에 위치해 각종 크고 행사가 앞에서 열리기도 ㄷ 자 모양으로 앞에는 잔디가 깔려 앞으로는 아이들이 놀 놀이터와 카페가 온갖 쇼핑몰과 식당\nFH Kufstein Tirol University of Applied Sciences\nnumber of keywords: 860\n['쿠프슈타인', '마을', '중심부', '각종', '열리', '모양', '잔디', '아이', '놀이터', '카페']\nnumber of counted words: 642\nFH Kufstein Tirol University of Applied Sciences\nnumber of keywords: 642\nJohannes Kepler Universitat Linz's env_info has not enough words: 152\nKarl-Franzens-Universitat Graz's env_info has not enough words: 466\nUniversities of Applied Sciences Upper Austria's env_info section has 792 words'\n메인 스트릿이 스트릿이라고 해봤자 거창한것은 스타벅스는 도시에 없고 맥도날드는 중심에서 분정도 걸어가면 대학을 둘러싸고 강은 아름답다 평화로운 마을이라고 딱 봐도 유럽이다 도시에요\nUniversities of Applied Sciences Upper Austria\nnumber of keywords: 266\n['메인', '스트릿', '스트릿', '스타', '벅스', '맥도날드', '중심', '분정', '걸어가', '둘러싸']\nnumber of counted words: 227\nUniversities of Applied Sciences Upper Austria\nnumber of keywords: 227\nUniversity of Applied Sciences Wiener Neustadt's env_info section has 915 words'\n주변에는 건물과 외에는 공장 마트들 뿐입니다 휄하다고 수는 조용하고 좋았어요 버스를 시내로 옷가게 시청 등등이 버스는 학생증이 무료이므로 장보러 때나 시내에 나갈 타시면 편하실 거\nUniversity of Applied Sciences Wiener Neustadt\nnumber of keywords: 215\n['공장', '버스', '가게', '시청', '버스', '학생증', '무료', '장보', '편하', '비너노이슈타트']\nnumber of counted words: 186\nUniversity of Applied Sciences Wiener Neustadt\nnumber of keywords: 186\nUniversity of Vienna's env_info section has 1313 words'\n구 내에는 마트가 길 건너 편에 학생들에게 인기가 카페가 환경에 불편 지냈는데 기숙사가 도보 분이라 그랬던 거 기숙사는 자기가 가게 건물을 찾아본 제일 가깝거나 지하철 호선이 곳으\nUniversity of Vienna\nnumber of keywords: 408\n['인기', '카페', '환경', '불편', '도보', '가게', '제일', '가깝', '지하철', '호선']\nnumber of counted words: 356\nUniversity of Vienna\nnumber of keywords: 356\nVienna University of Economics and Business's env_info section has 2930 words'\n옆에 세계에서 오래된 놀이공원인 프라터 놀이공원이 사설 기숙사들과 인접하여 식당이 많지만 상권에서는 다소 벗어나있습니다 쪽에는 승마장과 수영장이 걸어갈 거리에 도나우 강변 공원들이\nVienna University of Economics and Business\nnumber of keywords: 802\n['세계', '오래', '놀이', '공원', '프라', '놀이', '공원', '사설', '인접', '상권']\nnumber of counted words: 588\nVienna University of Economics and Business\nnumber of keywords: 588\nGhent University's env_info has not enough words: 22\nKU Leuven's env_info has not enough words: 192\nUniversite Catholique De Louvain's env_info section has 2528 words'\n캠퍼스타운 이상적인 모습을 넓게 펼쳐진 기숙사와 인공 호수 숲 각종 편의시설 바 쇼핑몰까지 이내에 모여있다 기숙사에서 먼 강의동도 도보로 걸린다 기차역이 사실이다 루방라뇌브 자체가\nUniversite Catholique De Louvain\nnumber of keywords: 825\n['타운', '이상', '모습', '인공', '호수', '각종', '편의', '쇼핑몰', '이내', '강의']\nnumber of counted words: 647\nUniversite Catholique De Louvain\nnumber of keywords: 647\nBishop's University's env_info section has 1482 words'\n주변에는 정문을 나가서 분정도 걸어가면 서브웨이와 맥도날드 피자집 쌀국수집 카페 캐나다의 다이소 느낌의 대형마트는 아니지만 농협 하나로마트 정도의 약국 술집 등등 많지는 않지만 것\nBishop's University\nnumber of keywords: 387\n['정문', '나가', '걸어가', '서브웨이', '맥도날드', '피자', '국수집', '카페', '캐나다', '다이소']\nnumber of counted words: 309\nBishop's University\nnumber of keywords: 309\nBrock University's env_info section has 2346 words'\n두시간 거리에 토론토가 학교가 위치에 세인트캐서린은 그에 도시입니다 버스를 분정도 나가면 다운타운에 한식당이 세곳 베트남 쌀국수집 중국마트 김 라면 한국식품들도 몇가지 찾을 까페 \nBrock University\nnumber of keywords: 642\n['토론토', '세인트', '캐서린', '버스', '분정', '나가', '다운타운', '한식당', '베트남', '국수집']\nnumber of counted words: 516\nBrock University\nnumber of keywords: 516\nDalhousie University's env_info section has 548 words'\n학교쪽에서 워터프런트까지 다운타운이 걸쳐있다고 있구요 다운타운의 걸어서 도착 다운타운까지 버스가 버스타면 편하게 다운타운 반대방향으로 가게 쇼핑몰인 까지도 버스타고 분이면 도착할 \nDalhousie University\nnumber of keywords: 168\n['워터', '프런트', '다운타운', '다운타운', '도착', '다운타운', '버스', '버스', '편하', '다운타운']\nnumber of counted words: 157\nDalhousie University\nnumber of keywords: 157\nHuron University College's env_info section has 1115 words'\n주변에는 마트는 없고 기숙사와 주택가밖에 버스를 분정도 백화점이 그곳에서 장을 주변에도 식료품점과 서점이 백화점도 버스로 이상 가야하는 곳이라 대개 주말에만 옆에 가격이 저렴하다 \nHuron University College\nnumber of keywords: 267\n['주택가', '버스', '분정', '백화점', '식료품', '서점', '백화점', '버스', '이상', '대개']\nnumber of counted words: 225\nHuron University College\nnumber of keywords: 225\nLaurentian University's env_info section has 776 words'\n대학교는 형 학교로서 따라서 나가야 필요성이 있지는 않지만 나간다면 친구 차를 나가거나 버스를 나갑니다 버스는 서울대학교와 마찬가지로 종류의 버스가 안을 쭉 돌아 나가기 교통때문에\nLaurentian University\nnumber of keywords: 260\n['필요', '친구', '나가', '버스', '버스', '마찬가지', '종류', '버스', '교통', '불편']\nnumber of counted words: 246\nLaurentian University\nnumber of keywords: 246\nMcGill University's env_info section has 2799 words'\n주변에는 잘만 돌아다니면 뭔가가 많긴 해요 숨어있고 모르면 아무도 알려주지 지하세계에 묻어있어서 여기를 안가보면 아무것도 도시라고 생각할 ㅎㅎ 돌아다녀서 지하세계를 뚫고 개척하고 \nMcGill University\nnumber of keywords: 830\n['돌아다니', '지하', '세계', '지하', '세계', '개척', '길치', '이렇게', '탐험', '개척']\nnumber of counted words: 607\nMcGill University\nnumber of keywords: 607\nSimon Fraser University's env_info section has 6355 words'\n거주했던 버나비 캠퍼스는 밴쿠버 전경이 내려다보일 높은 산 꼭대기에 위치해 규모의 캠퍼스이기 내에도 필수적인 편의 시설과 식당은 충분히 쇼핑을 시내로 위해서는 버스를 이동하거나 거\nSimon Fraser University\nnumber of keywords: 1370\n['거주', '버나비', '밴쿠버', '전경', '꼭대기', '규모', '필수', '편의', '충분히', '쇼핑']\nnumber of counted words: 854\nSimon Fraser University\nnumber of keywords: 854\nThompson Rivers University's env_info has not enough words: 101\nTrent University's env_info has not enough words: 418\nUniversity College of Cape Breton's env_info has not enough words: 196\nUniversity of Alberta's env_info section has 7210 words'\n기숙사와 연결된 지하철이 앞에는 버스정류장이 바교적 교통편이 캐나다 자체가 넓어서 차가 사귀면 이동이 수월하다 밤에는 지하철에 사람도 없고 노숙자도 많아서 무섭다 따라서 되도록 실\nUniversity of Alberta\nnumber of keywords: 1682\n['연결', '지하철', '버스', '정류장', '교적', '교통편', '캐나다', '자체', '사귀', '이동']\nnumber of counted words: 1065\nUniversity of Alberta\nnumber of keywords: 1065\nUniversity of British Columbia's env_info section has 12953 words'\n밴쿠버 서쪽이 비교적 안전하다고 느꼈습니다 낮에도 밤에도 걸어 돌아다니는 학생들에게 안전 서비스를 제공해주었습니다 반이 비슷하게 생겨서 북미나 지역에 인종차별도 덜 당했다고 그런데\nUniversity of British Columbia\nnumber of keywords: 2671\n['밴쿠버', '서쪽', '비교', '안전', '돌아다니', '안전', '서비스', '제공', '북미', '인종']\nnumber of counted words: 1474\nUniversity of British Columbia\nnumber of keywords: 1474\nUniversity of Calgary's env_info section has 587 words'\n기본적으로 캘거리가 서울보다 면적이 넓은 것에 인구수는 분의 수준이라 인구밀도가낮아서 서울과 풍경이었습니다 주점 편의 시설이 있습니다만 바깥에는 주택가나 병원정도만 다운타운과 떨어\nUniversity of Calgary\nnumber of keywords: 128\n['기본', '면적', '인구수', '수준', '인구', '밀도', '풍경', '주점', '편의', '바깥']\nnumber of counted words: 128\nUniversity of Calgary\nnumber of keywords: 128\nUniversity of Manitoba's env_info section has 4361 words'\n버스를 브랜드 상점들 박물관 등이 이것들이 몰려있지는 분포해 편이라 한국과는 다르게 외출 올 있기보다는 차가 없다면 한번에 일정만 소화하실 버스티켓을 돈으로 내는 것보다 쌉니다 탈\nUniversity of Manitoba\nnumber of keywords: 928\n['버스', '브랜드', '상점', '박물관', '분포', '다르', '외출', '일정', '소화', '버스']\nnumber of counted words: 667\nUniversity of Manitoba\nnumber of keywords: 667\nUniversity of Montreal's env_info section has 844 words'\n산 뒤에 대학이 위치해 산의 쪽에 다운타운이 다운타운으로 가려면 지하철로 분이면 쪽에는 이민자들이 거주하는 지역이고 쪽은 한국의 이태원 분위기가 번화가입니다 미주의 대학들이 그렇듯\nUniversity of Montreal\nnumber of keywords: 256\n['다운타운', '다운타운', '지하철', '이민자', '거주', '이태원', '분위기', '번화가', '미주', '편의']\nnumber of counted words: 214\nUniversity of Montreal\nnumber of keywords: 214\nUniversity of Regina's env_info has not enough words: 96\nUniversity of Toronto's env_info section has 7165 words'\n주위에 지하철 역이 버스도 대 통행합니다 뿐 전반적으로 토론토 교통이 편리한 편 역에서 좀만 걸어가면 근처 한인 타운에서 음식들을 맛볼 한식 근처에 나라의 카페가 쇼핑몰을 확인하실\nUniversity of Toronto\nnumber of keywords: 1645\n['주위', '지하철', '버스', '통행', '전반', '토론토', '교통', '편리', '걸어가', '근처']\nnumber of counted words: 1009\nUniversity of Toronto\nnumber of keywords: 1009\nUniversity of Victoria's env_info section has 771 words'\n주변으로는 주거 환경이 발달해 다운타운과의 거리가 멀지 마트와 상점들이 주변에 다양하게 많기 물품을 사는데 별 무리가 교통 버스 종점으로 다운타운으로 방법은 버스를 타면 이중에는 \nUniversity of Victoria\nnumber of keywords: 223\n['주거', '환경', '발달', '다운타운', '상점', '다양', '물품', '무리', '교통', '버스']\nnumber of counted words: 208\nUniversity of Victoria\nnumber of keywords: 208\nUniversity of Waterloo's env_info has not enough words: 498\nUniversity of Western Ontario, Richard Ivey School of Business's env_info section has 1173 words'\n인구 만은 도시로 신촌보다 규모의 다운타운 지역을 제외하고는 놀 지리적 요인에서 북미 파티스쿨이라는 명성이 유래한 일주일에 보통 세번 내지 네번정도 클럽 하우스 파티초대를 받게 되\nUniversity of Western Ontario, Richard Ivey School of Business\nnumber of keywords: 319\n['인구', '신촌', '규모', '다운타운', '제외', '지리', '요인', '북미', '파티', '스쿨']\nnumber of counted words: 275\nUniversity of Western Ontario, Richard Ivey School of Business\nnumber of keywords: 275\nYork University's env_info has not enough words: 289\nYork University: Schulich School of Business's env_info section has 2560 words'\n대학의 위치를 말씀드리자면 토론토 북쪽입니다 다운타운에서 북쪽에 위치하며 학교의 주변에는 아무것도 한국처럼 학교앞 번화가 생각하시면 안됩니다 평야에 세워져있구요 앞에는 등등 없고 \nYork University: Schulich School of Business\nnumber of keywords: 642\n['드리', '토론토', '북쪽', '다운타운', '북쪽', '아무것', '번화가', '평야', '그저', '렌트']\nnumber of counted words: 540\nYork University: Schulich School of Business\nnumber of keywords: 540\nFudan University's env_info section has 2451 words'\n근처에 오각장이라는 복합쇼핑몰 개가 이어진 놀기 좋고 복단대학교에 다니는 많아서 한국식당들도 주변에는 아기자기한 음식점과 바들이 대학로 대학로는 대상으로 카페나 음식점의 종류가 다\nFudan University\nnumber of keywords: 765\n['근처', '오각', '복합', '쇼핑몰', '복단', '다니', '대상', '카페', '종류', '장점']\nnumber of counted words: 581\nFudan University\nnumber of keywords: 581\nJilin University's env_info section has 679 words'\n우의회관은 길림대 남교 북문 근처에 캠퍼스는 넓고 예쁜 편입니다 편의 시설도 산책하기 운동장과 호수들도 주변에는 카페 등이 조금만 걸어나가면 월마트도 물품을 어려움은 주변에 헬스장\nJilin University\nnumber of keywords: 230\n['우의', '회관', '길림', '남교', '북문', '근처', '편의', '산책', '운동장', '호수']\nnumber of counted words: 192\nJilin University\nnumber of keywords: 192\nNanjing University's env_info section has 842 words'\n난징은 지하철 노선도 내부도 깔끔해서 난징 시내를 돌아다닐 지하철을 이용하게 대형쇼핑몰 영화관 한인마트 노래방 등이 위치해 쉐저루역이나 신지에코우역에 오락활동을 편입니다 쉐저루역은\nNanjing University\nnumber of keywords: 290\n['난징', '지하철', '노선도', '내부', '난징', '지하철', '대형', '쇼핑몰', '영화관', '한인']\nnumber of counted words: 219\nNanjing University\nnumber of keywords: 219\nNorth China Electric Power University's env_info has not enough words: 113\nPeking University's env_info section has 1118 words'\n북경대 주변에는 신촌과 정반대로 조용한 편입니다 옆에 칭화대가 붙어있고 택시 타서 내려가면 인민대학과 중국정법대학이 동문에서 호선을 타면 국가도서관이 나옵니다 한마디로 요약하면 자\nPeking University\nnumber of keywords: 378\n['북경', '신촌', '정반', '칭화', '택시', '내려가', '인민', '중국', '정법', '동문']\nnumber of counted words: 277\nPeking University\nnumber of keywords: 277\n"
    },
    {
     "output_type": "error",
     "ename": "KeyboardInterrupt",
     "evalue": "",
     "traceback": [
      "\u001b[0;31m---------------------------------------------------------------------------\u001b[0m",
      "\u001b[0;31mKeyboardInterrupt\u001b[0m                         Traceback (most recent call last)",
      "\u001b[0;32m<ipython-input-25-926e1f736bf0>\u001b[0m in \u001b[0;36m<module>\u001b[0;34m\u001b[0m\n\u001b[1;32m      2\u001b[0m \u001b[0;34m\u001b[0m\u001b[0m\n\u001b[1;32m      3\u001b[0m \u001b[0;32mfor\u001b[0m \u001b[0mi\u001b[0m \u001b[0;32min\u001b[0m \u001b[0mrange\u001b[0m\u001b[0;34m(\u001b[0m\u001b[0;36m470\u001b[0m\u001b[0;34m)\u001b[0m\u001b[0;34m:\u001b[0m\u001b[0;34m\u001b[0m\u001b[0;34m\u001b[0m\u001b[0m\n\u001b[0;32m----> 4\u001b[0;31m     \u001b[0mcorpus\u001b[0m \u001b[0;34m=\u001b[0m \u001b[0mthrow_corpus\u001b[0m\u001b[0;34m(\u001b[0m\u001b[0mdf_specific\u001b[0m\u001b[0;34m,\u001b[0m \u001b[0mcolumn_data\u001b[0m \u001b[0;34m,\u001b[0m \u001b[0mstopwords_list\u001b[0m\u001b[0;34m,\u001b[0m \u001b[0muniv_no\u001b[0m \u001b[0;34m=\u001b[0m \u001b[0mi\u001b[0m\u001b[0;34m)\u001b[0m\u001b[0;34m\u001b[0m\u001b[0;34m\u001b[0m\u001b[0m\n\u001b[0m\u001b[1;32m      5\u001b[0m     \u001b[0;32mif\u001b[0m \u001b[0mcorpus\u001b[0m \u001b[0;32mis\u001b[0m \u001b[0;32mFalse\u001b[0m\u001b[0;34m:\u001b[0m\u001b[0;34m\u001b[0m\u001b[0;34m\u001b[0m\u001b[0m\n\u001b[1;32m      6\u001b[0m         \u001b[0mcollege_code\u001b[0m \u001b[0;34m=\u001b[0m \u001b[0mdf_specific\u001b[0m\u001b[0;34m[\u001b[0m\u001b[0;34m\"대학코드\"\u001b[0m\u001b[0;34m]\u001b[0m\u001b[0;34m[\u001b[0m\u001b[0mi\u001b[0m\u001b[0;34m]\u001b[0m\u001b[0;34m\u001b[0m\u001b[0;34m\u001b[0m\u001b[0m\n",
      "\u001b[0;32m<ipython-input-9-9cf986a8f40e>\u001b[0m in \u001b[0;36mthrow_corpus\u001b[0;34m(df_specific, column_data, stopwords, univ_no)\u001b[0m\n\u001b[1;32m      7\u001b[0m \u001b[0;34m\u001b[0m\u001b[0m\n\u001b[1;32m      8\u001b[0m     \u001b[0;31m# apply predefined soynlp tokenizer\u001b[0m\u001b[0;34m\u001b[0m\u001b[0;34m\u001b[0m\u001b[0;34m\u001b[0m\u001b[0m\n\u001b[0;32m----> 9\u001b[0;31m     \u001b[0mdf_tokens\u001b[0m \u001b[0;34m=\u001b[0m \u001b[0mdf_process\u001b[0m\u001b[0;34m.\u001b[0m\u001b[0mapply\u001b[0m\u001b[0;34m(\u001b[0m\u001b[0mtokenizer\u001b[0m\u001b[0;34m.\u001b[0m\u001b[0mtokenize\u001b[0m\u001b[0;34m)\u001b[0m\u001b[0;34m\u001b[0m\u001b[0;34m\u001b[0m\u001b[0m\n\u001b[0m\u001b[1;32m     10\u001b[0m     \u001b[0;31m# print(df_tokens[-2:])\u001b[0m\u001b[0;34m\u001b[0m\u001b[0;34m\u001b[0m\u001b[0;34m\u001b[0m\u001b[0m\n\u001b[1;32m     11\u001b[0m \u001b[0;34m\u001b[0m\u001b[0m\n",
      "\u001b[0;32m~/.pyenv/versions/nlpkor2/lib/python3.8/site-packages/pandas/core/series.py\u001b[0m in \u001b[0;36mapply\u001b[0;34m(self, func, convert_dtype, args, **kwds)\u001b[0m\n\u001b[1;32m   4198\u001b[0m             \u001b[0;32melse\u001b[0m\u001b[0;34m:\u001b[0m\u001b[0;34m\u001b[0m\u001b[0;34m\u001b[0m\u001b[0m\n\u001b[1;32m   4199\u001b[0m                 \u001b[0mvalues\u001b[0m \u001b[0;34m=\u001b[0m \u001b[0mself\u001b[0m\u001b[0;34m.\u001b[0m\u001b[0mastype\u001b[0m\u001b[0;34m(\u001b[0m\u001b[0mobject\u001b[0m\u001b[0;34m)\u001b[0m\u001b[0;34m.\u001b[0m\u001b[0m_values\u001b[0m\u001b[0;34m\u001b[0m\u001b[0;34m\u001b[0m\u001b[0m\n\u001b[0;32m-> 4200\u001b[0;31m                 \u001b[0mmapped\u001b[0m \u001b[0;34m=\u001b[0m \u001b[0mlib\u001b[0m\u001b[0;34m.\u001b[0m\u001b[0mmap_infer\u001b[0m\u001b[0;34m(\u001b[0m\u001b[0mvalues\u001b[0m\u001b[0;34m,\u001b[0m \u001b[0mf\u001b[0m\u001b[0;34m,\u001b[0m \u001b[0mconvert\u001b[0m\u001b[0;34m=\u001b[0m\u001b[0mconvert_dtype\u001b[0m\u001b[0;34m)\u001b[0m\u001b[0;34m\u001b[0m\u001b[0;34m\u001b[0m\u001b[0m\n\u001b[0m\u001b[1;32m   4201\u001b[0m \u001b[0;34m\u001b[0m\u001b[0m\n\u001b[1;32m   4202\u001b[0m         \u001b[0;32mif\u001b[0m \u001b[0mlen\u001b[0m\u001b[0;34m(\u001b[0m\u001b[0mmapped\u001b[0m\u001b[0;34m)\u001b[0m \u001b[0;32mand\u001b[0m \u001b[0misinstance\u001b[0m\u001b[0;34m(\u001b[0m\u001b[0mmapped\u001b[0m\u001b[0;34m[\u001b[0m\u001b[0;36m0\u001b[0m\u001b[0;34m]\u001b[0m\u001b[0;34m,\u001b[0m \u001b[0mSeries\u001b[0m\u001b[0;34m)\u001b[0m\u001b[0;34m:\u001b[0m\u001b[0;34m\u001b[0m\u001b[0;34m\u001b[0m\u001b[0m\n",
      "\u001b[0;32mpandas/_libs/lib.pyx\u001b[0m in \u001b[0;36mpandas._libs.lib.map_infer\u001b[0;34m()\u001b[0m\n",
      "\u001b[0;32m~/.pyenv/versions/nlpkor2/lib/python3.8/site-packages/soynlp/tokenizer/_tokenizer.py\u001b[0m in \u001b[0;36mtokenize\u001b[0;34m(self, sentence, tolerance, flatten, remove_r)\u001b[0m\n\u001b[1;32m    109\u001b[0m             \u001b[0;32mreturn\u001b[0m \u001b[0;34m(\u001b[0m\u001b[0mbest\u001b[0m\u001b[0;34m[\u001b[0m\u001b[0;36m1\u001b[0m\u001b[0;34m]\u001b[0m\u001b[0;34m,\u001b[0m \u001b[0mbest\u001b[0m\u001b[0;34m[\u001b[0m\u001b[0;36m2\u001b[0m\u001b[0;34m]\u001b[0m\u001b[0;34m)\u001b[0m\u001b[0;34m\u001b[0m\u001b[0;34m\u001b[0m\u001b[0m\n\u001b[1;32m    110\u001b[0m \u001b[0;34m\u001b[0m\u001b[0m\n\u001b[0;32m--> 111\u001b[0;31m         \u001b[0mtokens\u001b[0m \u001b[0;34m=\u001b[0m \u001b[0;34m[\u001b[0m\u001b[0mtoken_to_lr\u001b[0m\u001b[0;34m(\u001b[0m\u001b[0mtoken\u001b[0m\u001b[0;34m,\u001b[0m \u001b[0mtolerance\u001b[0m\u001b[0;34m)\u001b[0m \u001b[0;32mfor\u001b[0m \u001b[0mtoken\u001b[0m \u001b[0;32min\u001b[0m \u001b[0msentence\u001b[0m\u001b[0;34m.\u001b[0m\u001b[0msplit\u001b[0m\u001b[0;34m(\u001b[0m\u001b[0;34m)\u001b[0m\u001b[0;34m]\u001b[0m\u001b[0;34m\u001b[0m\u001b[0;34m\u001b[0m\u001b[0m\n\u001b[0m\u001b[1;32m    112\u001b[0m \u001b[0;34m\u001b[0m\u001b[0m\n\u001b[1;32m    113\u001b[0m         \u001b[0;32mif\u001b[0m \u001b[0mremove_r\u001b[0m\u001b[0;34m:\u001b[0m\u001b[0;34m\u001b[0m\u001b[0;34m\u001b[0m\u001b[0m\n",
      "\u001b[0;32m~/.pyenv/versions/nlpkor2/lib/python3.8/site-packages/soynlp/tokenizer/_tokenizer.py\u001b[0m in \u001b[0;36m<listcomp>\u001b[0;34m(.0)\u001b[0m\n\u001b[1;32m    109\u001b[0m             \u001b[0;32mreturn\u001b[0m \u001b[0;34m(\u001b[0m\u001b[0mbest\u001b[0m\u001b[0;34m[\u001b[0m\u001b[0;36m1\u001b[0m\u001b[0;34m]\u001b[0m\u001b[0;34m,\u001b[0m \u001b[0mbest\u001b[0m\u001b[0;34m[\u001b[0m\u001b[0;36m2\u001b[0m\u001b[0;34m]\u001b[0m\u001b[0;34m)\u001b[0m\u001b[0;34m\u001b[0m\u001b[0;34m\u001b[0m\u001b[0m\n\u001b[1;32m    110\u001b[0m \u001b[0;34m\u001b[0m\u001b[0m\n\u001b[0;32m--> 111\u001b[0;31m         \u001b[0mtokens\u001b[0m \u001b[0;34m=\u001b[0m \u001b[0;34m[\u001b[0m\u001b[0mtoken_to_lr\u001b[0m\u001b[0;34m(\u001b[0m\u001b[0mtoken\u001b[0m\u001b[0;34m,\u001b[0m \u001b[0mtolerance\u001b[0m\u001b[0;34m)\u001b[0m \u001b[0;32mfor\u001b[0m \u001b[0mtoken\u001b[0m \u001b[0;32min\u001b[0m \u001b[0msentence\u001b[0m\u001b[0;34m.\u001b[0m\u001b[0msplit\u001b[0m\u001b[0;34m(\u001b[0m\u001b[0;34m)\u001b[0m\u001b[0;34m]\u001b[0m\u001b[0;34m\u001b[0m\u001b[0;34m\u001b[0m\u001b[0m\n\u001b[0m\u001b[1;32m    112\u001b[0m \u001b[0;34m\u001b[0m\u001b[0m\n\u001b[1;32m    113\u001b[0m         \u001b[0;32mif\u001b[0m \u001b[0mremove_r\u001b[0m\u001b[0;34m:\u001b[0m\u001b[0;34m\u001b[0m\u001b[0;34m\u001b[0m\u001b[0m\n",
      "\u001b[0;32m~/.pyenv/versions/nlpkor2/lib/python3.8/site-packages/soynlp/tokenizer/_tokenizer.py\u001b[0m in \u001b[0;36mtoken_to_lr\u001b[0;34m(token, tolerance)\u001b[0m\n\u001b[1;32m    106\u001b[0m                 \u001b[0mbest\u001b[0m \u001b[0;34m=\u001b[0m \u001b[0msorted\u001b[0m\u001b[0;34m(\u001b[0m\u001b[0mcandidates\u001b[0m\u001b[0;34m,\u001b[0m \u001b[0mkey\u001b[0m\u001b[0;34m=\u001b[0m\u001b[0;32mlambda\u001b[0m \u001b[0mx\u001b[0m\u001b[0;34m:\u001b[0m\u001b[0mlen\u001b[0m\u001b[0;34m(\u001b[0m\u001b[0mx\u001b[0m\u001b[0;34m[\u001b[0m\u001b[0;36m1\u001b[0m\u001b[0;34m]\u001b[0m\u001b[0;34m)\u001b[0m\u001b[0;34m,\u001b[0m \u001b[0mreverse\u001b[0m\u001b[0;34m=\u001b[0m\u001b[0;32mTrue\u001b[0m\u001b[0;34m)\u001b[0m\u001b[0;34m[\u001b[0m\u001b[0;36m0\u001b[0m\u001b[0;34m]\u001b[0m\u001b[0;34m\u001b[0m\u001b[0;34m\u001b[0m\u001b[0m\n\u001b[1;32m    107\u001b[0m             \u001b[0;32melse\u001b[0m\u001b[0;34m:\u001b[0m\u001b[0;34m\u001b[0m\u001b[0;34m\u001b[0m\u001b[0m\n\u001b[0;32m--> 108\u001b[0;31m                 \u001b[0mbest\u001b[0m \u001b[0;34m=\u001b[0m \u001b[0msorted\u001b[0m\u001b[0;34m(\u001b[0m\u001b[0mcandidates\u001b[0m\u001b[0;34m,\u001b[0m \u001b[0mkey\u001b[0m\u001b[0;34m=\u001b[0m\u001b[0;32mlambda\u001b[0m \u001b[0mx\u001b[0m\u001b[0;34m:\u001b[0m\u001b[0;34m(\u001b[0m\u001b[0mx\u001b[0m\u001b[0;34m[\u001b[0m\u001b[0;36m0\u001b[0m\u001b[0;34m]\u001b[0m\u001b[0;34m,\u001b[0m \u001b[0mlen\u001b[0m\u001b[0;34m(\u001b[0m\u001b[0mx\u001b[0m\u001b[0;34m[\u001b[0m\u001b[0;36m1\u001b[0m\u001b[0;34m]\u001b[0m\u001b[0;34m)\u001b[0m\u001b[0;34m)\u001b[0m\u001b[0;34m,\u001b[0m \u001b[0mreverse\u001b[0m\u001b[0;34m=\u001b[0m\u001b[0;32mTrue\u001b[0m\u001b[0;34m)\u001b[0m\u001b[0;34m[\u001b[0m\u001b[0;36m0\u001b[0m\u001b[0;34m]\u001b[0m\u001b[0;34m\u001b[0m\u001b[0;34m\u001b[0m\u001b[0m\n\u001b[0m\u001b[1;32m    109\u001b[0m             \u001b[0;32mreturn\u001b[0m \u001b[0;34m(\u001b[0m\u001b[0mbest\u001b[0m\u001b[0;34m[\u001b[0m\u001b[0;36m1\u001b[0m\u001b[0;34m]\u001b[0m\u001b[0;34m,\u001b[0m \u001b[0mbest\u001b[0m\u001b[0;34m[\u001b[0m\u001b[0;36m2\u001b[0m\u001b[0;34m]\u001b[0m\u001b[0;34m)\u001b[0m\u001b[0;34m\u001b[0m\u001b[0;34m\u001b[0m\u001b[0m\n\u001b[1;32m    110\u001b[0m \u001b[0;34m\u001b[0m\u001b[0m\n",
      "\u001b[0;31mKeyboardInterrupt\u001b[0m: "
     ]
    }
   ],
   "source": [
    "column_data = \"env_info\"\n",
    "\n",
    "for i in range(470):\n",
    "    corpus = throw_corpus(df_specific, column_data , stopwords_list, univ_no = i)\n",
    "    if corpus is False:\n",
    "        college_code = df_specific[\"대학코드\"][i]\n",
    "        no_wordcloud_env_info.append(college_code)\n",
    "        pass\n",
    "    else:\n",
    "        generate_wordcloud_mecab(df_specific, column_data , stopwords_list, corpus, i, wordcloud)\n",
    "        generate_wordcloud_okt(df_specific, column_data , stopwords_list, corpus, i, wordcloud)\n",
    "\n",
    "print(no_wordcloud_env_info)"
   ]
  },
  {
   "cell_type": "markdown",
   "metadata": {},
   "source": [
    "['AR000004', 'AU000002', 'AU000010', 'AU000014', 'AT000002', 'AT000003', 'BE000003', 'BE000002', 'CA000008', 'CA000009', 'CA000010', 'CA000021', 'CA000017', 'CA000019', 'CN000021', 'CN000012', 'CN000019', 'CR000002', 'DK000005', 'DK000002', 'FI000001', 'FI000005', 'FI000011', 'FI000012', 'FR000004', 'FR000007', 'FR000008', 'FR000012', 'FR000014', 'FR000016', 'FR000017', 'FR000020', 'FR000025', 'FR000029', 'FR000030', 'FR000033', 'DE000004', 'DE000005', 'DE000007', 'DE000013', 'DE000014', 'ID000001', 'IE000003', 'IT000009', 'IT000010', 'IT000011', 'JP000001', 'JP000009', 'JP000010', 'JP000016', 'JP000017', 'JP000018', 'JP000036', 'JP000020', 'JP000026', 'JP000028', 'JP000029', 'JP000032', 'JP000035', 'KZ000002', '730     ', 'MX000004', 'MX000009', 'MX000014', 'MN000001', 'NL000014', 'NL000015', 'NL000009', 'NL000011', 'PH000002', 'PH000001', 'PL000001', 'SG000004', 'ES000018', 'ES000006', 'ES000008', 'ES000010', 'ES000011', 'ES000012', 'ES000013', 'SE000002', 'SE000004', 'SE000012', 'CH000001', 'CH000006', 'TW000001', 'TW000002', 'TW000009', 'TW000005', 'TW000007', 'TH000002', 'TH000003', 'TR000002', 'TR000001', 'GB000027', 'GB000031', 'GB000037', 'GB000001', 'GB000028', 'GB000002', 'GB000003', 'GB000004', 'GB000038', 'GB000039', 'GB000030', 'GB000007', 'GB000008', 'GB000011', 'GB000014', 'GB000016', 'GB000020', 'US000001', 'US000002', 'US000303', 'US000004', 'US000011', 'US000282', 'US000018', 'US000029', 'US000301', 'US000043', 'US000044', 'US000045', 'US000047', 'US000048', 'US000293', 'US000049', 'US000050', 'US000053', 'US000056', 'US000024', 'US000025', 'US000026', 'US000021', 'US000036', 'US000032', 'US000033', 'US000057', 'US000400', 'US000063', 'US000064', 'US000065', 'US000068', 'US000075', 'US000082', 'US000084', 'US000088', 'US000093', 'US000097', 'US000099', 'US000100', 'US000102', 'US000106', 'US000112', 'US000113', 'US000120', 'US000124', 'US000126', 'US000129', 'US000281', 'US000133', 'US000134', 'US000157', 'US000161', 'US000162', 'US000165', 'US000166', 'US000167', 'US000280', 'US000183', 'US000187', 'US000203', 'US000208', 'US000210', 'US000286', 'US000213', 'US000218', 'US000219', 'US000220', 'US000221', 'US000226', 'US000227', 'US000228', 'US000287', 'US000236', 'US000238', 'US000243', 'US000245', 'US000254', 'US000292', 'US000255', 'US000258', 'US000263', 'US000265', 'US000267', 'US000268', 'US000274', 'US000278']"
   ]
  },
  {
   "cell_type": "code",
   "execution_count": null,
   "metadata": {},
   "outputs": [],
   "source": [
    "# 주변, 시내, 이기, 시설, 이용, 거리, 음식점, 가다, 나가다, 마트, 레스토랑, 지역\n",
    "# 걸다 -> 걷다"
   ]
  }
 ]
}